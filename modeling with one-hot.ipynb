{
 "cells": [
  {
   "cell_type": "markdown",
   "metadata": {},
   "source": [
    "# Imports"
   ]
  },
  {
   "cell_type": "code",
   "execution_count": 1,
   "metadata": {},
   "outputs": [],
   "source": [
    "from statsmodels.regression.linear_model import OLS\n",
    "import statsmodels.api as sm\n",
    "import pandas as pd\n",
    "import os \n",
    "import numpy as np\n",
    "from scipy import stats\n",
    "import matplotlib.pyplot as plt\n",
    "from sklearn.model_selection import train_test_split\n",
    "from sklearn.preprocessing import MinMaxScaler,StandardScaler"
   ]
  },
  {
   "cell_type": "markdown",
   "metadata": {},
   "source": [
    "#### Function for Linear Regression"
   ]
  },
  {
   "cell_type": "code",
   "execution_count": 2,
   "metadata": {},
   "outputs": [],
   "source": [
    "def linear_regression(y_train,x_train):\n",
    "    return sm.OLS(y_train,x_train).fit()"
   ]
  },
  {
   "cell_type": "markdown",
   "metadata": {},
   "source": [
    "#### Function for obtaining x_train, x_test, y_train, y_test By splitting 'Independent' variable and 'Target' variable"
   ]
  },
  {
   "cell_type": "code",
   "execution_count": 3,
   "metadata": {},
   "outputs": [],
   "source": [
    "def train_test(independent, target):\n",
    "    # Keeping test_size = 0.10 and random_state = 123\n",
    "    return train_test_split(independent,target, test_size=0.10, random_state=123)"
   ]
  },
  {
   "cell_type": "markdown",
   "metadata": {},
   "source": [
    "#### Function for splitting 'Data' into 'Independent' variable and 'Target' variable"
   ]
  },
  {
   "cell_type": "code",
   "execution_count": 4,
   "metadata": {},
   "outputs": [],
   "source": [
    "def ind_and_target(df,dependent):\n",
    "    independent = df.drop(dependent,axis=1)\n",
    "    target = df[dependent]\n",
    "    return (independent,target)"
   ]
  },
  {
   "cell_type": "code",
   "execution_count": 5,
   "metadata": {},
   "outputs": [],
   "source": [
    "def runner(df):\n",
    "    independent,target=ind_and_target(df,'claim')\n",
    "    x_train, x_test, y_train, y_test=train_test(independent, target)\n",
    "    return linear_regression(y_train,x_train)"
   ]
  },
  {
   "cell_type": "markdown",
   "metadata": {},
   "source": [
    "#### Function for Normalization"
   ]
  },
  {
   "cell_type": "code",
   "execution_count": 6,
   "metadata": {},
   "outputs": [],
   "source": [
    "def normalization_fun(df_num):\n",
    "    return pd.DataFrame(MinMaxScaler().fit_transform(df_num.values), columns=df_num.columns, index=df_num.index)"
   ]
  },
  {
   "cell_type": "markdown",
   "metadata": {},
   "source": [
    "#### Function for Standardization"
   ]
  },
  {
   "cell_type": "code",
   "execution_count": 7,
   "metadata": {},
   "outputs": [],
   "source": [
    "def standardization_fun(df_num):\n",
    "    return pd.DataFrame(StandardScaler().fit_transform(df_num.values), columns=df_num.columns, index=df_num.index)"
   ]
  },
  {
   "cell_type": "markdown",
   "metadata": {},
   "source": [
    "### FullModel without scaling"
   ]
  },
  {
   "cell_type": "code",
   "execution_count": 8,
   "metadata": {},
   "outputs": [],
   "source": [
    "df = pd.read_csv(\"insurance.csv\")"
   ]
  },
  {
   "cell_type": "code",
   "execution_count": 9,
   "metadata": {},
   "outputs": [],
   "source": [
    "df_cat = df.select_dtypes(include='object')\n",
    "df_num = df.select_dtypes(exclude='object')"
   ]
  },
  {
   "cell_type": "code",
   "execution_count": 10,
   "metadata": {},
   "outputs": [],
   "source": [
    "# Encoding the Categorical data using N-1 dummy encoding\n",
    "df_cat_encoded=pd.get_dummies(df_cat,drop_first=True)"
   ]
  },
  {
   "cell_type": "code",
   "execution_count": 11,
   "metadata": {},
   "outputs": [],
   "source": [
    "# Merging the encoded data and numerical data\n",
    "df_merged = pd.concat([df_num,df_cat_encoded],axis=1)"
   ]
  },
  {
   "cell_type": "code",
   "execution_count": 12,
   "metadata": {},
   "outputs": [],
   "source": [
    "df_merged=sm.add_constant(df_merged)"
   ]
  },
  {
   "cell_type": "code",
   "execution_count": 13,
   "metadata": {},
   "outputs": [],
   "source": [
    "# Calling the runner function and getting the model as return.\n",
    "model = runner(df_merged)"
   ]
  },
  {
   "cell_type": "code",
   "execution_count": 14,
   "metadata": {},
   "outputs": [
    {
     "data": {
      "text/html": [
       "<table class=\"simpletable\">\n",
       "<caption>OLS Regression Results</caption>\n",
       "<tr>\n",
       "  <th>Dep. Variable:</th>          <td>claim</td>      <th>  R-squared:         </th> <td>   0.748</td> \n",
       "</tr>\n",
       "<tr>\n",
       "  <th>Model:</th>                   <td>OLS</td>       <th>  Adj. R-squared:    </th> <td>   0.746</td> \n",
       "</tr>\n",
       "<tr>\n",
       "  <th>Method:</th>             <td>Least Squares</td>  <th>  F-statistic:       </th> <td>   353.5</td> \n",
       "</tr>\n",
       "<tr>\n",
       "  <th>Date:</th>             <td>Tue, 19 Jan 2021</td> <th>  Prob (F-statistic):</th>  <td>  0.00</td>  \n",
       "</tr>\n",
       "<tr>\n",
       "  <th>Time:</th>                 <td>15:41:33</td>     <th>  Log-Likelihood:    </th> <td> -12189.</td> \n",
       "</tr>\n",
       "<tr>\n",
       "  <th>No. Observations:</th>      <td>  1204</td>      <th>  AIC:               </th> <td>2.440e+04</td>\n",
       "</tr>\n",
       "<tr>\n",
       "  <th>Df Residuals:</th>          <td>  1193</td>      <th>  BIC:               </th> <td>2.446e+04</td>\n",
       "</tr>\n",
       "<tr>\n",
       "  <th>Df Model:</th>              <td>    10</td>      <th>                     </th>     <td> </td>    \n",
       "</tr>\n",
       "<tr>\n",
       "  <th>Covariance Type:</th>      <td>nonrobust</td>    <th>                     </th>     <td> </td>    \n",
       "</tr>\n",
       "</table>\n",
       "<table class=\"simpletable\">\n",
       "<tr>\n",
       "          <td></td>            <th>coef</th>     <th>std err</th>      <th>t</th>      <th>P>|t|</th>  <th>[0.025</th>    <th>0.975]</th>  \n",
       "</tr>\n",
       "<tr>\n",
       "  <th>const</th>            <td>-1.259e+04</td> <td> 1581.370</td> <td>   -7.960</td> <td> 0.000</td> <td>-1.57e+04</td> <td>-9484.619</td>\n",
       "</tr>\n",
       "<tr>\n",
       "  <th>age</th>              <td>  260.0316</td> <td>   12.567</td> <td>   20.691</td> <td> 0.000</td> <td>  235.375</td> <td>  284.688</td>\n",
       "</tr>\n",
       "<tr>\n",
       "  <th>bmi</th>              <td>  338.4297</td> <td>   30.701</td> <td>   11.023</td> <td> 0.000</td> <td>  278.196</td> <td>  398.664</td>\n",
       "</tr>\n",
       "<tr>\n",
       "  <th>bloodpressure</th>    <td>    6.3434</td> <td>    9.997</td> <td>    0.635</td> <td> 0.526</td> <td>  -13.270</td> <td>   25.957</td>\n",
       "</tr>\n",
       "<tr>\n",
       "  <th>children</th>         <td>  475.6105</td> <td>  144.592</td> <td>    3.289</td> <td> 0.001</td> <td>  191.927</td> <td>  759.294</td>\n",
       "</tr>\n",
       "<tr>\n",
       "  <th>gender_male</th>      <td>  -98.6054</td> <td>  351.853</td> <td>   -0.280</td> <td> 0.779</td> <td> -788.925</td> <td>  591.715</td>\n",
       "</tr>\n",
       "<tr>\n",
       "  <th>diabetic_Yes</th>     <td> -252.3240</td> <td>  351.365</td> <td>   -0.718</td> <td> 0.473</td> <td> -941.687</td> <td>  437.039</td>\n",
       "</tr>\n",
       "<tr>\n",
       "  <th>smoker_Yes</th>       <td> 2.363e+04</td> <td>  437.267</td> <td>   54.046</td> <td> 0.000</td> <td> 2.28e+04</td> <td> 2.45e+04</td>\n",
       "</tr>\n",
       "<tr>\n",
       "  <th>region_northwest</th> <td> -469.6572</td> <td>  502.294</td> <td>   -0.935</td> <td> 0.350</td> <td>-1455.136</td> <td>  515.821</td>\n",
       "</tr>\n",
       "<tr>\n",
       "  <th>region_southeast</th> <td>-1075.6230</td> <td>  508.802</td> <td>   -2.114</td> <td> 0.035</td> <td>-2073.869</td> <td>  -77.377</td>\n",
       "</tr>\n",
       "<tr>\n",
       "  <th>region_southwest</th> <td>-1035.5232</td> <td>  508.645</td> <td>   -2.036</td> <td> 0.042</td> <td>-2033.461</td> <td>  -37.586</td>\n",
       "</tr>\n",
       "</table>\n",
       "<table class=\"simpletable\">\n",
       "<tr>\n",
       "  <th>Omnibus:</th>       <td>283.928</td> <th>  Durbin-Watson:     </th> <td>   1.927</td> \n",
       "</tr>\n",
       "<tr>\n",
       "  <th>Prob(Omnibus):</th> <td> 0.000</td>  <th>  Jarque-Bera (JB):  </th> <td> 690.078</td> \n",
       "</tr>\n",
       "<tr>\n",
       "  <th>Skew:</th>          <td> 1.259</td>  <th>  Prob(JB):          </th> <td>1.42e-150</td>\n",
       "</tr>\n",
       "<tr>\n",
       "  <th>Kurtosis:</th>      <td> 5.722</td>  <th>  Cond. No.          </th> <td>1.10e+03</td> \n",
       "</tr>\n",
       "</table><br/><br/>Notes:<br/>[1] Standard Errors assume that the covariance matrix of the errors is correctly specified.<br/>[2] The condition number is large, 1.1e+03. This might indicate that there are<br/>strong multicollinearity or other numerical problems."
      ],
      "text/plain": [
       "<class 'statsmodels.iolib.summary.Summary'>\n",
       "\"\"\"\n",
       "                            OLS Regression Results                            \n",
       "==============================================================================\n",
       "Dep. Variable:                  claim   R-squared:                       0.748\n",
       "Model:                            OLS   Adj. R-squared:                  0.746\n",
       "Method:                 Least Squares   F-statistic:                     353.5\n",
       "Date:                Tue, 19 Jan 2021   Prob (F-statistic):               0.00\n",
       "Time:                        15:41:33   Log-Likelihood:                -12189.\n",
       "No. Observations:                1204   AIC:                         2.440e+04\n",
       "Df Residuals:                    1193   BIC:                         2.446e+04\n",
       "Df Model:                          10                                         \n",
       "Covariance Type:            nonrobust                                         \n",
       "====================================================================================\n",
       "                       coef    std err          t      P>|t|      [0.025      0.975]\n",
       "------------------------------------------------------------------------------------\n",
       "const            -1.259e+04   1581.370     -7.960      0.000   -1.57e+04   -9484.619\n",
       "age                260.0316     12.567     20.691      0.000     235.375     284.688\n",
       "bmi                338.4297     30.701     11.023      0.000     278.196     398.664\n",
       "bloodpressure        6.3434      9.997      0.635      0.526     -13.270      25.957\n",
       "children           475.6105    144.592      3.289      0.001     191.927     759.294\n",
       "gender_male        -98.6054    351.853     -0.280      0.779    -788.925     591.715\n",
       "diabetic_Yes      -252.3240    351.365     -0.718      0.473    -941.687     437.039\n",
       "smoker_Yes        2.363e+04    437.267     54.046      0.000    2.28e+04    2.45e+04\n",
       "region_northwest  -469.6572    502.294     -0.935      0.350   -1455.136     515.821\n",
       "region_southeast -1075.6230    508.802     -2.114      0.035   -2073.869     -77.377\n",
       "region_southwest -1035.5232    508.645     -2.036      0.042   -2033.461     -37.586\n",
       "==============================================================================\n",
       "Omnibus:                      283.928   Durbin-Watson:                   1.927\n",
       "Prob(Omnibus):                  0.000   Jarque-Bera (JB):              690.078\n",
       "Skew:                           1.259   Prob(JB):                    1.42e-150\n",
       "Kurtosis:                       5.722   Cond. No.                     1.10e+03\n",
       "==============================================================================\n",
       "\n",
       "Notes:\n",
       "[1] Standard Errors assume that the covariance matrix of the errors is correctly specified.\n",
       "[2] The condition number is large, 1.1e+03. This might indicate that there are\n",
       "strong multicollinearity or other numerical problems.\n",
       "\"\"\""
      ]
     },
     "execution_count": 14,
     "metadata": {},
     "output_type": "execute_result"
    }
   ],
   "source": [
    "model.summary()"
   ]
  },
  {
   "cell_type": "code",
   "execution_count": null,
   "metadata": {},
   "outputs": [],
   "source": []
  },
  {
   "cell_type": "markdown",
   "metadata": {},
   "source": [
    "### FullModel with Normalization"
   ]
  },
  {
   "cell_type": "code",
   "execution_count": 15,
   "metadata": {},
   "outputs": [],
   "source": [
    "df = pd.read_csv(\"insurance.csv\")"
   ]
  },
  {
   "cell_type": "code",
   "execution_count": 16,
   "metadata": {},
   "outputs": [],
   "source": [
    "df_cat = df.select_dtypes(include='object')\n",
    "df_num = df.select_dtypes(exclude='object')"
   ]
  },
  {
   "cell_type": "code",
   "execution_count": 17,
   "metadata": {},
   "outputs": [],
   "source": [
    "# Encoding the Categorical data using N-1 dummy encoding\n",
    "df_cat_encoded=pd.get_dummies(df_cat,drop_first=True)"
   ]
  },
  {
   "cell_type": "code",
   "execution_count": 18,
   "metadata": {},
   "outputs": [],
   "source": [
    "# Scaling numerical data using Normaliztion or Min_Max Scaling\n",
    "df_num_normalized = normalization_fun(df_num)"
   ]
  },
  {
   "cell_type": "code",
   "execution_count": 19,
   "metadata": {},
   "outputs": [
    {
     "name": "stdout",
     "output_type": "stream",
     "text": [
      "           age       bmi  bloodpressure  children     claim\n",
      "0     0.021739  0.320755       0.450000       0.0  0.251611\n",
      "1     0.000000  0.479784       0.883333       0.2  0.009636\n",
      "2     0.217391  0.458221       0.133333       0.6  0.053115\n",
      "3     0.326087  0.180593       0.650000       0.0  0.333010\n",
      "4     0.304348  0.347709       0.183333       0.0  0.043816\n",
      "...        ...       ...            ...       ...       ...\n",
      "1333  0.695652  0.404313       0.300000       0.6  0.151299\n",
      "1334  0.000000  0.428571       0.966667       0.0  0.017305\n",
      "1335  0.000000  0.563342       0.566667       0.0  0.008108\n",
      "1336  0.065217  0.264151       0.683333       0.0  0.014144\n",
      "1337  0.934783  0.353100       0.983333       0.0  0.447249\n",
      "\n",
      "[1338 rows x 5 columns]\n"
     ]
    }
   ],
   "source": [
    "print(df_num_normalized)"
   ]
  },
  {
   "cell_type": "code",
   "execution_count": 20,
   "metadata": {},
   "outputs": [],
   "source": [
    "# Merging the encoded data and normalized numerical data\n",
    "df_merged = pd.concat([df_num_normalized,df_cat_encoded],axis=1)"
   ]
  },
  {
   "cell_type": "code",
   "execution_count": 21,
   "metadata": {},
   "outputs": [],
   "source": [
    "# Adding beta 0 value as constant\n",
    "df_merged=sm.add_constant(df_merged)"
   ]
  },
  {
   "cell_type": "code",
   "execution_count": 22,
   "metadata": {},
   "outputs": [],
   "source": [
    "# Calling the runner function and getting the model as return.\n",
    "model = runner(df_merged)"
   ]
  },
  {
   "cell_type": "code",
   "execution_count": 23,
   "metadata": {},
   "outputs": [
    {
     "data": {
      "text/html": [
       "<table class=\"simpletable\">\n",
       "<caption>OLS Regression Results</caption>\n",
       "<tr>\n",
       "  <th>Dep. Variable:</th>          <td>claim</td>      <th>  R-squared:         </th> <td>   0.748</td>\n",
       "</tr>\n",
       "<tr>\n",
       "  <th>Model:</th>                   <td>OLS</td>       <th>  Adj. R-squared:    </th> <td>   0.746</td>\n",
       "</tr>\n",
       "<tr>\n",
       "  <th>Method:</th>             <td>Least Squares</td>  <th>  F-statistic:       </th> <td>   353.5</td>\n",
       "</tr>\n",
       "<tr>\n",
       "  <th>Date:</th>             <td>Tue, 19 Jan 2021</td> <th>  Prob (F-statistic):</th>  <td>  0.00</td> \n",
       "</tr>\n",
       "<tr>\n",
       "  <th>Time:</th>                 <td>15:41:38</td>     <th>  Log-Likelihood:    </th> <td>  1109.2</td>\n",
       "</tr>\n",
       "<tr>\n",
       "  <th>No. Observations:</th>      <td>  1204</td>      <th>  AIC:               </th> <td>  -2196.</td>\n",
       "</tr>\n",
       "<tr>\n",
       "  <th>Df Residuals:</th>          <td>  1193</td>      <th>  BIC:               </th> <td>  -2140.</td>\n",
       "</tr>\n",
       "<tr>\n",
       "  <th>Df Model:</th>              <td>    10</td>      <th>                     </th>     <td> </td>   \n",
       "</tr>\n",
       "<tr>\n",
       "  <th>Covariance Type:</th>      <td>nonrobust</td>    <th>                     </th>     <td> </td>   \n",
       "</tr>\n",
       "</table>\n",
       "<table class=\"simpletable\">\n",
       "<tr>\n",
       "          <td></td>            <th>coef</th>     <th>std err</th>      <th>t</th>      <th>P>|t|</th>  <th>[0.025</th>    <th>0.975]</th>  \n",
       "</tr>\n",
       "<tr>\n",
       "  <th>const</th>            <td>   -0.0496</td> <td>    0.012</td> <td>   -4.226</td> <td> 0.000</td> <td>   -0.073</td> <td>   -0.027</td>\n",
       "</tr>\n",
       "<tr>\n",
       "  <th>age</th>              <td>    0.1909</td> <td>    0.009</td> <td>   20.691</td> <td> 0.000</td> <td>    0.173</td> <td>    0.209</td>\n",
       "</tr>\n",
       "<tr>\n",
       "  <th>bmi</th>              <td>    0.2004</td> <td>    0.018</td> <td>   11.023</td> <td> 0.000</td> <td>    0.165</td> <td>    0.236</td>\n",
       "</tr>\n",
       "<tr>\n",
       "  <th>bloodpressure</th>    <td>    0.0061</td> <td>    0.010</td> <td>    0.635</td> <td> 0.526</td> <td>   -0.013</td> <td>    0.025</td>\n",
       "</tr>\n",
       "<tr>\n",
       "  <th>children</th>         <td>    0.0380</td> <td>    0.012</td> <td>    3.289</td> <td> 0.001</td> <td>    0.015</td> <td>    0.061</td>\n",
       "</tr>\n",
       "<tr>\n",
       "  <th>gender_male</th>      <td>   -0.0016</td> <td>    0.006</td> <td>   -0.280</td> <td> 0.779</td> <td>   -0.013</td> <td>    0.009</td>\n",
       "</tr>\n",
       "<tr>\n",
       "  <th>diabetic_Yes</th>     <td>   -0.0040</td> <td>    0.006</td> <td>   -0.718</td> <td> 0.473</td> <td>   -0.015</td> <td>    0.007</td>\n",
       "</tr>\n",
       "<tr>\n",
       "  <th>smoker_Yes</th>       <td>    0.3772</td> <td>    0.007</td> <td>   54.046</td> <td> 0.000</td> <td>    0.364</td> <td>    0.391</td>\n",
       "</tr>\n",
       "<tr>\n",
       "  <th>region_northwest</th> <td>   -0.0075</td> <td>    0.008</td> <td>   -0.935</td> <td> 0.350</td> <td>   -0.023</td> <td>    0.008</td>\n",
       "</tr>\n",
       "<tr>\n",
       "  <th>region_southeast</th> <td>   -0.0172</td> <td>    0.008</td> <td>   -2.114</td> <td> 0.035</td> <td>   -0.033</td> <td>   -0.001</td>\n",
       "</tr>\n",
       "<tr>\n",
       "  <th>region_southwest</th> <td>   -0.0165</td> <td>    0.008</td> <td>   -2.036</td> <td> 0.042</td> <td>   -0.032</td> <td>   -0.001</td>\n",
       "</tr>\n",
       "</table>\n",
       "<table class=\"simpletable\">\n",
       "<tr>\n",
       "  <th>Omnibus:</th>       <td>283.928</td> <th>  Durbin-Watson:     </th> <td>   1.927</td> \n",
       "</tr>\n",
       "<tr>\n",
       "  <th>Prob(Omnibus):</th> <td> 0.000</td>  <th>  Jarque-Bera (JB):  </th> <td> 690.078</td> \n",
       "</tr>\n",
       "<tr>\n",
       "  <th>Skew:</th>          <td> 1.259</td>  <th>  Prob(JB):          </th> <td>1.42e-150</td>\n",
       "</tr>\n",
       "<tr>\n",
       "  <th>Kurtosis:</th>      <td> 5.722</td>  <th>  Cond. No.          </th> <td>    11.0</td> \n",
       "</tr>\n",
       "</table><br/><br/>Notes:<br/>[1] Standard Errors assume that the covariance matrix of the errors is correctly specified."
      ],
      "text/plain": [
       "<class 'statsmodels.iolib.summary.Summary'>\n",
       "\"\"\"\n",
       "                            OLS Regression Results                            \n",
       "==============================================================================\n",
       "Dep. Variable:                  claim   R-squared:                       0.748\n",
       "Model:                            OLS   Adj. R-squared:                  0.746\n",
       "Method:                 Least Squares   F-statistic:                     353.5\n",
       "Date:                Tue, 19 Jan 2021   Prob (F-statistic):               0.00\n",
       "Time:                        15:41:38   Log-Likelihood:                 1109.2\n",
       "No. Observations:                1204   AIC:                            -2196.\n",
       "Df Residuals:                    1193   BIC:                            -2140.\n",
       "Df Model:                          10                                         \n",
       "Covariance Type:            nonrobust                                         \n",
       "====================================================================================\n",
       "                       coef    std err          t      P>|t|      [0.025      0.975]\n",
       "------------------------------------------------------------------------------------\n",
       "const               -0.0496      0.012     -4.226      0.000      -0.073      -0.027\n",
       "age                  0.1909      0.009     20.691      0.000       0.173       0.209\n",
       "bmi                  0.2004      0.018     11.023      0.000       0.165       0.236\n",
       "bloodpressure        0.0061      0.010      0.635      0.526      -0.013       0.025\n",
       "children             0.0380      0.012      3.289      0.001       0.015       0.061\n",
       "gender_male         -0.0016      0.006     -0.280      0.779      -0.013       0.009\n",
       "diabetic_Yes        -0.0040      0.006     -0.718      0.473      -0.015       0.007\n",
       "smoker_Yes           0.3772      0.007     54.046      0.000       0.364       0.391\n",
       "region_northwest    -0.0075      0.008     -0.935      0.350      -0.023       0.008\n",
       "region_southeast    -0.0172      0.008     -2.114      0.035      -0.033      -0.001\n",
       "region_southwest    -0.0165      0.008     -2.036      0.042      -0.032      -0.001\n",
       "==============================================================================\n",
       "Omnibus:                      283.928   Durbin-Watson:                   1.927\n",
       "Prob(Omnibus):                  0.000   Jarque-Bera (JB):              690.078\n",
       "Skew:                           1.259   Prob(JB):                    1.42e-150\n",
       "Kurtosis:                       5.722   Cond. No.                         11.0\n",
       "==============================================================================\n",
       "\n",
       "Notes:\n",
       "[1] Standard Errors assume that the covariance matrix of the errors is correctly specified.\n",
       "\"\"\""
      ]
     },
     "execution_count": 23,
     "metadata": {},
     "output_type": "execute_result"
    }
   ],
   "source": [
    "model.summary()"
   ]
  },
  {
   "cell_type": "code",
   "execution_count": null,
   "metadata": {},
   "outputs": [],
   "source": []
  },
  {
   "cell_type": "markdown",
   "metadata": {},
   "source": [
    "### FullModel with Standardization"
   ]
  },
  {
   "cell_type": "code",
   "execution_count": 24,
   "metadata": {},
   "outputs": [],
   "source": [
    "df = pd.read_csv(\"insurance.csv\")"
   ]
  },
  {
   "cell_type": "code",
   "execution_count": 25,
   "metadata": {},
   "outputs": [],
   "source": [
    "df_cat = df.select_dtypes(include='object')\n",
    "df_num = df.select_dtypes(exclude='object')"
   ]
  },
  {
   "cell_type": "code",
   "execution_count": 26,
   "metadata": {},
   "outputs": [],
   "source": [
    "# Encoding the Categorical data using N-1 dummy encoding\n",
    "df_cat_encoded=pd.get_dummies(df_cat,drop_first=True)"
   ]
  },
  {
   "cell_type": "code",
   "execution_count": 27,
   "metadata": {},
   "outputs": [],
   "source": [
    "# Scaling numerical data using Standardization or z-score scaling\n",
    "df_num_standardized = standardization_fun(df_num)"
   ]
  },
  {
   "cell_type": "code",
   "execution_count": 28,
   "metadata": {},
   "outputs": [
    {
     "name": "stdout",
     "output_type": "stream",
     "text": [
      "           age       bmi  bloodpressure  children     claim\n",
      "0    -1.438764 -0.453646      -0.136906 -0.908614  0.298583\n",
      "1    -1.509965  0.514186       1.347719 -0.078767 -0.953689\n",
      "2    -0.797954  0.382954      -1.221823  1.580926 -0.728675\n",
      "3    -0.441948 -1.306650       0.548305 -0.908614  0.719843\n",
      "4    -0.513149 -0.289606      -1.050521 -0.908614 -0.776802\n",
      "...        ...       ...            ...       ...       ...\n",
      "1333  0.768473  0.054876      -0.650814  1.580926 -0.220551\n",
      "1334 -1.509965  0.202511       1.633223 -0.908614 -0.914002\n",
      "1335 -1.509965  1.022707       0.262801 -0.908614 -0.961597\n",
      "1336 -1.296362 -0.798128       0.662507 -0.908614 -0.930361\n",
      "1337  1.551686 -0.256799       1.690324 -0.908614  1.311053\n",
      "\n",
      "[1338 rows x 5 columns]\n"
     ]
    }
   ],
   "source": [
    "print(df_num_standardized)"
   ]
  },
  {
   "cell_type": "code",
   "execution_count": 29,
   "metadata": {},
   "outputs": [],
   "source": [
    "# Merging the encoded data and standardized numerical data\n",
    "df_merged = pd.concat([df_num_standardized,df_cat_encoded],axis=1)"
   ]
  },
  {
   "cell_type": "code",
   "execution_count": 30,
   "metadata": {},
   "outputs": [],
   "source": [
    "# Adding beta 0 value as constant\n",
    "df_merged=sm.add_constant(df_merged)"
   ]
  },
  {
   "cell_type": "code",
   "execution_count": 31,
   "metadata": {},
   "outputs": [],
   "source": [
    "# Calling the runner function and getting the model as return.\n",
    "model = runner(df_merged)"
   ]
  },
  {
   "cell_type": "code",
   "execution_count": 32,
   "metadata": {},
   "outputs": [
    {
     "data": {
      "text/html": [
       "<table class=\"simpletable\">\n",
       "<caption>OLS Regression Results</caption>\n",
       "<tr>\n",
       "  <th>Dep. Variable:</th>          <td>claim</td>      <th>  R-squared:         </th> <td>   0.748</td>\n",
       "</tr>\n",
       "<tr>\n",
       "  <th>Model:</th>                   <td>OLS</td>       <th>  Adj. R-squared:    </th> <td>   0.746</td>\n",
       "</tr>\n",
       "<tr>\n",
       "  <th>Method:</th>             <td>Least Squares</td>  <th>  F-statistic:       </th> <td>   353.5</td>\n",
       "</tr>\n",
       "<tr>\n",
       "  <th>Date:</th>             <td>Tue, 19 Jan 2021</td> <th>  Prob (F-statistic):</th>  <td>  0.00</td> \n",
       "</tr>\n",
       "<tr>\n",
       "  <th>Time:</th>                 <td>15:41:38</td>     <th>  Log-Likelihood:    </th> <td> -870.00</td>\n",
       "</tr>\n",
       "<tr>\n",
       "  <th>No. Observations:</th>      <td>  1204</td>      <th>  AIC:               </th> <td>   1762.</td>\n",
       "</tr>\n",
       "<tr>\n",
       "  <th>Df Residuals:</th>          <td>  1193</td>      <th>  BIC:               </th> <td>   1818.</td>\n",
       "</tr>\n",
       "<tr>\n",
       "  <th>Df Model:</th>              <td>    10</td>      <th>                     </th>     <td> </td>   \n",
       "</tr>\n",
       "<tr>\n",
       "  <th>Covariance Type:</th>      <td>nonrobust</td>    <th>                     </th>     <td> </td>   \n",
       "</tr>\n",
       "</table>\n",
       "<table class=\"simpletable\">\n",
       "<tr>\n",
       "          <td></td>            <th>coef</th>     <th>std err</th>      <th>t</th>      <th>P>|t|</th>  <th>[0.025</th>    <th>0.975]</th>  \n",
       "</tr>\n",
       "<tr>\n",
       "  <th>const</th>            <td>   -0.3362</td> <td>    0.037</td> <td>   -9.080</td> <td> 0.000</td> <td>   -0.409</td> <td>   -0.264</td>\n",
       "</tr>\n",
       "<tr>\n",
       "  <th>age</th>              <td>    0.3017</td> <td>    0.015</td> <td>   20.691</td> <td> 0.000</td> <td>    0.273</td> <td>    0.330</td>\n",
       "</tr>\n",
       "<tr>\n",
       "  <th>bmi</th>              <td>    0.1704</td> <td>    0.015</td> <td>   11.023</td> <td> 0.000</td> <td>    0.140</td> <td>    0.201</td>\n",
       "</tr>\n",
       "<tr>\n",
       "  <th>bloodpressure</th>    <td>    0.0092</td> <td>    0.014</td> <td>    0.635</td> <td> 0.526</td> <td>   -0.019</td> <td>    0.038</td>\n",
       "</tr>\n",
       "<tr>\n",
       "  <th>children</th>         <td>    0.0473</td> <td>    0.014</td> <td>    3.289</td> <td> 0.001</td> <td>    0.019</td> <td>    0.076</td>\n",
       "</tr>\n",
       "<tr>\n",
       "  <th>gender_male</th>      <td>   -0.0081</td> <td>    0.029</td> <td>   -0.280</td> <td> 0.779</td> <td>   -0.065</td> <td>    0.049</td>\n",
       "</tr>\n",
       "<tr>\n",
       "  <th>diabetic_Yes</th>     <td>   -0.0208</td> <td>    0.029</td> <td>   -0.718</td> <td> 0.473</td> <td>   -0.078</td> <td>    0.036</td>\n",
       "</tr>\n",
       "<tr>\n",
       "  <th>smoker_Yes</th>       <td>    1.9522</td> <td>    0.036</td> <td>   54.046</td> <td> 0.000</td> <td>    1.881</td> <td>    2.023</td>\n",
       "</tr>\n",
       "<tr>\n",
       "  <th>region_northwest</th> <td>   -0.0388</td> <td>    0.041</td> <td>   -0.935</td> <td> 0.350</td> <td>   -0.120</td> <td>    0.043</td>\n",
       "</tr>\n",
       "<tr>\n",
       "  <th>region_southeast</th> <td>   -0.0889</td> <td>    0.042</td> <td>   -2.114</td> <td> 0.035</td> <td>   -0.171</td> <td>   -0.006</td>\n",
       "</tr>\n",
       "<tr>\n",
       "  <th>region_southwest</th> <td>   -0.0855</td> <td>    0.042</td> <td>   -2.036</td> <td> 0.042</td> <td>   -0.168</td> <td>   -0.003</td>\n",
       "</tr>\n",
       "</table>\n",
       "<table class=\"simpletable\">\n",
       "<tr>\n",
       "  <th>Omnibus:</th>       <td>283.928</td> <th>  Durbin-Watson:     </th> <td>   1.927</td> \n",
       "</tr>\n",
       "<tr>\n",
       "  <th>Prob(Omnibus):</th> <td> 0.000</td>  <th>  Jarque-Bera (JB):  </th> <td> 690.078</td> \n",
       "</tr>\n",
       "<tr>\n",
       "  <th>Skew:</th>          <td> 1.259</td>  <th>  Prob(JB):          </th> <td>1.42e-150</td>\n",
       "</tr>\n",
       "<tr>\n",
       "  <th>Kurtosis:</th>      <td> 5.722</td>  <th>  Cond. No.          </th> <td>    6.20</td> \n",
       "</tr>\n",
       "</table><br/><br/>Notes:<br/>[1] Standard Errors assume that the covariance matrix of the errors is correctly specified."
      ],
      "text/plain": [
       "<class 'statsmodels.iolib.summary.Summary'>\n",
       "\"\"\"\n",
       "                            OLS Regression Results                            \n",
       "==============================================================================\n",
       "Dep. Variable:                  claim   R-squared:                       0.748\n",
       "Model:                            OLS   Adj. R-squared:                  0.746\n",
       "Method:                 Least Squares   F-statistic:                     353.5\n",
       "Date:                Tue, 19 Jan 2021   Prob (F-statistic):               0.00\n",
       "Time:                        15:41:38   Log-Likelihood:                -870.00\n",
       "No. Observations:                1204   AIC:                             1762.\n",
       "Df Residuals:                    1193   BIC:                             1818.\n",
       "Df Model:                          10                                         \n",
       "Covariance Type:            nonrobust                                         \n",
       "====================================================================================\n",
       "                       coef    std err          t      P>|t|      [0.025      0.975]\n",
       "------------------------------------------------------------------------------------\n",
       "const               -0.3362      0.037     -9.080      0.000      -0.409      -0.264\n",
       "age                  0.3017      0.015     20.691      0.000       0.273       0.330\n",
       "bmi                  0.1704      0.015     11.023      0.000       0.140       0.201\n",
       "bloodpressure        0.0092      0.014      0.635      0.526      -0.019       0.038\n",
       "children             0.0473      0.014      3.289      0.001       0.019       0.076\n",
       "gender_male         -0.0081      0.029     -0.280      0.779      -0.065       0.049\n",
       "diabetic_Yes        -0.0208      0.029     -0.718      0.473      -0.078       0.036\n",
       "smoker_Yes           1.9522      0.036     54.046      0.000       1.881       2.023\n",
       "region_northwest    -0.0388      0.041     -0.935      0.350      -0.120       0.043\n",
       "region_southeast    -0.0889      0.042     -2.114      0.035      -0.171      -0.006\n",
       "region_southwest    -0.0855      0.042     -2.036      0.042      -0.168      -0.003\n",
       "==============================================================================\n",
       "Omnibus:                      283.928   Durbin-Watson:                   1.927\n",
       "Prob(Omnibus):                  0.000   Jarque-Bera (JB):              690.078\n",
       "Skew:                           1.259   Prob(JB):                    1.42e-150\n",
       "Kurtosis:                       5.722   Cond. No.                         6.20\n",
       "==============================================================================\n",
       "\n",
       "Notes:\n",
       "[1] Standard Errors assume that the covariance matrix of the errors is correctly specified.\n",
       "\"\"\""
      ]
     },
     "execution_count": 32,
     "metadata": {},
     "output_type": "execute_result"
    }
   ],
   "source": [
    "model.summary()"
   ]
  },
  {
   "cell_type": "code",
   "execution_count": null,
   "metadata": {},
   "outputs": [],
   "source": []
  },
  {
   "cell_type": "markdown",
   "metadata": {},
   "source": [
    "### Model with insignificant variable removed and without Scaling"
   ]
  },
  {
   "cell_type": "code",
   "execution_count": 33,
   "metadata": {},
   "outputs": [],
   "source": [
    "df = pd.read_csv(\"insurance.csv\")"
   ]
  },
  {
   "cell_type": "code",
   "execution_count": 34,
   "metadata": {},
   "outputs": [],
   "source": [
    "df_cat = df.select_dtypes(include='object')\n",
    "df_num = df.select_dtypes(exclude='object')"
   ]
  },
  {
   "cell_type": "code",
   "execution_count": 35,
   "metadata": {},
   "outputs": [],
   "source": [
    "# Encoding the Categorical data using N-1 dummy encoding\n",
    "df_cat_encoded=pd.get_dummies(df_cat,drop_first=True)"
   ]
  },
  {
   "cell_type": "code",
   "execution_count": 36,
   "metadata": {},
   "outputs": [],
   "source": [
    "# Merging the encoded data and numerical data\n",
    "df_merged = pd.concat([df_num,df_cat_encoded],axis=1)"
   ]
  },
  {
   "cell_type": "code",
   "execution_count": 37,
   "metadata": {},
   "outputs": [],
   "source": [
    "# Adding beta 0 value as constant\n",
    "df_merged=sm.add_constant(df_merged)"
   ]
  },
  {
   "cell_type": "code",
   "execution_count": 38,
   "metadata": {},
   "outputs": [
    {
     "data": {
      "text/html": [
       "<div>\n",
       "<style scoped>\n",
       "    .dataframe tbody tr th:only-of-type {\n",
       "        vertical-align: middle;\n",
       "    }\n",
       "\n",
       "    .dataframe tbody tr th {\n",
       "        vertical-align: top;\n",
       "    }\n",
       "\n",
       "    .dataframe thead th {\n",
       "        text-align: right;\n",
       "    }\n",
       "</style>\n",
       "<table border=\"1\" class=\"dataframe\">\n",
       "  <thead>\n",
       "    <tr style=\"text-align: right;\">\n",
       "      <th></th>\n",
       "      <th>const</th>\n",
       "      <th>age</th>\n",
       "      <th>bmi</th>\n",
       "      <th>bloodpressure</th>\n",
       "      <th>children</th>\n",
       "      <th>claim</th>\n",
       "      <th>gender_male</th>\n",
       "      <th>diabetic_Yes</th>\n",
       "      <th>smoker_Yes</th>\n",
       "      <th>region_northwest</th>\n",
       "      <th>region_southeast</th>\n",
       "      <th>region_southwest</th>\n",
       "    </tr>\n",
       "  </thead>\n",
       "  <tbody>\n",
       "    <tr>\n",
       "      <th>0</th>\n",
       "      <td>1.0</td>\n",
       "      <td>19</td>\n",
       "      <td>27.9</td>\n",
       "      <td>107</td>\n",
       "      <td>0</td>\n",
       "      <td>16884.92</td>\n",
       "      <td>0</td>\n",
       "      <td>0</td>\n",
       "      <td>1</td>\n",
       "      <td>0</td>\n",
       "      <td>0</td>\n",
       "      <td>1</td>\n",
       "    </tr>\n",
       "    <tr>\n",
       "      <th>1</th>\n",
       "      <td>1.0</td>\n",
       "      <td>18</td>\n",
       "      <td>33.8</td>\n",
       "      <td>133</td>\n",
       "      <td>1</td>\n",
       "      <td>1725.55</td>\n",
       "      <td>1</td>\n",
       "      <td>0</td>\n",
       "      <td>0</td>\n",
       "      <td>0</td>\n",
       "      <td>1</td>\n",
       "      <td>0</td>\n",
       "    </tr>\n",
       "    <tr>\n",
       "      <th>2</th>\n",
       "      <td>1.0</td>\n",
       "      <td>28</td>\n",
       "      <td>33.0</td>\n",
       "      <td>88</td>\n",
       "      <td>3</td>\n",
       "      <td>4449.46</td>\n",
       "      <td>1</td>\n",
       "      <td>1</td>\n",
       "      <td>0</td>\n",
       "      <td>0</td>\n",
       "      <td>1</td>\n",
       "      <td>0</td>\n",
       "    </tr>\n",
       "    <tr>\n",
       "      <th>3</th>\n",
       "      <td>1.0</td>\n",
       "      <td>33</td>\n",
       "      <td>22.7</td>\n",
       "      <td>119</td>\n",
       "      <td>0</td>\n",
       "      <td>21984.47</td>\n",
       "      <td>1</td>\n",
       "      <td>1</td>\n",
       "      <td>0</td>\n",
       "      <td>1</td>\n",
       "      <td>0</td>\n",
       "      <td>0</td>\n",
       "    </tr>\n",
       "    <tr>\n",
       "      <th>4</th>\n",
       "      <td>1.0</td>\n",
       "      <td>32</td>\n",
       "      <td>28.9</td>\n",
       "      <td>91</td>\n",
       "      <td>0</td>\n",
       "      <td>3866.86</td>\n",
       "      <td>1</td>\n",
       "      <td>0</td>\n",
       "      <td>0</td>\n",
       "      <td>1</td>\n",
       "      <td>0</td>\n",
       "      <td>0</td>\n",
       "    </tr>\n",
       "    <tr>\n",
       "      <th>...</th>\n",
       "      <td>...</td>\n",
       "      <td>...</td>\n",
       "      <td>...</td>\n",
       "      <td>...</td>\n",
       "      <td>...</td>\n",
       "      <td>...</td>\n",
       "      <td>...</td>\n",
       "      <td>...</td>\n",
       "      <td>...</td>\n",
       "      <td>...</td>\n",
       "      <td>...</td>\n",
       "      <td>...</td>\n",
       "    </tr>\n",
       "    <tr>\n",
       "      <th>1333</th>\n",
       "      <td>1.0</td>\n",
       "      <td>50</td>\n",
       "      <td>31.0</td>\n",
       "      <td>98</td>\n",
       "      <td>3</td>\n",
       "      <td>10600.55</td>\n",
       "      <td>1</td>\n",
       "      <td>0</td>\n",
       "      <td>0</td>\n",
       "      <td>1</td>\n",
       "      <td>0</td>\n",
       "      <td>0</td>\n",
       "    </tr>\n",
       "    <tr>\n",
       "      <th>1334</th>\n",
       "      <td>1.0</td>\n",
       "      <td>18</td>\n",
       "      <td>31.9</td>\n",
       "      <td>138</td>\n",
       "      <td>0</td>\n",
       "      <td>2205.98</td>\n",
       "      <td>0</td>\n",
       "      <td>0</td>\n",
       "      <td>0</td>\n",
       "      <td>0</td>\n",
       "      <td>0</td>\n",
       "      <td>0</td>\n",
       "    </tr>\n",
       "    <tr>\n",
       "      <th>1335</th>\n",
       "      <td>1.0</td>\n",
       "      <td>18</td>\n",
       "      <td>36.9</td>\n",
       "      <td>114</td>\n",
       "      <td>0</td>\n",
       "      <td>1629.83</td>\n",
       "      <td>0</td>\n",
       "      <td>0</td>\n",
       "      <td>0</td>\n",
       "      <td>0</td>\n",
       "      <td>1</td>\n",
       "      <td>0</td>\n",
       "    </tr>\n",
       "    <tr>\n",
       "      <th>1336</th>\n",
       "      <td>1.0</td>\n",
       "      <td>21</td>\n",
       "      <td>25.8</td>\n",
       "      <td>121</td>\n",
       "      <td>0</td>\n",
       "      <td>2007.95</td>\n",
       "      <td>0</td>\n",
       "      <td>1</td>\n",
       "      <td>0</td>\n",
       "      <td>0</td>\n",
       "      <td>0</td>\n",
       "      <td>1</td>\n",
       "    </tr>\n",
       "    <tr>\n",
       "      <th>1337</th>\n",
       "      <td>1.0</td>\n",
       "      <td>61</td>\n",
       "      <td>29.1</td>\n",
       "      <td>139</td>\n",
       "      <td>0</td>\n",
       "      <td>29141.36</td>\n",
       "      <td>0</td>\n",
       "      <td>0</td>\n",
       "      <td>1</td>\n",
       "      <td>1</td>\n",
       "      <td>0</td>\n",
       "      <td>0</td>\n",
       "    </tr>\n",
       "  </tbody>\n",
       "</table>\n",
       "<p>1338 rows × 12 columns</p>\n",
       "</div>"
      ],
      "text/plain": [
       "      const  age   bmi  bloodpressure  children     claim  gender_male  \\\n",
       "0       1.0   19  27.9            107         0  16884.92            0   \n",
       "1       1.0   18  33.8            133         1   1725.55            1   \n",
       "2       1.0   28  33.0             88         3   4449.46            1   \n",
       "3       1.0   33  22.7            119         0  21984.47            1   \n",
       "4       1.0   32  28.9             91         0   3866.86            1   \n",
       "...     ...  ...   ...            ...       ...       ...          ...   \n",
       "1333    1.0   50  31.0             98         3  10600.55            1   \n",
       "1334    1.0   18  31.9            138         0   2205.98            0   \n",
       "1335    1.0   18  36.9            114         0   1629.83            0   \n",
       "1336    1.0   21  25.8            121         0   2007.95            0   \n",
       "1337    1.0   61  29.1            139         0  29141.36            0   \n",
       "\n",
       "      diabetic_Yes  smoker_Yes  region_northwest  region_southeast  \\\n",
       "0                0           1                 0                 0   \n",
       "1                0           0                 0                 1   \n",
       "2                1           0                 0                 1   \n",
       "3                1           0                 1                 0   \n",
       "4                0           0                 1                 0   \n",
       "...            ...         ...               ...               ...   \n",
       "1333             0           0                 1                 0   \n",
       "1334             0           0                 0                 0   \n",
       "1335             0           0                 0                 1   \n",
       "1336             1           0                 0                 0   \n",
       "1337             0           1                 1                 0   \n",
       "\n",
       "      region_southwest  \n",
       "0                    1  \n",
       "1                    0  \n",
       "2                    0  \n",
       "3                    0  \n",
       "4                    0  \n",
       "...                ...  \n",
       "1333                 0  \n",
       "1334                 0  \n",
       "1335                 0  \n",
       "1336                 1  \n",
       "1337                 0  \n",
       "\n",
       "[1338 rows x 12 columns]"
      ]
     },
     "execution_count": 38,
     "metadata": {},
     "output_type": "execute_result"
    }
   ],
   "source": [
    "df_merged"
   ]
  },
  {
   "cell_type": "code",
   "execution_count": 39,
   "metadata": {},
   "outputs": [],
   "source": [
    "# removing insignificant variables(gender_male, bloodpressure, diabetic_Yes)\n",
    "df_merged = df_merged.drop(['gender_male','bloodpressure','diabetic_Yes'],axis=1)"
   ]
  },
  {
   "cell_type": "code",
   "execution_count": 40,
   "metadata": {},
   "outputs": [
    {
     "data": {
      "text/html": [
       "<div>\n",
       "<style scoped>\n",
       "    .dataframe tbody tr th:only-of-type {\n",
       "        vertical-align: middle;\n",
       "    }\n",
       "\n",
       "    .dataframe tbody tr th {\n",
       "        vertical-align: top;\n",
       "    }\n",
       "\n",
       "    .dataframe thead th {\n",
       "        text-align: right;\n",
       "    }\n",
       "</style>\n",
       "<table border=\"1\" class=\"dataframe\">\n",
       "  <thead>\n",
       "    <tr style=\"text-align: right;\">\n",
       "      <th></th>\n",
       "      <th>const</th>\n",
       "      <th>age</th>\n",
       "      <th>bmi</th>\n",
       "      <th>children</th>\n",
       "      <th>claim</th>\n",
       "      <th>smoker_Yes</th>\n",
       "      <th>region_northwest</th>\n",
       "      <th>region_southeast</th>\n",
       "      <th>region_southwest</th>\n",
       "    </tr>\n",
       "  </thead>\n",
       "  <tbody>\n",
       "    <tr>\n",
       "      <th>0</th>\n",
       "      <td>1.0</td>\n",
       "      <td>19</td>\n",
       "      <td>27.9</td>\n",
       "      <td>0</td>\n",
       "      <td>16884.92</td>\n",
       "      <td>1</td>\n",
       "      <td>0</td>\n",
       "      <td>0</td>\n",
       "      <td>1</td>\n",
       "    </tr>\n",
       "    <tr>\n",
       "      <th>1</th>\n",
       "      <td>1.0</td>\n",
       "      <td>18</td>\n",
       "      <td>33.8</td>\n",
       "      <td>1</td>\n",
       "      <td>1725.55</td>\n",
       "      <td>0</td>\n",
       "      <td>0</td>\n",
       "      <td>1</td>\n",
       "      <td>0</td>\n",
       "    </tr>\n",
       "    <tr>\n",
       "      <th>2</th>\n",
       "      <td>1.0</td>\n",
       "      <td>28</td>\n",
       "      <td>33.0</td>\n",
       "      <td>3</td>\n",
       "      <td>4449.46</td>\n",
       "      <td>0</td>\n",
       "      <td>0</td>\n",
       "      <td>1</td>\n",
       "      <td>0</td>\n",
       "    </tr>\n",
       "    <tr>\n",
       "      <th>3</th>\n",
       "      <td>1.0</td>\n",
       "      <td>33</td>\n",
       "      <td>22.7</td>\n",
       "      <td>0</td>\n",
       "      <td>21984.47</td>\n",
       "      <td>0</td>\n",
       "      <td>1</td>\n",
       "      <td>0</td>\n",
       "      <td>0</td>\n",
       "    </tr>\n",
       "    <tr>\n",
       "      <th>4</th>\n",
       "      <td>1.0</td>\n",
       "      <td>32</td>\n",
       "      <td>28.9</td>\n",
       "      <td>0</td>\n",
       "      <td>3866.86</td>\n",
       "      <td>0</td>\n",
       "      <td>1</td>\n",
       "      <td>0</td>\n",
       "      <td>0</td>\n",
       "    </tr>\n",
       "    <tr>\n",
       "      <th>...</th>\n",
       "      <td>...</td>\n",
       "      <td>...</td>\n",
       "      <td>...</td>\n",
       "      <td>...</td>\n",
       "      <td>...</td>\n",
       "      <td>...</td>\n",
       "      <td>...</td>\n",
       "      <td>...</td>\n",
       "      <td>...</td>\n",
       "    </tr>\n",
       "    <tr>\n",
       "      <th>1333</th>\n",
       "      <td>1.0</td>\n",
       "      <td>50</td>\n",
       "      <td>31.0</td>\n",
       "      <td>3</td>\n",
       "      <td>10600.55</td>\n",
       "      <td>0</td>\n",
       "      <td>1</td>\n",
       "      <td>0</td>\n",
       "      <td>0</td>\n",
       "    </tr>\n",
       "    <tr>\n",
       "      <th>1334</th>\n",
       "      <td>1.0</td>\n",
       "      <td>18</td>\n",
       "      <td>31.9</td>\n",
       "      <td>0</td>\n",
       "      <td>2205.98</td>\n",
       "      <td>0</td>\n",
       "      <td>0</td>\n",
       "      <td>0</td>\n",
       "      <td>0</td>\n",
       "    </tr>\n",
       "    <tr>\n",
       "      <th>1335</th>\n",
       "      <td>1.0</td>\n",
       "      <td>18</td>\n",
       "      <td>36.9</td>\n",
       "      <td>0</td>\n",
       "      <td>1629.83</td>\n",
       "      <td>0</td>\n",
       "      <td>0</td>\n",
       "      <td>1</td>\n",
       "      <td>0</td>\n",
       "    </tr>\n",
       "    <tr>\n",
       "      <th>1336</th>\n",
       "      <td>1.0</td>\n",
       "      <td>21</td>\n",
       "      <td>25.8</td>\n",
       "      <td>0</td>\n",
       "      <td>2007.95</td>\n",
       "      <td>0</td>\n",
       "      <td>0</td>\n",
       "      <td>0</td>\n",
       "      <td>1</td>\n",
       "    </tr>\n",
       "    <tr>\n",
       "      <th>1337</th>\n",
       "      <td>1.0</td>\n",
       "      <td>61</td>\n",
       "      <td>29.1</td>\n",
       "      <td>0</td>\n",
       "      <td>29141.36</td>\n",
       "      <td>1</td>\n",
       "      <td>1</td>\n",
       "      <td>0</td>\n",
       "      <td>0</td>\n",
       "    </tr>\n",
       "  </tbody>\n",
       "</table>\n",
       "<p>1338 rows × 9 columns</p>\n",
       "</div>"
      ],
      "text/plain": [
       "      const  age   bmi  children     claim  smoker_Yes  region_northwest  \\\n",
       "0       1.0   19  27.9         0  16884.92           1                 0   \n",
       "1       1.0   18  33.8         1   1725.55           0                 0   \n",
       "2       1.0   28  33.0         3   4449.46           0                 0   \n",
       "3       1.0   33  22.7         0  21984.47           0                 1   \n",
       "4       1.0   32  28.9         0   3866.86           0                 1   \n",
       "...     ...  ...   ...       ...       ...         ...               ...   \n",
       "1333    1.0   50  31.0         3  10600.55           0                 1   \n",
       "1334    1.0   18  31.9         0   2205.98           0                 0   \n",
       "1335    1.0   18  36.9         0   1629.83           0                 0   \n",
       "1336    1.0   21  25.8         0   2007.95           0                 0   \n",
       "1337    1.0   61  29.1         0  29141.36           1                 1   \n",
       "\n",
       "      region_southeast  region_southwest  \n",
       "0                    0                 1  \n",
       "1                    1                 0  \n",
       "2                    1                 0  \n",
       "3                    0                 0  \n",
       "4                    0                 0  \n",
       "...                ...               ...  \n",
       "1333                 0                 0  \n",
       "1334                 0                 0  \n",
       "1335                 1                 0  \n",
       "1336                 0                 1  \n",
       "1337                 0                 0  \n",
       "\n",
       "[1338 rows x 9 columns]"
      ]
     },
     "execution_count": 40,
     "metadata": {},
     "output_type": "execute_result"
    }
   ],
   "source": [
    "df_merged"
   ]
  },
  {
   "cell_type": "code",
   "execution_count": 41,
   "metadata": {},
   "outputs": [],
   "source": [
    "# Calling the runner function and getting the model as return.\n",
    "model = runner(df_merged)"
   ]
  },
  {
   "cell_type": "code",
   "execution_count": 42,
   "metadata": {},
   "outputs": [
    {
     "data": {
      "text/html": [
       "<table class=\"simpletable\">\n",
       "<caption>OLS Regression Results</caption>\n",
       "<tr>\n",
       "  <th>Dep. Variable:</th>          <td>claim</td>      <th>  R-squared:         </th> <td>   0.747</td> \n",
       "</tr>\n",
       "<tr>\n",
       "  <th>Model:</th>                   <td>OLS</td>       <th>  Adj. R-squared:    </th> <td>   0.746</td> \n",
       "</tr>\n",
       "<tr>\n",
       "  <th>Method:</th>             <td>Least Squares</td>  <th>  F-statistic:       </th> <td>   505.7</td> \n",
       "</tr>\n",
       "<tr>\n",
       "  <th>Date:</th>             <td>Tue, 19 Jan 2021</td> <th>  Prob (F-statistic):</th>  <td>  0.00</td>  \n",
       "</tr>\n",
       "<tr>\n",
       "  <th>Time:</th>                 <td>15:41:39</td>     <th>  Log-Likelihood:    </th> <td> -12190.</td> \n",
       "</tr>\n",
       "<tr>\n",
       "  <th>No. Observations:</th>      <td>  1204</td>      <th>  AIC:               </th> <td>2.440e+04</td>\n",
       "</tr>\n",
       "<tr>\n",
       "  <th>Df Residuals:</th>          <td>  1196</td>      <th>  BIC:               </th> <td>2.444e+04</td>\n",
       "</tr>\n",
       "<tr>\n",
       "  <th>Df Model:</th>              <td>     7</td>      <th>                     </th>     <td> </td>    \n",
       "</tr>\n",
       "<tr>\n",
       "  <th>Covariance Type:</th>      <td>nonrobust</td>    <th>                     </th>     <td> </td>    \n",
       "</tr>\n",
       "</table>\n",
       "<table class=\"simpletable\">\n",
       "<tr>\n",
       "          <td></td>            <th>coef</th>     <th>std err</th>      <th>t</th>      <th>P>|t|</th>  <th>[0.025</th>    <th>0.975]</th>  \n",
       "</tr>\n",
       "<tr>\n",
       "  <th>const</th>            <td>-1.204e+04</td> <td> 1047.558</td> <td>  -11.492</td> <td> 0.000</td> <td>-1.41e+04</td> <td>-9983.409</td>\n",
       "</tr>\n",
       "<tr>\n",
       "  <th>age</th>              <td>  259.5403</td> <td>   12.520</td> <td>   20.730</td> <td> 0.000</td> <td>  234.977</td> <td>  284.104</td>\n",
       "</tr>\n",
       "<tr>\n",
       "  <th>bmi</th>              <td>  338.4505</td> <td>   30.567</td> <td>   11.072</td> <td> 0.000</td> <td>  278.480</td> <td>  398.421</td>\n",
       "</tr>\n",
       "<tr>\n",
       "  <th>children</th>         <td>  473.3447</td> <td>  144.332</td> <td>    3.280</td> <td> 0.001</td> <td>  190.172</td> <td>  756.517</td>\n",
       "</tr>\n",
       "<tr>\n",
       "  <th>smoker_Yes</th>       <td> 2.361e+04</td> <td>  435.113</td> <td>   54.263</td> <td> 0.000</td> <td> 2.28e+04</td> <td> 2.45e+04</td>\n",
       "</tr>\n",
       "<tr>\n",
       "  <th>region_northwest</th> <td> -463.9446</td> <td>  500.498</td> <td>   -0.927</td> <td> 0.354</td> <td>-1445.896</td> <td>  518.007</td>\n",
       "</tr>\n",
       "<tr>\n",
       "  <th>region_southeast</th> <td>-1081.0480</td> <td>  508.173</td> <td>   -2.127</td> <td> 0.034</td> <td>-2078.058</td> <td>  -84.039</td>\n",
       "</tr>\n",
       "<tr>\n",
       "  <th>region_southwest</th> <td>-1032.8288</td> <td>  507.441</td> <td>   -2.035</td> <td> 0.042</td> <td>-2028.402</td> <td>  -37.256</td>\n",
       "</tr>\n",
       "</table>\n",
       "<table class=\"simpletable\">\n",
       "<tr>\n",
       "  <th>Omnibus:</th>       <td>285.921</td> <th>  Durbin-Watson:     </th> <td>   1.926</td> \n",
       "</tr>\n",
       "<tr>\n",
       "  <th>Prob(Omnibus):</th> <td> 0.000</td>  <th>  Jarque-Bera (JB):  </th> <td> 698.730</td> \n",
       "</tr>\n",
       "<tr>\n",
       "  <th>Skew:</th>          <td> 1.266</td>  <th>  Prob(JB):          </th> <td>1.87e-152</td>\n",
       "</tr>\n",
       "<tr>\n",
       "  <th>Kurtosis:</th>      <td> 5.742</td>  <th>  Cond. No.          </th> <td>    313.</td> \n",
       "</tr>\n",
       "</table><br/><br/>Notes:<br/>[1] Standard Errors assume that the covariance matrix of the errors is correctly specified."
      ],
      "text/plain": [
       "<class 'statsmodels.iolib.summary.Summary'>\n",
       "\"\"\"\n",
       "                            OLS Regression Results                            \n",
       "==============================================================================\n",
       "Dep. Variable:                  claim   R-squared:                       0.747\n",
       "Model:                            OLS   Adj. R-squared:                  0.746\n",
       "Method:                 Least Squares   F-statistic:                     505.7\n",
       "Date:                Tue, 19 Jan 2021   Prob (F-statistic):               0.00\n",
       "Time:                        15:41:39   Log-Likelihood:                -12190.\n",
       "No. Observations:                1204   AIC:                         2.440e+04\n",
       "Df Residuals:                    1196   BIC:                         2.444e+04\n",
       "Df Model:                           7                                         \n",
       "Covariance Type:            nonrobust                                         \n",
       "====================================================================================\n",
       "                       coef    std err          t      P>|t|      [0.025      0.975]\n",
       "------------------------------------------------------------------------------------\n",
       "const            -1.204e+04   1047.558    -11.492      0.000   -1.41e+04   -9983.409\n",
       "age                259.5403     12.520     20.730      0.000     234.977     284.104\n",
       "bmi                338.4505     30.567     11.072      0.000     278.480     398.421\n",
       "children           473.3447    144.332      3.280      0.001     190.172     756.517\n",
       "smoker_Yes        2.361e+04    435.113     54.263      0.000    2.28e+04    2.45e+04\n",
       "region_northwest  -463.9446    500.498     -0.927      0.354   -1445.896     518.007\n",
       "region_southeast -1081.0480    508.173     -2.127      0.034   -2078.058     -84.039\n",
       "region_southwest -1032.8288    507.441     -2.035      0.042   -2028.402     -37.256\n",
       "==============================================================================\n",
       "Omnibus:                      285.921   Durbin-Watson:                   1.926\n",
       "Prob(Omnibus):                  0.000   Jarque-Bera (JB):              698.730\n",
       "Skew:                           1.266   Prob(JB):                    1.87e-152\n",
       "Kurtosis:                       5.742   Cond. No.                         313.\n",
       "==============================================================================\n",
       "\n",
       "Notes:\n",
       "[1] Standard Errors assume that the covariance matrix of the errors is correctly specified.\n",
       "\"\"\""
      ]
     },
     "execution_count": 42,
     "metadata": {},
     "output_type": "execute_result"
    }
   ],
   "source": [
    "model.summary()"
   ]
  },
  {
   "cell_type": "code",
   "execution_count": null,
   "metadata": {},
   "outputs": [],
   "source": []
  },
  {
   "cell_type": "markdown",
   "metadata": {},
   "source": [
    "### Model with insignificant variable removed and with Normalization"
   ]
  },
  {
   "cell_type": "code",
   "execution_count": 43,
   "metadata": {},
   "outputs": [],
   "source": [
    "df = pd.read_csv(\"insurance.csv\")"
   ]
  },
  {
   "cell_type": "code",
   "execution_count": 44,
   "metadata": {},
   "outputs": [],
   "source": [
    "df_cat = df.select_dtypes(include='object')\n",
    "df_num = df.select_dtypes(exclude='object')"
   ]
  },
  {
   "cell_type": "code",
   "execution_count": 45,
   "metadata": {},
   "outputs": [],
   "source": [
    "# Encoding the Categorical data using N-1 dummy encoding\n",
    "df_cat_encoded=pd.get_dummies(df_cat,drop_first=True)"
   ]
  },
  {
   "cell_type": "code",
   "execution_count": 46,
   "metadata": {},
   "outputs": [],
   "source": [
    "# Scaling numerical data using Normaliztion or Min_Max Scaling\n",
    "df_num_normalized = normalization_fun(df_num)"
   ]
  },
  {
   "cell_type": "code",
   "execution_count": 47,
   "metadata": {},
   "outputs": [],
   "source": [
    "# Merging the encoded data and Normalized numerical data\n",
    "df_merged = pd.concat([df_num_normalized,df_cat_encoded],axis=1)"
   ]
  },
  {
   "cell_type": "code",
   "execution_count": 48,
   "metadata": {},
   "outputs": [],
   "source": [
    "# Adding beta 0 value as constant\n",
    "df_merged=sm.add_constant(df_merged)"
   ]
  },
  {
   "cell_type": "code",
   "execution_count": 49,
   "metadata": {},
   "outputs": [],
   "source": [
    "# removing insignificant variables(gender_male, bloodpressure, diabetic_Yes)\n",
    "df_merged = df_merged.drop(['gender_male','bloodpressure','diabetic_Yes'],axis=1)"
   ]
  },
  {
   "cell_type": "code",
   "execution_count": 50,
   "metadata": {},
   "outputs": [],
   "source": [
    "# Calling the runner function and getting the model as return.\n",
    "model = runner(df_merged)"
   ]
  },
  {
   "cell_type": "code",
   "execution_count": 51,
   "metadata": {},
   "outputs": [
    {
     "data": {
      "text/html": [
       "<table class=\"simpletable\">\n",
       "<caption>OLS Regression Results</caption>\n",
       "<tr>\n",
       "  <th>Dep. Variable:</th>          <td>claim</td>      <th>  R-squared:         </th> <td>   0.747</td>\n",
       "</tr>\n",
       "<tr>\n",
       "  <th>Model:</th>                   <td>OLS</td>       <th>  Adj. R-squared:    </th> <td>   0.746</td>\n",
       "</tr>\n",
       "<tr>\n",
       "  <th>Method:</th>             <td>Least Squares</td>  <th>  F-statistic:       </th> <td>   505.7</td>\n",
       "</tr>\n",
       "<tr>\n",
       "  <th>Date:</th>             <td>Tue, 19 Jan 2021</td> <th>  Prob (F-statistic):</th>  <td>  0.00</td> \n",
       "</tr>\n",
       "<tr>\n",
       "  <th>Time:</th>                 <td>15:41:39</td>     <th>  Log-Likelihood:    </th> <td>  1108.7</td>\n",
       "</tr>\n",
       "<tr>\n",
       "  <th>No. Observations:</th>      <td>  1204</td>      <th>  AIC:               </th> <td>  -2201.</td>\n",
       "</tr>\n",
       "<tr>\n",
       "  <th>Df Residuals:</th>          <td>  1196</td>      <th>  BIC:               </th> <td>  -2161.</td>\n",
       "</tr>\n",
       "<tr>\n",
       "  <th>Df Model:</th>              <td>     7</td>      <th>                     </th>     <td> </td>   \n",
       "</tr>\n",
       "<tr>\n",
       "  <th>Covariance Type:</th>      <td>nonrobust</td>    <th>                     </th>     <td> </td>   \n",
       "</tr>\n",
       "</table>\n",
       "<table class=\"simpletable\">\n",
       "<tr>\n",
       "          <td></td>            <th>coef</th>     <th>std err</th>      <th>t</th>      <th>P>|t|</th>  <th>[0.025</th>    <th>0.975]</th>  \n",
       "</tr>\n",
       "<tr>\n",
       "  <th>const</th>            <td>   -0.0491</td> <td>    0.010</td> <td>   -5.072</td> <td> 0.000</td> <td>   -0.068</td> <td>   -0.030</td>\n",
       "</tr>\n",
       "<tr>\n",
       "  <th>age</th>              <td>    0.1906</td> <td>    0.009</td> <td>   20.730</td> <td> 0.000</td> <td>    0.173</td> <td>    0.209</td>\n",
       "</tr>\n",
       "<tr>\n",
       "  <th>bmi</th>              <td>    0.2004</td> <td>    0.018</td> <td>   11.072</td> <td> 0.000</td> <td>    0.165</td> <td>    0.236</td>\n",
       "</tr>\n",
       "<tr>\n",
       "  <th>children</th>         <td>    0.0378</td> <td>    0.012</td> <td>    3.280</td> <td> 0.001</td> <td>    0.015</td> <td>    0.060</td>\n",
       "</tr>\n",
       "<tr>\n",
       "  <th>smoker_Yes</th>       <td>    0.3769</td> <td>    0.007</td> <td>   54.263</td> <td> 0.000</td> <td>    0.363</td> <td>    0.390</td>\n",
       "</tr>\n",
       "<tr>\n",
       "  <th>region_northwest</th> <td>   -0.0074</td> <td>    0.008</td> <td>   -0.927</td> <td> 0.354</td> <td>   -0.023</td> <td>    0.008</td>\n",
       "</tr>\n",
       "<tr>\n",
       "  <th>region_southeast</th> <td>   -0.0173</td> <td>    0.008</td> <td>   -2.127</td> <td> 0.034</td> <td>   -0.033</td> <td>   -0.001</td>\n",
       "</tr>\n",
       "<tr>\n",
       "  <th>region_southwest</th> <td>   -0.0165</td> <td>    0.008</td> <td>   -2.035</td> <td> 0.042</td> <td>   -0.032</td> <td>   -0.001</td>\n",
       "</tr>\n",
       "</table>\n",
       "<table class=\"simpletable\">\n",
       "<tr>\n",
       "  <th>Omnibus:</th>       <td>285.921</td> <th>  Durbin-Watson:     </th> <td>   1.926</td> \n",
       "</tr>\n",
       "<tr>\n",
       "  <th>Prob(Omnibus):</th> <td> 0.000</td>  <th>  Jarque-Bera (JB):  </th> <td> 698.730</td> \n",
       "</tr>\n",
       "<tr>\n",
       "  <th>Skew:</th>          <td> 1.266</td>  <th>  Prob(JB):          </th> <td>1.87e-152</td>\n",
       "</tr>\n",
       "<tr>\n",
       "  <th>Kurtosis:</th>      <td> 5.742</td>  <th>  Cond. No.          </th> <td>    8.99</td> \n",
       "</tr>\n",
       "</table><br/><br/>Notes:<br/>[1] Standard Errors assume that the covariance matrix of the errors is correctly specified."
      ],
      "text/plain": [
       "<class 'statsmodels.iolib.summary.Summary'>\n",
       "\"\"\"\n",
       "                            OLS Regression Results                            \n",
       "==============================================================================\n",
       "Dep. Variable:                  claim   R-squared:                       0.747\n",
       "Model:                            OLS   Adj. R-squared:                  0.746\n",
       "Method:                 Least Squares   F-statistic:                     505.7\n",
       "Date:                Tue, 19 Jan 2021   Prob (F-statistic):               0.00\n",
       "Time:                        15:41:39   Log-Likelihood:                 1108.7\n",
       "No. Observations:                1204   AIC:                            -2201.\n",
       "Df Residuals:                    1196   BIC:                            -2161.\n",
       "Df Model:                           7                                         \n",
       "Covariance Type:            nonrobust                                         \n",
       "====================================================================================\n",
       "                       coef    std err          t      P>|t|      [0.025      0.975]\n",
       "------------------------------------------------------------------------------------\n",
       "const               -0.0491      0.010     -5.072      0.000      -0.068      -0.030\n",
       "age                  0.1906      0.009     20.730      0.000       0.173       0.209\n",
       "bmi                  0.2004      0.018     11.072      0.000       0.165       0.236\n",
       "children             0.0378      0.012      3.280      0.001       0.015       0.060\n",
       "smoker_Yes           0.3769      0.007     54.263      0.000       0.363       0.390\n",
       "region_northwest    -0.0074      0.008     -0.927      0.354      -0.023       0.008\n",
       "region_southeast    -0.0173      0.008     -2.127      0.034      -0.033      -0.001\n",
       "region_southwest    -0.0165      0.008     -2.035      0.042      -0.032      -0.001\n",
       "==============================================================================\n",
       "Omnibus:                      285.921   Durbin-Watson:                   1.926\n",
       "Prob(Omnibus):                  0.000   Jarque-Bera (JB):              698.730\n",
       "Skew:                           1.266   Prob(JB):                    1.87e-152\n",
       "Kurtosis:                       5.742   Cond. No.                         8.99\n",
       "==============================================================================\n",
       "\n",
       "Notes:\n",
       "[1] Standard Errors assume that the covariance matrix of the errors is correctly specified.\n",
       "\"\"\""
      ]
     },
     "execution_count": 51,
     "metadata": {},
     "output_type": "execute_result"
    }
   ],
   "source": [
    "model.summary()"
   ]
  },
  {
   "cell_type": "code",
   "execution_count": null,
   "metadata": {},
   "outputs": [],
   "source": []
  },
  {
   "cell_type": "markdown",
   "metadata": {},
   "source": [
    "### Model with insignificant variable removed and with Standardization"
   ]
  },
  {
   "cell_type": "code",
   "execution_count": 52,
   "metadata": {},
   "outputs": [],
   "source": [
    "df = pd.read_csv(\"insurance.csv\")"
   ]
  },
  {
   "cell_type": "code",
   "execution_count": 53,
   "metadata": {},
   "outputs": [],
   "source": [
    "df_cat = df.select_dtypes(include='object')\n",
    "df_num = df.select_dtypes(exclude='object')"
   ]
  },
  {
   "cell_type": "code",
   "execution_count": 54,
   "metadata": {},
   "outputs": [],
   "source": [
    "# Encoding the Categorical data using N-1 dummy encoding\n",
    "df_cat_encoded=pd.get_dummies(df_cat,drop_first=True)"
   ]
  },
  {
   "cell_type": "code",
   "execution_count": 55,
   "metadata": {},
   "outputs": [],
   "source": [
    "# Scaling numerical data using Standardization or z-score scaling\n",
    "df_num_standardized = standardization_fun(df_num)"
   ]
  },
  {
   "cell_type": "code",
   "execution_count": 56,
   "metadata": {},
   "outputs": [],
   "source": [
    "# Merging the encoded data and standardized numerical data\n",
    "df_merged = pd.concat([df_num_standardized,df_cat_encoded],axis=1)"
   ]
  },
  {
   "cell_type": "code",
   "execution_count": 57,
   "metadata": {},
   "outputs": [],
   "source": [
    "# Adding beta 0 value as constant\n",
    "df_merged=sm.add_constant(df_merged)"
   ]
  },
  {
   "cell_type": "code",
   "execution_count": 58,
   "metadata": {},
   "outputs": [],
   "source": [
    "# removing insignificant variables(gender_male, bloodpressure, diabetic_Yes)\n",
    "df_merged = df_merged.drop(['gender_male','bloodpressure','diabetic_Yes'],axis=1)"
   ]
  },
  {
   "cell_type": "code",
   "execution_count": 59,
   "metadata": {},
   "outputs": [],
   "source": [
    "# Calling the runner function and getting the model as return.\n",
    "model = runner(df_merged)"
   ]
  },
  {
   "cell_type": "code",
   "execution_count": 60,
   "metadata": {},
   "outputs": [
    {
     "data": {
      "text/html": [
       "<table class=\"simpletable\">\n",
       "<caption>OLS Regression Results</caption>\n",
       "<tr>\n",
       "  <th>Dep. Variable:</th>          <td>claim</td>      <th>  R-squared:         </th> <td>   0.747</td>\n",
       "</tr>\n",
       "<tr>\n",
       "  <th>Model:</th>                   <td>OLS</td>       <th>  Adj. R-squared:    </th> <td>   0.746</td>\n",
       "</tr>\n",
       "<tr>\n",
       "  <th>Method:</th>             <td>Least Squares</td>  <th>  F-statistic:       </th> <td>   505.7</td>\n",
       "</tr>\n",
       "<tr>\n",
       "  <th>Date:</th>             <td>Tue, 19 Jan 2021</td> <th>  Prob (F-statistic):</th>  <td>  0.00</td> \n",
       "</tr>\n",
       "<tr>\n",
       "  <th>Time:</th>                 <td>15:41:39</td>     <th>  Log-Likelihood:    </th> <td> -870.49</td>\n",
       "</tr>\n",
       "<tr>\n",
       "  <th>No. Observations:</th>      <td>  1204</td>      <th>  AIC:               </th> <td>   1757.</td>\n",
       "</tr>\n",
       "<tr>\n",
       "  <th>Df Residuals:</th>          <td>  1196</td>      <th>  BIC:               </th> <td>   1798.</td>\n",
       "</tr>\n",
       "<tr>\n",
       "  <th>Df Model:</th>              <td>     7</td>      <th>                     </th>     <td> </td>   \n",
       "</tr>\n",
       "<tr>\n",
       "  <th>Covariance Type:</th>      <td>nonrobust</td>    <th>                     </th>     <td> </td>   \n",
       "</tr>\n",
       "</table>\n",
       "<table class=\"simpletable\">\n",
       "<tr>\n",
       "          <td></td>            <th>coef</th>     <th>std err</th>      <th>t</th>      <th>P>|t|</th>  <th>[0.025</th>    <th>0.975]</th>  \n",
       "</tr>\n",
       "<tr>\n",
       "  <th>const</th>            <td>   -0.3499</td> <td>    0.031</td> <td>  -11.378</td> <td> 0.000</td> <td>   -0.410</td> <td>   -0.290</td>\n",
       "</tr>\n",
       "<tr>\n",
       "  <th>age</th>              <td>    0.3011</td> <td>    0.015</td> <td>   20.730</td> <td> 0.000</td> <td>    0.273</td> <td>    0.330</td>\n",
       "</tr>\n",
       "<tr>\n",
       "  <th>bmi</th>              <td>    0.1704</td> <td>    0.015</td> <td>   11.072</td> <td> 0.000</td> <td>    0.140</td> <td>    0.201</td>\n",
       "</tr>\n",
       "<tr>\n",
       "  <th>children</th>         <td>    0.0471</td> <td>    0.014</td> <td>    3.280</td> <td> 0.001</td> <td>    0.019</td> <td>    0.075</td>\n",
       "</tr>\n",
       "<tr>\n",
       "  <th>smoker_Yes</th>       <td>    1.9504</td> <td>    0.036</td> <td>   54.263</td> <td> 0.000</td> <td>    1.880</td> <td>    2.021</td>\n",
       "</tr>\n",
       "<tr>\n",
       "  <th>region_northwest</th> <td>   -0.0383</td> <td>    0.041</td> <td>   -0.927</td> <td> 0.354</td> <td>   -0.119</td> <td>    0.043</td>\n",
       "</tr>\n",
       "<tr>\n",
       "  <th>region_southeast</th> <td>   -0.0893</td> <td>    0.042</td> <td>   -2.127</td> <td> 0.034</td> <td>   -0.172</td> <td>   -0.007</td>\n",
       "</tr>\n",
       "<tr>\n",
       "  <th>region_southwest</th> <td>   -0.0853</td> <td>    0.042</td> <td>   -2.035</td> <td> 0.042</td> <td>   -0.168</td> <td>   -0.003</td>\n",
       "</tr>\n",
       "</table>\n",
       "<table class=\"simpletable\">\n",
       "<tr>\n",
       "  <th>Omnibus:</th>       <td>285.921</td> <th>  Durbin-Watson:     </th> <td>   1.926</td> \n",
       "</tr>\n",
       "<tr>\n",
       "  <th>Prob(Omnibus):</th> <td> 0.000</td>  <th>  Jarque-Bera (JB):  </th> <td> 698.730</td> \n",
       "</tr>\n",
       "<tr>\n",
       "  <th>Skew:</th>          <td> 1.266</td>  <th>  Prob(JB):          </th> <td>1.87e-152</td>\n",
       "</tr>\n",
       "<tr>\n",
       "  <th>Kurtosis:</th>      <td> 5.742</td>  <th>  Cond. No.          </th> <td>    5.07</td> \n",
       "</tr>\n",
       "</table><br/><br/>Notes:<br/>[1] Standard Errors assume that the covariance matrix of the errors is correctly specified."
      ],
      "text/plain": [
       "<class 'statsmodels.iolib.summary.Summary'>\n",
       "\"\"\"\n",
       "                            OLS Regression Results                            \n",
       "==============================================================================\n",
       "Dep. Variable:                  claim   R-squared:                       0.747\n",
       "Model:                            OLS   Adj. R-squared:                  0.746\n",
       "Method:                 Least Squares   F-statistic:                     505.7\n",
       "Date:                Tue, 19 Jan 2021   Prob (F-statistic):               0.00\n",
       "Time:                        15:41:39   Log-Likelihood:                -870.49\n",
       "No. Observations:                1204   AIC:                             1757.\n",
       "Df Residuals:                    1196   BIC:                             1798.\n",
       "Df Model:                           7                                         \n",
       "Covariance Type:            nonrobust                                         \n",
       "====================================================================================\n",
       "                       coef    std err          t      P>|t|      [0.025      0.975]\n",
       "------------------------------------------------------------------------------------\n",
       "const               -0.3499      0.031    -11.378      0.000      -0.410      -0.290\n",
       "age                  0.3011      0.015     20.730      0.000       0.273       0.330\n",
       "bmi                  0.1704      0.015     11.072      0.000       0.140       0.201\n",
       "children             0.0471      0.014      3.280      0.001       0.019       0.075\n",
       "smoker_Yes           1.9504      0.036     54.263      0.000       1.880       2.021\n",
       "region_northwest    -0.0383      0.041     -0.927      0.354      -0.119       0.043\n",
       "region_southeast    -0.0893      0.042     -2.127      0.034      -0.172      -0.007\n",
       "region_southwest    -0.0853      0.042     -2.035      0.042      -0.168      -0.003\n",
       "==============================================================================\n",
       "Omnibus:                      285.921   Durbin-Watson:                   1.926\n",
       "Prob(Omnibus):                  0.000   Jarque-Bera (JB):              698.730\n",
       "Skew:                           1.266   Prob(JB):                    1.87e-152\n",
       "Kurtosis:                       5.742   Cond. No.                         5.07\n",
       "==============================================================================\n",
       "\n",
       "Notes:\n",
       "[1] Standard Errors assume that the covariance matrix of the errors is correctly specified.\n",
       "\"\"\""
      ]
     },
     "execution_count": 60,
     "metadata": {},
     "output_type": "execute_result"
    }
   ],
   "source": [
    "model.summary()"
   ]
  },
  {
   "cell_type": "code",
   "execution_count": null,
   "metadata": {},
   "outputs": [],
   "source": []
  },
  {
   "cell_type": "markdown",
   "metadata": {},
   "source": [
    "### BMI Binning"
   ]
  },
  {
   "cell_type": "code",
   "execution_count": 61,
   "metadata": {},
   "outputs": [],
   "source": [
    "df = pd.read_csv(\"insurance.csv\")"
   ]
  },
  {
   "cell_type": "code",
   "execution_count": 62,
   "metadata": {},
   "outputs": [],
   "source": [
    "# Adding new variable 'bmi bin' using pd.cut function on 'bmi' variable\n",
    "df['bmi bin']=pd.cut(df['bmi'], bins=[0,18.5,25,30,max(df['bmi'])],labels=['Underweight', 'Healthy', 'Overweight', 'Obese'])"
   ]
  },
  {
   "cell_type": "code",
   "execution_count": 63,
   "metadata": {
    "scrolled": true
   },
   "outputs": [
    {
     "name": "stdout",
     "output_type": "stream",
     "text": [
      "<class 'pandas.core.frame.DataFrame'>\n",
      "RangeIndex: 1338 entries, 0 to 1337\n",
      "Data columns (total 10 columns):\n",
      " #   Column         Non-Null Count  Dtype   \n",
      "---  ------         --------------  -----   \n",
      " 0   age            1338 non-null   int64   \n",
      " 1   gender         1338 non-null   object  \n",
      " 2   bmi            1338 non-null   float64 \n",
      " 3   bloodpressure  1338 non-null   int64   \n",
      " 4   diabetic       1338 non-null   object  \n",
      " 5   children       1338 non-null   int64   \n",
      " 6   smoker         1338 non-null   object  \n",
      " 7   region         1338 non-null   object  \n",
      " 8   claim          1338 non-null   float64 \n",
      " 9   bmi bin        1338 non-null   category\n",
      "dtypes: category(1), float64(2), int64(3), object(4)\n",
      "memory usage: 95.7+ KB\n"
     ]
    }
   ],
   "source": [
    "df.info()"
   ]
  },
  {
   "cell_type": "code",
   "execution_count": 64,
   "metadata": {},
   "outputs": [],
   "source": [
    "df_cat = df.select_dtypes(include=['object','category'])\n",
    "df_num = df.select_dtypes(exclude=['object','category'])"
   ]
  },
  {
   "cell_type": "code",
   "execution_count": 65,
   "metadata": {},
   "outputs": [],
   "source": [
    "# Removing bmi from numerical data\n",
    "df_num = df_num.drop('bmi',axis=1)"
   ]
  },
  {
   "cell_type": "code",
   "execution_count": 66,
   "metadata": {},
   "outputs": [],
   "source": [
    "# Encoding the Categorical data using N-1 dummy encoding\n",
    "df_cat_encoded=pd.get_dummies(df_cat,drop_first=True)"
   ]
  },
  {
   "cell_type": "code",
   "execution_count": 67,
   "metadata": {},
   "outputs": [],
   "source": [
    "# Merging the encoded data and numerical data\n",
    "df_merged = pd.concat([df_num,df_cat_encoded],axis=1)"
   ]
  },
  {
   "cell_type": "code",
   "execution_count": 68,
   "metadata": {},
   "outputs": [],
   "source": [
    "df_merged=sm.add_constant(df_merged)"
   ]
  },
  {
   "cell_type": "code",
   "execution_count": 69,
   "metadata": {},
   "outputs": [],
   "source": [
    "# Calling the runner function and getting the model as return.\n",
    "model = runner(df_merged)"
   ]
  },
  {
   "cell_type": "code",
   "execution_count": 70,
   "metadata": {
    "scrolled": true
   },
   "outputs": [
    {
     "data": {
      "text/html": [
       "<table class=\"simpletable\">\n",
       "<caption>OLS Regression Results</caption>\n",
       "<tr>\n",
       "  <th>Dep. Variable:</th>          <td>claim</td>      <th>  R-squared:         </th> <td>   0.753</td> \n",
       "</tr>\n",
       "<tr>\n",
       "  <th>Model:</th>                   <td>OLS</td>       <th>  Adj. R-squared:    </th> <td>   0.750</td> \n",
       "</tr>\n",
       "<tr>\n",
       "  <th>Method:</th>             <td>Least Squares</td>  <th>  F-statistic:       </th> <td>   302.3</td> \n",
       "</tr>\n",
       "<tr>\n",
       "  <th>Date:</th>             <td>Tue, 19 Jan 2021</td> <th>  Prob (F-statistic):</th>  <td>  0.00</td>  \n",
       "</tr>\n",
       "<tr>\n",
       "  <th>Time:</th>                 <td>15:41:41</td>     <th>  Log-Likelihood:    </th> <td> -12177.</td> \n",
       "</tr>\n",
       "<tr>\n",
       "  <th>No. Observations:</th>      <td>  1204</td>      <th>  AIC:               </th> <td>2.438e+04</td>\n",
       "</tr>\n",
       "<tr>\n",
       "  <th>Df Residuals:</th>          <td>  1191</td>      <th>  BIC:               </th> <td>2.445e+04</td>\n",
       "</tr>\n",
       "<tr>\n",
       "  <th>Df Model:</th>              <td>    12</td>      <th>                     </th>     <td> </td>    \n",
       "</tr>\n",
       "<tr>\n",
       "  <th>Covariance Type:</th>      <td>nonrobust</td>    <th>                     </th>     <td> </td>    \n",
       "</tr>\n",
       "</table>\n",
       "<table class=\"simpletable\">\n",
       "<tr>\n",
       "           <td></td>             <th>coef</th>     <th>std err</th>      <th>t</th>      <th>P>|t|</th>  <th>[0.025</th>    <th>0.975]</th>  \n",
       "</tr>\n",
       "<tr>\n",
       "  <th>const</th>              <td>-6484.3620</td> <td> 1896.634</td> <td>   -3.419</td> <td> 0.001</td> <td>-1.02e+04</td> <td>-2763.247</td>\n",
       "</tr>\n",
       "<tr>\n",
       "  <th>age</th>                <td>  260.6975</td> <td>   12.448</td> <td>   20.943</td> <td> 0.000</td> <td>  236.275</td> <td>  285.120</td>\n",
       "</tr>\n",
       "<tr>\n",
       "  <th>bloodpressure</th>      <td>    6.4535</td> <td>    9.924</td> <td>    0.650</td> <td> 0.516</td> <td>  -13.018</td> <td>   25.925</td>\n",
       "</tr>\n",
       "<tr>\n",
       "  <th>children</th>           <td>  478.7354</td> <td>  143.327</td> <td>    3.340</td> <td> 0.001</td> <td>  197.533</td> <td>  759.938</td>\n",
       "</tr>\n",
       "<tr>\n",
       "  <th>gender_male</th>        <td>  -79.8393</td> <td>  348.552</td> <td>   -0.229</td> <td> 0.819</td> <td> -763.683</td> <td>  604.005</td>\n",
       "</tr>\n",
       "<tr>\n",
       "  <th>diabetic_Yes</th>       <td> -268.7355</td> <td>  348.139</td> <td>   -0.772</td> <td> 0.440</td> <td> -951.770</td> <td>  414.299</td>\n",
       "</tr>\n",
       "<tr>\n",
       "  <th>smoker_Yes</th>         <td>  2.36e+04</td> <td>  433.326</td> <td>   54.463</td> <td> 0.000</td> <td> 2.27e+04</td> <td> 2.45e+04</td>\n",
       "</tr>\n",
       "<tr>\n",
       "  <th>region_northwest</th>   <td> -527.3607</td> <td>  497.967</td> <td>   -1.059</td> <td> 0.290</td> <td>-1504.350</td> <td>  449.629</td>\n",
       "</tr>\n",
       "<tr>\n",
       "  <th>region_southeast</th>   <td> -696.9309</td> <td>  495.714</td> <td>   -1.406</td> <td> 0.160</td> <td>-1669.501</td> <td>  275.639</td>\n",
       "</tr>\n",
       "<tr>\n",
       "  <th>region_southwest</th>   <td>-1042.1705</td> <td>  504.427</td> <td>   -2.066</td> <td> 0.039</td> <td>-2031.835</td> <td>  -52.506</td>\n",
       "</tr>\n",
       "<tr>\n",
       "  <th>bmi bin_Healthy</th>    <td> 1516.7591</td> <td> 1482.977</td> <td>    1.023</td> <td> 0.307</td> <td>-1392.779</td> <td> 4426.298</td>\n",
       "</tr>\n",
       "<tr>\n",
       "  <th>bmi bin_Overweight</th> <td> 2232.5459</td> <td> 1457.786</td> <td>    1.531</td> <td> 0.126</td> <td> -627.569</td> <td> 5092.661</td>\n",
       "</tr>\n",
       "<tr>\n",
       "  <th>bmi bin_Obese</th>      <td> 6209.6881</td> <td> 1449.510</td> <td>    4.284</td> <td> 0.000</td> <td> 3365.812</td> <td> 9053.565</td>\n",
       "</tr>\n",
       "</table>\n",
       "<table class=\"simpletable\">\n",
       "<tr>\n",
       "  <th>Omnibus:</th>       <td>305.100</td> <th>  Durbin-Watson:     </th> <td>   1.930</td> \n",
       "</tr>\n",
       "<tr>\n",
       "  <th>Prob(Omnibus):</th> <td> 0.000</td>  <th>  Jarque-Bera (JB):  </th> <td> 763.717</td> \n",
       "</tr>\n",
       "<tr>\n",
       "  <th>Skew:</th>          <td> 1.340</td>  <th>  Prob(JB):          </th> <td>1.45e-166</td>\n",
       "</tr>\n",
       "<tr>\n",
       "  <th>Kurtosis:</th>      <td> 5.836</td>  <th>  Cond. No.          </th> <td>1.98e+03</td> \n",
       "</tr>\n",
       "</table><br/><br/>Notes:<br/>[1] Standard Errors assume that the covariance matrix of the errors is correctly specified.<br/>[2] The condition number is large, 1.98e+03. This might indicate that there are<br/>strong multicollinearity or other numerical problems."
      ],
      "text/plain": [
       "<class 'statsmodels.iolib.summary.Summary'>\n",
       "\"\"\"\n",
       "                            OLS Regression Results                            \n",
       "==============================================================================\n",
       "Dep. Variable:                  claim   R-squared:                       0.753\n",
       "Model:                            OLS   Adj. R-squared:                  0.750\n",
       "Method:                 Least Squares   F-statistic:                     302.3\n",
       "Date:                Tue, 19 Jan 2021   Prob (F-statistic):               0.00\n",
       "Time:                        15:41:41   Log-Likelihood:                -12177.\n",
       "No. Observations:                1204   AIC:                         2.438e+04\n",
       "Df Residuals:                    1191   BIC:                         2.445e+04\n",
       "Df Model:                          12                                         \n",
       "Covariance Type:            nonrobust                                         \n",
       "======================================================================================\n",
       "                         coef    std err          t      P>|t|      [0.025      0.975]\n",
       "--------------------------------------------------------------------------------------\n",
       "const              -6484.3620   1896.634     -3.419      0.001   -1.02e+04   -2763.247\n",
       "age                  260.6975     12.448     20.943      0.000     236.275     285.120\n",
       "bloodpressure          6.4535      9.924      0.650      0.516     -13.018      25.925\n",
       "children             478.7354    143.327      3.340      0.001     197.533     759.938\n",
       "gender_male          -79.8393    348.552     -0.229      0.819    -763.683     604.005\n",
       "diabetic_Yes        -268.7355    348.139     -0.772      0.440    -951.770     414.299\n",
       "smoker_Yes           2.36e+04    433.326     54.463      0.000    2.27e+04    2.45e+04\n",
       "region_northwest    -527.3607    497.967     -1.059      0.290   -1504.350     449.629\n",
       "region_southeast    -696.9309    495.714     -1.406      0.160   -1669.501     275.639\n",
       "region_southwest   -1042.1705    504.427     -2.066      0.039   -2031.835     -52.506\n",
       "bmi bin_Healthy     1516.7591   1482.977      1.023      0.307   -1392.779    4426.298\n",
       "bmi bin_Overweight  2232.5459   1457.786      1.531      0.126    -627.569    5092.661\n",
       "bmi bin_Obese       6209.6881   1449.510      4.284      0.000    3365.812    9053.565\n",
       "==============================================================================\n",
       "Omnibus:                      305.100   Durbin-Watson:                   1.930\n",
       "Prob(Omnibus):                  0.000   Jarque-Bera (JB):              763.717\n",
       "Skew:                           1.340   Prob(JB):                    1.45e-166\n",
       "Kurtosis:                       5.836   Cond. No.                     1.98e+03\n",
       "==============================================================================\n",
       "\n",
       "Notes:\n",
       "[1] Standard Errors assume that the covariance matrix of the errors is correctly specified.\n",
       "[2] The condition number is large, 1.98e+03. This might indicate that there are\n",
       "strong multicollinearity or other numerical problems.\n",
       "\"\"\""
      ]
     },
     "execution_count": 70,
     "metadata": {},
     "output_type": "execute_result"
    }
   ],
   "source": [
    "model.summary()"
   ]
  },
  {
   "cell_type": "code",
   "execution_count": null,
   "metadata": {},
   "outputs": [],
   "source": []
  },
  {
   "cell_type": "markdown",
   "metadata": {},
   "source": [
    "### BMI Binning with Normalization"
   ]
  },
  {
   "cell_type": "code",
   "execution_count": 71,
   "metadata": {},
   "outputs": [],
   "source": [
    "df = pd.read_csv(\"insurance.csv\")"
   ]
  },
  {
   "cell_type": "code",
   "execution_count": 72,
   "metadata": {},
   "outputs": [],
   "source": [
    "# Adding new variable 'bmi bin' using pd.cut function on 'bmi' variable\n",
    "df['bmi bin']=pd.cut(df['bmi'], bins=[0,18.5,25,30,max(df['bmi'])],labels=['Underweight', 'Healthy', 'Overweight', 'Obese'])"
   ]
  },
  {
   "cell_type": "code",
   "execution_count": 73,
   "metadata": {},
   "outputs": [],
   "source": [
    "df_cat = df.select_dtypes(include=['object','category'])\n",
    "df_num = df.select_dtypes(exclude=['object','category'])"
   ]
  },
  {
   "cell_type": "code",
   "execution_count": 74,
   "metadata": {},
   "outputs": [],
   "source": [
    "# Removing bmi from numerical data\n",
    "df_num = df_num.drop('bmi',axis=1)"
   ]
  },
  {
   "cell_type": "code",
   "execution_count": 75,
   "metadata": {},
   "outputs": [],
   "source": [
    "# Encoding the Categorical data using N-1 dummy encoding\n",
    "df_cat_encoded=pd.get_dummies(df_cat,drop_first=True)"
   ]
  },
  {
   "cell_type": "code",
   "execution_count": 76,
   "metadata": {},
   "outputs": [],
   "source": [
    "# Scaling numerical data using Normaliztion or Min_Max Scaling\n",
    "df_num_normalized = pd.DataFrame(MinMaxScaler().fit_transform(df_num.values), columns=df_num.columns, index=df_num.index)"
   ]
  },
  {
   "cell_type": "code",
   "execution_count": 77,
   "metadata": {},
   "outputs": [],
   "source": [
    "# Merging the encoded data and normalized numerical data\n",
    "df_merged = normalization_fun(df_num)"
   ]
  },
  {
   "cell_type": "code",
   "execution_count": 78,
   "metadata": {},
   "outputs": [],
   "source": [
    "df_merged=sm.add_constant(df_merged)"
   ]
  },
  {
   "cell_type": "code",
   "execution_count": 79,
   "metadata": {},
   "outputs": [],
   "source": [
    "# Calling the runner function and getting the model as return.\n",
    "model = runner(df_merged)"
   ]
  },
  {
   "cell_type": "code",
   "execution_count": 80,
   "metadata": {
    "scrolled": true
   },
   "outputs": [
    {
     "data": {
      "text/html": [
       "<table class=\"simpletable\">\n",
       "<caption>OLS Regression Results</caption>\n",
       "<tr>\n",
       "  <th>Dep. Variable:</th>          <td>claim</td>      <th>  R-squared:         </th> <td>   0.097</td>\n",
       "</tr>\n",
       "<tr>\n",
       "  <th>Model:</th>                   <td>OLS</td>       <th>  Adj. R-squared:    </th> <td>   0.095</td>\n",
       "</tr>\n",
       "<tr>\n",
       "  <th>Method:</th>             <td>Least Squares</td>  <th>  F-statistic:       </th> <td>   42.99</td>\n",
       "</tr>\n",
       "<tr>\n",
       "  <th>Date:</th>             <td>Tue, 19 Jan 2021</td> <th>  Prob (F-statistic):</th> <td>2.18e-26</td>\n",
       "</tr>\n",
       "<tr>\n",
       "  <th>Time:</th>                 <td>15:41:42</td>     <th>  Log-Likelihood:    </th> <td>  341.76</td>\n",
       "</tr>\n",
       "<tr>\n",
       "  <th>No. Observations:</th>      <td>  1204</td>      <th>  AIC:               </th> <td>  -675.5</td>\n",
       "</tr>\n",
       "<tr>\n",
       "  <th>Df Residuals:</th>          <td>  1200</td>      <th>  BIC:               </th> <td>  -655.1</td>\n",
       "</tr>\n",
       "<tr>\n",
       "  <th>Df Model:</th>              <td>     3</td>      <th>                     </th>     <td> </td>   \n",
       "</tr>\n",
       "<tr>\n",
       "  <th>Covariance Type:</th>      <td>nonrobust</td>    <th>                     </th>     <td> </td>   \n",
       "</tr>\n",
       "</table>\n",
       "<table class=\"simpletable\">\n",
       "<tr>\n",
       "        <td></td>           <th>coef</th>     <th>std err</th>      <th>t</th>      <th>P>|t|</th>  <th>[0.025</th>    <th>0.975]</th>  \n",
       "</tr>\n",
       "<tr>\n",
       "  <th>const</th>         <td>    0.0948</td> <td>    0.014</td> <td>    6.732</td> <td> 0.000</td> <td>    0.067</td> <td>    0.122</td>\n",
       "</tr>\n",
       "<tr>\n",
       "  <th>age</th>           <td>    0.1915</td> <td>    0.017</td> <td>   11.079</td> <td> 0.000</td> <td>    0.158</td> <td>    0.225</td>\n",
       "</tr>\n",
       "<tr>\n",
       "  <th>bloodpressure</th> <td>    0.0018</td> <td>    0.018</td> <td>    0.102</td> <td> 0.919</td> <td>   -0.034</td> <td>    0.037</td>\n",
       "</tr>\n",
       "<tr>\n",
       "  <th>children</th>      <td>    0.0392</td> <td>    0.022</td> <td>    1.806</td> <td> 0.071</td> <td>   -0.003</td> <td>    0.082</td>\n",
       "</tr>\n",
       "</table>\n",
       "<table class=\"simpletable\">\n",
       "<tr>\n",
       "  <th>Omnibus:</th>       <td>365.068</td> <th>  Durbin-Watson:     </th> <td>   1.900</td> \n",
       "</tr>\n",
       "<tr>\n",
       "  <th>Prob(Omnibus):</th> <td> 0.000</td>  <th>  Jarque-Bera (JB):  </th> <td> 796.406</td> \n",
       "</tr>\n",
       "<tr>\n",
       "  <th>Skew:</th>          <td> 1.747</td>  <th>  Prob(JB):          </th> <td>1.16e-173</td>\n",
       "</tr>\n",
       "<tr>\n",
       "  <th>Kurtosis:</th>      <td> 4.916</td>  <th>  Cond. No.          </th> <td>    5.52</td> \n",
       "</tr>\n",
       "</table><br/><br/>Notes:<br/>[1] Standard Errors assume that the covariance matrix of the errors is correctly specified."
      ],
      "text/plain": [
       "<class 'statsmodels.iolib.summary.Summary'>\n",
       "\"\"\"\n",
       "                            OLS Regression Results                            \n",
       "==============================================================================\n",
       "Dep. Variable:                  claim   R-squared:                       0.097\n",
       "Model:                            OLS   Adj. R-squared:                  0.095\n",
       "Method:                 Least Squares   F-statistic:                     42.99\n",
       "Date:                Tue, 19 Jan 2021   Prob (F-statistic):           2.18e-26\n",
       "Time:                        15:41:42   Log-Likelihood:                 341.76\n",
       "No. Observations:                1204   AIC:                            -675.5\n",
       "Df Residuals:                    1200   BIC:                            -655.1\n",
       "Df Model:                           3                                         \n",
       "Covariance Type:            nonrobust                                         \n",
       "=================================================================================\n",
       "                    coef    std err          t      P>|t|      [0.025      0.975]\n",
       "---------------------------------------------------------------------------------\n",
       "const             0.0948      0.014      6.732      0.000       0.067       0.122\n",
       "age               0.1915      0.017     11.079      0.000       0.158       0.225\n",
       "bloodpressure     0.0018      0.018      0.102      0.919      -0.034       0.037\n",
       "children          0.0392      0.022      1.806      0.071      -0.003       0.082\n",
       "==============================================================================\n",
       "Omnibus:                      365.068   Durbin-Watson:                   1.900\n",
       "Prob(Omnibus):                  0.000   Jarque-Bera (JB):              796.406\n",
       "Skew:                           1.747   Prob(JB):                    1.16e-173\n",
       "Kurtosis:                       4.916   Cond. No.                         5.52\n",
       "==============================================================================\n",
       "\n",
       "Notes:\n",
       "[1] Standard Errors assume that the covariance matrix of the errors is correctly specified.\n",
       "\"\"\""
      ]
     },
     "execution_count": 80,
     "metadata": {},
     "output_type": "execute_result"
    }
   ],
   "source": [
    "model.summary()"
   ]
  },
  {
   "cell_type": "code",
   "execution_count": null,
   "metadata": {},
   "outputs": [],
   "source": []
  },
  {
   "cell_type": "markdown",
   "metadata": {},
   "source": [
    "### BMI Binning with Standardization"
   ]
  },
  {
   "cell_type": "code",
   "execution_count": 81,
   "metadata": {},
   "outputs": [],
   "source": [
    "df = pd.read_csv(\"insurance.csv\")"
   ]
  },
  {
   "cell_type": "code",
   "execution_count": 82,
   "metadata": {},
   "outputs": [],
   "source": [
    "# Adding new variable 'bmi bin' using pd.cut function on 'bmi' variable\n",
    "df['bmi bin']=pd.cut(df['bmi'], bins=[0,18.5,25,30,max(df['bmi'])],labels=['Underweight', 'Healthy', 'Overweight', 'Obese'])"
   ]
  },
  {
   "cell_type": "code",
   "execution_count": 83,
   "metadata": {},
   "outputs": [],
   "source": [
    "df_cat = df.select_dtypes(include=['object','category'])\n",
    "df_num = df.select_dtypes(exclude=['object','category'])"
   ]
  },
  {
   "cell_type": "code",
   "execution_count": 84,
   "metadata": {},
   "outputs": [],
   "source": [
    "# Removing bmi from numerical data\n",
    "df_num = df_num.drop('bmi',axis=1)"
   ]
  },
  {
   "cell_type": "code",
   "execution_count": 108,
   "metadata": {},
   "outputs": [],
   "source": [
    "# Encoding the Categorical data using One-Hot encoding\n",
    "df_cat_encoded=pd.get_dummies(df_cat)"
   ]
  },
  {
   "cell_type": "code",
   "execution_count": 110,
   "metadata": {},
   "outputs": [
    {
     "data": {
      "text/html": [
       "<div>\n",
       "<style scoped>\n",
       "    .dataframe tbody tr th:only-of-type {\n",
       "        vertical-align: middle;\n",
       "    }\n",
       "\n",
       "    .dataframe tbody tr th {\n",
       "        vertical-align: top;\n",
       "    }\n",
       "\n",
       "    .dataframe thead th {\n",
       "        text-align: right;\n",
       "    }\n",
       "</style>\n",
       "<table border=\"1\" class=\"dataframe\">\n",
       "  <thead>\n",
       "    <tr style=\"text-align: right;\">\n",
       "      <th></th>\n",
       "      <th>gender_female</th>\n",
       "      <th>gender_male</th>\n",
       "      <th>diabetic_No</th>\n",
       "      <th>diabetic_Yes</th>\n",
       "      <th>smoker_No</th>\n",
       "      <th>smoker_Yes</th>\n",
       "      <th>region_northeast</th>\n",
       "      <th>region_northwest</th>\n",
       "      <th>region_southeast</th>\n",
       "      <th>region_southwest</th>\n",
       "    </tr>\n",
       "  </thead>\n",
       "  <tbody>\n",
       "    <tr>\n",
       "      <th>0</th>\n",
       "      <td>1</td>\n",
       "      <td>0</td>\n",
       "      <td>1</td>\n",
       "      <td>0</td>\n",
       "      <td>0</td>\n",
       "      <td>1</td>\n",
       "      <td>0</td>\n",
       "      <td>0</td>\n",
       "      <td>0</td>\n",
       "      <td>1</td>\n",
       "    </tr>\n",
       "    <tr>\n",
       "      <th>1</th>\n",
       "      <td>0</td>\n",
       "      <td>1</td>\n",
       "      <td>1</td>\n",
       "      <td>0</td>\n",
       "      <td>1</td>\n",
       "      <td>0</td>\n",
       "      <td>0</td>\n",
       "      <td>0</td>\n",
       "      <td>1</td>\n",
       "      <td>0</td>\n",
       "    </tr>\n",
       "    <tr>\n",
       "      <th>2</th>\n",
       "      <td>0</td>\n",
       "      <td>1</td>\n",
       "      <td>0</td>\n",
       "      <td>1</td>\n",
       "      <td>1</td>\n",
       "      <td>0</td>\n",
       "      <td>0</td>\n",
       "      <td>0</td>\n",
       "      <td>1</td>\n",
       "      <td>0</td>\n",
       "    </tr>\n",
       "    <tr>\n",
       "      <th>3</th>\n",
       "      <td>0</td>\n",
       "      <td>1</td>\n",
       "      <td>0</td>\n",
       "      <td>1</td>\n",
       "      <td>1</td>\n",
       "      <td>0</td>\n",
       "      <td>0</td>\n",
       "      <td>1</td>\n",
       "      <td>0</td>\n",
       "      <td>0</td>\n",
       "    </tr>\n",
       "    <tr>\n",
       "      <th>4</th>\n",
       "      <td>0</td>\n",
       "      <td>1</td>\n",
       "      <td>1</td>\n",
       "      <td>0</td>\n",
       "      <td>1</td>\n",
       "      <td>0</td>\n",
       "      <td>0</td>\n",
       "      <td>1</td>\n",
       "      <td>0</td>\n",
       "      <td>0</td>\n",
       "    </tr>\n",
       "    <tr>\n",
       "      <th>...</th>\n",
       "      <td>...</td>\n",
       "      <td>...</td>\n",
       "      <td>...</td>\n",
       "      <td>...</td>\n",
       "      <td>...</td>\n",
       "      <td>...</td>\n",
       "      <td>...</td>\n",
       "      <td>...</td>\n",
       "      <td>...</td>\n",
       "      <td>...</td>\n",
       "    </tr>\n",
       "    <tr>\n",
       "      <th>1333</th>\n",
       "      <td>0</td>\n",
       "      <td>1</td>\n",
       "      <td>1</td>\n",
       "      <td>0</td>\n",
       "      <td>1</td>\n",
       "      <td>0</td>\n",
       "      <td>0</td>\n",
       "      <td>1</td>\n",
       "      <td>0</td>\n",
       "      <td>0</td>\n",
       "    </tr>\n",
       "    <tr>\n",
       "      <th>1334</th>\n",
       "      <td>1</td>\n",
       "      <td>0</td>\n",
       "      <td>1</td>\n",
       "      <td>0</td>\n",
       "      <td>1</td>\n",
       "      <td>0</td>\n",
       "      <td>1</td>\n",
       "      <td>0</td>\n",
       "      <td>0</td>\n",
       "      <td>0</td>\n",
       "    </tr>\n",
       "    <tr>\n",
       "      <th>1335</th>\n",
       "      <td>1</td>\n",
       "      <td>0</td>\n",
       "      <td>1</td>\n",
       "      <td>0</td>\n",
       "      <td>1</td>\n",
       "      <td>0</td>\n",
       "      <td>0</td>\n",
       "      <td>0</td>\n",
       "      <td>1</td>\n",
       "      <td>0</td>\n",
       "    </tr>\n",
       "    <tr>\n",
       "      <th>1336</th>\n",
       "      <td>1</td>\n",
       "      <td>0</td>\n",
       "      <td>0</td>\n",
       "      <td>1</td>\n",
       "      <td>1</td>\n",
       "      <td>0</td>\n",
       "      <td>0</td>\n",
       "      <td>0</td>\n",
       "      <td>0</td>\n",
       "      <td>1</td>\n",
       "    </tr>\n",
       "    <tr>\n",
       "      <th>1337</th>\n",
       "      <td>1</td>\n",
       "      <td>0</td>\n",
       "      <td>1</td>\n",
       "      <td>0</td>\n",
       "      <td>0</td>\n",
       "      <td>1</td>\n",
       "      <td>0</td>\n",
       "      <td>1</td>\n",
       "      <td>0</td>\n",
       "      <td>0</td>\n",
       "    </tr>\n",
       "  </tbody>\n",
       "</table>\n",
       "<p>1338 rows × 10 columns</p>\n",
       "</div>"
      ],
      "text/plain": [
       "      gender_female  gender_male  diabetic_No  diabetic_Yes  smoker_No  \\\n",
       "0                 1            0            1             0          0   \n",
       "1                 0            1            1             0          1   \n",
       "2                 0            1            0             1          1   \n",
       "3                 0            1            0             1          1   \n",
       "4                 0            1            1             0          1   \n",
       "...             ...          ...          ...           ...        ...   \n",
       "1333              0            1            1             0          1   \n",
       "1334              1            0            1             0          1   \n",
       "1335              1            0            1             0          1   \n",
       "1336              1            0            0             1          1   \n",
       "1337              1            0            1             0          0   \n",
       "\n",
       "      smoker_Yes  region_northeast  region_northwest  region_southeast  \\\n",
       "0              1                 0                 0                 0   \n",
       "1              0                 0                 0                 1   \n",
       "2              0                 0                 0                 1   \n",
       "3              0                 0                 1                 0   \n",
       "4              0                 0                 1                 0   \n",
       "...          ...               ...               ...               ...   \n",
       "1333           0                 0                 1                 0   \n",
       "1334           0                 1                 0                 0   \n",
       "1335           0                 0                 0                 1   \n",
       "1336           0                 0                 0                 0   \n",
       "1337           1                 0                 1                 0   \n",
       "\n",
       "      region_southwest  \n",
       "0                    1  \n",
       "1                    0  \n",
       "2                    0  \n",
       "3                    0  \n",
       "4                    0  \n",
       "...                ...  \n",
       "1333                 0  \n",
       "1334                 0  \n",
       "1335                 0  \n",
       "1336                 1  \n",
       "1337                 0  \n",
       "\n",
       "[1338 rows x 10 columns]"
      ]
     },
     "execution_count": 110,
     "metadata": {},
     "output_type": "execute_result"
    }
   ],
   "source": [
    "df_cat_encoded"
   ]
  },
  {
   "cell_type": "code",
   "execution_count": 100,
   "metadata": {},
   "outputs": [],
   "source": [
    "# Scaling numerical data using Standardization or z-score scaling\n",
    "df_num_standardized = standardization_fun(df_num)"
   ]
  },
  {
   "cell_type": "code",
   "execution_count": 101,
   "metadata": {},
   "outputs": [],
   "source": [
    "# Merging the encoded data and standardized numerical data\n",
    "df_merged = pd.concat([df_num_standardized,df_cat_encoded],axis=1)"
   ]
  },
  {
   "cell_type": "code",
   "execution_count": 102,
   "metadata": {},
   "outputs": [],
   "source": [
    "df_merged=sm.add_constant(df_merged)"
   ]
  },
  {
   "cell_type": "code",
   "execution_count": 103,
   "metadata": {},
   "outputs": [],
   "source": [
    "# Calling the runner function and getting the model as return.\n",
    "model = runner(df_merged)"
   ]
  },
  {
   "cell_type": "code",
   "execution_count": 104,
   "metadata": {
    "scrolled": true
   },
   "outputs": [
    {
     "data": {
      "text/html": [
       "<table class=\"simpletable\">\n",
       "<caption>OLS Regression Results</caption>\n",
       "<tr>\n",
       "  <th>Dep. Variable:</th>          <td>claim</td>      <th>  R-squared:         </th> <td>   0.748</td>\n",
       "</tr>\n",
       "<tr>\n",
       "  <th>Model:</th>                   <td>OLS</td>       <th>  Adj. R-squared:    </th> <td>   0.746</td>\n",
       "</tr>\n",
       "<tr>\n",
       "  <th>Method:</th>             <td>Least Squares</td>  <th>  F-statistic:       </th> <td>   353.5</td>\n",
       "</tr>\n",
       "<tr>\n",
       "  <th>Date:</th>             <td>Tue, 19 Jan 2021</td> <th>  Prob (F-statistic):</th>  <td>  0.00</td> \n",
       "</tr>\n",
       "<tr>\n",
       "  <th>Time:</th>                 <td>15:42:26</td>     <th>  Log-Likelihood:    </th> <td> -870.00</td>\n",
       "</tr>\n",
       "<tr>\n",
       "  <th>No. Observations:</th>      <td>  1204</td>      <th>  AIC:               </th> <td>   1762.</td>\n",
       "</tr>\n",
       "<tr>\n",
       "  <th>Df Residuals:</th>          <td>  1193</td>      <th>  BIC:               </th> <td>   1818.</td>\n",
       "</tr>\n",
       "<tr>\n",
       "  <th>Df Model:</th>              <td>    10</td>      <th>                     </th>     <td> </td>   \n",
       "</tr>\n",
       "<tr>\n",
       "  <th>Covariance Type:</th>      <td>nonrobust</td>    <th>                     </th>     <td> </td>   \n",
       "</tr>\n",
       "</table>\n",
       "<table class=\"simpletable\">\n",
       "<tr>\n",
       "          <td></td>            <th>coef</th>     <th>std err</th>      <th>t</th>      <th>P>|t|</th>  <th>[0.025</th>    <th>0.975]</th>  \n",
       "</tr>\n",
       "<tr>\n",
       "  <th>const</th>            <td>    0.2080</td> <td>    0.007</td> <td>   31.709</td> <td> 0.000</td> <td>    0.195</td> <td>    0.221</td>\n",
       "</tr>\n",
       "<tr>\n",
       "  <th>age</th>              <td>    0.3017</td> <td>    0.015</td> <td>   20.691</td> <td> 0.000</td> <td>    0.273</td> <td>    0.330</td>\n",
       "</tr>\n",
       "<tr>\n",
       "  <th>bmi</th>              <td>    0.1704</td> <td>    0.015</td> <td>   11.023</td> <td> 0.000</td> <td>    0.140</td> <td>    0.201</td>\n",
       "</tr>\n",
       "<tr>\n",
       "  <th>bloodpressure</th>    <td>    0.0092</td> <td>    0.014</td> <td>    0.635</td> <td> 0.526</td> <td>   -0.019</td> <td>    0.038</td>\n",
       "</tr>\n",
       "<tr>\n",
       "  <th>children</th>         <td>    0.0473</td> <td>    0.014</td> <td>    3.289</td> <td> 0.001</td> <td>    0.019</td> <td>    0.076</td>\n",
       "</tr>\n",
       "<tr>\n",
       "  <th>gender_female</th>    <td>    0.1081</td> <td>    0.015</td> <td>    7.157</td> <td> 0.000</td> <td>    0.078</td> <td>    0.138</td>\n",
       "</tr>\n",
       "<tr>\n",
       "  <th>gender_male</th>      <td>    0.0999</td> <td>    0.015</td> <td>    6.803</td> <td> 0.000</td> <td>    0.071</td> <td>    0.129</td>\n",
       "</tr>\n",
       "<tr>\n",
       "  <th>diabetic_No</th>      <td>    0.1144</td> <td>    0.015</td> <td>    7.738</td> <td> 0.000</td> <td>    0.085</td> <td>    0.143</td>\n",
       "</tr>\n",
       "<tr>\n",
       "  <th>diabetic_Yes</th>     <td>    0.0936</td> <td>    0.015</td> <td>    6.254</td> <td> 0.000</td> <td>    0.064</td> <td>    0.123</td>\n",
       "</tr>\n",
       "<tr>\n",
       "  <th>smoker_No</th>        <td>   -0.8721</td> <td>    0.016</td> <td>  -53.444</td> <td> 0.000</td> <td>   -0.904</td> <td>   -0.840</td>\n",
       "</tr>\n",
       "<tr>\n",
       "  <th>smoker_Yes</th>       <td>    1.0801</td> <td>    0.020</td> <td>   53.499</td> <td> 0.000</td> <td>    1.041</td> <td>    1.120</td>\n",
       "</tr>\n",
       "<tr>\n",
       "  <th>region_northeast</th> <td>    0.1053</td> <td>    0.026</td> <td>    4.073</td> <td> 0.000</td> <td>    0.055</td> <td>    0.156</td>\n",
       "</tr>\n",
       "<tr>\n",
       "  <th>region_northwest</th> <td>    0.0665</td> <td>    0.025</td> <td>    2.624</td> <td> 0.009</td> <td>    0.017</td> <td>    0.116</td>\n",
       "</tr>\n",
       "<tr>\n",
       "  <th>region_southeast</th> <td>    0.0165</td> <td>    0.025</td> <td>    0.648</td> <td> 0.517</td> <td>   -0.033</td> <td>    0.066</td>\n",
       "</tr>\n",
       "<tr>\n",
       "  <th>region_southwest</th> <td>    0.0198</td> <td>    0.026</td> <td>    0.774</td> <td> 0.439</td> <td>   -0.030</td> <td>    0.070</td>\n",
       "</tr>\n",
       "</table>\n",
       "<table class=\"simpletable\">\n",
       "<tr>\n",
       "  <th>Omnibus:</th>       <td>283.928</td> <th>  Durbin-Watson:     </th> <td>   1.927</td> \n",
       "</tr>\n",
       "<tr>\n",
       "  <th>Prob(Omnibus):</th> <td> 0.000</td>  <th>  Jarque-Bera (JB):  </th> <td> 690.078</td> \n",
       "</tr>\n",
       "<tr>\n",
       "  <th>Skew:</th>          <td> 1.259</td>  <th>  Prob(JB):          </th> <td>1.42e-150</td>\n",
       "</tr>\n",
       "<tr>\n",
       "  <th>Kurtosis:</th>      <td> 5.722</td>  <th>  Cond. No.          </th> <td>4.22e+16</td> \n",
       "</tr>\n",
       "</table><br/><br/>Notes:<br/>[1] Standard Errors assume that the covariance matrix of the errors is correctly specified.<br/>[2] The smallest eigenvalue is  2e-30. This might indicate that there are<br/>strong multicollinearity problems or that the design matrix is singular."
      ],
      "text/plain": [
       "<class 'statsmodels.iolib.summary.Summary'>\n",
       "\"\"\"\n",
       "                            OLS Regression Results                            \n",
       "==============================================================================\n",
       "Dep. Variable:                  claim   R-squared:                       0.748\n",
       "Model:                            OLS   Adj. R-squared:                  0.746\n",
       "Method:                 Least Squares   F-statistic:                     353.5\n",
       "Date:                Tue, 19 Jan 2021   Prob (F-statistic):               0.00\n",
       "Time:                        15:42:26   Log-Likelihood:                -870.00\n",
       "No. Observations:                1204   AIC:                             1762.\n",
       "Df Residuals:                    1193   BIC:                             1818.\n",
       "Df Model:                          10                                         \n",
       "Covariance Type:            nonrobust                                         \n",
       "====================================================================================\n",
       "                       coef    std err          t      P>|t|      [0.025      0.975]\n",
       "------------------------------------------------------------------------------------\n",
       "const                0.2080      0.007     31.709      0.000       0.195       0.221\n",
       "age                  0.3017      0.015     20.691      0.000       0.273       0.330\n",
       "bmi                  0.1704      0.015     11.023      0.000       0.140       0.201\n",
       "bloodpressure        0.0092      0.014      0.635      0.526      -0.019       0.038\n",
       "children             0.0473      0.014      3.289      0.001       0.019       0.076\n",
       "gender_female        0.1081      0.015      7.157      0.000       0.078       0.138\n",
       "gender_male          0.0999      0.015      6.803      0.000       0.071       0.129\n",
       "diabetic_No          0.1144      0.015      7.738      0.000       0.085       0.143\n",
       "diabetic_Yes         0.0936      0.015      6.254      0.000       0.064       0.123\n",
       "smoker_No           -0.8721      0.016    -53.444      0.000      -0.904      -0.840\n",
       "smoker_Yes           1.0801      0.020     53.499      0.000       1.041       1.120\n",
       "region_northeast     0.1053      0.026      4.073      0.000       0.055       0.156\n",
       "region_northwest     0.0665      0.025      2.624      0.009       0.017       0.116\n",
       "region_southeast     0.0165      0.025      0.648      0.517      -0.033       0.066\n",
       "region_southwest     0.0198      0.026      0.774      0.439      -0.030       0.070\n",
       "==============================================================================\n",
       "Omnibus:                      283.928   Durbin-Watson:                   1.927\n",
       "Prob(Omnibus):                  0.000   Jarque-Bera (JB):              690.078\n",
       "Skew:                           1.259   Prob(JB):                    1.42e-150\n",
       "Kurtosis:                       5.722   Cond. No.                     4.22e+16\n",
       "==============================================================================\n",
       "\n",
       "Notes:\n",
       "[1] Standard Errors assume that the covariance matrix of the errors is correctly specified.\n",
       "[2] The smallest eigenvalue is  2e-30. This might indicate that there are\n",
       "strong multicollinearity problems or that the design matrix is singular.\n",
       "\"\"\""
      ]
     },
     "execution_count": 104,
     "metadata": {},
     "output_type": "execute_result"
    }
   ],
   "source": [
    "model.summary()"
   ]
  },
  {
   "cell_type": "code",
   "execution_count": null,
   "metadata": {},
   "outputs": [],
   "source": []
  },
  {
   "cell_type": "markdown",
   "metadata": {},
   "source": [
    "### Q7. Z = bmi * smoker_Yes"
   ]
  },
  {
   "cell_type": "code",
   "execution_count": 105,
   "metadata": {},
   "outputs": [],
   "source": [
    "df = pd.read_csv(\"insurance.csv\")"
   ]
  },
  {
   "cell_type": "code",
   "execution_count": 106,
   "metadata": {},
   "outputs": [],
   "source": [
    "df_cat = df.select_dtypes(include=['object','category'])\n",
    "df_num = df.select_dtypes(exclude=['object','category'])"
   ]
  },
  {
   "cell_type": "code",
   "execution_count": 107,
   "metadata": {},
   "outputs": [],
   "source": [
    "# Encoding the Categorical data using N-1 dummy encoding\n",
    "df_cat_encoded=pd.get_dummies(df_cat,drop_first=True)"
   ]
  },
  {
   "cell_type": "code",
   "execution_count": 94,
   "metadata": {},
   "outputs": [],
   "source": [
    "# Merging the encoded data and numerical data\n",
    "df_merged = pd.concat([df_num,df_cat_encoded],axis=1)"
   ]
  },
  {
   "cell_type": "code",
   "execution_count": 95,
   "metadata": {},
   "outputs": [],
   "source": [
    "df_merged=sm.add_constant(df_merged)"
   ]
  },
  {
   "cell_type": "code",
   "execution_count": 96,
   "metadata": {},
   "outputs": [],
   "source": [
    "# Adding new variable Z = bmi * smoker_Yes\n",
    "df_merged['z']= df_merged['bmi']*df_merged['smoker_Yes']"
   ]
  },
  {
   "cell_type": "code",
   "execution_count": 97,
   "metadata": {},
   "outputs": [],
   "source": [
    "# Calling the runner function and getting the model as return.\n",
    "model = runner(df_merged)"
   ]
  },
  {
   "cell_type": "code",
   "execution_count": 98,
   "metadata": {
    "scrolled": true
   },
   "outputs": [
    {
     "data": {
      "text/html": [
       "<table class=\"simpletable\">\n",
       "<caption>OLS Regression Results</caption>\n",
       "<tr>\n",
       "  <th>Dep. Variable:</th>          <td>claim</td>      <th>  R-squared:         </th> <td>   0.838</td> \n",
       "</tr>\n",
       "<tr>\n",
       "  <th>Model:</th>                   <td>OLS</td>       <th>  Adj. R-squared:    </th> <td>   0.836</td> \n",
       "</tr>\n",
       "<tr>\n",
       "  <th>Method:</th>             <td>Least Squares</td>  <th>  F-statistic:       </th> <td>   559.1</td> \n",
       "</tr>\n",
       "<tr>\n",
       "  <th>Date:</th>             <td>Tue, 19 Jan 2021</td> <th>  Prob (F-statistic):</th>  <td>  0.00</td>  \n",
       "</tr>\n",
       "<tr>\n",
       "  <th>Time:</th>                 <td>15:41:42</td>     <th>  Log-Likelihood:    </th> <td> -11924.</td> \n",
       "</tr>\n",
       "<tr>\n",
       "  <th>No. Observations:</th>      <td>  1204</td>      <th>  AIC:               </th> <td>2.387e+04</td>\n",
       "</tr>\n",
       "<tr>\n",
       "  <th>Df Residuals:</th>          <td>  1192</td>      <th>  BIC:               </th> <td>2.393e+04</td>\n",
       "</tr>\n",
       "<tr>\n",
       "  <th>Df Model:</th>              <td>    11</td>      <th>                     </th>     <td> </td>    \n",
       "</tr>\n",
       "<tr>\n",
       "  <th>Covariance Type:</th>      <td>nonrobust</td>    <th>                     </th>     <td> </td>    \n",
       "</tr>\n",
       "</table>\n",
       "<table class=\"simpletable\">\n",
       "<tr>\n",
       "          <td></td>            <th>coef</th>     <th>std err</th>      <th>t</th>      <th>P>|t|</th>  <th>[0.025</th>    <th>0.975]</th>  \n",
       "</tr>\n",
       "<tr>\n",
       "  <th>const</th>            <td>-2581.3869</td> <td> 1327.328</td> <td>   -1.945</td> <td> 0.052</td> <td>-5185.546</td> <td>   22.772</td>\n",
       "</tr>\n",
       "<tr>\n",
       "  <th>age</th>              <td>  264.5344</td> <td>   10.086</td> <td>   26.228</td> <td> 0.000</td> <td>  244.746</td> <td>  284.323</td>\n",
       "</tr>\n",
       "<tr>\n",
       "  <th>bmi</th>              <td>   29.1299</td> <td>   27.417</td> <td>    1.062</td> <td> 0.288</td> <td>  -24.662</td> <td>   82.922</td>\n",
       "</tr>\n",
       "<tr>\n",
       "  <th>bloodpressure</th>    <td>    2.3162</td> <td>    8.024</td> <td>    0.289</td> <td> 0.773</td> <td>  -13.426</td> <td>   18.058</td>\n",
       "</tr>\n",
       "<tr>\n",
       "  <th>children</th>         <td>  567.0424</td> <td>  116.082</td> <td>    4.885</td> <td> 0.000</td> <td>  339.295</td> <td>  794.790</td>\n",
       "</tr>\n",
       "<tr>\n",
       "  <th>gender_male</th>      <td> -591.1028</td> <td>  282.993</td> <td>   -2.089</td> <td> 0.037</td> <td>-1146.322</td> <td>  -35.883</td>\n",
       "</tr>\n",
       "<tr>\n",
       "  <th>diabetic_Yes</th>     <td> -155.8563</td> <td>  281.977</td> <td>   -0.553</td> <td> 0.581</td> <td> -709.083</td> <td>  397.370</td>\n",
       "</tr>\n",
       "<tr>\n",
       "  <th>smoker_Yes</th>       <td>-2.122e+04</td> <td> 1779.753</td> <td>  -11.921</td> <td> 0.000</td> <td>-2.47e+04</td> <td>-1.77e+04</td>\n",
       "</tr>\n",
       "<tr>\n",
       "  <th>region_northwest</th> <td> -620.5513</td> <td>  403.107</td> <td>   -1.539</td> <td> 0.124</td> <td>-1411.429</td> <td>  170.327</td>\n",
       "</tr>\n",
       "<tr>\n",
       "  <th>region_southeast</th> <td>-1261.8643</td> <td>  408.350</td> <td>   -3.090</td> <td> 0.002</td> <td>-2063.030</td> <td> -460.699</td>\n",
       "</tr>\n",
       "<tr>\n",
       "  <th>region_southwest</th> <td>-1277.8188</td> <td>  408.269</td> <td>   -3.130</td> <td> 0.002</td> <td>-2078.824</td> <td> -476.813</td>\n",
       "</tr>\n",
       "<tr>\n",
       "  <th>z</th>                <td> 1467.1216</td> <td>   57.077</td> <td>   25.704</td> <td> 0.000</td> <td> 1355.139</td> <td> 1579.104</td>\n",
       "</tr>\n",
       "</table>\n",
       "<table class=\"simpletable\">\n",
       "<tr>\n",
       "  <th>Omnibus:</th>       <td>667.475</td> <th>  Durbin-Watson:     </th> <td>   1.956</td>\n",
       "</tr>\n",
       "<tr>\n",
       "  <th>Prob(Omnibus):</th> <td> 0.000</td>  <th>  Jarque-Bera (JB):  </th> <td>4321.743</td>\n",
       "</tr>\n",
       "<tr>\n",
       "  <th>Skew:</th>          <td> 2.586</td>  <th>  Prob(JB):          </th> <td>    0.00</td>\n",
       "</tr>\n",
       "<tr>\n",
       "  <th>Kurtosis:</th>      <td>10.707</td>  <th>  Cond. No.          </th> <td>1.61e+03</td>\n",
       "</tr>\n",
       "</table><br/><br/>Notes:<br/>[1] Standard Errors assume that the covariance matrix of the errors is correctly specified.<br/>[2] The condition number is large, 1.61e+03. This might indicate that there are<br/>strong multicollinearity or other numerical problems."
      ],
      "text/plain": [
       "<class 'statsmodels.iolib.summary.Summary'>\n",
       "\"\"\"\n",
       "                            OLS Regression Results                            \n",
       "==============================================================================\n",
       "Dep. Variable:                  claim   R-squared:                       0.838\n",
       "Model:                            OLS   Adj. R-squared:                  0.836\n",
       "Method:                 Least Squares   F-statistic:                     559.1\n",
       "Date:                Tue, 19 Jan 2021   Prob (F-statistic):               0.00\n",
       "Time:                        15:41:42   Log-Likelihood:                -11924.\n",
       "No. Observations:                1204   AIC:                         2.387e+04\n",
       "Df Residuals:                    1192   BIC:                         2.393e+04\n",
       "Df Model:                          11                                         \n",
       "Covariance Type:            nonrobust                                         \n",
       "====================================================================================\n",
       "                       coef    std err          t      P>|t|      [0.025      0.975]\n",
       "------------------------------------------------------------------------------------\n",
       "const            -2581.3869   1327.328     -1.945      0.052   -5185.546      22.772\n",
       "age                264.5344     10.086     26.228      0.000     244.746     284.323\n",
       "bmi                 29.1299     27.417      1.062      0.288     -24.662      82.922\n",
       "bloodpressure        2.3162      8.024      0.289      0.773     -13.426      18.058\n",
       "children           567.0424    116.082      4.885      0.000     339.295     794.790\n",
       "gender_male       -591.1028    282.993     -2.089      0.037   -1146.322     -35.883\n",
       "diabetic_Yes      -155.8563    281.977     -0.553      0.581    -709.083     397.370\n",
       "smoker_Yes       -2.122e+04   1779.753    -11.921      0.000   -2.47e+04   -1.77e+04\n",
       "region_northwest  -620.5513    403.107     -1.539      0.124   -1411.429     170.327\n",
       "region_southeast -1261.8643    408.350     -3.090      0.002   -2063.030    -460.699\n",
       "region_southwest -1277.8188    408.269     -3.130      0.002   -2078.824    -476.813\n",
       "z                 1467.1216     57.077     25.704      0.000    1355.139    1579.104\n",
       "==============================================================================\n",
       "Omnibus:                      667.475   Durbin-Watson:                   1.956\n",
       "Prob(Omnibus):                  0.000   Jarque-Bera (JB):             4321.743\n",
       "Skew:                           2.586   Prob(JB):                         0.00\n",
       "Kurtosis:                      10.707   Cond. No.                     1.61e+03\n",
       "==============================================================================\n",
       "\n",
       "Notes:\n",
       "[1] Standard Errors assume that the covariance matrix of the errors is correctly specified.\n",
       "[2] The condition number is large, 1.61e+03. This might indicate that there are\n",
       "strong multicollinearity or other numerical problems.\n",
       "\"\"\""
      ]
     },
     "execution_count": 98,
     "metadata": {},
     "output_type": "execute_result"
    }
   ],
   "source": [
    "model.summary()"
   ]
  },
  {
   "cell_type": "code",
   "execution_count": null,
   "metadata": {},
   "outputs": [],
   "source": []
  },
  {
   "cell_type": "markdown",
   "metadata": {},
   "source": [
    "Featured Engineering"
   ]
  },
  {
   "cell_type": "code",
   "execution_count": null,
   "metadata": {},
   "outputs": [],
   "source": []
  },
  {
   "cell_type": "code",
   "execution_count": null,
   "metadata": {},
   "outputs": [],
   "source": []
  }
 ],
 "metadata": {
  "kernelspec": {
   "display_name": "Python 3",
   "language": "python",
   "name": "python3"
  },
  "language_info": {
   "codemirror_mode": {
    "name": "ipython",
    "version": 3
   },
   "file_extension": ".py",
   "mimetype": "text/x-python",
   "name": "python",
   "nbconvert_exporter": "python",
   "pygments_lexer": "ipython3",
   "version": "3.8.3"
  }
 },
 "nbformat": 4,
 "nbformat_minor": 4
}
