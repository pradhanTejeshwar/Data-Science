{
 "cells": [
  {
   "cell_type": "raw",
   "metadata": {},
   "source": [
    "Importing Libraries :-"
   ]
  },
  {
   "cell_type": "code",
   "execution_count": null,
   "metadata": {},
   "outputs": [],
   "source": [
    "import pandas as pd\n",
    "import numpy as np"
   ]
  },
  {
   "cell_type": "raw",
   "metadata": {},
   "source": [
    "Probability :-\n",
    "- Mutually Exclusive Event\n",
    "    * Head|Tails, Left|Right, 1|2|3|4|5|6, etc.\n",
    "    * If one of the outcome occurs other cannot occur.\n",
    "    * Sets of such kind of outcome will never overlap, i.e., heads and tails both cannot come both at once.\n",
    "    *P(A and B) = 0 | P(A or B) = P(A) + P(B)\n",
    "- Independent Event\n",
    "    * King of Hearts, North-west, etc\n",
    "    * The outcome are independent so, it is not effected.\n",
    "    * Sets of such kind of outcome may overlap one another. i.e.,Of all kings, one may be a king of hearts in a deck.\n",
    "    * P(A or B) = P(A) + P(B) - P(A and B)\n",
    "    \n",
    "//Note : And = Intersection, Or = Union//"
   ]
  },
  {
   "cell_type": "markdown",
   "metadata": {},
   "source": []
  }
 ],
 "metadata": {
  "kernelspec": {
   "display_name": "Python 3",
   "language": "python",
   "name": "python3"
  },
  "language_info": {
   "codemirror_mode": {
    "name": "ipython",
    "version": 3
   },
   "file_extension": ".py",
   "mimetype": "text/x-python",
   "name": "python",
   "nbconvert_exporter": "python",
   "pygments_lexer": "ipython3",
   "version": "3.8.5"
  }
 },
 "nbformat": 4,
 "nbformat_minor": 4
}
