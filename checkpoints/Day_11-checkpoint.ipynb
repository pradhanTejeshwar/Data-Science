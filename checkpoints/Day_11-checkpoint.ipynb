{
 "cells": [
  {
   "cell_type": "markdown",
   "metadata": {
    "id": "YrYLcGivkEgC"
   },
   "source": [
    "# 1st HALF"
   ]
  },
  {
   "cell_type": "code",
   "execution_count": null,
   "metadata": {
    "id": "5EQiZaXtkEgJ"
   },
   "outputs": [],
   "source": [
    "import pandas as pd\n",
    "import statsmodels.regression.linear_model as ols\n",
    "import statsmodels.api as sm\n",
    "from sklearn.model_selection import train_test_split\n",
    "from sklearn.preprocessing import StandardScaler\n",
    "from sklearn.preprocessing import MinMaxScaler\n",
    "from sklearn.metrics import mean_squared_error\n",
    "from sklearn.metrics import mean_absolute_error\n",
    "import numpy as np"
   ]
  },
  {
   "cell_type": "code",
   "execution_count": null,
   "metadata": {
    "id": "oKeM5FWYkEgL"
   },
   "outputs": [],
   "source": []
  },
  {
   "cell_type": "code",
   "execution_count": null,
   "metadata": {
    "id": "C5iZqBs3kEgM"
   },
   "outputs": [],
   "source": [
    "df = pd.read_csv(\"insurance.csv\")"
   ]
  },
  {
   "cell_type": "code",
   "execution_count": null,
   "metadata": {
    "id": "T4-mD3oLkEgN"
   },
   "outputs": [],
   "source": [
    "df_cat=df.select_dtypes(include=['object'])\n",
    "df_num=df.select_dtypes(exclude=['object'])"
   ]
  },
  {
   "cell_type": "code",
   "execution_count": null,
   "metadata": {
    "id": "QH_bjMdZkEgO",
    "outputId": "ed0d24d1-c5b5-478f-dc85-47f700270dde"
   },
   "outputs": [
    {
     "data": {
      "text/html": [
       "<div>\n",
       "<style scoped>\n",
       "    .dataframe tbody tr th:only-of-type {\n",
       "        vertical-align: middle;\n",
       "    }\n",
       "\n",
       "    .dataframe tbody tr th {\n",
       "        vertical-align: top;\n",
       "    }\n",
       "\n",
       "    .dataframe thead th {\n",
       "        text-align: right;\n",
       "    }\n",
       "</style>\n",
       "<table border=\"1\" class=\"dataframe\">\n",
       "  <thead>\n",
       "    <tr style=\"text-align: right;\">\n",
       "      <th></th>\n",
       "      <th>gender_female</th>\n",
       "      <th>gender_male</th>\n",
       "      <th>diabetic_No</th>\n",
       "      <th>diabetic_Yes</th>\n",
       "      <th>smoker_No</th>\n",
       "      <th>smoker_Yes</th>\n",
       "      <th>region_northeast</th>\n",
       "      <th>region_northwest</th>\n",
       "      <th>region_southeast</th>\n",
       "      <th>region_southwest</th>\n",
       "    </tr>\n",
       "  </thead>\n",
       "  <tbody>\n",
       "    <tr>\n",
       "      <th>0</th>\n",
       "      <td>1</td>\n",
       "      <td>0</td>\n",
       "      <td>1</td>\n",
       "      <td>0</td>\n",
       "      <td>0</td>\n",
       "      <td>1</td>\n",
       "      <td>0</td>\n",
       "      <td>0</td>\n",
       "      <td>0</td>\n",
       "      <td>1</td>\n",
       "    </tr>\n",
       "    <tr>\n",
       "      <th>1</th>\n",
       "      <td>0</td>\n",
       "      <td>1</td>\n",
       "      <td>1</td>\n",
       "      <td>0</td>\n",
       "      <td>1</td>\n",
       "      <td>0</td>\n",
       "      <td>0</td>\n",
       "      <td>0</td>\n",
       "      <td>1</td>\n",
       "      <td>0</td>\n",
       "    </tr>\n",
       "    <tr>\n",
       "      <th>2</th>\n",
       "      <td>0</td>\n",
       "      <td>1</td>\n",
       "      <td>0</td>\n",
       "      <td>1</td>\n",
       "      <td>1</td>\n",
       "      <td>0</td>\n",
       "      <td>0</td>\n",
       "      <td>0</td>\n",
       "      <td>1</td>\n",
       "      <td>0</td>\n",
       "    </tr>\n",
       "    <tr>\n",
       "      <th>3</th>\n",
       "      <td>0</td>\n",
       "      <td>1</td>\n",
       "      <td>0</td>\n",
       "      <td>1</td>\n",
       "      <td>1</td>\n",
       "      <td>0</td>\n",
       "      <td>0</td>\n",
       "      <td>1</td>\n",
       "      <td>0</td>\n",
       "      <td>0</td>\n",
       "    </tr>\n",
       "    <tr>\n",
       "      <th>4</th>\n",
       "      <td>0</td>\n",
       "      <td>1</td>\n",
       "      <td>1</td>\n",
       "      <td>0</td>\n",
       "      <td>1</td>\n",
       "      <td>0</td>\n",
       "      <td>0</td>\n",
       "      <td>1</td>\n",
       "      <td>0</td>\n",
       "      <td>0</td>\n",
       "    </tr>\n",
       "    <tr>\n",
       "      <th>...</th>\n",
       "      <td>...</td>\n",
       "      <td>...</td>\n",
       "      <td>...</td>\n",
       "      <td>...</td>\n",
       "      <td>...</td>\n",
       "      <td>...</td>\n",
       "      <td>...</td>\n",
       "      <td>...</td>\n",
       "      <td>...</td>\n",
       "      <td>...</td>\n",
       "    </tr>\n",
       "    <tr>\n",
       "      <th>1333</th>\n",
       "      <td>0</td>\n",
       "      <td>1</td>\n",
       "      <td>1</td>\n",
       "      <td>0</td>\n",
       "      <td>1</td>\n",
       "      <td>0</td>\n",
       "      <td>0</td>\n",
       "      <td>1</td>\n",
       "      <td>0</td>\n",
       "      <td>0</td>\n",
       "    </tr>\n",
       "    <tr>\n",
       "      <th>1334</th>\n",
       "      <td>1</td>\n",
       "      <td>0</td>\n",
       "      <td>1</td>\n",
       "      <td>0</td>\n",
       "      <td>1</td>\n",
       "      <td>0</td>\n",
       "      <td>1</td>\n",
       "      <td>0</td>\n",
       "      <td>0</td>\n",
       "      <td>0</td>\n",
       "    </tr>\n",
       "    <tr>\n",
       "      <th>1335</th>\n",
       "      <td>1</td>\n",
       "      <td>0</td>\n",
       "      <td>1</td>\n",
       "      <td>0</td>\n",
       "      <td>1</td>\n",
       "      <td>0</td>\n",
       "      <td>0</td>\n",
       "      <td>0</td>\n",
       "      <td>1</td>\n",
       "      <td>0</td>\n",
       "    </tr>\n",
       "    <tr>\n",
       "      <th>1336</th>\n",
       "      <td>1</td>\n",
       "      <td>0</td>\n",
       "      <td>0</td>\n",
       "      <td>1</td>\n",
       "      <td>1</td>\n",
       "      <td>0</td>\n",
       "      <td>0</td>\n",
       "      <td>0</td>\n",
       "      <td>0</td>\n",
       "      <td>1</td>\n",
       "    </tr>\n",
       "    <tr>\n",
       "      <th>1337</th>\n",
       "      <td>1</td>\n",
       "      <td>0</td>\n",
       "      <td>1</td>\n",
       "      <td>0</td>\n",
       "      <td>0</td>\n",
       "      <td>1</td>\n",
       "      <td>0</td>\n",
       "      <td>1</td>\n",
       "      <td>0</td>\n",
       "      <td>0</td>\n",
       "    </tr>\n",
       "  </tbody>\n",
       "</table>\n",
       "<p>1338 rows × 10 columns</p>\n",
       "</div>"
      ],
      "text/plain": [
       "      gender_female  gender_male  diabetic_No  diabetic_Yes  smoker_No  \\\n",
       "0                 1            0            1             0          0   \n",
       "1                 0            1            1             0          1   \n",
       "2                 0            1            0             1          1   \n",
       "3                 0            1            0             1          1   \n",
       "4                 0            1            1             0          1   \n",
       "...             ...          ...          ...           ...        ...   \n",
       "1333              0            1            1             0          1   \n",
       "1334              1            0            1             0          1   \n",
       "1335              1            0            1             0          1   \n",
       "1336              1            0            0             1          1   \n",
       "1337              1            0            1             0          0   \n",
       "\n",
       "      smoker_Yes  region_northeast  region_northwest  region_southeast  \\\n",
       "0              1                 0                 0                 0   \n",
       "1              0                 0                 0                 1   \n",
       "2              0                 0                 0                 1   \n",
       "3              0                 0                 1                 0   \n",
       "4              0                 0                 1                 0   \n",
       "...          ...               ...               ...               ...   \n",
       "1333           0                 0                 1                 0   \n",
       "1334           0                 1                 0                 0   \n",
       "1335           0                 0                 0                 1   \n",
       "1336           0                 0                 0                 0   \n",
       "1337           1                 0                 1                 0   \n",
       "\n",
       "      region_southwest  \n",
       "0                    1  \n",
       "1                    0  \n",
       "2                    0  \n",
       "3                    0  \n",
       "4                    0  \n",
       "...                ...  \n",
       "1333                 0  \n",
       "1334                 0  \n",
       "1335                 0  \n",
       "1336                 1  \n",
       "1337                 0  \n",
       "\n",
       "[1338 rows x 10 columns]"
      ]
     },
     "execution_count": 7,
     "metadata": {
      "tags": []
     },
     "output_type": "execute_result"
    }
   ],
   "source": [
    "#(1 Hot Encoding)\n",
    "df_cat_encoded=pd.get_dummies(df_cat)\n",
    "df_cat_encoded"
   ]
  },
  {
   "cell_type": "code",
   "execution_count": null,
   "metadata": {
    "id": "-VuMVY3ikEgP",
    "outputId": "846d63bc-ecc0-425a-8ec0-381fb9709693"
   },
   "outputs": [
    {
     "data": {
      "text/html": [
       "<div>\n",
       "<style scoped>\n",
       "    .dataframe tbody tr th:only-of-type {\n",
       "        vertical-align: middle;\n",
       "    }\n",
       "\n",
       "    .dataframe tbody tr th {\n",
       "        vertical-align: top;\n",
       "    }\n",
       "\n",
       "    .dataframe thead th {\n",
       "        text-align: right;\n",
       "    }\n",
       "</style>\n",
       "<table border=\"1\" class=\"dataframe\">\n",
       "  <thead>\n",
       "    <tr style=\"text-align: right;\">\n",
       "      <th></th>\n",
       "      <th>gender_male</th>\n",
       "      <th>diabetic_Yes</th>\n",
       "      <th>smoker_Yes</th>\n",
       "      <th>region_northwest</th>\n",
       "      <th>region_southeast</th>\n",
       "      <th>region_southwest</th>\n",
       "    </tr>\n",
       "  </thead>\n",
       "  <tbody>\n",
       "    <tr>\n",
       "      <th>0</th>\n",
       "      <td>0</td>\n",
       "      <td>0</td>\n",
       "      <td>1</td>\n",
       "      <td>0</td>\n",
       "      <td>0</td>\n",
       "      <td>1</td>\n",
       "    </tr>\n",
       "    <tr>\n",
       "      <th>1</th>\n",
       "      <td>1</td>\n",
       "      <td>0</td>\n",
       "      <td>0</td>\n",
       "      <td>0</td>\n",
       "      <td>1</td>\n",
       "      <td>0</td>\n",
       "    </tr>\n",
       "    <tr>\n",
       "      <th>2</th>\n",
       "      <td>1</td>\n",
       "      <td>1</td>\n",
       "      <td>0</td>\n",
       "      <td>0</td>\n",
       "      <td>1</td>\n",
       "      <td>0</td>\n",
       "    </tr>\n",
       "    <tr>\n",
       "      <th>3</th>\n",
       "      <td>1</td>\n",
       "      <td>1</td>\n",
       "      <td>0</td>\n",
       "      <td>1</td>\n",
       "      <td>0</td>\n",
       "      <td>0</td>\n",
       "    </tr>\n",
       "    <tr>\n",
       "      <th>4</th>\n",
       "      <td>1</td>\n",
       "      <td>0</td>\n",
       "      <td>0</td>\n",
       "      <td>1</td>\n",
       "      <td>0</td>\n",
       "      <td>0</td>\n",
       "    </tr>\n",
       "    <tr>\n",
       "      <th>...</th>\n",
       "      <td>...</td>\n",
       "      <td>...</td>\n",
       "      <td>...</td>\n",
       "      <td>...</td>\n",
       "      <td>...</td>\n",
       "      <td>...</td>\n",
       "    </tr>\n",
       "    <tr>\n",
       "      <th>1333</th>\n",
       "      <td>1</td>\n",
       "      <td>0</td>\n",
       "      <td>0</td>\n",
       "      <td>1</td>\n",
       "      <td>0</td>\n",
       "      <td>0</td>\n",
       "    </tr>\n",
       "    <tr>\n",
       "      <th>1334</th>\n",
       "      <td>0</td>\n",
       "      <td>0</td>\n",
       "      <td>0</td>\n",
       "      <td>0</td>\n",
       "      <td>0</td>\n",
       "      <td>0</td>\n",
       "    </tr>\n",
       "    <tr>\n",
       "      <th>1335</th>\n",
       "      <td>0</td>\n",
       "      <td>0</td>\n",
       "      <td>0</td>\n",
       "      <td>0</td>\n",
       "      <td>1</td>\n",
       "      <td>0</td>\n",
       "    </tr>\n",
       "    <tr>\n",
       "      <th>1336</th>\n",
       "      <td>0</td>\n",
       "      <td>1</td>\n",
       "      <td>0</td>\n",
       "      <td>0</td>\n",
       "      <td>0</td>\n",
       "      <td>1</td>\n",
       "    </tr>\n",
       "    <tr>\n",
       "      <th>1337</th>\n",
       "      <td>0</td>\n",
       "      <td>0</td>\n",
       "      <td>1</td>\n",
       "      <td>1</td>\n",
       "      <td>0</td>\n",
       "      <td>0</td>\n",
       "    </tr>\n",
       "  </tbody>\n",
       "</table>\n",
       "<p>1338 rows × 6 columns</p>\n",
       "</div>"
      ],
      "text/plain": [
       "      gender_male  diabetic_Yes  smoker_Yes  region_northwest  \\\n",
       "0               0             0           1                 0   \n",
       "1               1             0           0                 0   \n",
       "2               1             1           0                 0   \n",
       "3               1             1           0                 1   \n",
       "4               1             0           0                 1   \n",
       "...           ...           ...         ...               ...   \n",
       "1333            1             0           0                 1   \n",
       "1334            0             0           0                 0   \n",
       "1335            0             0           0                 0   \n",
       "1336            0             1           0                 0   \n",
       "1337            0             0           1                 1   \n",
       "\n",
       "      region_southeast  region_southwest  \n",
       "0                    0                 1  \n",
       "1                    1                 0  \n",
       "2                    1                 0  \n",
       "3                    0                 0  \n",
       "4                    0                 0  \n",
       "...                ...               ...  \n",
       "1333                 0                 0  \n",
       "1334                 0                 0  \n",
       "1335                 1                 0  \n",
       "1336                 0                 1  \n",
       "1337                 0                 0  \n",
       "\n",
       "[1338 rows x 6 columns]"
      ]
     },
     "execution_count": 8,
     "metadata": {
      "tags": []
     },
     "output_type": "execute_result"
    }
   ],
   "source": [
    "#N-1 Dummy Encoding\n",
    "df_cat_n=pd.get_dummies(df_cat,drop_first=True)\n",
    "df_cat_n"
   ]
  },
  {
   "cell_type": "code",
   "execution_count": null,
   "metadata": {
    "id": "QmSkoH9BkEgP",
    "outputId": "71d33a35-7bac-4eda-99ab-2e010e7e5a02"
   },
   "outputs": [
    {
     "data": {
      "text/html": [
       "<div>\n",
       "<style scoped>\n",
       "    .dataframe tbody tr th:only-of-type {\n",
       "        vertical-align: middle;\n",
       "    }\n",
       "\n",
       "    .dataframe tbody tr th {\n",
       "        vertical-align: top;\n",
       "    }\n",
       "\n",
       "    .dataframe thead th {\n",
       "        text-align: right;\n",
       "    }\n",
       "</style>\n",
       "<table border=\"1\" class=\"dataframe\">\n",
       "  <thead>\n",
       "    <tr style=\"text-align: right;\">\n",
       "      <th></th>\n",
       "      <th>age</th>\n",
       "      <th>bmi</th>\n",
       "      <th>bloodpressure</th>\n",
       "      <th>children</th>\n",
       "      <th>claim</th>\n",
       "      <th>gender_male</th>\n",
       "      <th>diabetic_Yes</th>\n",
       "      <th>smoker_Yes</th>\n",
       "      <th>region_northwest</th>\n",
       "      <th>region_southeast</th>\n",
       "      <th>region_southwest</th>\n",
       "    </tr>\n",
       "  </thead>\n",
       "  <tbody>\n",
       "    <tr>\n",
       "      <th>0</th>\n",
       "      <td>19</td>\n",
       "      <td>27.9</td>\n",
       "      <td>107</td>\n",
       "      <td>0</td>\n",
       "      <td>16884.92</td>\n",
       "      <td>0</td>\n",
       "      <td>0</td>\n",
       "      <td>1</td>\n",
       "      <td>0</td>\n",
       "      <td>0</td>\n",
       "      <td>1</td>\n",
       "    </tr>\n",
       "    <tr>\n",
       "      <th>1</th>\n",
       "      <td>18</td>\n",
       "      <td>33.8</td>\n",
       "      <td>133</td>\n",
       "      <td>1</td>\n",
       "      <td>1725.55</td>\n",
       "      <td>1</td>\n",
       "      <td>0</td>\n",
       "      <td>0</td>\n",
       "      <td>0</td>\n",
       "      <td>1</td>\n",
       "      <td>0</td>\n",
       "    </tr>\n",
       "    <tr>\n",
       "      <th>2</th>\n",
       "      <td>28</td>\n",
       "      <td>33.0</td>\n",
       "      <td>88</td>\n",
       "      <td>3</td>\n",
       "      <td>4449.46</td>\n",
       "      <td>1</td>\n",
       "      <td>1</td>\n",
       "      <td>0</td>\n",
       "      <td>0</td>\n",
       "      <td>1</td>\n",
       "      <td>0</td>\n",
       "    </tr>\n",
       "    <tr>\n",
       "      <th>3</th>\n",
       "      <td>33</td>\n",
       "      <td>22.7</td>\n",
       "      <td>119</td>\n",
       "      <td>0</td>\n",
       "      <td>21984.47</td>\n",
       "      <td>1</td>\n",
       "      <td>1</td>\n",
       "      <td>0</td>\n",
       "      <td>1</td>\n",
       "      <td>0</td>\n",
       "      <td>0</td>\n",
       "    </tr>\n",
       "    <tr>\n",
       "      <th>4</th>\n",
       "      <td>32</td>\n",
       "      <td>28.9</td>\n",
       "      <td>91</td>\n",
       "      <td>0</td>\n",
       "      <td>3866.86</td>\n",
       "      <td>1</td>\n",
       "      <td>0</td>\n",
       "      <td>0</td>\n",
       "      <td>1</td>\n",
       "      <td>0</td>\n",
       "      <td>0</td>\n",
       "    </tr>\n",
       "    <tr>\n",
       "      <th>...</th>\n",
       "      <td>...</td>\n",
       "      <td>...</td>\n",
       "      <td>...</td>\n",
       "      <td>...</td>\n",
       "      <td>...</td>\n",
       "      <td>...</td>\n",
       "      <td>...</td>\n",
       "      <td>...</td>\n",
       "      <td>...</td>\n",
       "      <td>...</td>\n",
       "      <td>...</td>\n",
       "    </tr>\n",
       "    <tr>\n",
       "      <th>1333</th>\n",
       "      <td>50</td>\n",
       "      <td>31.0</td>\n",
       "      <td>98</td>\n",
       "      <td>3</td>\n",
       "      <td>10600.55</td>\n",
       "      <td>1</td>\n",
       "      <td>0</td>\n",
       "      <td>0</td>\n",
       "      <td>1</td>\n",
       "      <td>0</td>\n",
       "      <td>0</td>\n",
       "    </tr>\n",
       "    <tr>\n",
       "      <th>1334</th>\n",
       "      <td>18</td>\n",
       "      <td>31.9</td>\n",
       "      <td>138</td>\n",
       "      <td>0</td>\n",
       "      <td>2205.98</td>\n",
       "      <td>0</td>\n",
       "      <td>0</td>\n",
       "      <td>0</td>\n",
       "      <td>0</td>\n",
       "      <td>0</td>\n",
       "      <td>0</td>\n",
       "    </tr>\n",
       "    <tr>\n",
       "      <th>1335</th>\n",
       "      <td>18</td>\n",
       "      <td>36.9</td>\n",
       "      <td>114</td>\n",
       "      <td>0</td>\n",
       "      <td>1629.83</td>\n",
       "      <td>0</td>\n",
       "      <td>0</td>\n",
       "      <td>0</td>\n",
       "      <td>0</td>\n",
       "      <td>1</td>\n",
       "      <td>0</td>\n",
       "    </tr>\n",
       "    <tr>\n",
       "      <th>1336</th>\n",
       "      <td>21</td>\n",
       "      <td>25.8</td>\n",
       "      <td>121</td>\n",
       "      <td>0</td>\n",
       "      <td>2007.95</td>\n",
       "      <td>0</td>\n",
       "      <td>1</td>\n",
       "      <td>0</td>\n",
       "      <td>0</td>\n",
       "      <td>0</td>\n",
       "      <td>1</td>\n",
       "    </tr>\n",
       "    <tr>\n",
       "      <th>1337</th>\n",
       "      <td>61</td>\n",
       "      <td>29.1</td>\n",
       "      <td>139</td>\n",
       "      <td>0</td>\n",
       "      <td>29141.36</td>\n",
       "      <td>0</td>\n",
       "      <td>0</td>\n",
       "      <td>1</td>\n",
       "      <td>1</td>\n",
       "      <td>0</td>\n",
       "      <td>0</td>\n",
       "    </tr>\n",
       "  </tbody>\n",
       "</table>\n",
       "<p>1338 rows × 11 columns</p>\n",
       "</div>"
      ],
      "text/plain": [
       "      age   bmi  bloodpressure  children     claim  gender_male  diabetic_Yes  \\\n",
       "0      19  27.9            107         0  16884.92            0             0   \n",
       "1      18  33.8            133         1   1725.55            1             0   \n",
       "2      28  33.0             88         3   4449.46            1             1   \n",
       "3      33  22.7            119         0  21984.47            1             1   \n",
       "4      32  28.9             91         0   3866.86            1             0   \n",
       "...   ...   ...            ...       ...       ...          ...           ...   \n",
       "1333   50  31.0             98         3  10600.55            1             0   \n",
       "1334   18  31.9            138         0   2205.98            0             0   \n",
       "1335   18  36.9            114         0   1629.83            0             0   \n",
       "1336   21  25.8            121         0   2007.95            0             1   \n",
       "1337   61  29.1            139         0  29141.36            0             0   \n",
       "\n",
       "      smoker_Yes  region_northwest  region_southeast  region_southwest  \n",
       "0              1                 0                 0                 1  \n",
       "1              0                 0                 1                 0  \n",
       "2              0                 0                 1                 0  \n",
       "3              0                 1                 0                 0  \n",
       "4              0                 1                 0                 0  \n",
       "...          ...               ...               ...               ...  \n",
       "1333           0                 1                 0                 0  \n",
       "1334           0                 0                 0                 0  \n",
       "1335           0                 0                 1                 0  \n",
       "1336           0                 0                 0                 1  \n",
       "1337           1                 1                 0                 0  \n",
       "\n",
       "[1338 rows x 11 columns]"
      ]
     },
     "execution_count": 9,
     "metadata": {
      "tags": []
     },
     "output_type": "execute_result"
    }
   ],
   "source": [
    "df_merge=pd.concat([df_num,df_cat_n],axis=1)\n",
    "df_merge"
   ]
  },
  {
   "cell_type": "code",
   "execution_count": null,
   "metadata": {
    "id": "lhlg-JUBkEgQ"
   },
   "outputs": [],
   "source": [
    "df_merge=sm.add_constant(df_merge)"
   ]
  },
  {
   "cell_type": "code",
   "execution_count": null,
   "metadata": {
    "id": "tMFio97dkEgR"
   },
   "outputs": [],
   "source": [
    "df_ind=df_merge.drop(['claim'], axis=1)"
   ]
  },
  {
   "cell_type": "code",
   "execution_count": null,
   "metadata": {
    "id": "AnWgrUXRkEgR"
   },
   "outputs": [],
   "source": [
    "df_target=df_merge['claim']"
   ]
  },
  {
   "cell_type": "code",
   "execution_count": null,
   "metadata": {
    "id": "13KHAr7nkEgR"
   },
   "outputs": [],
   "source": [
    "x_train,x_test,y_train,y_test=train_test_split(df_target, df_ind, test_size=0.1, random_state=123)\n",
    "#print(x_train,x_test,y_train,y_test)"
   ]
  },
  {
   "cell_type": "code",
   "execution_count": null,
   "metadata": {
    "id": "3d3SrDOZkEgS"
   },
   "outputs": [],
   "source": [
    "model = sm.OLS(x_train,y_train).fit()"
   ]
  },
  {
   "cell_type": "code",
   "execution_count": null,
   "metadata": {
    "id": "KLKsryXJkEgS",
    "outputId": "1b4cecbe-0006-4449-9a68-3dfcc24663bc"
   },
   "outputs": [
    {
     "data": {
      "text/html": [
       "<table class=\"simpletable\">\n",
       "<caption>OLS Regression Results</caption>\n",
       "<tr>\n",
       "  <th>Dep. Variable:</th>          <td>claim</td>      <th>  R-squared:         </th> <td>   0.748</td> \n",
       "</tr>\n",
       "<tr>\n",
       "  <th>Model:</th>                   <td>OLS</td>       <th>  Adj. R-squared:    </th> <td>   0.746</td> \n",
       "</tr>\n",
       "<tr>\n",
       "  <th>Method:</th>             <td>Least Squares</td>  <th>  F-statistic:       </th> <td>   353.5</td> \n",
       "</tr>\n",
       "<tr>\n",
       "  <th>Date:</th>             <td>Wed, 20 Jan 2021</td> <th>  Prob (F-statistic):</th>  <td>  0.00</td>  \n",
       "</tr>\n",
       "<tr>\n",
       "  <th>Time:</th>                 <td>10:32:01</td>     <th>  Log-Likelihood:    </th> <td> -12189.</td> \n",
       "</tr>\n",
       "<tr>\n",
       "  <th>No. Observations:</th>      <td>  1204</td>      <th>  AIC:               </th> <td>2.440e+04</td>\n",
       "</tr>\n",
       "<tr>\n",
       "  <th>Df Residuals:</th>          <td>  1193</td>      <th>  BIC:               </th> <td>2.446e+04</td>\n",
       "</tr>\n",
       "<tr>\n",
       "  <th>Df Model:</th>              <td>    10</td>      <th>                     </th>     <td> </td>    \n",
       "</tr>\n",
       "<tr>\n",
       "  <th>Covariance Type:</th>      <td>nonrobust</td>    <th>                     </th>     <td> </td>    \n",
       "</tr>\n",
       "</table>\n",
       "<table class=\"simpletable\">\n",
       "<tr>\n",
       "          <td></td>            <th>coef</th>     <th>std err</th>      <th>t</th>      <th>P>|t|</th>  <th>[0.025</th>    <th>0.975]</th>  \n",
       "</tr>\n",
       "<tr>\n",
       "  <th>const</th>            <td>-1.259e+04</td> <td> 1581.370</td> <td>   -7.960</td> <td> 0.000</td> <td>-1.57e+04</td> <td>-9484.619</td>\n",
       "</tr>\n",
       "<tr>\n",
       "  <th>age</th>              <td>  260.0316</td> <td>   12.567</td> <td>   20.691</td> <td> 0.000</td> <td>  235.375</td> <td>  284.688</td>\n",
       "</tr>\n",
       "<tr>\n",
       "  <th>bmi</th>              <td>  338.4297</td> <td>   30.701</td> <td>   11.023</td> <td> 0.000</td> <td>  278.196</td> <td>  398.664</td>\n",
       "</tr>\n",
       "<tr>\n",
       "  <th>bloodpressure</th>    <td>    6.3434</td> <td>    9.997</td> <td>    0.635</td> <td> 0.526</td> <td>  -13.270</td> <td>   25.957</td>\n",
       "</tr>\n",
       "<tr>\n",
       "  <th>children</th>         <td>  475.6105</td> <td>  144.592</td> <td>    3.289</td> <td> 0.001</td> <td>  191.927</td> <td>  759.294</td>\n",
       "</tr>\n",
       "<tr>\n",
       "  <th>gender_male</th>      <td>  -98.6054</td> <td>  351.853</td> <td>   -0.280</td> <td> 0.779</td> <td> -788.925</td> <td>  591.715</td>\n",
       "</tr>\n",
       "<tr>\n",
       "  <th>diabetic_Yes</th>     <td> -252.3240</td> <td>  351.365</td> <td>   -0.718</td> <td> 0.473</td> <td> -941.687</td> <td>  437.039</td>\n",
       "</tr>\n",
       "<tr>\n",
       "  <th>smoker_Yes</th>       <td> 2.363e+04</td> <td>  437.267</td> <td>   54.046</td> <td> 0.000</td> <td> 2.28e+04</td> <td> 2.45e+04</td>\n",
       "</tr>\n",
       "<tr>\n",
       "  <th>region_northwest</th> <td> -469.6572</td> <td>  502.294</td> <td>   -0.935</td> <td> 0.350</td> <td>-1455.136</td> <td>  515.821</td>\n",
       "</tr>\n",
       "<tr>\n",
       "  <th>region_southeast</th> <td>-1075.6230</td> <td>  508.802</td> <td>   -2.114</td> <td> 0.035</td> <td>-2073.869</td> <td>  -77.377</td>\n",
       "</tr>\n",
       "<tr>\n",
       "  <th>region_southwest</th> <td>-1035.5232</td> <td>  508.645</td> <td>   -2.036</td> <td> 0.042</td> <td>-2033.461</td> <td>  -37.586</td>\n",
       "</tr>\n",
       "</table>\n",
       "<table class=\"simpletable\">\n",
       "<tr>\n",
       "  <th>Omnibus:</th>       <td>283.928</td> <th>  Durbin-Watson:     </th> <td>   1.927</td> \n",
       "</tr>\n",
       "<tr>\n",
       "  <th>Prob(Omnibus):</th> <td> 0.000</td>  <th>  Jarque-Bera (JB):  </th> <td> 690.078</td> \n",
       "</tr>\n",
       "<tr>\n",
       "  <th>Skew:</th>          <td> 1.259</td>  <th>  Prob(JB):          </th> <td>1.42e-150</td>\n",
       "</tr>\n",
       "<tr>\n",
       "  <th>Kurtosis:</th>      <td> 5.722</td>  <th>  Cond. No.          </th> <td>1.10e+03</td> \n",
       "</tr>\n",
       "</table><br/><br/>Notes:<br/>[1] Standard Errors assume that the covariance matrix of the errors is correctly specified.<br/>[2] The condition number is large, 1.1e+03. This might indicate that there are<br/>strong multicollinearity or other numerical problems."
      ],
      "text/plain": [
       "<class 'statsmodels.iolib.summary.Summary'>\n",
       "\"\"\"\n",
       "                            OLS Regression Results                            \n",
       "==============================================================================\n",
       "Dep. Variable:                  claim   R-squared:                       0.748\n",
       "Model:                            OLS   Adj. R-squared:                  0.746\n",
       "Method:                 Least Squares   F-statistic:                     353.5\n",
       "Date:                Wed, 20 Jan 2021   Prob (F-statistic):               0.00\n",
       "Time:                        10:32:01   Log-Likelihood:                -12189.\n",
       "No. Observations:                1204   AIC:                         2.440e+04\n",
       "Df Residuals:                    1193   BIC:                         2.446e+04\n",
       "Df Model:                          10                                         \n",
       "Covariance Type:            nonrobust                                         \n",
       "====================================================================================\n",
       "                       coef    std err          t      P>|t|      [0.025      0.975]\n",
       "------------------------------------------------------------------------------------\n",
       "const            -1.259e+04   1581.370     -7.960      0.000   -1.57e+04   -9484.619\n",
       "age                260.0316     12.567     20.691      0.000     235.375     284.688\n",
       "bmi                338.4297     30.701     11.023      0.000     278.196     398.664\n",
       "bloodpressure        6.3434      9.997      0.635      0.526     -13.270      25.957\n",
       "children           475.6105    144.592      3.289      0.001     191.927     759.294\n",
       "gender_male        -98.6054    351.853     -0.280      0.779    -788.925     591.715\n",
       "diabetic_Yes      -252.3240    351.365     -0.718      0.473    -941.687     437.039\n",
       "smoker_Yes        2.363e+04    437.267     54.046      0.000    2.28e+04    2.45e+04\n",
       "region_northwest  -469.6572    502.294     -0.935      0.350   -1455.136     515.821\n",
       "region_southeast -1075.6230    508.802     -2.114      0.035   -2073.869     -77.377\n",
       "region_southwest -1035.5232    508.645     -2.036      0.042   -2033.461     -37.586\n",
       "==============================================================================\n",
       "Omnibus:                      283.928   Durbin-Watson:                   1.927\n",
       "Prob(Omnibus):                  0.000   Jarque-Bera (JB):              690.078\n",
       "Skew:                           1.259   Prob(JB):                    1.42e-150\n",
       "Kurtosis:                       5.722   Cond. No.                     1.10e+03\n",
       "==============================================================================\n",
       "\n",
       "Notes:\n",
       "[1] Standard Errors assume that the covariance matrix of the errors is correctly specified.\n",
       "[2] The condition number is large, 1.1e+03. This might indicate that there are\n",
       "strong multicollinearity or other numerical problems.\n",
       "\"\"\""
      ]
     },
     "execution_count": 15,
     "metadata": {
      "tags": []
     },
     "output_type": "execute_result"
    }
   ],
   "source": [
    "model.summary()"
   ]
  },
  {
   "cell_type": "markdown",
   "metadata": {
    "id": "LJkCsciukEgT"
   },
   "source": [
    "# Interval Period Work"
   ]
  },
  {
   "cell_type": "markdown",
   "metadata": {
    "id": "sX5GF5UnkEgT"
   },
   "source": [
    "### Full Model with Normalization without function"
   ]
  },
  {
   "cell_type": "code",
   "execution_count": null,
   "metadata": {
    "id": "s1lOwaG7kEgT"
   },
   "outputs": [],
   "source": [
    "df=pd.read_csv('insurance.csv')"
   ]
  },
  {
   "cell_type": "code",
   "execution_count": null,
   "metadata": {
    "id": "K0jVzmkMkEgT"
   },
   "outputs": [],
   "source": [
    "df=df.drop(['gender', 'bloodpressure', 'diabetic'], axis=1)"
   ]
  },
  {
   "cell_type": "code",
   "execution_count": null,
   "metadata": {
    "id": "eitBTe5kkEgT"
   },
   "outputs": [],
   "source": [
    "df['age']=(df['age']-min(df['age']))/(max(df['age'])-min(df['age']))\n",
    "df['bmi']=(df['bmi']-min(df['bmi']))/(max(df['bmi'])-min(df['bmi']))\n",
    "df['children']=(df['children']-min(df['children']))/(max(df['children'])-min(df['children']))\n",
    "df['claim']=(df['claim']-min(df['claim']))/(max(df['claim'])-min(df['claim']))"
   ]
  },
  {
   "cell_type": "code",
   "execution_count": null,
   "metadata": {
    "id": "1KVRdkVdkEgT"
   },
   "outputs": [],
   "source": [
    "df_cat=df.select_dtypes(include=['object'])\n",
    "df_num=df.select_dtypes(exclude=['object'])"
   ]
  },
  {
   "cell_type": "code",
   "execution_count": null,
   "metadata": {
    "id": "TGHMT9aOkEgU"
   },
   "outputs": [],
   "source": [
    "#N-1 Dummy Encoding\n",
    "df_cat_n=pd.get_dummies(df_cat,drop_first=True)"
   ]
  },
  {
   "cell_type": "code",
   "execution_count": null,
   "metadata": {
    "id": "Vy0-frukkEgV"
   },
   "outputs": [],
   "source": [
    "df_merge=pd.concat([df_num,df_cat_n],axis=1)"
   ]
  },
  {
   "cell_type": "code",
   "execution_count": null,
   "metadata": {
    "id": "YpHXO-wokEgV"
   },
   "outputs": [],
   "source": [
    "#Adding a constant variable\n",
    "df_merge=sm.add_constant(df_merge)"
   ]
  },
  {
   "cell_type": "code",
   "execution_count": null,
   "metadata": {
    "id": "Uu5B7E_PkEgV"
   },
   "outputs": [],
   "source": [
    "df_ind=df_merge.drop(['claim'], axis=1)"
   ]
  },
  {
   "cell_type": "code",
   "execution_count": null,
   "metadata": {
    "id": "DYsMRKspkEgV"
   },
   "outputs": [],
   "source": [
    "df_target=df_merge['claim']"
   ]
  },
  {
   "cell_type": "code",
   "execution_count": null,
   "metadata": {
    "id": "sDbuR4dnkEgV"
   },
   "outputs": [],
   "source": [
    "x_train,x_test,y_train,y_test=train_test_split(df_target, df_ind, test_size=0.1, random_state=123)\n",
    "#print(x_train,x_test,y_train,y_test)"
   ]
  },
  {
   "cell_type": "code",
   "execution_count": null,
   "metadata": {
    "id": "SPsVizXOkEgV"
   },
   "outputs": [],
   "source": [
    "model = sm.OLS(x_train,y_train).fit()"
   ]
  },
  {
   "cell_type": "code",
   "execution_count": null,
   "metadata": {
    "id": "nFUTM6YkkEgV",
    "outputId": "4a829aef-7d48-4916-946e-89cce349cdcf"
   },
   "outputs": [
    {
     "data": {
      "text/html": [
       "<table class=\"simpletable\">\n",
       "<caption>OLS Regression Results</caption>\n",
       "<tr>\n",
       "  <th>Dep. Variable:</th>          <td>claim</td>      <th>  R-squared:         </th> <td>   0.747</td>\n",
       "</tr>\n",
       "<tr>\n",
       "  <th>Model:</th>                   <td>OLS</td>       <th>  Adj. R-squared:    </th> <td>   0.746</td>\n",
       "</tr>\n",
       "<tr>\n",
       "  <th>Method:</th>             <td>Least Squares</td>  <th>  F-statistic:       </th> <td>   505.7</td>\n",
       "</tr>\n",
       "<tr>\n",
       "  <th>Date:</th>             <td>Wed, 20 Jan 2021</td> <th>  Prob (F-statistic):</th>  <td>  0.00</td> \n",
       "</tr>\n",
       "<tr>\n",
       "  <th>Time:</th>                 <td>10:32:05</td>     <th>  Log-Likelihood:    </th> <td>  1108.7</td>\n",
       "</tr>\n",
       "<tr>\n",
       "  <th>No. Observations:</th>      <td>  1204</td>      <th>  AIC:               </th> <td>  -2201.</td>\n",
       "</tr>\n",
       "<tr>\n",
       "  <th>Df Residuals:</th>          <td>  1196</td>      <th>  BIC:               </th> <td>  -2161.</td>\n",
       "</tr>\n",
       "<tr>\n",
       "  <th>Df Model:</th>              <td>     7</td>      <th>                     </th>     <td> </td>   \n",
       "</tr>\n",
       "<tr>\n",
       "  <th>Covariance Type:</th>      <td>nonrobust</td>    <th>                     </th>     <td> </td>   \n",
       "</tr>\n",
       "</table>\n",
       "<table class=\"simpletable\">\n",
       "<tr>\n",
       "          <td></td>            <th>coef</th>     <th>std err</th>      <th>t</th>      <th>P>|t|</th>  <th>[0.025</th>    <th>0.975]</th>  \n",
       "</tr>\n",
       "<tr>\n",
       "  <th>const</th>            <td>   -0.0491</td> <td>    0.010</td> <td>   -5.072</td> <td> 0.000</td> <td>   -0.068</td> <td>   -0.030</td>\n",
       "</tr>\n",
       "<tr>\n",
       "  <th>age</th>              <td>    0.1906</td> <td>    0.009</td> <td>   20.730</td> <td> 0.000</td> <td>    0.173</td> <td>    0.209</td>\n",
       "</tr>\n",
       "<tr>\n",
       "  <th>bmi</th>              <td>    0.2004</td> <td>    0.018</td> <td>   11.072</td> <td> 0.000</td> <td>    0.165</td> <td>    0.236</td>\n",
       "</tr>\n",
       "<tr>\n",
       "  <th>children</th>         <td>    0.0378</td> <td>    0.012</td> <td>    3.280</td> <td> 0.001</td> <td>    0.015</td> <td>    0.060</td>\n",
       "</tr>\n",
       "<tr>\n",
       "  <th>smoker_Yes</th>       <td>    0.3769</td> <td>    0.007</td> <td>   54.263</td> <td> 0.000</td> <td>    0.363</td> <td>    0.390</td>\n",
       "</tr>\n",
       "<tr>\n",
       "  <th>region_northwest</th> <td>   -0.0074</td> <td>    0.008</td> <td>   -0.927</td> <td> 0.354</td> <td>   -0.023</td> <td>    0.008</td>\n",
       "</tr>\n",
       "<tr>\n",
       "  <th>region_southeast</th> <td>   -0.0173</td> <td>    0.008</td> <td>   -2.127</td> <td> 0.034</td> <td>   -0.033</td> <td>   -0.001</td>\n",
       "</tr>\n",
       "<tr>\n",
       "  <th>region_southwest</th> <td>   -0.0165</td> <td>    0.008</td> <td>   -2.035</td> <td> 0.042</td> <td>   -0.032</td> <td>   -0.001</td>\n",
       "</tr>\n",
       "</table>\n",
       "<table class=\"simpletable\">\n",
       "<tr>\n",
       "  <th>Omnibus:</th>       <td>285.921</td> <th>  Durbin-Watson:     </th> <td>   1.926</td> \n",
       "</tr>\n",
       "<tr>\n",
       "  <th>Prob(Omnibus):</th> <td> 0.000</td>  <th>  Jarque-Bera (JB):  </th> <td> 698.730</td> \n",
       "</tr>\n",
       "<tr>\n",
       "  <th>Skew:</th>          <td> 1.266</td>  <th>  Prob(JB):          </th> <td>1.87e-152</td>\n",
       "</tr>\n",
       "<tr>\n",
       "  <th>Kurtosis:</th>      <td> 5.742</td>  <th>  Cond. No.          </th> <td>    8.99</td> \n",
       "</tr>\n",
       "</table><br/><br/>Notes:<br/>[1] Standard Errors assume that the covariance matrix of the errors is correctly specified."
      ],
      "text/plain": [
       "<class 'statsmodels.iolib.summary.Summary'>\n",
       "\"\"\"\n",
       "                            OLS Regression Results                            \n",
       "==============================================================================\n",
       "Dep. Variable:                  claim   R-squared:                       0.747\n",
       "Model:                            OLS   Adj. R-squared:                  0.746\n",
       "Method:                 Least Squares   F-statistic:                     505.7\n",
       "Date:                Wed, 20 Jan 2021   Prob (F-statistic):               0.00\n",
       "Time:                        10:32:05   Log-Likelihood:                 1108.7\n",
       "No. Observations:                1204   AIC:                            -2201.\n",
       "Df Residuals:                    1196   BIC:                            -2161.\n",
       "Df Model:                           7                                         \n",
       "Covariance Type:            nonrobust                                         \n",
       "====================================================================================\n",
       "                       coef    std err          t      P>|t|      [0.025      0.975]\n",
       "------------------------------------------------------------------------------------\n",
       "const               -0.0491      0.010     -5.072      0.000      -0.068      -0.030\n",
       "age                  0.1906      0.009     20.730      0.000       0.173       0.209\n",
       "bmi                  0.2004      0.018     11.072      0.000       0.165       0.236\n",
       "children             0.0378      0.012      3.280      0.001       0.015       0.060\n",
       "smoker_Yes           0.3769      0.007     54.263      0.000       0.363       0.390\n",
       "region_northwest    -0.0074      0.008     -0.927      0.354      -0.023       0.008\n",
       "region_southeast    -0.0173      0.008     -2.127      0.034      -0.033      -0.001\n",
       "region_southwest    -0.0165      0.008     -2.035      0.042      -0.032      -0.001\n",
       "==============================================================================\n",
       "Omnibus:                      285.921   Durbin-Watson:                   1.926\n",
       "Prob(Omnibus):                  0.000   Jarque-Bera (JB):              698.730\n",
       "Skew:                           1.266   Prob(JB):                    1.87e-152\n",
       "Kurtosis:                       5.742   Cond. No.                         8.99\n",
       "==============================================================================\n",
       "\n",
       "Notes:\n",
       "[1] Standard Errors assume that the covariance matrix of the errors is correctly specified.\n",
       "\"\"\""
      ]
     },
     "execution_count": 27,
     "metadata": {
      "tags": []
     },
     "output_type": "execute_result"
    }
   ],
   "source": [
    "model.summary()"
   ]
  },
  {
   "cell_type": "markdown",
   "metadata": {
    "id": "OaYINjaOkEgW"
   },
   "source": [
    "### Full model with Normalization"
   ]
  },
  {
   "cell_type": "code",
   "execution_count": null,
   "metadata": {
    "id": "g31xdGTekEgW"
   },
   "outputs": [],
   "source": [
    "df=pd.read_csv('insurance.csv')"
   ]
  },
  {
   "cell_type": "code",
   "execution_count": null,
   "metadata": {
    "id": "PliLBb4bkEgW"
   },
   "outputs": [],
   "source": [
    "df_cat=df.select_dtypes(include=['object'])\n",
    "df_num=df.select_dtypes(exclude=['object'])"
   ]
  },
  {
   "cell_type": "code",
   "execution_count": null,
   "metadata": {
    "id": "obZGqlvbkEgW"
   },
   "outputs": [],
   "source": [
    "df_num_normal = pd.DataFrame(MinMaxScaler().fit_transform(df_num.values), columns=df_num.columns, index=df_num.index)\n",
    "df_num=df_num_normal"
   ]
  },
  {
   "cell_type": "code",
   "execution_count": null,
   "metadata": {
    "id": "bYRQiQUlkEgW"
   },
   "outputs": [],
   "source": [
    "#N-1 Dummy Encoding\n",
    "df_cat_n=pd.get_dummies(df_cat,drop_first=True)"
   ]
  },
  {
   "cell_type": "code",
   "execution_count": null,
   "metadata": {
    "id": "zvSiHfdKkEgW"
   },
   "outputs": [],
   "source": [
    "df_merge=pd.concat([df_num,df_cat_n],axis=1)"
   ]
  },
  {
   "cell_type": "code",
   "execution_count": null,
   "metadata": {
    "id": "OoTK21Q_kEgX"
   },
   "outputs": [],
   "source": [
    "#Adding a constant variable\n",
    "df_merge=sm.add_constant(df_merge)"
   ]
  },
  {
   "cell_type": "code",
   "execution_count": null,
   "metadata": {
    "id": "eiLbWXSlkEgX"
   },
   "outputs": [],
   "source": [
    "df_ind=df_merge.drop(['claim'], axis=1)"
   ]
  },
  {
   "cell_type": "code",
   "execution_count": null,
   "metadata": {
    "id": "sHvA3AsCkEgX"
   },
   "outputs": [],
   "source": [
    "df_target=df_merge['claim']"
   ]
  },
  {
   "cell_type": "code",
   "execution_count": null,
   "metadata": {
    "id": "G9xZsz2VkEgY"
   },
   "outputs": [],
   "source": [
    "x_train,x_test,y_train,y_test=train_test_split(df_target, df_ind, test_size=0.1, random_state=123)\n",
    "#print(x_train,x_test,y_train,y_test)"
   ]
  },
  {
   "cell_type": "code",
   "execution_count": null,
   "metadata": {
    "id": "BciWQSjUkEgY"
   },
   "outputs": [],
   "source": [
    "model = sm.OLS(x_train,y_train).fit()"
   ]
  },
  {
   "cell_type": "code",
   "execution_count": null,
   "metadata": {
    "id": "buz20ctAkEgY",
    "outputId": "dbb7c21b-3782-47b5-c058-494fd0300f67"
   },
   "outputs": [
    {
     "data": {
      "text/html": [
       "<table class=\"simpletable\">\n",
       "<caption>OLS Regression Results</caption>\n",
       "<tr>\n",
       "  <th>Dep. Variable:</th>          <td>claim</td>      <th>  R-squared:         </th> <td>   0.748</td>\n",
       "</tr>\n",
       "<tr>\n",
       "  <th>Model:</th>                   <td>OLS</td>       <th>  Adj. R-squared:    </th> <td>   0.746</td>\n",
       "</tr>\n",
       "<tr>\n",
       "  <th>Method:</th>             <td>Least Squares</td>  <th>  F-statistic:       </th> <td>   353.5</td>\n",
       "</tr>\n",
       "<tr>\n",
       "  <th>Date:</th>             <td>Wed, 20 Jan 2021</td> <th>  Prob (F-statistic):</th>  <td>  0.00</td> \n",
       "</tr>\n",
       "<tr>\n",
       "  <th>Time:</th>                 <td>10:32:06</td>     <th>  Log-Likelihood:    </th> <td>  1109.2</td>\n",
       "</tr>\n",
       "<tr>\n",
       "  <th>No. Observations:</th>      <td>  1204</td>      <th>  AIC:               </th> <td>  -2196.</td>\n",
       "</tr>\n",
       "<tr>\n",
       "  <th>Df Residuals:</th>          <td>  1193</td>      <th>  BIC:               </th> <td>  -2140.</td>\n",
       "</tr>\n",
       "<tr>\n",
       "  <th>Df Model:</th>              <td>    10</td>      <th>                     </th>     <td> </td>   \n",
       "</tr>\n",
       "<tr>\n",
       "  <th>Covariance Type:</th>      <td>nonrobust</td>    <th>                     </th>     <td> </td>   \n",
       "</tr>\n",
       "</table>\n",
       "<table class=\"simpletable\">\n",
       "<tr>\n",
       "          <td></td>            <th>coef</th>     <th>std err</th>      <th>t</th>      <th>P>|t|</th>  <th>[0.025</th>    <th>0.975]</th>  \n",
       "</tr>\n",
       "<tr>\n",
       "  <th>const</th>            <td>   -0.0496</td> <td>    0.012</td> <td>   -4.226</td> <td> 0.000</td> <td>   -0.073</td> <td>   -0.027</td>\n",
       "</tr>\n",
       "<tr>\n",
       "  <th>age</th>              <td>    0.1909</td> <td>    0.009</td> <td>   20.691</td> <td> 0.000</td> <td>    0.173</td> <td>    0.209</td>\n",
       "</tr>\n",
       "<tr>\n",
       "  <th>bmi</th>              <td>    0.2004</td> <td>    0.018</td> <td>   11.023</td> <td> 0.000</td> <td>    0.165</td> <td>    0.236</td>\n",
       "</tr>\n",
       "<tr>\n",
       "  <th>bloodpressure</th>    <td>    0.0061</td> <td>    0.010</td> <td>    0.635</td> <td> 0.526</td> <td>   -0.013</td> <td>    0.025</td>\n",
       "</tr>\n",
       "<tr>\n",
       "  <th>children</th>         <td>    0.0380</td> <td>    0.012</td> <td>    3.289</td> <td> 0.001</td> <td>    0.015</td> <td>    0.061</td>\n",
       "</tr>\n",
       "<tr>\n",
       "  <th>gender_male</th>      <td>   -0.0016</td> <td>    0.006</td> <td>   -0.280</td> <td> 0.779</td> <td>   -0.013</td> <td>    0.009</td>\n",
       "</tr>\n",
       "<tr>\n",
       "  <th>diabetic_Yes</th>     <td>   -0.0040</td> <td>    0.006</td> <td>   -0.718</td> <td> 0.473</td> <td>   -0.015</td> <td>    0.007</td>\n",
       "</tr>\n",
       "<tr>\n",
       "  <th>smoker_Yes</th>       <td>    0.3772</td> <td>    0.007</td> <td>   54.046</td> <td> 0.000</td> <td>    0.364</td> <td>    0.391</td>\n",
       "</tr>\n",
       "<tr>\n",
       "  <th>region_northwest</th> <td>   -0.0075</td> <td>    0.008</td> <td>   -0.935</td> <td> 0.350</td> <td>   -0.023</td> <td>    0.008</td>\n",
       "</tr>\n",
       "<tr>\n",
       "  <th>region_southeast</th> <td>   -0.0172</td> <td>    0.008</td> <td>   -2.114</td> <td> 0.035</td> <td>   -0.033</td> <td>   -0.001</td>\n",
       "</tr>\n",
       "<tr>\n",
       "  <th>region_southwest</th> <td>   -0.0165</td> <td>    0.008</td> <td>   -2.036</td> <td> 0.042</td> <td>   -0.032</td> <td>   -0.001</td>\n",
       "</tr>\n",
       "</table>\n",
       "<table class=\"simpletable\">\n",
       "<tr>\n",
       "  <th>Omnibus:</th>       <td>283.928</td> <th>  Durbin-Watson:     </th> <td>   1.927</td> \n",
       "</tr>\n",
       "<tr>\n",
       "  <th>Prob(Omnibus):</th> <td> 0.000</td>  <th>  Jarque-Bera (JB):  </th> <td> 690.078</td> \n",
       "</tr>\n",
       "<tr>\n",
       "  <th>Skew:</th>          <td> 1.259</td>  <th>  Prob(JB):          </th> <td>1.42e-150</td>\n",
       "</tr>\n",
       "<tr>\n",
       "  <th>Kurtosis:</th>      <td> 5.722</td>  <th>  Cond. No.          </th> <td>    11.0</td> \n",
       "</tr>\n",
       "</table><br/><br/>Notes:<br/>[1] Standard Errors assume that the covariance matrix of the errors is correctly specified."
      ],
      "text/plain": [
       "<class 'statsmodels.iolib.summary.Summary'>\n",
       "\"\"\"\n",
       "                            OLS Regression Results                            \n",
       "==============================================================================\n",
       "Dep. Variable:                  claim   R-squared:                       0.748\n",
       "Model:                            OLS   Adj. R-squared:                  0.746\n",
       "Method:                 Least Squares   F-statistic:                     353.5\n",
       "Date:                Wed, 20 Jan 2021   Prob (F-statistic):               0.00\n",
       "Time:                        10:32:06   Log-Likelihood:                 1109.2\n",
       "No. Observations:                1204   AIC:                            -2196.\n",
       "Df Residuals:                    1193   BIC:                            -2140.\n",
       "Df Model:                          10                                         \n",
       "Covariance Type:            nonrobust                                         \n",
       "====================================================================================\n",
       "                       coef    std err          t      P>|t|      [0.025      0.975]\n",
       "------------------------------------------------------------------------------------\n",
       "const               -0.0496      0.012     -4.226      0.000      -0.073      -0.027\n",
       "age                  0.1909      0.009     20.691      0.000       0.173       0.209\n",
       "bmi                  0.2004      0.018     11.023      0.000       0.165       0.236\n",
       "bloodpressure        0.0061      0.010      0.635      0.526      -0.013       0.025\n",
       "children             0.0380      0.012      3.289      0.001       0.015       0.061\n",
       "gender_male         -0.0016      0.006     -0.280      0.779      -0.013       0.009\n",
       "diabetic_Yes        -0.0040      0.006     -0.718      0.473      -0.015       0.007\n",
       "smoker_Yes           0.3772      0.007     54.046      0.000       0.364       0.391\n",
       "region_northwest    -0.0075      0.008     -0.935      0.350      -0.023       0.008\n",
       "region_southeast    -0.0172      0.008     -2.114      0.035      -0.033      -0.001\n",
       "region_southwest    -0.0165      0.008     -2.036      0.042      -0.032      -0.001\n",
       "==============================================================================\n",
       "Omnibus:                      283.928   Durbin-Watson:                   1.927\n",
       "Prob(Omnibus):                  0.000   Jarque-Bera (JB):              690.078\n",
       "Skew:                           1.259   Prob(JB):                    1.42e-150\n",
       "Kurtosis:                       5.722   Cond. No.                         11.0\n",
       "==============================================================================\n",
       "\n",
       "Notes:\n",
       "[1] Standard Errors assume that the covariance matrix of the errors is correctly specified.\n",
       "\"\"\""
      ]
     },
     "execution_count": 38,
     "metadata": {
      "tags": []
     },
     "output_type": "execute_result"
    }
   ],
   "source": [
    "model.summary()"
   ]
  },
  {
   "cell_type": "markdown",
   "metadata": {
    "id": "N8h6Ru9ukEgY"
   },
   "source": [
    "### Full model with Standardization"
   ]
  },
  {
   "cell_type": "code",
   "execution_count": null,
   "metadata": {
    "id": "6ErmjDa8kEgY"
   },
   "outputs": [],
   "source": [
    "df=pd.read_csv('insurance.csv')"
   ]
  },
  {
   "cell_type": "code",
   "execution_count": null,
   "metadata": {
    "id": "megLql4akEgY"
   },
   "outputs": [],
   "source": [
    "df_cat=df.select_dtypes(include=['object'])\n",
    "df_num=df.select_dtypes(exclude=['object'])"
   ]
  },
  {
   "cell_type": "code",
   "execution_count": null,
   "metadata": {
    "id": "Fxbv89fSkEgY"
   },
   "outputs": [],
   "source": [
    "df_num_std = pd.DataFrame(StandardScaler().fit_transform(df_num.values), columns=df_num.columns, index=df_num.index)\n",
    "df_num=df_num_std"
   ]
  },
  {
   "cell_type": "code",
   "execution_count": null,
   "metadata": {
    "id": "pjmxWDI7kEgZ"
   },
   "outputs": [],
   "source": [
    "#N-1 Dummy Encoding\n",
    "df_cat_n=pd.get_dummies(df_cat,drop_first=True)"
   ]
  },
  {
   "cell_type": "code",
   "execution_count": null,
   "metadata": {
    "id": "ADukeHr5kEgZ"
   },
   "outputs": [],
   "source": [
    "df_merge=pd.concat([df_num,df_cat_n],axis=1)"
   ]
  },
  {
   "cell_type": "code",
   "execution_count": null,
   "metadata": {
    "id": "y1h_ChwtkEgZ"
   },
   "outputs": [],
   "source": [
    "#Adding a constant variable\n",
    "df_merge=sm.add_constant(df_merge)"
   ]
  },
  {
   "cell_type": "code",
   "execution_count": null,
   "metadata": {
    "id": "O-gbkFU7kEgZ"
   },
   "outputs": [],
   "source": [
    "df_ind=df_merge.drop(['claim'], axis=1)"
   ]
  },
  {
   "cell_type": "code",
   "execution_count": null,
   "metadata": {
    "id": "1Zg_mWpWkEgZ"
   },
   "outputs": [],
   "source": [
    "df_target=df_merge['claim']"
   ]
  },
  {
   "cell_type": "code",
   "execution_count": null,
   "metadata": {
    "id": "Ea63rd6_kEgZ"
   },
   "outputs": [],
   "source": [
    "x_train,x_test,y_train,y_test=train_test_split(df_target, df_ind, test_size=0.1, random_state=123)\n",
    "#print(x_train,x_test,y_train,y_test)"
   ]
  },
  {
   "cell_type": "code",
   "execution_count": null,
   "metadata": {
    "id": "YCPze93fkEga"
   },
   "outputs": [],
   "source": [
    "model = sm.OLS(x_train,y_train).fit()"
   ]
  },
  {
   "cell_type": "code",
   "execution_count": null,
   "metadata": {
    "id": "XbJw9sA9kEga",
    "outputId": "dd7c525f-3288-40f9-f48a-4ee34671bb38"
   },
   "outputs": [
    {
     "data": {
      "text/html": [
       "<table class=\"simpletable\">\n",
       "<caption>OLS Regression Results</caption>\n",
       "<tr>\n",
       "  <th>Dep. Variable:</th>          <td>claim</td>      <th>  R-squared:         </th> <td>   0.748</td>\n",
       "</tr>\n",
       "<tr>\n",
       "  <th>Model:</th>                   <td>OLS</td>       <th>  Adj. R-squared:    </th> <td>   0.746</td>\n",
       "</tr>\n",
       "<tr>\n",
       "  <th>Method:</th>             <td>Least Squares</td>  <th>  F-statistic:       </th> <td>   353.5</td>\n",
       "</tr>\n",
       "<tr>\n",
       "  <th>Date:</th>             <td>Wed, 20 Jan 2021</td> <th>  Prob (F-statistic):</th>  <td>  0.00</td> \n",
       "</tr>\n",
       "<tr>\n",
       "  <th>Time:</th>                 <td>10:32:07</td>     <th>  Log-Likelihood:    </th> <td> -870.00</td>\n",
       "</tr>\n",
       "<tr>\n",
       "  <th>No. Observations:</th>      <td>  1204</td>      <th>  AIC:               </th> <td>   1762.</td>\n",
       "</tr>\n",
       "<tr>\n",
       "  <th>Df Residuals:</th>          <td>  1193</td>      <th>  BIC:               </th> <td>   1818.</td>\n",
       "</tr>\n",
       "<tr>\n",
       "  <th>Df Model:</th>              <td>    10</td>      <th>                     </th>     <td> </td>   \n",
       "</tr>\n",
       "<tr>\n",
       "  <th>Covariance Type:</th>      <td>nonrobust</td>    <th>                     </th>     <td> </td>   \n",
       "</tr>\n",
       "</table>\n",
       "<table class=\"simpletable\">\n",
       "<tr>\n",
       "          <td></td>            <th>coef</th>     <th>std err</th>      <th>t</th>      <th>P>|t|</th>  <th>[0.025</th>    <th>0.975]</th>  \n",
       "</tr>\n",
       "<tr>\n",
       "  <th>const</th>            <td>   -0.3362</td> <td>    0.037</td> <td>   -9.080</td> <td> 0.000</td> <td>   -0.409</td> <td>   -0.264</td>\n",
       "</tr>\n",
       "<tr>\n",
       "  <th>age</th>              <td>    0.3017</td> <td>    0.015</td> <td>   20.691</td> <td> 0.000</td> <td>    0.273</td> <td>    0.330</td>\n",
       "</tr>\n",
       "<tr>\n",
       "  <th>bmi</th>              <td>    0.1704</td> <td>    0.015</td> <td>   11.023</td> <td> 0.000</td> <td>    0.140</td> <td>    0.201</td>\n",
       "</tr>\n",
       "<tr>\n",
       "  <th>bloodpressure</th>    <td>    0.0092</td> <td>    0.014</td> <td>    0.635</td> <td> 0.526</td> <td>   -0.019</td> <td>    0.038</td>\n",
       "</tr>\n",
       "<tr>\n",
       "  <th>children</th>         <td>    0.0473</td> <td>    0.014</td> <td>    3.289</td> <td> 0.001</td> <td>    0.019</td> <td>    0.076</td>\n",
       "</tr>\n",
       "<tr>\n",
       "  <th>gender_male</th>      <td>   -0.0081</td> <td>    0.029</td> <td>   -0.280</td> <td> 0.779</td> <td>   -0.065</td> <td>    0.049</td>\n",
       "</tr>\n",
       "<tr>\n",
       "  <th>diabetic_Yes</th>     <td>   -0.0208</td> <td>    0.029</td> <td>   -0.718</td> <td> 0.473</td> <td>   -0.078</td> <td>    0.036</td>\n",
       "</tr>\n",
       "<tr>\n",
       "  <th>smoker_Yes</th>       <td>    1.9522</td> <td>    0.036</td> <td>   54.046</td> <td> 0.000</td> <td>    1.881</td> <td>    2.023</td>\n",
       "</tr>\n",
       "<tr>\n",
       "  <th>region_northwest</th> <td>   -0.0388</td> <td>    0.041</td> <td>   -0.935</td> <td> 0.350</td> <td>   -0.120</td> <td>    0.043</td>\n",
       "</tr>\n",
       "<tr>\n",
       "  <th>region_southeast</th> <td>   -0.0889</td> <td>    0.042</td> <td>   -2.114</td> <td> 0.035</td> <td>   -0.171</td> <td>   -0.006</td>\n",
       "</tr>\n",
       "<tr>\n",
       "  <th>region_southwest</th> <td>   -0.0855</td> <td>    0.042</td> <td>   -2.036</td> <td> 0.042</td> <td>   -0.168</td> <td>   -0.003</td>\n",
       "</tr>\n",
       "</table>\n",
       "<table class=\"simpletable\">\n",
       "<tr>\n",
       "  <th>Omnibus:</th>       <td>283.928</td> <th>  Durbin-Watson:     </th> <td>   1.927</td> \n",
       "</tr>\n",
       "<tr>\n",
       "  <th>Prob(Omnibus):</th> <td> 0.000</td>  <th>  Jarque-Bera (JB):  </th> <td> 690.078</td> \n",
       "</tr>\n",
       "<tr>\n",
       "  <th>Skew:</th>          <td> 1.259</td>  <th>  Prob(JB):          </th> <td>1.42e-150</td>\n",
       "</tr>\n",
       "<tr>\n",
       "  <th>Kurtosis:</th>      <td> 5.722</td>  <th>  Cond. No.          </th> <td>    6.20</td> \n",
       "</tr>\n",
       "</table><br/><br/>Notes:<br/>[1] Standard Errors assume that the covariance matrix of the errors is correctly specified."
      ],
      "text/plain": [
       "<class 'statsmodels.iolib.summary.Summary'>\n",
       "\"\"\"\n",
       "                            OLS Regression Results                            \n",
       "==============================================================================\n",
       "Dep. Variable:                  claim   R-squared:                       0.748\n",
       "Model:                            OLS   Adj. R-squared:                  0.746\n",
       "Method:                 Least Squares   F-statistic:                     353.5\n",
       "Date:                Wed, 20 Jan 2021   Prob (F-statistic):               0.00\n",
       "Time:                        10:32:07   Log-Likelihood:                -870.00\n",
       "No. Observations:                1204   AIC:                             1762.\n",
       "Df Residuals:                    1193   BIC:                             1818.\n",
       "Df Model:                          10                                         \n",
       "Covariance Type:            nonrobust                                         \n",
       "====================================================================================\n",
       "                       coef    std err          t      P>|t|      [0.025      0.975]\n",
       "------------------------------------------------------------------------------------\n",
       "const               -0.3362      0.037     -9.080      0.000      -0.409      -0.264\n",
       "age                  0.3017      0.015     20.691      0.000       0.273       0.330\n",
       "bmi                  0.1704      0.015     11.023      0.000       0.140       0.201\n",
       "bloodpressure        0.0092      0.014      0.635      0.526      -0.019       0.038\n",
       "children             0.0473      0.014      3.289      0.001       0.019       0.076\n",
       "gender_male         -0.0081      0.029     -0.280      0.779      -0.065       0.049\n",
       "diabetic_Yes        -0.0208      0.029     -0.718      0.473      -0.078       0.036\n",
       "smoker_Yes           1.9522      0.036     54.046      0.000       1.881       2.023\n",
       "region_northwest    -0.0388      0.041     -0.935      0.350      -0.120       0.043\n",
       "region_southeast    -0.0889      0.042     -2.114      0.035      -0.171      -0.006\n",
       "region_southwest    -0.0855      0.042     -2.036      0.042      -0.168      -0.003\n",
       "==============================================================================\n",
       "Omnibus:                      283.928   Durbin-Watson:                   1.927\n",
       "Prob(Omnibus):                  0.000   Jarque-Bera (JB):              690.078\n",
       "Skew:                           1.259   Prob(JB):                    1.42e-150\n",
       "Kurtosis:                       5.722   Cond. No.                         6.20\n",
       "==============================================================================\n",
       "\n",
       "Notes:\n",
       "[1] Standard Errors assume that the covariance matrix of the errors is correctly specified.\n",
       "\"\"\""
      ]
     },
     "execution_count": 49,
     "metadata": {
      "tags": []
     },
     "output_type": "execute_result"
    }
   ],
   "source": [
    "model.summary()"
   ]
  },
  {
   "cell_type": "markdown",
   "metadata": {
    "id": "xEiWnjukkEgb"
   },
   "source": [
    "### Removing insignificant Variables without Scaling"
   ]
  },
  {
   "cell_type": "code",
   "execution_count": null,
   "metadata": {
    "id": "J_y3qt2gkEgc"
   },
   "outputs": [],
   "source": [
    "df=pd.read_csv('insurance.csv')"
   ]
  },
  {
   "cell_type": "code",
   "execution_count": null,
   "metadata": {
    "id": "PlbygG6akEgc"
   },
   "outputs": [],
   "source": [
    "df=df.drop(['bloodpressure','gender','diabetic'], axis=1)"
   ]
  },
  {
   "cell_type": "code",
   "execution_count": null,
   "metadata": {
    "id": "x8_vW_20kEgc"
   },
   "outputs": [],
   "source": [
    "df_cat=df.select_dtypes(include=['object'])\n",
    "df_num=df.select_dtypes(exclude=['object'])"
   ]
  },
  {
   "cell_type": "code",
   "execution_count": null,
   "metadata": {
    "id": "7iIupka5kEgc"
   },
   "outputs": [],
   "source": [
    "#N-1 Dummy Encoding\n",
    "df_cat=pd.get_dummies(df_cat,drop_first=True)"
   ]
  },
  {
   "cell_type": "code",
   "execution_count": null,
   "metadata": {
    "id": "QXtTh1WgkEgc"
   },
   "outputs": [],
   "source": [
    "df_merge=pd.concat([df_num,df_cat],axis=1)"
   ]
  },
  {
   "cell_type": "code",
   "execution_count": null,
   "metadata": {
    "id": "c155CB_0kEgc"
   },
   "outputs": [],
   "source": [
    "#Adding a constant variable\n",
    "df_merge=sm.add_constant(df_merge)"
   ]
  },
  {
   "cell_type": "code",
   "execution_count": null,
   "metadata": {
    "id": "70rP_P9UkEgc"
   },
   "outputs": [],
   "source": [
    "df_ind=df_merge.drop(['claim'], axis=1)"
   ]
  },
  {
   "cell_type": "code",
   "execution_count": null,
   "metadata": {
    "id": "K46gjVOLkEgc"
   },
   "outputs": [],
   "source": [
    "df_target=df_merge['claim']"
   ]
  },
  {
   "cell_type": "code",
   "execution_count": null,
   "metadata": {
    "id": "K9a3aD0nkEgd"
   },
   "outputs": [],
   "source": [
    "x_train,x_test,y_train,y_test=train_test_split(df_target, df_ind, test_size=0.1, random_state=123)\n",
    "#print(x_train,x_test,y_train,y_test)"
   ]
  },
  {
   "cell_type": "code",
   "execution_count": null,
   "metadata": {
    "id": "421MwPwOkEgd"
   },
   "outputs": [],
   "source": [
    "model = sm.OLS(x_train,y_train).fit()"
   ]
  },
  {
   "cell_type": "code",
   "execution_count": null,
   "metadata": {
    "id": "IcTq0IYhkEgd",
    "outputId": "0b931099-aad4-4c6b-cf73-425a442836af",
    "scrolled": true
   },
   "outputs": [
    {
     "data": {
      "text/html": [
       "<table class=\"simpletable\">\n",
       "<caption>OLS Regression Results</caption>\n",
       "<tr>\n",
       "  <th>Dep. Variable:</th>          <td>claim</td>      <th>  R-squared:         </th> <td>   0.747</td> \n",
       "</tr>\n",
       "<tr>\n",
       "  <th>Model:</th>                   <td>OLS</td>       <th>  Adj. R-squared:    </th> <td>   0.746</td> \n",
       "</tr>\n",
       "<tr>\n",
       "  <th>Method:</th>             <td>Least Squares</td>  <th>  F-statistic:       </th> <td>   505.7</td> \n",
       "</tr>\n",
       "<tr>\n",
       "  <th>Date:</th>             <td>Wed, 20 Jan 2021</td> <th>  Prob (F-statistic):</th>  <td>  0.00</td>  \n",
       "</tr>\n",
       "<tr>\n",
       "  <th>Time:</th>                 <td>10:32:09</td>     <th>  Log-Likelihood:    </th> <td> -12190.</td> \n",
       "</tr>\n",
       "<tr>\n",
       "  <th>No. Observations:</th>      <td>  1204</td>      <th>  AIC:               </th> <td>2.440e+04</td>\n",
       "</tr>\n",
       "<tr>\n",
       "  <th>Df Residuals:</th>          <td>  1196</td>      <th>  BIC:               </th> <td>2.444e+04</td>\n",
       "</tr>\n",
       "<tr>\n",
       "  <th>Df Model:</th>              <td>     7</td>      <th>                     </th>     <td> </td>    \n",
       "</tr>\n",
       "<tr>\n",
       "  <th>Covariance Type:</th>      <td>nonrobust</td>    <th>                     </th>     <td> </td>    \n",
       "</tr>\n",
       "</table>\n",
       "<table class=\"simpletable\">\n",
       "<tr>\n",
       "          <td></td>            <th>coef</th>     <th>std err</th>      <th>t</th>      <th>P>|t|</th>  <th>[0.025</th>    <th>0.975]</th>  \n",
       "</tr>\n",
       "<tr>\n",
       "  <th>const</th>            <td>-1.204e+04</td> <td> 1047.558</td> <td>  -11.492</td> <td> 0.000</td> <td>-1.41e+04</td> <td>-9983.409</td>\n",
       "</tr>\n",
       "<tr>\n",
       "  <th>age</th>              <td>  259.5403</td> <td>   12.520</td> <td>   20.730</td> <td> 0.000</td> <td>  234.977</td> <td>  284.104</td>\n",
       "</tr>\n",
       "<tr>\n",
       "  <th>bmi</th>              <td>  338.4505</td> <td>   30.567</td> <td>   11.072</td> <td> 0.000</td> <td>  278.480</td> <td>  398.421</td>\n",
       "</tr>\n",
       "<tr>\n",
       "  <th>children</th>         <td>  473.3447</td> <td>  144.332</td> <td>    3.280</td> <td> 0.001</td> <td>  190.172</td> <td>  756.517</td>\n",
       "</tr>\n",
       "<tr>\n",
       "  <th>smoker_Yes</th>       <td> 2.361e+04</td> <td>  435.113</td> <td>   54.263</td> <td> 0.000</td> <td> 2.28e+04</td> <td> 2.45e+04</td>\n",
       "</tr>\n",
       "<tr>\n",
       "  <th>region_northwest</th> <td> -463.9446</td> <td>  500.498</td> <td>   -0.927</td> <td> 0.354</td> <td>-1445.896</td> <td>  518.007</td>\n",
       "</tr>\n",
       "<tr>\n",
       "  <th>region_southeast</th> <td>-1081.0480</td> <td>  508.173</td> <td>   -2.127</td> <td> 0.034</td> <td>-2078.058</td> <td>  -84.039</td>\n",
       "</tr>\n",
       "<tr>\n",
       "  <th>region_southwest</th> <td>-1032.8288</td> <td>  507.441</td> <td>   -2.035</td> <td> 0.042</td> <td>-2028.402</td> <td>  -37.256</td>\n",
       "</tr>\n",
       "</table>\n",
       "<table class=\"simpletable\">\n",
       "<tr>\n",
       "  <th>Omnibus:</th>       <td>285.921</td> <th>  Durbin-Watson:     </th> <td>   1.926</td> \n",
       "</tr>\n",
       "<tr>\n",
       "  <th>Prob(Omnibus):</th> <td> 0.000</td>  <th>  Jarque-Bera (JB):  </th> <td> 698.730</td> \n",
       "</tr>\n",
       "<tr>\n",
       "  <th>Skew:</th>          <td> 1.266</td>  <th>  Prob(JB):          </th> <td>1.87e-152</td>\n",
       "</tr>\n",
       "<tr>\n",
       "  <th>Kurtosis:</th>      <td> 5.742</td>  <th>  Cond. No.          </th> <td>    313.</td> \n",
       "</tr>\n",
       "</table><br/><br/>Notes:<br/>[1] Standard Errors assume that the covariance matrix of the errors is correctly specified."
      ],
      "text/plain": [
       "<class 'statsmodels.iolib.summary.Summary'>\n",
       "\"\"\"\n",
       "                            OLS Regression Results                            \n",
       "==============================================================================\n",
       "Dep. Variable:                  claim   R-squared:                       0.747\n",
       "Model:                            OLS   Adj. R-squared:                  0.746\n",
       "Method:                 Least Squares   F-statistic:                     505.7\n",
       "Date:                Wed, 20 Jan 2021   Prob (F-statistic):               0.00\n",
       "Time:                        10:32:09   Log-Likelihood:                -12190.\n",
       "No. Observations:                1204   AIC:                         2.440e+04\n",
       "Df Residuals:                    1196   BIC:                         2.444e+04\n",
       "Df Model:                           7                                         \n",
       "Covariance Type:            nonrobust                                         \n",
       "====================================================================================\n",
       "                       coef    std err          t      P>|t|      [0.025      0.975]\n",
       "------------------------------------------------------------------------------------\n",
       "const            -1.204e+04   1047.558    -11.492      0.000   -1.41e+04   -9983.409\n",
       "age                259.5403     12.520     20.730      0.000     234.977     284.104\n",
       "bmi                338.4505     30.567     11.072      0.000     278.480     398.421\n",
       "children           473.3447    144.332      3.280      0.001     190.172     756.517\n",
       "smoker_Yes        2.361e+04    435.113     54.263      0.000    2.28e+04    2.45e+04\n",
       "region_northwest  -463.9446    500.498     -0.927      0.354   -1445.896     518.007\n",
       "region_southeast -1081.0480    508.173     -2.127      0.034   -2078.058     -84.039\n",
       "region_southwest -1032.8288    507.441     -2.035      0.042   -2028.402     -37.256\n",
       "==============================================================================\n",
       "Omnibus:                      285.921   Durbin-Watson:                   1.926\n",
       "Prob(Omnibus):                  0.000   Jarque-Bera (JB):              698.730\n",
       "Skew:                           1.266   Prob(JB):                    1.87e-152\n",
       "Kurtosis:                       5.742   Cond. No.                         313.\n",
       "==============================================================================\n",
       "\n",
       "Notes:\n",
       "[1] Standard Errors assume that the covariance matrix of the errors is correctly specified.\n",
       "\"\"\""
      ]
     },
     "execution_count": 60,
     "metadata": {
      "tags": []
     },
     "output_type": "execute_result"
    }
   ],
   "source": [
    "model.summary()"
   ]
  },
  {
   "cell_type": "markdown",
   "metadata": {
    "id": "8m31kyVgkEge"
   },
   "source": [
    "### Removing insignificant Variables without Normalization"
   ]
  },
  {
   "cell_type": "code",
   "execution_count": null,
   "metadata": {
    "id": "rV8ECScrkEge"
   },
   "outputs": [],
   "source": [
    "df=pd.read_csv('insurance.csv')"
   ]
  },
  {
   "cell_type": "code",
   "execution_count": null,
   "metadata": {
    "id": "lrsXdeaEkEge"
   },
   "outputs": [],
   "source": [
    "df=df.drop(['bloodpressure','gender','diabetic'], axis=1)"
   ]
  },
  {
   "cell_type": "code",
   "execution_count": null,
   "metadata": {
    "id": "2_ypu16skEge"
   },
   "outputs": [],
   "source": [
    "df_cat=df.select_dtypes(include=['object'])\n",
    "df_num=df.select_dtypes(exclude=['object'])"
   ]
  },
  {
   "cell_type": "code",
   "execution_count": null,
   "metadata": {
    "id": "8zQxGQHJkEgf"
   },
   "outputs": [],
   "source": [
    "df_num_normal = pd.DataFrame(MinMaxScaler().fit_transform(df_num.values), columns=df_num.columns, index=df_num.index)\n",
    "df_num=df_num_normal"
   ]
  },
  {
   "cell_type": "code",
   "execution_count": null,
   "metadata": {
    "id": "R9NsOLmckEgf"
   },
   "outputs": [],
   "source": [
    "#N-1 Dummy Encoding\n",
    "df_cat_n=pd.get_dummies(df_cat,drop_first=True)"
   ]
  },
  {
   "cell_type": "code",
   "execution_count": null,
   "metadata": {
    "id": "JjFouw2JkEgf"
   },
   "outputs": [],
   "source": [
    "df_merge=pd.concat([df_num,df_cat_n],axis=1)"
   ]
  },
  {
   "cell_type": "code",
   "execution_count": null,
   "metadata": {
    "id": "7d0_pPSgkEgf"
   },
   "outputs": [],
   "source": [
    "#Adding a constant variable\n",
    "df_merge=sm.add_constant(df_merge)"
   ]
  },
  {
   "cell_type": "code",
   "execution_count": null,
   "metadata": {
    "id": "j8MQVO-SkEgf"
   },
   "outputs": [],
   "source": [
    "df_ind=df_merge.drop(['claim'], axis=1)"
   ]
  },
  {
   "cell_type": "code",
   "execution_count": null,
   "metadata": {
    "id": "QyZ3YdhkkEgf"
   },
   "outputs": [],
   "source": [
    "df_target=df_merge['claim']"
   ]
  },
  {
   "cell_type": "code",
   "execution_count": null,
   "metadata": {
    "id": "1aAyvd54kEgf"
   },
   "outputs": [],
   "source": [
    "x_train,x_test,y_train,y_test=train_test_split(df_target, df_ind, test_size=0.1, random_state=123)\n",
    "#print(x_train,x_test,y_train,y_test)"
   ]
  },
  {
   "cell_type": "code",
   "execution_count": null,
   "metadata": {
    "id": "uftauaoykEgf"
   },
   "outputs": [],
   "source": [
    "model = sm.OLS(x_train,y_train).fit()"
   ]
  },
  {
   "cell_type": "code",
   "execution_count": null,
   "metadata": {
    "id": "q2o_9-atkEgf",
    "outputId": "df118dbc-8a28-4be8-fa64-ba4c6bb5132e"
   },
   "outputs": [
    {
     "data": {
      "text/html": [
       "<table class=\"simpletable\">\n",
       "<caption>OLS Regression Results</caption>\n",
       "<tr>\n",
       "  <th>Dep. Variable:</th>          <td>claim</td>      <th>  R-squared:         </th> <td>   0.747</td>\n",
       "</tr>\n",
       "<tr>\n",
       "  <th>Model:</th>                   <td>OLS</td>       <th>  Adj. R-squared:    </th> <td>   0.746</td>\n",
       "</tr>\n",
       "<tr>\n",
       "  <th>Method:</th>             <td>Least Squares</td>  <th>  F-statistic:       </th> <td>   505.7</td>\n",
       "</tr>\n",
       "<tr>\n",
       "  <th>Date:</th>             <td>Wed, 20 Jan 2021</td> <th>  Prob (F-statistic):</th>  <td>  0.00</td> \n",
       "</tr>\n",
       "<tr>\n",
       "  <th>Time:</th>                 <td>10:32:11</td>     <th>  Log-Likelihood:    </th> <td>  1108.7</td>\n",
       "</tr>\n",
       "<tr>\n",
       "  <th>No. Observations:</th>      <td>  1204</td>      <th>  AIC:               </th> <td>  -2201.</td>\n",
       "</tr>\n",
       "<tr>\n",
       "  <th>Df Residuals:</th>          <td>  1196</td>      <th>  BIC:               </th> <td>  -2161.</td>\n",
       "</tr>\n",
       "<tr>\n",
       "  <th>Df Model:</th>              <td>     7</td>      <th>                     </th>     <td> </td>   \n",
       "</tr>\n",
       "<tr>\n",
       "  <th>Covariance Type:</th>      <td>nonrobust</td>    <th>                     </th>     <td> </td>   \n",
       "</tr>\n",
       "</table>\n",
       "<table class=\"simpletable\">\n",
       "<tr>\n",
       "          <td></td>            <th>coef</th>     <th>std err</th>      <th>t</th>      <th>P>|t|</th>  <th>[0.025</th>    <th>0.975]</th>  \n",
       "</tr>\n",
       "<tr>\n",
       "  <th>const</th>            <td>   -0.0491</td> <td>    0.010</td> <td>   -5.072</td> <td> 0.000</td> <td>   -0.068</td> <td>   -0.030</td>\n",
       "</tr>\n",
       "<tr>\n",
       "  <th>age</th>              <td>    0.1906</td> <td>    0.009</td> <td>   20.730</td> <td> 0.000</td> <td>    0.173</td> <td>    0.209</td>\n",
       "</tr>\n",
       "<tr>\n",
       "  <th>bmi</th>              <td>    0.2004</td> <td>    0.018</td> <td>   11.072</td> <td> 0.000</td> <td>    0.165</td> <td>    0.236</td>\n",
       "</tr>\n",
       "<tr>\n",
       "  <th>children</th>         <td>    0.0378</td> <td>    0.012</td> <td>    3.280</td> <td> 0.001</td> <td>    0.015</td> <td>    0.060</td>\n",
       "</tr>\n",
       "<tr>\n",
       "  <th>smoker_Yes</th>       <td>    0.3769</td> <td>    0.007</td> <td>   54.263</td> <td> 0.000</td> <td>    0.363</td> <td>    0.390</td>\n",
       "</tr>\n",
       "<tr>\n",
       "  <th>region_northwest</th> <td>   -0.0074</td> <td>    0.008</td> <td>   -0.927</td> <td> 0.354</td> <td>   -0.023</td> <td>    0.008</td>\n",
       "</tr>\n",
       "<tr>\n",
       "  <th>region_southeast</th> <td>   -0.0173</td> <td>    0.008</td> <td>   -2.127</td> <td> 0.034</td> <td>   -0.033</td> <td>   -0.001</td>\n",
       "</tr>\n",
       "<tr>\n",
       "  <th>region_southwest</th> <td>   -0.0165</td> <td>    0.008</td> <td>   -2.035</td> <td> 0.042</td> <td>   -0.032</td> <td>   -0.001</td>\n",
       "</tr>\n",
       "</table>\n",
       "<table class=\"simpletable\">\n",
       "<tr>\n",
       "  <th>Omnibus:</th>       <td>285.921</td> <th>  Durbin-Watson:     </th> <td>   1.926</td> \n",
       "</tr>\n",
       "<tr>\n",
       "  <th>Prob(Omnibus):</th> <td> 0.000</td>  <th>  Jarque-Bera (JB):  </th> <td> 698.730</td> \n",
       "</tr>\n",
       "<tr>\n",
       "  <th>Skew:</th>          <td> 1.266</td>  <th>  Prob(JB):          </th> <td>1.87e-152</td>\n",
       "</tr>\n",
       "<tr>\n",
       "  <th>Kurtosis:</th>      <td> 5.742</td>  <th>  Cond. No.          </th> <td>    8.99</td> \n",
       "</tr>\n",
       "</table><br/><br/>Notes:<br/>[1] Standard Errors assume that the covariance matrix of the errors is correctly specified."
      ],
      "text/plain": [
       "<class 'statsmodels.iolib.summary.Summary'>\n",
       "\"\"\"\n",
       "                            OLS Regression Results                            \n",
       "==============================================================================\n",
       "Dep. Variable:                  claim   R-squared:                       0.747\n",
       "Model:                            OLS   Adj. R-squared:                  0.746\n",
       "Method:                 Least Squares   F-statistic:                     505.7\n",
       "Date:                Wed, 20 Jan 2021   Prob (F-statistic):               0.00\n",
       "Time:                        10:32:11   Log-Likelihood:                 1108.7\n",
       "No. Observations:                1204   AIC:                            -2201.\n",
       "Df Residuals:                    1196   BIC:                            -2161.\n",
       "Df Model:                           7                                         \n",
       "Covariance Type:            nonrobust                                         \n",
       "====================================================================================\n",
       "                       coef    std err          t      P>|t|      [0.025      0.975]\n",
       "------------------------------------------------------------------------------------\n",
       "const               -0.0491      0.010     -5.072      0.000      -0.068      -0.030\n",
       "age                  0.1906      0.009     20.730      0.000       0.173       0.209\n",
       "bmi                  0.2004      0.018     11.072      0.000       0.165       0.236\n",
       "children             0.0378      0.012      3.280      0.001       0.015       0.060\n",
       "smoker_Yes           0.3769      0.007     54.263      0.000       0.363       0.390\n",
       "region_northwest    -0.0074      0.008     -0.927      0.354      -0.023       0.008\n",
       "region_southeast    -0.0173      0.008     -2.127      0.034      -0.033      -0.001\n",
       "region_southwest    -0.0165      0.008     -2.035      0.042      -0.032      -0.001\n",
       "==============================================================================\n",
       "Omnibus:                      285.921   Durbin-Watson:                   1.926\n",
       "Prob(Omnibus):                  0.000   Jarque-Bera (JB):              698.730\n",
       "Skew:                           1.266   Prob(JB):                    1.87e-152\n",
       "Kurtosis:                       5.742   Cond. No.                         8.99\n",
       "==============================================================================\n",
       "\n",
       "Notes:\n",
       "[1] Standard Errors assume that the covariance matrix of the errors is correctly specified.\n",
       "\"\"\""
      ]
     },
     "execution_count": 72,
     "metadata": {
      "tags": []
     },
     "output_type": "execute_result"
    }
   ],
   "source": [
    "model.summary()"
   ]
  },
  {
   "cell_type": "markdown",
   "metadata": {
    "id": "PLBFGxr_kEgf"
   },
   "source": [
    "### Removing insignificant Variables without Standardization"
   ]
  },
  {
   "cell_type": "code",
   "execution_count": null,
   "metadata": {
    "id": "0lIkd-dekEgf"
   },
   "outputs": [],
   "source": [
    "df=pd.read_csv('insurance.csv')"
   ]
  },
  {
   "cell_type": "code",
   "execution_count": null,
   "metadata": {
    "id": "ziiuwEEBkEgg"
   },
   "outputs": [],
   "source": [
    "df=df.drop(['bloodpressure','gender','diabetic'], axis=1)"
   ]
  },
  {
   "cell_type": "code",
   "execution_count": null,
   "metadata": {
    "id": "jCeKt-UMkEgh"
   },
   "outputs": [],
   "source": [
    "df_cat=df.select_dtypes(include=['object'])\n",
    "df_num=df.select_dtypes(exclude=['object'])"
   ]
  },
  {
   "cell_type": "code",
   "execution_count": null,
   "metadata": {
    "id": "XN3fUnjvkEgh"
   },
   "outputs": [],
   "source": [
    "df_num_std = pd.DataFrame(StandardScaler().fit_transform(df_num.values), columns=df_num.columns, index=df_num.index)\n",
    "df_num=df_num_std"
   ]
  },
  {
   "cell_type": "code",
   "execution_count": null,
   "metadata": {
    "id": "fJgRcRzhkEgh"
   },
   "outputs": [],
   "source": [
    "#N-1 Dummy Encoding\n",
    "df_cat_n=pd.get_dummies(df_cat,drop_first=True)"
   ]
  },
  {
   "cell_type": "code",
   "execution_count": null,
   "metadata": {
    "id": "--34_uBYkEgh"
   },
   "outputs": [],
   "source": [
    "df_merge=pd.concat([df_num,df_cat_n],axis=1)"
   ]
  },
  {
   "cell_type": "code",
   "execution_count": null,
   "metadata": {
    "id": "a8w5k-E8kEgh"
   },
   "outputs": [],
   "source": [
    "#Adding a constant variable\n",
    "df_merge=sm.add_constant(df_merge)"
   ]
  },
  {
   "cell_type": "code",
   "execution_count": null,
   "metadata": {
    "id": "PEHAirockEgh"
   },
   "outputs": [],
   "source": [
    "df_ind=df_merge.drop(['claim'], axis=1)"
   ]
  },
  {
   "cell_type": "code",
   "execution_count": null,
   "metadata": {
    "id": "WikgDWgQkEgh"
   },
   "outputs": [],
   "source": [
    "df_target=df_merge['claim']"
   ]
  },
  {
   "cell_type": "code",
   "execution_count": null,
   "metadata": {
    "id": "6PuayqeEkEgh"
   },
   "outputs": [],
   "source": [
    "x_train,x_test,y_train,y_test=train_test_split(df_target, df_ind, test_size=0.1, random_state=123)\n",
    "#print(x_train,x_test,y_train,y_test)"
   ]
  },
  {
   "cell_type": "code",
   "execution_count": null,
   "metadata": {
    "id": "Ah9q2cw1kEgh"
   },
   "outputs": [],
   "source": [
    "model = sm.OLS(x_train,y_train).fit()"
   ]
  },
  {
   "cell_type": "code",
   "execution_count": null,
   "metadata": {
    "id": "2o9m4BM0kEgh",
    "outputId": "a480d89f-96a0-41c4-80b2-7621ada5dc32"
   },
   "outputs": [
    {
     "data": {
      "text/html": [
       "<table class=\"simpletable\">\n",
       "<caption>OLS Regression Results</caption>\n",
       "<tr>\n",
       "  <th>Dep. Variable:</th>          <td>claim</td>      <th>  R-squared:         </th> <td>   0.747</td>\n",
       "</tr>\n",
       "<tr>\n",
       "  <th>Model:</th>                   <td>OLS</td>       <th>  Adj. R-squared:    </th> <td>   0.746</td>\n",
       "</tr>\n",
       "<tr>\n",
       "  <th>Method:</th>             <td>Least Squares</td>  <th>  F-statistic:       </th> <td>   505.7</td>\n",
       "</tr>\n",
       "<tr>\n",
       "  <th>Date:</th>             <td>Wed, 20 Jan 2021</td> <th>  Prob (F-statistic):</th>  <td>  0.00</td> \n",
       "</tr>\n",
       "<tr>\n",
       "  <th>Time:</th>                 <td>10:32:13</td>     <th>  Log-Likelihood:    </th> <td> -870.49</td>\n",
       "</tr>\n",
       "<tr>\n",
       "  <th>No. Observations:</th>      <td>  1204</td>      <th>  AIC:               </th> <td>   1757.</td>\n",
       "</tr>\n",
       "<tr>\n",
       "  <th>Df Residuals:</th>          <td>  1196</td>      <th>  BIC:               </th> <td>   1798.</td>\n",
       "</tr>\n",
       "<tr>\n",
       "  <th>Df Model:</th>              <td>     7</td>      <th>                     </th>     <td> </td>   \n",
       "</tr>\n",
       "<tr>\n",
       "  <th>Covariance Type:</th>      <td>nonrobust</td>    <th>                     </th>     <td> </td>   \n",
       "</tr>\n",
       "</table>\n",
       "<table class=\"simpletable\">\n",
       "<tr>\n",
       "          <td></td>            <th>coef</th>     <th>std err</th>      <th>t</th>      <th>P>|t|</th>  <th>[0.025</th>    <th>0.975]</th>  \n",
       "</tr>\n",
       "<tr>\n",
       "  <th>const</th>            <td>   -0.3499</td> <td>    0.031</td> <td>  -11.378</td> <td> 0.000</td> <td>   -0.410</td> <td>   -0.290</td>\n",
       "</tr>\n",
       "<tr>\n",
       "  <th>age</th>              <td>    0.3011</td> <td>    0.015</td> <td>   20.730</td> <td> 0.000</td> <td>    0.273</td> <td>    0.330</td>\n",
       "</tr>\n",
       "<tr>\n",
       "  <th>bmi</th>              <td>    0.1704</td> <td>    0.015</td> <td>   11.072</td> <td> 0.000</td> <td>    0.140</td> <td>    0.201</td>\n",
       "</tr>\n",
       "<tr>\n",
       "  <th>children</th>         <td>    0.0471</td> <td>    0.014</td> <td>    3.280</td> <td> 0.001</td> <td>    0.019</td> <td>    0.075</td>\n",
       "</tr>\n",
       "<tr>\n",
       "  <th>smoker_Yes</th>       <td>    1.9504</td> <td>    0.036</td> <td>   54.263</td> <td> 0.000</td> <td>    1.880</td> <td>    2.021</td>\n",
       "</tr>\n",
       "<tr>\n",
       "  <th>region_northwest</th> <td>   -0.0383</td> <td>    0.041</td> <td>   -0.927</td> <td> 0.354</td> <td>   -0.119</td> <td>    0.043</td>\n",
       "</tr>\n",
       "<tr>\n",
       "  <th>region_southeast</th> <td>   -0.0893</td> <td>    0.042</td> <td>   -2.127</td> <td> 0.034</td> <td>   -0.172</td> <td>   -0.007</td>\n",
       "</tr>\n",
       "<tr>\n",
       "  <th>region_southwest</th> <td>   -0.0853</td> <td>    0.042</td> <td>   -2.035</td> <td> 0.042</td> <td>   -0.168</td> <td>   -0.003</td>\n",
       "</tr>\n",
       "</table>\n",
       "<table class=\"simpletable\">\n",
       "<tr>\n",
       "  <th>Omnibus:</th>       <td>285.921</td> <th>  Durbin-Watson:     </th> <td>   1.926</td> \n",
       "</tr>\n",
       "<tr>\n",
       "  <th>Prob(Omnibus):</th> <td> 0.000</td>  <th>  Jarque-Bera (JB):  </th> <td> 698.730</td> \n",
       "</tr>\n",
       "<tr>\n",
       "  <th>Skew:</th>          <td> 1.266</td>  <th>  Prob(JB):          </th> <td>1.87e-152</td>\n",
       "</tr>\n",
       "<tr>\n",
       "  <th>Kurtosis:</th>      <td> 5.742</td>  <th>  Cond. No.          </th> <td>    5.07</td> \n",
       "</tr>\n",
       "</table><br/><br/>Notes:<br/>[1] Standard Errors assume that the covariance matrix of the errors is correctly specified."
      ],
      "text/plain": [
       "<class 'statsmodels.iolib.summary.Summary'>\n",
       "\"\"\"\n",
       "                            OLS Regression Results                            \n",
       "==============================================================================\n",
       "Dep. Variable:                  claim   R-squared:                       0.747\n",
       "Model:                            OLS   Adj. R-squared:                  0.746\n",
       "Method:                 Least Squares   F-statistic:                     505.7\n",
       "Date:                Wed, 20 Jan 2021   Prob (F-statistic):               0.00\n",
       "Time:                        10:32:13   Log-Likelihood:                -870.49\n",
       "No. Observations:                1204   AIC:                             1757.\n",
       "Df Residuals:                    1196   BIC:                             1798.\n",
       "Df Model:                           7                                         \n",
       "Covariance Type:            nonrobust                                         \n",
       "====================================================================================\n",
       "                       coef    std err          t      P>|t|      [0.025      0.975]\n",
       "------------------------------------------------------------------------------------\n",
       "const               -0.3499      0.031    -11.378      0.000      -0.410      -0.290\n",
       "age                  0.3011      0.015     20.730      0.000       0.273       0.330\n",
       "bmi                  0.1704      0.015     11.072      0.000       0.140       0.201\n",
       "children             0.0471      0.014      3.280      0.001       0.019       0.075\n",
       "smoker_Yes           1.9504      0.036     54.263      0.000       1.880       2.021\n",
       "region_northwest    -0.0383      0.041     -0.927      0.354      -0.119       0.043\n",
       "region_southeast    -0.0893      0.042     -2.127      0.034      -0.172      -0.007\n",
       "region_southwest    -0.0853      0.042     -2.035      0.042      -0.168      -0.003\n",
       "==============================================================================\n",
       "Omnibus:                      285.921   Durbin-Watson:                   1.926\n",
       "Prob(Omnibus):                  0.000   Jarque-Bera (JB):              698.730\n",
       "Skew:                           1.266   Prob(JB):                    1.87e-152\n",
       "Kurtosis:                       5.742   Cond. No.                         5.07\n",
       "==============================================================================\n",
       "\n",
       "Notes:\n",
       "[1] Standard Errors assume that the covariance matrix of the errors is correctly specified.\n",
       "\"\"\""
      ]
     },
     "execution_count": 84,
     "metadata": {
      "tags": []
     },
     "output_type": "execute_result"
    }
   ],
   "source": [
    "model.summary()"
   ]
  },
  {
   "cell_type": "markdown",
   "metadata": {
    "id": "xCrvvXovkEgh"
   },
   "source": [
    "### BMI Binned using pandas.cut "
   ]
  },
  {
   "cell_type": "code",
   "execution_count": null,
   "metadata": {
    "id": "KkBgNsmkkEgi"
   },
   "outputs": [],
   "source": [
    "df=pd.read_csv('insurance.csv')"
   ]
  },
  {
   "cell_type": "code",
   "execution_count": null,
   "metadata": {
    "id": "HjNZZOdwkEgi"
   },
   "outputs": [],
   "source": [
    "#using cut to create 4 categorical values for binned_bmi using bmi variables\n",
    "data_labels = ['unerweight', 'normal', 'overweight', 'obese']\n",
    "data_bins = [0, 18.5, 25, 30, 100]\n",
    "df['binned_bmi'] = pd.cut(df['bmi'], bins=data_bins, labels=data_labels)"
   ]
  },
  {
   "cell_type": "code",
   "execution_count": null,
   "metadata": {
    "id": "N34W31dnkEgi"
   },
   "outputs": [],
   "source": [
    "df_cat=df.select_dtypes(include=['object','category'])\n",
    "df_num=df.select_dtypes(exclude=['object','category'])"
   ]
  },
  {
   "cell_type": "code",
   "execution_count": null,
   "metadata": {
    "id": "FSyAgIYokEgi"
   },
   "outputs": [],
   "source": [
    "#N-1 Dummy Encoding\n",
    "df_cat=pd.get_dummies(df_cat,drop_first=True)"
   ]
  },
  {
   "cell_type": "code",
   "execution_count": null,
   "metadata": {
    "id": "4cWrSqG5kEgj"
   },
   "outputs": [],
   "source": [
    "df_merge=pd.concat([df_num,df_cat],axis=1)"
   ]
  },
  {
   "cell_type": "code",
   "execution_count": null,
   "metadata": {
    "id": "HY47TRfCkEgj"
   },
   "outputs": [],
   "source": [
    "#Adding a constant variable\n",
    "df_merge=sm.add_constant(df_merge)"
   ]
  },
  {
   "cell_type": "code",
   "execution_count": null,
   "metadata": {
    "id": "Nu-zyrNMkEgj"
   },
   "outputs": [],
   "source": [
    "df_ind=df_merge.drop(['claim'], axis=1)"
   ]
  },
  {
   "cell_type": "code",
   "execution_count": null,
   "metadata": {
    "id": "LMX38KnJkEgj"
   },
   "outputs": [],
   "source": [
    "df_target=df_merge['claim']"
   ]
  },
  {
   "cell_type": "code",
   "execution_count": null,
   "metadata": {
    "id": "l23XTH0mkEgj"
   },
   "outputs": [],
   "source": [
    "x_train,x_test,y_train,y_test=train_test_split(df_target, df_ind, test_size=0.1, random_state=123)\n",
    "#print(x_train,x_test,y_train,y_test)"
   ]
  },
  {
   "cell_type": "code",
   "execution_count": null,
   "metadata": {
    "id": "EIYMOdg2kEgk"
   },
   "outputs": [],
   "source": [
    "model = sm.OLS(x_train,y_train).fit()"
   ]
  },
  {
   "cell_type": "code",
   "execution_count": null,
   "metadata": {
    "id": "xJReIq8RkEgk",
    "outputId": "0276be0a-7ddb-45f6-8941-676e81dbe834"
   },
   "outputs": [
    {
     "data": {
      "text/html": [
       "<table class=\"simpletable\">\n",
       "<caption>OLS Regression Results</caption>\n",
       "<tr>\n",
       "  <th>Dep. Variable:</th>          <td>claim</td>      <th>  R-squared:         </th> <td>   0.754</td> \n",
       "</tr>\n",
       "<tr>\n",
       "  <th>Model:</th>                   <td>OLS</td>       <th>  Adj. R-squared:    </th> <td>   0.751</td> \n",
       "</tr>\n",
       "<tr>\n",
       "  <th>Method:</th>             <td>Least Squares</td>  <th>  F-statistic:       </th> <td>   280.0</td> \n",
       "</tr>\n",
       "<tr>\n",
       "  <th>Date:</th>             <td>Wed, 20 Jan 2021</td> <th>  Prob (F-statistic):</th>  <td>  0.00</td>  \n",
       "</tr>\n",
       "<tr>\n",
       "  <th>Time:</th>                 <td>10:32:15</td>     <th>  Log-Likelihood:    </th> <td> -12175.</td> \n",
       "</tr>\n",
       "<tr>\n",
       "  <th>No. Observations:</th>      <td>  1204</td>      <th>  AIC:               </th> <td>2.438e+04</td>\n",
       "</tr>\n",
       "<tr>\n",
       "  <th>Df Residuals:</th>          <td>  1190</td>      <th>  BIC:               </th> <td>2.445e+04</td>\n",
       "</tr>\n",
       "<tr>\n",
       "  <th>Df Model:</th>              <td>    13</td>      <th>                     </th>     <td> </td>    \n",
       "</tr>\n",
       "<tr>\n",
       "  <th>Covariance Type:</th>      <td>nonrobust</td>    <th>                     </th>     <td> </td>    \n",
       "</tr>\n",
       "</table>\n",
       "<table class=\"simpletable\">\n",
       "<tr>\n",
       "            <td></td>               <th>coef</th>     <th>std err</th>      <th>t</th>      <th>P>|t|</th>  <th>[0.025</th>    <th>0.975]</th>  \n",
       "</tr>\n",
       "<tr>\n",
       "  <th>const</th>                 <td>-8427.7790</td> <td> 2139.491</td> <td>   -3.939</td> <td> 0.000</td> <td>-1.26e+04</td> <td>-4230.185</td>\n",
       "</tr>\n",
       "<tr>\n",
       "  <th>age</th>                   <td>  259.7526</td> <td>   12.443</td> <td>   20.876</td> <td> 0.000</td> <td>  235.341</td> <td>  284.164</td>\n",
       "</tr>\n",
       "<tr>\n",
       "  <th>bmi</th>                   <td>  114.1282</td> <td>   58.393</td> <td>    1.954</td> <td> 0.051</td> <td>   -0.436</td> <td>  228.692</td>\n",
       "</tr>\n",
       "<tr>\n",
       "  <th>bloodpressure</th>         <td>    6.1072</td> <td>    9.914</td> <td>    0.616</td> <td> 0.538</td> <td>  -13.344</td> <td>   25.558</td>\n",
       "</tr>\n",
       "<tr>\n",
       "  <th>children</th>              <td>  472.7675</td> <td>  143.191</td> <td>    3.302</td> <td> 0.001</td> <td>  191.833</td> <td>  753.702</td>\n",
       "</tr>\n",
       "<tr>\n",
       "  <th>gender_male</th>           <td>  -96.7506</td> <td>  348.247</td> <td>   -0.278</td> <td> 0.781</td> <td> -779.998</td> <td>  586.497</td>\n",
       "</tr>\n",
       "<tr>\n",
       "  <th>diabetic_Yes</th>          <td> -259.1284</td> <td>  347.763</td> <td>   -0.745</td> <td> 0.456</td> <td> -941.425</td> <td>  423.168</td>\n",
       "</tr>\n",
       "<tr>\n",
       "  <th>smoker_Yes</th>            <td> 2.361e+04</td> <td>  432.839</td> <td>   54.545</td> <td> 0.000</td> <td> 2.28e+04</td> <td> 2.45e+04</td>\n",
       "</tr>\n",
       "<tr>\n",
       "  <th>region_northwest</th>      <td> -499.8748</td> <td>  497.577</td> <td>   -1.005</td> <td> 0.315</td> <td>-1476.101</td> <td>  476.351</td>\n",
       "</tr>\n",
       "<tr>\n",
       "  <th>region_southeast</th>      <td> -895.8351</td> <td>  505.478</td> <td>   -1.772</td> <td> 0.077</td> <td>-1887.563</td> <td>   95.893</td>\n",
       "</tr>\n",
       "<tr>\n",
       "  <th>region_southwest</th>      <td>-1055.5888</td> <td>  503.878</td> <td>   -2.095</td> <td> 0.036</td> <td>-2044.176</td> <td>  -67.002</td>\n",
       "</tr>\n",
       "<tr>\n",
       "  <th>binned_bmi_normal</th>     <td>  983.4595</td> <td> 1506.147</td> <td>    0.653</td> <td> 0.514</td> <td>-1971.539</td> <td> 3938.458</td>\n",
       "</tr>\n",
       "<tr>\n",
       "  <th>binned_bmi_overweight</th> <td> 1136.4365</td> <td> 1560.331</td> <td>    0.728</td> <td> 0.467</td> <td>-1924.870</td> <td> 4197.743</td>\n",
       "</tr>\n",
       "<tr>\n",
       "  <th>binned_bmi_obese</th>      <td> 4277.2338</td> <td> 1753.194</td> <td>    2.440</td> <td> 0.015</td> <td>  837.538</td> <td> 7716.929</td>\n",
       "</tr>\n",
       "</table>\n",
       "<table class=\"simpletable\">\n",
       "<tr>\n",
       "  <th>Omnibus:</th>       <td>302.236</td> <th>  Durbin-Watson:     </th> <td>   1.930</td> \n",
       "</tr>\n",
       "<tr>\n",
       "  <th>Prob(Omnibus):</th> <td> 0.000</td>  <th>  Jarque-Bera (JB):  </th> <td> 754.195</td> \n",
       "</tr>\n",
       "<tr>\n",
       "  <th>Skew:</th>          <td> 1.328</td>  <th>  Prob(JB):          </th> <td>1.69e-164</td>\n",
       "</tr>\n",
       "<tr>\n",
       "  <th>Kurtosis:</th>      <td> 5.824</td>  <th>  Cond. No.          </th> <td>2.06e+03</td> \n",
       "</tr>\n",
       "</table><br/><br/>Notes:<br/>[1] Standard Errors assume that the covariance matrix of the errors is correctly specified.<br/>[2] The condition number is large, 2.06e+03. This might indicate that there are<br/>strong multicollinearity or other numerical problems."
      ],
      "text/plain": [
       "<class 'statsmodels.iolib.summary.Summary'>\n",
       "\"\"\"\n",
       "                            OLS Regression Results                            \n",
       "==============================================================================\n",
       "Dep. Variable:                  claim   R-squared:                       0.754\n",
       "Model:                            OLS   Adj. R-squared:                  0.751\n",
       "Method:                 Least Squares   F-statistic:                     280.0\n",
       "Date:                Wed, 20 Jan 2021   Prob (F-statistic):               0.00\n",
       "Time:                        10:32:15   Log-Likelihood:                -12175.\n",
       "No. Observations:                1204   AIC:                         2.438e+04\n",
       "Df Residuals:                    1190   BIC:                         2.445e+04\n",
       "Df Model:                          13                                         \n",
       "Covariance Type:            nonrobust                                         \n",
       "=========================================================================================\n",
       "                            coef    std err          t      P>|t|      [0.025      0.975]\n",
       "-----------------------------------------------------------------------------------------\n",
       "const                 -8427.7790   2139.491     -3.939      0.000   -1.26e+04   -4230.185\n",
       "age                     259.7526     12.443     20.876      0.000     235.341     284.164\n",
       "bmi                     114.1282     58.393      1.954      0.051      -0.436     228.692\n",
       "bloodpressure             6.1072      9.914      0.616      0.538     -13.344      25.558\n",
       "children                472.7675    143.191      3.302      0.001     191.833     753.702\n",
       "gender_male             -96.7506    348.247     -0.278      0.781    -779.998     586.497\n",
       "diabetic_Yes           -259.1284    347.763     -0.745      0.456    -941.425     423.168\n",
       "smoker_Yes             2.361e+04    432.839     54.545      0.000    2.28e+04    2.45e+04\n",
       "region_northwest       -499.8748    497.577     -1.005      0.315   -1476.101     476.351\n",
       "region_southeast       -895.8351    505.478     -1.772      0.077   -1887.563      95.893\n",
       "region_southwest      -1055.5888    503.878     -2.095      0.036   -2044.176     -67.002\n",
       "binned_bmi_normal       983.4595   1506.147      0.653      0.514   -1971.539    3938.458\n",
       "binned_bmi_overweight  1136.4365   1560.331      0.728      0.467   -1924.870    4197.743\n",
       "binned_bmi_obese       4277.2338   1753.194      2.440      0.015     837.538    7716.929\n",
       "==============================================================================\n",
       "Omnibus:                      302.236   Durbin-Watson:                   1.930\n",
       "Prob(Omnibus):                  0.000   Jarque-Bera (JB):              754.195\n",
       "Skew:                           1.328   Prob(JB):                    1.69e-164\n",
       "Kurtosis:                       5.824   Cond. No.                     2.06e+03\n",
       "==============================================================================\n",
       "\n",
       "Notes:\n",
       "[1] Standard Errors assume that the covariance matrix of the errors is correctly specified.\n",
       "[2] The condition number is large, 2.06e+03. This might indicate that there are\n",
       "strong multicollinearity or other numerical problems.\n",
       "\"\"\""
      ]
     },
     "execution_count": 95,
     "metadata": {
      "tags": []
     },
     "output_type": "execute_result"
    }
   ],
   "source": [
    "model.summary()"
   ]
  },
  {
   "cell_type": "markdown",
   "metadata": {
    "id": "OveBLD85kEgl"
   },
   "source": [
    "### BMI Binned using pandas.cut using Normalization"
   ]
  },
  {
   "cell_type": "code",
   "execution_count": null,
   "metadata": {
    "id": "kXdZl-nJkEgl"
   },
   "outputs": [],
   "source": [
    "df=pd.read_csv('insurance.csv')"
   ]
  },
  {
   "cell_type": "code",
   "execution_count": null,
   "metadata": {
    "id": "Po6GuDzhkEgm"
   },
   "outputs": [],
   "source": [
    "#using cut to create 4 categorical values for binned_bmi using bmi variables\n",
    "data_labels = ['unerweight', 'normal', 'overweight', 'obese']\n",
    "data_bins = [0, 18.5, 25, 30, 100]\n",
    "df['binned_bmi'] = pd.cut(df['bmi'], bins=data_bins, labels=data_labels)"
   ]
  },
  {
   "cell_type": "code",
   "execution_count": null,
   "metadata": {
    "id": "uBqGNT7PkEgm"
   },
   "outputs": [],
   "source": [
    "df_cat=df.select_dtypes(include=['object','category'])\n",
    "df_num=df.select_dtypes(exclude=['object','category'])"
   ]
  },
  {
   "cell_type": "code",
   "execution_count": null,
   "metadata": {
    "id": "n_5fXzVbkEgm"
   },
   "outputs": [],
   "source": [
    "df_num_normal = pd.DataFrame(MinMaxScaler().fit_transform(df_num.values), columns=df_num.columns, index=df_num.index)\n",
    "df_num=df_num_normal"
   ]
  },
  {
   "cell_type": "code",
   "execution_count": null,
   "metadata": {
    "id": "qtImXg6MkEgm"
   },
   "outputs": [],
   "source": [
    "#N-1 Dummy Encoding\n",
    "df_cat_n=pd.get_dummies(df_cat,drop_first=True)"
   ]
  },
  {
   "cell_type": "code",
   "execution_count": null,
   "metadata": {
    "id": "kLMxXiAakEgm"
   },
   "outputs": [],
   "source": [
    "df_merge=pd.concat([df_num,df_cat_n],axis=1)"
   ]
  },
  {
   "cell_type": "code",
   "execution_count": null,
   "metadata": {
    "id": "xXektW91kEgm"
   },
   "outputs": [],
   "source": [
    "#Adding a constant variable\n",
    "df_merge=sm.add_constant(df_merge)"
   ]
  },
  {
   "cell_type": "code",
   "execution_count": null,
   "metadata": {
    "id": "Jq3vLtz1kEgm"
   },
   "outputs": [],
   "source": [
    "df_ind=df_merge.drop(['claim'], axis=1)"
   ]
  },
  {
   "cell_type": "code",
   "execution_count": null,
   "metadata": {
    "id": "9TnvknWPkEgm"
   },
   "outputs": [],
   "source": [
    "df_target=df_merge['claim']"
   ]
  },
  {
   "cell_type": "code",
   "execution_count": null,
   "metadata": {
    "id": "GI8GPJkXkEgm"
   },
   "outputs": [],
   "source": [
    "x_train,x_test,y_train,y_test=train_test_split(df_target, df_ind, test_size=0.1, random_state=123)\n",
    "#print(x_train,x_test,y_train,y_test)"
   ]
  },
  {
   "cell_type": "code",
   "execution_count": null,
   "metadata": {
    "id": "TEAXnLypkEgm"
   },
   "outputs": [],
   "source": [
    "model = sm.OLS(x_train,y_train).fit()"
   ]
  },
  {
   "cell_type": "code",
   "execution_count": null,
   "metadata": {
    "id": "nTsDsiubkEgn",
    "outputId": "8220743a-ceae-4509-c342-f80e9db09aa2"
   },
   "outputs": [
    {
     "data": {
      "text/html": [
       "<table class=\"simpletable\">\n",
       "<caption>OLS Regression Results</caption>\n",
       "<tr>\n",
       "  <th>Dep. Variable:</th>          <td>claim</td>      <th>  R-squared:         </th> <td>   0.754</td>\n",
       "</tr>\n",
       "<tr>\n",
       "  <th>Model:</th>                   <td>OLS</td>       <th>  Adj. R-squared:    </th> <td>   0.751</td>\n",
       "</tr>\n",
       "<tr>\n",
       "  <th>Method:</th>             <td>Least Squares</td>  <th>  F-statistic:       </th> <td>   280.0</td>\n",
       "</tr>\n",
       "<tr>\n",
       "  <th>Date:</th>             <td>Wed, 20 Jan 2021</td> <th>  Prob (F-statistic):</th>  <td>  0.00</td> \n",
       "</tr>\n",
       "<tr>\n",
       "  <th>Time:</th>                 <td>10:32:18</td>     <th>  Log-Likelihood:    </th> <td>  1123.6</td>\n",
       "</tr>\n",
       "<tr>\n",
       "  <th>No. Observations:</th>      <td>  1204</td>      <th>  AIC:               </th> <td>  -2219.</td>\n",
       "</tr>\n",
       "<tr>\n",
       "  <th>Df Residuals:</th>          <td>  1190</td>      <th>  BIC:               </th> <td>  -2148.</td>\n",
       "</tr>\n",
       "<tr>\n",
       "  <th>Df Model:</th>              <td>    13</td>      <th>                     </th>     <td> </td>   \n",
       "</tr>\n",
       "<tr>\n",
       "  <th>Covariance Type:</th>      <td>nonrobust</td>    <th>                     </th>     <td> </td>   \n",
       "</tr>\n",
       "</table>\n",
       "<table class=\"simpletable\">\n",
       "<tr>\n",
       "            <td></td>               <th>coef</th>     <th>std err</th>      <th>t</th>      <th>P>|t|</th>  <th>[0.025</th>    <th>0.975]</th>  \n",
       "</tr>\n",
       "<tr>\n",
       "  <th>const</th>                 <td>   -0.0409</td> <td>    0.024</td> <td>   -1.694</td> <td> 0.090</td> <td>   -0.088</td> <td>    0.006</td>\n",
       "</tr>\n",
       "<tr>\n",
       "  <th>age</th>                   <td>    0.1907</td> <td>    0.009</td> <td>   20.876</td> <td> 0.000</td> <td>    0.173</td> <td>    0.209</td>\n",
       "</tr>\n",
       "<tr>\n",
       "  <th>bmi</th>                   <td>    0.0676</td> <td>    0.035</td> <td>    1.954</td> <td> 0.051</td> <td>   -0.000</td> <td>    0.135</td>\n",
       "</tr>\n",
       "<tr>\n",
       "  <th>bloodpressure</th>         <td>    0.0058</td> <td>    0.009</td> <td>    0.616</td> <td> 0.538</td> <td>   -0.013</td> <td>    0.024</td>\n",
       "</tr>\n",
       "<tr>\n",
       "  <th>children</th>              <td>    0.0377</td> <td>    0.011</td> <td>    3.302</td> <td> 0.001</td> <td>    0.015</td> <td>    0.060</td>\n",
       "</tr>\n",
       "<tr>\n",
       "  <th>gender_male</th>           <td>   -0.0015</td> <td>    0.006</td> <td>   -0.278</td> <td> 0.781</td> <td>   -0.012</td> <td>    0.009</td>\n",
       "</tr>\n",
       "<tr>\n",
       "  <th>diabetic_Yes</th>          <td>   -0.0041</td> <td>    0.006</td> <td>   -0.745</td> <td> 0.456</td> <td>   -0.015</td> <td>    0.007</td>\n",
       "</tr>\n",
       "<tr>\n",
       "  <th>smoker_Yes</th>            <td>    0.3769</td> <td>    0.007</td> <td>   54.545</td> <td> 0.000</td> <td>    0.363</td> <td>    0.390</td>\n",
       "</tr>\n",
       "<tr>\n",
       "  <th>region_northwest</th>      <td>   -0.0080</td> <td>    0.008</td> <td>   -1.005</td> <td> 0.315</td> <td>   -0.024</td> <td>    0.008</td>\n",
       "</tr>\n",
       "<tr>\n",
       "  <th>region_southeast</th>      <td>   -0.0143</td> <td>    0.008</td> <td>   -1.772</td> <td> 0.077</td> <td>   -0.030</td> <td>    0.002</td>\n",
       "</tr>\n",
       "<tr>\n",
       "  <th>region_southwest</th>      <td>   -0.0168</td> <td>    0.008</td> <td>   -2.095</td> <td> 0.036</td> <td>   -0.033</td> <td>   -0.001</td>\n",
       "</tr>\n",
       "<tr>\n",
       "  <th>binned_bmi_normal</th>     <td>    0.0157</td> <td>    0.024</td> <td>    0.653</td> <td> 0.514</td> <td>   -0.031</td> <td>    0.063</td>\n",
       "</tr>\n",
       "<tr>\n",
       "  <th>binned_bmi_overweight</th> <td>    0.0181</td> <td>    0.025</td> <td>    0.728</td> <td> 0.467</td> <td>   -0.031</td> <td>    0.067</td>\n",
       "</tr>\n",
       "<tr>\n",
       "  <th>binned_bmi_obese</th>      <td>    0.0683</td> <td>    0.028</td> <td>    2.440</td> <td> 0.015</td> <td>    0.013</td> <td>    0.123</td>\n",
       "</tr>\n",
       "</table>\n",
       "<table class=\"simpletable\">\n",
       "<tr>\n",
       "  <th>Omnibus:</th>       <td>302.236</td> <th>  Durbin-Watson:     </th> <td>   1.930</td> \n",
       "</tr>\n",
       "<tr>\n",
       "  <th>Prob(Omnibus):</th> <td> 0.000</td>  <th>  Jarque-Bera (JB):  </th> <td> 754.195</td> \n",
       "</tr>\n",
       "<tr>\n",
       "  <th>Skew:</th>          <td> 1.328</td>  <th>  Prob(JB):          </th> <td>1.69e-164</td>\n",
       "</tr>\n",
       "<tr>\n",
       "  <th>Kurtosis:</th>      <td> 5.824</td>  <th>  Cond. No.          </th> <td>    30.6</td> \n",
       "</tr>\n",
       "</table><br/><br/>Notes:<br/>[1] Standard Errors assume that the covariance matrix of the errors is correctly specified."
      ],
      "text/plain": [
       "<class 'statsmodels.iolib.summary.Summary'>\n",
       "\"\"\"\n",
       "                            OLS Regression Results                            \n",
       "==============================================================================\n",
       "Dep. Variable:                  claim   R-squared:                       0.754\n",
       "Model:                            OLS   Adj. R-squared:                  0.751\n",
       "Method:                 Least Squares   F-statistic:                     280.0\n",
       "Date:                Wed, 20 Jan 2021   Prob (F-statistic):               0.00\n",
       "Time:                        10:32:18   Log-Likelihood:                 1123.6\n",
       "No. Observations:                1204   AIC:                            -2219.\n",
       "Df Residuals:                    1190   BIC:                            -2148.\n",
       "Df Model:                          13                                         \n",
       "Covariance Type:            nonrobust                                         \n",
       "=========================================================================================\n",
       "                            coef    std err          t      P>|t|      [0.025      0.975]\n",
       "-----------------------------------------------------------------------------------------\n",
       "const                    -0.0409      0.024     -1.694      0.090      -0.088       0.006\n",
       "age                       0.1907      0.009     20.876      0.000       0.173       0.209\n",
       "bmi                       0.0676      0.035      1.954      0.051      -0.000       0.135\n",
       "bloodpressure             0.0058      0.009      0.616      0.538      -0.013       0.024\n",
       "children                  0.0377      0.011      3.302      0.001       0.015       0.060\n",
       "gender_male              -0.0015      0.006     -0.278      0.781      -0.012       0.009\n",
       "diabetic_Yes             -0.0041      0.006     -0.745      0.456      -0.015       0.007\n",
       "smoker_Yes                0.3769      0.007     54.545      0.000       0.363       0.390\n",
       "region_northwest         -0.0080      0.008     -1.005      0.315      -0.024       0.008\n",
       "region_southeast         -0.0143      0.008     -1.772      0.077      -0.030       0.002\n",
       "region_southwest         -0.0168      0.008     -2.095      0.036      -0.033      -0.001\n",
       "binned_bmi_normal         0.0157      0.024      0.653      0.514      -0.031       0.063\n",
       "binned_bmi_overweight     0.0181      0.025      0.728      0.467      -0.031       0.067\n",
       "binned_bmi_obese          0.0683      0.028      2.440      0.015       0.013       0.123\n",
       "==============================================================================\n",
       "Omnibus:                      302.236   Durbin-Watson:                   1.930\n",
       "Prob(Omnibus):                  0.000   Jarque-Bera (JB):              754.195\n",
       "Skew:                           1.328   Prob(JB):                    1.69e-164\n",
       "Kurtosis:                       5.824   Cond. No.                         30.6\n",
       "==============================================================================\n",
       "\n",
       "Notes:\n",
       "[1] Standard Errors assume that the covariance matrix of the errors is correctly specified.\n",
       "\"\"\""
      ]
     },
     "execution_count": 107,
     "metadata": {
      "tags": []
     },
     "output_type": "execute_result"
    }
   ],
   "source": [
    "model.summary()"
   ]
  },
  {
   "cell_type": "markdown",
   "metadata": {
    "id": "7jylXhdFkEgn"
   },
   "source": [
    "### BMI Binned using pandas.cut using Normalization"
   ]
  },
  {
   "cell_type": "code",
   "execution_count": null,
   "metadata": {
    "id": "rKAv_WmhkEgn"
   },
   "outputs": [],
   "source": [
    "df=pd.read_csv('insurance.csv')"
   ]
  },
  {
   "cell_type": "code",
   "execution_count": null,
   "metadata": {
    "id": "xBTjg-Z8kEgn"
   },
   "outputs": [],
   "source": [
    "#using cut to create 4 categorical values for binned_bmi using bmi variables\n",
    "data_labels = ['unerweight', 'normal', 'overweight', 'obese']\n",
    "data_bins = [0, 18.5, 25, 30, 100]\n",
    "df['binned_bmi'] = pd.cut(df['bmi'], bins=data_bins, labels=data_labels)"
   ]
  },
  {
   "cell_type": "code",
   "execution_count": null,
   "metadata": {
    "id": "UNyO7OsokEgn"
   },
   "outputs": [],
   "source": [
    "df_cat=df.select_dtypes(include=['object','category'])\n",
    "df_num=df.select_dtypes(exclude=['object','category'])"
   ]
  },
  {
   "cell_type": "code",
   "execution_count": null,
   "metadata": {
    "id": "9Is_e1iKkEgn"
   },
   "outputs": [],
   "source": [
    "df_num_normal = pd.DataFrame(MinMaxScaler().fit_transform(df_num.values), columns=df_num.columns, index=df_num.index)\n",
    "df_num=df_num_normal"
   ]
  },
  {
   "cell_type": "code",
   "execution_count": null,
   "metadata": {
    "id": "qw5ZE9ankEgn"
   },
   "outputs": [],
   "source": [
    "#N-1 Dummy Encoding\n",
    "df_cat_n=pd.get_dummies(df_cat,drop_first=True)"
   ]
  },
  {
   "cell_type": "code",
   "execution_count": null,
   "metadata": {
    "id": "Gsb5q9dUkEgn"
   },
   "outputs": [],
   "source": [
    "df_merge=pd.concat([df_num,df_cat_n],axis=1)"
   ]
  },
  {
   "cell_type": "code",
   "execution_count": null,
   "metadata": {
    "id": "PLxOCMQMkEgo"
   },
   "outputs": [],
   "source": [
    "#Adding a constant variable\n",
    "df_merge=sm.add_constant(df_merge)"
   ]
  },
  {
   "cell_type": "code",
   "execution_count": null,
   "metadata": {
    "id": "V7dnRPockEgo"
   },
   "outputs": [],
   "source": [
    "df_ind=df_merge.drop(['claim'], axis=1)"
   ]
  },
  {
   "cell_type": "code",
   "execution_count": null,
   "metadata": {
    "id": "RPQaTllOkEgo"
   },
   "outputs": [],
   "source": [
    "df_target=df_merge['claim']"
   ]
  },
  {
   "cell_type": "code",
   "execution_count": null,
   "metadata": {
    "id": "yYfB4UrDkEgo"
   },
   "outputs": [],
   "source": [
    "x_train,x_test,y_train,y_test=train_test_split(df_ind, df_target, test_size=0.1, random_state=123)\n",
    "#print(x_train,x_test,y_train,y_test)"
   ]
  },
  {
   "cell_type": "code",
   "execution_count": null,
   "metadata": {
    "id": "Jo8wE7gLkEgp"
   },
   "outputs": [],
   "source": [
    "model = sm.OLS(x_train,y_train).fit()"
   ]
  },
  {
   "cell_type": "code",
   "execution_count": null,
   "metadata": {
    "id": "Vz3Zo_p0kEgp",
    "outputId": "af8107ed-d9fd-4a85-a95a-6033bd240856"
   },
   "outputs": [
    {
     "data": {
      "text/html": [
       "<table class=\"simpletable\">\n",
       "<caption>OLS Regression Results</caption>\n",
       "<tr>\n",
       "  <th>Dep. Variable:</th>          <td>claim</td>      <th>  R-squared:         </th> <td>   0.754</td>\n",
       "</tr>\n",
       "<tr>\n",
       "  <th>Model:</th>                   <td>OLS</td>       <th>  Adj. R-squared:    </th> <td>   0.751</td>\n",
       "</tr>\n",
       "<tr>\n",
       "  <th>Method:</th>             <td>Least Squares</td>  <th>  F-statistic:       </th> <td>   280.0</td>\n",
       "</tr>\n",
       "<tr>\n",
       "  <th>Date:</th>             <td>Wed, 20 Jan 2021</td> <th>  Prob (F-statistic):</th>  <td>  0.00</td> \n",
       "</tr>\n",
       "<tr>\n",
       "  <th>Time:</th>                 <td>10:32:22</td>     <th>  Log-Likelihood:    </th> <td>  1123.6</td>\n",
       "</tr>\n",
       "<tr>\n",
       "  <th>No. Observations:</th>      <td>  1204</td>      <th>  AIC:               </th> <td>  -2219.</td>\n",
       "</tr>\n",
       "<tr>\n",
       "  <th>Df Residuals:</th>          <td>  1190</td>      <th>  BIC:               </th> <td>  -2148.</td>\n",
       "</tr>\n",
       "<tr>\n",
       "  <th>Df Model:</th>              <td>    13</td>      <th>                     </th>     <td> </td>   \n",
       "</tr>\n",
       "<tr>\n",
       "  <th>Covariance Type:</th>      <td>nonrobust</td>    <th>                     </th>     <td> </td>   \n",
       "</tr>\n",
       "</table>\n",
       "<table class=\"simpletable\">\n",
       "<tr>\n",
       "            <td></td>               <th>coef</th>     <th>std err</th>      <th>t</th>      <th>P>|t|</th>  <th>[0.025</th>    <th>0.975]</th>  \n",
       "</tr>\n",
       "<tr>\n",
       "  <th>const</th>                 <td>   -0.0409</td> <td>    0.024</td> <td>   -1.694</td> <td> 0.090</td> <td>   -0.088</td> <td>    0.006</td>\n",
       "</tr>\n",
       "<tr>\n",
       "  <th>age</th>                   <td>    0.1907</td> <td>    0.009</td> <td>   20.876</td> <td> 0.000</td> <td>    0.173</td> <td>    0.209</td>\n",
       "</tr>\n",
       "<tr>\n",
       "  <th>bmi</th>                   <td>    0.0676</td> <td>    0.035</td> <td>    1.954</td> <td> 0.051</td> <td>   -0.000</td> <td>    0.135</td>\n",
       "</tr>\n",
       "<tr>\n",
       "  <th>bloodpressure</th>         <td>    0.0058</td> <td>    0.009</td> <td>    0.616</td> <td> 0.538</td> <td>   -0.013</td> <td>    0.024</td>\n",
       "</tr>\n",
       "<tr>\n",
       "  <th>children</th>              <td>    0.0377</td> <td>    0.011</td> <td>    3.302</td> <td> 0.001</td> <td>    0.015</td> <td>    0.060</td>\n",
       "</tr>\n",
       "<tr>\n",
       "  <th>gender_male</th>           <td>   -0.0015</td> <td>    0.006</td> <td>   -0.278</td> <td> 0.781</td> <td>   -0.012</td> <td>    0.009</td>\n",
       "</tr>\n",
       "<tr>\n",
       "  <th>diabetic_Yes</th>          <td>   -0.0041</td> <td>    0.006</td> <td>   -0.745</td> <td> 0.456</td> <td>   -0.015</td> <td>    0.007</td>\n",
       "</tr>\n",
       "<tr>\n",
       "  <th>smoker_Yes</th>            <td>    0.3769</td> <td>    0.007</td> <td>   54.545</td> <td> 0.000</td> <td>    0.363</td> <td>    0.390</td>\n",
       "</tr>\n",
       "<tr>\n",
       "  <th>region_northwest</th>      <td>   -0.0080</td> <td>    0.008</td> <td>   -1.005</td> <td> 0.315</td> <td>   -0.024</td> <td>    0.008</td>\n",
       "</tr>\n",
       "<tr>\n",
       "  <th>region_southeast</th>      <td>   -0.0143</td> <td>    0.008</td> <td>   -1.772</td> <td> 0.077</td> <td>   -0.030</td> <td>    0.002</td>\n",
       "</tr>\n",
       "<tr>\n",
       "  <th>region_southwest</th>      <td>   -0.0168</td> <td>    0.008</td> <td>   -2.095</td> <td> 0.036</td> <td>   -0.033</td> <td>   -0.001</td>\n",
       "</tr>\n",
       "<tr>\n",
       "  <th>binned_bmi_normal</th>     <td>    0.0157</td> <td>    0.024</td> <td>    0.653</td> <td> 0.514</td> <td>   -0.031</td> <td>    0.063</td>\n",
       "</tr>\n",
       "<tr>\n",
       "  <th>binned_bmi_overweight</th> <td>    0.0181</td> <td>    0.025</td> <td>    0.728</td> <td> 0.467</td> <td>   -0.031</td> <td>    0.067</td>\n",
       "</tr>\n",
       "<tr>\n",
       "  <th>binned_bmi_obese</th>      <td>    0.0683</td> <td>    0.028</td> <td>    2.440</td> <td> 0.015</td> <td>    0.013</td> <td>    0.123</td>\n",
       "</tr>\n",
       "</table>\n",
       "<table class=\"simpletable\">\n",
       "<tr>\n",
       "  <th>Omnibus:</th>       <td>302.236</td> <th>  Durbin-Watson:     </th> <td>   1.930</td> \n",
       "</tr>\n",
       "<tr>\n",
       "  <th>Prob(Omnibus):</th> <td> 0.000</td>  <th>  Jarque-Bera (JB):  </th> <td> 754.195</td> \n",
       "</tr>\n",
       "<tr>\n",
       "  <th>Skew:</th>          <td> 1.328</td>  <th>  Prob(JB):          </th> <td>1.69e-164</td>\n",
       "</tr>\n",
       "<tr>\n",
       "  <th>Kurtosis:</th>      <td> 5.824</td>  <th>  Cond. No.          </th> <td>    30.6</td> \n",
       "</tr>\n",
       "</table><br/><br/>Notes:<br/>[1] Standard Errors assume that the covariance matrix of the errors is correctly specified."
      ],
      "text/plain": [
       "<class 'statsmodels.iolib.summary.Summary'>\n",
       "\"\"\"\n",
       "                            OLS Regression Results                            \n",
       "==============================================================================\n",
       "Dep. Variable:                  claim   R-squared:                       0.754\n",
       "Model:                            OLS   Adj. R-squared:                  0.751\n",
       "Method:                 Least Squares   F-statistic:                     280.0\n",
       "Date:                Wed, 20 Jan 2021   Prob (F-statistic):               0.00\n",
       "Time:                        10:32:22   Log-Likelihood:                 1123.6\n",
       "No. Observations:                1204   AIC:                            -2219.\n",
       "Df Residuals:                    1190   BIC:                            -2148.\n",
       "Df Model:                          13                                         \n",
       "Covariance Type:            nonrobust                                         \n",
       "=========================================================================================\n",
       "                            coef    std err          t      P>|t|      [0.025      0.975]\n",
       "-----------------------------------------------------------------------------------------\n",
       "const                    -0.0409      0.024     -1.694      0.090      -0.088       0.006\n",
       "age                       0.1907      0.009     20.876      0.000       0.173       0.209\n",
       "bmi                       0.0676      0.035      1.954      0.051      -0.000       0.135\n",
       "bloodpressure             0.0058      0.009      0.616      0.538      -0.013       0.024\n",
       "children                  0.0377      0.011      3.302      0.001       0.015       0.060\n",
       "gender_male              -0.0015      0.006     -0.278      0.781      -0.012       0.009\n",
       "diabetic_Yes             -0.0041      0.006     -0.745      0.456      -0.015       0.007\n",
       "smoker_Yes                0.3769      0.007     54.545      0.000       0.363       0.390\n",
       "region_northwest         -0.0080      0.008     -1.005      0.315      -0.024       0.008\n",
       "region_southeast         -0.0143      0.008     -1.772      0.077      -0.030       0.002\n",
       "region_southwest         -0.0168      0.008     -2.095      0.036      -0.033      -0.001\n",
       "binned_bmi_normal         0.0157      0.024      0.653      0.514      -0.031       0.063\n",
       "binned_bmi_overweight     0.0181      0.025      0.728      0.467      -0.031       0.067\n",
       "binned_bmi_obese          0.0683      0.028      2.440      0.015       0.013       0.123\n",
       "==============================================================================\n",
       "Omnibus:                      302.236   Durbin-Watson:                   1.930\n",
       "Prob(Omnibus):                  0.000   Jarque-Bera (JB):              754.195\n",
       "Skew:                           1.328   Prob(JB):                    1.69e-164\n",
       "Kurtosis:                       5.824   Cond. No.                         30.6\n",
       "==============================================================================\n",
       "\n",
       "Notes:\n",
       "[1] Standard Errors assume that the covariance matrix of the errors is correctly specified.\n",
       "\"\"\""
      ]
     },
     "execution_count": 119,
     "metadata": {
      "tags": []
     },
     "output_type": "execute_result"
    }
   ],
   "source": [
    "model.summary()"
   ]
  },
  {
   "cell_type": "markdown",
   "metadata": {
    "id": "NbJ7FPu6kEgp"
   },
   "source": [
    "### z = bmi*smoker"
   ]
  },
  {
   "cell_type": "code",
   "execution_count": null,
   "metadata": {
    "id": "p-GDXRtqkEgp"
   },
   "outputs": [],
   "source": [
    "df=pd.read_csv('insurance.csv')"
   ]
  },
  {
   "cell_type": "code",
   "execution_count": null,
   "metadata": {
    "id": "bduOdZg4kEgp"
   },
   "outputs": [],
   "source": [
    "df_cat=df.select_dtypes(include=['object','category'])\n",
    "df_num=df.select_dtypes(exclude=['object','category'])"
   ]
  },
  {
   "cell_type": "code",
   "execution_count": null,
   "metadata": {
    "id": "xjDibVbNkEgp"
   },
   "outputs": [],
   "source": [
    "#N-1 Dummy Encoding\n",
    "df_cat=pd.get_dummies(df_cat,drop_first=True)"
   ]
  },
  {
   "cell_type": "code",
   "execution_count": null,
   "metadata": {
    "id": "1LaIocpxkEgp"
   },
   "outputs": [],
   "source": [
    "df_merge=pd.concat([df_num,df_cat],axis=1)"
   ]
  },
  {
   "cell_type": "code",
   "execution_count": null,
   "metadata": {
    "id": "wlyDeyuQkEgp"
   },
   "outputs": [],
   "source": [
    "#Adding a constant variable\n",
    "df_merge=sm.add_constant(df_merge)"
   ]
  },
  {
   "cell_type": "code",
   "execution_count": null,
   "metadata": {
    "id": "-lbFvlElkEgp"
   },
   "outputs": [],
   "source": [
    "df_merge['z']=df_merge['bmi']*df_merge['smoker_Yes']"
   ]
  },
  {
   "cell_type": "code",
   "execution_count": null,
   "metadata": {
    "id": "IVyc6do9kEgq"
   },
   "outputs": [],
   "source": [
    "df_ind=df_merge.drop(['claim'], axis=1)"
   ]
  },
  {
   "cell_type": "code",
   "execution_count": null,
   "metadata": {
    "id": "-QIUiidlkEgq"
   },
   "outputs": [],
   "source": [
    "df_target=df_merge['claim']"
   ]
  },
  {
   "cell_type": "code",
   "execution_count": null,
   "metadata": {
    "id": "Hnol8L16kEgq"
   },
   "outputs": [],
   "source": [
    "x_train,x_test,y_train,y_test=train_test_split(df_target, df_ind, test_size=0.1, random_state=123)\n",
    "#print(x_train,x_test,y_train,y_test)"
   ]
  },
  {
   "cell_type": "code",
   "execution_count": null,
   "metadata": {
    "id": "8e_Be5BxkEgq"
   },
   "outputs": [],
   "source": [
    "model = sm.OLS(x_train,y_train).fit()"
   ]
  },
  {
   "cell_type": "code",
   "execution_count": null,
   "metadata": {
    "id": "rLQi3jR0kEgq",
    "outputId": "c928dff2-628c-4fdb-b695-7ba62e6abeef"
   },
   "outputs": [
    {
     "data": {
      "text/html": [
       "<table class=\"simpletable\">\n",
       "<caption>OLS Regression Results</caption>\n",
       "<tr>\n",
       "  <th>Dep. Variable:</th>          <td>claim</td>      <th>  R-squared:         </th> <td>   0.838</td> \n",
       "</tr>\n",
       "<tr>\n",
       "  <th>Model:</th>                   <td>OLS</td>       <th>  Adj. R-squared:    </th> <td>   0.836</td> \n",
       "</tr>\n",
       "<tr>\n",
       "  <th>Method:</th>             <td>Least Squares</td>  <th>  F-statistic:       </th> <td>   559.1</td> \n",
       "</tr>\n",
       "<tr>\n",
       "  <th>Date:</th>             <td>Wed, 20 Jan 2021</td> <th>  Prob (F-statistic):</th>  <td>  0.00</td>  \n",
       "</tr>\n",
       "<tr>\n",
       "  <th>Time:</th>                 <td>10:32:24</td>     <th>  Log-Likelihood:    </th> <td> -11924.</td> \n",
       "</tr>\n",
       "<tr>\n",
       "  <th>No. Observations:</th>      <td>  1204</td>      <th>  AIC:               </th> <td>2.387e+04</td>\n",
       "</tr>\n",
       "<tr>\n",
       "  <th>Df Residuals:</th>          <td>  1192</td>      <th>  BIC:               </th> <td>2.393e+04</td>\n",
       "</tr>\n",
       "<tr>\n",
       "  <th>Df Model:</th>              <td>    11</td>      <th>                     </th>     <td> </td>    \n",
       "</tr>\n",
       "<tr>\n",
       "  <th>Covariance Type:</th>      <td>nonrobust</td>    <th>                     </th>     <td> </td>    \n",
       "</tr>\n",
       "</table>\n",
       "<table class=\"simpletable\">\n",
       "<tr>\n",
       "          <td></td>            <th>coef</th>     <th>std err</th>      <th>t</th>      <th>P>|t|</th>  <th>[0.025</th>    <th>0.975]</th>  \n",
       "</tr>\n",
       "<tr>\n",
       "  <th>const</th>            <td>-2581.3869</td> <td> 1327.328</td> <td>   -1.945</td> <td> 0.052</td> <td>-5185.546</td> <td>   22.772</td>\n",
       "</tr>\n",
       "<tr>\n",
       "  <th>age</th>              <td>  264.5344</td> <td>   10.086</td> <td>   26.228</td> <td> 0.000</td> <td>  244.746</td> <td>  284.323</td>\n",
       "</tr>\n",
       "<tr>\n",
       "  <th>bmi</th>              <td>   29.1299</td> <td>   27.417</td> <td>    1.062</td> <td> 0.288</td> <td>  -24.662</td> <td>   82.922</td>\n",
       "</tr>\n",
       "<tr>\n",
       "  <th>bloodpressure</th>    <td>    2.3162</td> <td>    8.024</td> <td>    0.289</td> <td> 0.773</td> <td>  -13.426</td> <td>   18.058</td>\n",
       "</tr>\n",
       "<tr>\n",
       "  <th>children</th>         <td>  567.0424</td> <td>  116.082</td> <td>    4.885</td> <td> 0.000</td> <td>  339.295</td> <td>  794.790</td>\n",
       "</tr>\n",
       "<tr>\n",
       "  <th>gender_male</th>      <td> -591.1028</td> <td>  282.993</td> <td>   -2.089</td> <td> 0.037</td> <td>-1146.322</td> <td>  -35.883</td>\n",
       "</tr>\n",
       "<tr>\n",
       "  <th>diabetic_Yes</th>     <td> -155.8563</td> <td>  281.977</td> <td>   -0.553</td> <td> 0.581</td> <td> -709.083</td> <td>  397.370</td>\n",
       "</tr>\n",
       "<tr>\n",
       "  <th>smoker_Yes</th>       <td>-2.122e+04</td> <td> 1779.753</td> <td>  -11.921</td> <td> 0.000</td> <td>-2.47e+04</td> <td>-1.77e+04</td>\n",
       "</tr>\n",
       "<tr>\n",
       "  <th>region_northwest</th> <td> -620.5513</td> <td>  403.107</td> <td>   -1.539</td> <td> 0.124</td> <td>-1411.429</td> <td>  170.327</td>\n",
       "</tr>\n",
       "<tr>\n",
       "  <th>region_southeast</th> <td>-1261.8643</td> <td>  408.350</td> <td>   -3.090</td> <td> 0.002</td> <td>-2063.030</td> <td> -460.699</td>\n",
       "</tr>\n",
       "<tr>\n",
       "  <th>region_southwest</th> <td>-1277.8188</td> <td>  408.269</td> <td>   -3.130</td> <td> 0.002</td> <td>-2078.824</td> <td> -476.813</td>\n",
       "</tr>\n",
       "<tr>\n",
       "  <th>z</th>                <td> 1467.1216</td> <td>   57.077</td> <td>   25.704</td> <td> 0.000</td> <td> 1355.139</td> <td> 1579.104</td>\n",
       "</tr>\n",
       "</table>\n",
       "<table class=\"simpletable\">\n",
       "<tr>\n",
       "  <th>Omnibus:</th>       <td>667.475</td> <th>  Durbin-Watson:     </th> <td>   1.956</td>\n",
       "</tr>\n",
       "<tr>\n",
       "  <th>Prob(Omnibus):</th> <td> 0.000</td>  <th>  Jarque-Bera (JB):  </th> <td>4321.743</td>\n",
       "</tr>\n",
       "<tr>\n",
       "  <th>Skew:</th>          <td> 2.586</td>  <th>  Prob(JB):          </th> <td>    0.00</td>\n",
       "</tr>\n",
       "<tr>\n",
       "  <th>Kurtosis:</th>      <td>10.707</td>  <th>  Cond. No.          </th> <td>1.61e+03</td>\n",
       "</tr>\n",
       "</table><br/><br/>Notes:<br/>[1] Standard Errors assume that the covariance matrix of the errors is correctly specified.<br/>[2] The condition number is large, 1.61e+03. This might indicate that there are<br/>strong multicollinearity or other numerical problems."
      ],
      "text/plain": [
       "<class 'statsmodels.iolib.summary.Summary'>\n",
       "\"\"\"\n",
       "                            OLS Regression Results                            \n",
       "==============================================================================\n",
       "Dep. Variable:                  claim   R-squared:                       0.838\n",
       "Model:                            OLS   Adj. R-squared:                  0.836\n",
       "Method:                 Least Squares   F-statistic:                     559.1\n",
       "Date:                Wed, 20 Jan 2021   Prob (F-statistic):               0.00\n",
       "Time:                        10:32:24   Log-Likelihood:                -11924.\n",
       "No. Observations:                1204   AIC:                         2.387e+04\n",
       "Df Residuals:                    1192   BIC:                         2.393e+04\n",
       "Df Model:                          11                                         \n",
       "Covariance Type:            nonrobust                                         \n",
       "====================================================================================\n",
       "                       coef    std err          t      P>|t|      [0.025      0.975]\n",
       "------------------------------------------------------------------------------------\n",
       "const            -2581.3869   1327.328     -1.945      0.052   -5185.546      22.772\n",
       "age                264.5344     10.086     26.228      0.000     244.746     284.323\n",
       "bmi                 29.1299     27.417      1.062      0.288     -24.662      82.922\n",
       "bloodpressure        2.3162      8.024      0.289      0.773     -13.426      18.058\n",
       "children           567.0424    116.082      4.885      0.000     339.295     794.790\n",
       "gender_male       -591.1028    282.993     -2.089      0.037   -1146.322     -35.883\n",
       "diabetic_Yes      -155.8563    281.977     -0.553      0.581    -709.083     397.370\n",
       "smoker_Yes       -2.122e+04   1779.753    -11.921      0.000   -2.47e+04   -1.77e+04\n",
       "region_northwest  -620.5513    403.107     -1.539      0.124   -1411.429     170.327\n",
       "region_southeast -1261.8643    408.350     -3.090      0.002   -2063.030    -460.699\n",
       "region_southwest -1277.8188    408.269     -3.130      0.002   -2078.824    -476.813\n",
       "z                 1467.1216     57.077     25.704      0.000    1355.139    1579.104\n",
       "==============================================================================\n",
       "Omnibus:                      667.475   Durbin-Watson:                   1.956\n",
       "Prob(Omnibus):                  0.000   Jarque-Bera (JB):             4321.743\n",
       "Skew:                           2.586   Prob(JB):                         0.00\n",
       "Kurtosis:                      10.707   Cond. No.                     1.61e+03\n",
       "==============================================================================\n",
       "\n",
       "Notes:\n",
       "[1] Standard Errors assume that the covariance matrix of the errors is correctly specified.\n",
       "[2] The condition number is large, 1.61e+03. This might indicate that there are\n",
       "strong multicollinearity or other numerical problems.\n",
       "\"\"\""
      ]
     },
     "execution_count": 130,
     "metadata": {
      "tags": []
     },
     "output_type": "execute_result"
    }
   ],
   "source": [
    "model.summary()"
   ]
  },
  {
   "cell_type": "code",
   "execution_count": null,
   "metadata": {
    "id": "bNFnBPYpkEgq",
    "outputId": "71675a2c-207a-450c-9de8-704525f76f6d"
   },
   "outputs": [
    {
     "data": {
      "text/plain": [
       "0.1    2346.535\n",
       "0.2    3991.576\n",
       "0.3    5484.849\n",
       "0.4    7369.052\n",
       "0.5    9382.030\n",
       "Name: claim, dtype: float64"
      ]
     },
     "execution_count": 141,
     "metadata": {
      "tags": []
     },
     "output_type": "execute_result"
    }
   ],
   "source": [
    "#for x in range(0.1,0.95):\n",
    "df['claim'].quantile([0.1,0.2,0.3,0.4,0.5])"
   ]
  },
  {
   "cell_type": "code",
   "execution_count": null,
   "metadata": {
    "id": "zrLEwvDrkEgr",
    "outputId": "6af2104a-4ab0-4ea7-b243-71d9a0eb0c85"
   },
   "outputs": [
    {
     "data": {
      "text/html": [
       "<div>\n",
       "<style scoped>\n",
       "    .dataframe tbody tr th:only-of-type {\n",
       "        vertical-align: middle;\n",
       "    }\n",
       "\n",
       "    .dataframe tbody tr th {\n",
       "        vertical-align: top;\n",
       "    }\n",
       "\n",
       "    .dataframe thead th {\n",
       "        text-align: right;\n",
       "    }\n",
       "</style>\n",
       "<table border=\"1\" class=\"dataframe\">\n",
       "  <thead>\n",
       "    <tr style=\"text-align: right;\">\n",
       "      <th></th>\n",
       "      <th>const</th>\n",
       "      <th>age</th>\n",
       "      <th>bmi</th>\n",
       "      <th>bloodpressure</th>\n",
       "      <th>children</th>\n",
       "      <th>gender_male</th>\n",
       "      <th>diabetic_Yes</th>\n",
       "      <th>smoker_Yes</th>\n",
       "      <th>region_northwest</th>\n",
       "      <th>region_southeast</th>\n",
       "      <th>region_southwest</th>\n",
       "      <th>z</th>\n",
       "    </tr>\n",
       "  </thead>\n",
       "  <tbody>\n",
       "    <tr>\n",
       "      <th>1309</th>\n",
       "      <td>1.0</td>\n",
       "      <td>41</td>\n",
       "      <td>32.2</td>\n",
       "      <td>132</td>\n",
       "      <td>2</td>\n",
       "      <td>1</td>\n",
       "      <td>1</td>\n",
       "      <td>0</td>\n",
       "      <td>0</td>\n",
       "      <td>0</td>\n",
       "      <td>1</td>\n",
       "      <td>0.0</td>\n",
       "    </tr>\n",
       "    <tr>\n",
       "      <th>817</th>\n",
       "      <td>1.0</td>\n",
       "      <td>23</td>\n",
       "      <td>37.1</td>\n",
       "      <td>120</td>\n",
       "      <td>3</td>\n",
       "      <td>1</td>\n",
       "      <td>0</td>\n",
       "      <td>0</td>\n",
       "      <td>0</td>\n",
       "      <td>0</td>\n",
       "      <td>1</td>\n",
       "      <td>0.0</td>\n",
       "    </tr>\n",
       "    <tr>\n",
       "      <th>671</th>\n",
       "      <td>1.0</td>\n",
       "      <td>29</td>\n",
       "      <td>31.2</td>\n",
       "      <td>87</td>\n",
       "      <td>0</td>\n",
       "      <td>0</td>\n",
       "      <td>1</td>\n",
       "      <td>0</td>\n",
       "      <td>0</td>\n",
       "      <td>0</td>\n",
       "      <td>0</td>\n",
       "      <td>0.0</td>\n",
       "    </tr>\n",
       "    <tr>\n",
       "      <th>249</th>\n",
       "      <td>1.0</td>\n",
       "      <td>29</td>\n",
       "      <td>29.0</td>\n",
       "      <td>122</td>\n",
       "      <td>1</td>\n",
       "      <td>1</td>\n",
       "      <td>0</td>\n",
       "      <td>0</td>\n",
       "      <td>0</td>\n",
       "      <td>0</td>\n",
       "      <td>0</td>\n",
       "      <td>0.0</td>\n",
       "    </tr>\n",
       "    <tr>\n",
       "      <th>981</th>\n",
       "      <td>1.0</td>\n",
       "      <td>34</td>\n",
       "      <td>21.4</td>\n",
       "      <td>122</td>\n",
       "      <td>0</td>\n",
       "      <td>1</td>\n",
       "      <td>0</td>\n",
       "      <td>0</td>\n",
       "      <td>0</td>\n",
       "      <td>0</td>\n",
       "      <td>0</td>\n",
       "      <td>0.0</td>\n",
       "    </tr>\n",
       "    <tr>\n",
       "      <th>...</th>\n",
       "      <td>...</td>\n",
       "      <td>...</td>\n",
       "      <td>...</td>\n",
       "      <td>...</td>\n",
       "      <td>...</td>\n",
       "      <td>...</td>\n",
       "      <td>...</td>\n",
       "      <td>...</td>\n",
       "      <td>...</td>\n",
       "      <td>...</td>\n",
       "      <td>...</td>\n",
       "      <td>...</td>\n",
       "    </tr>\n",
       "    <tr>\n",
       "      <th>1238</th>\n",
       "      <td>1.0</td>\n",
       "      <td>37</td>\n",
       "      <td>22.7</td>\n",
       "      <td>122</td>\n",
       "      <td>3</td>\n",
       "      <td>1</td>\n",
       "      <td>0</td>\n",
       "      <td>0</td>\n",
       "      <td>0</td>\n",
       "      <td>0</td>\n",
       "      <td>0</td>\n",
       "      <td>0.0</td>\n",
       "    </tr>\n",
       "    <tr>\n",
       "      <th>1147</th>\n",
       "      <td>1.0</td>\n",
       "      <td>20</td>\n",
       "      <td>31.9</td>\n",
       "      <td>115</td>\n",
       "      <td>0</td>\n",
       "      <td>0</td>\n",
       "      <td>0</td>\n",
       "      <td>0</td>\n",
       "      <td>1</td>\n",
       "      <td>0</td>\n",
       "      <td>0</td>\n",
       "      <td>0.0</td>\n",
       "    </tr>\n",
       "    <tr>\n",
       "      <th>106</th>\n",
       "      <td>1.0</td>\n",
       "      <td>19</td>\n",
       "      <td>28.4</td>\n",
       "      <td>87</td>\n",
       "      <td>1</td>\n",
       "      <td>0</td>\n",
       "      <td>1</td>\n",
       "      <td>0</td>\n",
       "      <td>0</td>\n",
       "      <td>0</td>\n",
       "      <td>1</td>\n",
       "      <td>0.0</td>\n",
       "    </tr>\n",
       "    <tr>\n",
       "      <th>1041</th>\n",
       "      <td>1.0</td>\n",
       "      <td>18</td>\n",
       "      <td>23.1</td>\n",
       "      <td>119</td>\n",
       "      <td>0</td>\n",
       "      <td>1</td>\n",
       "      <td>1</td>\n",
       "      <td>0</td>\n",
       "      <td>0</td>\n",
       "      <td>0</td>\n",
       "      <td>0</td>\n",
       "      <td>0.0</td>\n",
       "    </tr>\n",
       "    <tr>\n",
       "      <th>1122</th>\n",
       "      <td>1.0</td>\n",
       "      <td>53</td>\n",
       "      <td>36.9</td>\n",
       "      <td>110</td>\n",
       "      <td>3</td>\n",
       "      <td>0</td>\n",
       "      <td>0</td>\n",
       "      <td>1</td>\n",
       "      <td>1</td>\n",
       "      <td>0</td>\n",
       "      <td>0</td>\n",
       "      <td>36.9</td>\n",
       "    </tr>\n",
       "  </tbody>\n",
       "</table>\n",
       "<p>1204 rows × 12 columns</p>\n",
       "</div>"
      ],
      "text/plain": [
       "      const  age   bmi  bloodpressure  children  gender_male  diabetic_Yes  \\\n",
       "1309    1.0   41  32.2            132         2            1             1   \n",
       "817     1.0   23  37.1            120         3            1             0   \n",
       "671     1.0   29  31.2             87         0            0             1   \n",
       "249     1.0   29  29.0            122         1            1             0   \n",
       "981     1.0   34  21.4            122         0            1             0   \n",
       "...     ...  ...   ...            ...       ...          ...           ...   \n",
       "1238    1.0   37  22.7            122         3            1             0   \n",
       "1147    1.0   20  31.9            115         0            0             0   \n",
       "106     1.0   19  28.4             87         1            0             1   \n",
       "1041    1.0   18  23.1            119         0            1             1   \n",
       "1122    1.0   53  36.9            110         3            0             0   \n",
       "\n",
       "      smoker_Yes  region_northwest  region_southeast  region_southwest     z  \n",
       "1309           0                 0                 0                 1   0.0  \n",
       "817            0                 0                 0                 1   0.0  \n",
       "671            0                 0                 0                 0   0.0  \n",
       "249            0                 0                 0                 0   0.0  \n",
       "981            0                 0                 0                 0   0.0  \n",
       "...          ...               ...               ...               ...   ...  \n",
       "1238           0                 0                 0                 0   0.0  \n",
       "1147           0                 1                 0                 0   0.0  \n",
       "106            0                 0                 0                 1   0.0  \n",
       "1041           0                 0                 0                 0   0.0  \n",
       "1122           1                 1                 0                 0  36.9  \n",
       "\n",
       "[1204 rows x 12 columns]"
      ]
     },
     "execution_count": 132,
     "metadata": {
      "tags": []
     },
     "output_type": "execute_result"
    }
   ],
   "source": [
    "y_train"
   ]
  },
  {
   "cell_type": "markdown",
   "metadata": {
    "id": "GMfukT5skEgr"
   },
   "source": []
  },
  {
   "cell_type": "code",
   "execution_count": null,
   "metadata": {
    "id": "_oI-AFYlkEgr",
    "outputId": "7704b8f2-cd44-4580-ca84-30827ad68580"
   },
   "outputs": [
    {
     "ename": "ValueError",
     "evalue": "shapes (1,1204) and (12,) not aligned: 1204 (dim 1) != 12 (dim 0)",
     "output_type": "error",
     "traceback": [
      "\u001b[1;31m---------------------------------------------------------------------------\u001b[0m",
      "\u001b[1;31mValueError\u001b[0m                                Traceback (most recent call last)",
      "\u001b[1;32m<ipython-input-133-dad46e741f55>\u001b[0m in \u001b[0;36m<module>\u001b[1;34m\u001b[0m\n\u001b[1;32m----> 1\u001b[1;33m \u001b[0mtrain_pred\u001b[0m\u001b[1;33m=\u001b[0m\u001b[0mmodel\u001b[0m\u001b[1;33m.\u001b[0m\u001b[0mpredict\u001b[0m\u001b[1;33m(\u001b[0m\u001b[0mx_train\u001b[0m\u001b[1;33m)\u001b[0m\u001b[1;33m\u001b[0m\u001b[1;33m\u001b[0m\u001b[0m\n\u001b[0m",
      "\u001b[1;32mC:\\ProgramData\\Anaconda3\\lib\\site-packages\\statsmodels\\base\\model.py\u001b[0m in \u001b[0;36mpredict\u001b[1;34m(self, exog, transform, *args, **kwargs)\u001b[0m\n\u001b[0;32m   1097\u001b[0m             \u001b[0mexog\u001b[0m \u001b[1;33m=\u001b[0m \u001b[0mnp\u001b[0m\u001b[1;33m.\u001b[0m\u001b[0matleast_2d\u001b[0m\u001b[1;33m(\u001b[0m\u001b[0mexog\u001b[0m\u001b[1;33m)\u001b[0m  \u001b[1;31m# needed in count model shape[1]\u001b[0m\u001b[1;33m\u001b[0m\u001b[1;33m\u001b[0m\u001b[0m\n\u001b[0;32m   1098\u001b[0m \u001b[1;33m\u001b[0m\u001b[0m\n\u001b[1;32m-> 1099\u001b[1;33m         predict_results = self.model.predict(self.params, exog, *args,\n\u001b[0m\u001b[0;32m   1100\u001b[0m                                              **kwargs)\n\u001b[0;32m   1101\u001b[0m \u001b[1;33m\u001b[0m\u001b[0m\n",
      "\u001b[1;32mC:\\ProgramData\\Anaconda3\\lib\\site-packages\\statsmodels\\regression\\linear_model.py\u001b[0m in \u001b[0;36mpredict\u001b[1;34m(self, params, exog)\u001b[0m\n\u001b[0;32m    378\u001b[0m             \u001b[0mexog\u001b[0m \u001b[1;33m=\u001b[0m \u001b[0mself\u001b[0m\u001b[1;33m.\u001b[0m\u001b[0mexog\u001b[0m\u001b[1;33m\u001b[0m\u001b[1;33m\u001b[0m\u001b[0m\n\u001b[0;32m    379\u001b[0m \u001b[1;33m\u001b[0m\u001b[0m\n\u001b[1;32m--> 380\u001b[1;33m         \u001b[1;32mreturn\u001b[0m \u001b[0mnp\u001b[0m\u001b[1;33m.\u001b[0m\u001b[0mdot\u001b[0m\u001b[1;33m(\u001b[0m\u001b[0mexog\u001b[0m\u001b[1;33m,\u001b[0m \u001b[0mparams\u001b[0m\u001b[1;33m)\u001b[0m\u001b[1;33m\u001b[0m\u001b[1;33m\u001b[0m\u001b[0m\n\u001b[0m\u001b[0;32m    381\u001b[0m \u001b[1;33m\u001b[0m\u001b[0m\n\u001b[0;32m    382\u001b[0m     \u001b[1;32mdef\u001b[0m \u001b[0mget_distribution\u001b[0m\u001b[1;33m(\u001b[0m\u001b[0mself\u001b[0m\u001b[1;33m,\u001b[0m \u001b[0mparams\u001b[0m\u001b[1;33m,\u001b[0m \u001b[0mscale\u001b[0m\u001b[1;33m,\u001b[0m \u001b[0mexog\u001b[0m\u001b[1;33m=\u001b[0m\u001b[1;32mNone\u001b[0m\u001b[1;33m,\u001b[0m \u001b[0mdist_class\u001b[0m\u001b[1;33m=\u001b[0m\u001b[1;32mNone\u001b[0m\u001b[1;33m)\u001b[0m\u001b[1;33m:\u001b[0m\u001b[1;33m\u001b[0m\u001b[1;33m\u001b[0m\u001b[0m\n",
      "\u001b[1;32m<__array_function__ internals>\u001b[0m in \u001b[0;36mdot\u001b[1;34m(*args, **kwargs)\u001b[0m\n",
      "\u001b[1;31mValueError\u001b[0m: shapes (1,1204) and (12,) not aligned: 1204 (dim 1) != 12 (dim 0)"
     ]
    }
   ],
   "source": [
    "train_pred=model.predict(x_train)"
   ]
  },
  {
   "cell_type": "code",
   "execution_count": null,
   "metadata": {
    "id": "OOtx8hW9kEgs"
   },
   "outputs": [],
   "source": [
    "test_pred=model.predict(x_test)"
   ]
  },
  {
   "cell_type": "code",
   "execution_count": null,
   "metadata": {
    "id": "iC4pz8rQkEgs"
   },
   "outputs": [],
   "source": [
    "train_rmse=np.sqrt(mean_squared_error(train_pred,y_train))\n",
    "test_rmse=np.sqrt(mean_squared_error(test_pred,y_test))\n",
    "print(train_rmse,test_rmse)"
   ]
  },
  {
   "cell_type": "code",
   "execution_count": null,
   "metadata": {
    "id": "XpTvNwIZkEgs"
   },
   "outputs": [],
   "source": []
  },
  {
   "cell_type": "code",
   "execution_count": null,
   "metadata": {
    "id": "_JDRS3utkEgs"
   },
   "outputs": [],
   "source": []
  }
 ],
 "metadata": {
  "colab": {
   "name": "Day 11.ipynb",
   "provenance": []
  },
  "kernelspec": {
   "display_name": "Python 3",
   "language": "python",
   "name": "python3"
  },
  "language_info": {
   "codemirror_mode": {
    "name": "ipython",
    "version": 3
   },
   "file_extension": ".py",
   "mimetype": "text/x-python",
   "name": "python",
   "nbconvert_exporter": "python",
   "pygments_lexer": "ipython3",
   "version": "3.8.3"
  }
 },
 "nbformat": 4,
 "nbformat_minor": 1
}
