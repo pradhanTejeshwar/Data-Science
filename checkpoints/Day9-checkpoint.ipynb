{
 "cells": [
  {
   "cell_type": "markdown",
   "metadata": {},
   "source": [
    "# Imports"
   ]
  },
  {
   "cell_type": "code",
   "execution_count": 13,
   "metadata": {},
   "outputs": [],
   "source": [
    "#importing Pandas as pd \n",
    "import pandas as pd\n",
    "#importing numpy as np\n",
    "import numpy as np\n",
    "#importing scipy.stats as stats\n",
    "import scipy.stats as stats"
   ]
  },
  {
   "cell_type": "code",
   "execution_count": 4,
   "metadata": {},
   "outputs": [],
   "source": [
    "dfirs = pd.read_csv(\"Data_Anomalies.csv\")"
   ]
  },
  {
   "cell_type": "code",
   "execution_count": 32,
   "metadata": {},
   "outputs": [
    {
     "data": {
      "text/html": [
       "<div>\n",
       "<style scoped>\n",
       "    .dataframe tbody tr th:only-of-type {\n",
       "        vertical-align: middle;\n",
       "    }\n",
       "\n",
       "    .dataframe tbody tr th {\n",
       "        vertical-align: top;\n",
       "    }\n",
       "\n",
       "    .dataframe thead th {\n",
       "        text-align: right;\n",
       "    }\n",
       "</style>\n",
       "<table border=\"1\" class=\"dataframe\">\n",
       "  <thead>\n",
       "    <tr style=\"text-align: right;\">\n",
       "      <th></th>\n",
       "      <th>cif</th>\n",
       "      <th>sum_amount_bank</th>\n",
       "      <th>transaction_count_bank</th>\n",
       "      <th>risk_profile</th>\n",
       "      <th>sum_amount_others</th>\n",
       "      <th>transaction_count_others</th>\n",
       "    </tr>\n",
       "  </thead>\n",
       "  <tbody>\n",
       "    <tr>\n",
       "      <th>count</th>\n",
       "      <td>3528.000000</td>\n",
       "      <td>3528.000000</td>\n",
       "      <td>3528.000000</td>\n",
       "      <td>3528.000000</td>\n",
       "      <td>3528.000000</td>\n",
       "      <td>3528.000000</td>\n",
       "    </tr>\n",
       "    <tr>\n",
       "      <th>mean</th>\n",
       "      <td>1764.500000</td>\n",
       "      <td>40535.219955</td>\n",
       "      <td>2979.953515</td>\n",
       "      <td>3.522959</td>\n",
       "      <td>3519.088435</td>\n",
       "      <td>4489.952664</td>\n",
       "    </tr>\n",
       "    <tr>\n",
       "      <th>std</th>\n",
       "      <td>1018.590202</td>\n",
       "      <td>23081.212035</td>\n",
       "      <td>1725.544591</td>\n",
       "      <td>1.690057</td>\n",
       "      <td>1985.025317</td>\n",
       "      <td>2601.272242</td>\n",
       "    </tr>\n",
       "    <tr>\n",
       "      <th>min</th>\n",
       "      <td>1.000000</td>\n",
       "      <td>70.000000</td>\n",
       "      <td>1.000000</td>\n",
       "      <td>1.000000</td>\n",
       "      <td>100.000000</td>\n",
       "      <td>15.000000</td>\n",
       "    </tr>\n",
       "    <tr>\n",
       "      <th>25%</th>\n",
       "      <td>882.750000</td>\n",
       "      <td>20705.250000</td>\n",
       "      <td>1503.250000</td>\n",
       "      <td>2.000000</td>\n",
       "      <td>1805.750000</td>\n",
       "      <td>2216.500000</td>\n",
       "    </tr>\n",
       "    <tr>\n",
       "      <th>50%</th>\n",
       "      <td>1764.500000</td>\n",
       "      <td>40434.500000</td>\n",
       "      <td>2962.000000</td>\n",
       "      <td>4.000000</td>\n",
       "      <td>3502.500000</td>\n",
       "      <td>4517.000000</td>\n",
       "    </tr>\n",
       "    <tr>\n",
       "      <th>75%</th>\n",
       "      <td>2646.250000</td>\n",
       "      <td>60861.750000</td>\n",
       "      <td>4498.500000</td>\n",
       "      <td>5.000000</td>\n",
       "      <td>5226.250000</td>\n",
       "      <td>6736.250000</td>\n",
       "    </tr>\n",
       "    <tr>\n",
       "      <th>max</th>\n",
       "      <td>3528.000000</td>\n",
       "      <td>79996.000000</td>\n",
       "      <td>5998.000000</td>\n",
       "      <td>6.000000</td>\n",
       "      <td>6999.000000</td>\n",
       "      <td>8996.000000</td>\n",
       "    </tr>\n",
       "  </tbody>\n",
       "</table>\n",
       "</div>"
      ],
      "text/plain": [
       "               cif  sum_amount_bank  transaction_count_bank  risk_profile  \\\n",
       "count  3528.000000      3528.000000             3528.000000   3528.000000   \n",
       "mean   1764.500000     40535.219955             2979.953515      3.522959   \n",
       "std    1018.590202     23081.212035             1725.544591      1.690057   \n",
       "min       1.000000        70.000000                1.000000      1.000000   \n",
       "25%     882.750000     20705.250000             1503.250000      2.000000   \n",
       "50%    1764.500000     40434.500000             2962.000000      4.000000   \n",
       "75%    2646.250000     60861.750000             4498.500000      5.000000   \n",
       "max    3528.000000     79996.000000             5998.000000      6.000000   \n",
       "\n",
       "       sum_amount_others  transaction_count_others  \n",
       "count        3528.000000               3528.000000  \n",
       "mean         3519.088435               4489.952664  \n",
       "std          1985.025317               2601.272242  \n",
       "min           100.000000                 15.000000  \n",
       "25%          1805.750000               2216.500000  \n",
       "50%          3502.500000               4517.000000  \n",
       "75%          5226.250000               6736.250000  \n",
       "max          6999.000000               8996.000000  "
      ]
     },
     "execution_count": 32,
     "metadata": {},
     "output_type": "execute_result"
    }
   ],
   "source": [
    "dfirs.describe()"
   ]
  },
  {
   "cell_type": "code",
   "execution_count": 33,
   "metadata": {},
   "outputs": [],
   "source": [
    "dfirs['total_sum_amount'] = dfirs['sum_amount_bank']+dfirs['sum_amount_others']\n",
    "dfirs['total_sum_amount'] = dfirs['sum_amount_bank']+dfirs['sum_amount_others']"
   ]
  },
  {
   "cell_type": "code",
   "execution_count": 35,
   "metadata": {},
   "outputs": [
    {
     "data": {
      "text/html": [
       "<div>\n",
       "<style scoped>\n",
       "    .dataframe tbody tr th:only-of-type {\n",
       "        vertical-align: middle;\n",
       "    }\n",
       "\n",
       "    .dataframe tbody tr th {\n",
       "        vertical-align: top;\n",
       "    }\n",
       "\n",
       "    .dataframe thead th {\n",
       "        text-align: right;\n",
       "    }\n",
       "</style>\n",
       "<table border=\"1\" class=\"dataframe\">\n",
       "  <thead>\n",
       "    <tr style=\"text-align: right;\">\n",
       "      <th></th>\n",
       "      <th>cif</th>\n",
       "      <th>sum_amount_bank</th>\n",
       "      <th>transaction_count_bank</th>\n",
       "      <th>risk_profile</th>\n",
       "      <th>sum_amount_others</th>\n",
       "      <th>transaction_count_others</th>\n",
       "      <th>total_sum_amount</th>\n",
       "    </tr>\n",
       "  </thead>\n",
       "  <tbody>\n",
       "    <tr>\n",
       "      <th>count</th>\n",
       "      <td>3528.000000</td>\n",
       "      <td>3528.000000</td>\n",
       "      <td>3528.000000</td>\n",
       "      <td>3528.000000</td>\n",
       "      <td>3528.000000</td>\n",
       "      <td>3528.000000</td>\n",
       "      <td>3528.000000</td>\n",
       "    </tr>\n",
       "    <tr>\n",
       "      <th>mean</th>\n",
       "      <td>1764.500000</td>\n",
       "      <td>40535.219955</td>\n",
       "      <td>2979.953515</td>\n",
       "      <td>3.522959</td>\n",
       "      <td>3519.088435</td>\n",
       "      <td>4489.952664</td>\n",
       "      <td>44054.308390</td>\n",
       "    </tr>\n",
       "    <tr>\n",
       "      <th>std</th>\n",
       "      <td>1018.590202</td>\n",
       "      <td>23081.212035</td>\n",
       "      <td>1725.544591</td>\n",
       "      <td>1.690057</td>\n",
       "      <td>1985.025317</td>\n",
       "      <td>2601.272242</td>\n",
       "      <td>23188.327157</td>\n",
       "    </tr>\n",
       "    <tr>\n",
       "      <th>min</th>\n",
       "      <td>1.000000</td>\n",
       "      <td>70.000000</td>\n",
       "      <td>1.000000</td>\n",
       "      <td>1.000000</td>\n",
       "      <td>100.000000</td>\n",
       "      <td>15.000000</td>\n",
       "      <td>235.000000</td>\n",
       "    </tr>\n",
       "    <tr>\n",
       "      <th>25%</th>\n",
       "      <td>882.750000</td>\n",
       "      <td>20705.250000</td>\n",
       "      <td>1503.250000</td>\n",
       "      <td>2.000000</td>\n",
       "      <td>1805.750000</td>\n",
       "      <td>2216.500000</td>\n",
       "      <td>24164.750000</td>\n",
       "    </tr>\n",
       "    <tr>\n",
       "      <th>50%</th>\n",
       "      <td>1764.500000</td>\n",
       "      <td>40434.500000</td>\n",
       "      <td>2962.000000</td>\n",
       "      <td>4.000000</td>\n",
       "      <td>3502.500000</td>\n",
       "      <td>4517.000000</td>\n",
       "      <td>44229.000000</td>\n",
       "    </tr>\n",
       "    <tr>\n",
       "      <th>75%</th>\n",
       "      <td>2646.250000</td>\n",
       "      <td>60861.750000</td>\n",
       "      <td>4498.500000</td>\n",
       "      <td>5.000000</td>\n",
       "      <td>5226.250000</td>\n",
       "      <td>6736.250000</td>\n",
       "      <td>64140.500000</td>\n",
       "    </tr>\n",
       "    <tr>\n",
       "      <th>max</th>\n",
       "      <td>3528.000000</td>\n",
       "      <td>79996.000000</td>\n",
       "      <td>5998.000000</td>\n",
       "      <td>6.000000</td>\n",
       "      <td>6999.000000</td>\n",
       "      <td>8996.000000</td>\n",
       "      <td>86830.000000</td>\n",
       "    </tr>\n",
       "  </tbody>\n",
       "</table>\n",
       "</div>"
      ],
      "text/plain": [
       "               cif  sum_amount_bank  transaction_count_bank  risk_profile  \\\n",
       "count  3528.000000      3528.000000             3528.000000   3528.000000   \n",
       "mean   1764.500000     40535.219955             2979.953515      3.522959   \n",
       "std    1018.590202     23081.212035             1725.544591      1.690057   \n",
       "min       1.000000        70.000000                1.000000      1.000000   \n",
       "25%     882.750000     20705.250000             1503.250000      2.000000   \n",
       "50%    1764.500000     40434.500000             2962.000000      4.000000   \n",
       "75%    2646.250000     60861.750000             4498.500000      5.000000   \n",
       "max    3528.000000     79996.000000             5998.000000      6.000000   \n",
       "\n",
       "       sum_amount_others  transaction_count_others  total_sum_amount  \n",
       "count        3528.000000               3528.000000       3528.000000  \n",
       "mean         3519.088435               4489.952664      44054.308390  \n",
       "std          1985.025317               2601.272242      23188.327157  \n",
       "min           100.000000                 15.000000        235.000000  \n",
       "25%          1805.750000               2216.500000      24164.750000  \n",
       "50%          3502.500000               4517.000000      44229.000000  \n",
       "75%          5226.250000               6736.250000      64140.500000  \n",
       "max          6999.000000               8996.000000      86830.000000  "
      ]
     },
     "execution_count": 35,
     "metadata": {},
     "output_type": "execute_result"
    }
   ],
   "source": [
    "dfirs.describe()"
   ]
  },
  {
   "cell_type": "code",
   "execution_count": null,
   "metadata": {},
   "outputs": [],
   "source": [
    "sum(dfirs['sum_amount_bank'])"
   ]
  },
  {
   "cell_type": "code",
   "execution_count": 20,
   "metadata": {},
   "outputs": [
    {
     "data": {
      "text/plain": [
       "4    618\n",
       "5    599\n",
       "3    587\n",
       "2    587\n",
       "6    578\n",
       "1    559\n",
       "Name: risk_profile, dtype: int64"
      ]
     },
     "execution_count": 20,
     "metadata": {},
     "output_type": "execute_result"
    }
   ],
   "source": [
    "dfirs['risk_profile'].value_counts()"
   ]
  },
  {
   "cell_type": "code",
   "execution_count": 21,
   "metadata": {},
   "outputs": [
    {
     "data": {
      "text/plain": [
       "15887    2\n",
       "55157    2\n",
       "47268    2\n",
       "19810    2\n",
       "65996    2\n",
       "        ..\n",
       "62820    1\n",
       "34146    1\n",
       "34142    1\n",
       "46428    1\n",
       "16388    1\n",
       "Name: sum_amount_bank, Length: 3444, dtype: int64"
      ]
     },
     "execution_count": 21,
     "metadata": {},
     "output_type": "execute_result"
    }
   ],
   "source": [
    "dfirs['sum_amount_bank'].value_counts()"
   ]
  },
  {
   "cell_type": "code",
   "execution_count": 9,
   "metadata": {},
   "outputs": [
    {
     "data": {
      "text/plain": [
       "array([3, 1, 6, 4, 2, 5], dtype=int64)"
      ]
     },
     "execution_count": 9,
     "metadata": {},
     "output_type": "execute_result"
    }
   ],
   "source": [
    "dfirs['risk_profile'].unique()"
   ]
  },
  {
   "cell_type": "code",
   "execution_count": 26,
   "metadata": {},
   "outputs": [],
   "source": [
    "test,pval = stats.f_oneway(dfirs[dfirs['risk_profile']==1]['sum_amount_bank'],\n",
    "                           dfirs[dfirs['risk_profile']==2]['sum_amount_bank'],\n",
    "                           dfirs[dfirs['risk_profile']==3]['sum_amount_bank'],\n",
    "                           dfirs[dfirs['risk_profile']==4]['sum_amount_bank'],\n",
    "                           dfirs[dfirs['risk_profile']==5]['sum_amount_bank'],\n",
    "                           dfirs[dfirs['risk_profile']==6]['sum_amount_bank'])"
   ]
  },
  {
   "cell_type": "code",
   "execution_count": 27,
   "metadata": {},
   "outputs": [
    {
     "data": {
      "text/plain": [
       "0.2690393821478612"
      ]
     },
     "execution_count": 27,
     "metadata": {},
     "output_type": "execute_result"
    }
   ],
   "source": [
    "pval"
   ]
  },
  {
   "cell_type": "code",
   "execution_count": 28,
   "metadata": {},
   "outputs": [],
   "source": [
    "test,pval = stats.f_oneway(dfirs[dfirs['risk_profile']==1]['transaction_count_bank'],\n",
    "                           dfirs[dfirs['risk_profile']==2]['transaction_count_bank'],\n",
    "                           dfirs[dfirs['risk_profile']==3]['transaction_count_bank'],\n",
    "                           dfirs[dfirs['risk_profile']==4]['transaction_count_bank'],\n",
    "                           dfirs[dfirs['risk_profile']==5]['transaction_count_bank'],\n",
    "                           dfirs[dfirs['risk_profile']==6]['transaction_count_bank'])"
   ]
  },
  {
   "cell_type": "code",
   "execution_count": 29,
   "metadata": {},
   "outputs": [
    {
     "data": {
      "text/plain": [
       "0.524324216034779"
      ]
     },
     "execution_count": 29,
     "metadata": {},
     "output_type": "execute_result"
    }
   ],
   "source": [
    "pval"
   ]
  },
  {
   "cell_type": "code",
   "execution_count": 28,
   "metadata": {},
   "outputs": [],
   "source": [
    "test,pval = stats.f_oneway(dfirs[dfirs['risk_profile']==1]['transaction_count_bank'],\n",
    "                           dfirs[dfirs['risk_profile']==2]['transaction_count_bank'],\n",
    "                           dfirs[dfirs['risk_profile']==3]['transaction_count_bank'],\n",
    "                           dfirs[dfirs['risk_profile']==4]['transaction_count_bank'],\n",
    "                           dfirs[dfirs['risk_profile']==5]['transaction_count_bank'],\n",
    "                           dfirs[dfirs['risk_profile']==6]['transaction_count_bank'])"
   ]
  },
  {
   "cell_type": "code",
   "execution_count": 29,
   "metadata": {},
   "outputs": [
    {
     "data": {
      "text/plain": [
       "0.524324216034779"
      ]
     },
     "execution_count": 29,
     "metadata": {},
     "output_type": "execute_result"
    }
   ],
   "source": [
    "pval"
   ]
  },
  {
   "cell_type": "code",
   "execution_count": null,
   "metadata": {},
   "outputs": [],
   "source": []
  }
 ],
 "metadata": {
  "kernelspec": {
   "display_name": "Python 3",
   "language": "python",
   "name": "python3"
  },
  "language_info": {
   "codemirror_mode": {
    "name": "ipython",
    "version": 3
   },
   "file_extension": ".py",
   "mimetype": "text/x-python",
   "name": "python",
   "nbconvert_exporter": "python",
   "pygments_lexer": "ipython3",
   "version": "3.8.3"
  }
 },
 "nbformat": 4,
 "nbformat_minor": 4
}
