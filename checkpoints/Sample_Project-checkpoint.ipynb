{
 "cells": [
  {
   "cell_type": "markdown",
   "metadata": {},
   "source": [
    "# House Price Prediction\n",
    "### Mentored by Dipayan Sarkar, Algoritmo Lab\n",
    "##### Submentored   by\n",
    "  \n",
    "_________________________________________________________________________________________________________  \n",
    "  \n",
    "## Data Set Information\n",
    "The Original Dataset contains 1460 entries of row of data with 81 numerical/categorical attributes. This dataset provides us the information of the house and features available in the house, and house price varies with respect to this features which may or may not be available.\n",
    "\n",
    "#### Number of Instances : 1460 Entries  \n",
    "#### Number of Attributes : 81 Attributes\n",
    "These are all the attributes in the dataset with its description\n",
    "\n",
    "- MSSubClass: Identifies the type of dwelling involved in the sale.\t\n",
    "\n",
    "        20\t1-STORY 1946 & NEWER ALL STYLES\n",
    "        30\t1-STORY 1945 & OLDER\n",
    "        40\t1-STORY W/FINISHED ATTIC ALL AGES\n",
    "        45\t1-1/2 STORY - UNFINISHED ALL AGES\n",
    "        50\t1-1/2 STORY FINISHED ALL AGES\n",
    "        60\t2-STORY 1946 & NEWER\n",
    "        70\t2-STORY 1945 & OLDER\n",
    "        75\t2-1/2 STORY ALL AGES\n",
    "        80\tSPLIT OR MULTI-LEVEL\n",
    "        85\tSPLIT FOYER\n",
    "        90\tDUPLEX - ALL STYLES AND AGES\n",
    "       120\t1-STORY PUD (Planned Unit Development) - 1946 & NEWER\n",
    "       150\t1-1/2 STORY PUD - ALL AGES\n",
    "       160\t2-STORY PUD - 1946 & NEWER\n",
    "       180\tPUD - MULTILEVEL - INCL SPLIT LEV/FOYER\n",
    "       190\t2 FAMILY CONVERSION - ALL STYLES AND AGES\n",
    "\n",
    "- MSZoning: Identifies the general zoning classification of the sale.\n",
    "\t\t\n",
    "       A\tAgriculture\n",
    "       C\tCommercial\n",
    "       FV\tFloating Village Residential\n",
    "       I\tIndustrial\n",
    "       RH\tResidential High Density\n",
    "       RL\tResidential Low Density\n",
    "       RP\tResidential Low Density Park \n",
    "       RM\tResidential Medium Density\n",
    "\t\n",
    "- LotFrontage: Linear feet of street connected to property\n",
    "\n",
    "- LotArea: Lot size in square feet\n",
    "\n",
    "- Street: Type of road access to property\n",
    "\n",
    "       Grvl\tGravel\t\n",
    "       Pave\tPaved\n",
    "       \t\n",
    "- Alley: Type of alley access to property\n",
    "\n",
    "       Grvl\tGravel\n",
    "       Pave\tPaved\n",
    "       NA \tNo alley access\n",
    "\t\t\n",
    "- LotShape: General shape of property\n",
    "\n",
    "       Reg\tRegular\t\n",
    "       IR1\tSlightly irregular\n",
    "       IR2\tModerately Irregular\n",
    "       IR3\tIrregular\n",
    "       \n",
    "- LandContour: Flatness of the property\n",
    "\n",
    "       Lvl\tNear Flat/Level\t\n",
    "       Bnk\tBanked - Quick and significant rise from street grade to building\n",
    "       HLS\tHillside - Significant slope from side to side\n",
    "       Low\tDepression\n",
    "\t\t\n",
    "- Utilities: Type of utilities available\n",
    "\t\t\n",
    "       AllPub\tAll public Utilities (E,G,W,& S)\t\n",
    "       NoSewr\tElectricity, Gas, and Water (Septic Tank)\n",
    "       NoSeWa\tElectricity and Gas Only\n",
    "       ELO\tElectricity only\t\n",
    "\t\n",
    "- LotConfig: Lot configuration\n",
    "\n",
    "       Inside\tInside lot\n",
    "       Corner\tCorner lot\n",
    "       CulDSac\tCul-de-sac\n",
    "       FR2\tFrontage on 2 sides of property\n",
    "       FR3\tFrontage on 3 sides of property\n",
    "\t\n",
    "- LandSlope: Slope of property\n",
    "\t\t\n",
    "       Gtl\tGentle slope\n",
    "       Mod\tModerate Slope\t\n",
    "       Sev\tSevere Slope\n",
    "\t\n",
    "- Neighborhood: Physical locations within Ames city limits\n",
    "\n",
    "       Blmngtn\tBloomington Heights\n",
    "       Blueste\tBluestem\n",
    "       BrDale\tBriardale\n",
    "       BrkSide\tBrookside\n",
    "       ClearCr\tClear Creek\n",
    "       CollgCr\tCollege Creek\n",
    "       Crawfor\tCrawford\n",
    "       Edwards\tEdwards\n",
    "       Gilbert\tGilbert\n",
    "       IDOTRR\tIowa DOT and Rail Road\n",
    "       MeadowV\tMeadow Village\n",
    "       Mitchel\tMitchell\n",
    "       Names\tNorth Ames\n",
    "       NoRidge\tNorthridge\n",
    "       NPkVill\tNorthpark Villa\n",
    "       NridgHt\tNorthridge Heights\n",
    "       NWAmes\tNorthwest Ames\n",
    "       OldTown\tOld Town\n",
    "       SWISU\tSouth & West of Iowa State University\n",
    "       Sawyer\tSawyer\n",
    "       SawyerW\tSawyer West\n",
    "       Somerst\tSomerset\n",
    "       StoneBr\tStone Brook\n",
    "       Timber\tTimberland\n",
    "       Veenker\tVeenker\n",
    "\t\t\t\n",
    "- Condition1: Proximity to various conditions\n",
    "\t\n",
    "       Artery\tAdjacent to arterial street\n",
    "       Feedr\tAdjacent to feeder street\t\n",
    "       Norm\tNormal\t\n",
    "       RRNn\tWithin 200' of North-South Railroad\n",
    "       RRAn\tAdjacent to North-South Railroad\n",
    "       PosN\tNear positive off-site feature--park, greenbelt, etc.\n",
    "       PosA\tAdjacent to postive off-site feature\n",
    "       RRNe\tWithin 200' of East-West Railroad\n",
    "       RRAe\tAdjacent to East-West Railroad\n",
    "\t\n",
    "- Condition2: Proximity to various conditions (if more than one is present)\n",
    "\t\t\n",
    "       Artery\tAdjacent to arterial street\n",
    "       Feedr\tAdjacent to feeder street\t\n",
    "       Norm\tNormal\t\n",
    "       RRNn\tWithin 200' of North-South Railroad\n",
    "       RRAn\tAdjacent to North-South Railroad\n",
    "       PosN\tNear positive off-site feature--park, greenbelt, etc.\n",
    "       PosA\tAdjacent to postive off-site feature\n",
    "       RRNe\tWithin 200' of East-West Railroad\n",
    "       RRAe\tAdjacent to East-West Railroad\n",
    "\t\n",
    "- BldgType: Type of dwelling\n",
    "\t\t\n",
    "       1Fam\tSingle-family Detached\t\n",
    "       2FmCon\tTwo-family Conversion; originally built as one-family dwelling\n",
    "       Duplx\tDuplex\n",
    "       TwnhsE\tTownhouse End Unit\n",
    "       TwnhsI\tTownhouse Inside Unit\n",
    "\t\n",
    "- HouseStyle: Style of dwelling\n",
    "\t\n",
    "       1Story\tOne story\n",
    "       1.5Fin\tOne and one-half story: 2nd level finished\n",
    "       1.5Unf\tOne and one-half story: 2nd level unfinished\n",
    "       2Story\tTwo story\n",
    "       2.5Fin\tTwo and one-half story: 2nd level finished\n",
    "       2.5Unf\tTwo and one-half story: 2nd level unfinished\n",
    "       SFoyer\tSplit Foyer\n",
    "       SLvl\tSplit Level\n",
    "\t\n",
    "- OverallQual: Rates the overall material and finish of the house\n",
    "\n",
    "       10\tVery Excellent\n",
    "       9\tExcellent\n",
    "       8\tVery Good\n",
    "       7\tGood\n",
    "       6\tAbove Average\n",
    "       5\tAverage\n",
    "       4\tBelow Average\n",
    "       3\tFair\n",
    "       2\tPoor\n",
    "       1\tVery Poor\n",
    "\t\n",
    "- OverallCond: Rates the overall condition of the house\n",
    "\n",
    "       10\tVery Excellent\n",
    "       9\tExcellent\n",
    "       8\tVery Good\n",
    "       7\tGood\n",
    "       6\tAbove Average\t\n",
    "       5\tAverage\n",
    "       4\tBelow Average\t\n",
    "       3\tFair\n",
    "       2\tPoor\n",
    "       1\tVery Poor\n",
    "\t\t\n",
    "- YearBuilt: Original construction date\n",
    "\n",
    "- YearRemodAdd: Remodel date (same as construction date if no remodeling or additions)\n",
    "\n",
    "- RoofStyle: Type of roof\n",
    "\n",
    "       Flat\tFlat\n",
    "       Gable\tGable\n",
    "       Gambrel\tGabrel (Barn)\n",
    "       Hip\tHip\n",
    "       Mansard\tMansard\n",
    "       Shed\tShed\n",
    "\t\t\n",
    "- RoofMatl: Roof material\n",
    "\n",
    "       ClyTile\tClay or Tile\n",
    "       CompShg\tStandard (Composite) Shingle\n",
    "       Membran\tMembrane\n",
    "       Metal\tMetal\n",
    "       Roll\tRoll\n",
    "       Tar&Grv\tGravel & Tar\n",
    "       WdShake\tWood Shakes\n",
    "       WdShngl\tWood Shingles\n",
    "\t\t\n",
    "- Exterior1st: Exterior covering on house\n",
    "\n",
    "       AsbShng\tAsbestos Shingles\n",
    "       AsphShn\tAsphalt Shingles\n",
    "       BrkComm\tBrick Common\n",
    "       BrkFace\tBrick Face\n",
    "       CBlock\tCinder Block\n",
    "       CemntBd\tCement Board\n",
    "       HdBoard\tHard Board\n",
    "       ImStucc\tImitation Stucco\n",
    "       MetalSd\tMetal Siding\n",
    "       Other\tOther\n",
    "       Plywood\tPlywood\n",
    "       PreCast\tPreCast\t\n",
    "       Stone\tStone\n",
    "       Stucco\tStucco\n",
    "       VinylSd\tVinyl Siding\n",
    "       Wd Sdng\tWood Siding\n",
    "       WdShing\tWood Shingles\n",
    "\t\n",
    "- Exterior2nd: Exterior covering on house (if more than one material)\n",
    "\n",
    "       AsbShng\tAsbestos Shingles\n",
    "       AsphShn\tAsphalt Shingles\n",
    "       BrkComm\tBrick Common\n",
    "       BrkFace\tBrick Face\n",
    "       CBlock\tCinder Block\n",
    "       CemntBd\tCement Board\n",
    "       HdBoard\tHard Board\n",
    "       ImStucc\tImitation Stucco\n",
    "       MetalSd\tMetal Siding\n",
    "       Other\tOther\n",
    "       Plywood\tPlywood\n",
    "       PreCast\tPreCast\n",
    "       Stone\tStone\n",
    "       Stucco\tStucco\n",
    "       VinylSd\tVinyl Siding\n",
    "       Wd Sdng\tWood Siding\n",
    "       WdShing\tWood Shingles\n",
    "\t\n",
    "- MasVnrType: Masonry veneer type\n",
    "\n",
    "       BrkCmn\tBrick Common\n",
    "       BrkFace\tBrick Face\n",
    "       CBlock\tCinder Block\n",
    "       None\tNone\n",
    "       Stone\tStone\n",
    "\t\n",
    "- MasVnrArea: Masonry veneer area in square feet\n",
    "\n",
    "- ExterQual: Evaluates the quality of the material on the exterior \n",
    "\t\t\n",
    "       Ex\tExcellent\n",
    "       Gd\tGood\n",
    "       TA\tAverage/Typical\n",
    "       Fa\tFair\n",
    "       Po\tPoor\n",
    "\t\t\n",
    "- ExterCond: Evaluates the present condition of the material on the exterior\n",
    "\t\t\n",
    "       Ex\tExcellent\n",
    "       Gd\tGood\n",
    "       TA\tAverage/Typical\n",
    "       Fa\tFair\n",
    "       Po\tPoor\n",
    "\t\t\n",
    "- Foundation: Type of foundation\n",
    "\t\t\n",
    "       BrkTil\tBrick & Tile\n",
    "       CBlock\tCinder Block\n",
    "       PConc\tPoured Contrete\t\n",
    "       Slab\tSlab\n",
    "       Stone\tStone\n",
    "       Wood\tWood\n",
    "\t\t\n",
    "- BsmtQual: Evaluates the height of the basement\n",
    "\n",
    "       Ex\tExcellent (100+ inches)\t\n",
    "       Gd\tGood (90-99 inches)\n",
    "       TA\tTypical (80-89 inches)\n",
    "       Fa\tFair (70-79 inches)\n",
    "       Po\tPoor (<70 inches\n",
    "       NA\tNo Basement\n",
    "\t\t\n",
    "- BsmtCond: Evaluates the general condition of the basement\n",
    "\n",
    "       Ex\tExcellent\n",
    "       Gd\tGood\n",
    "       TA\tTypical - slight dampness allowed\n",
    "       Fa\tFair - dampness or some cracking or settling\n",
    "       Po\tPoor - Severe cracking, settling, or wetness\n",
    "       NA\tNo Basement\n",
    "\t\n",
    "- BsmtExposure: Refers to walkout or garden level walls\n",
    "\n",
    "       Gd\tGood Exposure\n",
    "       Av\tAverage Exposure (split levels or foyers typically score average or above)\t\n",
    "       Mn\tMimimum Exposure\n",
    "       No\tNo Exposure\n",
    "       NA\tNo Basement\n",
    "\t\n",
    "- BsmtFinType1: Rating of basement finished area\n",
    "\n",
    "       GLQ\tGood Living Quarters\n",
    "       ALQ\tAverage Living Quarters\n",
    "       BLQ\tBelow Average Living Quarters\t\n",
    "       Rec\tAverage Rec Room\n",
    "       LwQ\tLow Quality\n",
    "       Unf\tUnfinshed\n",
    "       NA\tNo Basement\n",
    "\t\t\n",
    "- BsmtFinSF1: Type 1 finished square feet\n",
    "\n",
    "- BsmtFinType2: Rating of basement finished area (if multiple types)\n",
    "\n",
    "       GLQ\tGood Living Quarters\n",
    "       ALQ\tAverage Living Quarters\n",
    "       BLQ\tBelow Average Living Quarters\t\n",
    "       Rec\tAverage Rec Room\n",
    "       LwQ\tLow Quality\n",
    "       Unf\tUnfinshed\n",
    "       NA\tNo Basement\n",
    "\n",
    "- BsmtFinSF2: Type 2 finished square feet\n",
    "\n",
    "- BsmtUnfSF: Unfinished square feet of basement area\n",
    "\n",
    "- TotalBsmtSF: Total square feet of basement area\n",
    "\n",
    "- Heating: Type of heating\n",
    "\t\t\n",
    "       Floor\tFloor Furnace\n",
    "       GasA\tGas forced warm air furnace\n",
    "       GasW\tGas hot water or steam heat\n",
    "       Grav\tGravity furnace\t\n",
    "       OthW\tHot water or steam heat other than gas\n",
    "       Wall\tWall furnace\n",
    "\t\t\n",
    "- HeatingQC: Heating quality and condition\n",
    "\n",
    "       Ex\tExcellent\n",
    "       Gd\tGood\n",
    "       TA\tAverage/Typical\n",
    "       Fa\tFair\n",
    "       Po\tPoor\n",
    "\t\t\n",
    "- CentralAir: Central air conditioning\n",
    "\n",
    "       N\tNo\n",
    "       Y\tYes\n",
    "\t\t\n",
    "- Electrical: Electrical system\n",
    "\n",
    "       SBrkr\tStandard Circuit Breakers & Romex\n",
    "       FuseA\tFuse Box over 60 AMP and all Romex wiring (Average)\t\n",
    "       FuseF\t60 AMP Fuse Box and mostly Romex wiring (Fair)\n",
    "       FuseP\t60 AMP Fuse Box and mostly knob & tube wiring (poor)\n",
    "       Mix\tMixed\n",
    "\t\t\n",
    "- 1stFlrSF: First Floor square feet\n",
    " \n",
    "- 2ndFlrSF: Second floor square feet\n",
    "\n",
    "- LowQualFinSF: Low quality finished square feet (all floors)\n",
    "\n",
    "- GrLivArea: Above grade (ground) living area square feet\n",
    "\n",
    "- BsmtFullBath: Basement full bathrooms\n",
    "\n",
    "- BsmtHalfBath: Basement half bathrooms\n",
    "\n",
    "- FullBath: Full bathrooms above grade\n",
    "\n",
    "- HalfBath: Half baths above grade\n",
    "\n",
    "- Bedroom: Bedrooms above grade (does NOT include basement bedrooms)\n",
    "\n",
    "- Kitchen: Kitchens above grade\n",
    "\n",
    "- KitchenQual: Kitchen quality\n",
    "\n",
    "       Ex\tExcellent\n",
    "       Gd\tGood\n",
    "       TA\tTypical/Average\n",
    "       Fa\tFair\n",
    "       Po\tPoor\n",
    "       \t\n",
    "- TotRmsAbvGrd: Total rooms above grade (does not include bathrooms)\n",
    "\n",
    "- Functional: Home functionality (Assume typical unless deductions are warranted)\n",
    "\n",
    "       Typ\tTypical Functionality\n",
    "       Min1\tMinor Deductions 1\n",
    "       Min2\tMinor Deductions 2\n",
    "       Mod\tModerate Deductions\n",
    "       Maj1\tMajor Deductions 1\n",
    "       Maj2\tMajor Deductions 2\n",
    "       Sev\tSeverely Damaged\n",
    "       Sal\tSalvage only\n",
    "\t\t\n",
    "- Fireplaces: Number of fireplaces\n",
    "\n",
    "- FireplaceQu: Fireplace quality\n",
    "\n",
    "       Ex\tExcellent - Exceptional Masonry Fireplace\n",
    "       Gd\tGood - Masonry Fireplace in main level\n",
    "       TA\tAverage - Prefabricated Fireplace in main living area or Masonry Fireplace in basement\n",
    "       Fa\tFair - Prefabricated Fireplace in basement\n",
    "       Po\tPoor - Ben Franklin Stove\n",
    "       NA\tNo Fireplace\n",
    "\t\t\n",
    "- GarageType: Garage location\n",
    "\t\t\n",
    "       2Types\tMore than one type of garage\n",
    "       Attchd\tAttached to home\n",
    "       Basment\tBasement Garage\n",
    "       BuiltIn\tBuilt-In (Garage part of house - typically has room above garage)\n",
    "       CarPort\tCar Port\n",
    "       Detchd\tDetached from home\n",
    "       NA\tNo Garage\n",
    "\t\t\n",
    "- GarageYrBlt: Year garage was built\n",
    "\t\t\n",
    "- GarageFinish: Interior finish of the garage\n",
    "\n",
    "       Fin\tFinished\n",
    "       RFn\tRough Finished\t\n",
    "       Unf\tUnfinished\n",
    "       NA\tNo Garage\n",
    "\t\t\n",
    "- GarageCars: Size of garage in car capacity\n",
    "\n",
    "- GarageArea: Size of garage in square feet\n",
    "\n",
    "- GarageQual: Garage quality\n",
    "\n",
    "       Ex\tExcellent\n",
    "       Gd\tGood\n",
    "       TA\tTypical/Average\n",
    "       Fa\tFair\n",
    "       Po\tPoor\n",
    "       NA\tNo Garage\n",
    "\t\t\n",
    "- GarageCond: Garage condition\n",
    "\n",
    "       Ex\tExcellent\n",
    "       Gd\tGood\n",
    "       TA\tTypical/Average\n",
    "       Fa\tFair\n",
    "       Po\tPoor\n",
    "       NA\tNo Garage\n",
    "\t\t\n",
    "- PavedDrive: Paved driveway\n",
    "\n",
    "       Y\tPaved \n",
    "       P\tPartial Pavement\n",
    "       N\tDirt/Gravel\n",
    "\t\t\n",
    "- WoodDeckSF: Wood deck area in square feet\n",
    "\n",
    "- OpenPorchSF: Open porch area in square feet\n",
    "\n",
    "- EnclosedPorch: Enclosed porch area in square feet\n",
    "\n",
    "- 3SsnPorch: Three season porch area in square feet\n",
    "\n",
    "- ScreenPorch: Screen porch area in square feet\n",
    "\n",
    "- PoolArea: Pool area in square feet\n",
    "\n",
    "- PoolQC: Pool quality\n",
    "\t\t\n",
    "       Ex\tExcellent\n",
    "       Gd\tGood\n",
    "       TA\tAverage/Typical\n",
    "       Fa\tFair\n",
    "       NA\tNo Pool\n",
    "\t\t\n",
    "- Fence: Fence quality\n",
    "\t\t\n",
    "       GdPrv\tGood Privacy\n",
    "       MnPrv\tMinimum Privacy\n",
    "       GdWo\tGood Wood\n",
    "       MnWw\tMinimum Wood/Wire\n",
    "       NA\tNo Fence\n",
    "\t\n",
    "- MiscFeature: Miscellaneous feature not covered in other categories\n",
    "\t\t\n",
    "       Elev\tElevator\n",
    "       Gar2\t2nd Garage (if not described in garage section)\n",
    "       Othr\tOther\n",
    "       Shed\tShed (over 100 SF)\n",
    "       TenC\tTennis Court\n",
    "       NA\tNone\n",
    "\t\t\n",
    "- MiscVal: $Value of miscellaneous feature  \n",
    "\n",
    "- MoSold: Month Sold (MM)\n",
    "\n",
    "- YrSold: Year Sold (YYYY)\n",
    "\n",
    "- SaleType: Type of sale\n",
    "\t\t\n",
    "       WD \tWarranty Deed - Conventional\n",
    "       CWD\tWarranty Deed - Cash\n",
    "       VWD\tWarranty Deed - VA Loan\n",
    "       New\tHome just constructed and sold\n",
    "       COD\tCourt Officer Deed/Estate\n",
    "       Con\tContract 15% Down payment regular terms\n",
    "       ConLw\tContract Low Down payment and low interest\n",
    "       ConLI\tContract Low Interest\n",
    "       ConLD\tContract Low Down\n",
    "       Oth\tOther\n",
    "\t\t\n",
    "- SaleCondition: Condition of sale\n",
    "\n",
    "       Normal\tNormal Sale\n",
    "       Abnorml\tAbnormal Sale -  trade, foreclosure, short sale\n",
    "       AdjLand\tAdjoining Land Purchase\n",
    "       Alloca\tAllocation - two linked properties with separate deeds, typically condo with a garage unit\t\n",
    "       Family\tSale between family members\n",
    "       Partial\tHome was not completed when last assessed (associated with New Homes)\n"
   ]
  },
  {
   "cell_type": "markdown",
   "metadata": {},
   "source": [
    "## Index:\n",
    "\n",
    "1. **[Import packages](#imports)**\n",
    "2. **[Data Preparation](#data_prep)**\n",
    "    - 2.1 - [Dimensions of the Dataset](#data_dimension)\n",
    "    - 2.2 - [Pre-Preparation](#pre_prep)\n",
    "    - 2.3 - [Statistical Summary](#stat_sum)\n",
    "3. **[Exploratory Data Analysis](#exploratory_data_analysis)**\n",
    "    - 3.1 - [Correlation](#correlation)\n",
    "4. **[Logistic Regression](#log_reg)**\n",
    "    - 4.1 - [Preparation of datasets](#prep_data)\n",
    "    - 4.2 - [Building Logistic Regression Base Model](#base_model)\n",
    "    - 4.3 - [Removing \"Credit Amount\" variable and building a Logit model](#removing_cre_amt)\n",
    "    - 4.4 - [Removing \"Duration_of_Credit_month\" variable and building a Logit model](#credit_month)\n",
    "    - 4.5 - [Treating Multicollinearity and Building Logit Model](#treat_multicol)\n",
    "    - 4.6 - [Removing Insignificant Variable](#remove_insig_var)"
   ]
  },
  {
   "cell_type": "markdown",
   "metadata": {},
   "source": [
    "<a id='imports'></a>\n",
    "# 1. Imports\n",
    "Importing the necessary packages to be used in this PROJECT"
   ]
  },
  {
   "cell_type": "code",
   "execution_count": 91,
   "metadata": {},
   "outputs": [],
   "source": [
    "import os\n",
    "import numpy as np\n",
    "import pandas as pd\n",
    "import seaborn as sns\n",
    "import statsmodels.api as sm\n",
    "import matplotlib.pyplot as plt\n",
    "import statsmodels.regression.linear_model as ols\n",
    "from sklearn.model_selection import train_test_split\n",
    "from sklearn.preprocessing import MinMaxScaler,StandardScaler\n",
    "from sklearn.metrics import mean_squared_error,mean_absolute_error\n",
    "from sklearn import metrics"
   ]
  },
  {
   "cell_type": "markdown",
   "metadata": {},
   "source": [
    "<a id='data_prep'></a>\n",
    "# 2. Data Preparation\n",
    "Data Preparation is a pre-processing step in which data from one or more sources is cleaned and transformed to improve its quality prior to its use in business analytics. We do this to ensure that data is consistent and of high quality.   \n",
    "\n",
    "When data is of excellent quality it can be easily processed and analyzed, leading to insights that help the organization make better decisions. High-quality data is essential to business intelligence efforts and other types of data analytics, as well as better overall operational efficiency.\n",
    "_________________________________________________________________________________________________________  \n",
    "  "
   ]
  },
  {
   "cell_type": "markdown",
   "metadata": {},
   "source": [
    "Reading the 'HousePrices.csv' file and storing it in a Dataframe"
   ]
  },
  {
   "cell_type": "code",
   "execution_count": 92,
   "metadata": {},
   "outputs": [],
   "source": [
    "df1=pd.read_csv('HousePrices.csv')"
   ]
  },
  {
   "cell_type": "markdown",
   "metadata": {},
   "source": [
    "<a id='data_dimension'></a>\n",
    "### 2.1 Dimensions of the Dataset\n",
    "Getting the Dimensions of the Dataframe"
   ]
  },
  {
   "cell_type": "code",
   "execution_count": 93,
   "metadata": {
    "scrolled": true
   },
   "outputs": [
    {
     "data": {
      "text/plain": [
       "(1460, 81)"
      ]
     },
     "execution_count": 93,
     "metadata": {},
     "output_type": "execute_result"
    }
   ],
   "source": [
    "df1.shape"
   ]
  },
  {
   "cell_type": "markdown",
   "metadata": {},
   "source": [
    "<a id='pre_prep'></a>\n",
    "### 2.2 Pre-Preparation\n",
    "Here we make the necessary changes which will simplify and increase our efficiency and speed of our workflow"
   ]
  },
  {
   "cell_type": "markdown",
   "metadata": {},
   "source": [
    "Increasing the maximum number of rows and columns to '10000'"
   ]
  },
  {
   "cell_type": "code",
   "execution_count": 94,
   "metadata": {},
   "outputs": [],
   "source": [
    "pd.options.display.max_rows=10000\n",
    "pd.options.display.max_columns=10000"
   ]
  },
  {
   "cell_type": "markdown",
   "metadata": {},
   "source": [
    "Increasing the maximum width of the column to '1000'"
   ]
  },
  {
   "cell_type": "code",
   "execution_count": 95,
   "metadata": {},
   "outputs": [],
   "source": [
    "pd.set_option('display.max_colwidth', 1000)"
   ]
  },
  {
   "cell_type": "markdown",
   "metadata": {},
   "source": [
    "Getting the details of the dataframe's columns to search for abnormalities, Details such as type of attributes and Missing Values in the Dataset"
   ]
  },
  {
   "cell_type": "code",
   "execution_count": 96,
   "metadata": {},
   "outputs": [
    {
     "name": "stdout",
     "output_type": "stream",
     "text": [
      "<class 'pandas.core.frame.DataFrame'>\n",
      "RangeIndex: 1460 entries, 0 to 1459\n",
      "Data columns (total 81 columns):\n",
      " #   Column         Non-Null Count  Dtype  \n",
      "---  ------         --------------  -----  \n",
      " 0   Id             1460 non-null   int64  \n",
      " 1   MSSubClass     1460 non-null   int64  \n",
      " 2   MSZoning       1460 non-null   object \n",
      " 3   LotFrontage    1201 non-null   float64\n",
      " 4   LotArea        1460 non-null   int64  \n",
      " 5   Street         1460 non-null   object \n",
      " 6   Alley          91 non-null     object \n",
      " 7   LotShape       1460 non-null   object \n",
      " 8   LandContour    1460 non-null   object \n",
      " 9   Utilities      1460 non-null   object \n",
      " 10  LotConfig      1460 non-null   object \n",
      " 11  LandSlope      1460 non-null   object \n",
      " 12  Neighborhood   1460 non-null   object \n",
      " 13  Condition1     1460 non-null   object \n",
      " 14  Condition2     1460 non-null   object \n",
      " 15  BldgType       1460 non-null   object \n",
      " 16  HouseStyle     1460 non-null   object \n",
      " 17  OverallQual    1460 non-null   int64  \n",
      " 18  OverallCond    1460 non-null   int64  \n",
      " 19  YearBuilt      1460 non-null   int64  \n",
      " 20  YearRemodAdd   1460 non-null   int64  \n",
      " 21  RoofStyle      1460 non-null   object \n",
      " 22  RoofMatl       1460 non-null   object \n",
      " 23  Exterior1st    1460 non-null   object \n",
      " 24  Exterior2nd    1460 non-null   object \n",
      " 25  MasVnrType     1452 non-null   object \n",
      " 26  MasVnrArea     1452 non-null   float64\n",
      " 27  ExterQual      1460 non-null   object \n",
      " 28  ExterCond      1460 non-null   object \n",
      " 29  Foundation     1460 non-null   object \n",
      " 30  BsmtQual       1423 non-null   object \n",
      " 31  BsmtCond       1423 non-null   object \n",
      " 32  BsmtExposure   1422 non-null   object \n",
      " 33  BsmtFinType1   1423 non-null   object \n",
      " 34  BsmtFinSF1     1460 non-null   int64  \n",
      " 35  BsmtFinType2   1422 non-null   object \n",
      " 36  BsmtFinSF2     1460 non-null   int64  \n",
      " 37  BsmtUnfSF      1460 non-null   int64  \n",
      " 38  TotalBsmtSF    1460 non-null   int64  \n",
      " 39  Heating        1460 non-null   object \n",
      " 40  HeatingQC      1460 non-null   object \n",
      " 41  CentralAir     1460 non-null   object \n",
      " 42  Electrical     1459 non-null   object \n",
      " 43  1stFlrSF       1460 non-null   int64  \n",
      " 44  2ndFlrSF       1460 non-null   int64  \n",
      " 45  LowQualFinSF   1460 non-null   int64  \n",
      " 46  GrLivArea      1460 non-null   int64  \n",
      " 47  BsmtFullBath   1460 non-null   int64  \n",
      " 48  BsmtHalfBath   1460 non-null   int64  \n",
      " 49  FullBath       1460 non-null   int64  \n",
      " 50  HalfBath       1460 non-null   int64  \n",
      " 51  BedroomAbvGr   1460 non-null   int64  \n",
      " 52  KitchenAbvGr   1460 non-null   int64  \n",
      " 53  KitchenQual    1460 non-null   object \n",
      " 54  TotRmsAbvGrd   1460 non-null   int64  \n",
      " 55  Functional     1460 non-null   object \n",
      " 56  Fireplaces     1460 non-null   int64  \n",
      " 57  FireplaceQu    770 non-null    object \n",
      " 58  GarageType     1379 non-null   object \n",
      " 59  GarageYrBlt    1379 non-null   float64\n",
      " 60  GarageFinish   1379 non-null   object \n",
      " 61  GarageCars     1460 non-null   int64  \n",
      " 62  GarageArea     1460 non-null   int64  \n",
      " 63  GarageQual     1379 non-null   object \n",
      " 64  GarageCond     1379 non-null   object \n",
      " 65  PavedDrive     1460 non-null   object \n",
      " 66  WoodDeckSF     1460 non-null   int64  \n",
      " 67  OpenPorchSF    1460 non-null   int64  \n",
      " 68  EnclosedPorch  1460 non-null   int64  \n",
      " 69  3SsnPorch      1460 non-null   int64  \n",
      " 70  ScreenPorch    1460 non-null   int64  \n",
      " 71  PoolArea       1460 non-null   int64  \n",
      " 72  PoolQC         7 non-null      object \n",
      " 73  Fence          281 non-null    object \n",
      " 74  MiscFeature    54 non-null     object \n",
      " 75  MiscVal        1460 non-null   int64  \n",
      " 76  MoSold         1460 non-null   int64  \n",
      " 77  YrSold         1460 non-null   int64  \n",
      " 78  SaleType       1460 non-null   object \n",
      " 79  SaleCondition  1460 non-null   object \n",
      " 80  SalePrice      1460 non-null   int64  \n",
      "dtypes: float64(3), int64(35), object(43)\n",
      "memory usage: 924.0+ KB\n"
     ]
    }
   ],
   "source": [
    "df1.info()"
   ]
  },
  {
   "cell_type": "markdown",
   "metadata": {},
   "source": [
    "Some more data description to understand the data we received from the csv file"
   ]
  },
  {
   "cell_type": "markdown",
   "metadata": {},
   "source": [
    "<a id='stat_sum'></a>\n",
    "### 2.3 Statistical Summary\n",
    "Here we take a look at the summary of each attribute.\n",
    "\n",
    "This includes the count, mean, the min and max values as well as percentiles."
   ]
  },
  {
   "cell_type": "code",
   "execution_count": 97,
   "metadata": {
    "scrolled": false
   },
   "outputs": [
    {
     "data": {
      "text/html": [
       "<div>\n",
       "<style scoped>\n",
       "    .dataframe tbody tr th:only-of-type {\n",
       "        vertical-align: middle;\n",
       "    }\n",
       "\n",
       "    .dataframe tbody tr th {\n",
       "        vertical-align: top;\n",
       "    }\n",
       "\n",
       "    .dataframe thead th {\n",
       "        text-align: right;\n",
       "    }\n",
       "</style>\n",
       "<table border=\"1\" class=\"dataframe\">\n",
       "  <thead>\n",
       "    <tr style=\"text-align: right;\">\n",
       "      <th></th>\n",
       "      <th>Id</th>\n",
       "      <th>MSSubClass</th>\n",
       "      <th>LotFrontage</th>\n",
       "      <th>LotArea</th>\n",
       "      <th>OverallQual</th>\n",
       "      <th>OverallCond</th>\n",
       "      <th>YearBuilt</th>\n",
       "      <th>YearRemodAdd</th>\n",
       "      <th>MasVnrArea</th>\n",
       "      <th>BsmtFinSF1</th>\n",
       "      <th>BsmtFinSF2</th>\n",
       "      <th>BsmtUnfSF</th>\n",
       "      <th>TotalBsmtSF</th>\n",
       "      <th>1stFlrSF</th>\n",
       "      <th>2ndFlrSF</th>\n",
       "      <th>LowQualFinSF</th>\n",
       "      <th>GrLivArea</th>\n",
       "      <th>BsmtFullBath</th>\n",
       "      <th>BsmtHalfBath</th>\n",
       "      <th>FullBath</th>\n",
       "      <th>HalfBath</th>\n",
       "      <th>BedroomAbvGr</th>\n",
       "      <th>KitchenAbvGr</th>\n",
       "      <th>TotRmsAbvGrd</th>\n",
       "      <th>Fireplaces</th>\n",
       "      <th>GarageYrBlt</th>\n",
       "      <th>GarageCars</th>\n",
       "      <th>GarageArea</th>\n",
       "      <th>WoodDeckSF</th>\n",
       "      <th>OpenPorchSF</th>\n",
       "      <th>EnclosedPorch</th>\n",
       "      <th>3SsnPorch</th>\n",
       "      <th>ScreenPorch</th>\n",
       "      <th>PoolArea</th>\n",
       "      <th>MiscVal</th>\n",
       "      <th>MoSold</th>\n",
       "      <th>YrSold</th>\n",
       "      <th>SalePrice</th>\n",
       "    </tr>\n",
       "  </thead>\n",
       "  <tbody>\n",
       "    <tr>\n",
       "      <th>count</th>\n",
       "      <td>1460.000000</td>\n",
       "      <td>1460.000000</td>\n",
       "      <td>1201.000000</td>\n",
       "      <td>1460.000000</td>\n",
       "      <td>1460.000000</td>\n",
       "      <td>1460.000000</td>\n",
       "      <td>1460.000000</td>\n",
       "      <td>1460.000000</td>\n",
       "      <td>1452.000000</td>\n",
       "      <td>1460.000000</td>\n",
       "      <td>1460.000000</td>\n",
       "      <td>1460.000000</td>\n",
       "      <td>1460.000000</td>\n",
       "      <td>1460.000000</td>\n",
       "      <td>1460.000000</td>\n",
       "      <td>1460.000000</td>\n",
       "      <td>1460.000000</td>\n",
       "      <td>1460.000000</td>\n",
       "      <td>1460.000000</td>\n",
       "      <td>1460.000000</td>\n",
       "      <td>1460.000000</td>\n",
       "      <td>1460.000000</td>\n",
       "      <td>1460.000000</td>\n",
       "      <td>1460.000000</td>\n",
       "      <td>1460.000000</td>\n",
       "      <td>1379.000000</td>\n",
       "      <td>1460.000000</td>\n",
       "      <td>1460.000000</td>\n",
       "      <td>1460.000000</td>\n",
       "      <td>1460.000000</td>\n",
       "      <td>1460.000000</td>\n",
       "      <td>1460.000000</td>\n",
       "      <td>1460.000000</td>\n",
       "      <td>1460.000000</td>\n",
       "      <td>1460.000000</td>\n",
       "      <td>1460.000000</td>\n",
       "      <td>1460.000000</td>\n",
       "      <td>1460.000000</td>\n",
       "    </tr>\n",
       "    <tr>\n",
       "      <th>mean</th>\n",
       "      <td>730.500000</td>\n",
       "      <td>56.897260</td>\n",
       "      <td>70.049958</td>\n",
       "      <td>10516.828082</td>\n",
       "      <td>6.099315</td>\n",
       "      <td>5.575342</td>\n",
       "      <td>1971.267808</td>\n",
       "      <td>1984.865753</td>\n",
       "      <td>103.685262</td>\n",
       "      <td>443.639726</td>\n",
       "      <td>46.549315</td>\n",
       "      <td>567.240411</td>\n",
       "      <td>1057.429452</td>\n",
       "      <td>1162.626712</td>\n",
       "      <td>346.992466</td>\n",
       "      <td>5.844521</td>\n",
       "      <td>1515.463699</td>\n",
       "      <td>0.425342</td>\n",
       "      <td>0.057534</td>\n",
       "      <td>1.565068</td>\n",
       "      <td>0.382877</td>\n",
       "      <td>2.866438</td>\n",
       "      <td>1.046575</td>\n",
       "      <td>6.517808</td>\n",
       "      <td>0.613014</td>\n",
       "      <td>1978.506164</td>\n",
       "      <td>1.767123</td>\n",
       "      <td>472.980137</td>\n",
       "      <td>94.244521</td>\n",
       "      <td>46.660274</td>\n",
       "      <td>21.954110</td>\n",
       "      <td>3.409589</td>\n",
       "      <td>15.060959</td>\n",
       "      <td>2.758904</td>\n",
       "      <td>43.489041</td>\n",
       "      <td>6.321918</td>\n",
       "      <td>2007.815753</td>\n",
       "      <td>180921.195890</td>\n",
       "    </tr>\n",
       "    <tr>\n",
       "      <th>std</th>\n",
       "      <td>421.610009</td>\n",
       "      <td>42.300571</td>\n",
       "      <td>24.284752</td>\n",
       "      <td>9981.264932</td>\n",
       "      <td>1.382997</td>\n",
       "      <td>1.112799</td>\n",
       "      <td>30.202904</td>\n",
       "      <td>20.645407</td>\n",
       "      <td>181.066207</td>\n",
       "      <td>456.098091</td>\n",
       "      <td>161.319273</td>\n",
       "      <td>441.866955</td>\n",
       "      <td>438.705324</td>\n",
       "      <td>386.587738</td>\n",
       "      <td>436.528436</td>\n",
       "      <td>48.623081</td>\n",
       "      <td>525.480383</td>\n",
       "      <td>0.518911</td>\n",
       "      <td>0.238753</td>\n",
       "      <td>0.550916</td>\n",
       "      <td>0.502885</td>\n",
       "      <td>0.815778</td>\n",
       "      <td>0.220338</td>\n",
       "      <td>1.625393</td>\n",
       "      <td>0.644666</td>\n",
       "      <td>24.689725</td>\n",
       "      <td>0.747315</td>\n",
       "      <td>213.804841</td>\n",
       "      <td>125.338794</td>\n",
       "      <td>66.256028</td>\n",
       "      <td>61.119149</td>\n",
       "      <td>29.317331</td>\n",
       "      <td>55.757415</td>\n",
       "      <td>40.177307</td>\n",
       "      <td>496.123024</td>\n",
       "      <td>2.703626</td>\n",
       "      <td>1.328095</td>\n",
       "      <td>79442.502883</td>\n",
       "    </tr>\n",
       "    <tr>\n",
       "      <th>min</th>\n",
       "      <td>1.000000</td>\n",
       "      <td>20.000000</td>\n",
       "      <td>21.000000</td>\n",
       "      <td>1300.000000</td>\n",
       "      <td>1.000000</td>\n",
       "      <td>1.000000</td>\n",
       "      <td>1872.000000</td>\n",
       "      <td>1950.000000</td>\n",
       "      <td>0.000000</td>\n",
       "      <td>0.000000</td>\n",
       "      <td>0.000000</td>\n",
       "      <td>0.000000</td>\n",
       "      <td>0.000000</td>\n",
       "      <td>334.000000</td>\n",
       "      <td>0.000000</td>\n",
       "      <td>0.000000</td>\n",
       "      <td>334.000000</td>\n",
       "      <td>0.000000</td>\n",
       "      <td>0.000000</td>\n",
       "      <td>0.000000</td>\n",
       "      <td>0.000000</td>\n",
       "      <td>0.000000</td>\n",
       "      <td>0.000000</td>\n",
       "      <td>2.000000</td>\n",
       "      <td>0.000000</td>\n",
       "      <td>1900.000000</td>\n",
       "      <td>0.000000</td>\n",
       "      <td>0.000000</td>\n",
       "      <td>0.000000</td>\n",
       "      <td>0.000000</td>\n",
       "      <td>0.000000</td>\n",
       "      <td>0.000000</td>\n",
       "      <td>0.000000</td>\n",
       "      <td>0.000000</td>\n",
       "      <td>0.000000</td>\n",
       "      <td>1.000000</td>\n",
       "      <td>2006.000000</td>\n",
       "      <td>34900.000000</td>\n",
       "    </tr>\n",
       "    <tr>\n",
       "      <th>25%</th>\n",
       "      <td>365.750000</td>\n",
       "      <td>20.000000</td>\n",
       "      <td>59.000000</td>\n",
       "      <td>7553.500000</td>\n",
       "      <td>5.000000</td>\n",
       "      <td>5.000000</td>\n",
       "      <td>1954.000000</td>\n",
       "      <td>1967.000000</td>\n",
       "      <td>0.000000</td>\n",
       "      <td>0.000000</td>\n",
       "      <td>0.000000</td>\n",
       "      <td>223.000000</td>\n",
       "      <td>795.750000</td>\n",
       "      <td>882.000000</td>\n",
       "      <td>0.000000</td>\n",
       "      <td>0.000000</td>\n",
       "      <td>1129.500000</td>\n",
       "      <td>0.000000</td>\n",
       "      <td>0.000000</td>\n",
       "      <td>1.000000</td>\n",
       "      <td>0.000000</td>\n",
       "      <td>2.000000</td>\n",
       "      <td>1.000000</td>\n",
       "      <td>5.000000</td>\n",
       "      <td>0.000000</td>\n",
       "      <td>1961.000000</td>\n",
       "      <td>1.000000</td>\n",
       "      <td>334.500000</td>\n",
       "      <td>0.000000</td>\n",
       "      <td>0.000000</td>\n",
       "      <td>0.000000</td>\n",
       "      <td>0.000000</td>\n",
       "      <td>0.000000</td>\n",
       "      <td>0.000000</td>\n",
       "      <td>0.000000</td>\n",
       "      <td>5.000000</td>\n",
       "      <td>2007.000000</td>\n",
       "      <td>129975.000000</td>\n",
       "    </tr>\n",
       "    <tr>\n",
       "      <th>50%</th>\n",
       "      <td>730.500000</td>\n",
       "      <td>50.000000</td>\n",
       "      <td>69.000000</td>\n",
       "      <td>9478.500000</td>\n",
       "      <td>6.000000</td>\n",
       "      <td>5.000000</td>\n",
       "      <td>1973.000000</td>\n",
       "      <td>1994.000000</td>\n",
       "      <td>0.000000</td>\n",
       "      <td>383.500000</td>\n",
       "      <td>0.000000</td>\n",
       "      <td>477.500000</td>\n",
       "      <td>991.500000</td>\n",
       "      <td>1087.000000</td>\n",
       "      <td>0.000000</td>\n",
       "      <td>0.000000</td>\n",
       "      <td>1464.000000</td>\n",
       "      <td>0.000000</td>\n",
       "      <td>0.000000</td>\n",
       "      <td>2.000000</td>\n",
       "      <td>0.000000</td>\n",
       "      <td>3.000000</td>\n",
       "      <td>1.000000</td>\n",
       "      <td>6.000000</td>\n",
       "      <td>1.000000</td>\n",
       "      <td>1980.000000</td>\n",
       "      <td>2.000000</td>\n",
       "      <td>480.000000</td>\n",
       "      <td>0.000000</td>\n",
       "      <td>25.000000</td>\n",
       "      <td>0.000000</td>\n",
       "      <td>0.000000</td>\n",
       "      <td>0.000000</td>\n",
       "      <td>0.000000</td>\n",
       "      <td>0.000000</td>\n",
       "      <td>6.000000</td>\n",
       "      <td>2008.000000</td>\n",
       "      <td>163000.000000</td>\n",
       "    </tr>\n",
       "    <tr>\n",
       "      <th>75%</th>\n",
       "      <td>1095.250000</td>\n",
       "      <td>70.000000</td>\n",
       "      <td>80.000000</td>\n",
       "      <td>11601.500000</td>\n",
       "      <td>7.000000</td>\n",
       "      <td>6.000000</td>\n",
       "      <td>2000.000000</td>\n",
       "      <td>2004.000000</td>\n",
       "      <td>166.000000</td>\n",
       "      <td>712.250000</td>\n",
       "      <td>0.000000</td>\n",
       "      <td>808.000000</td>\n",
       "      <td>1298.250000</td>\n",
       "      <td>1391.250000</td>\n",
       "      <td>728.000000</td>\n",
       "      <td>0.000000</td>\n",
       "      <td>1776.750000</td>\n",
       "      <td>1.000000</td>\n",
       "      <td>0.000000</td>\n",
       "      <td>2.000000</td>\n",
       "      <td>1.000000</td>\n",
       "      <td>3.000000</td>\n",
       "      <td>1.000000</td>\n",
       "      <td>7.000000</td>\n",
       "      <td>1.000000</td>\n",
       "      <td>2002.000000</td>\n",
       "      <td>2.000000</td>\n",
       "      <td>576.000000</td>\n",
       "      <td>168.000000</td>\n",
       "      <td>68.000000</td>\n",
       "      <td>0.000000</td>\n",
       "      <td>0.000000</td>\n",
       "      <td>0.000000</td>\n",
       "      <td>0.000000</td>\n",
       "      <td>0.000000</td>\n",
       "      <td>8.000000</td>\n",
       "      <td>2009.000000</td>\n",
       "      <td>214000.000000</td>\n",
       "    </tr>\n",
       "    <tr>\n",
       "      <th>max</th>\n",
       "      <td>1460.000000</td>\n",
       "      <td>190.000000</td>\n",
       "      <td>313.000000</td>\n",
       "      <td>215245.000000</td>\n",
       "      <td>10.000000</td>\n",
       "      <td>9.000000</td>\n",
       "      <td>2010.000000</td>\n",
       "      <td>2010.000000</td>\n",
       "      <td>1600.000000</td>\n",
       "      <td>5644.000000</td>\n",
       "      <td>1474.000000</td>\n",
       "      <td>2336.000000</td>\n",
       "      <td>6110.000000</td>\n",
       "      <td>4692.000000</td>\n",
       "      <td>2065.000000</td>\n",
       "      <td>572.000000</td>\n",
       "      <td>5642.000000</td>\n",
       "      <td>3.000000</td>\n",
       "      <td>2.000000</td>\n",
       "      <td>3.000000</td>\n",
       "      <td>2.000000</td>\n",
       "      <td>8.000000</td>\n",
       "      <td>3.000000</td>\n",
       "      <td>14.000000</td>\n",
       "      <td>3.000000</td>\n",
       "      <td>2010.000000</td>\n",
       "      <td>4.000000</td>\n",
       "      <td>1418.000000</td>\n",
       "      <td>857.000000</td>\n",
       "      <td>547.000000</td>\n",
       "      <td>552.000000</td>\n",
       "      <td>508.000000</td>\n",
       "      <td>480.000000</td>\n",
       "      <td>738.000000</td>\n",
       "      <td>15500.000000</td>\n",
       "      <td>12.000000</td>\n",
       "      <td>2010.000000</td>\n",
       "      <td>755000.000000</td>\n",
       "    </tr>\n",
       "  </tbody>\n",
       "</table>\n",
       "</div>"
      ],
      "text/plain": [
       "                Id   MSSubClass  LotFrontage        LotArea  OverallQual  \\\n",
       "count  1460.000000  1460.000000  1201.000000    1460.000000  1460.000000   \n",
       "mean    730.500000    56.897260    70.049958   10516.828082     6.099315   \n",
       "std     421.610009    42.300571    24.284752    9981.264932     1.382997   \n",
       "min       1.000000    20.000000    21.000000    1300.000000     1.000000   \n",
       "25%     365.750000    20.000000    59.000000    7553.500000     5.000000   \n",
       "50%     730.500000    50.000000    69.000000    9478.500000     6.000000   \n",
       "75%    1095.250000    70.000000    80.000000   11601.500000     7.000000   \n",
       "max    1460.000000   190.000000   313.000000  215245.000000    10.000000   \n",
       "\n",
       "       OverallCond    YearBuilt  YearRemodAdd   MasVnrArea   BsmtFinSF1  \\\n",
       "count  1460.000000  1460.000000   1460.000000  1452.000000  1460.000000   \n",
       "mean      5.575342  1971.267808   1984.865753   103.685262   443.639726   \n",
       "std       1.112799    30.202904     20.645407   181.066207   456.098091   \n",
       "min       1.000000  1872.000000   1950.000000     0.000000     0.000000   \n",
       "25%       5.000000  1954.000000   1967.000000     0.000000     0.000000   \n",
       "50%       5.000000  1973.000000   1994.000000     0.000000   383.500000   \n",
       "75%       6.000000  2000.000000   2004.000000   166.000000   712.250000   \n",
       "max       9.000000  2010.000000   2010.000000  1600.000000  5644.000000   \n",
       "\n",
       "        BsmtFinSF2    BsmtUnfSF  TotalBsmtSF     1stFlrSF     2ndFlrSF  \\\n",
       "count  1460.000000  1460.000000  1460.000000  1460.000000  1460.000000   \n",
       "mean     46.549315   567.240411  1057.429452  1162.626712   346.992466   \n",
       "std     161.319273   441.866955   438.705324   386.587738   436.528436   \n",
       "min       0.000000     0.000000     0.000000   334.000000     0.000000   \n",
       "25%       0.000000   223.000000   795.750000   882.000000     0.000000   \n",
       "50%       0.000000   477.500000   991.500000  1087.000000     0.000000   \n",
       "75%       0.000000   808.000000  1298.250000  1391.250000   728.000000   \n",
       "max    1474.000000  2336.000000  6110.000000  4692.000000  2065.000000   \n",
       "\n",
       "       LowQualFinSF    GrLivArea  BsmtFullBath  BsmtHalfBath     FullBath  \\\n",
       "count   1460.000000  1460.000000   1460.000000   1460.000000  1460.000000   \n",
       "mean       5.844521  1515.463699      0.425342      0.057534     1.565068   \n",
       "std       48.623081   525.480383      0.518911      0.238753     0.550916   \n",
       "min        0.000000   334.000000      0.000000      0.000000     0.000000   \n",
       "25%        0.000000  1129.500000      0.000000      0.000000     1.000000   \n",
       "50%        0.000000  1464.000000      0.000000      0.000000     2.000000   \n",
       "75%        0.000000  1776.750000      1.000000      0.000000     2.000000   \n",
       "max      572.000000  5642.000000      3.000000      2.000000     3.000000   \n",
       "\n",
       "          HalfBath  BedroomAbvGr  KitchenAbvGr  TotRmsAbvGrd   Fireplaces  \\\n",
       "count  1460.000000   1460.000000   1460.000000   1460.000000  1460.000000   \n",
       "mean      0.382877      2.866438      1.046575      6.517808     0.613014   \n",
       "std       0.502885      0.815778      0.220338      1.625393     0.644666   \n",
       "min       0.000000      0.000000      0.000000      2.000000     0.000000   \n",
       "25%       0.000000      2.000000      1.000000      5.000000     0.000000   \n",
       "50%       0.000000      3.000000      1.000000      6.000000     1.000000   \n",
       "75%       1.000000      3.000000      1.000000      7.000000     1.000000   \n",
       "max       2.000000      8.000000      3.000000     14.000000     3.000000   \n",
       "\n",
       "       GarageYrBlt   GarageCars   GarageArea   WoodDeckSF  OpenPorchSF  \\\n",
       "count  1379.000000  1460.000000  1460.000000  1460.000000  1460.000000   \n",
       "mean   1978.506164     1.767123   472.980137    94.244521    46.660274   \n",
       "std      24.689725     0.747315   213.804841   125.338794    66.256028   \n",
       "min    1900.000000     0.000000     0.000000     0.000000     0.000000   \n",
       "25%    1961.000000     1.000000   334.500000     0.000000     0.000000   \n",
       "50%    1980.000000     2.000000   480.000000     0.000000    25.000000   \n",
       "75%    2002.000000     2.000000   576.000000   168.000000    68.000000   \n",
       "max    2010.000000     4.000000  1418.000000   857.000000   547.000000   \n",
       "\n",
       "       EnclosedPorch    3SsnPorch  ScreenPorch     PoolArea       MiscVal  \\\n",
       "count    1460.000000  1460.000000  1460.000000  1460.000000   1460.000000   \n",
       "mean       21.954110     3.409589    15.060959     2.758904     43.489041   \n",
       "std        61.119149    29.317331    55.757415    40.177307    496.123024   \n",
       "min         0.000000     0.000000     0.000000     0.000000      0.000000   \n",
       "25%         0.000000     0.000000     0.000000     0.000000      0.000000   \n",
       "50%         0.000000     0.000000     0.000000     0.000000      0.000000   \n",
       "75%         0.000000     0.000000     0.000000     0.000000      0.000000   \n",
       "max       552.000000   508.000000   480.000000   738.000000  15500.000000   \n",
       "\n",
       "            MoSold       YrSold      SalePrice  \n",
       "count  1460.000000  1460.000000    1460.000000  \n",
       "mean      6.321918  2007.815753  180921.195890  \n",
       "std       2.703626     1.328095   79442.502883  \n",
       "min       1.000000  2006.000000   34900.000000  \n",
       "25%       5.000000  2007.000000  129975.000000  \n",
       "50%       6.000000  2008.000000  163000.000000  \n",
       "75%       8.000000  2009.000000  214000.000000  \n",
       "max      12.000000  2010.000000  755000.000000  "
      ]
     },
     "execution_count": 97,
     "metadata": {},
     "output_type": "execute_result"
    }
   ],
   "source": [
    "df1.describe()"
   ]
  },
  {
   "cell_type": "markdown",
   "metadata": {},
   "source": [
    "Converting the following to object type variables"
   ]
  },
  {
   "cell_type": "code",
   "execution_count": 98,
   "metadata": {},
   "outputs": [],
   "source": [
    "df1['MSSubClass']=df1['MSSubClass'].astype(object)\n",
    "df1['OverallQual']=df1['OverallQual'].astype(object)\n",
    "df1['OverallCond']=df1['OverallCond'].astype(object)"
   ]
  },
  {
   "cell_type": "markdown",
   "metadata": {},
   "source": [
    "## Model 1. Removing all Columns having MV(Missing Values)"
   ]
  },
  {
   "cell_type": "markdown",
   "metadata": {},
   "source": [
    "Dropping any columns having one or more MV in it"
   ]
  },
  {
   "cell_type": "code",
   "execution_count": 99,
   "metadata": {},
   "outputs": [
    {
     "data": {
      "text/plain": [
       "(1460, 62)"
      ]
     },
     "execution_count": 99,
     "metadata": {},
     "output_type": "execute_result"
    }
   ],
   "source": [
    "df1=df1.dropna(axis=1)\n",
    "df1.shape"
   ]
  },
  {
   "cell_type": "markdown",
   "metadata": {},
   "source": [
    "Plotting a Heatmap to find out whether any MV is present or not"
   ]
  },
  {
   "cell_type": "code",
   "execution_count": 100,
   "metadata": {},
   "outputs": [
    {
     "data": {
      "image/png": "[encoded data removed]",
      "text/plain": [
       "<Figure size 1512x648 with 1 Axes>"
      ]
     },
     "metadata": {
      "needs_background": "light"
     },
     "output_type": "display_data"
    }
   ],
   "source": [
    "fig, ax = plt.subplots(figsize=(21,9))\n",
    "sns.heatmap(df1.isna(),cbar=False,cmap=\"Blues\")\n",
    "plt.show()"
   ]
  },
  {
   "cell_type": "markdown",
   "metadata": {},
   "source": [
    "<a id='exploratory_data_analysis'></a>\n",
    "### 3. Exploratory Data Analysis"
   ]
  },
  {
   "cell_type": "code",
   "execution_count": 101,
   "metadata": {},
   "outputs": [
    {
     "data": {
      "image/png": "[encoded data removed]",
      "text/plain": [
       "<Figure size 1440x1080 with 36 Axes>"
      ]
     },
     "metadata": {
      "needs_background": "light"
     },
     "output_type": "display_data"
    }
   ],
   "source": [
    "df1.hist(figsize=(20,15))\n",
    "plt.show()"
   ]
  },
  {
   "cell_type": "markdown",
   "metadata": {},
   "source": [
    "This is returning us the number of unique elements in the entire attributes in the dataset"
   ]
  },
  {
   "cell_type": "code",
   "execution_count": 102,
   "metadata": {},
   "outputs": [
    {
     "data": {
      "text/plain": [
       "Id               1460\n",
       "MSSubClass         15\n",
       "MSZoning            5\n",
       "LotArea          1073\n",
       "Street              2\n",
       "LotShape            4\n",
       "LandContour         4\n",
       "Utilities           2\n",
       "LotConfig           5\n",
       "LandSlope           3\n",
       "Neighborhood       25\n",
       "Condition1          9\n",
       "Condition2          8\n",
       "BldgType            5\n",
       "HouseStyle          8\n",
       "OverallQual        10\n",
       "OverallCond         9\n",
       "YearBuilt         112\n",
       "YearRemodAdd       61\n",
       "RoofStyle           6\n",
       "RoofMatl            8\n",
       "Exterior1st        15\n",
       "Exterior2nd        16\n",
       "ExterQual           4\n",
       "ExterCond           5\n",
       "Foundation          6\n",
       "BsmtFinSF1        637\n",
       "BsmtFinSF2        144\n",
       "BsmtUnfSF         780\n",
       "TotalBsmtSF       721\n",
       "Heating             6\n",
       "HeatingQC           5\n",
       "CentralAir          2\n",
       "1stFlrSF          753\n",
       "2ndFlrSF          417\n",
       "LowQualFinSF       24\n",
       "GrLivArea         861\n",
       "BsmtFullBath        4\n",
       "BsmtHalfBath        3\n",
       "FullBath            4\n",
       "HalfBath            3\n",
       "BedroomAbvGr        8\n",
       "KitchenAbvGr        4\n",
       "KitchenQual         4\n",
       "TotRmsAbvGrd       12\n",
       "Functional          7\n",
       "Fireplaces          4\n",
       "GarageCars          5\n",
       "GarageArea        441\n",
       "PavedDrive          3\n",
       "WoodDeckSF        274\n",
       "OpenPorchSF       202\n",
       "EnclosedPorch     120\n",
       "3SsnPorch          20\n",
       "ScreenPorch        76\n",
       "PoolArea            8\n",
       "MiscVal            21\n",
       "MoSold             12\n",
       "YrSold              5\n",
       "SaleType            9\n",
       "SaleCondition       6\n",
       "SalePrice         663\n",
       "dtype: int64"
      ]
     },
     "execution_count": 102,
     "metadata": {},
     "output_type": "execute_result"
    }
   ],
   "source": [
    "df1.nunique()"
   ]
  },
  {
   "cell_type": "markdown",
   "metadata": {},
   "source": [
    "<a id='correlation'></a>\n",
    "### 3.1 Correlation "
   ]
  },
  {
   "cell_type": "code",
   "execution_count": 103,
   "metadata": {},
   "outputs": [
    {
     "data": {
      "text/html": [
       "<div>\n",
       "<style scoped>\n",
       "    .dataframe tbody tr th:only-of-type {\n",
       "        vertical-align: middle;\n",
       "    }\n",
       "\n",
       "    .dataframe tbody tr th {\n",
       "        vertical-align: top;\n",
       "    }\n",
       "\n",
       "    .dataframe thead th {\n",
       "        text-align: right;\n",
       "    }\n",
       "</style>\n",
       "<table border=\"1\" class=\"dataframe\">\n",
       "  <thead>\n",
       "    <tr style=\"text-align: right;\">\n",
       "      <th></th>\n",
       "      <th>Id</th>\n",
       "      <th>LotArea</th>\n",
       "      <th>YearBuilt</th>\n",
       "      <th>YearRemodAdd</th>\n",
       "      <th>BsmtFinSF1</th>\n",
       "      <th>BsmtFinSF2</th>\n",
       "      <th>BsmtUnfSF</th>\n",
       "      <th>TotalBsmtSF</th>\n",
       "      <th>1stFlrSF</th>\n",
       "      <th>2ndFlrSF</th>\n",
       "      <th>LowQualFinSF</th>\n",
       "      <th>GrLivArea</th>\n",
       "      <th>BsmtFullBath</th>\n",
       "      <th>BsmtHalfBath</th>\n",
       "      <th>FullBath</th>\n",
       "      <th>HalfBath</th>\n",
       "      <th>BedroomAbvGr</th>\n",
       "      <th>KitchenAbvGr</th>\n",
       "      <th>TotRmsAbvGrd</th>\n",
       "      <th>Fireplaces</th>\n",
       "      <th>GarageCars</th>\n",
       "      <th>GarageArea</th>\n",
       "      <th>WoodDeckSF</th>\n",
       "      <th>OpenPorchSF</th>\n",
       "      <th>EnclosedPorch</th>\n",
       "      <th>3SsnPorch</th>\n",
       "      <th>ScreenPorch</th>\n",
       "      <th>PoolArea</th>\n",
       "      <th>MiscVal</th>\n",
       "      <th>MoSold</th>\n",
       "      <th>YrSold</th>\n",
       "      <th>SalePrice</th>\n",
       "    </tr>\n",
       "  </thead>\n",
       "  <tbody>\n",
       "    <tr>\n",
       "      <th>Id</th>\n",
       "      <td>1.000000</td>\n",
       "      <td>-0.033226</td>\n",
       "      <td>-0.012713</td>\n",
       "      <td>-0.021998</td>\n",
       "      <td>-0.005024</td>\n",
       "      <td>-0.005968</td>\n",
       "      <td>-0.007940</td>\n",
       "      <td>-0.015415</td>\n",
       "      <td>0.010496</td>\n",
       "      <td>0.005590</td>\n",
       "      <td>-0.044230</td>\n",
       "      <td>0.008273</td>\n",
       "      <td>0.002289</td>\n",
       "      <td>-0.020155</td>\n",
       "      <td>0.005587</td>\n",
       "      <td>0.006784</td>\n",
       "      <td>0.037719</td>\n",
       "      <td>0.002951</td>\n",
       "      <td>0.027239</td>\n",
       "      <td>-0.019772</td>\n",
       "      <td>0.016570</td>\n",
       "      <td>0.017634</td>\n",
       "      <td>-0.029643</td>\n",
       "      <td>-0.000477</td>\n",
       "      <td>0.002889</td>\n",
       "      <td>-0.046635</td>\n",
       "      <td>0.001330</td>\n",
       "      <td>0.057044</td>\n",
       "      <td>-0.006242</td>\n",
       "      <td>0.021172</td>\n",
       "      <td>0.000712</td>\n",
       "      <td>-0.021917</td>\n",
       "    </tr>\n",
       "    <tr>\n",
       "      <th>LotArea</th>\n",
       "      <td>-0.033226</td>\n",
       "      <td>1.000000</td>\n",
       "      <td>0.014228</td>\n",
       "      <td>0.013788</td>\n",
       "      <td>0.214103</td>\n",
       "      <td>0.111170</td>\n",
       "      <td>-0.002618</td>\n",
       "      <td>0.260833</td>\n",
       "      <td>0.299475</td>\n",
       "      <td>0.050986</td>\n",
       "      <td>0.004779</td>\n",
       "      <td>0.263116</td>\n",
       "      <td>0.158155</td>\n",
       "      <td>0.048046</td>\n",
       "      <td>0.126031</td>\n",
       "      <td>0.014259</td>\n",
       "      <td>0.119690</td>\n",
       "      <td>-0.017784</td>\n",
       "      <td>0.190015</td>\n",
       "      <td>0.271364</td>\n",
       "      <td>0.154871</td>\n",
       "      <td>0.180403</td>\n",
       "      <td>0.171698</td>\n",
       "      <td>0.084774</td>\n",
       "      <td>-0.018340</td>\n",
       "      <td>0.020423</td>\n",
       "      <td>0.043160</td>\n",
       "      <td>0.077672</td>\n",
       "      <td>0.038068</td>\n",
       "      <td>0.001205</td>\n",
       "      <td>-0.014261</td>\n",
       "      <td>0.263843</td>\n",
       "    </tr>\n",
       "    <tr>\n",
       "      <th>YearBuilt</th>\n",
       "      <td>-0.012713</td>\n",
       "      <td>0.014228</td>\n",
       "      <td>1.000000</td>\n",
       "      <td>0.592855</td>\n",
       "      <td>0.249503</td>\n",
       "      <td>-0.049107</td>\n",
       "      <td>0.149040</td>\n",
       "      <td>0.391452</td>\n",
       "      <td>0.281986</td>\n",
       "      <td>0.010308</td>\n",
       "      <td>-0.183784</td>\n",
       "      <td>0.199010</td>\n",
       "      <td>0.187599</td>\n",
       "      <td>-0.038162</td>\n",
       "      <td>0.468271</td>\n",
       "      <td>0.242656</td>\n",
       "      <td>-0.070651</td>\n",
       "      <td>-0.174800</td>\n",
       "      <td>0.095589</td>\n",
       "      <td>0.147716</td>\n",
       "      <td>0.537850</td>\n",
       "      <td>0.478954</td>\n",
       "      <td>0.224880</td>\n",
       "      <td>0.188686</td>\n",
       "      <td>-0.387268</td>\n",
       "      <td>0.031355</td>\n",
       "      <td>-0.050364</td>\n",
       "      <td>0.004950</td>\n",
       "      <td>-0.034383</td>\n",
       "      <td>0.012398</td>\n",
       "      <td>-0.013618</td>\n",
       "      <td>0.522897</td>\n",
       "    </tr>\n",
       "    <tr>\n",
       "      <th>YearRemodAdd</th>\n",
       "      <td>-0.021998</td>\n",
       "      <td>0.013788</td>\n",
       "      <td>0.592855</td>\n",
       "      <td>1.000000</td>\n",
       "      <td>0.128451</td>\n",
       "      <td>-0.067759</td>\n",
       "      <td>0.181133</td>\n",
       "      <td>0.291066</td>\n",
       "      <td>0.240379</td>\n",
       "      <td>0.140024</td>\n",
       "      <td>-0.062419</td>\n",
       "      <td>0.287389</td>\n",
       "      <td>0.119470</td>\n",
       "      <td>-0.012337</td>\n",
       "      <td>0.439046</td>\n",
       "      <td>0.183331</td>\n",
       "      <td>-0.040581</td>\n",
       "      <td>-0.149598</td>\n",
       "      <td>0.191740</td>\n",
       "      <td>0.112581</td>\n",
       "      <td>0.420622</td>\n",
       "      <td>0.371600</td>\n",
       "      <td>0.205726</td>\n",
       "      <td>0.226298</td>\n",
       "      <td>-0.193919</td>\n",
       "      <td>0.045286</td>\n",
       "      <td>-0.038740</td>\n",
       "      <td>0.005829</td>\n",
       "      <td>-0.010286</td>\n",
       "      <td>0.021490</td>\n",
       "      <td>0.035743</td>\n",
       "      <td>0.507101</td>\n",
       "    </tr>\n",
       "    <tr>\n",
       "      <th>BsmtFinSF1</th>\n",
       "      <td>-0.005024</td>\n",
       "      <td>0.214103</td>\n",
       "      <td>0.249503</td>\n",
       "      <td>0.128451</td>\n",
       "      <td>1.000000</td>\n",
       "      <td>-0.050117</td>\n",
       "      <td>-0.495251</td>\n",
       "      <td>0.522396</td>\n",
       "      <td>0.445863</td>\n",
       "      <td>-0.137079</td>\n",
       "      <td>-0.064503</td>\n",
       "      <td>0.208171</td>\n",
       "      <td>0.649212</td>\n",
       "      <td>0.067418</td>\n",
       "      <td>0.058543</td>\n",
       "      <td>0.004262</td>\n",
       "      <td>-0.107355</td>\n",
       "      <td>-0.081007</td>\n",
       "      <td>0.044316</td>\n",
       "      <td>0.260011</td>\n",
       "      <td>0.224054</td>\n",
       "      <td>0.296970</td>\n",
       "      <td>0.204306</td>\n",
       "      <td>0.111761</td>\n",
       "      <td>-0.102303</td>\n",
       "      <td>0.026451</td>\n",
       "      <td>0.062021</td>\n",
       "      <td>0.140491</td>\n",
       "      <td>0.003571</td>\n",
       "      <td>-0.015727</td>\n",
       "      <td>0.014359</td>\n",
       "      <td>0.386420</td>\n",
       "    </tr>\n",
       "    <tr>\n",
       "      <th>BsmtFinSF2</th>\n",
       "      <td>-0.005968</td>\n",
       "      <td>0.111170</td>\n",
       "      <td>-0.049107</td>\n",
       "      <td>-0.067759</td>\n",
       "      <td>-0.050117</td>\n",
       "      <td>1.000000</td>\n",
       "      <td>-0.209294</td>\n",
       "      <td>0.104810</td>\n",
       "      <td>0.097117</td>\n",
       "      <td>-0.099260</td>\n",
       "      <td>0.014807</td>\n",
       "      <td>-0.009640</td>\n",
       "      <td>0.158678</td>\n",
       "      <td>0.070948</td>\n",
       "      <td>-0.076444</td>\n",
       "      <td>-0.032148</td>\n",
       "      <td>-0.015728</td>\n",
       "      <td>-0.040751</td>\n",
       "      <td>-0.035227</td>\n",
       "      <td>0.046921</td>\n",
       "      <td>-0.038264</td>\n",
       "      <td>-0.018227</td>\n",
       "      <td>0.067898</td>\n",
       "      <td>0.003093</td>\n",
       "      <td>0.036543</td>\n",
       "      <td>-0.029993</td>\n",
       "      <td>0.088871</td>\n",
       "      <td>0.041709</td>\n",
       "      <td>0.004940</td>\n",
       "      <td>-0.015211</td>\n",
       "      <td>0.031706</td>\n",
       "      <td>-0.011378</td>\n",
       "    </tr>\n",
       "    <tr>\n",
       "      <th>BsmtUnfSF</th>\n",
       "      <td>-0.007940</td>\n",
       "      <td>-0.002618</td>\n",
       "      <td>0.149040</td>\n",
       "      <td>0.181133</td>\n",
       "      <td>-0.495251</td>\n",
       "      <td>-0.209294</td>\n",
       "      <td>1.000000</td>\n",
       "      <td>0.415360</td>\n",
       "      <td>0.317987</td>\n",
       "      <td>0.004469</td>\n",
       "      <td>0.028167</td>\n",
       "      <td>0.240257</td>\n",
       "      <td>-0.422900</td>\n",
       "      <td>-0.095804</td>\n",
       "      <td>0.288886</td>\n",
       "      <td>-0.041118</td>\n",
       "      <td>0.166643</td>\n",
       "      <td>0.030086</td>\n",
       "      <td>0.250647</td>\n",
       "      <td>0.051575</td>\n",
       "      <td>0.214175</td>\n",
       "      <td>0.183303</td>\n",
       "      <td>-0.005316</td>\n",
       "      <td>0.129005</td>\n",
       "      <td>-0.002538</td>\n",
       "      <td>0.020764</td>\n",
       "      <td>-0.012579</td>\n",
       "      <td>-0.035092</td>\n",
       "      <td>-0.023837</td>\n",
       "      <td>0.034888</td>\n",
       "      <td>-0.041258</td>\n",
       "      <td>0.214479</td>\n",
       "    </tr>\n",
       "    <tr>\n",
       "      <th>TotalBsmtSF</th>\n",
       "      <td>-0.015415</td>\n",
       "      <td>0.260833</td>\n",
       "      <td>0.391452</td>\n",
       "      <td>0.291066</td>\n",
       "      <td>0.522396</td>\n",
       "      <td>0.104810</td>\n",
       "      <td>0.415360</td>\n",
       "      <td>1.000000</td>\n",
       "      <td>0.819530</td>\n",
       "      <td>-0.174512</td>\n",
       "      <td>-0.033245</td>\n",
       "      <td>0.454868</td>\n",
       "      <td>0.307351</td>\n",
       "      <td>-0.000315</td>\n",
       "      <td>0.323722</td>\n",
       "      <td>-0.048804</td>\n",
       "      <td>0.050450</td>\n",
       "      <td>-0.068901</td>\n",
       "      <td>0.285573</td>\n",
       "      <td>0.339519</td>\n",
       "      <td>0.434585</td>\n",
       "      <td>0.486665</td>\n",
       "      <td>0.232019</td>\n",
       "      <td>0.247264</td>\n",
       "      <td>-0.095478</td>\n",
       "      <td>0.037384</td>\n",
       "      <td>0.084489</td>\n",
       "      <td>0.126053</td>\n",
       "      <td>-0.018479</td>\n",
       "      <td>0.013196</td>\n",
       "      <td>-0.014969</td>\n",
       "      <td>0.613581</td>\n",
       "    </tr>\n",
       "    <tr>\n",
       "      <th>1stFlrSF</th>\n",
       "      <td>0.010496</td>\n",
       "      <td>0.299475</td>\n",
       "      <td>0.281986</td>\n",
       "      <td>0.240379</td>\n",
       "      <td>0.445863</td>\n",
       "      <td>0.097117</td>\n",
       "      <td>0.317987</td>\n",
       "      <td>0.819530</td>\n",
       "      <td>1.000000</td>\n",
       "      <td>-0.202646</td>\n",
       "      <td>-0.014241</td>\n",
       "      <td>0.566024</td>\n",
       "      <td>0.244671</td>\n",
       "      <td>0.001956</td>\n",
       "      <td>0.380637</td>\n",
       "      <td>-0.119916</td>\n",
       "      <td>0.127401</td>\n",
       "      <td>0.068101</td>\n",
       "      <td>0.409516</td>\n",
       "      <td>0.410531</td>\n",
       "      <td>0.439317</td>\n",
       "      <td>0.489782</td>\n",
       "      <td>0.235459</td>\n",
       "      <td>0.211671</td>\n",
       "      <td>-0.065292</td>\n",
       "      <td>0.056104</td>\n",
       "      <td>0.088758</td>\n",
       "      <td>0.131525</td>\n",
       "      <td>-0.021096</td>\n",
       "      <td>0.031372</td>\n",
       "      <td>-0.013604</td>\n",
       "      <td>0.605852</td>\n",
       "    </tr>\n",
       "    <tr>\n",
       "      <th>2ndFlrSF</th>\n",
       "      <td>0.005590</td>\n",
       "      <td>0.050986</td>\n",
       "      <td>0.010308</td>\n",
       "      <td>0.140024</td>\n",
       "      <td>-0.137079</td>\n",
       "      <td>-0.099260</td>\n",
       "      <td>0.004469</td>\n",
       "      <td>-0.174512</td>\n",
       "      <td>-0.202646</td>\n",
       "      <td>1.000000</td>\n",
       "      <td>0.063353</td>\n",
       "      <td>0.687501</td>\n",
       "      <td>-0.169494</td>\n",
       "      <td>-0.023855</td>\n",
       "      <td>0.421378</td>\n",
       "      <td>0.609707</td>\n",
       "      <td>0.502901</td>\n",
       "      <td>0.059306</td>\n",
       "      <td>0.616423</td>\n",
       "      <td>0.194561</td>\n",
       "      <td>0.183926</td>\n",
       "      <td>0.138347</td>\n",
       "      <td>0.092165</td>\n",
       "      <td>0.208026</td>\n",
       "      <td>0.061989</td>\n",
       "      <td>-0.024358</td>\n",
       "      <td>0.040606</td>\n",
       "      <td>0.081487</td>\n",
       "      <td>0.016197</td>\n",
       "      <td>0.035164</td>\n",
       "      <td>-0.028700</td>\n",
       "      <td>0.319334</td>\n",
       "    </tr>\n",
       "    <tr>\n",
       "      <th>LowQualFinSF</th>\n",
       "      <td>-0.044230</td>\n",
       "      <td>0.004779</td>\n",
       "      <td>-0.183784</td>\n",
       "      <td>-0.062419</td>\n",
       "      <td>-0.064503</td>\n",
       "      <td>0.014807</td>\n",
       "      <td>0.028167</td>\n",
       "      <td>-0.033245</td>\n",
       "      <td>-0.014241</td>\n",
       "      <td>0.063353</td>\n",
       "      <td>1.000000</td>\n",
       "      <td>0.134683</td>\n",
       "      <td>-0.047143</td>\n",
       "      <td>-0.005842</td>\n",
       "      <td>-0.000710</td>\n",
       "      <td>-0.027080</td>\n",
       "      <td>0.105607</td>\n",
       "      <td>0.007522</td>\n",
       "      <td>0.131185</td>\n",
       "      <td>-0.021272</td>\n",
       "      <td>-0.094480</td>\n",
       "      <td>-0.067601</td>\n",
       "      <td>-0.025444</td>\n",
       "      <td>0.018251</td>\n",
       "      <td>0.061081</td>\n",
       "      <td>-0.004296</td>\n",
       "      <td>0.026799</td>\n",
       "      <td>0.062157</td>\n",
       "      <td>-0.003793</td>\n",
       "      <td>-0.022174</td>\n",
       "      <td>-0.028921</td>\n",
       "      <td>-0.025606</td>\n",
       "    </tr>\n",
       "    <tr>\n",
       "      <th>GrLivArea</th>\n",
       "      <td>0.008273</td>\n",
       "      <td>0.263116</td>\n",
       "      <td>0.199010</td>\n",
       "      <td>0.287389</td>\n",
       "      <td>0.208171</td>\n",
       "      <td>-0.009640</td>\n",
       "      <td>0.240257</td>\n",
       "      <td>0.454868</td>\n",
       "      <td>0.566024</td>\n",
       "      <td>0.687501</td>\n",
       "      <td>0.134683</td>\n",
       "      <td>1.000000</td>\n",
       "      <td>0.034836</td>\n",
       "      <td>-0.018918</td>\n",
       "      <td>0.630012</td>\n",
       "      <td>0.415772</td>\n",
       "      <td>0.521270</td>\n",
       "      <td>0.100063</td>\n",
       "      <td>0.825489</td>\n",
       "      <td>0.461679</td>\n",
       "      <td>0.467247</td>\n",
       "      <td>0.468997</td>\n",
       "      <td>0.247433</td>\n",
       "      <td>0.330224</td>\n",
       "      <td>0.009113</td>\n",
       "      <td>0.020643</td>\n",
       "      <td>0.101510</td>\n",
       "      <td>0.170205</td>\n",
       "      <td>-0.002416</td>\n",
       "      <td>0.050240</td>\n",
       "      <td>-0.036526</td>\n",
       "      <td>0.708624</td>\n",
       "    </tr>\n",
       "    <tr>\n",
       "      <th>BsmtFullBath</th>\n",
       "      <td>0.002289</td>\n",
       "      <td>0.158155</td>\n",
       "      <td>0.187599</td>\n",
       "      <td>0.119470</td>\n",
       "      <td>0.649212</td>\n",
       "      <td>0.158678</td>\n",
       "      <td>-0.422900</td>\n",
       "      <td>0.307351</td>\n",
       "      <td>0.244671</td>\n",
       "      <td>-0.169494</td>\n",
       "      <td>-0.047143</td>\n",
       "      <td>0.034836</td>\n",
       "      <td>1.000000</td>\n",
       "      <td>-0.147871</td>\n",
       "      <td>-0.064512</td>\n",
       "      <td>-0.030905</td>\n",
       "      <td>-0.150673</td>\n",
       "      <td>-0.041503</td>\n",
       "      <td>-0.053275</td>\n",
       "      <td>0.137928</td>\n",
       "      <td>0.131881</td>\n",
       "      <td>0.179189</td>\n",
       "      <td>0.175315</td>\n",
       "      <td>0.067341</td>\n",
       "      <td>-0.049911</td>\n",
       "      <td>-0.000106</td>\n",
       "      <td>0.023148</td>\n",
       "      <td>0.067616</td>\n",
       "      <td>-0.023047</td>\n",
       "      <td>-0.025361</td>\n",
       "      <td>0.067049</td>\n",
       "      <td>0.227122</td>\n",
       "    </tr>\n",
       "    <tr>\n",
       "      <th>BsmtHalfBath</th>\n",
       "      <td>-0.020155</td>\n",
       "      <td>0.048046</td>\n",
       "      <td>-0.038162</td>\n",
       "      <td>-0.012337</td>\n",
       "      <td>0.067418</td>\n",
       "      <td>0.070948</td>\n",
       "      <td>-0.095804</td>\n",
       "      <td>-0.000315</td>\n",
       "      <td>0.001956</td>\n",
       "      <td>-0.023855</td>\n",
       "      <td>-0.005842</td>\n",
       "      <td>-0.018918</td>\n",
       "      <td>-0.147871</td>\n",
       "      <td>1.000000</td>\n",
       "      <td>-0.054536</td>\n",
       "      <td>-0.012340</td>\n",
       "      <td>0.046519</td>\n",
       "      <td>-0.037944</td>\n",
       "      <td>-0.023836</td>\n",
       "      <td>0.028976</td>\n",
       "      <td>-0.020891</td>\n",
       "      <td>-0.024536</td>\n",
       "      <td>0.040161</td>\n",
       "      <td>-0.025324</td>\n",
       "      <td>-0.008555</td>\n",
       "      <td>0.035114</td>\n",
       "      <td>0.032121</td>\n",
       "      <td>0.020025</td>\n",
       "      <td>-0.007367</td>\n",
       "      <td>0.032873</td>\n",
       "      <td>-0.046524</td>\n",
       "      <td>-0.016844</td>\n",
       "    </tr>\n",
       "    <tr>\n",
       "      <th>FullBath</th>\n",
       "      <td>0.005587</td>\n",
       "      <td>0.126031</td>\n",
       "      <td>0.468271</td>\n",
       "      <td>0.439046</td>\n",
       "      <td>0.058543</td>\n",
       "      <td>-0.076444</td>\n",
       "      <td>0.288886</td>\n",
       "      <td>0.323722</td>\n",
       "      <td>0.380637</td>\n",
       "      <td>0.421378</td>\n",
       "      <td>-0.000710</td>\n",
       "      <td>0.630012</td>\n",
       "      <td>-0.064512</td>\n",
       "      <td>-0.054536</td>\n",
       "      <td>1.000000</td>\n",
       "      <td>0.136381</td>\n",
       "      <td>0.363252</td>\n",
       "      <td>0.133115</td>\n",
       "      <td>0.554784</td>\n",
       "      <td>0.243671</td>\n",
       "      <td>0.469672</td>\n",
       "      <td>0.405656</td>\n",
       "      <td>0.187703</td>\n",
       "      <td>0.259977</td>\n",
       "      <td>-0.115093</td>\n",
       "      <td>0.035353</td>\n",
       "      <td>-0.008106</td>\n",
       "      <td>0.049604</td>\n",
       "      <td>-0.014290</td>\n",
       "      <td>0.055872</td>\n",
       "      <td>-0.019669</td>\n",
       "      <td>0.560664</td>\n",
       "    </tr>\n",
       "    <tr>\n",
       "      <th>HalfBath</th>\n",
       "      <td>0.006784</td>\n",
       "      <td>0.014259</td>\n",
       "      <td>0.242656</td>\n",
       "      <td>0.183331</td>\n",
       "      <td>0.004262</td>\n",
       "      <td>-0.032148</td>\n",
       "      <td>-0.041118</td>\n",
       "      <td>-0.048804</td>\n",
       "      <td>-0.119916</td>\n",
       "      <td>0.609707</td>\n",
       "      <td>-0.027080</td>\n",
       "      <td>0.415772</td>\n",
       "      <td>-0.030905</td>\n",
       "      <td>-0.012340</td>\n",
       "      <td>0.136381</td>\n",
       "      <td>1.000000</td>\n",
       "      <td>0.226651</td>\n",
       "      <td>-0.068263</td>\n",
       "      <td>0.343415</td>\n",
       "      <td>0.203649</td>\n",
       "      <td>0.219178</td>\n",
       "      <td>0.163549</td>\n",
       "      <td>0.108080</td>\n",
       "      <td>0.199740</td>\n",
       "      <td>-0.095317</td>\n",
       "      <td>-0.004972</td>\n",
       "      <td>0.072426</td>\n",
       "      <td>0.022381</td>\n",
       "      <td>0.001290</td>\n",
       "      <td>-0.009050</td>\n",
       "      <td>-0.010269</td>\n",
       "      <td>0.284108</td>\n",
       "    </tr>\n",
       "    <tr>\n",
       "      <th>BedroomAbvGr</th>\n",
       "      <td>0.037719</td>\n",
       "      <td>0.119690</td>\n",
       "      <td>-0.070651</td>\n",
       "      <td>-0.040581</td>\n",
       "      <td>-0.107355</td>\n",
       "      <td>-0.015728</td>\n",
       "      <td>0.166643</td>\n",
       "      <td>0.050450</td>\n",
       "      <td>0.127401</td>\n",
       "      <td>0.502901</td>\n",
       "      <td>0.105607</td>\n",
       "      <td>0.521270</td>\n",
       "      <td>-0.150673</td>\n",
       "      <td>0.046519</td>\n",
       "      <td>0.363252</td>\n",
       "      <td>0.226651</td>\n",
       "      <td>1.000000</td>\n",
       "      <td>0.198597</td>\n",
       "      <td>0.676620</td>\n",
       "      <td>0.107570</td>\n",
       "      <td>0.086106</td>\n",
       "      <td>0.065253</td>\n",
       "      <td>0.046854</td>\n",
       "      <td>0.093810</td>\n",
       "      <td>0.041570</td>\n",
       "      <td>-0.024478</td>\n",
       "      <td>0.044300</td>\n",
       "      <td>0.070703</td>\n",
       "      <td>0.007767</td>\n",
       "      <td>0.046544</td>\n",
       "      <td>-0.036014</td>\n",
       "      <td>0.168213</td>\n",
       "    </tr>\n",
       "    <tr>\n",
       "      <th>KitchenAbvGr</th>\n",
       "      <td>0.002951</td>\n",
       "      <td>-0.017784</td>\n",
       "      <td>-0.174800</td>\n",
       "      <td>-0.149598</td>\n",
       "      <td>-0.081007</td>\n",
       "      <td>-0.040751</td>\n",
       "      <td>0.030086</td>\n",
       "      <td>-0.068901</td>\n",
       "      <td>0.068101</td>\n",
       "      <td>0.059306</td>\n",
       "      <td>0.007522</td>\n",
       "      <td>0.100063</td>\n",
       "      <td>-0.041503</td>\n",
       "      <td>-0.037944</td>\n",
       "      <td>0.133115</td>\n",
       "      <td>-0.068263</td>\n",
       "      <td>0.198597</td>\n",
       "      <td>1.000000</td>\n",
       "      <td>0.256045</td>\n",
       "      <td>-0.123936</td>\n",
       "      <td>-0.050634</td>\n",
       "      <td>-0.064433</td>\n",
       "      <td>-0.090130</td>\n",
       "      <td>-0.070091</td>\n",
       "      <td>0.037312</td>\n",
       "      <td>-0.024600</td>\n",
       "      <td>-0.051613</td>\n",
       "      <td>-0.014525</td>\n",
       "      <td>0.062341</td>\n",
       "      <td>0.026589</td>\n",
       "      <td>0.031687</td>\n",
       "      <td>-0.135907</td>\n",
       "    </tr>\n",
       "    <tr>\n",
       "      <th>TotRmsAbvGrd</th>\n",
       "      <td>0.027239</td>\n",
       "      <td>0.190015</td>\n",
       "      <td>0.095589</td>\n",
       "      <td>0.191740</td>\n",
       "      <td>0.044316</td>\n",
       "      <td>-0.035227</td>\n",
       "      <td>0.250647</td>\n",
       "      <td>0.285573</td>\n",
       "      <td>0.409516</td>\n",
       "      <td>0.616423</td>\n",
       "      <td>0.131185</td>\n",
       "      <td>0.825489</td>\n",
       "      <td>-0.053275</td>\n",
       "      <td>-0.023836</td>\n",
       "      <td>0.554784</td>\n",
       "      <td>0.343415</td>\n",
       "      <td>0.676620</td>\n",
       "      <td>0.256045</td>\n",
       "      <td>1.000000</td>\n",
       "      <td>0.326114</td>\n",
       "      <td>0.362289</td>\n",
       "      <td>0.337822</td>\n",
       "      <td>0.165984</td>\n",
       "      <td>0.234192</td>\n",
       "      <td>0.004151</td>\n",
       "      <td>-0.006683</td>\n",
       "      <td>0.059383</td>\n",
       "      <td>0.083757</td>\n",
       "      <td>0.024763</td>\n",
       "      <td>0.036907</td>\n",
       "      <td>-0.034516</td>\n",
       "      <td>0.533723</td>\n",
       "    </tr>\n",
       "    <tr>\n",
       "      <th>Fireplaces</th>\n",
       "      <td>-0.019772</td>\n",
       "      <td>0.271364</td>\n",
       "      <td>0.147716</td>\n",
       "      <td>0.112581</td>\n",
       "      <td>0.260011</td>\n",
       "      <td>0.046921</td>\n",
       "      <td>0.051575</td>\n",
       "      <td>0.339519</td>\n",
       "      <td>0.410531</td>\n",
       "      <td>0.194561</td>\n",
       "      <td>-0.021272</td>\n",
       "      <td>0.461679</td>\n",
       "      <td>0.137928</td>\n",
       "      <td>0.028976</td>\n",
       "      <td>0.243671</td>\n",
       "      <td>0.203649</td>\n",
       "      <td>0.107570</td>\n",
       "      <td>-0.123936</td>\n",
       "      <td>0.326114</td>\n",
       "      <td>1.000000</td>\n",
       "      <td>0.300789</td>\n",
       "      <td>0.269141</td>\n",
       "      <td>0.200019</td>\n",
       "      <td>0.169405</td>\n",
       "      <td>-0.024822</td>\n",
       "      <td>0.011257</td>\n",
       "      <td>0.184530</td>\n",
       "      <td>0.095074</td>\n",
       "      <td>0.001409</td>\n",
       "      <td>0.046357</td>\n",
       "      <td>-0.024096</td>\n",
       "      <td>0.466929</td>\n",
       "    </tr>\n",
       "    <tr>\n",
       "      <th>GarageCars</th>\n",
       "      <td>0.016570</td>\n",
       "      <td>0.154871</td>\n",
       "      <td>0.537850</td>\n",
       "      <td>0.420622</td>\n",
       "      <td>0.224054</td>\n",
       "      <td>-0.038264</td>\n",
       "      <td>0.214175</td>\n",
       "      <td>0.434585</td>\n",
       "      <td>0.439317</td>\n",
       "      <td>0.183926</td>\n",
       "      <td>-0.094480</td>\n",
       "      <td>0.467247</td>\n",
       "      <td>0.131881</td>\n",
       "      <td>-0.020891</td>\n",
       "      <td>0.469672</td>\n",
       "      <td>0.219178</td>\n",
       "      <td>0.086106</td>\n",
       "      <td>-0.050634</td>\n",
       "      <td>0.362289</td>\n",
       "      <td>0.300789</td>\n",
       "      <td>1.000000</td>\n",
       "      <td>0.882475</td>\n",
       "      <td>0.226342</td>\n",
       "      <td>0.213569</td>\n",
       "      <td>-0.151434</td>\n",
       "      <td>0.035765</td>\n",
       "      <td>0.050494</td>\n",
       "      <td>0.020934</td>\n",
       "      <td>-0.043080</td>\n",
       "      <td>0.040522</td>\n",
       "      <td>-0.039117</td>\n",
       "      <td>0.640409</td>\n",
       "    </tr>\n",
       "    <tr>\n",
       "      <th>GarageArea</th>\n",
       "      <td>0.017634</td>\n",
       "      <td>0.180403</td>\n",
       "      <td>0.478954</td>\n",
       "      <td>0.371600</td>\n",
       "      <td>0.296970</td>\n",
       "      <td>-0.018227</td>\n",
       "      <td>0.183303</td>\n",
       "      <td>0.486665</td>\n",
       "      <td>0.489782</td>\n",
       "      <td>0.138347</td>\n",
       "      <td>-0.067601</td>\n",
       "      <td>0.468997</td>\n",
       "      <td>0.179189</td>\n",
       "      <td>-0.024536</td>\n",
       "      <td>0.405656</td>\n",
       "      <td>0.163549</td>\n",
       "      <td>0.065253</td>\n",
       "      <td>-0.064433</td>\n",
       "      <td>0.337822</td>\n",
       "      <td>0.269141</td>\n",
       "      <td>0.882475</td>\n",
       "      <td>1.000000</td>\n",
       "      <td>0.224666</td>\n",
       "      <td>0.241435</td>\n",
       "      <td>-0.121777</td>\n",
       "      <td>0.035087</td>\n",
       "      <td>0.051412</td>\n",
       "      <td>0.061047</td>\n",
       "      <td>-0.027400</td>\n",
       "      <td>0.027974</td>\n",
       "      <td>-0.027378</td>\n",
       "      <td>0.623431</td>\n",
       "    </tr>\n",
       "    <tr>\n",
       "      <th>WoodDeckSF</th>\n",
       "      <td>-0.029643</td>\n",
       "      <td>0.171698</td>\n",
       "      <td>0.224880</td>\n",
       "      <td>0.205726</td>\n",
       "      <td>0.204306</td>\n",
       "      <td>0.067898</td>\n",
       "      <td>-0.005316</td>\n",
       "      <td>0.232019</td>\n",
       "      <td>0.235459</td>\n",
       "      <td>0.092165</td>\n",
       "      <td>-0.025444</td>\n",
       "      <td>0.247433</td>\n",
       "      <td>0.175315</td>\n",
       "      <td>0.040161</td>\n",
       "      <td>0.187703</td>\n",
       "      <td>0.108080</td>\n",
       "      <td>0.046854</td>\n",
       "      <td>-0.090130</td>\n",
       "      <td>0.165984</td>\n",
       "      <td>0.200019</td>\n",
       "      <td>0.226342</td>\n",
       "      <td>0.224666</td>\n",
       "      <td>1.000000</td>\n",
       "      <td>0.058661</td>\n",
       "      <td>-0.125989</td>\n",
       "      <td>-0.032771</td>\n",
       "      <td>-0.074181</td>\n",
       "      <td>0.073378</td>\n",
       "      <td>-0.009551</td>\n",
       "      <td>0.021011</td>\n",
       "      <td>0.022270</td>\n",
       "      <td>0.324413</td>\n",
       "    </tr>\n",
       "    <tr>\n",
       "      <th>OpenPorchSF</th>\n",
       "      <td>-0.000477</td>\n",
       "      <td>0.084774</td>\n",
       "      <td>0.188686</td>\n",
       "      <td>0.226298</td>\n",
       "      <td>0.111761</td>\n",
       "      <td>0.003093</td>\n",
       "      <td>0.129005</td>\n",
       "      <td>0.247264</td>\n",
       "      <td>0.211671</td>\n",
       "      <td>0.208026</td>\n",
       "      <td>0.018251</td>\n",
       "      <td>0.330224</td>\n",
       "      <td>0.067341</td>\n",
       "      <td>-0.025324</td>\n",
       "      <td>0.259977</td>\n",
       "      <td>0.199740</td>\n",
       "      <td>0.093810</td>\n",
       "      <td>-0.070091</td>\n",
       "      <td>0.234192</td>\n",
       "      <td>0.169405</td>\n",
       "      <td>0.213569</td>\n",
       "      <td>0.241435</td>\n",
       "      <td>0.058661</td>\n",
       "      <td>1.000000</td>\n",
       "      <td>-0.093079</td>\n",
       "      <td>-0.005842</td>\n",
       "      <td>0.074304</td>\n",
       "      <td>0.060762</td>\n",
       "      <td>-0.018584</td>\n",
       "      <td>0.071255</td>\n",
       "      <td>-0.057619</td>\n",
       "      <td>0.315856</td>\n",
       "    </tr>\n",
       "    <tr>\n",
       "      <th>EnclosedPorch</th>\n",
       "      <td>0.002889</td>\n",
       "      <td>-0.018340</td>\n",
       "      <td>-0.387268</td>\n",
       "      <td>-0.193919</td>\n",
       "      <td>-0.102303</td>\n",
       "      <td>0.036543</td>\n",
       "      <td>-0.002538</td>\n",
       "      <td>-0.095478</td>\n",
       "      <td>-0.065292</td>\n",
       "      <td>0.061989</td>\n",
       "      <td>0.061081</td>\n",
       "      <td>0.009113</td>\n",
       "      <td>-0.049911</td>\n",
       "      <td>-0.008555</td>\n",
       "      <td>-0.115093</td>\n",
       "      <td>-0.095317</td>\n",
       "      <td>0.041570</td>\n",
       "      <td>0.037312</td>\n",
       "      <td>0.004151</td>\n",
       "      <td>-0.024822</td>\n",
       "      <td>-0.151434</td>\n",
       "      <td>-0.121777</td>\n",
       "      <td>-0.125989</td>\n",
       "      <td>-0.093079</td>\n",
       "      <td>1.000000</td>\n",
       "      <td>-0.037305</td>\n",
       "      <td>-0.082864</td>\n",
       "      <td>0.054203</td>\n",
       "      <td>0.018361</td>\n",
       "      <td>-0.028887</td>\n",
       "      <td>-0.009916</td>\n",
       "      <td>-0.128578</td>\n",
       "    </tr>\n",
       "    <tr>\n",
       "      <th>3SsnPorch</th>\n",
       "      <td>-0.046635</td>\n",
       "      <td>0.020423</td>\n",
       "      <td>0.031355</td>\n",
       "      <td>0.045286</td>\n",
       "      <td>0.026451</td>\n",
       "      <td>-0.029993</td>\n",
       "      <td>0.020764</td>\n",
       "      <td>0.037384</td>\n",
       "      <td>0.056104</td>\n",
       "      <td>-0.024358</td>\n",
       "      <td>-0.004296</td>\n",
       "      <td>0.020643</td>\n",
       "      <td>-0.000106</td>\n",
       "      <td>0.035114</td>\n",
       "      <td>0.035353</td>\n",
       "      <td>-0.004972</td>\n",
       "      <td>-0.024478</td>\n",
       "      <td>-0.024600</td>\n",
       "      <td>-0.006683</td>\n",
       "      <td>0.011257</td>\n",
       "      <td>0.035765</td>\n",
       "      <td>0.035087</td>\n",
       "      <td>-0.032771</td>\n",
       "      <td>-0.005842</td>\n",
       "      <td>-0.037305</td>\n",
       "      <td>1.000000</td>\n",
       "      <td>-0.031436</td>\n",
       "      <td>-0.007992</td>\n",
       "      <td>0.000354</td>\n",
       "      <td>0.029474</td>\n",
       "      <td>0.018645</td>\n",
       "      <td>0.044584</td>\n",
       "    </tr>\n",
       "    <tr>\n",
       "      <th>ScreenPorch</th>\n",
       "      <td>0.001330</td>\n",
       "      <td>0.043160</td>\n",
       "      <td>-0.050364</td>\n",
       "      <td>-0.038740</td>\n",
       "      <td>0.062021</td>\n",
       "      <td>0.088871</td>\n",
       "      <td>-0.012579</td>\n",
       "      <td>0.084489</td>\n",
       "      <td>0.088758</td>\n",
       "      <td>0.040606</td>\n",
       "      <td>0.026799</td>\n",
       "      <td>0.101510</td>\n",
       "      <td>0.023148</td>\n",
       "      <td>0.032121</td>\n",
       "      <td>-0.008106</td>\n",
       "      <td>0.072426</td>\n",
       "      <td>0.044300</td>\n",
       "      <td>-0.051613</td>\n",
       "      <td>0.059383</td>\n",
       "      <td>0.184530</td>\n",
       "      <td>0.050494</td>\n",
       "      <td>0.051412</td>\n",
       "      <td>-0.074181</td>\n",
       "      <td>0.074304</td>\n",
       "      <td>-0.082864</td>\n",
       "      <td>-0.031436</td>\n",
       "      <td>1.000000</td>\n",
       "      <td>0.051307</td>\n",
       "      <td>0.031946</td>\n",
       "      <td>0.023217</td>\n",
       "      <td>0.010694</td>\n",
       "      <td>0.111447</td>\n",
       "    </tr>\n",
       "    <tr>\n",
       "      <th>PoolArea</th>\n",
       "      <td>0.057044</td>\n",
       "      <td>0.077672</td>\n",
       "      <td>0.004950</td>\n",
       "      <td>0.005829</td>\n",
       "      <td>0.140491</td>\n",
       "      <td>0.041709</td>\n",
       "      <td>-0.035092</td>\n",
       "      <td>0.126053</td>\n",
       "      <td>0.131525</td>\n",
       "      <td>0.081487</td>\n",
       "      <td>0.062157</td>\n",
       "      <td>0.170205</td>\n",
       "      <td>0.067616</td>\n",
       "      <td>0.020025</td>\n",
       "      <td>0.049604</td>\n",
       "      <td>0.022381</td>\n",
       "      <td>0.070703</td>\n",
       "      <td>-0.014525</td>\n",
       "      <td>0.083757</td>\n",
       "      <td>0.095074</td>\n",
       "      <td>0.020934</td>\n",
       "      <td>0.061047</td>\n",
       "      <td>0.073378</td>\n",
       "      <td>0.060762</td>\n",
       "      <td>0.054203</td>\n",
       "      <td>-0.007992</td>\n",
       "      <td>0.051307</td>\n",
       "      <td>1.000000</td>\n",
       "      <td>0.029669</td>\n",
       "      <td>-0.033737</td>\n",
       "      <td>-0.059689</td>\n",
       "      <td>0.092404</td>\n",
       "    </tr>\n",
       "    <tr>\n",
       "      <th>MiscVal</th>\n",
       "      <td>-0.006242</td>\n",
       "      <td>0.038068</td>\n",
       "      <td>-0.034383</td>\n",
       "      <td>-0.010286</td>\n",
       "      <td>0.003571</td>\n",
       "      <td>0.004940</td>\n",
       "      <td>-0.023837</td>\n",
       "      <td>-0.018479</td>\n",
       "      <td>-0.021096</td>\n",
       "      <td>0.016197</td>\n",
       "      <td>-0.003793</td>\n",
       "      <td>-0.002416</td>\n",
       "      <td>-0.023047</td>\n",
       "      <td>-0.007367</td>\n",
       "      <td>-0.014290</td>\n",
       "      <td>0.001290</td>\n",
       "      <td>0.007767</td>\n",
       "      <td>0.062341</td>\n",
       "      <td>0.024763</td>\n",
       "      <td>0.001409</td>\n",
       "      <td>-0.043080</td>\n",
       "      <td>-0.027400</td>\n",
       "      <td>-0.009551</td>\n",
       "      <td>-0.018584</td>\n",
       "      <td>0.018361</td>\n",
       "      <td>0.000354</td>\n",
       "      <td>0.031946</td>\n",
       "      <td>0.029669</td>\n",
       "      <td>1.000000</td>\n",
       "      <td>-0.006495</td>\n",
       "      <td>0.004906</td>\n",
       "      <td>-0.021190</td>\n",
       "    </tr>\n",
       "    <tr>\n",
       "      <th>MoSold</th>\n",
       "      <td>0.021172</td>\n",
       "      <td>0.001205</td>\n",
       "      <td>0.012398</td>\n",
       "      <td>0.021490</td>\n",
       "      <td>-0.015727</td>\n",
       "      <td>-0.015211</td>\n",
       "      <td>0.034888</td>\n",
       "      <td>0.013196</td>\n",
       "      <td>0.031372</td>\n",
       "      <td>0.035164</td>\n",
       "      <td>-0.022174</td>\n",
       "      <td>0.050240</td>\n",
       "      <td>-0.025361</td>\n",
       "      <td>0.032873</td>\n",
       "      <td>0.055872</td>\n",
       "      <td>-0.009050</td>\n",
       "      <td>0.046544</td>\n",
       "      <td>0.026589</td>\n",
       "      <td>0.036907</td>\n",
       "      <td>0.046357</td>\n",
       "      <td>0.040522</td>\n",
       "      <td>0.027974</td>\n",
       "      <td>0.021011</td>\n",
       "      <td>0.071255</td>\n",
       "      <td>-0.028887</td>\n",
       "      <td>0.029474</td>\n",
       "      <td>0.023217</td>\n",
       "      <td>-0.033737</td>\n",
       "      <td>-0.006495</td>\n",
       "      <td>1.000000</td>\n",
       "      <td>-0.145721</td>\n",
       "      <td>0.046432</td>\n",
       "    </tr>\n",
       "    <tr>\n",
       "      <th>YrSold</th>\n",
       "      <td>0.000712</td>\n",
       "      <td>-0.014261</td>\n",
       "      <td>-0.013618</td>\n",
       "      <td>0.035743</td>\n",
       "      <td>0.014359</td>\n",
       "      <td>0.031706</td>\n",
       "      <td>-0.041258</td>\n",
       "      <td>-0.014969</td>\n",
       "      <td>-0.013604</td>\n",
       "      <td>-0.028700</td>\n",
       "      <td>-0.028921</td>\n",
       "      <td>-0.036526</td>\n",
       "      <td>0.067049</td>\n",
       "      <td>-0.046524</td>\n",
       "      <td>-0.019669</td>\n",
       "      <td>-0.010269</td>\n",
       "      <td>-0.036014</td>\n",
       "      <td>0.031687</td>\n",
       "      <td>-0.034516</td>\n",
       "      <td>-0.024096</td>\n",
       "      <td>-0.039117</td>\n",
       "      <td>-0.027378</td>\n",
       "      <td>0.022270</td>\n",
       "      <td>-0.057619</td>\n",
       "      <td>-0.009916</td>\n",
       "      <td>0.018645</td>\n",
       "      <td>0.010694</td>\n",
       "      <td>-0.059689</td>\n",
       "      <td>0.004906</td>\n",
       "      <td>-0.145721</td>\n",
       "      <td>1.000000</td>\n",
       "      <td>-0.028923</td>\n",
       "    </tr>\n",
       "    <tr>\n",
       "      <th>SalePrice</th>\n",
       "      <td>-0.021917</td>\n",
       "      <td>0.263843</td>\n",
       "      <td>0.522897</td>\n",
       "      <td>0.507101</td>\n",
       "      <td>0.386420</td>\n",
       "      <td>-0.011378</td>\n",
       "      <td>0.214479</td>\n",
       "      <td>0.613581</td>\n",
       "      <td>0.605852</td>\n",
       "      <td>0.319334</td>\n",
       "      <td>-0.025606</td>\n",
       "      <td>0.708624</td>\n",
       "      <td>0.227122</td>\n",
       "      <td>-0.016844</td>\n",
       "      <td>0.560664</td>\n",
       "      <td>0.284108</td>\n",
       "      <td>0.168213</td>\n",
       "      <td>-0.135907</td>\n",
       "      <td>0.533723</td>\n",
       "      <td>0.466929</td>\n",
       "      <td>0.640409</td>\n",
       "      <td>0.623431</td>\n",
       "      <td>0.324413</td>\n",
       "      <td>0.315856</td>\n",
       "      <td>-0.128578</td>\n",
       "      <td>0.044584</td>\n",
       "      <td>0.111447</td>\n",
       "      <td>0.092404</td>\n",
       "      <td>-0.021190</td>\n",
       "      <td>0.046432</td>\n",
       "      <td>-0.028923</td>\n",
       "      <td>1.000000</td>\n",
       "    </tr>\n",
       "  </tbody>\n",
       "</table>\n",
       "</div>"
      ],
      "text/plain": [
       "                     Id   LotArea  YearBuilt  YearRemodAdd  BsmtFinSF1  \\\n",
       "Id             1.000000 -0.033226  -0.012713     -0.021998   -0.005024   \n",
       "LotArea       -0.033226  1.000000   0.014228      0.013788    0.214103   \n",
       "YearBuilt     -0.012713  0.014228   1.000000      0.592855    0.249503   \n",
       "YearRemodAdd  -0.021998  0.013788   0.592855      1.000000    0.128451   \n",
       "BsmtFinSF1    -0.005024  0.214103   0.249503      0.128451    1.000000   \n",
       "BsmtFinSF2    -0.005968  0.111170  -0.049107     -0.067759   -0.050117   \n",
       "BsmtUnfSF     -0.007940 -0.002618   0.149040      0.181133   -0.495251   \n",
       "TotalBsmtSF   -0.015415  0.260833   0.391452      0.291066    0.522396   \n",
       "1stFlrSF       0.010496  0.299475   0.281986      0.240379    0.445863   \n",
       "2ndFlrSF       0.005590  0.050986   0.010308      0.140024   -0.137079   \n",
       "LowQualFinSF  -0.044230  0.004779  -0.183784     -0.062419   -0.064503   \n",
       "GrLivArea      0.008273  0.263116   0.199010      0.287389    0.208171   \n",
       "BsmtFullBath   0.002289  0.158155   0.187599      0.119470    0.649212   \n",
       "BsmtHalfBath  -0.020155  0.048046  -0.038162     -0.012337    0.067418   \n",
       "FullBath       0.005587  0.126031   0.468271      0.439046    0.058543   \n",
       "HalfBath       0.006784  0.014259   0.242656      0.183331    0.004262   \n",
       "BedroomAbvGr   0.037719  0.119690  -0.070651     -0.040581   -0.107355   \n",
       "KitchenAbvGr   0.002951 -0.017784  -0.174800     -0.149598   -0.081007   \n",
       "TotRmsAbvGrd   0.027239  0.190015   0.095589      0.191740    0.044316   \n",
       "Fireplaces    -0.019772  0.271364   0.147716      0.112581    0.260011   \n",
       "GarageCars     0.016570  0.154871   0.537850      0.420622    0.224054   \n",
       "GarageArea     0.017634  0.180403   0.478954      0.371600    0.296970   \n",
       "WoodDeckSF    -0.029643  0.171698   0.224880      0.205726    0.204306   \n",
       "OpenPorchSF   -0.000477  0.084774   0.188686      0.226298    0.111761   \n",
       "EnclosedPorch  0.002889 -0.018340  -0.387268     -0.193919   -0.102303   \n",
       "3SsnPorch     -0.046635  0.020423   0.031355      0.045286    0.026451   \n",
       "ScreenPorch    0.001330  0.043160  -0.050364     -0.038740    0.062021   \n",
       "PoolArea       0.057044  0.077672   0.004950      0.005829    0.140491   \n",
       "MiscVal       -0.006242  0.038068  -0.034383     -0.010286    0.003571   \n",
       "MoSold         0.021172  0.001205   0.012398      0.021490   -0.015727   \n",
       "YrSold         0.000712 -0.014261  -0.013618      0.035743    0.014359   \n",
       "SalePrice     -0.021917  0.263843   0.522897      0.507101    0.386420   \n",
       "\n",
       "               BsmtFinSF2  BsmtUnfSF  TotalBsmtSF  1stFlrSF  2ndFlrSF  \\\n",
       "Id              -0.005968  -0.007940    -0.015415  0.010496  0.005590   \n",
       "LotArea          0.111170  -0.002618     0.260833  0.299475  0.050986   \n",
       "YearBuilt       -0.049107   0.149040     0.391452  0.281986  0.010308   \n",
       "YearRemodAdd    -0.067759   0.181133     0.291066  0.240379  0.140024   \n",
       "BsmtFinSF1      -0.050117  -0.495251     0.522396  0.445863 -0.137079   \n",
       "BsmtFinSF2       1.000000  -0.209294     0.104810  0.097117 -0.099260   \n",
       "BsmtUnfSF       -0.209294   1.000000     0.415360  0.317987  0.004469   \n",
       "TotalBsmtSF      0.104810   0.415360     1.000000  0.819530 -0.174512   \n",
       "1stFlrSF         0.097117   0.317987     0.819530  1.000000 -0.202646   \n",
       "2ndFlrSF        -0.099260   0.004469    -0.174512 -0.202646  1.000000   \n",
       "LowQualFinSF     0.014807   0.028167    -0.033245 -0.014241  0.063353   \n",
       "GrLivArea       -0.009640   0.240257     0.454868  0.566024  0.687501   \n",
       "BsmtFullBath     0.158678  -0.422900     0.307351  0.244671 -0.169494   \n",
       "BsmtHalfBath     0.070948  -0.095804    -0.000315  0.001956 -0.023855   \n",
       "FullBath        -0.076444   0.288886     0.323722  0.380637  0.421378   \n",
       "HalfBath        -0.032148  -0.041118    -0.048804 -0.119916  0.609707   \n",
       "BedroomAbvGr    -0.015728   0.166643     0.050450  0.127401  0.502901   \n",
       "KitchenAbvGr    -0.040751   0.030086    -0.068901  0.068101  0.059306   \n",
       "TotRmsAbvGrd    -0.035227   0.250647     0.285573  0.409516  0.616423   \n",
       "Fireplaces       0.046921   0.051575     0.339519  0.410531  0.194561   \n",
       "GarageCars      -0.038264   0.214175     0.434585  0.439317  0.183926   \n",
       "GarageArea      -0.018227   0.183303     0.486665  0.489782  0.138347   \n",
       "WoodDeckSF       0.067898  -0.005316     0.232019  0.235459  0.092165   \n",
       "OpenPorchSF      0.003093   0.129005     0.247264  0.211671  0.208026   \n",
       "EnclosedPorch    0.036543  -0.002538    -0.095478 -0.065292  0.061989   \n",
       "3SsnPorch       -0.029993   0.020764     0.037384  0.056104 -0.024358   \n",
       "ScreenPorch      0.088871  -0.012579     0.084489  0.088758  0.040606   \n",
       "PoolArea         0.041709  -0.035092     0.126053  0.131525  0.081487   \n",
       "MiscVal          0.004940  -0.023837    -0.018479 -0.021096  0.016197   \n",
       "MoSold          -0.015211   0.034888     0.013196  0.031372  0.035164   \n",
       "YrSold           0.031706  -0.041258    -0.014969 -0.013604 -0.028700   \n",
       "SalePrice       -0.011378   0.214479     0.613581  0.605852  0.319334   \n",
       "\n",
       "               LowQualFinSF  GrLivArea  BsmtFullBath  BsmtHalfBath  FullBath  \\\n",
       "Id                -0.044230   0.008273      0.002289     -0.020155  0.005587   \n",
       "LotArea            0.004779   0.263116      0.158155      0.048046  0.126031   \n",
       "YearBuilt         -0.183784   0.199010      0.187599     -0.038162  0.468271   \n",
       "YearRemodAdd      -0.062419   0.287389      0.119470     -0.012337  0.439046   \n",
       "BsmtFinSF1        -0.064503   0.208171      0.649212      0.067418  0.058543   \n",
       "BsmtFinSF2         0.014807  -0.009640      0.158678      0.070948 -0.076444   \n",
       "BsmtUnfSF          0.028167   0.240257     -0.422900     -0.095804  0.288886   \n",
       "TotalBsmtSF       -0.033245   0.454868      0.307351     -0.000315  0.323722   \n",
       "1stFlrSF          -0.014241   0.566024      0.244671      0.001956  0.380637   \n",
       "2ndFlrSF           0.063353   0.687501     -0.169494     -0.023855  0.421378   \n",
       "LowQualFinSF       1.000000   0.134683     -0.047143     -0.005842 -0.000710   \n",
       "GrLivArea          0.134683   1.000000      0.034836     -0.018918  0.630012   \n",
       "BsmtFullBath      -0.047143   0.034836      1.000000     -0.147871 -0.064512   \n",
       "BsmtHalfBath      -0.005842  -0.018918     -0.147871      1.000000 -0.054536   \n",
       "FullBath          -0.000710   0.630012     -0.064512     -0.054536  1.000000   \n",
       "HalfBath          -0.027080   0.415772     -0.030905     -0.012340  0.136381   \n",
       "BedroomAbvGr       0.105607   0.521270     -0.150673      0.046519  0.363252   \n",
       "KitchenAbvGr       0.007522   0.100063     -0.041503     -0.037944  0.133115   \n",
       "TotRmsAbvGrd       0.131185   0.825489     -0.053275     -0.023836  0.554784   \n",
       "Fireplaces        -0.021272   0.461679      0.137928      0.028976  0.243671   \n",
       "GarageCars        -0.094480   0.467247      0.131881     -0.020891  0.469672   \n",
       "GarageArea        -0.067601   0.468997      0.179189     -0.024536  0.405656   \n",
       "WoodDeckSF        -0.025444   0.247433      0.175315      0.040161  0.187703   \n",
       "OpenPorchSF        0.018251   0.330224      0.067341     -0.025324  0.259977   \n",
       "EnclosedPorch      0.061081   0.009113     -0.049911     -0.008555 -0.115093   \n",
       "3SsnPorch         -0.004296   0.020643     -0.000106      0.035114  0.035353   \n",
       "ScreenPorch        0.026799   0.101510      0.023148      0.032121 -0.008106   \n",
       "PoolArea           0.062157   0.170205      0.067616      0.020025  0.049604   \n",
       "MiscVal           -0.003793  -0.002416     -0.023047     -0.007367 -0.014290   \n",
       "MoSold            -0.022174   0.050240     -0.025361      0.032873  0.055872   \n",
       "YrSold            -0.028921  -0.036526      0.067049     -0.046524 -0.019669   \n",
       "SalePrice         -0.025606   0.708624      0.227122     -0.016844  0.560664   \n",
       "\n",
       "               HalfBath  BedroomAbvGr  KitchenAbvGr  TotRmsAbvGrd  Fireplaces  \\\n",
       "Id             0.006784      0.037719      0.002951      0.027239   -0.019772   \n",
       "LotArea        0.014259      0.119690     -0.017784      0.190015    0.271364   \n",
       "YearBuilt      0.242656     -0.070651     -0.174800      0.095589    0.147716   \n",
       "YearRemodAdd   0.183331     -0.040581     -0.149598      0.191740    0.112581   \n",
       "BsmtFinSF1     0.004262     -0.107355     -0.081007      0.044316    0.260011   \n",
       "BsmtFinSF2    -0.032148     -0.015728     -0.040751     -0.035227    0.046921   \n",
       "BsmtUnfSF     -0.041118      0.166643      0.030086      0.250647    0.051575   \n",
       "TotalBsmtSF   -0.048804      0.050450     -0.068901      0.285573    0.339519   \n",
       "1stFlrSF      -0.119916      0.127401      0.068101      0.409516    0.410531   \n",
       "2ndFlrSF       0.609707      0.502901      0.059306      0.616423    0.194561   \n",
       "LowQualFinSF  -0.027080      0.105607      0.007522      0.131185   -0.021272   \n",
       "GrLivArea      0.415772      0.521270      0.100063      0.825489    0.461679   \n",
       "BsmtFullBath  -0.030905     -0.150673     -0.041503     -0.053275    0.137928   \n",
       "BsmtHalfBath  -0.012340      0.046519     -0.037944     -0.023836    0.028976   \n",
       "FullBath       0.136381      0.363252      0.133115      0.554784    0.243671   \n",
       "HalfBath       1.000000      0.226651     -0.068263      0.343415    0.203649   \n",
       "BedroomAbvGr   0.226651      1.000000      0.198597      0.676620    0.107570   \n",
       "KitchenAbvGr  -0.068263      0.198597      1.000000      0.256045   -0.123936   \n",
       "TotRmsAbvGrd   0.343415      0.676620      0.256045      1.000000    0.326114   \n",
       "Fireplaces     0.203649      0.107570     -0.123936      0.326114    1.000000   \n",
       "GarageCars     0.219178      0.086106     -0.050634      0.362289    0.300789   \n",
       "GarageArea     0.163549      0.065253     -0.064433      0.337822    0.269141   \n",
       "WoodDeckSF     0.108080      0.046854     -0.090130      0.165984    0.200019   \n",
       "OpenPorchSF    0.199740      0.093810     -0.070091      0.234192    0.169405   \n",
       "EnclosedPorch -0.095317      0.041570      0.037312      0.004151   -0.024822   \n",
       "3SsnPorch     -0.004972     -0.024478     -0.024600     -0.006683    0.011257   \n",
       "ScreenPorch    0.072426      0.044300     -0.051613      0.059383    0.184530   \n",
       "PoolArea       0.022381      0.070703     -0.014525      0.083757    0.095074   \n",
       "MiscVal        0.001290      0.007767      0.062341      0.024763    0.001409   \n",
       "MoSold        -0.009050      0.046544      0.026589      0.036907    0.046357   \n",
       "YrSold        -0.010269     -0.036014      0.031687     -0.034516   -0.024096   \n",
       "SalePrice      0.284108      0.168213     -0.135907      0.533723    0.466929   \n",
       "\n",
       "               GarageCars  GarageArea  WoodDeckSF  OpenPorchSF  EnclosedPorch  \\\n",
       "Id               0.016570    0.017634   -0.029643    -0.000477       0.002889   \n",
       "LotArea          0.154871    0.180403    0.171698     0.084774      -0.018340   \n",
       "YearBuilt        0.537850    0.478954    0.224880     0.188686      -0.387268   \n",
       "YearRemodAdd     0.420622    0.371600    0.205726     0.226298      -0.193919   \n",
       "BsmtFinSF1       0.224054    0.296970    0.204306     0.111761      -0.102303   \n",
       "BsmtFinSF2      -0.038264   -0.018227    0.067898     0.003093       0.036543   \n",
       "BsmtUnfSF        0.214175    0.183303   -0.005316     0.129005      -0.002538   \n",
       "TotalBsmtSF      0.434585    0.486665    0.232019     0.247264      -0.095478   \n",
       "1stFlrSF         0.439317    0.489782    0.235459     0.211671      -0.065292   \n",
       "2ndFlrSF         0.183926    0.138347    0.092165     0.208026       0.061989   \n",
       "LowQualFinSF    -0.094480   -0.067601   -0.025444     0.018251       0.061081   \n",
       "GrLivArea        0.467247    0.468997    0.247433     0.330224       0.009113   \n",
       "BsmtFullBath     0.131881    0.179189    0.175315     0.067341      -0.049911   \n",
       "BsmtHalfBath    -0.020891   -0.024536    0.040161    -0.025324      -0.008555   \n",
       "FullBath         0.469672    0.405656    0.187703     0.259977      -0.115093   \n",
       "HalfBath         0.219178    0.163549    0.108080     0.199740      -0.095317   \n",
       "BedroomAbvGr     0.086106    0.065253    0.046854     0.093810       0.041570   \n",
       "KitchenAbvGr    -0.050634   -0.064433   -0.090130    -0.070091       0.037312   \n",
       "TotRmsAbvGrd     0.362289    0.337822    0.165984     0.234192       0.004151   \n",
       "Fireplaces       0.300789    0.269141    0.200019     0.169405      -0.024822   \n",
       "GarageCars       1.000000    0.882475    0.226342     0.213569      -0.151434   \n",
       "GarageArea       0.882475    1.000000    0.224666     0.241435      -0.121777   \n",
       "WoodDeckSF       0.226342    0.224666    1.000000     0.058661      -0.125989   \n",
       "OpenPorchSF      0.213569    0.241435    0.058661     1.000000      -0.093079   \n",
       "EnclosedPorch   -0.151434   -0.121777   -0.125989    -0.093079       1.000000   \n",
       "3SsnPorch        0.035765    0.035087   -0.032771    -0.005842      -0.037305   \n",
       "ScreenPorch      0.050494    0.051412   -0.074181     0.074304      -0.082864   \n",
       "PoolArea         0.020934    0.061047    0.073378     0.060762       0.054203   \n",
       "MiscVal         -0.043080   -0.027400   -0.009551    -0.018584       0.018361   \n",
       "MoSold           0.040522    0.027974    0.021011     0.071255      -0.028887   \n",
       "YrSold          -0.039117   -0.027378    0.022270    -0.057619      -0.009916   \n",
       "SalePrice        0.640409    0.623431    0.324413     0.315856      -0.128578   \n",
       "\n",
       "               3SsnPorch  ScreenPorch  PoolArea   MiscVal    MoSold    YrSold  \\\n",
       "Id             -0.046635     0.001330  0.057044 -0.006242  0.021172  0.000712   \n",
       "LotArea         0.020423     0.043160  0.077672  0.038068  0.001205 -0.014261   \n",
       "YearBuilt       0.031355    -0.050364  0.004950 -0.034383  0.012398 -0.013618   \n",
       "YearRemodAdd    0.045286    -0.038740  0.005829 -0.010286  0.021490  0.035743   \n",
       "BsmtFinSF1      0.026451     0.062021  0.140491  0.003571 -0.015727  0.014359   \n",
       "BsmtFinSF2     -0.029993     0.088871  0.041709  0.004940 -0.015211  0.031706   \n",
       "BsmtUnfSF       0.020764    -0.012579 -0.035092 -0.023837  0.034888 -0.041258   \n",
       "TotalBsmtSF     0.037384     0.084489  0.126053 -0.018479  0.013196 -0.014969   \n",
       "1stFlrSF        0.056104     0.088758  0.131525 -0.021096  0.031372 -0.013604   \n",
       "2ndFlrSF       -0.024358     0.040606  0.081487  0.016197  0.035164 -0.028700   \n",
       "LowQualFinSF   -0.004296     0.026799  0.062157 -0.003793 -0.022174 -0.028921   \n",
       "GrLivArea       0.020643     0.101510  0.170205 -0.002416  0.050240 -0.036526   \n",
       "BsmtFullBath   -0.000106     0.023148  0.067616 -0.023047 -0.025361  0.067049   \n",
       "BsmtHalfBath    0.035114     0.032121  0.020025 -0.007367  0.032873 -0.046524   \n",
       "FullBath        0.035353    -0.008106  0.049604 -0.014290  0.055872 -0.019669   \n",
       "HalfBath       -0.004972     0.072426  0.022381  0.001290 -0.009050 -0.010269   \n",
       "BedroomAbvGr   -0.024478     0.044300  0.070703  0.007767  0.046544 -0.036014   \n",
       "KitchenAbvGr   -0.024600    -0.051613 -0.014525  0.062341  0.026589  0.031687   \n",
       "TotRmsAbvGrd   -0.006683     0.059383  0.083757  0.024763  0.036907 -0.034516   \n",
       "Fireplaces      0.011257     0.184530  0.095074  0.001409  0.046357 -0.024096   \n",
       "GarageCars      0.035765     0.050494  0.020934 -0.043080  0.040522 -0.039117   \n",
       "GarageArea      0.035087     0.051412  0.061047 -0.027400  0.027974 -0.027378   \n",
       "WoodDeckSF     -0.032771    -0.074181  0.073378 -0.009551  0.021011  0.022270   \n",
       "OpenPorchSF    -0.005842     0.074304  0.060762 -0.018584  0.071255 -0.057619   \n",
       "EnclosedPorch  -0.037305    -0.082864  0.054203  0.018361 -0.028887 -0.009916   \n",
       "3SsnPorch       1.000000    -0.031436 -0.007992  0.000354  0.029474  0.018645   \n",
       "ScreenPorch    -0.031436     1.000000  0.051307  0.031946  0.023217  0.010694   \n",
       "PoolArea       -0.007992     0.051307  1.000000  0.029669 -0.033737 -0.059689   \n",
       "MiscVal         0.000354     0.031946  0.029669  1.000000 -0.006495  0.004906   \n",
       "MoSold          0.029474     0.023217 -0.033737 -0.006495  1.000000 -0.145721   \n",
       "YrSold          0.018645     0.010694 -0.059689  0.004906 -0.145721  1.000000   \n",
       "SalePrice       0.044584     0.111447  0.092404 -0.021190  0.046432 -0.028923   \n",
       "\n",
       "               SalePrice  \n",
       "Id             -0.021917  \n",
       "LotArea         0.263843  \n",
       "YearBuilt       0.522897  \n",
       "YearRemodAdd    0.507101  \n",
       "BsmtFinSF1      0.386420  \n",
       "BsmtFinSF2     -0.011378  \n",
       "BsmtUnfSF       0.214479  \n",
       "TotalBsmtSF     0.613581  \n",
       "1stFlrSF        0.605852  \n",
       "2ndFlrSF        0.319334  \n",
       "LowQualFinSF   -0.025606  \n",
       "GrLivArea       0.708624  \n",
       "BsmtFullBath    0.227122  \n",
       "BsmtHalfBath   -0.016844  \n",
       "FullBath        0.560664  \n",
       "HalfBath        0.284108  \n",
       "BedroomAbvGr    0.168213  \n",
       "KitchenAbvGr   -0.135907  \n",
       "TotRmsAbvGrd    0.533723  \n",
       "Fireplaces      0.466929  \n",
       "GarageCars      0.640409  \n",
       "GarageArea      0.623431  \n",
       "WoodDeckSF      0.324413  \n",
       "OpenPorchSF     0.315856  \n",
       "EnclosedPorch  -0.128578  \n",
       "3SsnPorch       0.044584  \n",
       "ScreenPorch     0.111447  \n",
       "PoolArea        0.092404  \n",
       "MiscVal        -0.021190  \n",
       "MoSold          0.046432  \n",
       "YrSold         -0.028923  \n",
       "SalePrice       1.000000  "
      ]
     },
     "execution_count": 103,
     "metadata": {},
     "output_type": "execute_result"
    }
   ],
   "source": [
    "# Checking the Correlation\n",
    "df1.corr()"
   ]
  },
  {
   "cell_type": "code",
   "execution_count": 104,
   "metadata": {},
   "outputs": [
    {
     "data": {
      "text/plain": [
       "Text(0.5, 1.0, 'Correlation between attributes in the dataset')"
      ]
     },
     "execution_count": 104,
     "metadata": {},
     "output_type": "execute_result"
    },
    {
     "data": {
      "image/png": "[encoded data removed]",
      "text/plain": [
       "<Figure size 2160x1296 with 2 Axes>"
      ]
     },
     "metadata": {
      "needs_background": "light"
     },
     "output_type": "display_data"
    }
   ],
   "source": [
    "##Creating a Annotted Heatmap using corr() to find correlation between variables present in the DataFrame\n",
    "##Setting the figsize as 21,9 for the graph to fit in the screen more efficiently\n",
    "fig, ax = plt.subplots(figsize=(30,18))\n",
    "##Plotting the heatmap to check correlation\n",
    "corr=df1.corr()\n",
    "sns.heatmap(corr[(corr >= 0.75) | (corr <= -0.75)], vmax=.8, linewidths=0.01,\n",
    "            square=True,annot=True,cmap='GnBu',linecolor=\"white\",\n",
    "           annot_kws={\"fontsize\":8})\n",
    "plt.title('Correlation between attributes in the dataset')\n",
    "#plt.show()"
   ]
  },
  {
   "cell_type": "markdown",
   "metadata": {},
   "source": [
    "Lets check if there are any Missing values in our Dataset using : isna() or isnull()"
   ]
  },
  {
   "cell_type": "code",
   "execution_count": 105,
   "metadata": {},
   "outputs": [
    {
     "data": {
      "image/png": "[encoded data removed]",
      "text/plain": [
       "<Figure size 1512x648 with 1 Axes>"
      ]
     },
     "metadata": {
      "needs_background": "light"
     },
     "output_type": "display_data"
    }
   ],
   "source": [
    "##Setting the figsize as 21,9 for the graph to fit in the screen more efficiently\n",
    "fig, ax = plt.subplots(figsize=(21,9))\n",
    "#Plotting the heatmap to check Missing Values\n",
    "sns.heatmap(df1.isna(),cbar=False,cmap=\"Blues\")\n",
    "plt.show()"
   ]
  },
  {
   "cell_type": "markdown",
   "metadata": {},
   "source": [
    "<a id='log_reg'></a>\n",
    "# 4. Logistic Regression"
   ]
  },
  {
   "cell_type": "markdown",
   "metadata": {},
   "source": [
    "<a id='prep_data'></a>\n",
    "## 4.1 Preparation of Datasets"
   ]
  },
  {
   "cell_type": "code",
   "execution_count": 106,
   "metadata": {},
   "outputs": [],
   "source": [
    "#Storing categorized and numerical variables in different variables\n",
    "df_cat=df1.select_dtypes(include=['object'])\n",
    "df_num=df1.select_dtypes(exclude=['object'])"
   ]
  },
  {
   "cell_type": "code",
   "execution_count": 107,
   "metadata": {},
   "outputs": [],
   "source": [
    "#Performing N-1 Dummy Encoding on categorized variables\n",
    "df_cat_n=pd.get_dummies(df_cat,drop_first=True)"
   ]
  },
  {
   "cell_type": "code",
   "execution_count": 108,
   "metadata": {},
   "outputs": [],
   "source": [
    "#Merging the two variables having numerical and n-1 categorised variables together\n",
    "df_merge=pd.concat([df_num,df_cat_n],axis=1)\n",
    "\n",
    "#Adding a Constant variable\n",
    "df_merge=sm.add_constant(df_merge)"
   ]
  },
  {
   "cell_type": "code",
   "execution_count": 109,
   "metadata": {},
   "outputs": [],
   "source": [
    "#Creating Target and Independent variables\n",
    "df_target=df_merge['SalePrice']\n",
    "df_ind=df_merge.drop(['SalePrice'], axis=1)"
   ]
  },
  {
   "cell_type": "code",
   "execution_count": 110,
   "metadata": {},
   "outputs": [],
   "source": [
    "#Splitting Data into Training and Testing Data\n",
    "x_train,x_test,y_train,y_test=train_test_split(df_ind, df_target, test_size=0.1, random_state=123)"
   ]
  },
  {
   "cell_type": "code",
   "execution_count": 114,
   "metadata": {},
   "outputs": [
    {
     "name": "stdout",
     "output_type": "stream",
     "text": [
      "x_train  (1314, 218)\n",
      "x_test  (146, 218)\n",
      "y_train  (1314,)\n",
      "y_test  (146,)\n"
     ]
    }
   ],
   "source": [
    "print(\"x_train \",x_train.shape)\n",
    "print(\"x_test \",x_test.shape)\n",
    "print(\"y_train \",y_train.shape)\n",
    "print(\"y_test \",y_test.shape)"
   ]
  },
  {
   "cell_type": "markdown",
   "metadata": {},
   "source": [
    "<a id='base_model'></a>\n",
    "## 4.2 Building Logistic Regression Base Model"
   ]
  },
  {
   "cell_type": "code",
   "execution_count": 115,
   "metadata": {
    "scrolled": true
   },
   "outputs": [
    {
     "ename": "ValueError",
     "evalue": "endog must be in the unit interval.",
     "output_type": "error",
     "traceback": [
      "\u001b[1;31m---------------------------------------------------------------------------\u001b[0m",
      "\u001b[1;31mValueError\u001b[0m                                Traceback (most recent call last)",
      "\u001b[1;32m<ipython-input-115-a6789c494ee1>\u001b[0m in \u001b[0;36m<module>\u001b[1;34m\u001b[0m\n\u001b[0;32m      1\u001b[0m \u001b[1;31m#Building Model\u001b[0m\u001b[1;33m\u001b[0m\u001b[1;33m\u001b[0m\u001b[1;33m\u001b[0m\u001b[0m\n\u001b[1;32m----> 2\u001b[1;33m \u001b[0mmodel\u001b[0m \u001b[1;33m=\u001b[0m \u001b[0msm\u001b[0m\u001b[1;33m.\u001b[0m\u001b[0mLogit\u001b[0m\u001b[1;33m(\u001b[0m\u001b[0my_train\u001b[0m\u001b[1;33m,\u001b[0m\u001b[0mx_train\u001b[0m\u001b[1;33m)\u001b[0m\u001b[1;33m.\u001b[0m\u001b[0mfit\u001b[0m\u001b[1;33m(\u001b[0m\u001b[1;33m)\u001b[0m\u001b[1;33m\u001b[0m\u001b[1;33m\u001b[0m\u001b[0m\n\u001b[0m\u001b[0;32m      3\u001b[0m \u001b[1;33m\u001b[0m\u001b[0m\n\u001b[0;32m      4\u001b[0m \u001b[0mmodel\u001b[0m \u001b[1;33m=\u001b[0m \u001b[0mmodel\u001b[0m\u001b[1;33m\u001b[0m\u001b[1;33m\u001b[0m\u001b[0m\n\u001b[0;32m      5\u001b[0m \u001b[0mmodel\u001b[0m\u001b[1;33m.\u001b[0m\u001b[0msummary\u001b[0m\u001b[1;33m(\u001b[0m\u001b[1;33m)\u001b[0m\u001b[1;33m\u001b[0m\u001b[1;33m\u001b[0m\u001b[0m\n",
      "\u001b[1;32mC:\\ProgramData\\Anaconda3\\lib\\site-packages\\statsmodels\\discrete\\discrete_model.py\u001b[0m in \u001b[0;36m__init__\u001b[1;34m(self, endog, exog, **kwargs)\u001b[0m\n\u001b[0;32m    435\u001b[0m         if (not issubclass(self.__class__, MultinomialModel) and\n\u001b[0;32m    436\u001b[0m                 not np.all((self.endog >= 0) & (self.endog <= 1))):\n\u001b[1;32m--> 437\u001b[1;33m             \u001b[1;32mraise\u001b[0m \u001b[0mValueError\u001b[0m\u001b[1;33m(\u001b[0m\u001b[1;34m\"endog must be in the unit interval.\"\u001b[0m\u001b[1;33m)\u001b[0m\u001b[1;33m\u001b[0m\u001b[1;33m\u001b[0m\u001b[0m\n\u001b[0m\u001b[0;32m    438\u001b[0m \u001b[1;33m\u001b[0m\u001b[0m\n\u001b[0;32m    439\u001b[0m \u001b[1;33m\u001b[0m\u001b[0m\n",
      "\u001b[1;31mValueError\u001b[0m: endog must be in the unit interval."
     ]
    }
   ],
   "source": [
    "#Building Model\n",
    "model = sm.Logit(y_train,x_train).fit()\n",
    "\n",
    "model = model\n",
    "model.summary()"
   ]
  },
  {
   "cell_type": "code",
   "execution_count": 45,
   "metadata": {},
   "outputs": [
    {
     "ename": "NameError",
     "evalue": "name 'model1' is not defined",
     "output_type": "error",
     "traceback": [
      "\u001b[1;31m---------------------------------------------------------------------------\u001b[0m",
      "\u001b[1;31mNameError\u001b[0m                                 Traceback (most recent call last)",
      "\u001b[1;32m<ipython-input-45-f98e48c43350>\u001b[0m in \u001b[0;36m<module>\u001b[1;34m\u001b[0m\n\u001b[0;32m      1\u001b[0m \u001b[1;31m# Predict values using test data\u001b[0m\u001b[1;33m\u001b[0m\u001b[1;33m\u001b[0m\u001b[1;33m\u001b[0m\u001b[0m\n\u001b[1;32m----> 2\u001b[1;33m \u001b[0my_pred\u001b[0m \u001b[1;33m=\u001b[0m \u001b[0mmodel1\u001b[0m\u001b[1;33m.\u001b[0m\u001b[0mpredict\u001b[0m\u001b[1;33m(\u001b[0m\u001b[0mx_test\u001b[0m\u001b[1;33m)\u001b[0m\u001b[1;33m\u001b[0m\u001b[1;33m\u001b[0m\u001b[0m\n\u001b[0m",
      "\u001b[1;31mNameError\u001b[0m: name 'model1' is not defined"
     ]
    }
   ],
   "source": [
    "# Predict values using test data\n",
    "y_pred1 = model1.predict(x_test)"
   ]
  },
  {
   "cell_type": "code",
   "execution_count": 46,
   "metadata": {},
   "outputs": [
    {
     "ename": "NameError",
     "evalue": "name 'y_pred' is not defined",
     "output_type": "error",
     "traceback": [
      "\u001b[1;31m---------------------------------------------------------------------------\u001b[0m",
      "\u001b[1;31mNameError\u001b[0m                                 Traceback (most recent call last)",
      "\u001b[1;32m<ipython-input-46-90ac5cc93109>\u001b[0m in \u001b[0;36m<module>\u001b[1;34m\u001b[0m\n\u001b[0;32m      1\u001b[0m \u001b[1;31m# Making y_pred as DataFrame\u001b[0m\u001b[1;33m\u001b[0m\u001b[1;33m\u001b[0m\u001b[1;33m\u001b[0m\u001b[0m\n\u001b[1;32m----> 2\u001b[1;33m \u001b[0mpredicted_df\u001b[0m \u001b[1;33m=\u001b[0m \u001b[0mpd\u001b[0m\u001b[1;33m.\u001b[0m\u001b[0mDataFrame\u001b[0m\u001b[1;33m(\u001b[0m\u001b[0my_pred\u001b[0m\u001b[1;33m)\u001b[0m\u001b[1;33m\u001b[0m\u001b[1;33m\u001b[0m\u001b[0m\n\u001b[0m\u001b[0;32m      3\u001b[0m \u001b[0mpredicted_df\u001b[0m\u001b[1;33m.\u001b[0m\u001b[0mhead\u001b[0m\u001b[1;33m(\u001b[0m\u001b[1;36m5\u001b[0m\u001b[1;33m)\u001b[0m\u001b[1;33m\u001b[0m\u001b[1;33m\u001b[0m\u001b[0m\n",
      "\u001b[1;31mNameError\u001b[0m: name 'y_pred' is not defined"
     ]
    }
   ],
   "source": [
    "# Making y_pred as a DataFrame\n",
    "predicted_df = pd.DataFrame(y_pred1)"
   ]
  },
  {
   "cell_type": "code",
   "execution_count": 183,
   "metadata": {},
   "outputs": [
    {
     "data": {
      "text/html": [
       "<div>\n",
       "<style scoped>\n",
       "    .dataframe tbody tr th:only-of-type {\n",
       "        vertical-align: middle;\n",
       "    }\n",
       "\n",
       "    .dataframe tbody tr th {\n",
       "        vertical-align: top;\n",
       "    }\n",
       "\n",
       "    .dataframe thead th {\n",
       "        text-align: right;\n",
       "    }\n",
       "</style>\n",
       "<table border=\"1\" class=\"dataframe\">\n",
       "  <thead>\n",
       "    <tr style=\"text-align: right;\">\n",
       "      <th></th>\n",
       "      <th>0</th>\n",
       "      <th>Predicted_Class</th>\n",
       "    </tr>\n",
       "  </thead>\n",
       "  <tbody>\n",
       "    <tr>\n",
       "      <th>993</th>\n",
       "      <td>0.841483</td>\n",
       "      <td>1</td>\n",
       "    </tr>\n",
       "    <tr>\n",
       "      <th>859</th>\n",
       "      <td>0.489402</td>\n",
       "      <td>0</td>\n",
       "    </tr>\n",
       "    <tr>\n",
       "      <th>298</th>\n",
       "      <td>0.878734</td>\n",
       "      <td>1</td>\n",
       "    </tr>\n",
       "    <tr>\n",
       "      <th>553</th>\n",
       "      <td>0.945764</td>\n",
       "      <td>1</td>\n",
       "    </tr>\n",
       "    <tr>\n",
       "      <th>672</th>\n",
       "      <td>0.488180</td>\n",
       "      <td>0</td>\n",
       "    </tr>\n",
       "  </tbody>\n",
       "</table>\n",
       "</div>"
      ],
      "text/plain": [
       "            0  Predicted_Class\n",
       "993  0.841483                1\n",
       "859  0.489402                0\n",
       "298  0.878734                1\n",
       "553  0.945764                1\n",
       "672  0.488180                0"
      ]
     },
     "execution_count": 183,
     "metadata": {},
     "output_type": "execute_result"
    }
   ],
   "source": [
    "# converting the predicted class data into 0 and 1 based on threshold value of 0.5\n",
    "predicted_df['Predicted_Class'] = np.where(predicted_df[0]>= 0.50,1,0)"
   ]
  },
  {
   "cell_type": "markdown",
   "metadata": {},
   "source": [
    "### Model Accuracy\n",
    "We will calculate the model accuracy on the test dataset using ‘score’ function."
   ]
  },
  {
   "cell_type": "code",
   "execution_count": 184,
   "metadata": {},
   "outputs": [
    {
     "name": "stdout",
     "output_type": "stream",
     "text": [
      "0.74\n"
     ]
    }
   ],
   "source": [
    "# Checking the accuracy with test data\n",
    "from sklearn.metrics import accuracy_score\n",
    "print(accuracy_score(y_test, predicted_df['Predicted_Class']))"
   ]
  },
  {
   "cell_type": "markdown",
   "metadata": {},
   "source": [
    "# Evaluate The Model\n",
    "## Confusion Matrix\n",
    "The Confusion matrix is used to describe the performance of classification model on a set of test dataset for which the true values are known. We will calculate the confusion matrix using ‘confusion_matrix’ function.\n",
    "\n",
    "![](https://tatwan.github.io/images/mock.png)\n",
    "\n",
    "* TN = True Negative\n",
    "* FN = False Negative\n",
    "* FP = False Positive\n",
    "* TP = True Positive"
   ]
  },
  {
   "cell_type": "code",
   "execution_count": 185,
   "metadata": {},
   "outputs": [
    {
     "data": {
      "text/plain": [
       "array([ 37,  63,  15, 185], dtype=int64)"
      ]
     },
     "execution_count": 185,
     "metadata": {},
     "output_type": "execute_result"
    }
   ],
   "source": [
    "# Confusion Matrix \n",
    "from sklearn.metrics import confusion_matrix\n",
    "confusion_matrix = confusion_matrix(y_test, predicted_df['Predicted_Class']).ravel()\n",
    "confusion_matrix"
   ]
  },
  {
   "cell_type": "markdown",
   "metadata": {},
   "source": [
    "The results from the confusion matrix are telling us that 37 and 185 are the number of correct predictions. 63 and 15 are the number of incorrect predictions.\n",
    "# Classification Report\n",
    "This is another method to examine the performance of classification model."
   ]
  },
  {
   "cell_type": "code",
   "execution_count": 186,
   "metadata": {},
   "outputs": [
    {
     "name": "stdout",
     "output_type": "stream",
     "text": [
      "             precision    recall  f1-score   support\n",
      "\n",
      "          0       0.71      0.37      0.49       100\n",
      "          1       0.75      0.93      0.83       200\n",
      "\n",
      "avg / total       0.73      0.74      0.71       300\n",
      "\n"
     ]
    }
   ],
   "source": [
    "from sklearn.metrics import classification_report\n",
    "\n",
    "print(classification_report(y_test, predicted_df['Predicted_Class']))"
   ]
  },
  {
   "cell_type": "markdown",
   "metadata": {},
   "source": [
    "The f1-score tells you the accuracy of the classifier in classifying the data points in that particular class compared to all other class. It is calculated by taking the harmonic mean of precision and recall. The support is the number of samples of the true response that lies in that class.\n",
    "\n",
    "# ROC Curve\n",
    "The ROC curve as well as the area under the ROC curve (AUC). The ROC curve is a simple plot that shows the tradeoff between the true positive rate and the false positive rate of a classifier for various choices of the probability threshold. \n",
    "![](http://gim.unmc.edu/dxtests/roccomp.jpg)\n",
    "Here we see three ROC curves that are labelled as 'Excellent', 'Good', and 'Worthless'. These represent the results of three different classifiers of various usefulness. The x-axis show the false positive rate (FPR) from 0 to 1 and the y-axis shows the true positive rate (TPR) from 0 to 1. The plotted lines show, for various cutpoints or choices of threshold, what the these rates are. The closer the curve gets to the top left corner the better the classifier. Notice that a perfect classifier would yield a true positive rate of 1 and a false positive rate of 0. In such an ideal case, the ROC curve would be a straight line from (0,0) to (0,1) and a horizontal line from (0,1) to (1,1). This is why the area under the curve is used as a singular measure for assessing the usefulness of a classifier."
   ]
  },
  {
   "cell_type": "code",
   "execution_count": 187,
   "metadata": {},
   "outputs": [
    {
     "data": {
      "image/png": "[encoded data removed]",
      "text/plain": [
       "<Figure size 432x288 with 1 Axes>"
      ]
     },
     "metadata": {},
     "output_type": "display_data"
    }
   ],
   "source": [
    "y_pred_prob = model1.predict(x_test)\n",
    "\n",
    "from sklearn.metrics import roc_curve\n",
    "# Generate ROC curve values: fpr, tpr, thresholds\n",
    "fpr, tpr, thresholds = roc_curve(y_test, y_pred_prob)\n",
    "\n",
    "# Plot ROC curve\n",
    "plt.plot([0, 1], [0, 1], 'k--')\n",
    "plt.plot(fpr, tpr)\n",
    "plt.xlabel('False Positive Rate')\n",
    "plt.ylabel('True Positive Rate')\n",
    "plt.title('ROC Curve')\n",
    "plt.show()"
   ]
  },
  {
   "cell_type": "code",
   "execution_count": 188,
   "metadata": {},
   "outputs": [
    {
     "data": {
      "text/plain": [
       "0.64749999999999996"
      ]
     },
     "execution_count": 188,
     "metadata": {},
     "output_type": "execute_result"
    }
   ],
   "source": [
    "# AUC\n",
    "from sklearn.metrics import roc_auc_score\n",
    "roc_auc_score(y_test, predicted_df['Predicted_Class'])"
   ]
  },
  {
   "cell_type": "code",
   "execution_count": 75,
   "metadata": {},
   "outputs": [
    {
     "ename": "NameError",
     "evalue": "name 'model1' is not defined",
     "output_type": "error",
     "traceback": [
      "\u001b[1;31m---------------------------------------------------------------------------\u001b[0m",
      "\u001b[1;31mNameError\u001b[0m                                 Traceback (most recent call last)",
      "\u001b[1;32m<ipython-input-75-63afc35a6895>\u001b[0m in \u001b[0;36m<module>\u001b[1;34m\u001b[0m\n\u001b[0;32m      3\u001b[0m \u001b[1;33m\u001b[0m\u001b[0m\n\u001b[0;32m      4\u001b[0m model_1 = pd.Series({'Model': \"Model 1\",\n\u001b[1;32m----> 5\u001b[1;33m                   \u001b[1;34m'R-Squared Value'\u001b[0m\u001b[1;33m:\u001b[0m \u001b[0mmodel1\u001b[0m\u001b[1;33m.\u001b[0m\u001b[0mprsquared\u001b[0m\u001b[1;33m,\u001b[0m\u001b[1;33m\u001b[0m\u001b[1;33m\u001b[0m\u001b[0m\n\u001b[0m\u001b[0;32m      6\u001b[0m                  \u001b[1;34m'ROC Score'\u001b[0m \u001b[1;33m:\u001b[0m \u001b[0mmetrics\u001b[0m\u001b[1;33m.\u001b[0m\u001b[0mroc_auc_score\u001b[0m\u001b[1;33m(\u001b[0m\u001b[0my_test\u001b[0m\u001b[1;33m,\u001b[0m \u001b[0mpredicted_df\u001b[0m\u001b[1;33m[\u001b[0m\u001b[1;34m'Predicted_Class'\u001b[0m\u001b[1;33m]\u001b[0m\u001b[1;33m)\u001b[0m\u001b[1;33m,\u001b[0m\u001b[1;33m\u001b[0m\u001b[1;33m\u001b[0m\u001b[0m\n\u001b[0;32m      7\u001b[0m                  \u001b[1;34m'Precision Score'\u001b[0m\u001b[1;33m:\u001b[0m \u001b[0mmetrics\u001b[0m\u001b[1;33m.\u001b[0m\u001b[0mprecision_score\u001b[0m\u001b[1;33m(\u001b[0m\u001b[0my_test\u001b[0m\u001b[1;33m,\u001b[0m \u001b[0mpredicted_df\u001b[0m\u001b[1;33m[\u001b[0m\u001b[1;34m'Predicted_Class'\u001b[0m\u001b[1;33m]\u001b[0m\u001b[1;33m)\u001b[0m\u001b[1;33m,\u001b[0m\u001b[1;33m\u001b[0m\u001b[1;33m\u001b[0m\u001b[0m\n",
      "\u001b[1;31mNameError\u001b[0m: name 'model1' is not defined"
     ]
    }
   ],
   "source": [
    "cols = ['Model','R-Squared Value','ROC Score', 'Precision Score', 'Recall Score','Accuracy Score','Model Description']\n",
    "df_models = pd.DataFrame(columns = cols)\n",
    "\n",
    "model_1 = pd.Series({'Model': \"Model 1\",\n",
    "                  'R-Squared Value': model1.prsquared,\n",
    "                 'ROC Score' : metrics.roc_auc_score(y_test, predicted_df['Predicted_Class']),\n",
    "                 'Precision Score': metrics.precision_score(y_test, predicted_df['Predicted_Class']),\n",
    "                 'Recall Score': metrics.recall_score(y_test, predicted_df['Predicted_Class']),\n",
    "                 'Accuracy Score': metrics.accuracy_score(y_test, predicted_df['Predicted_Class']),\n",
    "                 'Model Decription': \"Logistic Regression Base Model\"})\n",
    "\n",
    "model1_report = df_models.append(model_1, ignore_index = True)\n",
    "model1_report"
   ]
  },
  {
   "cell_type": "markdown",
   "metadata": {},
   "source": [
    "Creating Model with the above DataFrame created so far"
   ]
  },
  {
   "cell_type": "code",
   "execution_count": 24,
   "metadata": {},
   "outputs": [
    {
     "ename": "ValueError",
     "evalue": "endog must be in the unit interval.",
     "output_type": "error",
     "traceback": [
      "\u001b[1;31m---------------------------------------------------------------------------\u001b[0m",
      "\u001b[1;31mValueError\u001b[0m                                Traceback (most recent call last)",
      "\u001b[1;32m<ipython-input-24-f45a3122276d>\u001b[0m in \u001b[0;36m<module>\u001b[1;34m\u001b[0m\n\u001b[0;32m     20\u001b[0m \u001b[1;33m\u001b[0m\u001b[0m\n\u001b[0;32m     21\u001b[0m \u001b[1;31m#Displaying the final Model Summary\u001b[0m\u001b[1;33m\u001b[0m\u001b[1;33m\u001b[0m\u001b[1;33m\u001b[0m\u001b[0m\n\u001b[1;32m---> 22\u001b[1;33m \u001b[0mmodel\u001b[0m \u001b[1;33m=\u001b[0m \u001b[0msm\u001b[0m\u001b[1;33m.\u001b[0m\u001b[0mLogit\u001b[0m\u001b[1;33m(\u001b[0m\u001b[0my_train\u001b[0m\u001b[1;33m,\u001b[0m\u001b[0mx_train\u001b[0m\u001b[1;33m)\u001b[0m\u001b[1;33m.\u001b[0m\u001b[0mfit\u001b[0m\u001b[1;33m(\u001b[0m\u001b[1;33m)\u001b[0m\u001b[1;33m\u001b[0m\u001b[1;33m\u001b[0m\u001b[0m\n\u001b[0m\u001b[0;32m     23\u001b[0m \u001b[1;31m#model = sm.OLS(y_train,x_train,missing='drop').fit()\u001b[0m\u001b[1;33m\u001b[0m\u001b[1;33m\u001b[0m\u001b[1;33m\u001b[0m\u001b[0m\n\u001b[0;32m     24\u001b[0m \u001b[0mmodel\u001b[0m\u001b[1;33m.\u001b[0m\u001b[0msummary\u001b[0m\u001b[1;33m(\u001b[0m\u001b[1;33m)\u001b[0m\u001b[1;33m\u001b[0m\u001b[1;33m\u001b[0m\u001b[0m\n",
      "\u001b[1;32mC:\\ProgramData\\Anaconda3\\lib\\site-packages\\statsmodels\\discrete\\discrete_model.py\u001b[0m in \u001b[0;36m__init__\u001b[1;34m(self, endog, exog, **kwargs)\u001b[0m\n\u001b[0;32m    435\u001b[0m         if (not issubclass(self.__class__, MultinomialModel) and\n\u001b[0;32m    436\u001b[0m                 not np.all((self.endog >= 0) & (self.endog <= 1))):\n\u001b[1;32m--> 437\u001b[1;33m             \u001b[1;32mraise\u001b[0m \u001b[0mValueError\u001b[0m\u001b[1;33m(\u001b[0m\u001b[1;34m\"endog must be in the unit interval.\"\u001b[0m\u001b[1;33m)\u001b[0m\u001b[1;33m\u001b[0m\u001b[1;33m\u001b[0m\u001b[0m\n\u001b[0m\u001b[0;32m    438\u001b[0m \u001b[1;33m\u001b[0m\u001b[0m\n\u001b[0;32m    439\u001b[0m \u001b[1;33m\u001b[0m\u001b[0m\n",
      "\u001b[1;31mValueError\u001b[0m: endog must be in the unit interval."
     ]
    }
   ],
   "source": [
    "# #Storing categorized and numerical variables in different variables\n",
    "# df_cat=df1.select_dtypes(include=['object'])\n",
    "# df_num=df1.select_dtypes(exclude=['object'])\n",
    "\n",
    "# #Performing N-1 Dummy Encoding on categorized variables\n",
    "# df_cat_n=pd.get_dummies(df_cat,drop_first=True)\n",
    "\n",
    "# #Merging the two variables having numerical and n-1 categorised variables together\n",
    "# df_merge=pd.concat([df_num,df_cat_n],axis=1)\n",
    "\n",
    "# #Adding a Constant variable\n",
    "# df_merge=sm.add_constant(df_merge)\n",
    "\n",
    "# #Creating Target and Independent variables\n",
    "# df_target=df_merge['SalePrice']\n",
    "# df_ind=df_merge.drop(['SalePrice'], axis=1)\n",
    "\n",
    "# #Splitting Data into Training and Testing Data\n",
    "# x_train,x_test,y_train,y_test=train_test_split(df_ind, df_target, test_size=0.1, random_state=123)\n",
    "\n",
    "# #Displaying the final Model Summary\n",
    "# model = sm.Logit(y_train,x_train).fit()\n",
    "# #model = sm.OLS(y_train,x_train,missing='drop').fit()\n",
    "# model.summary()"
   ]
  },
  {
   "cell_type": "markdown",
   "metadata": {},
   "source": [
    "Finding the RMSE (Root Mean Squared Error)"
   ]
  },
  {
   "cell_type": "code",
   "execution_count": null,
   "metadata": {},
   "outputs": [],
   "source": [
    "# predict using Train set, 'SalePrice' using 'predict()' \n",
    "predict_train = model.predict(x_train)\n",
    "\n",
    "# Calculating 'rmse' using 'mean_squared_error()'\n",
    "rmse_train = np.sqrt(mean_squared_error(predict_train,y_train)).round(2)\n",
    "\n",
    "# predict using Test set, 'SalePrice' using 'predict()' \n",
    "predict_test = model.predict(x_test)\n",
    "\n",
    "# Calculating 'rmse' using 'mean_squared_error()'\n",
    "rmse_test = np.sqrt(mean_squared_error(predict_test,y_test)).round(2)"
   ]
  },
  {
   "cell_type": "markdown",
   "metadata": {},
   "source": [
    "### Storing the necessary details in another dataframe for further observations"
   ]
  },
  {
   "cell_type": "code",
   "execution_count": 76,
   "metadata": {},
   "outputs": [
    {
     "ename": "NameError",
     "evalue": "name 'model1' is not defined",
     "output_type": "error",
     "traceback": [
      "\u001b[1;31m---------------------------------------------------------------------------\u001b[0m",
      "\u001b[1;31mNameError\u001b[0m                                 Traceback (most recent call last)",
      "\u001b[1;32m<ipython-input-76-6daa38dbe9c9>\u001b[0m in \u001b[0;36m<module>\u001b[1;34m\u001b[0m\n\u001b[0;32m      1\u001b[0m \u001b[0mdf_results\u001b[0m\u001b[1;33m=\u001b[0m\u001b[0mpd\u001b[0m\u001b[1;33m.\u001b[0m\u001b[0mDataFrame\u001b[0m\u001b[1;33m(\u001b[0m\u001b[0mcolumns\u001b[0m \u001b[1;33m=\u001b[0m\u001b[1;33m[\u001b[0m\u001b[1;34m'Model'\u001b[0m\u001b[1;33m,\u001b[0m\u001b[1;34m'R-Squared Value'\u001b[0m\u001b[1;33m,\u001b[0m\u001b[1;34m'ROC Score'\u001b[0m\u001b[1;33m,\u001b[0m \u001b[1;34m'Precision Score'\u001b[0m\u001b[1;33m,\u001b[0m \u001b[1;34m'Recall Score'\u001b[0m\u001b[1;33m,\u001b[0m\u001b[1;34m'Accuracy Score'\u001b[0m\u001b[1;33m,\u001b[0m\u001b[1;34m'Model Description'\u001b[0m\u001b[1;33m]\u001b[0m\u001b[1;33m)\u001b[0m\u001b[1;33m\u001b[0m\u001b[1;33m\u001b[0m\u001b[0m\n\u001b[0;32m      2\u001b[0m \u001b[0mModel\u001b[0m\u001b[1;33m=\u001b[0m\u001b[1;34m'Model 1'\u001b[0m\u001b[1;33m\u001b[0m\u001b[1;33m\u001b[0m\u001b[0m\n\u001b[1;32m----> 3\u001b[1;33m \u001b[0mrSquared\u001b[0m\u001b[1;33m=\u001b[0m\u001b[0mmodel1\u001b[0m\u001b[1;33m.\u001b[0m\u001b[0mprsquared\u001b[0m\u001b[1;33m\u001b[0m\u001b[1;33m\u001b[0m\u001b[0m\n\u001b[0m\u001b[0;32m      4\u001b[0m \u001b[0mroc\u001b[0m\u001b[1;33m=\u001b[0m\u001b[0mmetrics\u001b[0m\u001b[1;33m.\u001b[0m\u001b[0mroc_auc_score\u001b[0m\u001b[1;33m(\u001b[0m\u001b[0my_test\u001b[0m\u001b[1;33m,\u001b[0m \u001b[0mpredicted_df\u001b[0m\u001b[1;33m[\u001b[0m\u001b[1;34m'Predicted_Class'\u001b[0m\u001b[1;33m]\u001b[0m\u001b[1;33m)\u001b[0m\u001b[1;33m\u001b[0m\u001b[1;33m\u001b[0m\u001b[0m\n\u001b[0;32m      5\u001b[0m \u001b[0mprecision\u001b[0m\u001b[1;33m=\u001b[0m\u001b[0mmetrics\u001b[0m\u001b[1;33m.\u001b[0m\u001b[0mprecision_score\u001b[0m\u001b[1;33m(\u001b[0m\u001b[0my_test\u001b[0m\u001b[1;33m,\u001b[0m \u001b[0mpredicted_df\u001b[0m\u001b[1;33m[\u001b[0m\u001b[1;34m'Predicted_Class'\u001b[0m\u001b[1;33m]\u001b[0m\u001b[1;33m)\u001b[0m\u001b[1;33m\u001b[0m\u001b[1;33m\u001b[0m\u001b[0m\n",
      "\u001b[1;31mNameError\u001b[0m: name 'model1' is not defined"
     ]
    }
   ],
   "source": [
    "df_results=pd.DataFrame(columns =['Model','R-Squared Value','ROC Score', 'Precision Score', 'Recall Score','Accuracy Score','Model Description'])\n",
    "Model='Model 1'\n",
    "rSquared=model1.prsquared\n",
    "roc=metrics.roc_auc_score(y_test, predicted_df['Predicted_Class'])\n",
    "precision=metrics.precision_score(y_test, predicted_df['Predicted_Class'])\n",
    "recall=metrics.recall_score(y_test, predicted_df['Predicted_Class'])\n",
    "accuracy=metrics.accuracy_score(y_test, predicted_df['Predicted_Class'])\n",
    "description='Logistic Regression Base Model'\n",
    "\n",
    "df_results.loc[Model]=[rSquared,roc,precision,recall,accuracy,description]"
   ]
  },
  {
   "cell_type": "code",
   "execution_count": null,
   "metadata": {},
   "outputs": [],
   "source": [
    "df_results"
   ]
  },
  {
   "cell_type": "markdown",
   "metadata": {},
   "source": [
    "---------------------------------------------------------------------------------"
   ]
  },
  {
   "cell_type": "markdown",
   "metadata": {},
   "source": [
    "# --------------------------------------------------------------------------------------------------------------------"
   ]
  },
  {
   "cell_type": "markdown",
   "metadata": {},
   "source": [
    "# 2. Replacing all MV with proper values"
   ]
  },
  {
   "cell_type": "markdown",
   "metadata": {},
   "source": [
    "In this model we have replaced NaN values from a int or float datatype variables with 0(zero) and any other object datatype variables with a 'NA'(Not Applicable/Not Available)(string)."
   ]
  },
  {
   "cell_type": "markdown",
   "metadata": {},
   "source": [
    "Reading the 'HousePrices.csv' file and storing it in a Dataframe"
   ]
  },
  {
   "cell_type": "code",
   "execution_count": null,
   "metadata": {},
   "outputs": [],
   "source": [
    "df2=pd.read_csv('HousePrices.csv')"
   ]
  },
  {
   "cell_type": "markdown",
   "metadata": {},
   "source": [
    "Converting the following to object type variables"
   ]
  },
  {
   "cell_type": "code",
   "execution_count": null,
   "metadata": {},
   "outputs": [],
   "source": [
    "df2['MSSubClass']=df2['MSSubClass'].astype(object)\n",
    "df2['OverallQual']=df2['OverallQual'].astype(object)\n",
    "df2['OverallCond']=df2['OverallCond'].astype(object)"
   ]
  },
  {
   "cell_type": "markdown",
   "metadata": {},
   "source": [
    "Storing the Number and Percentage of missing values"
   ]
  },
  {
   "cell_type": "code",
   "execution_count": null,
   "metadata": {},
   "outputs": [],
   "source": [
    "#Creating a New Dataframe to store MV\n",
    "df2_MV=pd.DataFrame()\n",
    "\n",
    "#Creating new columns to add Number and Percentage of Missing Values for the variables\n",
    "df2_MV['Number of MV'] = df2.isna().sum()[df2.isna().sum()>0]\n",
    "df2_MV['Percentage of MV'] = (df2.isna().mean()* 100).round(2)[(df2.isna().mean()* 100).round(2)>0]\n",
    "df2_MV['DataType']= df2.dtypes\n",
    "df2_MV"
   ]
  },
  {
   "cell_type": "markdown",
   "metadata": {},
   "source": [
    "Plotting a Heatmap to find out whether any MV is present or not"
   ]
  },
  {
   "cell_type": "code",
   "execution_count": null,
   "metadata": {
    "scrolled": false
   },
   "outputs": [],
   "source": [
    "fig, ax = plt.subplots(figsize=(21,6))\n",
    "sns.heatmap(df2.isna(),cbar=False,cmap=\"Blues\")\n",
    "plt.show()"
   ]
  },
  {
   "cell_type": "markdown",
   "metadata": {},
   "source": [
    "We make the necessary changes for all MV columns in the Dataframe df2 with respect to object and other datatypes, respectively."
   ]
  },
  {
   "cell_type": "code",
   "execution_count": null,
   "metadata": {},
   "outputs": [],
   "source": [
    "for y in df2_MV.iterrows():\n",
    "    if y[1][2] == 'object' :\n",
    "        df2[y[0]]= df2[y[0]].fillna('NA')\n",
    "    else:\n",
    "        df2[y[0]]= df2[y[0]].fillna(0)"
   ]
  },
  {
   "cell_type": "markdown",
   "metadata": {},
   "source": [
    "Plotting a Heatmap to verify whether any MV is remaining or not"
   ]
  },
  {
   "cell_type": "code",
   "execution_count": null,
   "metadata": {},
   "outputs": [],
   "source": [
    "fig, ax = plt.subplots(figsize=(21,6))\n",
    "sns.heatmap(df2.isna(),cbar=False,cmap=\"Blues\")\n",
    "plt.show()"
   ]
  },
  {
   "cell_type": "markdown",
   "metadata": {},
   "source": [
    "Creating Model with the above DataFrame created so far"
   ]
  },
  {
   "cell_type": "code",
   "execution_count": null,
   "metadata": {
    "scrolled": true
   },
   "outputs": [],
   "source": [
    "#Storing categorized and numerical variables in different variables\n",
    "df_cat=df2.select_dtypes(include=['object'])\n",
    "df_num=df2.select_dtypes(exclude=['object'])\n",
    "\n",
    "#Performing N-1 Dummy Encoding on categorized variables\n",
    "df_cat_n=pd.get_dummies(df_cat,drop_first=True)\n",
    "\n",
    "#Merging the two variables having numerical and n-1 categorised variables together\n",
    "df_merge=pd.concat([df_num,df_cat_n],axis=1)\n",
    "\n",
    "#Adding a Constant variable\n",
    "df_merge=sm.add_constant(df_merge)\n",
    "\n",
    "#Creating Target and Independent variables\n",
    "df_target=df_merge['SalePrice']\n",
    "df_ind=df_merge.drop(['SalePrice'], axis=1)\n",
    "\n",
    "#Splitting Data into Training and Testing Data\n",
    "x_train,x_test,y_train,y_test=train_test_split(df_ind, df_target, test_size=0.1, random_state=123)\n",
    "\n",
    "#Displaying the final Model Summary\n",
    "model = sm.OLS(y_train,x_train,missing='drop').fit()\n",
    "model.summary()"
   ]
  },
  {
   "cell_type": "markdown",
   "metadata": {},
   "source": [
    "Finding the RMSE (Root Mean Squared Error)"
   ]
  },
  {
   "cell_type": "code",
   "execution_count": null,
   "metadata": {},
   "outputs": [],
   "source": [
    "# predict using Train set, 'SalePrice' using 'predict()' \n",
    "predict_train = model.predict(x_train)\n",
    "\n",
    "# Calculating 'rmse' using 'mean_squared_error()'\n",
    "rmse_train = np.sqrt(mean_squared_error(predict_train,y_train)).round(2)\n",
    "\n",
    "# predict using Test set, 'SalePrice' using 'predict()' \n",
    "predict_test = model.predict(x_test)\n",
    "\n",
    "# Calculating 'rmse' using 'mean_squared_error()'\n",
    "rmse_test = np.sqrt(mean_squared_error(predict_test,y_test)).round(2)"
   ]
  },
  {
   "cell_type": "markdown",
   "metadata": {},
   "source": [
    "### Storing the necessary details in another dataframe for further observations"
   ]
  },
  {
   "cell_type": "code",
   "execution_count": null,
   "metadata": {
    "scrolled": false
   },
   "outputs": [],
   "source": [
    "Model='Model 2'\n",
    "rSquared=model.rsquared\n",
    "adjRSquared=model.rsquared_adj\n",
    "rmseTrain=rmse_train\n",
    "rmseTest=rmse_test\n",
    "Description='Replacing all MV with proper values'\n",
    "df_results.loc[Model]=[rSquared,adjRSquared,rmseTrain,rmseTest,Description]\n",
    "df_results"
   ]
  },
  {
   "cell_type": "markdown",
   "metadata": {},
   "source": [
    "# --------------------------------------------------------------------------------------------------------------------"
   ]
  },
  {
   "cell_type": "markdown",
   "metadata": {},
   "source": [
    "# 3. Removing all Columns having more than 70% MV"
   ]
  },
  {
   "cell_type": "markdown",
   "metadata": {},
   "source": [
    "In this model we have replaced NaN values from a int or float datatype variables with 0(zero) and any other object datatype variables with a 'NA'(Not Applicable/Not Available)(string). After Replacing those we will have a look at the varibles having 70% or more MV and remove those entirely"
   ]
  },
  {
   "cell_type": "markdown",
   "metadata": {},
   "source": [
    "Reading the 'HousePrices.csv' file and storing it in a Dataframe"
   ]
  },
  {
   "cell_type": "code",
   "execution_count": null,
   "metadata": {},
   "outputs": [],
   "source": [
    "df3=pd.read_csv('HousePrices.csv')"
   ]
  },
  {
   "cell_type": "markdown",
   "metadata": {},
   "source": [
    "Converting the following to object type variables"
   ]
  },
  {
   "cell_type": "code",
   "execution_count": null,
   "metadata": {},
   "outputs": [],
   "source": [
    "df3['MSSubClass']=df3['MSSubClass'].astype(object)\n",
    "df3['OverallQual']=df3['OverallQual'].astype(object)\n",
    "df3['OverallCond']=df3['OverallCond'].astype(object)"
   ]
  },
  {
   "cell_type": "markdown",
   "metadata": {},
   "source": [
    "Getting the Dimensions of the Dataframe"
   ]
  },
  {
   "cell_type": "code",
   "execution_count": null,
   "metadata": {},
   "outputs": [],
   "source": [
    "df3.shape"
   ]
  },
  {
   "cell_type": "markdown",
   "metadata": {},
   "source": [
    "Storing the percentage values of missing values greater then 0 in Descending order"
   ]
  },
  {
   "cell_type": "code",
   "execution_count": null,
   "metadata": {
    "scrolled": true
   },
   "outputs": [],
   "source": [
    "#Creating a New Dataframe to store MV in\n",
    "df3_MV=pd.DataFrame()\n",
    "\n",
    "#Creating new columns to add Number and Percentage of Missing Values for the variables\n",
    "df3_MV['Number of MV'] = df3.isna().sum()[df3.isna().sum()>0]\n",
    "df3_MV['Percentage of MV'] = (df3.isna().mean()* 100).round(2)[(df3.isna().mean()* 100).round(2)>0]\n",
    "df3_MV['DataType']= df3.dtypes\n",
    "df3_MV=df3_MV.sort_values(by=['Percentage of MV'],ascending=False)\n",
    "df3_MV"
   ]
  },
  {
   "cell_type": "markdown",
   "metadata": {},
   "source": [
    "Plotting a Heatmap to find out whether any MV is present or not"
   ]
  },
  {
   "cell_type": "code",
   "execution_count": null,
   "metadata": {
    "scrolled": false
   },
   "outputs": [],
   "source": [
    "fig, ax = plt.subplots(figsize=(21,6))\n",
    "sns.heatmap(df3.isna(),cbar=False,cmap=\"Blues\")\n",
    "plt.show()"
   ]
  },
  {
   "cell_type": "markdown",
   "metadata": {},
   "source": [
    "We make the necessary changes for all MV columns in the Dataframe df3 with respect to object and other datatypes, respectively."
   ]
  },
  {
   "cell_type": "code",
   "execution_count": null,
   "metadata": {},
   "outputs": [],
   "source": [
    "for y in df3_MV.iterrows():\n",
    "    if y[1][2] == 'object' :\n",
    "        df3[y[0]]= df3[y[0]].fillna('NA')\n",
    "    else:\n",
    "        df3[y[0]]= df3[y[0]].fillna(0)"
   ]
  },
  {
   "cell_type": "markdown",
   "metadata": {},
   "source": [
    "Dropping columns having 70% and more Missing Values"
   ]
  },
  {
   "cell_type": "code",
   "execution_count": null,
   "metadata": {},
   "outputs": [],
   "source": [
    "df3=df3.drop(columns=['Fence', 'Alley','PoolQC','MiscFeature'])\n",
    "df3.shape"
   ]
  },
  {
   "cell_type": "markdown",
   "metadata": {},
   "source": [
    "Plotting a Heatmap to verify whether any MV is remaining or not"
   ]
  },
  {
   "cell_type": "code",
   "execution_count": null,
   "metadata": {},
   "outputs": [],
   "source": [
    "fig, ax = plt.subplots(figsize=(21,6))\n",
    "sns.heatmap(df3.isna(),cbar=False,cmap=\"Blues\")\n",
    "plt.show()"
   ]
  },
  {
   "cell_type": "markdown",
   "metadata": {},
   "source": [
    "Creating Model with the above DataFrame created so far"
   ]
  },
  {
   "cell_type": "code",
   "execution_count": null,
   "metadata": {
    "scrolled": true
   },
   "outputs": [],
   "source": [
    "#Storing categorized and numerical variables in different variables\n",
    "df_cat=df3.select_dtypes(include=['object'])\n",
    "df_num=df3.select_dtypes(exclude=['object'])\n",
    "\n",
    "#Performing N-1 Dummy Encoding on categorized variables\n",
    "df_cat_n=pd.get_dummies(df_cat,drop_first=True)\n",
    "\n",
    "#Merging the two variables having numerical and n-1 categorised variables together\n",
    "df_merge=pd.concat([df_num,df_cat_n],axis=1)\n",
    "\n",
    "#Adding a Constant variable\n",
    "df_merge=sm.add_constant(df_merge)\n",
    "\n",
    "#Creating Target and Independent variables\n",
    "df_target=df_merge['SalePrice']\n",
    "df_ind=df_merge.drop(['SalePrice'], axis=1)\n",
    "\n",
    "#Splitting Data into Training and Testing Data\n",
    "x_train,x_test,y_train,y_test=train_test_split(df_ind, df_target, test_size=0.1, random_state=123)\n",
    "\n",
    "#Displaying the final Model Summary\n",
    "model = sm.OLS(y_train,x_train,missing='drop').fit()\n",
    "model.summary()"
   ]
  },
  {
   "cell_type": "markdown",
   "metadata": {},
   "source": [
    "Finding the RMSE (Root Mean Squared Error)"
   ]
  },
  {
   "cell_type": "code",
   "execution_count": null,
   "metadata": {},
   "outputs": [],
   "source": [
    "# predict using Train set, 'SalePrice' using 'predict()' \n",
    "predict_train = model.predict(x_train)\n",
    "\n",
    "# Calculating 'rmse' using 'mean_squared_error()'\n",
    "rmse_train = np.sqrt(mean_squared_error(predict_train,y_train)).round(2)\n",
    "\n",
    "# predict using Test set, 'SalePrice' using 'predict()' \n",
    "predict_test = model.predict(x_test)\n",
    "\n",
    "# Calculating 'rmse' using 'mean_squared_error()'\n",
    "rmse_test = np.sqrt(mean_squared_error(predict_test,y_test)).round(2)"
   ]
  },
  {
   "cell_type": "markdown",
   "metadata": {},
   "source": [
    "### Storing the necessary details in another dataframe for further observations"
   ]
  },
  {
   "cell_type": "code",
   "execution_count": null,
   "metadata": {
    "scrolled": true
   },
   "outputs": [],
   "source": [
    "Model='Model 3'\n",
    "rSquared=model.rsquared\n",
    "adjRSquared=model.rsquared_adj\n",
    "rmseTrain=rmse_train\n",
    "rmseTest=rmse_test\n",
    "Description='Removing columns having 70% or more MV and replacing others'\n",
    "df_results.loc[Model]=[rSquared,adjRSquared,rmseTrain,rmseTest,Description]\n",
    "df_results"
   ]
  },
  {
   "cell_type": "markdown",
   "metadata": {},
   "source": [
    "# --------------------------------------------------------------------------------------------------------------------"
   ]
  },
  {
   "cell_type": "markdown",
   "metadata": {},
   "source": [
    "# 3.1 Removing all Columns having more than 70% MV and Replacing others with Proper Values and performing Normalisation"
   ]
  },
  {
   "cell_type": "markdown",
   "metadata": {},
   "source": [
    "In this model we have replaced NaN values from a int or float datatype variables with 0(zero) and any other object datatype variables with a 'NA'(Not Applicable/Not Available)(string). After Replacing those we will have a look at the varibles having 70% or more MV and remove those entirely"
   ]
  },
  {
   "cell_type": "markdown",
   "metadata": {},
   "source": [
    "Reading the 'HousePrices.csv' file and storing it in a Dataframe"
   ]
  },
  {
   "cell_type": "code",
   "execution_count": null,
   "metadata": {},
   "outputs": [],
   "source": [
    "df3_N=pd.read_csv('HousePrices.csv')"
   ]
  },
  {
   "cell_type": "markdown",
   "metadata": {},
   "source": [
    "Converting the following to object type variables"
   ]
  },
  {
   "cell_type": "code",
   "execution_count": null,
   "metadata": {},
   "outputs": [],
   "source": [
    "df3_N['MSSubClass']=df3_N['MSSubClass'].astype(object)\n",
    "df3_N['OverallQual']=df3_N['OverallQual'].astype(object)\n",
    "df3_N['OverallCond']=df3_N['OverallCond'].astype(object)"
   ]
  },
  {
   "cell_type": "markdown",
   "metadata": {},
   "source": [
    "Getting the Dimensions of the Dataframe"
   ]
  },
  {
   "cell_type": "code",
   "execution_count": null,
   "metadata": {},
   "outputs": [],
   "source": [
    "df3_N.shape"
   ]
  },
  {
   "cell_type": "markdown",
   "metadata": {},
   "source": [
    "Storing the percentage values of missing values greater then 0 in Descending order"
   ]
  },
  {
   "cell_type": "code",
   "execution_count": null,
   "metadata": {},
   "outputs": [],
   "source": [
    "#Creating a New Dataframe to store MV in\n",
    "df3_N_MV=pd.DataFrame()\n",
    "\n",
    "#Creating new columns to add Number and Percentage of Missing Values for the variables\n",
    "df3_N_MV['Number of MV'] = df3_N.isna().sum()[df3_N.isna().sum()>0]\n",
    "df3_N_MV['Percentage of MV'] = (df3_N.isna().mean()* 100).round(2)[(df3_N.isna().mean()* 100).round(2)>0]\n",
    "df3_N_MV['DataType']= df3_N.dtypes\n",
    "df3_N_MV=df3_N_MV.sort_values(by=['Percentage of MV'],ascending=False)\n",
    "df3_N_MV"
   ]
  },
  {
   "cell_type": "markdown",
   "metadata": {},
   "source": [
    "Plotting a Heatmap to find out whether any MV is present or not"
   ]
  },
  {
   "cell_type": "code",
   "execution_count": null,
   "metadata": {
    "scrolled": false
   },
   "outputs": [],
   "source": [
    "fig, ax = plt.subplots(figsize=(21,6))\n",
    "sns.heatmap(df3_N.isna(),cbar=False,cmap=\"Blues\")\n",
    "plt.show()"
   ]
  },
  {
   "cell_type": "markdown",
   "metadata": {},
   "source": [
    "We make the necessary changes for all MV columns in the Dataframe df3_N with respect to object and other datatypes, respectively."
   ]
  },
  {
   "cell_type": "code",
   "execution_count": null,
   "metadata": {},
   "outputs": [],
   "source": [
    "for y in df3_N_MV.iterrows():\n",
    "    if y[1][2] == 'object' :\n",
    "        df3_N[y[0]]= df3_N[y[0]].fillna('NA')\n",
    "    else:\n",
    "        df3_N[y[0]]= df3_N[y[0]].fillna(0)"
   ]
  },
  {
   "cell_type": "markdown",
   "metadata": {},
   "source": [
    "Dropping columns having 70% and more Missing Values"
   ]
  },
  {
   "cell_type": "code",
   "execution_count": null,
   "metadata": {},
   "outputs": [],
   "source": [
    "df3_N=df3_N.drop(columns=['Fence', 'Alley','PoolQC','MiscFeature'])\n",
    "df3_N.shape"
   ]
  },
  {
   "cell_type": "markdown",
   "metadata": {},
   "source": [
    "Plotting a Heatmap to verify whether any MV is remaining or not"
   ]
  },
  {
   "cell_type": "code",
   "execution_count": null,
   "metadata": {},
   "outputs": [],
   "source": [
    "fig, ax = plt.subplots(figsize=(21,6))\n",
    "sns.heatmap(df3_N.isna(),cbar=False,cmap=\"Blues\")\n",
    "plt.show()"
   ]
  },
  {
   "cell_type": "markdown",
   "metadata": {},
   "source": [
    "Creating model from the data"
   ]
  },
  {
   "cell_type": "code",
   "execution_count": null,
   "metadata": {
    "scrolled": true
   },
   "outputs": [],
   "source": [
    "#Storing categorized and numerical variables in different variables\n",
    "df_cat=df3_N.select_dtypes(include=['object'])\n",
    "df_num=df3_N.select_dtypes(exclude=['object'])\n",
    "\n",
    "#Performing Normalisation on the data in df_num(numerical data)\n",
    "df_num_normalisation = pd.DataFrame(MinMaxScaler().fit_transform(df_num.values), columns=df_num.columns, index=df_num.index)\n",
    "df_num=df_num_normalisation\n",
    "\n",
    "#Performing N-1 Dummy Encoding on categorized variables\n",
    "df_cat_n=pd.get_dummies(df_cat,drop_first=True)\n",
    "\n",
    "#Merging the two variables having numerical and n-1 categorised variables together\n",
    "df_merge=pd.concat([df_num,df_cat_n],axis=1)\n",
    "\n",
    "#Adding a Constant variable\n",
    "df_merge=sm.add_constant(df_merge)\n",
    "\n",
    "#Creating Target and Independent variables\n",
    "df_target=df_merge['SalePrice']\n",
    "df_ind=df_merge.drop(['SalePrice'], axis=1)\n",
    "\n",
    "#Splitting Data into Training and Testing Data\n",
    "x_train,x_test,y_train,y_test=train_test_split(df_ind, df_target, test_size=0.1, random_state=123)\n",
    "\n",
    "#Displaying the final Model Summary\n",
    "model = sm.OLS(y_train,x_train,missing='drop').fit()\n",
    "model.summary()"
   ]
  },
  {
   "cell_type": "markdown",
   "metadata": {},
   "source": [
    "Finding the RMSE (Root Mean Squared Error)"
   ]
  },
  {
   "cell_type": "code",
   "execution_count": null,
   "metadata": {},
   "outputs": [],
   "source": [
    "# predict using Train set, 'SalePrice' using 'predict()' \n",
    "predict_train = model.predict(x_train)\n",
    "\n",
    "# Calculating 'rmse' using 'mean_squared_error()'\n",
    "rmse_train = np.sqrt(mean_squared_error(predict_train,y_train)).round(2)\n",
    "\n",
    "# predict using Test set, 'SalePrice' using 'predict()' \n",
    "predict_test = model.predict(x_test)\n",
    "\n",
    "# Calculating 'rmse' using 'mean_squared_error()'\n",
    "rmse_test = np.sqrt(mean_squared_error(predict_test,y_test)).round(2)"
   ]
  },
  {
   "cell_type": "markdown",
   "metadata": {},
   "source": [
    "### Storing the necessary details in another dataframe for further observations"
   ]
  },
  {
   "cell_type": "code",
   "execution_count": null,
   "metadata": {
    "scrolled": false
   },
   "outputs": [],
   "source": [
    "Model='Model 4'\n",
    "rSquared=model.rsquared\n",
    "adjRSquared=model.rsquared_adj\n",
    "rmseTrain=rmse_train\n",
    "rmseTest=rmse_test\n",
    "Description='Removing columns having 70% or more MV and replacing others(Normalisation)'\n",
    "df_results.loc[Model]=[rSquared,adjRSquared,rmseTrain,rmseTest,Description]\n",
    "df_results"
   ]
  },
  {
   "cell_type": "markdown",
   "metadata": {},
   "source": [
    "# --------------------------------------------------------------------------------------------------------------------"
   ]
  },
  {
   "cell_type": "markdown",
   "metadata": {},
   "source": [
    "# 3.2 Removing all Columns having more than 70% MV and Replacing others with Proper Values and performing Standardization"
   ]
  },
  {
   "cell_type": "markdown",
   "metadata": {},
   "source": [
    "In this model we have replaced NaN values from a int or float datatype variables with 0(zero) and any other object datatype variables with a 'NA'(Not Applicable/Not Available)(string). After Replacing those we will have a look at the varibles having 70% or more MV and remove those entirely"
   ]
  },
  {
   "cell_type": "markdown",
   "metadata": {},
   "source": [
    "Reading the 'HousePrices.csv' file and storing it in a Dataframe"
   ]
  },
  {
   "cell_type": "code",
   "execution_count": null,
   "metadata": {},
   "outputs": [],
   "source": [
    "df3_S=pd.read_csv('HousePrices.csv')"
   ]
  },
  {
   "cell_type": "markdown",
   "metadata": {},
   "source": [
    "Converting the following to object type variables"
   ]
  },
  {
   "cell_type": "code",
   "execution_count": null,
   "metadata": {},
   "outputs": [],
   "source": [
    "df3_S['MSSubClass']=df3_S['MSSubClass'].astype(object)\n",
    "df3_S['OverallQual']=df3_S['OverallQual'].astype(object)\n",
    "df3_S['OverallCond']=df3_S['OverallCond'].astype(object)"
   ]
  },
  {
   "cell_type": "markdown",
   "metadata": {},
   "source": [
    "Getting the Dimensions of the Dataframe"
   ]
  },
  {
   "cell_type": "code",
   "execution_count": null,
   "metadata": {},
   "outputs": [],
   "source": [
    "df3_S.shape"
   ]
  },
  {
   "cell_type": "markdown",
   "metadata": {},
   "source": [
    "Storing the percentage values of missing values greater then 0 in Descending order"
   ]
  },
  {
   "cell_type": "code",
   "execution_count": null,
   "metadata": {},
   "outputs": [],
   "source": [
    "#Creating a New Dataframe to store MV in\n",
    "df3_S_MV=pd.DataFrame()\n",
    "\n",
    "#Creating new columns to add Number and Percentage of Missing Values for the variables\n",
    "df3_S_MV['Number of MV'] = df3_S.isna().sum()[df3_S.isna().sum()>0]\n",
    "df3_S_MV['Percentage of MV'] = (df3_S.isna().mean()* 100).round(2)[(df3_S.isna().mean()* 100).round(2)>0]\n",
    "df3_S_MV['DataType']= df3_S.dtypes\n",
    "df3_S_MV=df3_S_MV.sort_values(by=['Percentage of MV'],ascending=False)\n",
    "df3_S_MV"
   ]
  },
  {
   "cell_type": "markdown",
   "metadata": {},
   "source": [
    "Plotting a Heatmap to find out whether any MV is present or not"
   ]
  },
  {
   "cell_type": "code",
   "execution_count": null,
   "metadata": {
    "scrolled": false
   },
   "outputs": [],
   "source": [
    "fig, ax = plt.subplots(figsize=(21,6))\n",
    "sns.heatmap(df3_S.isna(),cbar=False,cmap=\"Blues\")\n",
    "plt.show()"
   ]
  },
  {
   "cell_type": "markdown",
   "metadata": {},
   "source": [
    "We make the necessary changes for all MV columns in the Dataframe df3 with respect to object and other datatypes, respectively."
   ]
  },
  {
   "cell_type": "code",
   "execution_count": null,
   "metadata": {},
   "outputs": [],
   "source": [
    "for y in df3_S_MV.iterrows():\n",
    "    if y[1][2] == 'object' :\n",
    "        df3_S[y[0]]= df3_S[y[0]].fillna('NA')\n",
    "    else:\n",
    "        df3_S[y[0]]= df3_S[y[0]].fillna(0)"
   ]
  },
  {
   "cell_type": "markdown",
   "metadata": {},
   "source": [
    "Dropping columns having 70% and more Missing Values"
   ]
  },
  {
   "cell_type": "code",
   "execution_count": null,
   "metadata": {},
   "outputs": [],
   "source": [
    "df3_S=df3_S.drop(columns=['Fence', 'Alley','PoolQC','MiscFeature'])\n",
    "df3_S.shape"
   ]
  },
  {
   "cell_type": "markdown",
   "metadata": {},
   "source": [
    "Plotting a Heatmap to verify whether any MV is remaining or not"
   ]
  },
  {
   "cell_type": "code",
   "execution_count": null,
   "metadata": {},
   "outputs": [],
   "source": [
    "fig, ax = plt.subplots(figsize=(21,6))\n",
    "sns.heatmap(df3_S.isna(),cbar=False,cmap=\"Blues\")\n",
    "plt.show()"
   ]
  },
  {
   "cell_type": "markdown",
   "metadata": {},
   "source": [
    "Creating model from the data"
   ]
  },
  {
   "cell_type": "code",
   "execution_count": null,
   "metadata": {
    "scrolled": true
   },
   "outputs": [],
   "source": [
    "#Storing categorized and numerical variables in different variables\n",
    "df_cat=df3_S.select_dtypes(include=['object'])\n",
    "df_num=df3_S.select_dtypes(exclude=['object'])\n",
    "\n",
    "#Performing Normalisation on the data in df_num(numerical data)\n",
    "df_num_normalisation = pd.DataFrame(MinMaxScaler().fit_transform(df_num.values), columns=df_num.columns, index=df_num.index)\n",
    "df_num=df_num_normalisation\n",
    "\n",
    "#Performing N-1 Dummy Encoding on categorized variables\n",
    "df_cat_n=pd.get_dummies(df_cat,drop_first=True)\n",
    "\n",
    "#Merging the two variables having numerical and n-1 categorised variables together\n",
    "df_merge=pd.concat([df_num,df_cat_n],axis=1)\n",
    "\n",
    "#Adding a Constant variable\n",
    "df_merge=sm.add_constant(df_merge)\n",
    "\n",
    "#Creating Target and Independent variables\n",
    "df_target=df_merge['SalePrice']\n",
    "df_ind=df_merge.drop(['SalePrice'], axis=1)\n",
    "\n",
    "#Splitting Data into Training and Testing Data\n",
    "x_train,x_test,y_train,y_test=train_test_split(df_ind, df_target, test_size=0.1, random_state=123)\n",
    "\n",
    "#Displaying the final Model Summary\n",
    "model = sm.OLS(y_train,x_train,missing='drop').fit()\n",
    "model.summary()"
   ]
  },
  {
   "cell_type": "markdown",
   "metadata": {},
   "source": [
    "Finding the RMSE (Root Mean Squared Error)"
   ]
  },
  {
   "cell_type": "code",
   "execution_count": null,
   "metadata": {},
   "outputs": [],
   "source": [
    "# predict using Train set, 'SalePrice' using 'predict()' \n",
    "predict_train = model.predict(x_train)\n",
    "\n",
    "# Calculating 'rmse' using 'mean_squared_error()'\n",
    "rmse_train = np.sqrt(mean_squared_error(predict_train,y_train)).round(2)\n",
    "\n",
    "# predict using Test set, 'SalePrice' using 'predict()' \n",
    "predict_test = model.predict(x_test)\n",
    "\n",
    "# Calculating 'rmse' using 'mean_squared_error()'\n",
    "rmse_test = np.sqrt(mean_squared_error(predict_test,y_test)).round(2)"
   ]
  },
  {
   "cell_type": "markdown",
   "metadata": {},
   "source": [
    "### Storing the necessary details in another dataframe for further observations"
   ]
  },
  {
   "cell_type": "code",
   "execution_count": null,
   "metadata": {
    "scrolled": true
   },
   "outputs": [],
   "source": [
    "Model='Model 5'\n",
    "rSquared=model.rsquared\n",
    "adjRSquared=model.rsquared_adj\n",
    "rmseTrain=rmse_train\n",
    "rmseTest=rmse_test\n",
    "Description='Removing columns having 70% or more MV and replacing others(Standardization)'\n",
    "df_results.loc[Model]=[rSquared,adjRSquared,rmseTrain,rmseTest,Description]\n",
    "df_results=df_results.style.set_properties(**{'text-align': 'left'})\n",
    "df_results"
   ]
  },
  {
   "cell_type": "markdown",
   "metadata": {},
   "source": [
    "# --------------------------------------------------------------------------------------------------------------------"
   ]
  },
  {
   "cell_type": "markdown",
   "metadata": {},
   "source": [
    "# --------------------------------------------------------------------------------------------------------------------"
   ]
  },
  {
   "cell_type": "markdown",
   "metadata": {},
   "source": [
    "# --------------------------------------------------------------------------------------------------------------------"
   ]
  },
  {
   "cell_type": "markdown",
   "metadata": {},
   "source": [
    "# --------------------------------------------------------------------------------------------------------------------"
   ]
  },
  {
   "cell_type": "markdown",
   "metadata": {},
   "source": [
    "# --------------------------------------------------------------------------------------------------------------------"
   ]
  },
  {
   "cell_type": "markdown",
   "metadata": {},
   "source": [
    "# Incomplete Future models references"
   ]
  },
  {
   "cell_type": "markdown",
   "metadata": {},
   "source": [
    "# 4. Replacing values with Mean/Average of the Data"
   ]
  },
  {
   "cell_type": "markdown",
   "metadata": {},
   "source": [
    "# 5. Replacing values with Median of the Data"
   ]
  },
  {
   "cell_type": "markdown",
   "metadata": {},
   "source": [
    "# 6. Removing values with high correlation in the Data"
   ]
  },
  {
   "cell_type": "markdown",
   "metadata": {},
   "source": [
    "# 7. Removing multiple values to merge to get a single value for the Data"
   ]
  },
  {
   "cell_type": "markdown",
   "metadata": {},
   "source": [
    "Reading the 'HousePrices.csv' file and storing it in a Dataframe"
   ]
  },
  {
   "cell_type": "code",
   "execution_count": null,
   "metadata": {},
   "outputs": [],
   "source": [
    "df4=pd.read_csv('HousePrices.csv')"
   ]
  },
  {
   "cell_type": "markdown",
   "metadata": {},
   "source": [
    "Converting the following to object type variables"
   ]
  },
  {
   "cell_type": "code",
   "execution_count": null,
   "metadata": {},
   "outputs": [],
   "source": [
    "df4['MSSubClass']=df4['MSSubClass'].astype(object)\n",
    "df4['OverallQual']=df4['OverallQual'].astype(object)\n",
    "df4['OverallCond']=df4['OverallCond'].astype(object)"
   ]
  },
  {
   "cell_type": "markdown",
   "metadata": {},
   "source": [
    "Getting the Dimensions of the Dataframe"
   ]
  },
  {
   "cell_type": "code",
   "execution_count": null,
   "metadata": {},
   "outputs": [],
   "source": [
    "df4.shape"
   ]
  },
  {
   "cell_type": "markdown",
   "metadata": {},
   "source": [
    "Storing the percentage values of missing values greater then 0 in Descending order"
   ]
  },
  {
   "cell_type": "code",
   "execution_count": null,
   "metadata": {
    "scrolled": true
   },
   "outputs": [],
   "source": [
    "#Creating a New Dataframe to store MV in\n",
    "df4_MV=pd.DataFrame()\n",
    "\n",
    "#Creating new columns to add Number and Percentage of Missing Values for the variables\n",
    "df4_MV['Number of MV'] = df4.isna().sum()[df4.isna().sum()>0]\n",
    "df4_MV['Percentage of MV'] = (df4.isna().mean()* 100).round(2)[(df4.isna().mean()* 100).round(2)>0]\n",
    "df4_MV['DataType']= df4.dtypes\n",
    "df4_MV=df4_MV.sort_values(by=['Percentage of MV'],ascending=False)\n",
    "df4_MV"
   ]
  },
  {
   "cell_type": "markdown",
   "metadata": {},
   "source": [
    "Plotting a Heatmap to find out whether any MV is present or not"
   ]
  },
  {
   "cell_type": "code",
   "execution_count": null,
   "metadata": {
    "scrolled": false
   },
   "outputs": [],
   "source": [
    "fig, ax = plt.subplots(figsize=(21,6))\n",
    "sns.heatmap(df4.isna(),cbar=False,cmap=\"Blues\")\n",
    "plt.show()"
   ]
  },
  {
   "cell_type": "markdown",
   "metadata": {},
   "source": [
    "Dropping columns having 70% and more Missing Values"
   ]
  },
  {
   "cell_type": "markdown",
   "metadata": {},
   "source": [
    "# --------------------------------------------------------------------------------------------------------------------"
   ]
  },
  {
   "cell_type": "markdown",
   "metadata": {},
   "source": [
    "#### Variables to Interpret\n",
    "PoolQC - Pool Quality not required (Removal)  \n",
    "MiscFeature - Miscellaneous features (Set to 'NA')  \n",
    "Alley -  \n",
    "Fence -  \n",
    "FireplaceQu -  \n",
    "LotFrontage -  \n",
    "GarageType -  \n",
    "GarageYrBuilt -  \n",
    "GarageFinish -  \n",
    "GarageQual -  \n",
    "GarageCond -  \n",
    "BsmtExposure -  \n",
    "BsmtFinType2 -  \n",
    "BsmtFinType1 -  \n",
    "BsmtCond -  \n",
    "BsmtQual -  \n",
    "MasVnrArea -  \n",
    "MasVnrType -  \n",
    "Electrical -  "
   ]
  },
  {
   "cell_type": "code",
   "execution_count": null,
   "metadata": {},
   "outputs": [],
   "source": []
  },
  {
   "cell_type": "code",
   "execution_count": null,
   "metadata": {},
   "outputs": [],
   "source": []
  }
 ],
 "metadata": {
  "kernelspec": {
   "display_name": "Python 3",
   "language": "python",
   "name": "python3"
  },
  "language_info": {
   "codemirror_mode": {
    "name": "ipython",
    "version": 3
   },
   "file_extension": ".py",
   "mimetype": "text/x-python",
   "name": "python",
   "nbconvert_exporter": "python",
   "pygments_lexer": "ipython3",
   "version": "3.8.3"
  }
 },
 "nbformat": 4,
 "nbformat_minor": 4
}
