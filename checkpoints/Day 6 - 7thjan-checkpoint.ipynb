{
 "cells": [
  {
   "cell_type": "markdown",
   "metadata": {
    "id": "HPeqgHzPS50H"
   },
   "source": [
    "# Imports"
   ]
  },
  {
   "cell_type": "code",
   "execution_count": 278,
   "metadata": {
    "id": "qcZlUwliSySc"
   },
   "outputs": [],
   "source": [
    "import numpy as np\n",
    "import pandas as pd\n",
    "import matplotlib.pyplot as plt\n",
    "import seaborn as sns\n",
    "import random"
   ]
  },
  {
   "cell_type": "code",
   "execution_count": 279,
   "metadata": {
    "id": "StWgV1o4TCiU"
   },
   "outputs": [],
   "source": [
    "grades=[59.1, 65.0, 75.8, 79.2, 95.0, 99.8, 89.1, 65.2, 41.9, 55.2, 94.8, 84.1, 83.2, 74.0, 75.5, 76.2, 79.1, 80.1, 92.1, 74.2, 59.2, 64.0, 75, 78.2, 95.6, 97.8, 89.5, 64.2, 41.8, 57.2, 85, 91.4, 81.8, 74.6, 90]\n",
    "sample_grades=random.sample(grades,20)"
   ]
  },
  {
   "cell_type": "code",
   "execution_count": 280,
   "metadata": {
    "colab": {
     "base_uri": "https://localhost:8080/"
    },
    "id": "M39b5WaITW7t",
    "outputId": "0ba6f5bb-7504-47fb-ef98-065adc66d76d"
   },
   "outputs": [],
   "source": [
    "m=np.mean(sample_grades)"
   ]
  },
  {
   "cell_type": "code",
   "execution_count": 281,
   "metadata": {
    "colab": {
     "base_uri": "https://localhost:8080/"
    },
    "id": "CLmzwxxFTgut",
    "outputId": "f10c8951-f92c-4291-f67e-3ace8b87a010"
   },
   "outputs": [
    {
     "data": {
      "text/plain": [
       "76.68285714285715"
      ]
     },
     "execution_count": 281,
     "metadata": {},
     "output_type": "execute_result"
    }
   ],
   "source": [
    "np.mean(grades)"
   ]
  },
  {
   "cell_type": "code",
   "execution_count": 282,
   "metadata": {},
   "outputs": [
    {
     "name": "stdout",
     "output_type": "stream",
     "text": [
      "[75.8, 99.8, 89.1, 65.2, 84.1, 75.5, 76.2, 92.1, 74.2, 64.0, 75, 95.6, 89.5, 81.8, 74.6]\n"
     ]
    }
   ],
   "source": [
    "exclusives=[x for x in grades if x not in sample_grades]\n",
    "print(exclusives)"
   ]
  },
  {
   "cell_type": "code",
   "execution_count": 283,
   "metadata": {},
   "outputs": [],
   "source": [
    "#plt.plot(exclusives, 'o', color='black');"
   ]
  },
  {
   "cell_type": "code",
   "execution_count": 284,
   "metadata": {},
   "outputs": [
    {
     "name": "stdout",
     "output_type": "stream",
     "text": [
      "       0  category\n",
      "0   59.1         0\n",
      "1   65.0         0\n",
      "2   75.8         0\n",
      "3   79.2         0\n",
      "4   95.0         0\n",
      "5   99.8         0\n",
      "6   89.1         0\n",
      "7   65.2         0\n",
      "8   41.9         0\n",
      "9   55.2         0\n",
      "10  94.8         0\n",
      "11  84.1         0\n",
      "12  83.2         0\n",
      "13  74.0         0\n",
      "14  75.5         0\n",
      "15  76.2         0\n",
      "16  79.1         0\n",
      "17  80.1         0\n",
      "18  92.1         0\n",
      "19  74.2         0\n",
      "20  59.2         0\n",
      "21  64.0         0\n",
      "22  75.0         0\n",
      "23  78.2         0\n",
      "24  95.6         0\n",
      "25  97.8         0\n",
      "26  89.5         0\n",
      "27  64.2         0\n",
      "28  41.8         0\n",
      "29  57.2         0\n",
      "30  85.0         0\n",
      "31  91.4         0\n",
      "32  81.8         0\n",
      "33  74.6         0\n",
      "34  90.0         0\n"
     ]
    }
   ],
   "source": [
    "dfirs=pd.DataFrame(grades)\n",
    "dfirs.insert(1,'category',0)\n",
    "print(dfirs)"
   ]
  },
  {
   "cell_type": "code",
   "execution_count": 285,
   "metadata": {},
   "outputs": [
    {
     "name": "stdout",
     "output_type": "stream",
     "text": [
      "0\n",
      "0\n",
      "0\n",
      "0\n",
      "0\n",
      "0\n",
      "0\n",
      "0\n",
      "0\n",
      "0\n",
      "0\n",
      "0\n",
      "0\n",
      "0\n",
      "0\n",
      "0\n",
      "0\n",
      "0\n",
      "0\n",
      "0\n"
     ]
    }
   ],
   "source": [
    "for i,x in enumerate(dfirs[0]) :\n",
    "    if x in sample_grades :\n",
    "        print(dfirs['category'][i])\n",
    "        "
   ]
  },
  {
   "cell_type": "code",
   "execution_count": 286,
   "metadata": {},
   "outputs": [
    {
     "data": {
      "text/html": [
       "<div>\n",
       "<style scoped>\n",
       "    .dataframe tbody tr th:only-of-type {\n",
       "        vertical-align: middle;\n",
       "    }\n",
       "\n",
       "    .dataframe tbody tr th {\n",
       "        vertical-align: top;\n",
       "    }\n",
       "\n",
       "    .dataframe thead th {\n",
       "        text-align: right;\n",
       "    }\n",
       "</style>\n",
       "<table border=\"1\" class=\"dataframe\">\n",
       "  <thead>\n",
       "    <tr style=\"text-align: right;\">\n",
       "      <th></th>\n",
       "      <th>0</th>\n",
       "      <th>category</th>\n",
       "    </tr>\n",
       "  </thead>\n",
       "  <tbody>\n",
       "    <tr>\n",
       "      <th>0</th>\n",
       "      <td>59.1</td>\n",
       "      <td>0</td>\n",
       "    </tr>\n",
       "    <tr>\n",
       "      <th>1</th>\n",
       "      <td>65.0</td>\n",
       "      <td>0</td>\n",
       "    </tr>\n",
       "    <tr>\n",
       "      <th>2</th>\n",
       "      <td>75.8</td>\n",
       "      <td>0</td>\n",
       "    </tr>\n",
       "    <tr>\n",
       "      <th>3</th>\n",
       "      <td>79.2</td>\n",
       "      <td>0</td>\n",
       "    </tr>\n",
       "    <tr>\n",
       "      <th>4</th>\n",
       "      <td>95.0</td>\n",
       "      <td>0</td>\n",
       "    </tr>\n",
       "    <tr>\n",
       "      <th>5</th>\n",
       "      <td>99.8</td>\n",
       "      <td>0</td>\n",
       "    </tr>\n",
       "    <tr>\n",
       "      <th>6</th>\n",
       "      <td>89.1</td>\n",
       "      <td>0</td>\n",
       "    </tr>\n",
       "    <tr>\n",
       "      <th>7</th>\n",
       "      <td>65.2</td>\n",
       "      <td>0</td>\n",
       "    </tr>\n",
       "    <tr>\n",
       "      <th>8</th>\n",
       "      <td>41.9</td>\n",
       "      <td>0</td>\n",
       "    </tr>\n",
       "    <tr>\n",
       "      <th>9</th>\n",
       "      <td>55.2</td>\n",
       "      <td>0</td>\n",
       "    </tr>\n",
       "    <tr>\n",
       "      <th>10</th>\n",
       "      <td>94.8</td>\n",
       "      <td>0</td>\n",
       "    </tr>\n",
       "    <tr>\n",
       "      <th>11</th>\n",
       "      <td>84.1</td>\n",
       "      <td>0</td>\n",
       "    </tr>\n",
       "    <tr>\n",
       "      <th>12</th>\n",
       "      <td>83.2</td>\n",
       "      <td>0</td>\n",
       "    </tr>\n",
       "    <tr>\n",
       "      <th>13</th>\n",
       "      <td>74.0</td>\n",
       "      <td>0</td>\n",
       "    </tr>\n",
       "    <tr>\n",
       "      <th>14</th>\n",
       "      <td>75.5</td>\n",
       "      <td>0</td>\n",
       "    </tr>\n",
       "    <tr>\n",
       "      <th>15</th>\n",
       "      <td>76.2</td>\n",
       "      <td>0</td>\n",
       "    </tr>\n",
       "    <tr>\n",
       "      <th>16</th>\n",
       "      <td>79.1</td>\n",
       "      <td>0</td>\n",
       "    </tr>\n",
       "    <tr>\n",
       "      <th>17</th>\n",
       "      <td>80.1</td>\n",
       "      <td>0</td>\n",
       "    </tr>\n",
       "    <tr>\n",
       "      <th>18</th>\n",
       "      <td>92.1</td>\n",
       "      <td>0</td>\n",
       "    </tr>\n",
       "    <tr>\n",
       "      <th>19</th>\n",
       "      <td>74.2</td>\n",
       "      <td>0</td>\n",
       "    </tr>\n",
       "    <tr>\n",
       "      <th>20</th>\n",
       "      <td>59.2</td>\n",
       "      <td>0</td>\n",
       "    </tr>\n",
       "    <tr>\n",
       "      <th>21</th>\n",
       "      <td>64.0</td>\n",
       "      <td>0</td>\n",
       "    </tr>\n",
       "    <tr>\n",
       "      <th>22</th>\n",
       "      <td>75.0</td>\n",
       "      <td>0</td>\n",
       "    </tr>\n",
       "    <tr>\n",
       "      <th>23</th>\n",
       "      <td>78.2</td>\n",
       "      <td>0</td>\n",
       "    </tr>\n",
       "    <tr>\n",
       "      <th>24</th>\n",
       "      <td>95.6</td>\n",
       "      <td>0</td>\n",
       "    </tr>\n",
       "    <tr>\n",
       "      <th>25</th>\n",
       "      <td>97.8</td>\n",
       "      <td>0</td>\n",
       "    </tr>\n",
       "    <tr>\n",
       "      <th>26</th>\n",
       "      <td>89.5</td>\n",
       "      <td>0</td>\n",
       "    </tr>\n",
       "    <tr>\n",
       "      <th>27</th>\n",
       "      <td>64.2</td>\n",
       "      <td>0</td>\n",
       "    </tr>\n",
       "    <tr>\n",
       "      <th>28</th>\n",
       "      <td>41.8</td>\n",
       "      <td>0</td>\n",
       "    </tr>\n",
       "    <tr>\n",
       "      <th>29</th>\n",
       "      <td>57.2</td>\n",
       "      <td>0</td>\n",
       "    </tr>\n",
       "    <tr>\n",
       "      <th>30</th>\n",
       "      <td>85.0</td>\n",
       "      <td>0</td>\n",
       "    </tr>\n",
       "    <tr>\n",
       "      <th>31</th>\n",
       "      <td>91.4</td>\n",
       "      <td>0</td>\n",
       "    </tr>\n",
       "    <tr>\n",
       "      <th>32</th>\n",
       "      <td>81.8</td>\n",
       "      <td>0</td>\n",
       "    </tr>\n",
       "    <tr>\n",
       "      <th>33</th>\n",
       "      <td>74.6</td>\n",
       "      <td>0</td>\n",
       "    </tr>\n",
       "    <tr>\n",
       "      <th>34</th>\n",
       "      <td>90.0</td>\n",
       "      <td>0</td>\n",
       "    </tr>\n",
       "  </tbody>\n",
       "</table>\n",
       "</div>"
      ],
      "text/plain": [
       "       0  category\n",
       "0   59.1         0\n",
       "1   65.0         0\n",
       "2   75.8         0\n",
       "3   79.2         0\n",
       "4   95.0         0\n",
       "5   99.8         0\n",
       "6   89.1         0\n",
       "7   65.2         0\n",
       "8   41.9         0\n",
       "9   55.2         0\n",
       "10  94.8         0\n",
       "11  84.1         0\n",
       "12  83.2         0\n",
       "13  74.0         0\n",
       "14  75.5         0\n",
       "15  76.2         0\n",
       "16  79.1         0\n",
       "17  80.1         0\n",
       "18  92.1         0\n",
       "19  74.2         0\n",
       "20  59.2         0\n",
       "21  64.0         0\n",
       "22  75.0         0\n",
       "23  78.2         0\n",
       "24  95.6         0\n",
       "25  97.8         0\n",
       "26  89.5         0\n",
       "27  64.2         0\n",
       "28  41.8         0\n",
       "29  57.2         0\n",
       "30  85.0         0\n",
       "31  91.4         0\n",
       "32  81.8         0\n",
       "33  74.6         0\n",
       "34  90.0         0"
      ]
     },
     "execution_count": 286,
     "metadata": {},
     "output_type": "execute_result"
    }
   ],
   "source": [
    "dfirs"
   ]
  },
  {
   "cell_type": "code",
   "execution_count": 287,
   "metadata": {},
   "outputs": [
    {
     "name": "stderr",
     "output_type": "stream",
     "text": [
      "C:\\ProgramData\\Anaconda3\\lib\\site-packages\\seaborn\\_decorators.py:36: FutureWarning: Pass the following variables as keyword args: x, y. From version 0.12, the only valid positional argument will be `data`, and passing other arguments without an explicit keyword will result in an error or misinterpretation.\n",
      "  warnings.warn(\n"
     ]
    },
    {
     "data": {
      "text/plain": [
       "<matplotlib.lines.Line2D at 0x19fb3f2da00>"
      ]
     },
     "execution_count": 287,
     "metadata": {},
     "output_type": "execute_result"
    },
    {
     "data": {
      "image/png": "[encoded data removed]",
      "text/plain": [
       "<Figure size 432x288 with 1 Axes>"
      ]
     },
     "metadata": {
      "needs_background": "light"
     },
     "output_type": "display_data"
    }
   ],
   "source": [
    "xaxis = np.arange(0, 35)\n",
    "\n",
    "\n",
    "sns.scatterplot(xaxis, dfirs[0], hue=dfirs['category'])\n",
    "plt.axhline(m,color='black')"
   ]
  },
  {
   "cell_type": "code",
   "execution_count": 288,
   "metadata": {},
   "outputs": [],
   "source": [
    "data=[21, 93, 62, 76, 73, 20, 56, 95, 41, 36, 38, 13, 80, 88, 34, 18, 40, 11, 25, 29, 61, 23, 82, 10, 92, 69, 60, 87, 14, 91, 94, 49, 57, 83, 96, 55, 79, 52, 59, 39, 58, 17, 19, 98, 15, 54, 48, 46, 72, 45, 65, 28, 37, 30, 68, 75, 16, 33, 31, 99, 22, 51, 27, 67, 85, 47, 44, 77, 64, 97, 84, 42, 90, 70, 74, 89, 32, 26, 24, 12, 81, 53, 50, 35, 71, 63, 43, 86, 78, 66]\n",
    "sample=[10, 22, 47, 66, 11, 57, 77, 98, 31, 63, 74, 84, 50, 96, 88, 92, 70, 54, 65, 44, 16, 72, 20, 90, 43]"
   ]
  },
  {
   "cell_type": "code",
   "execution_count": 289,
   "metadata": {},
   "outputs": [],
   "source": [
    "mean_d=np.mean(data)\n",
    "mean_s=np.mean(sample)"
   ]
  },
  {
   "cell_type": "code",
   "execution_count": 290,
   "metadata": {},
   "outputs": [
    {
     "name": "stdout",
     "output_type": "stream",
     "text": [
      "3.1000000000000014\n"
     ]
    }
   ],
   "source": [
    "sampling_error=abs(mean_d-mean_s)\n",
    "print(sampling_error)"
   ]
  },
  {
   "cell_type": "code",
   "execution_count": 291,
   "metadata": {},
   "outputs": [
    {
     "name": "stdout",
     "output_type": "stream",
     "text": [
      "     0  category\n",
      "0   21         0\n",
      "1   93         0\n",
      "2   62         0\n",
      "3   76         0\n",
      "4   73         0\n",
      "..  ..       ...\n",
      "85  63         0\n",
      "86  43         0\n",
      "87  86         0\n",
      "88  78         0\n",
      "89  66         0\n",
      "\n",
      "[90 rows x 2 columns]\n"
     ]
    }
   ],
   "source": [
    "dfirs=pd.DataFrame(data)\n",
    "dfirs.insert(1,'category',0)\n",
    "print(dfirs)"
   ]
  },
  {
   "cell_type": "code",
   "execution_count": 292,
   "metadata": {},
   "outputs": [],
   "source": [
    "for i,x in enumerate(dfirs[0]) :\n",
    "    if x in sample :\n",
    "        dfirs['category'][i]=1"
   ]
  },
  {
   "cell_type": "code",
   "execution_count": 293,
   "metadata": {},
   "outputs": [
    {
     "name": "stdout",
     "output_type": "stream",
     "text": [
      "     0  category\n",
      "0   21         0\n",
      "1   93         0\n",
      "2   62         0\n",
      "3   76         0\n",
      "4   73         0\n",
      "..  ..       ...\n",
      "85  63         1\n",
      "86  43         1\n",
      "87  86         0\n",
      "88  78         0\n",
      "89  66         1\n",
      "\n",
      "[90 rows x 2 columns]\n"
     ]
    }
   ],
   "source": [
    "print(dfirs)"
   ]
  },
  {
   "cell_type": "code",
   "execution_count": 294,
   "metadata": {},
   "outputs": [
    {
     "name": "stderr",
     "output_type": "stream",
     "text": [
      "C:\\ProgramData\\Anaconda3\\lib\\site-packages\\seaborn\\_decorators.py:36: FutureWarning: Pass the following variables as keyword args: x, y. From version 0.12, the only valid positional argument will be `data`, and passing other arguments without an explicit keyword will result in an error or misinterpretation.\n",
      "  warnings.warn(\n"
     ]
    },
    {
     "data": {
      "text/plain": [
       "<matplotlib.lines.Line2D at 0x19fb47f3fa0>"
      ]
     },
     "execution_count": 294,
     "metadata": {},
     "output_type": "execute_result"
    },
    {
     "data": {
      "image/png": "[encoded data removed]",
      "text/plain": [
       "<Figure size 432x288 with 1 Axes>"
      ]
     },
     "metadata": {
      "needs_background": "light"
     },
     "output_type": "display_data"
    }
   ],
   "source": [
    "xaxis = np.arange(0, 90)\n",
    "\n",
    "\n",
    "sns.scatterplot(xaxis, dfirs[0], hue=dfirs['category'])\n",
    "plt.axhline(sampling_error, color='black')\n",
    "plt.axhline(mean_s, color='red')"
   ]
  },
  {
   "cell_type": "code",
   "execution_count": 295,
   "metadata": {
    "scrolled": true
   },
   "outputs": [
    {
     "name": "stdout",
     "output_type": "stream",
     "text": [
      "[3873, 5027, 8440, 1941, 6199, 8385, 6470, 4120, 5719, 128, 4572, 6276, 2854, 2960, 1302, 718, 4423, 9089, 6984, 336, 5065, 2411, 9258, 641, 8450, 6937, 7781, 8292, 4196, 8362, 2853, 9882, 263, 1008, 6155, 7865, 4035, 8156, 1891, 8662, 1042, 5062, 3916, 4163, 6451, 3525, 361, 150, 6130, 1779, 5249, 5565, 3581, 7181, 4826, 2806, 4545, 9873, 9736, 1255, 2318, 8593, 2860, 6628, 3124, 6103, 4228, 1666, 4882, 4450, 3735, 3023, 7294, 8451, 2049, 5077, 4122, 9013, 1389, 8089, 9696, 9146, 4452, 4501, 5914, 6756, 9548, 8833, 4586, 8937, 239, 3807, 7840, 588, 2378, 2639, 4776, 1507, 8011, 2312, 7315, 2445, 3645, 7391, 5653, 4735, 3570, 1445, 1973, 7681, 7348, 1267, 2818, 5616, 9689, 9154, 9993, 3396, 5448, 4965, 7883, 8144, 4873, 7508, 1473, 1815, 1205, 4248, 6025, 8329, 3517, 3645, 1256, 7731, 4003, 3744, 4396, 4281, 9902, 9505, 8508, 4983, 4695, 8059, 5823, 1558, 572, 3584, 7879, 9630, 1934, 6345, 3552, 6940, 3085, 4813, 1339, 4569, 9745, 5611, 8935, 2134, 9764, 2998, 8891, 4969, 7000, 1609, 7485, 2720, 4220, 2062, 2648, 5511, 6088, 6330, 9243, 6514, 4472, 72, 5922, 6400, 8657, 2230, 4182, 4906, 6911, 4056, 8421, 7965, 7299, 8753, 4072, 7241, 6277, 7718, 1067, 4564, 9364, 9966, 1223, 1872, 8298, 7695, 5954, 3878, 4210, 5200, 9170, 4982, 8137, 8079, 3870, 2593, 3286, 5759, 7086, 1719, 4286, 340, 1868, 3397, 2668, 7125, 1968, 3389, 3228, 4987, 5050, 9333, 4864, 1226, 8801, 8816, 3807, 1466, 1391, 2648, 9824, 8640, 2015, 4872, 9747, 383, 2557, 2377, 4411, 3527, 1083, 40, 9090, 5092, 7082, 4394, 3906, 5990, 4516, 4754, 1196, 8666, 8473, 4139, 5240, 693, 3409, 2568, 2082, 7326, 918, 9347, 3741, 2106, 5670, 8829, 2101, 5307, 8765, 3198, 1803, 3172, 1645, 1379, 3912, 554, 5719, 7627, 2431, 3914, 9425, 274, 8953, 3683, 3377, 3755, 8313, 3492, 8920, 9919, 7159, 4594, 2774, 7158, 5638, 8680, 6484, 5221, 2024, 7710, 3617, 1782, 7709, 9062, 8567, 3446, 9329, 4380, 1256, 1638, 1956, 2860, 6224, 8109, 4535, 3476, 3867, 7606, 2734, 6662, 2685, 8993, 6660, 5224, 2835, 3951, 6102, 2421, 5684, 991, 2385, 4011, 6716, 5585, 3931, 8893, 8839, 5052, 6843, 5219, 44, 5883, 2192, 5691, 2393, 6888, 7683, 8760, 8483, 2343, 8031, 942, 2837, 5090, 1653, 2008, 559, 5395, 8420, 2259, 741, 1293, 4599, 4601, 9960, 2726, 7599, 6390, 1271, 8196, 7061, 9508, 3113, 1973, 8103, 9641, 8259, 7279, 9952, 5941, 4717, 317, 5967, 4256, 5884, 5926, 7371, 3187, 3596, 7807, 5513, 9580, 9302, 5703, 2359, 3760, 8281, 2018, 8832, 873, 3390, 7968, 8911, 5702, 1966, 1606, 2106, 3877, 2851, 6619, 4744, 2415, 988, 8022, 3245, 166, 8572, 2117, 9261, 6993, 1496, 9366, 1340, 1771, 115, 2670, 8483, 1019, 3474, 8800, 132, 6752, 3787, 3837, 8647, 2524, 3580, 6263, 9547, 4311, 5261, 1353, 5445, 7716, 5633, 4536, 2921, 9267, 6887, 3525, 8744, 7016, 9587, 8049, 5476, 2812, 7783, 2380, 2506, 9304, 4440, 266, 705, 9610, 83, 3440, 6083, 862, 5288, 9728, 5128, 7966, 3527, 7375, 6656, 1829, 2049, 2935, 5804, 7498, 7884, 7545, 7168, 6549, 1845, 2823, 9092, 732, 3427, 8474, 5874, 186, 9029, 3605, 7019, 9257, 5959, 1037, 6514, 4904, 3384, 202, 684, 8730, 9670, 2765, 1898, 7815, 8596, 8131, 5931, 6597, 5859, 6372, 6516, 1701, 1823, 3333, 1134, 9896, 51, 561, 7629, 4122, 1254, 403, 9988, 7302, 802, 3848, 8699, 2983, 7292, 4237, 8667, 648, 9732, 157, 27, 2473, 5359, 1353, 7441, 911, 7513, 405, 7115, 7095, 3788, 8146, 2969, 4510, 7046, 9946, 54, 9364, 2014, 3362, 4979, 965, 1700, 4033, 3435, 632, 5164, 6335, 8948, 4115, 3692, 5787, 2614, 7049, 5413, 4475, 3017, 6765, 2079, 6945, 8854, 7216, 7154, 5212, 1524, 8631, 5692, 139, 4033, 2930, 8264, 6189, 4891, 8540, 3331, 5848, 9532, 9447, 8273, 8701, 8361, 8510, 6970, 243, 1362, 3731, 6021, 9494, 9105, 8433, 3664, 911, 645, 19, 8425, 360, 2491, 1087, 3577, 9212, 9278, 8730, 7698, 5111, 7486, 3719, 5542, 4309, 2853, 663, 7825, 5598, 7149, 8748, 8230, 7815, 5051, 7731, 5066, 9062, 4239, 6195, 9142, 3198, 3902, 3070, 6034, 9129, 6020, 1005, 8548, 9352, 4395, 7074, 8598, 3381, 6708, 946, 7253, 3412, 2495, 3525, 168, 9190, 4361, 8791, 6943, 7587, 5980, 1078, 2513, 9396, 7538, 7392, 3481, 6347, 4374, 3627, 4074, 5942, 51, 7461, 9405, 1662, 975, 1843, 4417, 6282, 5673, 9188, 7958, 8415, 1731, 2080, 9799, 452, 811, 1090, 3329, 877, 1590, 7064, 6858, 7519, 7956, 640, 6399, 9791, 5984, 8505, 5780, 242, 5446, 5620, 9013, 1743, 1880, 1407, 9543, 713, 4755, 7968, 348, 4473, 8861, 9432, 7755, 4742, 921, 4335, 4971, 6615, 2892, 3899, 8501, 7951, 7751, 2493, 2209, 8628, 4946, 9489, 6105, 9463, 9106, 9521, 1332, 2395, 8095, 8938, 5013, 6757, 184, 4997, 5270, 1361, 5783, 8897, 4492, 2924, 627, 9313, 9937, 7527, 3184, 1628, 8442, 5376, 6630, 7763, 4721, 4047, 3011, 2839, 1905, 9641, 9658, 2709, 6655, 3718, 5660, 1966, 7788, 188, 2595, 926, 2645, 9037, 3307, 2879, 2777, 4798, 4288, 2427, 3314, 7262, 9766, 3208, 9096, 4687, 5470, 6762, 4355, 9178, 5564, 8246, 7600, 3412, 1351, 425, 9439, 8604, 8144, 3553, 6465, 5340, 768, 5814, 1827, 7066, 2870, 4985, 8547, 8147, 7442, 7563, 3101, 7928, 5108, 6150, 2690, 1427, 4243, 7051, 7900, 632, 5438, 8195, 5556, 9037, 1717, 2915, 8806, 9346, 5428, 197, 4871, 6119, 7747, 3772, 4500, 9792, 1354, 9189, 4060, 3718, 4761, 3048, 5161, 1521, 8943, 5844, 9351, 5441, 9068, 2613, 5019, 7573, 1888, 6279, 2821, 6128, 4219, 6670, 5158, 9642, 8580, 1008, 8352, 4848, 2775, 119, 8849, 3102, 1447, 2867, 862, 9226, 6631, 1033, 3962, 3316, 3484, 8095, 3853, 6268, 7839, 2924, 3466, 9486, 8320, 1068, 8349, 1901, 9367, 2105, 1833, 4579, 5388, 6890, 7310, 4669, 8656, 8967, 5316, 96, 9598, 9736, 701, 7084, 2135, 2818, 2897, 6718, 4731, 7627, 1742, 642, 6468, 4426, 6133, 1581, 734, 3767, 425, 7280, 9656, 9002, 8026, 9453, 5078, 2710, 8686, 7075, 1565, 5355, 4720, 4762, 7239, 2047, 3022, 9701, 1835, 9775, 7179, 2709, 5458, 8258, 4139, 5542, 9757, 644, 6504, 807, 6472, 9740, 7583, 8110, 5333, 929, 672, 5061, 4123, 403, 5945, 5812, 9710, 1573, 9486, 9238, 2570, 7743, 4057, 1566, 6543, 1965, 4786, 1029, 5460, 2897, 937, 2043, 6021, 2616]\n"
     ]
    }
   ],
   "source": [
    "rand_list=[np.random.randint(0,10000) for x in range(0,1000)]\n",
    "print(rand_list)"
   ]
  },
  {
   "cell_type": "code",
   "execution_count": 296,
   "metadata": {},
   "outputs": [
    {
     "data": {
      "text/plain": [
       "1000"
      ]
     },
     "execution_count": 296,
     "metadata": {},
     "output_type": "execute_result"
    }
   ],
   "source": [
    "len(rand_list)"
   ]
  },
  {
   "cell_type": "code",
   "execution_count": 297,
   "metadata": {},
   "outputs": [],
   "source": [
    "mean=[]\n",
    "for x in range(0,1000) :\n",
    "    sample=random.sample(rand_list,100)\n",
    "    mean.append(np.mean(sample))"
   ]
  },
  {
   "cell_type": "code",
   "execution_count": 298,
   "metadata": {
    "scrolled": true
   },
   "outputs": [
    {
     "name": "stdout",
     "output_type": "stream",
     "text": [
      "[5409.95, 4616.88, 5533.73, 5546.76, 4918.03, 4817.33, 4707.06, 5197.44, 5203.7, 5377.42, 5319.39, 5104.72, 4878.24, 4737.1, 5229.94, 4970.4, 4806.62, 4868.93, 5099.05, 5051.12, 5200.15, 5512.0, 5005.47, 5010.82, 4631.7, 5391.67, 4775.83, 5233.39, 5348.47, 4992.77, 5384.97, 4523.26, 4702.63, 5304.22, 4923.14, 5141.16, 5130.09, 4817.73, 5344.28, 4821.23, 5417.99, 5027.46, 5206.35, 5367.61, 5118.45, 5094.85, 5222.13, 5125.91, 5159.27, 5284.72, 4965.63, 4889.13, 5042.7, 4759.1, 5004.32, 5346.14, 5297.1, 5535.89, 4995.44, 5303.18, 5033.15, 4840.97, 5077.19, 4928.23, 4973.26, 5171.61, 4670.99, 5332.64, 5161.84, 4844.23, 5115.66, 5177.05, 5536.9, 5147.51, 5480.11, 4744.31, 5169.2, 5159.15, 5028.32, 4904.44, 4757.28, 4999.39, 4862.97, 4638.24, 4765.64, 4950.17, 4629.73, 5177.18, 5119.16, 4957.96, 4868.7, 4882.79, 4885.6, 5009.51, 5299.5, 5227.9, 5147.9, 5348.22, 5325.32, 5537.7, 4508.15, 5344.83, 5235.99, 5221.05, 4940.32, 5101.8, 5005.95, 5436.18, 4618.21, 5330.5, 4634.68, 5322.79, 5280.68, 4864.47, 4943.1, 5564.43, 5346.65, 5072.9, 5116.85, 5152.25, 4617.65, 4912.48, 4699.99, 4905.39, 4828.96, 4981.8, 4840.57, 5381.35, 5070.51, 5010.1, 5257.03, 5384.67, 5175.76, 5496.08, 5522.19, 5125.17, 4818.92, 4842.24, 4975.17, 5295.91, 5325.86, 4960.45, 5042.47, 5364.66, 5140.71, 4831.49, 4772.16, 5121.59, 5375.77, 5511.41, 5339.78, 5719.49, 5397.51, 5224.57, 4963.2, 5015.54, 4989.53, 4964.8, 5472.85, 4898.43, 5130.38, 4588.18, 4896.08, 5140.01, 5168.9, 5062.39, 5250.81, 5184.51, 4861.65, 5212.59, 5003.89, 4929.24, 4991.76, 5453.02, 5250.43, 5255.72, 4708.92, 5378.76, 5198.74, 5017.2, 4717.24, 4662.61, 4471.46, 5264.98, 5233.78, 5002.58, 5150.96, 4663.42, 5033.61, 5192.97, 5418.6, 5306.08, 5133.66, 5164.19, 4806.12, 4931.56, 5161.89, 5161.57, 5062.4, 5312.78, 5293.77, 5181.42, 4892.72, 5170.5, 5178.57, 5024.29, 5011.52, 5380.73, 5627.25, 5371.24, 4885.77, 5333.82, 5319.33, 5223.09, 5523.91, 5228.21, 5348.46, 3838.21, 5579.22, 4511.78, 5325.87, 5426.78, 4882.07, 4825.9, 5390.86, 5174.76, 5394.37, 4609.39, 4950.83, 4810.88, 4843.51, 4985.34, 5310.71, 5495.74, 5425.73, 4811.13, 4934.27, 4728.55, 5070.69, 5146.47, 5459.12, 5268.17, 5079.8, 4902.27, 5707.74, 4854.82, 5364.2, 5415.89, 5231.03, 4925.75, 5415.14, 5620.4, 4940.99, 5021.47, 5130.47, 5145.19, 4906.11, 5185.22, 4883.51, 5844.35, 5283.82, 4751.49, 5137.8, 5129.08, 5098.84, 4681.88, 5625.06, 4925.9, 4873.54, 5130.41, 5002.58, 5400.47, 4870.77, 4977.28, 4967.19, 4980.33, 5148.79, 4771.51, 4575.76, 5055.75, 5249.16, 5559.73, 5144.9, 5019.95, 5162.57, 5117.01, 5413.76, 5330.63, 5815.7, 5098.83, 5057.74, 4864.26, 5043.93, 5773.26, 4535.67, 4880.55, 4880.51, 5069.02, 5469.42, 4672.14, 4588.53, 5294.08, 5412.21, 4839.33, 4671.8, 4873.1, 5047.89, 5172.24, 5454.23, 5046.63, 4685.69, 4937.66, 4770.27, 5432.62, 5172.2, 5393.86, 5235.29, 5711.28, 5392.92, 5170.7, 5197.32, 5065.75, 5264.09, 5679.08, 5326.53, 5109.48, 5285.8, 4980.96, 4749.53, 4960.05, 4899.19, 4982.56, 5039.6, 5388.54, 5524.94, 5247.61, 4952.58, 5662.85, 4767.75, 5085.18, 5011.28, 4532.74, 4949.42, 5068.98, 5083.83, 4805.36, 5200.59, 4843.66, 4930.26, 5266.9, 5043.94, 5159.09, 5054.51, 5534.43, 5599.04, 5310.76, 5257.25, 4909.33, 4845.52, 5052.11, 4854.98, 5524.0, 4756.81, 5140.11, 5497.24, 4939.26, 5230.21, 4988.21, 5335.77, 5659.75, 4967.62, 5396.4, 5102.34, 5150.62, 5031.65, 5237.62, 5202.3, 5155.43, 4444.65, 4682.49, 4828.95, 5545.58, 4826.04, 4938.9, 4972.48, 5596.92, 5513.44, 5541.27, 5533.96, 5121.94, 5359.84, 4876.85, 4966.0, 5260.36, 5067.71, 5261.29, 4406.68, 5052.34, 5180.69, 5214.38, 5292.66, 5137.24, 5341.72, 5125.76, 4425.37, 5093.34, 4918.46, 5371.39, 4934.38, 4991.39, 5065.57, 4563.3, 5233.93, 4621.1, 4713.68, 5116.59, 4693.89, 5249.31, 5356.31, 4955.5, 5087.4, 5115.05, 5333.93, 4892.01, 5273.21, 5105.59, 5076.99, 5296.94, 5336.61, 4825.33, 5319.41, 5056.82, 4973.61, 4932.76, 5303.07, 4948.69, 5137.27, 5197.13, 5183.66, 4900.26, 4899.56, 5425.81, 5073.95, 4972.73, 5170.47, 5349.15, 4990.39, 5416.62, 4723.63, 5023.28, 5222.01, 4894.29, 5019.02, 5052.62, 4899.43, 5411.82, 5130.67, 4727.91, 5033.86, 4852.56, 5045.88, 5000.27, 5460.19, 5031.03, 4807.12, 4941.11, 4789.22, 4917.06, 4989.22, 4947.96, 5101.33, 5542.83, 5034.96, 5401.54, 4827.19, 5009.45, 5140.23, 5201.63, 4984.66, 5117.62, 5176.91, 4878.84, 5189.5, 5003.72, 5068.9, 5003.81, 4895.17, 4996.57, 4689.65, 5405.48, 5407.84, 5037.74, 4704.55, 5225.81, 5149.53, 5478.94, 5055.75, 5079.86, 5202.25, 4995.97, 5181.69, 5198.48, 5205.5, 4920.77, 4869.11, 4906.7, 4900.38, 4901.39, 5158.8, 5280.77, 4861.84, 5163.71, 5110.47, 5245.98, 5168.19, 5069.19, 4996.69, 5057.49, 5455.14, 5182.75, 5435.79, 4982.78, 5063.29, 4784.03, 4852.65, 5109.32, 4896.0, 5122.39, 5308.49, 5091.92, 4912.64, 5440.86, 5552.01, 5560.47, 5161.92, 5364.15, 5209.44, 5509.87, 5040.86, 4859.99, 5420.76, 5017.0, 4763.04, 4550.21, 5833.56, 5420.98, 5422.81, 4726.16, 4484.67, 4304.76, 5191.28, 5388.18, 4709.13, 5562.89, 4874.3, 5023.25, 5136.7, 5083.05, 4510.1, 5223.6, 5385.23, 5425.76, 4889.58, 5026.94, 5181.77, 5297.47, 5629.51, 5082.65, 5186.52, 4850.0, 5414.77, 4694.33, 5354.15, 5156.76, 5019.5, 5508.13, 5491.75, 5167.63, 5362.72, 5587.18, 4857.12, 5582.04, 5213.52, 5240.72, 4582.29, 4975.55, 5237.5, 5080.25, 5116.35, 5441.66, 5041.99, 5058.18, 5205.43, 5244.27, 5036.26, 5434.17, 5170.51, 5258.37, 5014.97, 5105.58, 4924.04, 5214.18, 4924.44, 5316.74, 4725.39, 5012.42, 4748.36, 5236.7, 5100.21, 4809.05, 5540.5, 5548.24, 4544.73, 5321.4, 4727.25, 5168.49, 4772.64, 5130.24, 4952.05, 4992.1, 5025.65, 4632.81, 4810.42, 5134.51, 5287.77, 5078.92, 4932.16, 5033.83, 5118.18, 5369.4, 4967.46, 4807.88, 5184.05, 5203.56, 5395.93, 5268.75, 5119.38, 5016.43, 5062.45, 5390.88, 4758.92, 4757.34, 4873.55, 5259.01, 5101.47, 5070.95, 5696.85, 5240.32, 5045.3, 4929.66, 4806.72, 5024.33, 5669.16, 5278.91, 4748.39, 5179.07, 5142.43, 4920.72, 5277.05, 4732.76, 4793.49, 4988.34, 4700.65, 4824.88, 4922.16, 5105.79, 5805.81, 5291.65, 4997.83, 5197.89, 4799.99, 4987.21, 5521.46, 5402.5, 5422.81, 4852.3, 4975.2, 5166.49, 4710.21, 5462.41, 4708.67, 4894.86, 5403.43, 5064.79, 5734.92, 5145.61, 5326.5, 5208.94, 4605.28, 4594.37, 5175.5, 4959.5, 5013.7, 5320.62, 5129.5, 5284.95, 4843.5, 4809.87, 5318.88, 5592.61, 4957.09, 5049.9, 5219.61, 4832.91, 4971.16, 5702.59, 5068.3, 5306.42, 4948.05, 4717.41, 5273.41, 4982.64, 4746.55, 4619.84, 5015.02, 4851.18, 5216.76, 4745.55, 5195.04, 5136.9, 5564.38, 5019.5, 5080.71, 5199.57, 5012.36, 5244.51, 4810.98, 4988.41, 4645.5, 5111.43, 5553.21, 5748.2, 4868.52, 5367.69, 4847.01, 4999.15, 4886.89, 4331.12, 4888.46, 4737.21, 5428.11, 5054.2, 5218.57, 4915.73, 5164.94, 5030.02, 5116.56, 5067.36, 4858.17, 5023.79, 5274.9, 5101.32, 5053.6, 5205.07, 5046.43, 4955.48, 5485.66, 5263.43, 5113.78, 4481.8, 4792.1, 4678.01, 4900.97, 4885.64, 5088.32, 5286.07, 5250.11, 5219.83, 4782.34, 5129.23, 4940.87, 5136.51, 5033.25, 4991.56, 5097.01, 5023.03, 4824.15, 4895.05, 4797.37, 4723.19, 4961.33, 4857.61, 4694.01, 4777.29, 5643.73, 4861.8, 4742.32, 5011.21, 5164.18, 5041.78, 5394.02, 5307.41, 5154.98, 5168.25, 5329.09, 5330.85, 5060.9, 5084.92, 5355.72, 4917.54, 4858.44, 5443.24, 4940.31, 4392.2, 4905.88, 5230.92, 5052.15, 4969.66, 4976.87, 5012.22, 4658.56, 5241.58, 5212.72, 5665.96, 5155.83, 5091.72, 5144.38, 5295.04, 4930.64, 5823.17, 5356.16, 4528.79, 4709.62, 5315.27, 5405.04, 5385.21, 5375.93, 4606.54, 5777.52, 4633.52, 5108.67, 5123.97, 5364.44, 5092.57, 5204.75, 4730.58, 4631.22, 5030.94, 5313.89, 5415.8, 5080.74, 5569.14, 5314.02, 4946.77, 4994.77, 5134.72, 5124.68, 4602.96, 5053.61, 5220.3, 4692.83, 5382.58, 5420.22, 5147.8, 5168.9, 5225.16, 5389.25, 5188.21, 4958.12, 5126.99, 5113.44, 5612.29, 5338.11, 4854.16, 5203.72, 4956.46, 5432.08, 5312.35, 4899.65, 4478.45, 4976.53, 5034.1, 5495.82, 4982.75, 5404.55, 4957.17, 4574.62, 5402.42, 5283.88, 4960.47, 4858.36, 4673.09, 5053.43, 5089.47, 5409.63, 5469.31, 5188.71, 5038.27, 5100.53, 4723.97, 5160.62, 4908.89, 5443.88, 5091.52, 5048.0, 4968.0, 4854.86, 4774.97, 5608.24, 4927.82, 4567.65, 4686.36, 4667.25, 5433.54, 4650.79, 4932.63, 5111.56, 4617.41, 5100.56, 5440.46, 4862.82, 5038.2, 5035.56, 4598.66, 5134.2, 5406.97, 5100.01, 5331.01, 5313.57, 5172.02, 4996.51, 5070.05, 4898.31, 5082.81, 5309.87, 5605.81, 5004.63, 5045.31, 5064.17, 5251.98, 5005.27, 4804.97, 5307.55, 5277.48, 5024.5, 4896.47, 5370.27, 5089.2, 5384.02, 5420.84, 5213.74, 5168.98, 5035.94, 5151.73, 5292.71, 5266.74, 4517.93, 5124.82, 4648.84, 5088.54, 4893.89, 4924.34, 4922.05, 4503.66, 4901.21, 4747.05, 5201.88, 4794.41, 5267.26, 5140.03, 5059.47, 4936.34, 5237.74, 5023.66, 5265.3, 5033.09, 4579.18, 5153.45, 5685.77, 5620.18, 4802.67, 4927.81, 4871.38, 5139.81, 5789.31, 4707.07, 5518.32, 5373.15, 5086.29, 5193.55, 4440.7, 4856.72, 4572.62, 5555.15, 5310.79, 4687.45, 5279.82, 5149.14, 4549.01, 5091.47, 5014.99, 5197.52, 5036.13, 4763.12, 4777.59, 4566.75, 4990.67, 4806.6, 4833.1, 5033.91]\n"
     ]
    }
   ],
   "source": [
    "print(mean)"
   ]
  },
  {
   "cell_type": "code",
   "execution_count": 299,
   "metadata": {
    "scrolled": true
   },
   "outputs": [
    {
     "data": {
      "text/plain": [
       "(array([  1.,   0.,   5.,  47., 115., 266., 290., 189.,  66.,  21.]),\n",
       " array([3838.21 , 4038.824, 4239.438, 4440.052, 4640.666, 4841.28 ,\n",
       "        5041.894, 5242.508, 5443.122, 5643.736, 5844.35 ]),\n",
       " <BarContainer object of 10 artists>)"
      ]
     },
     "execution_count": 299,
     "metadata": {},
     "output_type": "execute_result"
    },
    {
     "data": {
      "image/png": "[encoded data removed]",
      "text/plain": [
       "<Figure size 432x288 with 1 Axes>"
      ]
     },
     "metadata": {
      "needs_background": "light"
     },
     "output_type": "display_data"
    }
   ],
   "source": [
    "plt.hist(mean)"
   ]
  },
  {
   "cell_type": "code",
   "execution_count": null,
   "metadata": {},
   "outputs": [],
   "source": []
  }
 ],
 "metadata": {
  "colab": {
   "name": "7thjan.ipynb",
   "provenance": []
  },
  "kernelspec": {
   "display_name": "Python 3",
   "language": "python",
   "name": "python3"
  },
  "language_info": {
   "codemirror_mode": {
    "name": "ipython",
    "version": 3
   },
   "file_extension": ".py",
   "mimetype": "text/x-python",
   "name": "python",
   "nbconvert_exporter": "python",
   "pygments_lexer": "ipython3",
   "version": "3.8.3"
  }
 },
 "nbformat": 4,
 "nbformat_minor": 1
}
