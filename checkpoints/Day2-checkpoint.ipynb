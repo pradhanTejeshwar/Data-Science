{
 "cells": [
  {
   "cell_type": "markdown",
   "metadata": {},
   "source": [
    "# Imports"
   ]
  },
  {
   "cell_type": "code",
   "execution_count": 6,
   "metadata": {},
   "outputs": [],
   "source": [
    "import numpy as np"
   ]
  },
  {
   "cell_type": "markdown",
   "metadata": {},
   "source": [
    "### Row Matrix\n",
    "\n",
    "Row matrix: A matrix having a single row. Example:[1 2 3 4 5]."
   ]
  },
  {
   "cell_type": "code",
   "execution_count": 40,
   "metadata": {},
   "outputs": [],
   "source": [
    "# Creating row matrix using NumPy\n",
    "matrix_1 = np.array([1, 2, 3, 4, 5])\n",
    "matrix_2 =np.array([6,7,8,9,10])"
   ]
  },
  {
   "cell_type": "code",
   "execution_count": 9,
   "metadata": {},
   "outputs": [
    {
     "name": "stdout",
     "output_type": "stream",
     "text": [
      "[1 2 3 4 5]\n"
     ]
    }
   ],
   "source": [
    "# printing the matrix\n",
    "print(matrix_1)"
   ]
  },
  {
   "cell_type": "code",
   "execution_count": 49,
   "metadata": {},
   "outputs": [
    {
     "name": "stdout",
     "output_type": "stream",
     "text": [
      "[1 2 3 4 5] + [ 6  7  8  9 10] = [ 7  9 11 13 15]\n"
     ]
    }
   ],
   "source": [
    "# Performing Matrix addition\n",
    "matrix_3 = np.add(matrix_1,matrix_2)\n",
    "print(f'{matrix_1} + {matrix_2} = {matrix_3}')"
   ]
  },
  {
   "cell_type": "code",
   "execution_count": 50,
   "metadata": {},
   "outputs": [
    {
     "name": "stdout",
     "output_type": "stream",
     "text": [
      "[ 6  7  8  9 10] - [1 2 3 4 5] = [5 5 5 5 5]\n"
     ]
    }
   ],
   "source": [
    "# Performing Matrix Subtraction\n",
    "matrix_3 = np.subtract(matrix_2,matrix_1)\n",
    "print(f'{matrix_2} - {matrix_1} = {matrix_3}')"
   ]
  },
  {
   "cell_type": "code",
   "execution_count": 68,
   "metadata": {},
   "outputs": [
    {
     "name": "stdout",
     "output_type": "stream",
     "text": [
      "[1 2 3 4 5] * [ 6  7  8  9 10] = 130\n"
     ]
    }
   ],
   "source": [
    "# Performing Matrix multiplication \n",
    "matrix_3 = np.matmul(matrix_2,matrix_1)\n",
    "print(f'{matrix_1} * {matrix_2} = {matrix_3}')"
   ]
  },
  {
   "cell_type": "code",
   "execution_count": 70,
   "metadata": {},
   "outputs": [
    {
     "data": {
      "text/plain": [
       "array([ 1,  2,  3,  4,  5,  6,  7,  8,  9, 10])"
      ]
     },
     "execution_count": 70,
     "metadata": {},
     "output_type": "execute_result"
    }
   ],
   "source": [
    "# Performing Flattening\n",
    "matrix_4 = np.array([[1,2,3,4,5], [6,7,8,9,10]])\n",
    "matrix_4.flatten()"
   ]
  },
  {
   "cell_type": "code",
   "execution_count": 73,
   "metadata": {},
   "outputs": [
    {
     "data": {
      "text/plain": [
       "array([[ 1,  6],\n",
       "       [ 2,  7],\n",
       "       [ 3,  8],\n",
       "       [ 4,  9],\n",
       "       [ 5, 10]])"
      ]
     },
     "execution_count": 73,
     "metadata": {},
     "output_type": "execute_result"
    }
   ],
   "source": [
    "# Performing Flattening\n",
    "matrix_4 = np.array([[1,2,3,4,5], [6,7,8,9,10]])\n",
    "matrix_4.transpose()"
   ]
  },
  {
   "cell_type": "code",
   "execution_count": 97,
   "metadata": {},
   "outputs": [
    {
     "name": "stdout",
     "output_type": "stream",
     "text": [
      "[[20 23]\n",
      " [80 93]]\n"
     ]
    }
   ],
   "source": [
    "# Performing Matrix multiplication \n",
    "matrix_1_1 = np.array([[1,2], [6,7]])\n",
    "matrix_1_2 = np.array([[4,5], [8,9]])\n",
    "                    \n",
    "matrix_3 = np.dot(matrix_1_1,matrix_1_2)\n",
    "print(f'{matrix_3}')"
   ]
  },
  {
   "cell_type": "code",
   "execution_count": 91,
   "metadata": {},
   "outputs": [
    {
     "name": "stdout",
     "output_type": "stream",
     "text": [
      "[[20 23]\n",
      " [80 93]]\n"
     ]
    }
   ],
   "source": [
    "# Performing Matrix multiplication \n",
    "matrix_1_1 = np.array([[1,2], [6,7]])\n",
    "matrix_1_2 = np.array([[4,5], [8,9]])\n",
    "                    \n",
    "matrix_3 = np.matmul(matrix_1_1,matrix_1_2)\n",
    "print(f'{matrix_3}')"
   ]
  },
  {
   "cell_type": "code",
   "execution_count": 93,
   "metadata": {},
   "outputs": [
    {
     "name": "stdout",
     "output_type": "stream",
     "text": [
      "[[ 4 10]\n",
      " [48 63]]\n"
     ]
    }
   ],
   "source": [
    "# Performing Matrix multiplication \n",
    "matrix_1_1 = np.array([[1,2], [6,7]])\n",
    "matrix_1_2 = np.array([[4,5], [8,9]])\n",
    "                    \n",
    "matrix_3 = np.multiply(matrix_1_1,matrix_1_2)\n",
    "print(f'{matrix_3}')"
   ]
  },
  {
   "cell_type": "code",
   "execution_count": 109,
   "metadata": {},
   "outputs": [
    {
     "name": "stdout",
     "output_type": "stream",
     "text": [
      "Dot =\n",
      " [[ 50  56]\n",
      " [160 181]]\n",
      "multiply =\n",
      " [[ 4 10]\n",
      " [48 63]]\n",
      "Matmul =\n",
      " [[ 50  56]\n",
      " [160 181]]\n"
     ]
    }
   ],
   "source": [
    "matrix_1_1 = np.array([[1,2,3], [6,7,8]])\n",
    "matrix_1_2 = np.array([[4,5], [8,9],[10,11]])\n",
    "\n",
    "matrix_1_3 = np.array([[1,2], [6,7]])\n",
    "matrix_1_4 = np.array([[4,5], [8,9]])\n",
    "\n",
    "print(f'Dot =\\n {np.dot(matrix_1_1,matrix_1_2)}')\n",
    "print(f'multiply =\\n {np.multiply(matrix_1_3,matrix_1_4)}')\n",
    "print(f'Matmul =\\n {np.matmul(matrix_1_1,matrix_1_2)}') "
   ]
  },
  {
   "cell_type": "code",
   "execution_count": null,
   "metadata": {},
   "outputs": [],
   "source": []
  }
 ],
 "metadata": {
  "kernelspec": {
   "display_name": "Python 3",
   "language": "python",
   "name": "python3"
  },
  "language_info": {
   "codemirror_mode": {
    "name": "ipython",
    "version": 3
   },
   "file_extension": ".py",
   "mimetype": "text/x-python",
   "name": "python",
   "nbconvert_exporter": "python",
   "pygments_lexer": "ipython3",
   "version": "3.8.3"
  }
 },
 "nbformat": 4,
 "nbformat_minor": 4
}
