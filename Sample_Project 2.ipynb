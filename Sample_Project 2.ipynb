{
 "cells": [
  {
   "cell_type": "markdown",
   "metadata": {},
   "source": [
    "# Bank Marketing\n",
    "### Mentored by Dipayan Sarkar, Algoritmo Lab\n",
    "##### Submentored   by Tumpa Banerjee\n",
    "  \n",
    "_________________________________________________________________________________________________________  \n",
    "  \n",
    "## Data Set Information\n",
    "The Original Dataset contains 41188 entries of row of data with 21 numerical/categorical attributes. This dataset provides us the information of the person and determining the information given, we have to determine whether the person has availed the term deposit.\n",
    "\n",
    "#### Number of Instances : 41188 Entries  \n",
    "#### Number of Attributes : 21 Attributes\n",
    "These are all the attributes in the dataset with its description\n",
    "   \n",
    "  - 1 - age (numeric)\n",
    "  - 2 - job : type of job (categorical)\n",
    "      - \"admin.\"\n",
    "      - \"blue-collar\"\n",
    "      - \"entrepreneur\"\n",
    "      - \"housemaid\"\n",
    "      - \"management\"\n",
    "      - \"retired\"\n",
    "      - \"self-employed\"\n",
    "      - \"services\"\n",
    "      - \"student\"\n",
    "      - \"technician\"\n",
    "      - \"unemployed\"\n",
    "      - \"unknown\"\n",
    "      \n",
    "  - 3 - marital : marital status (categorical)\n",
    "      - \"divorced\" #note: \"divorced\" means divorced or widowed)\n",
    "      - \"married\" \n",
    "      - \"single\"\n",
    "      - \"unknown\"\n",
    "      \n",
    "  - 4 - education (categorical)\n",
    "      - \"basic.4y\"\n",
    "      - \"basic.6y\"\n",
    "      - \"basic.9y\"\n",
    "      - \"high.school\"\n",
    "      - \"illiterate\"\n",
    "      - \"professional.course\"\n",
    "      - \"university.degree\"\n",
    "      - \"unknown\"\n",
    "  - 5 - default: has credit in default? (categorical)\n",
    "      - \"no\"\n",
    "      - \"yes\"\n",
    "      - \"unknown\"\n",
    "  - 6 - housing: has housing loan? (categorical)\n",
    "      - \"no\"\n",
    "      - \"yes\"\n",
    "      - \"unknown\"\n",
    "  - 7 - loan: has personal loan? (categorical)\n",
    "      - \"no\"\n",
    "      - \"yes\"\n",
    "      - \"unknown\")\n",
    "   \n",
    "> related with the last contact of the current campaign:\n",
    "   \n",
    "  - 8 - contact: contact communication type (categorical)\n",
    "      - \"cellular\"\n",
    "      - \"telephone\"\n",
    "  - 9 - month: last contact month of year (categorical)\n",
    "      - \"jan\"\n",
    "      - \"feb\"\n",
    "      - \"mar\"\n",
    "      - .\n",
    "      - .\n",
    "      - .\n",
    "      - \"nov\"\n",
    "      - \"dec\"\n",
    "  - 10 - day_of_week: last contact day of the week (categorical)\n",
    "      - \"mon\"\n",
    "      - \"tue\"\n",
    "      - \"wed\"\n",
    "      - \"thu\"\n",
    "      - \"fri\"\n",
    "  - 11 - duration: last contact duration, in seconds (numeric). Important note:  this attribute highly affects the output target (e.g., if duration=0 then y=\"no\"). Yet, the duration is not known before a call is performed. Also, after the end of the call y is obviously known. Thus, this input should only be included for benchmark purposes and should be discarded if the intention is to have a realistic predictive model.\n",
    "> other attributes:\n",
    "   \n",
    "  - 12 - campaign: number of contacts performed during this campaign and for this client (numeric, includes last contact)\n",
    "  - 13 - pdays: number of days that passed by after the client was last contacted from a previous campaign (numeric; 999 means client was not previously contacted)\n",
    "  - 14 - previous: number of contacts performed before this campaign and for this client (numeric)\n",
    "  - 15 - poutcome: outcome of the previous marketing campaign (categorical)\n",
    "      - \"failure\"\n",
    "      - \"nonexistent\" \n",
    "      - \"success\")\n",
    "> social and economic context attributes\n",
    "   \n",
    "  - 16 - emp.var.rate: employment variation rate - quarterly indicator (numeric)\n",
    "  - 17 - cons.price.idx: consumer price index - monthly indicator (numeric)     \n",
    "  - 18 - cons.conf.idx: consumer confidence index - monthly indicator (numeric)     \n",
    "  - 19 - euribor3m: euribor 3 month rate - daily indicator (numeric)\n",
    "  - 20 - nr.employed: number of employees - quarterly indicator (numeric)\n",
    "\n",
    "> Output variable (desired target):\n",
    "  \n",
    "  - 21 - y - has the client subscribed a term deposit? \n",
    "      - (binary: \"yes\",\"no\")\n",
    "\n",
    "Missing Attribute Values: There are several missing values in some categorical attributes, all coded with the \"unknown\" label. These missing values can be treated as a possible class label or using deletion or imputation techniques. \n"
   ]
  },
  {
   "cell_type": "markdown",
   "metadata": {},
   "source": [
    "## Index:\n",
    "\n",
    "1. **[Import packages](#imports)**\n",
    "2. **[Data Preparation](#data_prep)**\n",
    "    - 2.1 - [Dimensions of the Dataset](#data_dimension)\n",
    "    - 2.2 - [Pre-Preparation](#pre_prep)\n",
    "    - 2.3 - [Statistical Summary](#stat_sum)\n",
    "3. **[Exploratory Data Analysis](#exploratory_data_analysis)**\n",
    "    - 3.1 - [Correlation](#correlation)\n",
    "4. **[Logistic Regression](#log_reg)**\n",
    "    - 4.1 - [Preparation of datasets](#prep_data)\n",
    "    - 4.2 - [Building Logistic Regression Base Model](#base_model)\n",
    "5. **[End of Documentation](#end)**"
   ]
  },
  {
   "cell_type": "markdown",
   "metadata": {},
   "source": [
    "<a id='imports'></a>\n",
    "# 1. Imports"
   ]
  },
  {
   "cell_type": "code",
   "execution_count": 2,
   "metadata": {},
   "outputs": [],
   "source": [
    "##Importing all of our imports needed in this file\n",
    "import pandas as pd\n",
    "import numpy as np\n",
    "import seaborn as sns\n",
    "import statsmodels.api as sm\n",
    "import matplotlib.pyplot as plt\n",
    "from sklearn import metrics\n",
    "from sklearn.tree import DecisionTreeClassifier, plot_tree\n",
    "from sklearn.preprocessing import MinMaxScaler,StandardScaler\n",
    "from sklearn.model_selection import train_test_split, cross_val_score\n",
    "from sklearn.metrics import accuracy_score,confusion_matrix, plot_confusion_matrix, classification_report, roc_auc_score, roc_curve"
   ]
  },
  {
   "cell_type": "markdown",
   "metadata": {},
   "source": [
    "### User Defined Functions"
   ]
  },
  {
   "cell_type": "markdown",
   "metadata": {},
   "source": [
    "This section holds all of the functions created which may be used in the program to simplify the code"
   ]
  },
  {
   "cell_type": "code",
   "execution_count": 3,
   "metadata": {},
   "outputs": [],
   "source": [
    "def show_unique(value):\n",
    "    print(value.unique())"
   ]
  },
  {
   "cell_type": "markdown",
   "metadata": {},
   "source": [
    "<a id='data_prep'></a>\n",
    "# 2. Data Preparation\n",
    "Data Preparation is a pre-processing step in which data from one or more sources is cleaned and transformed to improve its quality prior to its use in business analytics. We do this to ensure that data is consistent and of high quality.   \n",
    "\n",
    "When data is of excellent quality it can be easily processed and analyzed, leading to insights that help the organization make better decisions. High-quality data is essential to business intelligence efforts and other types of data analytics, as well as better overall operational efficiency.\n",
    "_________________________________________________________________________________________________________  \n",
    "  "
   ]
  },
  {
   "cell_type": "markdown",
   "metadata": {},
   "source": [
    "Reading the 'bank-additional-full.csv' file and storing it in a Dataframe"
   ]
  },
  {
   "cell_type": "code",
   "execution_count": 4,
   "metadata": {},
   "outputs": [],
   "source": [
    "df=pd.read_csv('bank-additional-full.csv',sep=\";\")"
   ]
  },
  {
   "cell_type": "markdown",
   "metadata": {},
   "source": [
    "<a id='data_dimension'></a>\n",
    "### 2.1 Dimensions of the Dataset\n",
    "Getting the Dimensions of the Dataframe"
   ]
  },
  {
   "cell_type": "code",
   "execution_count": 5,
   "metadata": {
    "scrolled": true
   },
   "outputs": [
    {
     "data": {
      "text/plain": [
       "(41188, 21)"
      ]
     },
     "execution_count": 5,
     "metadata": {},
     "output_type": "execute_result"
    }
   ],
   "source": [
    "df.shape"
   ]
  },
  {
   "cell_type": "markdown",
   "metadata": {},
   "source": [
    "<a id='pre_prep'></a>\n",
    "### 2.2 Pre-Preparation\n",
    "Here we make the necessary changes which will simplify and increase our efficiency and speed of our workflow"
   ]
  },
  {
   "cell_type": "markdown",
   "metadata": {},
   "source": [
    "Increasing the maximum number of rows and columns to '10000'"
   ]
  },
  {
   "cell_type": "code",
   "execution_count": 6,
   "metadata": {},
   "outputs": [],
   "source": [
    "pd.options.display.max_rows=10000\n",
    "pd.options.display.max_columns=10000"
   ]
  },
  {
   "cell_type": "markdown",
   "metadata": {},
   "source": [
    "Increasing the maximum width of the column to '1000'"
   ]
  },
  {
   "cell_type": "code",
   "execution_count": 7,
   "metadata": {},
   "outputs": [],
   "source": [
    "pd.set_option('display.max_colwidth', 1000)"
   ]
  },
  {
   "cell_type": "markdown",
   "metadata": {},
   "source": [
    "Printing top 10 data from the csv"
   ]
  },
  {
   "cell_type": "code",
   "execution_count": 8,
   "metadata": {
    "scrolled": true
   },
   "outputs": [
    {
     "data": {
      "text/html": [
       "<div>\n",
       "<style scoped>\n",
       "    .dataframe tbody tr th:only-of-type {\n",
       "        vertical-align: middle;\n",
       "    }\n",
       "\n",
       "    .dataframe tbody tr th {\n",
       "        vertical-align: top;\n",
       "    }\n",
       "\n",
       "    .dataframe thead th {\n",
       "        text-align: right;\n",
       "    }\n",
       "</style>\n",
       "<table border=\"1\" class=\"dataframe\">\n",
       "  <thead>\n",
       "    <tr style=\"text-align: right;\">\n",
       "      <th></th>\n",
       "      <th>age</th>\n",
       "      <th>job</th>\n",
       "      <th>marital</th>\n",
       "      <th>education</th>\n",
       "      <th>default</th>\n",
       "      <th>housing</th>\n",
       "      <th>loan</th>\n",
       "      <th>contact</th>\n",
       "      <th>month</th>\n",
       "      <th>day_of_week</th>\n",
       "      <th>duration</th>\n",
       "      <th>campaign</th>\n",
       "      <th>pdays</th>\n",
       "      <th>previous</th>\n",
       "      <th>poutcome</th>\n",
       "      <th>emp.var.rate</th>\n",
       "      <th>cons.price.idx</th>\n",
       "      <th>cons.conf.idx</th>\n",
       "      <th>euribor3m</th>\n",
       "      <th>nr.employed</th>\n",
       "      <th>y</th>\n",
       "    </tr>\n",
       "  </thead>\n",
       "  <tbody>\n",
       "    <tr>\n",
       "      <th>0</th>\n",
       "      <td>56</td>\n",
       "      <td>housemaid</td>\n",
       "      <td>married</td>\n",
       "      <td>basic.4y</td>\n",
       "      <td>no</td>\n",
       "      <td>no</td>\n",
       "      <td>no</td>\n",
       "      <td>telephone</td>\n",
       "      <td>may</td>\n",
       "      <td>mon</td>\n",
       "      <td>261</td>\n",
       "      <td>1</td>\n",
       "      <td>999</td>\n",
       "      <td>0</td>\n",
       "      <td>nonexistent</td>\n",
       "      <td>1.1</td>\n",
       "      <td>93.994</td>\n",
       "      <td>-36.4</td>\n",
       "      <td>4.857</td>\n",
       "      <td>5191.0</td>\n",
       "      <td>no</td>\n",
       "    </tr>\n",
       "    <tr>\n",
       "      <th>1</th>\n",
       "      <td>57</td>\n",
       "      <td>services</td>\n",
       "      <td>married</td>\n",
       "      <td>high.school</td>\n",
       "      <td>unknown</td>\n",
       "      <td>no</td>\n",
       "      <td>no</td>\n",
       "      <td>telephone</td>\n",
       "      <td>may</td>\n",
       "      <td>mon</td>\n",
       "      <td>149</td>\n",
       "      <td>1</td>\n",
       "      <td>999</td>\n",
       "      <td>0</td>\n",
       "      <td>nonexistent</td>\n",
       "      <td>1.1</td>\n",
       "      <td>93.994</td>\n",
       "      <td>-36.4</td>\n",
       "      <td>4.857</td>\n",
       "      <td>5191.0</td>\n",
       "      <td>no</td>\n",
       "    </tr>\n",
       "    <tr>\n",
       "      <th>2</th>\n",
       "      <td>37</td>\n",
       "      <td>services</td>\n",
       "      <td>married</td>\n",
       "      <td>high.school</td>\n",
       "      <td>no</td>\n",
       "      <td>yes</td>\n",
       "      <td>no</td>\n",
       "      <td>telephone</td>\n",
       "      <td>may</td>\n",
       "      <td>mon</td>\n",
       "      <td>226</td>\n",
       "      <td>1</td>\n",
       "      <td>999</td>\n",
       "      <td>0</td>\n",
       "      <td>nonexistent</td>\n",
       "      <td>1.1</td>\n",
       "      <td>93.994</td>\n",
       "      <td>-36.4</td>\n",
       "      <td>4.857</td>\n",
       "      <td>5191.0</td>\n",
       "      <td>no</td>\n",
       "    </tr>\n",
       "    <tr>\n",
       "      <th>3</th>\n",
       "      <td>40</td>\n",
       "      <td>admin.</td>\n",
       "      <td>married</td>\n",
       "      <td>basic.6y</td>\n",
       "      <td>no</td>\n",
       "      <td>no</td>\n",
       "      <td>no</td>\n",
       "      <td>telephone</td>\n",
       "      <td>may</td>\n",
       "      <td>mon</td>\n",
       "      <td>151</td>\n",
       "      <td>1</td>\n",
       "      <td>999</td>\n",
       "      <td>0</td>\n",
       "      <td>nonexistent</td>\n",
       "      <td>1.1</td>\n",
       "      <td>93.994</td>\n",
       "      <td>-36.4</td>\n",
       "      <td>4.857</td>\n",
       "      <td>5191.0</td>\n",
       "      <td>no</td>\n",
       "    </tr>\n",
       "    <tr>\n",
       "      <th>4</th>\n",
       "      <td>56</td>\n",
       "      <td>services</td>\n",
       "      <td>married</td>\n",
       "      <td>high.school</td>\n",
       "      <td>no</td>\n",
       "      <td>no</td>\n",
       "      <td>yes</td>\n",
       "      <td>telephone</td>\n",
       "      <td>may</td>\n",
       "      <td>mon</td>\n",
       "      <td>307</td>\n",
       "      <td>1</td>\n",
       "      <td>999</td>\n",
       "      <td>0</td>\n",
       "      <td>nonexistent</td>\n",
       "      <td>1.1</td>\n",
       "      <td>93.994</td>\n",
       "      <td>-36.4</td>\n",
       "      <td>4.857</td>\n",
       "      <td>5191.0</td>\n",
       "      <td>no</td>\n",
       "    </tr>\n",
       "    <tr>\n",
       "      <th>5</th>\n",
       "      <td>45</td>\n",
       "      <td>services</td>\n",
       "      <td>married</td>\n",
       "      <td>basic.9y</td>\n",
       "      <td>unknown</td>\n",
       "      <td>no</td>\n",
       "      <td>no</td>\n",
       "      <td>telephone</td>\n",
       "      <td>may</td>\n",
       "      <td>mon</td>\n",
       "      <td>198</td>\n",
       "      <td>1</td>\n",
       "      <td>999</td>\n",
       "      <td>0</td>\n",
       "      <td>nonexistent</td>\n",
       "      <td>1.1</td>\n",
       "      <td>93.994</td>\n",
       "      <td>-36.4</td>\n",
       "      <td>4.857</td>\n",
       "      <td>5191.0</td>\n",
       "      <td>no</td>\n",
       "    </tr>\n",
       "    <tr>\n",
       "      <th>6</th>\n",
       "      <td>59</td>\n",
       "      <td>admin.</td>\n",
       "      <td>married</td>\n",
       "      <td>professional.course</td>\n",
       "      <td>no</td>\n",
       "      <td>no</td>\n",
       "      <td>no</td>\n",
       "      <td>telephone</td>\n",
       "      <td>may</td>\n",
       "      <td>mon</td>\n",
       "      <td>139</td>\n",
       "      <td>1</td>\n",
       "      <td>999</td>\n",
       "      <td>0</td>\n",
       "      <td>nonexistent</td>\n",
       "      <td>1.1</td>\n",
       "      <td>93.994</td>\n",
       "      <td>-36.4</td>\n",
       "      <td>4.857</td>\n",
       "      <td>5191.0</td>\n",
       "      <td>no</td>\n",
       "    </tr>\n",
       "    <tr>\n",
       "      <th>7</th>\n",
       "      <td>41</td>\n",
       "      <td>blue-collar</td>\n",
       "      <td>married</td>\n",
       "      <td>unknown</td>\n",
       "      <td>unknown</td>\n",
       "      <td>no</td>\n",
       "      <td>no</td>\n",
       "      <td>telephone</td>\n",
       "      <td>may</td>\n",
       "      <td>mon</td>\n",
       "      <td>217</td>\n",
       "      <td>1</td>\n",
       "      <td>999</td>\n",
       "      <td>0</td>\n",
       "      <td>nonexistent</td>\n",
       "      <td>1.1</td>\n",
       "      <td>93.994</td>\n",
       "      <td>-36.4</td>\n",
       "      <td>4.857</td>\n",
       "      <td>5191.0</td>\n",
       "      <td>no</td>\n",
       "    </tr>\n",
       "    <tr>\n",
       "      <th>8</th>\n",
       "      <td>24</td>\n",
       "      <td>technician</td>\n",
       "      <td>single</td>\n",
       "      <td>professional.course</td>\n",
       "      <td>no</td>\n",
       "      <td>yes</td>\n",
       "      <td>no</td>\n",
       "      <td>telephone</td>\n",
       "      <td>may</td>\n",
       "      <td>mon</td>\n",
       "      <td>380</td>\n",
       "      <td>1</td>\n",
       "      <td>999</td>\n",
       "      <td>0</td>\n",
       "      <td>nonexistent</td>\n",
       "      <td>1.1</td>\n",
       "      <td>93.994</td>\n",
       "      <td>-36.4</td>\n",
       "      <td>4.857</td>\n",
       "      <td>5191.0</td>\n",
       "      <td>no</td>\n",
       "    </tr>\n",
       "    <tr>\n",
       "      <th>9</th>\n",
       "      <td>25</td>\n",
       "      <td>services</td>\n",
       "      <td>single</td>\n",
       "      <td>high.school</td>\n",
       "      <td>no</td>\n",
       "      <td>yes</td>\n",
       "      <td>no</td>\n",
       "      <td>telephone</td>\n",
       "      <td>may</td>\n",
       "      <td>mon</td>\n",
       "      <td>50</td>\n",
       "      <td>1</td>\n",
       "      <td>999</td>\n",
       "      <td>0</td>\n",
       "      <td>nonexistent</td>\n",
       "      <td>1.1</td>\n",
       "      <td>93.994</td>\n",
       "      <td>-36.4</td>\n",
       "      <td>4.857</td>\n",
       "      <td>5191.0</td>\n",
       "      <td>no</td>\n",
       "    </tr>\n",
       "  </tbody>\n",
       "</table>\n",
       "</div>"
      ],
      "text/plain": [
       "   age          job  marital            education  default housing loan  \\\n",
       "0   56    housemaid  married             basic.4y       no      no   no   \n",
       "1   57     services  married          high.school  unknown      no   no   \n",
       "2   37     services  married          high.school       no     yes   no   \n",
       "3   40       admin.  married             basic.6y       no      no   no   \n",
       "4   56     services  married          high.school       no      no  yes   \n",
       "5   45     services  married             basic.9y  unknown      no   no   \n",
       "6   59       admin.  married  professional.course       no      no   no   \n",
       "7   41  blue-collar  married              unknown  unknown      no   no   \n",
       "8   24   technician   single  professional.course       no     yes   no   \n",
       "9   25     services   single          high.school       no     yes   no   \n",
       "\n",
       "     contact month day_of_week  duration  campaign  pdays  previous  \\\n",
       "0  telephone   may         mon       261         1    999         0   \n",
       "1  telephone   may         mon       149         1    999         0   \n",
       "2  telephone   may         mon       226         1    999         0   \n",
       "3  telephone   may         mon       151         1    999         0   \n",
       "4  telephone   may         mon       307         1    999         0   \n",
       "5  telephone   may         mon       198         1    999         0   \n",
       "6  telephone   may         mon       139         1    999         0   \n",
       "7  telephone   may         mon       217         1    999         0   \n",
       "8  telephone   may         mon       380         1    999         0   \n",
       "9  telephone   may         mon        50         1    999         0   \n",
       "\n",
       "      poutcome  emp.var.rate  cons.price.idx  cons.conf.idx  euribor3m  \\\n",
       "0  nonexistent           1.1          93.994          -36.4      4.857   \n",
       "1  nonexistent           1.1          93.994          -36.4      4.857   \n",
       "2  nonexistent           1.1          93.994          -36.4      4.857   \n",
       "3  nonexistent           1.1          93.994          -36.4      4.857   \n",
       "4  nonexistent           1.1          93.994          -36.4      4.857   \n",
       "5  nonexistent           1.1          93.994          -36.4      4.857   \n",
       "6  nonexistent           1.1          93.994          -36.4      4.857   \n",
       "7  nonexistent           1.1          93.994          -36.4      4.857   \n",
       "8  nonexistent           1.1          93.994          -36.4      4.857   \n",
       "9  nonexistent           1.1          93.994          -36.4      4.857   \n",
       "\n",
       "   nr.employed   y  \n",
       "0       5191.0  no  \n",
       "1       5191.0  no  \n",
       "2       5191.0  no  \n",
       "3       5191.0  no  \n",
       "4       5191.0  no  \n",
       "5       5191.0  no  \n",
       "6       5191.0  no  \n",
       "7       5191.0  no  \n",
       "8       5191.0  no  \n",
       "9       5191.0  no  "
      ]
     },
     "execution_count": 8,
     "metadata": {},
     "output_type": "execute_result"
    }
   ],
   "source": [
    "df.head(10)"
   ]
  },
  {
   "cell_type": "markdown",
   "metadata": {},
   "source": [
    "Note: We can easily verify the data given in the dataframe above"
   ]
  },
  {
   "cell_type": "markdown",
   "metadata": {},
   "source": [
    "Having a look at all the datatypes present in the DataFrame and missing values"
   ]
  },
  {
   "cell_type": "code",
   "execution_count": 9,
   "metadata": {},
   "outputs": [
    {
     "name": "stdout",
     "output_type": "stream",
     "text": [
      "<class 'pandas.core.frame.DataFrame'>\n",
      "RangeIndex: 41188 entries, 0 to 41187\n",
      "Data columns (total 21 columns):\n",
      " #   Column          Non-Null Count  Dtype  \n",
      "---  ------          --------------  -----  \n",
      " 0   age             41188 non-null  int64  \n",
      " 1   job             41188 non-null  object \n",
      " 2   marital         41188 non-null  object \n",
      " 3   education       41188 non-null  object \n",
      " 4   default         41188 non-null  object \n",
      " 5   housing         41188 non-null  object \n",
      " 6   loan            41188 non-null  object \n",
      " 7   contact         41188 non-null  object \n",
      " 8   month           41188 non-null  object \n",
      " 9   day_of_week     41188 non-null  object \n",
      " 10  duration        41188 non-null  int64  \n",
      " 11  campaign        41188 non-null  int64  \n",
      " 12  pdays           41188 non-null  int64  \n",
      " 13  previous        41188 non-null  int64  \n",
      " 14  poutcome        41188 non-null  object \n",
      " 15  emp.var.rate    41188 non-null  float64\n",
      " 16  cons.price.idx  41188 non-null  float64\n",
      " 17  cons.conf.idx   41188 non-null  float64\n",
      " 18  euribor3m       41188 non-null  float64\n",
      " 19  nr.employed     41188 non-null  float64\n",
      " 20  y               41188 non-null  object \n",
      "dtypes: float64(5), int64(5), object(11)\n",
      "memory usage: 6.6+ MB\n"
     ]
    }
   ],
   "source": [
    "df.info()"
   ]
  },
  {
   "cell_type": "markdown",
   "metadata": {},
   "source": [
    "<a id='stat_sum'></a>\n",
    "### 2.3 Statistical Summary\n",
    "Here we take a look at the summary of each attribute.\n",
    "\n",
    "This includes the count, mean, the min and max values as well as percentiles."
   ]
  },
  {
   "cell_type": "code",
   "execution_count": 10,
   "metadata": {
    "scrolled": false
   },
   "outputs": [
    {
     "data": {
      "text/html": [
       "<div>\n",
       "<style scoped>\n",
       "    .dataframe tbody tr th:only-of-type {\n",
       "        vertical-align: middle;\n",
       "    }\n",
       "\n",
       "    .dataframe tbody tr th {\n",
       "        vertical-align: top;\n",
       "    }\n",
       "\n",
       "    .dataframe thead th {\n",
       "        text-align: right;\n",
       "    }\n",
       "</style>\n",
       "<table border=\"1\" class=\"dataframe\">\n",
       "  <thead>\n",
       "    <tr style=\"text-align: right;\">\n",
       "      <th></th>\n",
       "      <th>age</th>\n",
       "      <th>duration</th>\n",
       "      <th>campaign</th>\n",
       "      <th>pdays</th>\n",
       "      <th>previous</th>\n",
       "      <th>emp.var.rate</th>\n",
       "      <th>cons.price.idx</th>\n",
       "      <th>cons.conf.idx</th>\n",
       "      <th>euribor3m</th>\n",
       "      <th>nr.employed</th>\n",
       "    </tr>\n",
       "  </thead>\n",
       "  <tbody>\n",
       "    <tr>\n",
       "      <th>count</th>\n",
       "      <td>41188.00000</td>\n",
       "      <td>41188.000000</td>\n",
       "      <td>41188.000000</td>\n",
       "      <td>41188.000000</td>\n",
       "      <td>41188.000000</td>\n",
       "      <td>41188.000000</td>\n",
       "      <td>41188.000000</td>\n",
       "      <td>41188.000000</td>\n",
       "      <td>41188.000000</td>\n",
       "      <td>41188.000000</td>\n",
       "    </tr>\n",
       "    <tr>\n",
       "      <th>mean</th>\n",
       "      <td>40.02406</td>\n",
       "      <td>258.285010</td>\n",
       "      <td>2.567593</td>\n",
       "      <td>962.475454</td>\n",
       "      <td>0.172963</td>\n",
       "      <td>0.081886</td>\n",
       "      <td>93.575664</td>\n",
       "      <td>-40.502600</td>\n",
       "      <td>3.621291</td>\n",
       "      <td>5167.035911</td>\n",
       "    </tr>\n",
       "    <tr>\n",
       "      <th>std</th>\n",
       "      <td>10.42125</td>\n",
       "      <td>259.279249</td>\n",
       "      <td>2.770014</td>\n",
       "      <td>186.910907</td>\n",
       "      <td>0.494901</td>\n",
       "      <td>1.570960</td>\n",
       "      <td>0.578840</td>\n",
       "      <td>4.628198</td>\n",
       "      <td>1.734447</td>\n",
       "      <td>72.251528</td>\n",
       "    </tr>\n",
       "    <tr>\n",
       "      <th>min</th>\n",
       "      <td>17.00000</td>\n",
       "      <td>0.000000</td>\n",
       "      <td>1.000000</td>\n",
       "      <td>0.000000</td>\n",
       "      <td>0.000000</td>\n",
       "      <td>-3.400000</td>\n",
       "      <td>92.201000</td>\n",
       "      <td>-50.800000</td>\n",
       "      <td>0.634000</td>\n",
       "      <td>4963.600000</td>\n",
       "    </tr>\n",
       "    <tr>\n",
       "      <th>25%</th>\n",
       "      <td>32.00000</td>\n",
       "      <td>102.000000</td>\n",
       "      <td>1.000000</td>\n",
       "      <td>999.000000</td>\n",
       "      <td>0.000000</td>\n",
       "      <td>-1.800000</td>\n",
       "      <td>93.075000</td>\n",
       "      <td>-42.700000</td>\n",
       "      <td>1.344000</td>\n",
       "      <td>5099.100000</td>\n",
       "    </tr>\n",
       "    <tr>\n",
       "      <th>50%</th>\n",
       "      <td>38.00000</td>\n",
       "      <td>180.000000</td>\n",
       "      <td>2.000000</td>\n",
       "      <td>999.000000</td>\n",
       "      <td>0.000000</td>\n",
       "      <td>1.100000</td>\n",
       "      <td>93.749000</td>\n",
       "      <td>-41.800000</td>\n",
       "      <td>4.857000</td>\n",
       "      <td>5191.000000</td>\n",
       "    </tr>\n",
       "    <tr>\n",
       "      <th>75%</th>\n",
       "      <td>47.00000</td>\n",
       "      <td>319.000000</td>\n",
       "      <td>3.000000</td>\n",
       "      <td>999.000000</td>\n",
       "      <td>0.000000</td>\n",
       "      <td>1.400000</td>\n",
       "      <td>93.994000</td>\n",
       "      <td>-36.400000</td>\n",
       "      <td>4.961000</td>\n",
       "      <td>5228.100000</td>\n",
       "    </tr>\n",
       "    <tr>\n",
       "      <th>max</th>\n",
       "      <td>98.00000</td>\n",
       "      <td>4918.000000</td>\n",
       "      <td>56.000000</td>\n",
       "      <td>999.000000</td>\n",
       "      <td>7.000000</td>\n",
       "      <td>1.400000</td>\n",
       "      <td>94.767000</td>\n",
       "      <td>-26.900000</td>\n",
       "      <td>5.045000</td>\n",
       "      <td>5228.100000</td>\n",
       "    </tr>\n",
       "  </tbody>\n",
       "</table>\n",
       "</div>"
      ],
      "text/plain": [
       "               age      duration      campaign         pdays      previous  \\\n",
       "count  41188.00000  41188.000000  41188.000000  41188.000000  41188.000000   \n",
       "mean      40.02406    258.285010      2.567593    962.475454      0.172963   \n",
       "std       10.42125    259.279249      2.770014    186.910907      0.494901   \n",
       "min       17.00000      0.000000      1.000000      0.000000      0.000000   \n",
       "25%       32.00000    102.000000      1.000000    999.000000      0.000000   \n",
       "50%       38.00000    180.000000      2.000000    999.000000      0.000000   \n",
       "75%       47.00000    319.000000      3.000000    999.000000      0.000000   \n",
       "max       98.00000   4918.000000     56.000000    999.000000      7.000000   \n",
       "\n",
       "       emp.var.rate  cons.price.idx  cons.conf.idx     euribor3m   nr.employed  \n",
       "count  41188.000000    41188.000000   41188.000000  41188.000000  41188.000000  \n",
       "mean       0.081886       93.575664     -40.502600      3.621291   5167.035911  \n",
       "std        1.570960        0.578840       4.628198      1.734447     72.251528  \n",
       "min       -3.400000       92.201000     -50.800000      0.634000   4963.600000  \n",
       "25%       -1.800000       93.075000     -42.700000      1.344000   5099.100000  \n",
       "50%        1.100000       93.749000     -41.800000      4.857000   5191.000000  \n",
       "75%        1.400000       93.994000     -36.400000      4.961000   5228.100000  \n",
       "max        1.400000       94.767000     -26.900000      5.045000   5228.100000  "
      ]
     },
     "execution_count": 10,
     "metadata": {},
     "output_type": "execute_result"
    }
   ],
   "source": [
    "df.describe()"
   ]
  },
  {
   "cell_type": "markdown",
   "metadata": {},
   "source": [
    "<a id='exploratory_data_analysis'></a>\n",
    "# 3. Exploratory Data Analysis"
   ]
  },
  {
   "cell_type": "code",
   "execution_count": 11,
   "metadata": {},
   "outputs": [
    {
     "data": {
      "image/png": "[encoded data removed]",
      "text/plain": [
       "<Figure size 1440x1080 with 12 Axes>"
      ]
     },
     "metadata": {
      "needs_background": "light"
     },
     "output_type": "display_data"
    }
   ],
   "source": [
    "df.hist(figsize=(20,15))\n",
    "plt.show()"
   ]
  },
  {
   "cell_type": "markdown",
   "metadata": {},
   "source": [
    "Checking the unique values in the Dataframe present"
   ]
  },
  {
   "cell_type": "code",
   "execution_count": 12,
   "metadata": {},
   "outputs": [
    {
     "name": "stdout",
     "output_type": "stream",
     "text": [
      "['no' 'yes']\n"
     ]
    }
   ],
   "source": [
    "show_unique(df['y'])"
   ]
  },
  {
   "cell_type": "markdown",
   "metadata": {},
   "source": [
    "Printing the Total number of rows"
   ]
  },
  {
   "cell_type": "code",
   "execution_count": 13,
   "metadata": {
    "scrolled": true
   },
   "outputs": [
    {
     "data": {
      "text/plain": [
       "41188"
      ]
     },
     "execution_count": 13,
     "metadata": {},
     "output_type": "execute_result"
    }
   ],
   "source": [
    "len(df)"
   ]
  },
  {
   "cell_type": "markdown",
   "metadata": {},
   "source": [
    "Lets check if there are any Missing values in our Dataset using : isna() or isnull()"
   ]
  },
  {
   "cell_type": "code",
   "execution_count": 14,
   "metadata": {},
   "outputs": [
    {
     "data": {
      "image/png": "[encoded data removed]",
      "text/plain": [
       "<Figure size 1512x648 with 1 Axes>"
      ]
     },
     "metadata": {
      "needs_background": "light"
     },
     "output_type": "display_data"
    }
   ],
   "source": [
    "##Setting the figsize as 21,9 for the graph to fit in the screen more efficiently\n",
    "fig, ax = plt.subplots(figsize=(21,9))\n",
    "#Plotting the heatmap to check Missing Values\n",
    "sns.heatmap(df.isna(),cbar=False,cmap=\"Blues\")\n",
    "plt.show()"
   ]
  },
  {
   "cell_type": "markdown",
   "metadata": {},
   "source": [
    "Counting the occurence of each unique values present in our Target Variable 'y'"
   ]
  },
  {
   "cell_type": "code",
   "execution_count": 15,
   "metadata": {},
   "outputs": [
    {
     "data": {
      "text/plain": [
       "no     36548\n",
       "yes     4640\n",
       "Name: y, dtype: int64"
      ]
     },
     "execution_count": 15,
     "metadata": {},
     "output_type": "execute_result"
    }
   ],
   "source": [
    "df['y'].value_counts()"
   ]
  },
  {
   "cell_type": "markdown",
   "metadata": {},
   "source": [
    "Converting the Target variables data from string('yes','no') to int(1,0), respectively"
   ]
  },
  {
   "cell_type": "code",
   "execution_count": 16,
   "metadata": {},
   "outputs": [
    {
     "data": {
      "text/plain": [
       "0    36548\n",
       "1     4640\n",
       "Name: y, dtype: int64"
      ]
     },
     "execution_count": 16,
     "metadata": {},
     "output_type": "execute_result"
    }
   ],
   "source": [
    "##Changing 'yes' to 1 and 'no' to 0, because target variable has to be a numerical variable\n",
    "df.loc[df['y'] == 'yes', 'y'] = 1\n",
    "df.loc[df['y'] == 'no', 'y'] = 0\n",
    "##Cast datas of 'y' columns into int64 datatype\n",
    "df['y']=df['y'].astype('int64')\n",
    "##Verifying the changes\n",
    "df['y'].value_counts()"
   ]
  },
  {
   "cell_type": "markdown",
   "metadata": {},
   "source": [
    "<a id='correlation'></a>\n",
    "### 3.1 Correlation "
   ]
  },
  {
   "cell_type": "code",
   "execution_count": 17,
   "metadata": {},
   "outputs": [
    {
     "data": {
      "text/html": [
       "<div>\n",
       "<style scoped>\n",
       "    .dataframe tbody tr th:only-of-type {\n",
       "        vertical-align: middle;\n",
       "    }\n",
       "\n",
       "    .dataframe tbody tr th {\n",
       "        vertical-align: top;\n",
       "    }\n",
       "\n",
       "    .dataframe thead th {\n",
       "        text-align: right;\n",
       "    }\n",
       "</style>\n",
       "<table border=\"1\" class=\"dataframe\">\n",
       "  <thead>\n",
       "    <tr style=\"text-align: right;\">\n",
       "      <th></th>\n",
       "      <th>age</th>\n",
       "      <th>duration</th>\n",
       "      <th>campaign</th>\n",
       "      <th>pdays</th>\n",
       "      <th>previous</th>\n",
       "      <th>emp.var.rate</th>\n",
       "      <th>cons.price.idx</th>\n",
       "      <th>cons.conf.idx</th>\n",
       "      <th>euribor3m</th>\n",
       "      <th>nr.employed</th>\n",
       "      <th>y</th>\n",
       "    </tr>\n",
       "  </thead>\n",
       "  <tbody>\n",
       "    <tr>\n",
       "      <th>age</th>\n",
       "      <td>1.000000</td>\n",
       "      <td>-0.000866</td>\n",
       "      <td>0.004594</td>\n",
       "      <td>-0.034369</td>\n",
       "      <td>0.024365</td>\n",
       "      <td>-0.000371</td>\n",
       "      <td>0.000857</td>\n",
       "      <td>0.129372</td>\n",
       "      <td>0.010767</td>\n",
       "      <td>-0.017725</td>\n",
       "      <td>0.030399</td>\n",
       "    </tr>\n",
       "    <tr>\n",
       "      <th>duration</th>\n",
       "      <td>-0.000866</td>\n",
       "      <td>1.000000</td>\n",
       "      <td>-0.071699</td>\n",
       "      <td>-0.047577</td>\n",
       "      <td>0.020640</td>\n",
       "      <td>-0.027968</td>\n",
       "      <td>0.005312</td>\n",
       "      <td>-0.008173</td>\n",
       "      <td>-0.032897</td>\n",
       "      <td>-0.044703</td>\n",
       "      <td>0.405274</td>\n",
       "    </tr>\n",
       "    <tr>\n",
       "      <th>campaign</th>\n",
       "      <td>0.004594</td>\n",
       "      <td>-0.071699</td>\n",
       "      <td>1.000000</td>\n",
       "      <td>0.052584</td>\n",
       "      <td>-0.079141</td>\n",
       "      <td>0.150754</td>\n",
       "      <td>0.127836</td>\n",
       "      <td>-0.013733</td>\n",
       "      <td>0.135133</td>\n",
       "      <td>0.144095</td>\n",
       "      <td>-0.066357</td>\n",
       "    </tr>\n",
       "    <tr>\n",
       "      <th>pdays</th>\n",
       "      <td>-0.034369</td>\n",
       "      <td>-0.047577</td>\n",
       "      <td>0.052584</td>\n",
       "      <td>1.000000</td>\n",
       "      <td>-0.587514</td>\n",
       "      <td>0.271004</td>\n",
       "      <td>0.078889</td>\n",
       "      <td>-0.091342</td>\n",
       "      <td>0.296899</td>\n",
       "      <td>0.372605</td>\n",
       "      <td>-0.324914</td>\n",
       "    </tr>\n",
       "    <tr>\n",
       "      <th>previous</th>\n",
       "      <td>0.024365</td>\n",
       "      <td>0.020640</td>\n",
       "      <td>-0.079141</td>\n",
       "      <td>-0.587514</td>\n",
       "      <td>1.000000</td>\n",
       "      <td>-0.420489</td>\n",
       "      <td>-0.203130</td>\n",
       "      <td>-0.050936</td>\n",
       "      <td>-0.454494</td>\n",
       "      <td>-0.501333</td>\n",
       "      <td>0.230181</td>\n",
       "    </tr>\n",
       "    <tr>\n",
       "      <th>emp.var.rate</th>\n",
       "      <td>-0.000371</td>\n",
       "      <td>-0.027968</td>\n",
       "      <td>0.150754</td>\n",
       "      <td>0.271004</td>\n",
       "      <td>-0.420489</td>\n",
       "      <td>1.000000</td>\n",
       "      <td>0.775334</td>\n",
       "      <td>0.196041</td>\n",
       "      <td>0.972245</td>\n",
       "      <td>0.906970</td>\n",
       "      <td>-0.298334</td>\n",
       "    </tr>\n",
       "    <tr>\n",
       "      <th>cons.price.idx</th>\n",
       "      <td>0.000857</td>\n",
       "      <td>0.005312</td>\n",
       "      <td>0.127836</td>\n",
       "      <td>0.078889</td>\n",
       "      <td>-0.203130</td>\n",
       "      <td>0.775334</td>\n",
       "      <td>1.000000</td>\n",
       "      <td>0.058986</td>\n",
       "      <td>0.688230</td>\n",
       "      <td>0.522034</td>\n",
       "      <td>-0.136211</td>\n",
       "    </tr>\n",
       "    <tr>\n",
       "      <th>cons.conf.idx</th>\n",
       "      <td>0.129372</td>\n",
       "      <td>-0.008173</td>\n",
       "      <td>-0.013733</td>\n",
       "      <td>-0.091342</td>\n",
       "      <td>-0.050936</td>\n",
       "      <td>0.196041</td>\n",
       "      <td>0.058986</td>\n",
       "      <td>1.000000</td>\n",
       "      <td>0.277686</td>\n",
       "      <td>0.100513</td>\n",
       "      <td>0.054878</td>\n",
       "    </tr>\n",
       "    <tr>\n",
       "      <th>euribor3m</th>\n",
       "      <td>0.010767</td>\n",
       "      <td>-0.032897</td>\n",
       "      <td>0.135133</td>\n",
       "      <td>0.296899</td>\n",
       "      <td>-0.454494</td>\n",
       "      <td>0.972245</td>\n",
       "      <td>0.688230</td>\n",
       "      <td>0.277686</td>\n",
       "      <td>1.000000</td>\n",
       "      <td>0.945154</td>\n",
       "      <td>-0.307771</td>\n",
       "    </tr>\n",
       "    <tr>\n",
       "      <th>nr.employed</th>\n",
       "      <td>-0.017725</td>\n",
       "      <td>-0.044703</td>\n",
       "      <td>0.144095</td>\n",
       "      <td>0.372605</td>\n",
       "      <td>-0.501333</td>\n",
       "      <td>0.906970</td>\n",
       "      <td>0.522034</td>\n",
       "      <td>0.100513</td>\n",
       "      <td>0.945154</td>\n",
       "      <td>1.000000</td>\n",
       "      <td>-0.354678</td>\n",
       "    </tr>\n",
       "    <tr>\n",
       "      <th>y</th>\n",
       "      <td>0.030399</td>\n",
       "      <td>0.405274</td>\n",
       "      <td>-0.066357</td>\n",
       "      <td>-0.324914</td>\n",
       "      <td>0.230181</td>\n",
       "      <td>-0.298334</td>\n",
       "      <td>-0.136211</td>\n",
       "      <td>0.054878</td>\n",
       "      <td>-0.307771</td>\n",
       "      <td>-0.354678</td>\n",
       "      <td>1.000000</td>\n",
       "    </tr>\n",
       "  </tbody>\n",
       "</table>\n",
       "</div>"
      ],
      "text/plain": [
       "                     age  duration  campaign     pdays  previous  \\\n",
       "age             1.000000 -0.000866  0.004594 -0.034369  0.024365   \n",
       "duration       -0.000866  1.000000 -0.071699 -0.047577  0.020640   \n",
       "campaign        0.004594 -0.071699  1.000000  0.052584 -0.079141   \n",
       "pdays          -0.034369 -0.047577  0.052584  1.000000 -0.587514   \n",
       "previous        0.024365  0.020640 -0.079141 -0.587514  1.000000   \n",
       "emp.var.rate   -0.000371 -0.027968  0.150754  0.271004 -0.420489   \n",
       "cons.price.idx  0.000857  0.005312  0.127836  0.078889 -0.203130   \n",
       "cons.conf.idx   0.129372 -0.008173 -0.013733 -0.091342 -0.050936   \n",
       "euribor3m       0.010767 -0.032897  0.135133  0.296899 -0.454494   \n",
       "nr.employed    -0.017725 -0.044703  0.144095  0.372605 -0.501333   \n",
       "y               0.030399  0.405274 -0.066357 -0.324914  0.230181   \n",
       "\n",
       "                emp.var.rate  cons.price.idx  cons.conf.idx  euribor3m  \\\n",
       "age                -0.000371        0.000857       0.129372   0.010767   \n",
       "duration           -0.027968        0.005312      -0.008173  -0.032897   \n",
       "campaign            0.150754        0.127836      -0.013733   0.135133   \n",
       "pdays               0.271004        0.078889      -0.091342   0.296899   \n",
       "previous           -0.420489       -0.203130      -0.050936  -0.454494   \n",
       "emp.var.rate        1.000000        0.775334       0.196041   0.972245   \n",
       "cons.price.idx      0.775334        1.000000       0.058986   0.688230   \n",
       "cons.conf.idx       0.196041        0.058986       1.000000   0.277686   \n",
       "euribor3m           0.972245        0.688230       0.277686   1.000000   \n",
       "nr.employed         0.906970        0.522034       0.100513   0.945154   \n",
       "y                  -0.298334       -0.136211       0.054878  -0.307771   \n",
       "\n",
       "                nr.employed         y  \n",
       "age               -0.017725  0.030399  \n",
       "duration          -0.044703  0.405274  \n",
       "campaign           0.144095 -0.066357  \n",
       "pdays              0.372605 -0.324914  \n",
       "previous          -0.501333  0.230181  \n",
       "emp.var.rate       0.906970 -0.298334  \n",
       "cons.price.idx     0.522034 -0.136211  \n",
       "cons.conf.idx      0.100513  0.054878  \n",
       "euribor3m          0.945154 -0.307771  \n",
       "nr.employed        1.000000 -0.354678  \n",
       "y                 -0.354678  1.000000  "
      ]
     },
     "execution_count": 17,
     "metadata": {},
     "output_type": "execute_result"
    }
   ],
   "source": [
    "# Checking the Correlation\n",
    "df.corr()"
   ]
  },
  {
   "cell_type": "markdown",
   "metadata": {},
   "source": [
    "Creating a Annotted Heatmap using corr() to find correlation between variables present in the DataFrame"
   ]
  },
  {
   "cell_type": "code",
   "execution_count": 18,
   "metadata": {},
   "outputs": [
    {
     "data": {
      "text/plain": [
       "<matplotlib.axes._subplots.AxesSubplot at 0x19b7bae0940>"
      ]
     },
     "execution_count": 18,
     "metadata": {},
     "output_type": "execute_result"
    },
    {
     "data": {
      "image/png": "[encoded data removed]",
      "text/plain": [
       "<Figure size 1512x648 with 2 Axes>"
      ]
     },
     "metadata": {
      "needs_background": "light"
     },
     "output_type": "display_data"
    }
   ],
   "source": [
    "##Setting the figsize as 21,9 for the graph to fit in the screen more efficiently\n",
    "fig, ax = plt.subplots(figsize=(21,9))\n",
    "##Plotting the heatmap to check correlation\n",
    "sns.heatmap(df.corr(),cmap=\"Blues\",annot=True)\n",
    "#plt.show()"
   ]
  },
  {
   "cell_type": "markdown",
   "metadata": {},
   "source": [
    "<a id='log_reg'></a>\n",
    "# 4. Logistic Regression"
   ]
  },
  {
   "cell_type": "markdown",
   "metadata": {},
   "source": [
    "<a id='prep_data'></a>\n",
    "## 4.1 Preparation of Datasets"
   ]
  },
  {
   "cell_type": "markdown",
   "metadata": {},
   "source": [
    "Separating the Independent and Target Variables into X,y, respectively"
   ]
  },
  {
   "cell_type": "code",
   "execution_count": 19,
   "metadata": {},
   "outputs": [],
   "source": [
    "#Creating Target and Independent variables\n",
    "y=df['y']\n",
    "X=df.drop(['y'], axis=1)"
   ]
  },
  {
   "cell_type": "markdown",
   "metadata": {},
   "source": [
    "Encoding the categorical variables using n-1 Dummy Encoding"
   ]
  },
  {
   "cell_type": "code",
   "execution_count": 20,
   "metadata": {},
   "outputs": [],
   "source": [
    "X_encoded=pd.get_dummies(X,columns=['job','marital','education','default','housing','loan','contact','month','day_of_week','poutcome'])"
   ]
  },
  {
   "cell_type": "code",
   "execution_count": 20,
   "metadata": {},
   "outputs": [],
   "source": [
    "##Splitting the data into training and test data\n",
    "X_train, X_test, y_train, y_test = train_test_split(X_encoded, y, test_size=0.1, random_state=123)"
   ]
  },
  {
   "cell_type": "code",
   "execution_count": 21,
   "metadata": {},
   "outputs": [
    {
     "name": "stdout",
     "output_type": "stream",
     "text": [
      "x_train  (37069, 63)\n",
      "x_test  (4119, 63)\n",
      "y_train  (37069,)\n",
      "y_test  (4119,)\n"
     ]
    }
   ],
   "source": [
    "print(\"x_train \",X_train.shape)\n",
    "print(\"x_test \",X_test.shape)\n",
    "print(\"y_train \",y_train.shape)\n",
    "print(\"y_test \",y_test.shape)"
   ]
  },
  {
   "cell_type": "markdown",
   "metadata": {},
   "source": [
    "<a id='base_model'></a>\n",
    "## 4.2 Building Logistic Regression Base Model"
   ]
  },
  {
   "cell_type": "code",
   "execution_count": 22,
   "metadata": {
    "scrolled": true
   },
   "outputs": [
    {
     "name": "stdout",
     "output_type": "stream",
     "text": [
      "Warning: Maximum number of iterations has been exceeded.\n",
      "         Current function value: 0.208488\n",
      "         Iterations: 35\n"
     ]
    },
    {
     "name": "stderr",
     "output_type": "stream",
     "text": [
      "C:\\ProgramData\\Anaconda3\\lib\\site-packages\\statsmodels\\base\\model.py:567: ConvergenceWarning: Maximum Likelihood optimization failed to converge. Check mle_retvals\n",
      "  warn(\"Maximum Likelihood optimization failed to converge. \"\n"
     ]
    }
   ],
   "source": [
    "model = sm.Logit(y_train,X_train).fit()"
   ]
  },
  {
   "cell_type": "code",
   "execution_count": 23,
   "metadata": {
    "scrolled": true
   },
   "outputs": [
    {
     "name": "stderr",
     "output_type": "stream",
     "text": [
      "C:\\ProgramData\\Anaconda3\\lib\\site-packages\\statsmodels\\base\\model.py:1354: RuntimeWarning: invalid value encountered in sqrt\n",
      "  bse_ = np.sqrt(np.diag(self.cov_params()))\n",
      "C:\\ProgramData\\Anaconda3\\lib\\site-packages\\scipy\\stats\\_distn_infrastructure.py:1932: RuntimeWarning: invalid value encountered in less_equal\n",
      "  cond2 = cond0 & (x <= _a)\n"
     ]
    },
    {
     "data": {
      "text/html": [
       "<table class=\"simpletable\">\n",
       "<caption>Logit Regression Results</caption>\n",
       "<tr>\n",
       "  <th>Dep. Variable:</th>           <td>y</td>        <th>  No. Observations:  </th>  <td> 37069</td> \n",
       "</tr>\n",
       "<tr>\n",
       "  <th>Model:</th>                 <td>Logit</td>      <th>  Df Residuals:      </th>  <td> 37016</td> \n",
       "</tr>\n",
       "<tr>\n",
       "  <th>Method:</th>                 <td>MLE</td>       <th>  Df Model:          </th>  <td>    52</td> \n",
       "</tr>\n",
       "<tr>\n",
       "  <th>Date:</th>            <td>Sat, 27 Mar 2021</td> <th>  Pseudo R-squ.:     </th>  <td>0.4092</td> \n",
       "</tr>\n",
       "<tr>\n",
       "  <th>Time:</th>                <td>15:49:18</td>     <th>  Log-Likelihood:    </th> <td> -7728.4</td>\n",
       "</tr>\n",
       "<tr>\n",
       "  <th>converged:</th>             <td>False</td>      <th>  LL-Null:           </th> <td> -13082.</td>\n",
       "</tr>\n",
       "<tr>\n",
       "  <th>Covariance Type:</th>     <td>nonrobust</td>    <th>  LLR p-value:       </th>  <td> 0.000</td> \n",
       "</tr>\n",
       "</table>\n",
       "<table class=\"simpletable\">\n",
       "<tr>\n",
       "                <td></td>                   <th>coef</th>     <th>std err</th>      <th>z</th>      <th>P>|z|</th>  <th>[0.025</th>    <th>0.975]</th>  \n",
       "</tr>\n",
       "<tr>\n",
       "  <th>age</th>                           <td>    0.0005</td> <td>    0.003</td> <td>    0.191</td> <td> 0.848</td> <td>   -0.005</td> <td>    0.006</td>\n",
       "</tr>\n",
       "<tr>\n",
       "  <th>duration</th>                      <td>    0.0046</td> <td> 7.77e-05</td> <td>   59.727</td> <td> 0.000</td> <td>    0.004</td> <td>    0.005</td>\n",
       "</tr>\n",
       "<tr>\n",
       "  <th>campaign</th>                      <td>   -0.0391</td> <td>    0.012</td> <td>   -3.230</td> <td> 0.001</td> <td>   -0.063</td> <td>   -0.015</td>\n",
       "</tr>\n",
       "<tr>\n",
       "  <th>pdays</th>                         <td>   -0.0009</td> <td>    0.000</td> <td>   -4.055</td> <td> 0.000</td> <td>   -0.001</td> <td>   -0.000</td>\n",
       "</tr>\n",
       "<tr>\n",
       "  <th>previous</th>                      <td>   -0.0529</td> <td>    0.062</td> <td>   -0.857</td> <td> 0.391</td> <td>   -0.174</td> <td>    0.068</td>\n",
       "</tr>\n",
       "<tr>\n",
       "  <th>emp.var.rate</th>                  <td>   -1.8310</td> <td>    0.148</td> <td>  -12.330</td> <td> 0.000</td> <td>   -2.122</td> <td>   -1.540</td>\n",
       "</tr>\n",
       "<tr>\n",
       "  <th>cons.price.idx</th>                <td>    2.3467</td> <td>    0.263</td> <td>    8.917</td> <td> 0.000</td> <td>    1.831</td> <td>    2.862</td>\n",
       "</tr>\n",
       "<tr>\n",
       "  <th>cons.conf.idx</th>                 <td>    0.0234</td> <td>    0.008</td> <td>    2.866</td> <td> 0.004</td> <td>    0.007</td> <td>    0.039</td>\n",
       "</tr>\n",
       "<tr>\n",
       "  <th>euribor3m</th>                     <td>    0.2837</td> <td>    0.136</td> <td>    2.087</td> <td> 0.037</td> <td>    0.017</td> <td>    0.550</td>\n",
       "</tr>\n",
       "<tr>\n",
       "  <th>nr.employed</th>                   <td>    0.0073</td> <td>    0.003</td> <td>    2.255</td> <td> 0.024</td> <td>    0.001</td> <td>    0.014</td>\n",
       "</tr>\n",
       "<tr>\n",
       "  <th>job_admin.</th>                    <td>   -8.6381</td> <td> 4.79e+05</td> <td> -1.8e-05</td> <td> 1.000</td> <td> -9.4e+05</td> <td>  9.4e+05</td>\n",
       "</tr>\n",
       "<tr>\n",
       "  <th>job_blue-collar</th>               <td>   -8.9190</td> <td> 4.79e+05</td> <td>-1.86e-05</td> <td> 1.000</td> <td>-9.39e+05</td> <td> 9.39e+05</td>\n",
       "</tr>\n",
       "<tr>\n",
       "  <th>job_entrepreneur</th>              <td>   -8.8255</td> <td> 4.79e+05</td> <td>-1.84e-05</td> <td> 1.000</td> <td>-9.39e+05</td> <td> 9.39e+05</td>\n",
       "</tr>\n",
       "<tr>\n",
       "  <th>job_housemaid</th>                 <td>   -8.6887</td> <td> 4.82e+05</td> <td> -1.8e-05</td> <td> 1.000</td> <td>-9.44e+05</td> <td> 9.44e+05</td>\n",
       "</tr>\n",
       "<tr>\n",
       "  <th>job_management</th>                <td>   -8.7224</td> <td> 4.82e+05</td> <td>-1.81e-05</td> <td> 1.000</td> <td>-9.44e+05</td> <td> 9.44e+05</td>\n",
       "</tr>\n",
       "<tr>\n",
       "  <th>job_retired</th>                   <td>   -8.3627</td> <td>  4.8e+05</td> <td>-1.74e-05</td> <td> 1.000</td> <td>-9.41e+05</td> <td> 9.41e+05</td>\n",
       "</tr>\n",
       "<tr>\n",
       "  <th>job_self-employed</th>             <td>   -8.7732</td> <td> 4.79e+05</td> <td>-1.83e-05</td> <td> 1.000</td> <td>-9.38e+05</td> <td> 9.38e+05</td>\n",
       "</tr>\n",
       "<tr>\n",
       "  <th>job_services</th>                  <td>   -8.7983</td> <td> 4.78e+05</td> <td>-1.84e-05</td> <td> 1.000</td> <td>-9.36e+05</td> <td> 9.36e+05</td>\n",
       "</tr>\n",
       "<tr>\n",
       "  <th>job_student</th>                   <td>   -8.4210</td> <td> 4.81e+05</td> <td>-1.75e-05</td> <td> 1.000</td> <td>-9.43e+05</td> <td> 9.43e+05</td>\n",
       "</tr>\n",
       "<tr>\n",
       "  <th>job_technician</th>                <td>   -8.6364</td> <td> 4.78e+05</td> <td>-1.81e-05</td> <td> 1.000</td> <td>-9.37e+05</td> <td> 9.37e+05</td>\n",
       "</tr>\n",
       "<tr>\n",
       "  <th>job_unemployed</th>                <td>   -8.6364</td> <td>  4.8e+05</td> <td> -1.8e-05</td> <td> 1.000</td> <td> -9.4e+05</td> <td>  9.4e+05</td>\n",
       "</tr>\n",
       "<tr>\n",
       "  <th>job_unknown</th>                   <td>   -8.6596</td> <td>  4.8e+05</td> <td> -1.8e-05</td> <td> 1.000</td> <td>-9.42e+05</td> <td> 9.42e+05</td>\n",
       "</tr>\n",
       "<tr>\n",
       "  <th>marital_divorced</th>              <td>  -26.1115</td> <td>      nan</td> <td>      nan</td> <td>   nan</td> <td>      nan</td> <td>      nan</td>\n",
       "</tr>\n",
       "<tr>\n",
       "  <th>marital_married</th>               <td>  -26.0887</td> <td>      nan</td> <td>      nan</td> <td>   nan</td> <td>      nan</td> <td>      nan</td>\n",
       "</tr>\n",
       "<tr>\n",
       "  <th>marital_single</th>                <td>  -26.0021</td> <td>      nan</td> <td>      nan</td> <td>   nan</td> <td>      nan</td> <td>      nan</td>\n",
       "</tr>\n",
       "<tr>\n",
       "  <th>marital_unknown</th>               <td>  -26.0246</td> <td>      nan</td> <td>      nan</td> <td>   nan</td> <td>      nan</td> <td>      nan</td>\n",
       "</tr>\n",
       "<tr>\n",
       "  <th>education_basic.4y</th>            <td>  -13.2624</td> <td>      nan</td> <td>      nan</td> <td>   nan</td> <td>      nan</td> <td>      nan</td>\n",
       "</tr>\n",
       "<tr>\n",
       "  <th>education_basic.6y</th>            <td>  -13.0285</td> <td>      nan</td> <td>      nan</td> <td>   nan</td> <td>      nan</td> <td>      nan</td>\n",
       "</tr>\n",
       "<tr>\n",
       "  <th>education_basic.9y</th>            <td>  -13.2371</td> <td>      nan</td> <td>      nan</td> <td>   nan</td> <td>      nan</td> <td>      nan</td>\n",
       "</tr>\n",
       "<tr>\n",
       "  <th>education_high.school</th>         <td>  -13.1976</td> <td>      nan</td> <td>      nan</td> <td>   nan</td> <td>      nan</td> <td>      nan</td>\n",
       "</tr>\n",
       "<tr>\n",
       "  <th>education_illiterate</th>          <td>  -12.0587</td> <td>      nan</td> <td>      nan</td> <td>   nan</td> <td>      nan</td> <td>      nan</td>\n",
       "</tr>\n",
       "<tr>\n",
       "  <th>education_professional.course</th> <td>  -13.1145</td> <td>      nan</td> <td>      nan</td> <td>   nan</td> <td>      nan</td> <td>      nan</td>\n",
       "</tr>\n",
       "<tr>\n",
       "  <th>education_university.degree</th>   <td>  -13.0535</td> <td>      nan</td> <td>      nan</td> <td>   nan</td> <td>      nan</td> <td>      nan</td>\n",
       "</tr>\n",
       "<tr>\n",
       "  <th>education_unknown</th>             <td>  -13.1378</td> <td>      nan</td> <td>      nan</td> <td>   nan</td> <td>      nan</td> <td>      nan</td>\n",
       "</tr>\n",
       "<tr>\n",
       "  <th>default_no</th>                    <td>  -30.6745</td> <td>      nan</td> <td>      nan</td> <td>   nan</td> <td>      nan</td> <td>      nan</td>\n",
       "</tr>\n",
       "<tr>\n",
       "  <th>default_unknown</th>               <td>  -30.9682</td> <td>      nan</td> <td>      nan</td> <td>   nan</td> <td>      nan</td> <td>      nan</td>\n",
       "</tr>\n",
       "<tr>\n",
       "  <th>default_yes</th>                   <td>  -42.4128</td> <td>      nan</td> <td>      nan</td> <td>   nan</td> <td>      nan</td> <td>      nan</td>\n",
       "</tr>\n",
       "<tr>\n",
       "  <th>housing_no</th>                    <td>  -34.7080</td> <td>      nan</td> <td>      nan</td> <td>   nan</td> <td>      nan</td> <td>      nan</td>\n",
       "</tr>\n",
       "<tr>\n",
       "  <th>housing_unknown</th>               <td>  -34.7731</td> <td> 1.11e+07</td> <td>-3.12e-06</td> <td> 1.000</td> <td>-2.18e+07</td> <td> 2.18e+07</td>\n",
       "</tr>\n",
       "<tr>\n",
       "  <th>housing_yes</th>                   <td>  -34.7047</td> <td>      nan</td> <td>      nan</td> <td>   nan</td> <td>      nan</td> <td>      nan</td>\n",
       "</tr>\n",
       "<tr>\n",
       "  <th>loan_no</th>                       <td>  -34.6581</td> <td>      nan</td> <td>      nan</td> <td>   nan</td> <td>      nan</td> <td>      nan</td>\n",
       "</tr>\n",
       "<tr>\n",
       "  <th>loan_unknown</th>                  <td>  -34.7619</td> <td> 1.12e+07</td> <td>-3.12e-06</td> <td> 1.000</td> <td>-2.19e+07</td> <td> 2.19e+07</td>\n",
       "</tr>\n",
       "<tr>\n",
       "  <th>loan_yes</th>                      <td>  -34.6911</td> <td>      nan</td> <td>      nan</td> <td>   nan</td> <td>      nan</td> <td>      nan</td>\n",
       "</tr>\n",
       "<tr>\n",
       "  <th>contact_cellular</th>              <td>  -47.2399</td> <td>      nan</td> <td>      nan</td> <td>   nan</td> <td>      nan</td> <td>      nan</td>\n",
       "</tr>\n",
       "<tr>\n",
       "  <th>contact_telephone</th>             <td>  -47.8518</td> <td>      nan</td> <td>      nan</td> <td>   nan</td> <td>      nan</td> <td>      nan</td>\n",
       "</tr>\n",
       "<tr>\n",
       "  <th>month_apr</th>                     <td>  -10.7129</td> <td>      nan</td> <td>      nan</td> <td>   nan</td> <td>      nan</td> <td>      nan</td>\n",
       "</tr>\n",
       "<tr>\n",
       "  <th>month_aug</th>                     <td>   -9.8058</td> <td>      nan</td> <td>      nan</td> <td>   nan</td> <td>      nan</td> <td>      nan</td>\n",
       "</tr>\n",
       "<tr>\n",
       "  <th>month_dec</th>                     <td>  -10.3130</td> <td>      nan</td> <td>      nan</td> <td>   nan</td> <td>      nan</td> <td>      nan</td>\n",
       "</tr>\n",
       "<tr>\n",
       "  <th>month_jul</th>                     <td>  -10.5531</td> <td>      nan</td> <td>      nan</td> <td>   nan</td> <td>      nan</td> <td>      nan</td>\n",
       "</tr>\n",
       "<tr>\n",
       "  <th>month_jun</th>                     <td>  -11.2596</td> <td>      nan</td> <td>      nan</td> <td>   nan</td> <td>      nan</td> <td>      nan</td>\n",
       "</tr>\n",
       "<tr>\n",
       "  <th>month_mar</th>                     <td>   -8.7097</td> <td>      nan</td> <td>      nan</td> <td>   nan</td> <td>      nan</td> <td>      nan</td>\n",
       "</tr>\n",
       "<tr>\n",
       "  <th>month_may</th>                     <td>  -11.1208</td> <td>      nan</td> <td>      nan</td> <td>   nan</td> <td>      nan</td> <td>      nan</td>\n",
       "</tr>\n",
       "<tr>\n",
       "  <th>month_nov</th>                     <td>  -11.0874</td> <td>      nan</td> <td>      nan</td> <td>   nan</td> <td>      nan</td> <td>      nan</td>\n",
       "</tr>\n",
       "<tr>\n",
       "  <th>month_oct</th>                     <td>  -10.4556</td> <td>      nan</td> <td>      nan</td> <td>   nan</td> <td>      nan</td> <td>      nan</td>\n",
       "</tr>\n",
       "<tr>\n",
       "  <th>month_sep</th>                     <td>  -10.2595</td> <td>      nan</td> <td>      nan</td> <td>   nan</td> <td>      nan</td> <td>      nan</td>\n",
       "</tr>\n",
       "<tr>\n",
       "  <th>day_of_week_fri</th>               <td>  -20.4272</td> <td> 7.64e+05</td> <td>-2.67e-05</td> <td> 1.000</td> <td> -1.5e+06</td> <td>  1.5e+06</td>\n",
       "</tr>\n",
       "<tr>\n",
       "  <th>day_of_week_mon</th>               <td>  -20.5381</td> <td> 7.64e+05</td> <td>-2.69e-05</td> <td> 1.000</td> <td> -1.5e+06</td> <td>  1.5e+06</td>\n",
       "</tr>\n",
       "<tr>\n",
       "  <th>day_of_week_thu</th>               <td>  -20.3696</td> <td> 7.64e+05</td> <td>-2.67e-05</td> <td> 1.000</td> <td> -1.5e+06</td> <td>  1.5e+06</td>\n",
       "</tr>\n",
       "<tr>\n",
       "  <th>day_of_week_tue</th>               <td>  -20.3238</td> <td> 7.64e+05</td> <td>-2.66e-05</td> <td> 1.000</td> <td> -1.5e+06</td> <td>  1.5e+06</td>\n",
       "</tr>\n",
       "<tr>\n",
       "  <th>day_of_week_wed</th>               <td>  -20.2535</td> <td> 7.64e+05</td> <td>-2.65e-05</td> <td> 1.000</td> <td> -1.5e+06</td> <td>  1.5e+06</td>\n",
       "</tr>\n",
       "<tr>\n",
       "  <th>poutcome_failure</th>              <td>  -34.4382</td> <td>      nan</td> <td>      nan</td> <td>   nan</td> <td>      nan</td> <td>      nan</td>\n",
       "</tr>\n",
       "<tr>\n",
       "  <th>poutcome_nonexistent</th>          <td>  -34.0301</td> <td>      nan</td> <td>      nan</td> <td>   nan</td> <td>      nan</td> <td>      nan</td>\n",
       "</tr>\n",
       "<tr>\n",
       "  <th>poutcome_success</th>              <td>  -33.4797</td> <td>      nan</td> <td>      nan</td> <td>   nan</td> <td>      nan</td> <td>      nan</td>\n",
       "</tr>\n",
       "</table>"
      ],
      "text/plain": [
       "<class 'statsmodels.iolib.summary.Summary'>\n",
       "\"\"\"\n",
       "                           Logit Regression Results                           \n",
       "==============================================================================\n",
       "Dep. Variable:                      y   No. Observations:                37069\n",
       "Model:                          Logit   Df Residuals:                    37016\n",
       "Method:                           MLE   Df Model:                           52\n",
       "Date:                Sat, 27 Mar 2021   Pseudo R-squ.:                  0.4092\n",
       "Time:                        15:49:18   Log-Likelihood:                -7728.4\n",
       "converged:                      False   LL-Null:                       -13082.\n",
       "Covariance Type:            nonrobust   LLR p-value:                     0.000\n",
       "=================================================================================================\n",
       "                                    coef    std err          z      P>|z|      [0.025      0.975]\n",
       "-------------------------------------------------------------------------------------------------\n",
       "age                               0.0005      0.003      0.191      0.848      -0.005       0.006\n",
       "duration                          0.0046   7.77e-05     59.727      0.000       0.004       0.005\n",
       "campaign                         -0.0391      0.012     -3.230      0.001      -0.063      -0.015\n",
       "pdays                            -0.0009      0.000     -4.055      0.000      -0.001      -0.000\n",
       "previous                         -0.0529      0.062     -0.857      0.391      -0.174       0.068\n",
       "emp.var.rate                     -1.8310      0.148    -12.330      0.000      -2.122      -1.540\n",
       "cons.price.idx                    2.3467      0.263      8.917      0.000       1.831       2.862\n",
       "cons.conf.idx                     0.0234      0.008      2.866      0.004       0.007       0.039\n",
       "euribor3m                         0.2837      0.136      2.087      0.037       0.017       0.550\n",
       "nr.employed                       0.0073      0.003      2.255      0.024       0.001       0.014\n",
       "job_admin.                       -8.6381   4.79e+05   -1.8e-05      1.000    -9.4e+05     9.4e+05\n",
       "job_blue-collar                  -8.9190   4.79e+05  -1.86e-05      1.000   -9.39e+05    9.39e+05\n",
       "job_entrepreneur                 -8.8255   4.79e+05  -1.84e-05      1.000   -9.39e+05    9.39e+05\n",
       "job_housemaid                    -8.6887   4.82e+05   -1.8e-05      1.000   -9.44e+05    9.44e+05\n",
       "job_management                   -8.7224   4.82e+05  -1.81e-05      1.000   -9.44e+05    9.44e+05\n",
       "job_retired                      -8.3627    4.8e+05  -1.74e-05      1.000   -9.41e+05    9.41e+05\n",
       "job_self-employed                -8.7732   4.79e+05  -1.83e-05      1.000   -9.38e+05    9.38e+05\n",
       "job_services                     -8.7983   4.78e+05  -1.84e-05      1.000   -9.36e+05    9.36e+05\n",
       "job_student                      -8.4210   4.81e+05  -1.75e-05      1.000   -9.43e+05    9.43e+05\n",
       "job_technician                   -8.6364   4.78e+05  -1.81e-05      1.000   -9.37e+05    9.37e+05\n",
       "job_unemployed                   -8.6364    4.8e+05   -1.8e-05      1.000    -9.4e+05     9.4e+05\n",
       "job_unknown                      -8.6596    4.8e+05   -1.8e-05      1.000   -9.42e+05    9.42e+05\n",
       "marital_divorced                -26.1115        nan        nan        nan         nan         nan\n",
       "marital_married                 -26.0887        nan        nan        nan         nan         nan\n",
       "marital_single                  -26.0021        nan        nan        nan         nan         nan\n",
       "marital_unknown                 -26.0246        nan        nan        nan         nan         nan\n",
       "education_basic.4y              -13.2624        nan        nan        nan         nan         nan\n",
       "education_basic.6y              -13.0285        nan        nan        nan         nan         nan\n",
       "education_basic.9y              -13.2371        nan        nan        nan         nan         nan\n",
       "education_high.school           -13.1976        nan        nan        nan         nan         nan\n",
       "education_illiterate            -12.0587        nan        nan        nan         nan         nan\n",
       "education_professional.course   -13.1145        nan        nan        nan         nan         nan\n",
       "education_university.degree     -13.0535        nan        nan        nan         nan         nan\n",
       "education_unknown               -13.1378        nan        nan        nan         nan         nan\n",
       "default_no                      -30.6745        nan        nan        nan         nan         nan\n",
       "default_unknown                 -30.9682        nan        nan        nan         nan         nan\n",
       "default_yes                     -42.4128        nan        nan        nan         nan         nan\n",
       "housing_no                      -34.7080        nan        nan        nan         nan         nan\n",
       "housing_unknown                 -34.7731   1.11e+07  -3.12e-06      1.000   -2.18e+07    2.18e+07\n",
       "housing_yes                     -34.7047        nan        nan        nan         nan         nan\n",
       "loan_no                         -34.6581        nan        nan        nan         nan         nan\n",
       "loan_unknown                    -34.7619   1.12e+07  -3.12e-06      1.000   -2.19e+07    2.19e+07\n",
       "loan_yes                        -34.6911        nan        nan        nan         nan         nan\n",
       "contact_cellular                -47.2399        nan        nan        nan         nan         nan\n",
       "contact_telephone               -47.8518        nan        nan        nan         nan         nan\n",
       "month_apr                       -10.7129        nan        nan        nan         nan         nan\n",
       "month_aug                        -9.8058        nan        nan        nan         nan         nan\n",
       "month_dec                       -10.3130        nan        nan        nan         nan         nan\n",
       "month_jul                       -10.5531        nan        nan        nan         nan         nan\n",
       "month_jun                       -11.2596        nan        nan        nan         nan         nan\n",
       "month_mar                        -8.7097        nan        nan        nan         nan         nan\n",
       "month_may                       -11.1208        nan        nan        nan         nan         nan\n",
       "month_nov                       -11.0874        nan        nan        nan         nan         nan\n",
       "month_oct                       -10.4556        nan        nan        nan         nan         nan\n",
       "month_sep                       -10.2595        nan        nan        nan         nan         nan\n",
       "day_of_week_fri                 -20.4272   7.64e+05  -2.67e-05      1.000    -1.5e+06     1.5e+06\n",
       "day_of_week_mon                 -20.5381   7.64e+05  -2.69e-05      1.000    -1.5e+06     1.5e+06\n",
       "day_of_week_thu                 -20.3696   7.64e+05  -2.67e-05      1.000    -1.5e+06     1.5e+06\n",
       "day_of_week_tue                 -20.3238   7.64e+05  -2.66e-05      1.000    -1.5e+06     1.5e+06\n",
       "day_of_week_wed                 -20.2535   7.64e+05  -2.65e-05      1.000    -1.5e+06     1.5e+06\n",
       "poutcome_failure                -34.4382        nan        nan        nan         nan         nan\n",
       "poutcome_nonexistent            -34.0301        nan        nan        nan         nan         nan\n",
       "poutcome_success                -33.4797        nan        nan        nan         nan         nan\n",
       "=================================================================================================\n",
       "\"\"\""
      ]
     },
     "execution_count": 23,
     "metadata": {},
     "output_type": "execute_result"
    }
   ],
   "source": [
    "model.summary()"
   ]
  },
  {
   "cell_type": "code",
   "execution_count": 24,
   "metadata": {},
   "outputs": [],
   "source": [
    "train_predict = model.predict(X_train)\n",
    "test_predict=y_pred = model.predict(X_test)"
   ]
  },
  {
   "cell_type": "code",
   "execution_count": 25,
   "metadata": {},
   "outputs": [],
   "source": [
    "train_predict = [0 if x <.5 else 1 for x in train_predict]\n",
    "test_predict = [0 if x <.5 else 1 for x in test_predict]"
   ]
  },
  {
   "cell_type": "code",
   "execution_count": 26,
   "metadata": {},
   "outputs": [],
   "source": [
    "y_pred1 = model.predict(X_test)"
   ]
  },
  {
   "cell_type": "markdown",
   "metadata": {},
   "source": [
    "Making y_pred as a DataFrame"
   ]
  },
  {
   "cell_type": "code",
   "execution_count": 27,
   "metadata": {},
   "outputs": [],
   "source": [
    "predicted_df = pd.DataFrame(y_pred1)"
   ]
  },
  {
   "cell_type": "markdown",
   "metadata": {},
   "source": [
    "Converting the predicted class data into 0 and 1 based on threshold value of 0.5"
   ]
  },
  {
   "cell_type": "code",
   "execution_count": 28,
   "metadata": {},
   "outputs": [],
   "source": [
    "predicted_df['Predicted_Class'] = np.where(predicted_df[0]>= 0.50,1,0)"
   ]
  },
  {
   "cell_type": "markdown",
   "metadata": {},
   "source": [
    "### Model Accuracy\n",
    "We will calculate the model accuracy on the test dataset using ‘score’ function."
   ]
  },
  {
   "cell_type": "code",
   "execution_count": 29,
   "metadata": {},
   "outputs": [
    {
     "name": "stdout",
     "output_type": "stream",
     "text": [
      "0.9135712551590192\n"
     ]
    }
   ],
   "source": [
    "# Checking the accuracy with test data\n",
    "from sklearn.metrics import accuracy_score\n",
    "print(accuracy_score(y_test, predicted_df['Predicted_Class']))"
   ]
  },
  {
   "cell_type": "markdown",
   "metadata": {},
   "source": [
    "This model gives us 91% accuracy"
   ]
  },
  {
   "cell_type": "markdown",
   "metadata": {},
   "source": [
    "# Evaluate The Model\n",
    "## Confusion Matrix\n",
    "The Confusion matrix is used to describe the performance of classification model on a set of test dataset for which the true values are known. We will calculate the confusion matrix using ‘confusion_matrix’ function.\n",
    "\n",
    "![](https://tatwan.github.io/images/mock.png)\n",
    "\n",
    "* TN = True Negative\n",
    "* FN = False Negative\n",
    "* FP = False Positive\n",
    "* TP = True Positive"
   ]
  },
  {
   "cell_type": "code",
   "execution_count": 30,
   "metadata": {},
   "outputs": [
    {
     "data": {
      "text/plain": [
       "array([3581,   90,  266,  182], dtype=int64)"
      ]
     },
     "execution_count": 30,
     "metadata": {},
     "output_type": "execute_result"
    }
   ],
   "source": [
    "# Confusion Matrix \n",
    "from sklearn.metrics import confusion_matrix\n",
    "confusion_matrix = confusion_matrix(y_test, predicted_df['Predicted_Class']).ravel()\n",
    "confusion_matrix"
   ]
  },
  {
   "cell_type": "markdown",
   "metadata": {},
   "source": [
    "The results from the confusion matrix are telling us that 3581 and 182 are the number of correct predictions. 90 and 266 are the number of incorrect predictions."
   ]
  },
  {
   "cell_type": "markdown",
   "metadata": {},
   "source": [
    "# Classification Report\n",
    "This is another method to examine the performance of classification model."
   ]
  },
  {
   "cell_type": "markdown",
   "metadata": {},
   "source": [
    "- sensitivity = TP / (TP+FN)\n",
    "- specificity = TN /(TN + FP)\n",
    "- precision = TP / (TP+FP)\n",
    "- F1_score = (2 * precision * sensitivity)/(precision+sensitivity)"
   ]
  },
  {
   "cell_type": "code",
   "execution_count": 31,
   "metadata": {},
   "outputs": [
    {
     "name": "stdout",
     "output_type": "stream",
     "text": [
      "              precision    recall  f1-score   support\n",
      "\n",
      "           0       0.93      0.98      0.95      3671\n",
      "           1       0.67      0.41      0.51       448\n",
      "\n",
      "    accuracy                           0.91      4119\n",
      "   macro avg       0.80      0.69      0.73      4119\n",
      "weighted avg       0.90      0.91      0.90      4119\n",
      "\n"
     ]
    }
   ],
   "source": [
    "from sklearn.metrics import classification_report\n",
    "\n",
    "print(classification_report(y_test, predicted_df['Predicted_Class']))"
   ]
  },
  {
   "cell_type": "markdown",
   "metadata": {},
   "source": [
    "The f1-score tells you the accuracy of the classifier in classifying the data points in that particular class compared to all other class. It is calculated by taking the harmonic mean of precision and recall. The support is the number of samples of the true response that lies in that class.\n",
    "\n",
    "# ROC Curve\n",
    "The ROC curve as well as the area under the ROC curve (AUC). The ROC curve is a simple plot that shows the tradeoff between the true positive rate and the false positive rate of a classifier for various choices of the probability threshold. \n",
    "![](http://gim.unmc.edu/dxtests/roccomp.jpg)\n",
    "Here we see three ROC curves that are labelled as 'Excellent', 'Good', and 'Worthless'. These represent the results of three different classifiers of various usefulness. The x-axis show the false positive rate (FPR) from 0 to 1 and the y-axis shows the true positive rate (TPR) from 0 to 1. The plotted lines show, for various cutpoints or choices of threshold, what the these rates are. The closer the curve gets to the top left corner the better the classifier. Notice that a perfect classifier would yield a true positive rate of 1 and a false positive rate of 0. In such an ideal case, the ROC curve would be a straight line from (0,0) to (0,1) and a horizontal line from (0,1) to (1,1). This is why the area under the curve is used as a singular measure for assessing the usefulness of a classifier."
   ]
  },
  {
   "cell_type": "code",
   "execution_count": 32,
   "metadata": {},
   "outputs": [
    {
     "data": {
      "image/png": "[encoded data removed]",
      "text/plain": [
       "<Figure size 1512x648 with 1 Axes>"
      ]
     },
     "metadata": {
      "needs_background": "light"
     },
     "output_type": "display_data"
    }
   ],
   "source": [
    "fig, ax = plt.subplots(figsize=(21,9))\n",
    "y_pred_prob = model.predict(X_test)\n",
    "\n",
    "from sklearn.metrics import roc_curve\n",
    "# Generate ROC curve values: fpr, tpr, thresholds\n",
    "fpr, tpr, thresholds = roc_curve(y_test, y_pred_prob)\n",
    "\n",
    "# Plot ROC curve\n",
    "plt.plot([0, 1], [0, 1], 'k--')\n",
    "plt.plot(fpr, tpr)\n",
    "plt.xlabel('False Positive Rate')\n",
    "plt.ylabel('True Positive Rate')\n",
    "plt.title('ROC Curve')\n",
    "plt.show()"
   ]
  },
  {
   "cell_type": "markdown",
   "metadata": {},
   "source": [
    "AUC"
   ]
  },
  {
   "cell_type": "code",
   "execution_count": 33,
   "metadata": {},
   "outputs": [
    {
     "data": {
      "text/plain": [
       "0.6908667597384909"
      ]
     },
     "execution_count": 33,
     "metadata": {},
     "output_type": "execute_result"
    }
   ],
   "source": [
    "from sklearn.metrics import roc_auc_score\n",
    "roc_auc_score(y_test, predicted_df['Predicted_Class'])"
   ]
  },
  {
   "cell_type": "code",
   "execution_count": 34,
   "metadata": {
    "scrolled": true
   },
   "outputs": [
    {
     "data": {
      "text/html": [
       "<div>\n",
       "<style scoped>\n",
       "    .dataframe tbody tr th:only-of-type {\n",
       "        vertical-align: middle;\n",
       "    }\n",
       "\n",
       "    .dataframe tbody tr th {\n",
       "        vertical-align: top;\n",
       "    }\n",
       "\n",
       "    .dataframe thead th {\n",
       "        text-align: right;\n",
       "    }\n",
       "</style>\n",
       "<table border=\"1\" class=\"dataframe\">\n",
       "  <thead>\n",
       "    <tr style=\"text-align: right;\">\n",
       "      <th></th>\n",
       "      <th>Model</th>\n",
       "      <th>R-Squared Value</th>\n",
       "      <th>ROC Score</th>\n",
       "      <th>Precision Score</th>\n",
       "      <th>Recall Score</th>\n",
       "      <th>Accuracy Score</th>\n",
       "      <th>Model Description</th>\n",
       "    </tr>\n",
       "  </thead>\n",
       "  <tbody>\n",
       "    <tr>\n",
       "      <th>0</th>\n",
       "      <td>Model 1</td>\n",
       "      <td>0.409249</td>\n",
       "      <td>0.690867</td>\n",
       "      <td>0.669118</td>\n",
       "      <td>0.40625</td>\n",
       "      <td>0.913571</td>\n",
       "      <td>Logistic Regression Base Model</td>\n",
       "    </tr>\n",
       "  </tbody>\n",
       "</table>\n",
       "</div>"
      ],
      "text/plain": [
       "     Model  R-Squared Value  ROC Score  Precision Score  Recall Score  \\\n",
       "0  Model 1         0.409249   0.690867         0.669118       0.40625   \n",
       "\n",
       "   Accuracy Score               Model Description  \n",
       "0        0.913571  Logistic Regression Base Model  "
      ]
     },
     "execution_count": 34,
     "metadata": {},
     "output_type": "execute_result"
    }
   ],
   "source": [
    "cols = ['Model','R-Squared Value','ROC Score', 'Precision Score', 'Recall Score','Accuracy Score','Model Description']\n",
    "df_models = pd.DataFrame(columns = cols)\n",
    "\n",
    "model_1 = pd.Series({'Model': \"Model 1\",\n",
    "                  'R-Squared Value': model.prsquared,\n",
    "                 'ROC Score' : roc_auc_score(y_test, predicted_df['Predicted_Class']),\n",
    "                 'Precision Score': metrics.precision_score(y_test, predicted_df['Predicted_Class']),\n",
    "                 'Recall Score': metrics.recall_score(y_test, predicted_df['Predicted_Class']),\n",
    "                 'Accuracy Score': metrics.accuracy_score(y_test, predicted_df['Predicted_Class']),\n",
    "                 'Model Description': \"Logistic Regression Base Model\"})\n",
    "\n",
    "model1_report = df_models.append(model_1, ignore_index = True)\n",
    "model1_report\n"
   ]
  },
  {
   "cell_type": "markdown",
   "metadata": {},
   "source": [
    "# Some Other Methods which can be implemented to get a better result :\n",
    "- SMOTE to create some more rows having less values\n",
    "- Try removing 'Unknown' with MV and then removing those MV which are effecting the Dataset\n",
    "- Try removing variables having High-correlation to ease the prediction\n",
    "- Try altering variables"
   ]
  },
  {
   "cell_type": "markdown",
   "metadata": {},
   "source": [
    "<a id='end'></a>"
   ]
  },
  {
   "cell_type": "code",
   "execution_count": null,
   "metadata": {},
   "outputs": [],
   "source": []
  }
 ],
 "metadata": {
  "kernelspec": {
   "display_name": "Python 3",
   "language": "python",
   "name": "python3"
  },
  "language_info": {
   "codemirror_mode": {
    "name": "ipython",
    "version": 3
   },
   "file_extension": ".py",
   "mimetype": "text/x-python",
   "name": "python",
   "nbconvert_exporter": "python",
   "pygments_lexer": "ipython3",
   "version": "3.8.3"
  }
 },
 "nbformat": 4,
 "nbformat_minor": 4
}
