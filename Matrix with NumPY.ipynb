{
 "cells": [
  {
   "cell_type": "markdown",
   "metadata": {},
   "source": [
    "# Imports"
   ]
  },
  {
   "cell_type": "code",
   "execution_count": 1,
   "metadata": {},
   "outputs": [],
   "source": [
    "import numpy as np"
   ]
  },
  {
   "cell_type": "markdown",
   "metadata": {},
   "source": [
    "# Types of Matrix :-"
   ]
  },
  {
   "cell_type": "markdown",
   "metadata": {},
   "source": [
    "- ### Row Matrix\n",
    "\n",
    "  **Row matrix**: A matrix having a single row. Example:[1 2 3 4 5]."
   ]
  },
  {
   "cell_type": "code",
   "execution_count": 2,
   "metadata": {},
   "outputs": [
    {
     "name": "stdout",
     "output_type": "stream",
     "text": [
      "[1 2 3 4 5]\n"
     ]
    }
   ],
   "source": [
    "# Creating row matrix using NumPy\n",
    "matrix_row = np.array([1, 2, 3, 4, 5])\n",
    "\n",
    "# printing the matrix\n",
    "print(matrix_row)"
   ]
  },
  {
   "cell_type": "code",
   "execution_count": 3,
   "metadata": {},
   "outputs": [
    {
     "name": "stdout",
     "output_type": "stream",
     "text": [
      "Row matrix = [1 2 3 4 5]\n"
     ]
    }
   ],
   "source": [
    "# printing the matrix\n",
    "print(f'Row matrix = {matrix_row}')"
   ]
  },
  {
   "cell_type": "markdown",
   "metadata": {},
   "source": [
    "- ### Column Matrix\n",
    "  A matrix that consists of all elements in only one column is called a **column matrix**.EX:-    \n",
    "              |1|\n",
    "      Matrix= |2|\n",
    "              |3|"
   ]
  },
  {
   "cell_type": "code",
   "execution_count": 4,
   "metadata": {},
   "outputs": [
    {
     "name": "stdout",
     "output_type": "stream",
     "text": [
      "Column matrix =\n",
      "[[1]\n",
      " [2]\n",
      " [3]\n",
      " [4]\n",
      " [5]]\n"
     ]
    }
   ],
   "source": [
    "# Creating column matrix using NumPy\n",
    "matrix_column = np.array([[1],[2],[3],[4],[5]])\n",
    "\n",
    "# printing the matrix\n",
    "print(f'Column matrix =\\n{matrix_column}')"
   ]
  },
  {
   "cell_type": "markdown",
   "metadata": {},
   "source": [
    "- ### Zero Matrix\n",
    "  A **zero matrix or null matrix** is a matrix all of whose entries are zero. EX:-    \n",
    "                   |0 0 0|\n",
    "      Zero Matrix= |0 0 0|\n",
    "                   |0 0 0|"
   ]
  },
  {
   "cell_type": "code",
   "execution_count": 13,
   "metadata": {
    "scrolled": true
   },
   "outputs": [
    {
     "name": "stdout",
     "output_type": "stream",
     "text": [
      "Zero matrix =\n",
      "[[0 0 0]\n",
      " [0 0 0]\n",
      " [0 0 0]]\n"
     ]
    }
   ],
   "source": [
    "# Creating zero matrix using NumPy\n",
    "matrix_zero = np.array([[0, 0, 0],[0, 0, 0],[0, 0, 0]])\n",
    "\n",
    "# printing the matrix\n",
    "print(f'Zero matrix =\\n{matrix_zero}')"
   ]
  },
  {
   "cell_type": "markdown",
   "metadata": {},
   "source": [
    "- ### Singleton Matrix\n",
    "  If in a matrix there is only one element then it is called **singleton matrix**. EX:-    \n",
    "  \n",
    "                singleton matrix = [2]"
   ]
  },
  {
   "cell_type": "code",
   "execution_count": 14,
   "metadata": {},
   "outputs": [
    {
     "name": "stdout",
     "output_type": "stream",
     "text": [
      "Singleton matrix =\n",
      "[2]\n"
     ]
    }
   ],
   "source": [
    "# Creating singleton matrix using NumPy\n",
    "matrix_singleton = np.array([2])\n",
    "\n",
    "# printing the matrix\n",
    "print(f'Singleton matrix =\\n{matrix_singleton}')"
   ]
  },
  {
   "cell_type": "markdown",
   "metadata": {},
   "source": [
    "- ### Horizontal Matrix\n",
    "  \n",
    "  A matrix, in which number of rows is less than the number of columns, is called a **Horizontal Matrix**.\n",
    "  \n",
    "              Horizontal matrix= [[ 1  2  3  4 ]  \n",
    "                                 [ 5  6  7  8 ]]  "
   ]
  },
  {
   "cell_type": "code",
   "execution_count": 3,
   "metadata": {},
   "outputs": [
    {
     "name": "stdout",
     "output_type": "stream",
     "text": [
      "Horizontal matrix=\n",
      "[[1 2 3 4]\n",
      " [5 6 7 8]]\n",
      "\n"
     ]
    }
   ],
   "source": [
    "# Creating horizontal matrix using NumPy\n",
    "matrix_horizontal = np.array([[1,2,3,4],[5,6,7,8]])\n",
    "\n",
    "# printing the matrix\n",
    "print(f'Horizontal matrix=\\n{matrix_horizontal}\\n')"
   ]
  },
  {
   "cell_type": "markdown",
   "metadata": {},
   "source": [
    "- ### Vertical Matrix\n",
    "  \n",
    "  A matrix, in which number of columns is less than the number of rows, is called a **Vertical Matrix**.\n",
    "  \n",
    "               Vertical matrix= [[ 1  2]  \n",
    "                                 [ 3  4]\n",
    "                                 [ 5  6]]  "
   ]
  },
  {
   "cell_type": "code",
   "execution_count": 5,
   "metadata": {},
   "outputs": [
    {
     "name": "stdout",
     "output_type": "stream",
     "text": [
      "Vertical matrix=\n",
      "[[1 2]\n",
      " [3 4]\n",
      " [5 6]]\n",
      "\n"
     ]
    }
   ],
   "source": [
    "# Creating vertical matrix using NumPy\n",
    "matrix_vertical = np.array([[1,2],[3,4],[5,6]])\n",
    "\n",
    "# printing the matrix\n",
    "print(f'Vertical matrix=\\n{matrix_vertical}\\n')"
   ]
  },
  {
   "cell_type": "markdown",
   "metadata": {},
   "source": [
    "- ### Square Matrix\n",
    "\n",
    "  A square matrix is an n × n matrix; that is, a matrix having the same number of rows as columns. EX:-      \n",
    "     \n",
    "                                [[1 2 3]  \n",
    "               Square Matrix=    [4 5 6]  \n",
    "                                 [7 8 9]]"
   ]
  },
  {
   "cell_type": "code",
   "execution_count": 24,
   "metadata": {},
   "outputs": [
    {
     "name": "stdout",
     "output_type": "stream",
     "text": [
      "Square matrix=\n",
      "[[1 2]\n",
      " [3 4]]\n"
     ]
    }
   ],
   "source": [
    "# Creating square matrix using NumPy\n",
    "matrix_square = np.array([[1,2],[3,4]])\n",
    "\n",
    "# printing the matrix\n",
    "print(f'Square matrix=\\n{matrix_square}')"
   ]
  },
  {
   "cell_type": "markdown",
   "metadata": {},
   "source": [
    "- ### Upper Triangular Matrix\n",
    "  \n",
    "  A square matrix is called **upper triangular** if all the entries below the main diagonal are zero\n",
    "  \n",
    "                                                   [[ 1  2  3  4 ]  \n",
    "                         Upper triangular matrix=   [ 0  5  6  7 ]  \n",
    "                                                    [ 0  0  8  9 ]  \n",
    "                                                    [ 0  0  0  10]]  "
   ]
  },
  {
   "cell_type": "code",
   "execution_count": 50,
   "metadata": {},
   "outputs": [
    {
     "name": "stdout",
     "output_type": "stream",
     "text": [
      "Upper triangular matrix=\n",
      "[[ 1  2  3  4]\n",
      " [ 0  5  6  7]\n",
      " [ 0  0  8  9]\n",
      " [ 0  0  0 10]]\n",
      "\n"
     ]
    }
   ],
   "source": [
    "# Creating upper triangular matrix using NumPy\n",
    "matrix_upper_triangular = np.array([[1,2,3,4],[0,5,6,7],[0,0,8,9],[0,0,0,10]])\n",
    "\n",
    "# printing the matrix\n",
    "print(f'Upper triangular matrix=\\n{matrix_upper_triangular}\\n')"
   ]
  },
  {
   "cell_type": "markdown",
   "metadata": {},
   "source": [
    "- ### Lower Triangular Matrix\n",
    "  \n",
    "  A square matrix is called **lower triangular** if all the entries above the main diagonal are zero\n",
    "  \n",
    "                                                   [[ 1  0  0  0 ]  \n",
    "                         lower triangular matrix=   [ 2  3  0  0 ]  \n",
    "                                                    [ 4  5  6  0 ]  \n",
    "                                                    [ 7  8  9  10]]  "
   ]
  },
  {
   "cell_type": "code",
   "execution_count": 47,
   "metadata": {},
   "outputs": [
    {
     "name": "stdout",
     "output_type": "stream",
     "text": [
      "Lower triangular matrix=\n",
      "[[ 1  0  0  0]\n",
      " [ 2  3  0  0]\n",
      " [ 4  5  6  0]\n",
      " [ 7  8  9 10]]\n",
      "\n"
     ]
    }
   ],
   "source": [
    "# Creating lower triangular matrix using NumPy\n",
    "matrix_lower_triangular = np.array([[1,0,0,0],[2,3,0,0],[4,5,6,0],[7,8,9,10]])\n",
    "\n",
    "# printing the matrix\n",
    "print(f'Lower triangular matrix=\\n{matrix_lower_triangular}\\n')"
   ]
  },
  {
   "cell_type": "markdown",
   "metadata": {},
   "source": [
    "- ### Symmetric Matrix\n",
    "\n",
    "  A matrix A is **symmetric matrix** if it is equal to its transpose, i.e., A=AT. A matrix A is symmetric if and only if swapping indices   doesn't change its components, i.e., aij=aji.  \n",
    "                                        [[ 1  2  3  4]  \n",
    "                   Symmetric matrix=    [ 2  5  6  7]  \n",
    "                                        [ 3  6  8  9]  \n",
    "                                        [ 4  7  9 10]]  "
   ]
  },
  {
   "cell_type": "code",
   "execution_count": 6,
   "metadata": {},
   "outputs": [
    {
     "name": "stdout",
     "output_type": "stream",
     "text": [
      "Symmetric matrix=\n",
      "[[ 1  2  3  4]\n",
      " [ 2  5  6  7]\n",
      " [ 3  6  8  9]\n",
      " [ 4  7  9 10]]\n",
      "\n",
      "Transpose of the symmetric matrix=\n",
      "[[ 1  2  3  4]\n",
      " [ 2  5  6  7]\n",
      " [ 3  6  8  9]\n",
      " [ 4  7  9 10]]\n"
     ]
    }
   ],
   "source": [
    "# Creating symmetric matrix using NumPy\n",
    "matrix_symmetric = np.array([[1,2,3,4],[2,5,6,7],[3,6,8,9],[4,7,9,10]])\n",
    "\n",
    "# printing the matrix\n",
    "print(f'Symmetric matrix=\\n{matrix_symmetric}\\n')\n",
    "\n",
    "# Using .transpose() function of NumPY to calculate the matrix's transpose\n",
    "# printing the transpose of the matrix\n",
    "print(f'Transpose of the symmetric matrix=\\n{matrix_symmetric.transpose()}')"
   ]
  },
  {
   "cell_type": "markdown",
   "metadata": {},
   "source": [
    "- ### Skew-Symmetric Matrix\n",
    "  \n",
    "  Square Matrix A is said to be skew-symmetric if aij=−aji for all i and j. In other words, we can say that matrix A is said to    be **skew-symmetric** if transpose of matrix A is equal to negative of Matrix A i.e (AT=−A).  \n",
    "  \n",
    "                                                   [[ 0 -1  3  6]  \n",
    "                         Skew-Symmetric matrix=     [ 1  0  2 -5]  \n",
    "                                                    [-3 -2  0  4]  \n",
    "                                                    [-6  5 -4  0]]  "
   ]
  },
  {
   "cell_type": "code",
   "execution_count": 16,
   "metadata": {},
   "outputs": [
    {
     "name": "stdout",
     "output_type": "stream",
     "text": [
      "Skew-Symmetric matrix=\n",
      "[[ 0 -1  3  6]\n",
      " [ 1  0  2 -5]\n",
      " [-3 -2  0  4]\n",
      " [-6  5 -4  0]]\n",
      "\n",
      "Transpose of the Skew-Symmetric matrix=\n",
      "[[ 0  1 -3 -6]\n",
      " [-1  0 -2  5]\n",
      " [ 3  2  0 -4]\n",
      " [ 6 -5  4  0]]\n",
      "\n",
      "Negative of the Transpose matrix=\n",
      "[[ 0 -1  3  6]\n",
      " [ 1  0  2 -5]\n",
      " [-3 -2  0  4]\n",
      " [-6  5 -4  0]]\n"
     ]
    }
   ],
   "source": [
    "# Creating skew-symmetric matrix using NumPy\n",
    "matrix_skew_symmetric = np.array([[0,-1,3,6],[1,0,2,-5],[-3,-2,0,4],[-6,5,-4,0]])\n",
    "\n",
    "# printing the matrix\n",
    "print(f'Skew-Symmetric matrix=\\n{matrix_skew_symmetric}\\n')\n",
    "\n",
    "# Using .transpose() function of NumPY to calculate the matrix's transpose\n",
    "matrix_skew_symmetric_t=matrix_skew_symmetric.transpose()\n",
    "\n",
    "# printing the transpose of the matrix\n",
    "print(f'Transpose of the Skew-Symmetric matrix=\\n{matrix_skew_symmetric_t}\\n')\n",
    "\n",
    "# printing the negative of transpose matrix\n",
    "print(f'Negative of the Transpose matrix=\\n{matrix_skew_symmetric_t*-1}')"
   ]
  },
  {
   "cell_type": "markdown",
   "metadata": {},
   "source": [
    "- ### Orthogonal Matrix\n",
    "  \n",
    "  The matrix is said to be an **orthogonal matrix** if the product of a matrix and its transpose gives an identity value.\n",
    "  Q^T . Q = Q . Q^T = I\n",
    "  \n",
    "                                                   [[ 1  0 ]  \n",
    "                         Orthogonal matrix=         [ 0 -1 ]]  "
   ]
  },
  {
   "cell_type": "code",
   "execution_count": 23,
   "metadata": {},
   "outputs": [
    {
     "name": "stdout",
     "output_type": "stream",
     "text": [
      "Orthogonal matrix=\n",
      "[[ 1  0]\n",
      " [ 0 -1]]\n",
      "\n",
      "Orthogonal matrix * Transpose of orthogonal matrix= Indentity Matrix =\n",
      "[[1 0]\n",
      " [0 1]]\n",
      "\n"
     ]
    }
   ],
   "source": [
    "# Creating orthogonal matrix using NumPy\n",
    "matrix_orthogonal = np.array([[1,0],[0,-1]])\n",
    "\n",
    "# printing the matrix\n",
    "print(f'Orthogonal matrix=\\n{matrix_orthogonal}\\n')\n",
    "\n",
    "# Using .transpose() function of NumPY to calculate the matrix's transpose \n",
    "# Printing original matrix * transpose of the matrix, which is equal to an indentity matrix\n",
    "print(f'Orthogonal matrix * Transpose of orthogonal matrix= Indentity Matrix =\\n{matrix_orthogonal.transpose()*matrix_orthogonal}\\n')"
   ]
  },
  {
   "cell_type": "markdown",
   "metadata": {},
   "source": [
    "- ### Diagonal Matrix\n",
    "  \n",
    "  A **diagonal matrix** is a matrix in which the entries outside the main diagonal are all zero\n",
    "  \n",
    "                                                   [[ 1  0  0  0 ]  \n",
    "                         Diagonal matrix=           [ 0  2  0  0 ]  \n",
    "                                                    [ 0  0  3  0 ]  \n",
    "                                                    [ 0  0  0  4]]  "
   ]
  },
  {
   "cell_type": "code",
   "execution_count": 52,
   "metadata": {},
   "outputs": [
    {
     "name": "stdout",
     "output_type": "stream",
     "text": [
      "Diagonal matrix=\n",
      "[[1 0 0 0]\n",
      " [0 2 0 0]\n",
      " [0 0 3 0]\n",
      " [0 0 0 4]]\n",
      "\n"
     ]
    }
   ],
   "source": [
    "# Creating diagonal matrix using NumPy\n",
    "matrix_diagonal = np.array([[1,0,0,0],[0,2,0,0],[0,0,3,0],[0,0,0,4]])\n",
    "\n",
    "# printing the matrix\n",
    "print(f'Diagonal matrix=\\n{matrix_diagonal}\\n')"
   ]
  },
  {
   "cell_type": "markdown",
   "metadata": {},
   "source": [
    "- ### Identity Matrix\n",
    "  \n",
    "  **Identity matrix** of size n is the n × n square matrix with ones on the main diagonal and zeros elsewhere.\n",
    "  \n",
    "                                [[1 0 0]  \n",
    "               Identity Matrix=  [0 1 0]  \n",
    "                                 [0 0 1]]"
   ]
  },
  {
   "cell_type": "code",
   "execution_count": 8,
   "metadata": {
    "scrolled": true
   },
   "outputs": [
    {
     "name": "stdout",
     "output_type": "stream",
     "text": [
      "Identity matrix=\n",
      "[[1 0 0]\n",
      " [0 1 0]\n",
      " [0 0 1]]\n",
      "\n"
     ]
    }
   ],
   "source": [
    "# Creating identity matrix using NumPy\n",
    "matrix_identity = np.array([[1,0,0],[0,1,0],[0,0,1]])\n",
    "\n",
    "# printing the matrix\n",
    "print(f'Identity matrix=\\n{matrix_identity}\\n')"
   ]
  },
  {
   "cell_type": "markdown",
   "metadata": {},
   "source": [
    "- ### Scalar matrix\n",
    "  \n",
    "  A **scalar matrix** is a special kind of diagonal matrix. It is a diagonal matrix with equal-valued elements along the diagonal. \n",
    "  \n",
    "                                [[2 0 0]  \n",
    "               Scalar Matrix=    [0 2 0]  \n",
    "                                 [0 0 2]]"
   ]
  },
  {
   "cell_type": "code",
   "execution_count": 25,
   "metadata": {
    "scrolled": true
   },
   "outputs": [
    {
     "name": "stdout",
     "output_type": "stream",
     "text": [
      "Scalar matrix=\n",
      "[[2 0 0]\n",
      " [0 2 0]\n",
      " [0 0 2]]\n",
      "\n"
     ]
    }
   ],
   "source": [
    "# Creating identity matrix using NumPy\n",
    "matrix_scalar = np.array([[2,0,0],[0,2,0],[0,0,2]])\n",
    "\n",
    "# printing the matrix\n",
    "print(f'Scalar matrix=\\n{matrix_scalar}\\n')"
   ]
  },
  {
   "cell_type": "markdown",
   "metadata": {},
   "source": [
    "- ### Hermitian Matrix\n",
    "\n",
    "  **Hermitian Matrix** (or self-adjoint matrix) is a complex square matrix that is equal to its own conjugate transpose—that is, the element in the i-th row and j-th column is equal to the complex conjugate of the element in the j-th row and i-th column    "
   ]
  },
  {
   "cell_type": "code",
   "execution_count": 120,
   "metadata": {},
   "outputs": [
    {
     "name": "stdout",
     "output_type": "stream",
     "text": [
      "Hermitian Matrix=\n",
      "[[-1.+0.j  1.-2.j  0.+0.j]\n",
      " [ 1.+2.j  0.+0.j -0.-1.j]\n",
      " [ 0.+0.j  0.+1.j  1.+0.j]]\n",
      "\n",
      "Transpose of conjugate Matrix=\n",
      "[[-1.-0.j  1.-2.j  0.-0.j]\n",
      " [ 1.+2.j  0.-0.j  0.-1.j]\n",
      " [ 0.-0.j -0.+1.j  1.-0.j]]\n"
     ]
    }
   ],
   "source": [
    "# Creating hermitian matrix using NumPy\n",
    "# Python has Built-in Support for Complex Numbers, complex([real[, imag]]). where the Imaginary Part is Written with a j Suffix, e.g., 3+1j. \n",
    "\n",
    "matrix_hermitian = np.array([[-1 , 1-2j , 0], [1+2j , 0 , -1j ], [0, 1j, 1]])\n",
    "\n",
    "# printing the matrix\n",
    "print(f'Hermitian Matrix=\\n{matrix_hermitian}\\n')\n",
    "\n",
    "# Printing the transpose of the conjugate matrix using .conjugate() and .transpose() NumPy function\n",
    "print(f'Transpose of conjugate Matrix=\\n{matrix_hermitian.conjugate().transpose()}')"
   ]
  },
  {
   "cell_type": "markdown",
   "metadata": {},
   "source": [
    "- ### Singular Matrix\n",
    "\n",
    "   **Singular Matrix** is a square matrix that does not have a matrix inverse. A matrix is singular if its determinant is 0."
   ]
  },
  {
   "cell_type": "code",
   "execution_count": 129,
   "metadata": {},
   "outputs": [
    {
     "name": "stdout",
     "output_type": "stream",
     "text": [
      "Singular matrix=\n",
      "[[1 2]\n",
      " [1 2]]\n",
      "\n",
      "Determinant of the matrix = 0.0\n"
     ]
    }
   ],
   "source": [
    "# Creating singular matrix using NumPy\n",
    "matrix_singular = np.array([[1,2],[1,2]])\n",
    "\n",
    "# printing the matrix\n",
    "print(f'Singular matrix=\\n{matrix_singular}\\n')\n",
    "\n",
    "# calculating determinant of the matrix using np.linalg.det() function\n",
    "print(f'Determinant of the matrix = {np.linalg.det(matrix_singular)}')"
   ]
  },
  {
   "cell_type": "markdown",
   "metadata": {},
   "source": [
    "- ### NonSingular Matrix\n",
    "\n",
    "  A **non-singular matrix** is a square one whose determinant is not zero."
   ]
  },
  {
   "cell_type": "code",
   "execution_count": 131,
   "metadata": {},
   "outputs": [
    {
     "name": "stdout",
     "output_type": "stream",
     "text": [
      "NonSingular matrix=\n",
      "[[1 2]\n",
      " [3 2]]\n",
      "\n",
      "Determinant of the matrix = -4.000000000000001\n"
     ]
    }
   ],
   "source": [
    "# Creating non-singular matrix using NumPy\n",
    "matrix_non_singular = np.array([[1,2],[3,2]])\n",
    "\n",
    "# printing the matrix\n",
    "print(f'NonSingular matrix=\\n{matrix_non_singular}\\n')\n",
    "\n",
    "# calculating determinant of the matrix using np.linalg.det() function\n",
    "print(f'Determinant of the matrix = {np.linalg.det(matrix_non_singular)}')"
   ]
  },
  {
   "cell_type": "markdown",
   "metadata": {},
   "source": [
    "# Operations of Matrices :-"
   ]
  },
  {
   "cell_type": "markdown",
   "metadata": {},
   "source": [
    "- ### Addition of Matrices\n",
    "\n",
    "    If A[aij]mxn and B[bij]mxn are two matrices of the same order then their sum A + B is a matrix, and each element of that \n",
    "    matrix is the sum of the corresponding elements. i.e. A + B = [aij + bij]mxn\n",
    "    \n",
    "    We can Perform Matrix Addition on All Types of Matrix With Same Order."
   ]
  },
  {
   "cell_type": "code",
   "execution_count": 83,
   "metadata": {},
   "outputs": [
    {
     "name": "stdout",
     "output_type": "stream",
     "text": [
      "Matrix addition using NumPY's add() function:-\n",
      "[[1 2 3]\n",
      " [4 5 6]]\n",
      "    +\n",
      "[[6 5 4]\n",
      " [3 2 1]]\n",
      "    =\n",
      "[[7 7 7]\n",
      " [7 7 7]]\n",
      "\n",
      "Matrix addition using simple '+' sign:-\n",
      "[[1 2 3]\n",
      " [4 5 6]]\n",
      "    +\n",
      "[[6 5 4]\n",
      " [3 2 1]]\n",
      "    =\n",
      "[[7 7 7]\n",
      " [7 7 7]]\n"
     ]
    }
   ],
   "source": [
    "# Creating 2 2D matrix using Numpy\n",
    "matrix_A = np.array([[1, 2, 3], [4, 5, 6]])\n",
    "matrix_B = np.array([[6, 5, 4], [3, 2, 1]])\n",
    "\n",
    "# Performing Matrix addition using NumPY's add() function\n",
    "print(f\"Matrix addition using NumPY's add() function:-\\n{matrix_A}\\n    +\\n{matrix_B}\\n    =\\n{np.add(matrix_A, matrix_B)}\\n\")\n",
    "\n",
    "# Performing Matrix addition using simple '+' sign\n",
    "print(f\"Matrix addition using simple '+' sign:-\\n{matrix_A}\\n    +\\n{matrix_B}\\n    =\\n{matrix_A+ matrix_B}\")"
   ]
  },
  {
   "cell_type": "markdown",
   "metadata": {},
   "source": [
    "- ### Subtraction of Matrices\n",
    "\n",
    "  If A and B are two matrices of the same order, then we define A-B=A+\\left( -B \\right).A−B=A+(−B)."
   ]
  },
  {
   "cell_type": "code",
   "execution_count": 86,
   "metadata": {},
   "outputs": [
    {
     "name": "stdout",
     "output_type": "stream",
     "text": [
      "Matrix subtraction using NumPY's subtract() function:-\n",
      "[[5 6]\n",
      " [7 8]]\n",
      "   -\n",
      "[[1 2]\n",
      " [3 4]]\n",
      "   =\n",
      "[[4 4]\n",
      " [4 4]]\n",
      "\n",
      "Matrix subtraction using simple '-' sign:-\n",
      "[[5 6]\n",
      " [7 8]]\n",
      "   -\n",
      "[[1 2]\n",
      " [3 4]]\n",
      "   =\n",
      "[[4 4]\n",
      " [4 4]]\n"
     ]
    }
   ],
   "source": [
    "# Creating 2 2D numpy using Numpy\n",
    "matrix_A = np.array([[1, 2], [3,4]])\n",
    "matrix_B = np.array([[5,6], [7,8]])\n",
    "\n",
    "# Performing Matrix subtraction using NumPY's subtract() function\n",
    "print(f\"Matrix subtraction using NumPY's subtract() function:-\\n{matrix_B}\\n   -\\n{matrix_A}\\n   =\\n{np.subtract(matrix_B, matrix_A)}\\n\")\n",
    "\n",
    "# Performing Matrix addition using simple '-' sign\n",
    "print(f\"Matrix subtraction using simple '-' sign:-\\n{matrix_B}\\n   -\\n{matrix_A}\\n   =\\n{matrix_B- matrix_A}\")"
   ]
  },
  {
   "cell_type": "markdown",
   "metadata": {},
   "source": [
    "- ### Scalar Multiplication of Matrices\n",
    "\n",
    "  The term scalar multiplication refers to the product of a real number and a matrix. In scalar multiplication, each entry in the matrix is multiplied by the given scalar."
   ]
  },
  {
   "cell_type": "code",
   "execution_count": 101,
   "metadata": {},
   "outputs": [
    {
     "name": "stdout",
     "output_type": "stream",
     "text": [
      "Matrix scalar multiplication using NumPY's multiply() function:-\n",
      "[[1 2 3]\n",
      " [4 5 6]\n",
      " [7 8 9]]\n",
      "    *\n",
      "    5\n",
      "    =\n",
      "[[ 5 10 15]\n",
      " [20 25 30]\n",
      " [35 40 45]]\n",
      "\n",
      "Matrix scalar multiplication using simple '*' sign:-\n",
      "[[1 2 3]\n",
      " [4 5 6]\n",
      " [7 8 9]]\n",
      "    *\n",
      "    5\n",
      "    =\n",
      "[[ 5 10 15]\n",
      " [20 25 30]\n",
      " [35 40 45]]\n"
     ]
    }
   ],
   "source": [
    "# Creating a 2D matrix using Numpy\n",
    "matrix = np.array([[1,2,3],[4,5,6],[7,8,9]])\n",
    "\n",
    "# Performing Matrix scalar multiplication using NumPY's multiply() function\n",
    "print(f\"Matrix scalar multiplication using NumPY's multiply() function:-\\n{matrix}\\n    *\\n    5\\n    =\\n{np.multiply(matrix,5)}\\n\")\n",
    "\n",
    "# Performing Matrix scalar multiplication using simple '*' sign\n",
    "print(f\"Matrix scalar multiplication using simple '*' sign:-\\n{matrix}\\n    *\\n    5\\n    =\\n{matrix*5}\")"
   ]
  },
  {
   "cell_type": "markdown",
   "metadata": {},
   "source": [
    "- ### Multiplication of Matrices\n",
    "\n",
    "    Let A = [aij]m x n and B = [bij]n x p Are Two Matrices Such That the Number of Columns of A is Equal to the Number of Rows of B, then Multiplication of A and B is Denoted by AB\n",
    "\n",
    "    We Can Multiply any Two Matrices With The Order Of M x N And N x P And It Will Give Us a M x P Order Matrix"
   ]
  },
  {
   "cell_type": "code",
   "execution_count": 149,
   "metadata": {},
   "outputs": [
    {
     "name": "stdout",
     "output_type": "stream",
     "text": [
      "Matrix scalar multiplication using NumPY's matmul() function:-\n",
      "[[1 2]\n",
      " [3 4]]\n",
      "   *\n",
      "[[5 6]\n",
      " [7 8]]\n",
      "   =\n",
      "[[19 22]\n",
      " [43 50]]\n",
      "\n",
      "Matrix scalar multiplication using NumPY's dot() function:-\n",
      "[[1 2]\n",
      " [3 4]]\n",
      "   *\n",
      "[[5 6]\n",
      " [7 8]]\n",
      "   =\n",
      "[[19 22]\n",
      " [43 50]]\n",
      "\n"
     ]
    }
   ],
   "source": [
    "# Creating 2 2D matrix using Numpy\n",
    "matrix_A = np.array([[1, 2], [3,4]])\n",
    "matrix_B = np.array([[5,6], [7,8]])\n",
    "\n",
    "# Performing Matrix multiplication using NumPY's matmul() function\n",
    "print(f\"Matrix scalar multiplication using NumPY's matmul() function:-\\n{matrix_A}\\n   *\\n{matrix_B}\\n   =\\n{np.matmul(matrix_A,matrix_B)}\\n\")\n",
    "\n",
    "# Performing Matrix multiplication using NumPY's dot() function\n",
    "print(f\"Matrix scalar multiplication using NumPY's dot() function:-\\n{matrix_A}\\n   *\\n{matrix_B}\\n   =\\n{np.dot(matrix_A,matrix_B)}\\n\")"
   ]
  },
  {
   "cell_type": "markdown",
   "metadata": {},
   "source": [
    "- ### Transpose of Matrix\n",
    "\n",
    "    Transpose of a matrix is given by interchanging of rows and columns.Matrix Transpose Can be Done in any Types of Matrix of Order M x N, Where Value of M And N is Grater Than 1."
   ]
  },
  {
   "cell_type": "code",
   "execution_count": 119,
   "metadata": {},
   "outputs": [
    {
     "name": "stdout",
     "output_type": "stream",
     "text": [
      "Transpose of matrix using NumPY's transpose() function:-\n",
      "A=\n",
      "[[1 2 3]\n",
      " [4 5 6]\n",
      " [7 8 9]]\n",
      "Transpose of A=\n",
      "[[1 4 7]\n",
      " [2 5 8]\n",
      " [3 6 9]]\n",
      "\n",
      "Transpose of matrix using NumPY's .T function :-\n",
      "A=\n",
      "[[1 2 3]\n",
      " [4 5 6]\n",
      " [7 8 9]]\n",
      "Transpose of A=\n",
      "[[1 4 7]\n",
      " [2 5 8]\n",
      " [3 6 9]]\n",
      "\n"
     ]
    }
   ],
   "source": [
    "# Creating a 2D matrix using Numpy\n",
    "matrix = np.array([[1,2,3], [4,5,6],[7,8,9]])\n",
    "\n",
    "# Calculating Transpose of matrix using NumPY's transpose() function\n",
    "print(f\"Transpose of matrix using NumPY's transpose() function:-\\nA=\\n{matrix}\\nTranspose of A=\\n{np.transpose(matrix)}\\n\")\n",
    "\n",
    "# Calculating Transpose of matrix using NumPY's .T method\n",
    "print(f\"Transpose of matrix using NumPY's .T function :-\\nA=\\n{matrix}\\nTranspose of A=\\n{matrix.T}\\n\")"
   ]
  },
  {
   "cell_type": "markdown",
   "metadata": {},
   "source": [
    "- ### Determinant of Matrix\n",
    "\n",
    "    The determinant is a scalar value that can be computed from the elements of a square matrix and encodes certain properties of the linear transformation described by the matrix. The determinant of a matrix A is denoted det(A), det A, or |A|. Geometrically, it can be viewed as the volume scaling factor of the linear transformation described by the matrix. This is also the signed volume of the n-dimensional parallelepiped spanned by the column or row vectors of the matrix. The determinant is positive or negative according to whether the linear transformation preserves or reverses the orientation of a real vector space."
   ]
  },
  {
   "cell_type": "code",
   "execution_count": 134,
   "metadata": {},
   "outputs": [
    {
     "name": "stdout",
     "output_type": "stream",
     "text": [
      "Determinant of Matrix using NumPY's transpose() function:-\n",
      "A=\n",
      "[[1 2 3]\n",
      " [4 5 6]\n",
      " [7 8 9]]\n",
      "\n",
      "Determinante of A= -9.51619735392994e-16\n",
      "\n"
     ]
    }
   ],
   "source": [
    "# Creating a 2D matrix using Numpy\n",
    "matrix = np.array([[1,2,3], [4,5,6],[7,8,9]])\n",
    "\n",
    "# Calculating Determinant of Matrix using NumPY's np.linalg.det() function\n",
    "print(f\"Determinant of Matrix using NumPY's transpose() function:-\\nA=\\n{matrix}\\n\\nDeterminante of A= {np.linalg.det(matrix)}\\n\")"
   ]
  },
  {
   "cell_type": "markdown",
   "metadata": {},
   "source": [
    "- ### Flatten of Matrix\n",
    "\n",
    "    The process of converting 2D or multi-Dimensional matrix into a 1-D matrix or Array "
   ]
  },
  {
   "cell_type": "code",
   "execution_count": 148,
   "metadata": {},
   "outputs": [
    {
     "name": "stdout",
     "output_type": "stream",
     "text": [
      " Flattening a Matrix using NumPY's .flatten() function:-\n",
      "A=\n",
      "[[1 2 3]\n",
      " [4 5 6]\n",
      " [7 8 9]]\n",
      "\n",
      "Flatten of A= [1 2 3 4 5 6 7 8 9]\n",
      "\n"
     ]
    }
   ],
   "source": [
    "# Creating a 2D matrix using Numpy\n",
    "matrix = np.array([[1,2,3], [4,5,6],[7,8,9]])\n",
    "\n",
    "# Flattening a Matrix using NumPY's .flatten() function\n",
    "#parameters of flatten() function are:-\n",
    "#‘C’ means to flatten in row-major (C-style) order.\n",
    "#‘F’ means to flatten in column-major (Fortran- style) order.\n",
    "#‘A’ means to flatten in column-major order if a is Fortran contiguous in memory, row-major order otherwise.\n",
    "#‘K’ means to flatten a in the order the elements occur in memory. The default is ‘C’.\n",
    "print(f\" Flattening a Matrix using NumPY's .flatten() function:-\\nA=\\n{matrix}\\n\\nFlatten of A= {matrix.flatten()}\\n\")"
   ]
  },
  {
   "cell_type": "markdown",
   "metadata": {},
   "source": [
    "- ### Inverse of Matrix\n",
    "\n",
    "  Assuming that we have a square matrix A, which is non-singular (i.e. det (A) does not equal zero), then there exists an n × n matrix A-1 which is called the inverse of A such that:\n",
    "  AA-1 = A-1A = I, where I is the identity matrix.\n"
   ]
  },
  {
   "cell_type": "code",
   "execution_count": 153,
   "metadata": {},
   "outputs": [
    {
     "name": "stdout",
     "output_type": "stream",
     "text": [
      " Calculating Inverse of a Matrix using NumPY's np.linalg.inv() function:-\n",
      "A=\n",
      "[[1 2 3]\n",
      " [4 5 6]\n",
      " [7 8 9]]\n",
      "\n",
      "Inverse of A=\n",
      "[[ 3.15251974e+15 -6.30503948e+15  3.15251974e+15]\n",
      " [-6.30503948e+15  1.26100790e+16 -6.30503948e+15]\n",
      " [ 3.15251974e+15 -6.30503948e+15  3.15251974e+15]]\n",
      "\n"
     ]
    }
   ],
   "source": [
    "# Creating a 2D matrix using Numpy\n",
    "matrix = np.array([[1,2,3], [4,5,6],[7,8,9]])\n",
    "\n",
    "# Calculating inverse of a Matrix using NumPY's np.linalg.inv() function\n",
    "print(f\" Calculating Inverse of a Matrix using NumPY's np.linalg.inv() function:-\\nA=\\n{matrix}\\n\\nInverse of A=\\n{np.linalg.inv(matrix)}\\n\")"
   ]
  },
  {
   "cell_type": "markdown",
   "metadata": {},
   "source": [
    "## Other NumPy module for matrix operations :-\n"
   ]
  },
  {
   "cell_type": "markdown",
   "metadata": {},
   "source": [
    "- **divide()** − divide elements of two matrices."
   ]
  },
  {
   "cell_type": "code",
   "execution_count": 163,
   "metadata": {},
   "outputs": [
    {
     "name": "stdout",
     "output_type": "stream",
     "text": [
      "[[1 2]\n",
      " [2 2]]\n",
      "   /\n",
      "[[1 2]\n",
      " [4 8]]\n",
      "   =\n",
      "[[1.   1.  ]\n",
      " [0.5  0.25]]\n"
     ]
    }
   ],
   "source": [
    "# Creating 2 2D matrix using Numpy\n",
    "matrix_A = np.array([[1,2], [4,8]])\n",
    "matrix_B = np.array([[1,2], [2,2]])\n",
    "\n",
    "# Dividing elements of two matrices using NumPy's divide() function\n",
    "print(f'{matrix_B}\\n   /\\n{matrix_A}\\n   =\\n{np.divide(matrix_B,matrix_A)}')"
   ]
  },
  {
   "cell_type": "markdown",
   "metadata": {},
   "source": [
    "- **sqrt()** − square root of each element of matrix."
   ]
  },
  {
   "cell_type": "code",
   "execution_count": 169,
   "metadata": {},
   "outputs": [
    {
     "name": "stdout",
     "output_type": "stream",
     "text": [
      "Square root of each element of \n",
      "[[ 1  4]\n",
      " [ 9 16]]\n",
      "=\n",
      "[[1. 2.]\n",
      " [3. 4.]]\n"
     ]
    }
   ],
   "source": [
    "# Creating a 2D matrix using Numpy\n",
    "matrix = np.array([[1,4], [9,16]])\n",
    "\n",
    "# Calculating square root of each element of matrix using NumPy's sqrt() function\n",
    "print(f'Square root of each element of \\n{matrix}\\n=\\n{np.sqrt(matrix)}')"
   ]
  },
  {
   "cell_type": "markdown",
   "metadata": {},
   "source": [
    "- **sum(x,axis)** − add to all the elements in matrix. Second argument is optional, it is used when we want to compute the column sum if axis is 0 and row sum if axis is 1."
   ]
  },
  {
   "cell_type": "code",
   "execution_count": 177,
   "metadata": {},
   "outputs": [
    {
     "name": "stdout",
     "output_type": "stream",
     "text": [
      "Sum of all element of \n",
      "[[1 2]\n",
      " [3 4]]\n",
      "   =\n",
      "   10\n"
     ]
    }
   ],
   "source": [
    "# Creating a 2D matrix using Numpy\n",
    "matrix = np.array([[1,2], [3,4]])\n",
    "\n",
    "# Adding  all the elements in matrix. using NumPy's sum() function\n",
    "print(f'Sum of all element of \\n{matrix}\\n   =\\n   {np.sum(matrix)}')"
   ]
  }
 ],
 "metadata": {
  "kernelspec": {
   "display_name": "Python 3",
   "language": "python",
   "name": "python3"
  },
  "language_info": {
   "codemirror_mode": {
    "name": "ipython",
    "version": 3
   },
   "file_extension": ".py",
   "mimetype": "text/x-python",
   "name": "python",
   "nbconvert_exporter": "python",
   "pygments_lexer": "ipython3",
   "version": "3.8.3"
  }
 },
 "nbformat": 4,
 "nbformat_minor": 4
}
