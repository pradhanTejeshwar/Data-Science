{
 "cells": [
  {
   "cell_type": "markdown",
   "metadata": {},
   "source": [
    "Model Interpretability\n",
    "      - claim = 300 +3(claim) +2(BP      \n",
    "      - significant variables statistically\n",
    " \n",
    "Refer to all Ho and Ha for hypothesis\n",
    "    - Durbin-Watson Test\n",
    "    - Breusch-Pagan Test\n",
    "    - Shapiro-Wilk Test\n",
    "    - Jarque-Bera Test\n",
    "\n",
    "Reduce skewness of the claim variable - log transform, or anything else which helps\n",
    "\n",
    "log transform of target variable\n",
    "np.log(x)\n",
    "predicted(np.log(x)) -> exp() -> y_train,y_test\n",
    "\n",
    "Dont remove all outliers, instead do a 'Quantile Study'\n",
    "df['claim'].quantile([0.1,0.2,......,0.95])\n",
    "\n",
    "High Variance in Train data is overfitting"
   ]
  },
  {
   "cell_type": "markdown",
   "metadata": {},
   "source": [
    "- ML\n",
    "    - Regression\n",
    "    - Classification\n",
    "        - Binomial\n",
    "            - Class I (+ve)\n",
    "            - Class II(-ve)\n",
    "        - Multinomial\n"
   ]
  },
  {
   "cell_type": "code",
   "execution_count": 43,
   "metadata": {},
   "outputs": [
    {
     "data": {
      "text/html": [
       "<table class=\"simpletable\">\n",
       "<caption>OLS Regression Results</caption>\n",
       "<tr>\n",
       "  <th>Dep. Variable:</th>          <td>claim</td>      <th>  R-squared:         </th> <td>   0.747</td> \n",
       "</tr>\n",
       "<tr>\n",
       "  <th>Model:</th>                   <td>OLS</td>       <th>  Adj. R-squared:    </th> <td>   0.746</td> \n",
       "</tr>\n",
       "<tr>\n",
       "  <th>Method:</th>             <td>Least Squares</td>  <th>  F-statistic:       </th> <td>   505.7</td> \n",
       "</tr>\n",
       "<tr>\n",
       "  <th>Date:</th>             <td>Wed, 20 Jan 2021</td> <th>  Prob (F-statistic):</th>  <td>  0.00</td>  \n",
       "</tr>\n",
       "<tr>\n",
       "  <th>Time:</th>                 <td>12:21:01</td>     <th>  Log-Likelihood:    </th> <td> -12190.</td> \n",
       "</tr>\n",
       "<tr>\n",
       "  <th>No. Observations:</th>      <td>  1204</td>      <th>  AIC:               </th> <td>2.440e+04</td>\n",
       "</tr>\n",
       "<tr>\n",
       "  <th>Df Residuals:</th>          <td>  1196</td>      <th>  BIC:               </th> <td>2.444e+04</td>\n",
       "</tr>\n",
       "<tr>\n",
       "  <th>Df Model:</th>              <td>     7</td>      <th>                     </th>     <td> </td>    \n",
       "</tr>\n",
       "<tr>\n",
       "  <th>Covariance Type:</th>      <td>nonrobust</td>    <th>                     </th>     <td> </td>    \n",
       "</tr>\n",
       "</table>\n",
       "<table class=\"simpletable\">\n",
       "<tr>\n",
       "          <td></td>            <th>coef</th>     <th>std err</th>      <th>t</th>      <th>P>|t|</th>  <th>[0.025</th>    <th>0.975]</th>  \n",
       "</tr>\n",
       "<tr>\n",
       "  <th>const</th>            <td>-1.204e+04</td> <td> 1047.558</td> <td>  -11.492</td> <td> 0.000</td> <td>-1.41e+04</td> <td>-9983.409</td>\n",
       "</tr>\n",
       "<tr>\n",
       "  <th>age</th>              <td>  259.5403</td> <td>   12.520</td> <td>   20.730</td> <td> 0.000</td> <td>  234.977</td> <td>  284.104</td>\n",
       "</tr>\n",
       "<tr>\n",
       "  <th>bmi</th>              <td>  338.4505</td> <td>   30.567</td> <td>   11.072</td> <td> 0.000</td> <td>  278.480</td> <td>  398.421</td>\n",
       "</tr>\n",
       "<tr>\n",
       "  <th>children</th>         <td>  473.3447</td> <td>  144.332</td> <td>    3.280</td> <td> 0.001</td> <td>  190.172</td> <td>  756.517</td>\n",
       "</tr>\n",
       "<tr>\n",
       "  <th>smoker_Yes</th>       <td> 2.361e+04</td> <td>  435.113</td> <td>   54.263</td> <td> 0.000</td> <td> 2.28e+04</td> <td> 2.45e+04</td>\n",
       "</tr>\n",
       "<tr>\n",
       "  <th>region_northwest</th> <td> -463.9446</td> <td>  500.498</td> <td>   -0.927</td> <td> 0.354</td> <td>-1445.896</td> <td>  518.007</td>\n",
       "</tr>\n",
       "<tr>\n",
       "  <th>region_southeast</th> <td>-1081.0480</td> <td>  508.173</td> <td>   -2.127</td> <td> 0.034</td> <td>-2078.058</td> <td>  -84.039</td>\n",
       "</tr>\n",
       "<tr>\n",
       "  <th>region_southwest</th> <td>-1032.8288</td> <td>  507.441</td> <td>   -2.035</td> <td> 0.042</td> <td>-2028.402</td> <td>  -37.256</td>\n",
       "</tr>\n",
       "</table>\n",
       "<table class=\"simpletable\">\n",
       "<tr>\n",
       "  <th>Omnibus:</th>       <td>285.921</td> <th>  Durbin-Watson:     </th> <td>   1.926</td> \n",
       "</tr>\n",
       "<tr>\n",
       "  <th>Prob(Omnibus):</th> <td> 0.000</td>  <th>  Jarque-Bera (JB):  </th> <td> 698.730</td> \n",
       "</tr>\n",
       "<tr>\n",
       "  <th>Skew:</th>          <td> 1.266</td>  <th>  Prob(JB):          </th> <td>1.87e-152</td>\n",
       "</tr>\n",
       "<tr>\n",
       "  <th>Kurtosis:</th>      <td> 5.742</td>  <th>  Cond. No.          </th> <td>    313.</td> \n",
       "</tr>\n",
       "</table><br/><br/>Notes:<br/>[1] Standard Errors assume that the covariance matrix of the errors is correctly specified."
      ],
      "text/plain": [
       "<class 'statsmodels.iolib.summary.Summary'>\n",
       "\"\"\"\n",
       "                            OLS Regression Results                            \n",
       "==============================================================================\n",
       "Dep. Variable:                  claim   R-squared:                       0.747\n",
       "Model:                            OLS   Adj. R-squared:                  0.746\n",
       "Method:                 Least Squares   F-statistic:                     505.7\n",
       "Date:                Wed, 20 Jan 2021   Prob (F-statistic):               0.00\n",
       "Time:                        12:21:01   Log-Likelihood:                -12190.\n",
       "No. Observations:                1204   AIC:                         2.440e+04\n",
       "Df Residuals:                    1196   BIC:                         2.444e+04\n",
       "Df Model:                           7                                         \n",
       "Covariance Type:            nonrobust                                         \n",
       "====================================================================================\n",
       "                       coef    std err          t      P>|t|      [0.025      0.975]\n",
       "------------------------------------------------------------------------------------\n",
       "const            -1.204e+04   1047.558    -11.492      0.000   -1.41e+04   -9983.409\n",
       "age                259.5403     12.520     20.730      0.000     234.977     284.104\n",
       "bmi                338.4505     30.567     11.072      0.000     278.480     398.421\n",
       "children           473.3447    144.332      3.280      0.001     190.172     756.517\n",
       "smoker_Yes        2.361e+04    435.113     54.263      0.000    2.28e+04    2.45e+04\n",
       "region_northwest  -463.9446    500.498     -0.927      0.354   -1445.896     518.007\n",
       "region_southeast -1081.0480    508.173     -2.127      0.034   -2078.058     -84.039\n",
       "region_southwest -1032.8288    507.441     -2.035      0.042   -2028.402     -37.256\n",
       "==============================================================================\n",
       "Omnibus:                      285.921   Durbin-Watson:                   1.926\n",
       "Prob(Omnibus):                  0.000   Jarque-Bera (JB):              698.730\n",
       "Skew:                           1.266   Prob(JB):                    1.87e-152\n",
       "Kurtosis:                       5.742   Cond. No.                         313.\n",
       "==============================================================================\n",
       "\n",
       "Notes:\n",
       "[1] Standard Errors assume that the covariance matrix of the errors is correctly specified.\n",
       "\"\"\""
      ]
     },
     "execution_count": 43,
     "metadata": {},
     "output_type": "execute_result"
    }
   ],
   "source": [
    "import pandas as pd\n",
    "import statsmodels.regression.linear_model as ols\n",
    "import statsmodels.api as sm\n",
    "from sklearn.model_selection import train_test_split\n",
    "from sklearn.preprocessing import StandardScaler\n",
    "from sklearn.preprocessing import MinMaxScaler\n",
    "from sklearn.metrics import mean_squared_error\n",
    "from sklearn.metrics import mean_absolute_error\n",
    "import numpy as np\n",
    "import matplotlib.pyplot as Plt\n",
    "\n",
    "df=pd.read_csv('insurance.csv')\n",
    "\n",
    "df=df.drop(['bloodpressure','gender','diabetic'], axis=1)\n",
    "\n",
    "df_cat=df.select_dtypes(include=['object'])\n",
    "df_num=df.select_dtypes(exclude=['object'])\n",
    "\n",
    "#N-1 Dummy Encoding\n",
    "df_cat=pd.get_dummies(df_cat,drop_first=True)\n",
    "\n",
    "df_merge=pd.concat([df_num,df_cat],axis=1)\n",
    "\n",
    "#Adding a constant variable\n",
    "df_merge=sm.add_constant(df_merge)\n",
    "\n",
    "df_ind=df_merge.drop(['claim'], axis=1)\n",
    "\n",
    "df_target=df_merge['claim']\n",
    "\n",
    "x_train,x_test,y_train,y_test=train_test_split(df_target, df_ind, test_size=0.1, random_state=123)\n",
    "#print(x_train,x_test,y_train,y_test)\n",
    "\n",
    "model = sm.OLS(x_train,y_train).fit()\n",
    "\n",
    "model.summary()"
   ]
  },
  {
   "cell_type": "code",
   "execution_count": 19,
   "metadata": {},
   "outputs": [
    {
     "name": "stdout",
     "output_type": "stream",
     "text": [
      "0.0    1121.87\n",
      "Name: claim, dtype: float64\n",
      "0.01    1252.9761\n",
      "Name: claim, dtype: float64\n",
      "0.02    1621.7396\n",
      "Name: claim, dtype: float64\n",
      "0.03    1636.1513\n",
      "Name: claim, dtype: float64\n",
      "0.04    1709.938\n",
      "Name: claim, dtype: float64\n",
      "0.05    1757.7545\n",
      "Name: claim, dtype: float64\n",
      "0.06    1907.0574\n",
      "Name: claim, dtype: float64\n",
      "0.07    2020.3983\n",
      "Name: claim, dtype: float64\n",
      "0.08    2138.0532\n",
      "Name: claim, dtype: float64\n",
      "0.09    2208.8319\n",
      "Name: claim, dtype: float64\n",
      "0.1    2346.535\n",
      "Name: claim, dtype: float64\n",
      "0.11    2484.4596\n",
      "Name: claim, dtype: float64\n",
      "0.12    2659.8492\n",
      "Name: claim, dtype: float64\n",
      "0.13    2752.5367\n",
      "Name: claim, dtype: float64\n",
      "0.14    2905.7964\n",
      "Name: claim, dtype: float64\n",
      "0.15    3171.8355\n",
      "Name: claim, dtype: float64\n",
      "0.16    3279.6532\n",
      "Name: claim, dtype: float64\n",
      "0.17    3474.4434\n",
      "Name: claim, dtype: float64\n",
      "0.18    3596.4338\n",
      "Name: claim, dtype: float64\n",
      "0.19    3861.3795\n",
      "Name: claim, dtype: float64\n",
      "0.2    3991.576\n",
      "Name: claim, dtype: float64\n",
      "0.21    4177.2639\n",
      "Name: claim, dtype: float64\n",
      "0.22    4349.607\n",
      "Name: claim, dtype: float64\n",
      "0.23    4451.9794\n",
      "Name: claim, dtype: float64\n",
      "0.24    4564.028\n",
      "Name: claim, dtype: float64\n",
      "0.25    4740.2875\n",
      "Name: claim, dtype: float64\n",
      "0.26    4881.6318\n",
      "Name: claim, dtype: float64\n",
      "0.27    5012.3838\n",
      "Name: claim, dtype: float64\n",
      "0.28    5245.5252\n",
      "Name: claim, dtype: float64\n",
      "0.29    5376.8066\n",
      "Name: claim, dtype: float64\n",
      "0.3    5484.849\n",
      "Name: claim, dtype: float64\n",
      "0.31    5794.5917\n",
      "Name: claim, dtype: float64\n",
      "0.32    5987.9536\n",
      "Name: claim, dtype: float64\n",
      "0.33    6196.933\n",
      "Name: claim, dtype: float64\n",
      "0.34    6360.0618\n",
      "Name: claim, dtype: float64\n",
      "0.35    6545.802\n",
      "Name: claim, dtype: float64\n",
      "0.36    6672.7008\n",
      "Name: claim, dtype: float64\n",
      "0.37    6870.5412\n",
      "Name: claim, dtype: float64\n",
      "0.38    7144.995\n",
      "Name: claim, dtype: float64\n",
      "0.39    7225.1249\n",
      "Name: claim, dtype: float64\n",
      "0.4    7369.052\n",
      "Name: claim, dtype: float64\n",
      "0.41    7623.7087\n",
      "Name: claim, dtype: float64\n",
      "0.42    7741.2958\n",
      "Name: claim, dtype: float64\n",
      "0.43    8062.4828\n",
      "Name: claim, dtype: float64\n",
      "0.44    8256.9728\n",
      "Name: claim, dtype: float64\n",
      "0.45    8437.56\n",
      "Name: claim, dtype: float64\n",
      "0.46    8557.169\n",
      "Name: claim, dtype: float64\n",
      "0.47    8715.0703\n",
      "Name: claim, dtype: float64\n",
      "0.48    8941.2304\n",
      "Name: claim, dtype: float64\n",
      "0.49    9183.6871\n",
      "Name: claim, dtype: float64\n",
      "0.5    9382.03\n",
      "Name: claim, dtype: float64\n",
      "0.51    9566.4752\n",
      "Name: claim, dtype: float64\n",
      "0.52    9780.8748\n",
      "Name: claim, dtype: float64\n",
      "0.53    9939.2496\n",
      "Name: claim, dtype: float64\n",
      "0.54    10156.4672\n",
      "Name: claim, dtype: float64\n",
      "0.55    10427.1725\n",
      "Name: claim, dtype: float64\n",
      "0.56    10601.5684\n",
      "Name: claim, dtype: float64\n",
      "0.57    10854.952\n",
      "Name: claim, dtype: float64\n",
      "0.58    11071.7544\n",
      "Name: claim, dtype: float64\n",
      "0.59    11284.1243\n",
      "Name: claim, dtype: float64\n",
      "0.6    11399.858\n",
      "Name: claim, dtype: float64\n",
      "0.61    11571.9031\n",
      "Name: claim, dtype: float64\n",
      "0.62    11833.5898\n",
      "Name: claim, dtype: float64\n",
      "0.63    11944.7574\n",
      "Name: claim, dtype: float64\n",
      "0.64    12198.6024\n",
      "Name: claim, dtype: float64\n",
      "0.65    12406.1835\n",
      "Name: claim, dtype: float64\n",
      "0.66    12633.386\n",
      "Name: claim, dtype: float64\n",
      "0.67    12928.181\n",
      "Name: claim, dtype: float64\n",
      "0.68    13127.1472\n",
      "Name: claim, dtype: float64\n",
      "0.69    13422.46\n",
      "Name: claim, dtype: float64\n",
      "0.7    13767.877\n",
      "Name: claim, dtype: float64\n",
      "0.71    14002.8911\n",
      "Name: claim, dtype: float64\n",
      "0.72    14373.944\n",
      "Name: claim, dtype: float64\n",
      "0.73    14692.8607\n",
      "Name: claim, dtype: float64\n",
      "0.74    15819.0198\n",
      "Name: claim, dtype: float64\n",
      "0.75    16639.915\n",
      "Name: claim, dtype: float64\n",
      "0.76    17503.9984\n",
      "Name: claim, dtype: float64\n",
      "0.77    18252.7328\n",
      "Name: claim, dtype: float64\n",
      "0.78    18971.1938\n",
      "Name: claim, dtype: float64\n",
      "0.79    19525.9421\n",
      "Name: claim, dtype: float64\n",
      "0.8    20260.626\n",
      "Name: claim, dtype: float64\n",
      "0.81    21192.9019\n",
      "Name: claim, dtype: float64\n",
      "0.82    21914.0924\n",
      "Name: claim, dtype: float64\n",
      "0.83    23077.8734\n",
      "Name: claim, dtype: float64\n",
      "0.84    24184.6428\n",
      "Name: claim, dtype: float64\n",
      "0.85    24990.1675\n",
      "Name: claim, dtype: float64\n",
      "0.86    26364.2376\n",
      "Name: claim, dtype: float64\n",
      "0.87    27971.6976\n",
      "Name: claim, dtype: float64\n",
      "0.88    30121.2824\n",
      "Name: claim, dtype: float64\n",
      "0.89    33714.7091\n",
      "Name: claim, dtype: float64\n",
      "0.9    34831.716\n",
      "Name: claim, dtype: float64\n",
      "0.91    36212.2457\n",
      "Name: claim, dtype: float64\n",
      "0.92    37489.3732\n",
      "Name: claim, dtype: float64\n",
      "0.93    38765.3553\n",
      "Name: claim, dtype: float64\n",
      "0.94    39863.9604\n",
      "Name: claim, dtype: float64\n",
      "0.95    41181.826\n",
      "Name: claim, dtype: float64\n",
      "0.96    42915.6052\n",
      "Name: claim, dtype: float64\n",
      "0.97    44492.864\n",
      "Name: claim, dtype: float64\n",
      "0.98    46676.1872\n",
      "Name: claim, dtype: float64\n",
      "0.99    48537.4806\n",
      "Name: claim, dtype: float64\n",
      "1.0    63770.43\n",
      "Name: claim, dtype: float64\n"
     ]
    },
    {
     "ename": "ValueError",
     "evalue": "percentiles should all be in the interval [0, 1]. Try [0.0101] instead.",
     "output_type": "error",
     "traceback": [
      "\u001b[1;31m---------------------------------------------------------------------------\u001b[0m",
      "\u001b[1;31mValueError\u001b[0m                                Traceback (most recent call last)",
      "\u001b[1;32m<ipython-input-19-ad2f9d11ec50>\u001b[0m in \u001b[0;36m<module>\u001b[1;34m\u001b[0m\n\u001b[0;32m      1\u001b[0m \u001b[1;32mfor\u001b[0m \u001b[0mx\u001b[0m \u001b[1;32min\u001b[0m \u001b[0mnp\u001b[0m\u001b[1;33m.\u001b[0m\u001b[0marange\u001b[0m\u001b[1;33m(\u001b[0m\u001b[1;36m0\u001b[0m\u001b[1;33m,\u001b[0m \u001b[1;36m1.1\u001b[0m\u001b[1;33m,\u001b[0m\u001b[1;36m0.01\u001b[0m\u001b[1;33m)\u001b[0m\u001b[1;33m:\u001b[0m\u001b[1;33m\u001b[0m\u001b[1;33m\u001b[0m\u001b[0m\n\u001b[1;32m----> 2\u001b[1;33m     \u001b[0mprint\u001b[0m\u001b[1;33m(\u001b[0m\u001b[0mdf\u001b[0m\u001b[1;33m[\u001b[0m\u001b[1;34m'claim'\u001b[0m\u001b[1;33m]\u001b[0m\u001b[1;33m.\u001b[0m\u001b[0mquantile\u001b[0m\u001b[1;33m(\u001b[0m\u001b[1;33m[\u001b[0m\u001b[0mx\u001b[0m\u001b[1;33m]\u001b[0m\u001b[1;33m)\u001b[0m\u001b[1;33m)\u001b[0m\u001b[1;33m\u001b[0m\u001b[1;33m\u001b[0m\u001b[0m\n\u001b[0m",
      "\u001b[1;32mC:\\ProgramData\\Anaconda3\\lib\\site-packages\\pandas\\core\\series.py\u001b[0m in \u001b[0;36mquantile\u001b[1;34m(self, q, interpolation)\u001b[0m\n\u001b[0;32m   2253\u001b[0m         \u001b[0mdtype\u001b[0m\u001b[1;33m:\u001b[0m \u001b[0mfloat64\u001b[0m\u001b[1;33m\u001b[0m\u001b[1;33m\u001b[0m\u001b[0m\n\u001b[0;32m   2254\u001b[0m         \"\"\"\n\u001b[1;32m-> 2255\u001b[1;33m         \u001b[0mvalidate_percentile\u001b[0m\u001b[1;33m(\u001b[0m\u001b[0mq\u001b[0m\u001b[1;33m)\u001b[0m\u001b[1;33m\u001b[0m\u001b[1;33m\u001b[0m\u001b[0m\n\u001b[0m\u001b[0;32m   2256\u001b[0m \u001b[1;33m\u001b[0m\u001b[0m\n\u001b[0;32m   2257\u001b[0m         \u001b[1;31m# We dispatch to DataFrame so that core.internals only has to worry\u001b[0m\u001b[1;33m\u001b[0m\u001b[1;33m\u001b[0m\u001b[1;33m\u001b[0m\u001b[0m\n",
      "\u001b[1;32mC:\\ProgramData\\Anaconda3\\lib\\site-packages\\pandas\\util\\_validators.py\u001b[0m in \u001b[0;36mvalidate_percentile\u001b[1;34m(q)\u001b[0m\n\u001b[0;32m    380\u001b[0m     \u001b[1;32melse\u001b[0m\u001b[1;33m:\u001b[0m\u001b[1;33m\u001b[0m\u001b[1;33m\u001b[0m\u001b[0m\n\u001b[0;32m    381\u001b[0m         \u001b[1;32mif\u001b[0m \u001b[1;32mnot\u001b[0m \u001b[0mall\u001b[0m\u001b[1;33m(\u001b[0m\u001b[1;36m0\u001b[0m \u001b[1;33m<=\u001b[0m \u001b[0mqs\u001b[0m \u001b[1;33m<=\u001b[0m \u001b[1;36m1\u001b[0m \u001b[1;32mfor\u001b[0m \u001b[0mqs\u001b[0m \u001b[1;32min\u001b[0m \u001b[0mq_arr\u001b[0m\u001b[1;33m)\u001b[0m\u001b[1;33m:\u001b[0m\u001b[1;33m\u001b[0m\u001b[1;33m\u001b[0m\u001b[0m\n\u001b[1;32m--> 382\u001b[1;33m             \u001b[1;32mraise\u001b[0m \u001b[0mValueError\u001b[0m\u001b[1;33m(\u001b[0m\u001b[0mmsg\u001b[0m\u001b[1;33m.\u001b[0m\u001b[0mformat\u001b[0m\u001b[1;33m(\u001b[0m\u001b[0mq_arr\u001b[0m \u001b[1;33m/\u001b[0m \u001b[1;36m100.0\u001b[0m\u001b[1;33m)\u001b[0m\u001b[1;33m)\u001b[0m\u001b[1;33m\u001b[0m\u001b[1;33m\u001b[0m\u001b[0m\n\u001b[0m\u001b[0;32m    383\u001b[0m     \u001b[1;32mreturn\u001b[0m \u001b[0mq_arr\u001b[0m\u001b[1;33m\u001b[0m\u001b[1;33m\u001b[0m\u001b[0m\n",
      "\u001b[1;31mValueError\u001b[0m: percentiles should all be in the interval [0, 1]. Try [0.0101] instead."
     ]
    }
   ],
   "source": [
    "for x in np.arange(0, 1.1,0.01):\n",
    "    print(df['claim'].quantile([x]))"
   ]
  },
  {
   "cell_type": "code",
   "execution_count": 13,
   "metadata": {},
   "outputs": [
    {
     "data": {
      "text/plain": [
       "63770.43"
      ]
     },
     "execution_count": 13,
     "metadata": {},
     "output_type": "execute_result"
    }
   ],
   "source": [
    "max(df['claim'])"
   ]
  },
  {
   "cell_type": "code",
   "execution_count": 14,
   "metadata": {},
   "outputs": [
    {
     "data": {
      "text/plain": [
       "1121.87"
      ]
     },
     "execution_count": 14,
     "metadata": {},
     "output_type": "execute_result"
    }
   ],
   "source": [
    "min(df['claim'])"
   ]
  },
  {
   "cell_type": "code",
   "execution_count": 21,
   "metadata": {},
   "outputs": [
    {
     "data": {
      "text/plain": [
       "count     1338.000000\n",
       "mean     13270.422414\n",
       "std      12110.011240\n",
       "min       1121.870000\n",
       "25%       4740.287500\n",
       "50%       9382.030000\n",
       "75%      16639.915000\n",
       "max      63770.430000\n",
       "Name: claim, dtype: float64"
      ]
     },
     "execution_count": 21,
     "metadata": {},
     "output_type": "execute_result"
    }
   ],
   "source": [
    "df['claim'].describe()"
   ]
  },
  {
   "cell_type": "markdown",
   "metadata": {},
   "source": [
    "# ---------------------------------------------------------------------------------------------------------------"
   ]
  },
  {
   "cell_type": "code",
   "execution_count": 48,
   "metadata": {},
   "outputs": [],
   "source": [
    "df=pd.read_csv('Admission_Predict.csv')"
   ]
  },
  {
   "cell_type": "code",
   "execution_count": 49,
   "metadata": {},
   "outputs": [
    {
     "name": "stdout",
     "output_type": "stream",
     "text": [
      "<class 'pandas.core.frame.DataFrame'>\n",
      "RangeIndex: 400 entries, 0 to 399\n",
      "Data columns (total 9 columns):\n",
      " #   Column             Non-Null Count  Dtype  \n",
      "---  ------             --------------  -----  \n",
      " 0   Serial No.         400 non-null    int64  \n",
      " 1   GRE Score          400 non-null    int64  \n",
      " 2   TOEFL Score        400 non-null    int64  \n",
      " 3   University Rating  400 non-null    int64  \n",
      " 4   SOP                400 non-null    float64\n",
      " 5   LOR                400 non-null    float64\n",
      " 6   CGPA               400 non-null    float64\n",
      " 7   Research           400 non-null    int64  \n",
      " 8   Chance of Admit    400 non-null    int64  \n",
      "dtypes: float64(3), int64(6)\n",
      "memory usage: 28.2 KB\n"
     ]
    }
   ],
   "source": [
    "df.info()"
   ]
  },
  {
   "cell_type": "code",
   "execution_count": 50,
   "metadata": {},
   "outputs": [],
   "source": [
    "df=df.drop(['Serial No.'], axis=1)"
   ]
  },
  {
   "cell_type": "code",
   "execution_count": 51,
   "metadata": {},
   "outputs": [],
   "source": [
    "df['Research']=df['Research'].astype('object')"
   ]
  },
  {
   "cell_type": "code",
   "execution_count": 52,
   "metadata": {},
   "outputs": [
    {
     "name": "stdout",
     "output_type": "stream",
     "text": [
      "<class 'pandas.core.frame.DataFrame'>\n",
      "RangeIndex: 400 entries, 0 to 399\n",
      "Data columns (total 8 columns):\n",
      " #   Column             Non-Null Count  Dtype  \n",
      "---  ------             --------------  -----  \n",
      " 0   GRE Score          400 non-null    int64  \n",
      " 1   TOEFL Score        400 non-null    int64  \n",
      " 2   University Rating  400 non-null    int64  \n",
      " 3   SOP                400 non-null    float64\n",
      " 4   LOR                400 non-null    float64\n",
      " 5   CGPA               400 non-null    float64\n",
      " 6   Research           400 non-null    object \n",
      " 7   Chance of Admit    400 non-null    int64  \n",
      "dtypes: float64(3), int64(4), object(1)\n",
      "memory usage: 25.1+ KB\n"
     ]
    }
   ],
   "source": [
    "df.info()"
   ]
  },
  {
   "cell_type": "code",
   "execution_count": 53,
   "metadata": {},
   "outputs": [
    {
     "data": {
      "text/plain": [
       "array([[<AxesSubplot:title={'center':'GRE Score'}>,\n",
       "        <AxesSubplot:title={'center':'TOEFL Score'}>,\n",
       "        <AxesSubplot:title={'center':'University Rating'}>],\n",
       "       [<AxesSubplot:title={'center':'SOP'}>,\n",
       "        <AxesSubplot:title={'center':'LOR'}>,\n",
       "        <AxesSubplot:title={'center':'CGPA'}>],\n",
       "       [<AxesSubplot:title={'center':'Chance of Admit'}>, <AxesSubplot:>,\n",
       "        <AxesSubplot:>]], dtype=object)"
      ]
     },
     "execution_count": 53,
     "metadata": {},
     "output_type": "execute_result"
    },
    {
     "data": {
      "image/png": "[encoded data removed]",
      "text/plain": [
       "<Figure size 1080x576 with 9 Axes>"
      ]
     },
     "metadata": {
      "needs_background": "light"
     },
     "output_type": "display_data"
    }
   ],
   "source": [
    "df.hist()"
   ]
  },
  {
   "cell_type": "code",
   "execution_count": 54,
   "metadata": {},
   "outputs": [],
   "source": [
    "Plt.rcParams['figure.figsize']=[15,8]"
   ]
  },
  {
   "cell_type": "code",
   "execution_count": 57,
   "metadata": {},
   "outputs": [
    {
     "data": {
      "image/png": "[encoded data removed]",
      "text/plain": [
       "<Figure size 1080x576 with 9 Axes>"
      ]
     },
     "metadata": {
      "needs_background": "light"
     },
     "output_type": "display_data"
    }
   ],
   "source": [
    "df.hist()\n",
    "Plt.show()"
   ]
  },
  {
   "cell_type": "code",
   "execution_count": 60,
   "metadata": {},
   "outputs": [
    {
     "data": {
      "text/plain": [
       "0    220\n",
       "1    180\n",
       "Name: Chance of Admit, dtype: int64"
      ]
     },
     "execution_count": 60,
     "metadata": {},
     "output_type": "execute_result"
    }
   ],
   "source": [
    "df['Chance of Admit'].value_counts()"
   ]
  },
  {
   "cell_type": "code",
   "execution_count": null,
   "metadata": {},
   "outputs": [],
   "source": []
  }
 ],
 "metadata": {
  "kernelspec": {
   "display_name": "Python 3",
   "language": "python",
   "name": "python3"
  },
  "language_info": {
   "codemirror_mode": {
    "name": "ipython",
    "version": 3
   },
   "file_extension": ".py",
   "mimetype": "text/x-python",
   "name": "python",
   "nbconvert_exporter": "python",
   "pygments_lexer": "ipython3",
   "version": "3.8.5"
  }
 },
 "nbformat": 4,
 "nbformat_minor": 4
}
