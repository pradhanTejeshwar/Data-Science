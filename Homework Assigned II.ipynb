{
 "cells": [
  {
   "cell_type": "markdown",
   "metadata": {},
   "source": [
    "### Imports"
   ]
  },
  {
   "cell_type": "code",
   "execution_count": 28,
   "metadata": {},
   "outputs": [],
   "source": [
    "##Importing all of our imports needed in this file\n",
    "import pandas as pd\n",
    "import numpy as np\n",
    "import seaborn as sns\n",
    "import statsmodels.api as sm\n",
    "import matplotlib.pyplot as plt\n",
    "from sklearn.tree import DecisionTreeClassifier, plot_tree\n",
    "from sklearn.preprocessing import MinMaxScaler,StandardScaler\n",
    "from sklearn.model_selection import train_test_split, cross_val_score\n",
    "from sklearn.metrics import confusion_matrix, plot_confusion_matrix, classification_report, roc_auc_score, roc_curve"
   ]
  },
  {
   "cell_type": "markdown",
   "metadata": {},
   "source": [
    "### User Defined Functions"
   ]
  },
  {
   "cell_type": "markdown",
   "metadata": {},
   "source": [
    "This section holds all of the functions created which may be used in the program to simplify the code"
   ]
  },
  {
   "cell_type": "code",
   "execution_count": 29,
   "metadata": {},
   "outputs": [],
   "source": [
    "def show_unique(value):\n",
    "    print(value.unique())"
   ]
  },
  {
   "cell_type": "markdown",
   "metadata": {},
   "source": [
    "### Program"
   ]
  },
  {
   "cell_type": "markdown",
   "metadata": {},
   "source": [
    "The main code section starts from here"
   ]
  },
  {
   "cell_type": "code",
   "execution_count": 30,
   "metadata": {},
   "outputs": [],
   "source": [
    "##Reading the csv file\n",
    "df=pd.read_csv('bank-additional-full.csv',sep=\";\")\n",
    "pd.options.display.max_columns=10000"
   ]
  },
  {
   "cell_type": "code",
   "execution_count": 31,
   "metadata": {
    "scrolled": true
   },
   "outputs": [
    {
     "data": {
      "text/html": [
       "<div>\n",
       "<style scoped>\n",
       "    .dataframe tbody tr th:only-of-type {\n",
       "        vertical-align: middle;\n",
       "    }\n",
       "\n",
       "    .dataframe tbody tr th {\n",
       "        vertical-align: top;\n",
       "    }\n",
       "\n",
       "    .dataframe thead th {\n",
       "        text-align: right;\n",
       "    }\n",
       "</style>\n",
       "<table border=\"1\" class=\"dataframe\">\n",
       "  <thead>\n",
       "    <tr style=\"text-align: right;\">\n",
       "      <th></th>\n",
       "      <th>age</th>\n",
       "      <th>job</th>\n",
       "      <th>marital</th>\n",
       "      <th>education</th>\n",
       "      <th>default</th>\n",
       "      <th>housing</th>\n",
       "      <th>loan</th>\n",
       "      <th>contact</th>\n",
       "      <th>month</th>\n",
       "      <th>day_of_week</th>\n",
       "      <th>duration</th>\n",
       "      <th>campaign</th>\n",
       "      <th>pdays</th>\n",
       "      <th>previous</th>\n",
       "      <th>poutcome</th>\n",
       "      <th>emp.var.rate</th>\n",
       "      <th>cons.price.idx</th>\n",
       "      <th>cons.conf.idx</th>\n",
       "      <th>euribor3m</th>\n",
       "      <th>nr.employed</th>\n",
       "      <th>y</th>\n",
       "    </tr>\n",
       "  </thead>\n",
       "  <tbody>\n",
       "    <tr>\n",
       "      <th>0</th>\n",
       "      <td>56</td>\n",
       "      <td>housemaid</td>\n",
       "      <td>married</td>\n",
       "      <td>basic.4y</td>\n",
       "      <td>no</td>\n",
       "      <td>no</td>\n",
       "      <td>no</td>\n",
       "      <td>telephone</td>\n",
       "      <td>may</td>\n",
       "      <td>mon</td>\n",
       "      <td>261</td>\n",
       "      <td>1</td>\n",
       "      <td>999</td>\n",
       "      <td>0</td>\n",
       "      <td>nonexistent</td>\n",
       "      <td>1.1</td>\n",
       "      <td>93.994</td>\n",
       "      <td>-36.4</td>\n",
       "      <td>4.857</td>\n",
       "      <td>5191.0</td>\n",
       "      <td>no</td>\n",
       "    </tr>\n",
       "    <tr>\n",
       "      <th>1</th>\n",
       "      <td>57</td>\n",
       "      <td>services</td>\n",
       "      <td>married</td>\n",
       "      <td>high.school</td>\n",
       "      <td>unknown</td>\n",
       "      <td>no</td>\n",
       "      <td>no</td>\n",
       "      <td>telephone</td>\n",
       "      <td>may</td>\n",
       "      <td>mon</td>\n",
       "      <td>149</td>\n",
       "      <td>1</td>\n",
       "      <td>999</td>\n",
       "      <td>0</td>\n",
       "      <td>nonexistent</td>\n",
       "      <td>1.1</td>\n",
       "      <td>93.994</td>\n",
       "      <td>-36.4</td>\n",
       "      <td>4.857</td>\n",
       "      <td>5191.0</td>\n",
       "      <td>no</td>\n",
       "    </tr>\n",
       "    <tr>\n",
       "      <th>2</th>\n",
       "      <td>37</td>\n",
       "      <td>services</td>\n",
       "      <td>married</td>\n",
       "      <td>high.school</td>\n",
       "      <td>no</td>\n",
       "      <td>yes</td>\n",
       "      <td>no</td>\n",
       "      <td>telephone</td>\n",
       "      <td>may</td>\n",
       "      <td>mon</td>\n",
       "      <td>226</td>\n",
       "      <td>1</td>\n",
       "      <td>999</td>\n",
       "      <td>0</td>\n",
       "      <td>nonexistent</td>\n",
       "      <td>1.1</td>\n",
       "      <td>93.994</td>\n",
       "      <td>-36.4</td>\n",
       "      <td>4.857</td>\n",
       "      <td>5191.0</td>\n",
       "      <td>no</td>\n",
       "    </tr>\n",
       "    <tr>\n",
       "      <th>3</th>\n",
       "      <td>40</td>\n",
       "      <td>admin.</td>\n",
       "      <td>married</td>\n",
       "      <td>basic.6y</td>\n",
       "      <td>no</td>\n",
       "      <td>no</td>\n",
       "      <td>no</td>\n",
       "      <td>telephone</td>\n",
       "      <td>may</td>\n",
       "      <td>mon</td>\n",
       "      <td>151</td>\n",
       "      <td>1</td>\n",
       "      <td>999</td>\n",
       "      <td>0</td>\n",
       "      <td>nonexistent</td>\n",
       "      <td>1.1</td>\n",
       "      <td>93.994</td>\n",
       "      <td>-36.4</td>\n",
       "      <td>4.857</td>\n",
       "      <td>5191.0</td>\n",
       "      <td>no</td>\n",
       "    </tr>\n",
       "    <tr>\n",
       "      <th>4</th>\n",
       "      <td>56</td>\n",
       "      <td>services</td>\n",
       "      <td>married</td>\n",
       "      <td>high.school</td>\n",
       "      <td>no</td>\n",
       "      <td>no</td>\n",
       "      <td>yes</td>\n",
       "      <td>telephone</td>\n",
       "      <td>may</td>\n",
       "      <td>mon</td>\n",
       "      <td>307</td>\n",
       "      <td>1</td>\n",
       "      <td>999</td>\n",
       "      <td>0</td>\n",
       "      <td>nonexistent</td>\n",
       "      <td>1.1</td>\n",
       "      <td>93.994</td>\n",
       "      <td>-36.4</td>\n",
       "      <td>4.857</td>\n",
       "      <td>5191.0</td>\n",
       "      <td>no</td>\n",
       "    </tr>\n",
       "    <tr>\n",
       "      <th>5</th>\n",
       "      <td>45</td>\n",
       "      <td>services</td>\n",
       "      <td>married</td>\n",
       "      <td>basic.9y</td>\n",
       "      <td>unknown</td>\n",
       "      <td>no</td>\n",
       "      <td>no</td>\n",
       "      <td>telephone</td>\n",
       "      <td>may</td>\n",
       "      <td>mon</td>\n",
       "      <td>198</td>\n",
       "      <td>1</td>\n",
       "      <td>999</td>\n",
       "      <td>0</td>\n",
       "      <td>nonexistent</td>\n",
       "      <td>1.1</td>\n",
       "      <td>93.994</td>\n",
       "      <td>-36.4</td>\n",
       "      <td>4.857</td>\n",
       "      <td>5191.0</td>\n",
       "      <td>no</td>\n",
       "    </tr>\n",
       "    <tr>\n",
       "      <th>6</th>\n",
       "      <td>59</td>\n",
       "      <td>admin.</td>\n",
       "      <td>married</td>\n",
       "      <td>professional.course</td>\n",
       "      <td>no</td>\n",
       "      <td>no</td>\n",
       "      <td>no</td>\n",
       "      <td>telephone</td>\n",
       "      <td>may</td>\n",
       "      <td>mon</td>\n",
       "      <td>139</td>\n",
       "      <td>1</td>\n",
       "      <td>999</td>\n",
       "      <td>0</td>\n",
       "      <td>nonexistent</td>\n",
       "      <td>1.1</td>\n",
       "      <td>93.994</td>\n",
       "      <td>-36.4</td>\n",
       "      <td>4.857</td>\n",
       "      <td>5191.0</td>\n",
       "      <td>no</td>\n",
       "    </tr>\n",
       "    <tr>\n",
       "      <th>7</th>\n",
       "      <td>41</td>\n",
       "      <td>blue-collar</td>\n",
       "      <td>married</td>\n",
       "      <td>unknown</td>\n",
       "      <td>unknown</td>\n",
       "      <td>no</td>\n",
       "      <td>no</td>\n",
       "      <td>telephone</td>\n",
       "      <td>may</td>\n",
       "      <td>mon</td>\n",
       "      <td>217</td>\n",
       "      <td>1</td>\n",
       "      <td>999</td>\n",
       "      <td>0</td>\n",
       "      <td>nonexistent</td>\n",
       "      <td>1.1</td>\n",
       "      <td>93.994</td>\n",
       "      <td>-36.4</td>\n",
       "      <td>4.857</td>\n",
       "      <td>5191.0</td>\n",
       "      <td>no</td>\n",
       "    </tr>\n",
       "    <tr>\n",
       "      <th>8</th>\n",
       "      <td>24</td>\n",
       "      <td>technician</td>\n",
       "      <td>single</td>\n",
       "      <td>professional.course</td>\n",
       "      <td>no</td>\n",
       "      <td>yes</td>\n",
       "      <td>no</td>\n",
       "      <td>telephone</td>\n",
       "      <td>may</td>\n",
       "      <td>mon</td>\n",
       "      <td>380</td>\n",
       "      <td>1</td>\n",
       "      <td>999</td>\n",
       "      <td>0</td>\n",
       "      <td>nonexistent</td>\n",
       "      <td>1.1</td>\n",
       "      <td>93.994</td>\n",
       "      <td>-36.4</td>\n",
       "      <td>4.857</td>\n",
       "      <td>5191.0</td>\n",
       "      <td>no</td>\n",
       "    </tr>\n",
       "    <tr>\n",
       "      <th>9</th>\n",
       "      <td>25</td>\n",
       "      <td>services</td>\n",
       "      <td>single</td>\n",
       "      <td>high.school</td>\n",
       "      <td>no</td>\n",
       "      <td>yes</td>\n",
       "      <td>no</td>\n",
       "      <td>telephone</td>\n",
       "      <td>may</td>\n",
       "      <td>mon</td>\n",
       "      <td>50</td>\n",
       "      <td>1</td>\n",
       "      <td>999</td>\n",
       "      <td>0</td>\n",
       "      <td>nonexistent</td>\n",
       "      <td>1.1</td>\n",
       "      <td>93.994</td>\n",
       "      <td>-36.4</td>\n",
       "      <td>4.857</td>\n",
       "      <td>5191.0</td>\n",
       "      <td>no</td>\n",
       "    </tr>\n",
       "  </tbody>\n",
       "</table>\n",
       "</div>"
      ],
      "text/plain": [
       "   age          job  marital            education  default housing loan  \\\n",
       "0   56    housemaid  married             basic.4y       no      no   no   \n",
       "1   57     services  married          high.school  unknown      no   no   \n",
       "2   37     services  married          high.school       no     yes   no   \n",
       "3   40       admin.  married             basic.6y       no      no   no   \n",
       "4   56     services  married          high.school       no      no  yes   \n",
       "5   45     services  married             basic.9y  unknown      no   no   \n",
       "6   59       admin.  married  professional.course       no      no   no   \n",
       "7   41  blue-collar  married              unknown  unknown      no   no   \n",
       "8   24   technician   single  professional.course       no     yes   no   \n",
       "9   25     services   single          high.school       no     yes   no   \n",
       "\n",
       "     contact month day_of_week  duration  campaign  pdays  previous  \\\n",
       "0  telephone   may         mon       261         1    999         0   \n",
       "1  telephone   may         mon       149         1    999         0   \n",
       "2  telephone   may         mon       226         1    999         0   \n",
       "3  telephone   may         mon       151         1    999         0   \n",
       "4  telephone   may         mon       307         1    999         0   \n",
       "5  telephone   may         mon       198         1    999         0   \n",
       "6  telephone   may         mon       139         1    999         0   \n",
       "7  telephone   may         mon       217         1    999         0   \n",
       "8  telephone   may         mon       380         1    999         0   \n",
       "9  telephone   may         mon        50         1    999         0   \n",
       "\n",
       "      poutcome  emp.var.rate  cons.price.idx  cons.conf.idx  euribor3m  \\\n",
       "0  nonexistent           1.1          93.994          -36.4      4.857   \n",
       "1  nonexistent           1.1          93.994          -36.4      4.857   \n",
       "2  nonexistent           1.1          93.994          -36.4      4.857   \n",
       "3  nonexistent           1.1          93.994          -36.4      4.857   \n",
       "4  nonexistent           1.1          93.994          -36.4      4.857   \n",
       "5  nonexistent           1.1          93.994          -36.4      4.857   \n",
       "6  nonexistent           1.1          93.994          -36.4      4.857   \n",
       "7  nonexistent           1.1          93.994          -36.4      4.857   \n",
       "8  nonexistent           1.1          93.994          -36.4      4.857   \n",
       "9  nonexistent           1.1          93.994          -36.4      4.857   \n",
       "\n",
       "   nr.employed   y  \n",
       "0       5191.0  no  \n",
       "1       5191.0  no  \n",
       "2       5191.0  no  \n",
       "3       5191.0  no  \n",
       "4       5191.0  no  \n",
       "5       5191.0  no  \n",
       "6       5191.0  no  \n",
       "7       5191.0  no  \n",
       "8       5191.0  no  \n",
       "9       5191.0  no  "
      ]
     },
     "execution_count": 31,
     "metadata": {},
     "output_type": "execute_result"
    }
   ],
   "source": [
    "##Printing top 10 data from the csv\n",
    "df.head(10)"
   ]
  },
  {
   "cell_type": "markdown",
   "metadata": {},
   "source": [
    "Note: We can easily verify the data given in the dataframe above"
   ]
  },
  {
   "cell_type": "code",
   "execution_count": 32,
   "metadata": {},
   "outputs": [
    {
     "data": {
      "text/plain": [
       "age                 int64\n",
       "job                object\n",
       "marital            object\n",
       "education          object\n",
       "default            object\n",
       "housing            object\n",
       "loan               object\n",
       "contact            object\n",
       "month              object\n",
       "day_of_week        object\n",
       "duration            int64\n",
       "campaign            int64\n",
       "pdays               int64\n",
       "previous            int64\n",
       "poutcome           object\n",
       "emp.var.rate      float64\n",
       "cons.price.idx    float64\n",
       "cons.conf.idx     float64\n",
       "euribor3m         float64\n",
       "nr.employed       float64\n",
       "y                  object\n",
       "dtype: object"
      ]
     },
     "execution_count": 32,
     "metadata": {},
     "output_type": "execute_result"
    }
   ],
   "source": [
    "##Having a look at all the datatypes present in the DataFrame\n",
    "df.dtypes"
   ]
  },
  {
   "cell_type": "code",
   "execution_count": 33,
   "metadata": {},
   "outputs": [
    {
     "name": "stdout",
     "output_type": "stream",
     "text": [
      "['no' 'yes']\n"
     ]
    }
   ],
   "source": [
    "##Checking the unique values in the Dataframe present\n",
    "show_unique(df['y'])"
   ]
  },
  {
   "cell_type": "code",
   "execution_count": 34,
   "metadata": {},
   "outputs": [],
   "source": [
    "##Total Number of Unknown 'string' present in the DataFrame\n",
    "#len(df.loc[(df['job']=='unknown') | (df['marital']=='unknown') | (df['education']=='unknown') | (df['default']=='unknown') | (df['housing']=='unknown') | (df['loan']=='unknown')])"
   ]
  },
  {
   "cell_type": "code",
   "execution_count": 35,
   "metadata": {},
   "outputs": [],
   "source": [
    "##Printing all the Data rows having 'Unknown' string present in the DataFrame\n",
    "#df.loc[(df['job']=='unknown') | (df['marital']=='unknown') | (df['education']=='unknown') | (df['default']=='unknown') | (df['housing']=='unknown') | (df['loan']=='unknown')]"
   ]
  },
  {
   "cell_type": "code",
   "execution_count": 36,
   "metadata": {
    "scrolled": true
   },
   "outputs": [
    {
     "data": {
      "text/plain": [
       "41188"
      ]
     },
     "execution_count": 36,
     "metadata": {},
     "output_type": "execute_result"
    }
   ],
   "source": [
    "##Printing the Total numberof rows\n",
    "len(df)"
   ]
  },
  {
   "cell_type": "markdown",
   "metadata": {},
   "source": [
    "Lets check if there are any Missing values in our Dataset using : isna() or isnull()"
   ]
  },
  {
   "cell_type": "code",
   "execution_count": 37,
   "metadata": {},
   "outputs": [
    {
     "data": {
      "image/png": "[encoded data removed]",
      "text/plain": [
       "<Figure size 1512x648 with 1 Axes>"
      ]
     },
     "metadata": {
      "needs_background": "light"
     },
     "output_type": "display_data"
    }
   ],
   "source": [
    "##Setting the figsize as 21,9 for the graph to fit in the screen more efficiently\n",
    "fig, ax = plt.subplots(figsize=(21,9))\n",
    "#Plotting the heatmap to check Missing Values\n",
    "sns.heatmap(df.isna(),cbar=False,cmap=\"Blues\")\n",
    "plt.show()"
   ]
  },
  {
   "cell_type": "code",
   "execution_count": 38,
   "metadata": {},
   "outputs": [
    {
     "data": {
      "text/plain": [
       "no     36548\n",
       "yes     4640\n",
       "Name: y, dtype: int64"
      ]
     },
     "execution_count": 38,
     "metadata": {},
     "output_type": "execute_result"
    }
   ],
   "source": [
    "##Counting the occurence of each unique values present in our Target Variable 'y'\n",
    "df['y'].value_counts()"
   ]
  },
  {
   "cell_type": "markdown",
   "metadata": {},
   "source": [
    "Converting the Target variables data from string('yes','no') to int(1,0), respectively"
   ]
  },
  {
   "cell_type": "code",
   "execution_count": 39,
   "metadata": {},
   "outputs": [
    {
     "data": {
      "text/plain": [
       "0    36548\n",
       "1     4640\n",
       "Name: y, dtype: int64"
      ]
     },
     "execution_count": 39,
     "metadata": {},
     "output_type": "execute_result"
    }
   ],
   "source": [
    "##Changing 'yes' to 1 and 'no' to 0, because target variable has to be a numerical variable\n",
    "df.loc[df['y'] == 'yes', 'y'] = 1\n",
    "df.loc[df['y'] == 'no', 'y'] = 0\n",
    "##Cast datas of 'y' columns into int64 datatype\n",
    "df['y']=df['y'].astype('int64')\n",
    "##Verifying the changes\n",
    "df['y'].value_counts()"
   ]
  },
  {
   "cell_type": "code",
   "execution_count": 40,
   "metadata": {},
   "outputs": [
    {
     "data": {
      "text/plain": [
       "<matplotlib.axes._subplots.AxesSubplot at 0x1675530aca0>"
      ]
     },
     "execution_count": 40,
     "metadata": {},
     "output_type": "execute_result"
    },
    {
     "data": {
      "image/png": "[encoded data removed]",
      "text/plain": [
       "<Figure size 1512x648 with 2 Axes>"
      ]
     },
     "metadata": {
      "needs_background": "light"
     },
     "output_type": "display_data"
    }
   ],
   "source": [
    "##Creating a Annotted Heatmap using corr() to find correlation between variables present in the DataFrame\n",
    "##Setting the figsize as 21,9 for the graph to fit in the screen more efficiently\n",
    "fig, ax = plt.subplots(figsize=(21,9))\n",
    "##Plotting the heatmap to check correlation\n",
    "sns.heatmap(df.corr(),cmap=\"Blues\",annot=True)\n",
    "#plt.show()"
   ]
  },
  {
   "cell_type": "code",
   "execution_count": 41,
   "metadata": {},
   "outputs": [],
   "source": [
    "#df.plot.kde()"
   ]
  },
  {
   "cell_type": "code",
   "execution_count": 42,
   "metadata": {},
   "outputs": [],
   "source": [
    "#df.plot.hist()"
   ]
  },
  {
   "cell_type": "code",
   "execution_count": 43,
   "metadata": {},
   "outputs": [],
   "source": [
    "##Storing all data rows not having 'Unknown' string separately\n",
    "#df_no_missing=df.loc[(df['job']=='unknown') | (df['marital']=='unknown') | (df['education']=='unknown') | (df['default']=='unknown') | (df['housing']=='unknown') | (df['loan']=='unknown')]"
   ]
  },
  {
   "cell_type": "code",
   "execution_count": 44,
   "metadata": {},
   "outputs": [
    {
     "data": {
      "text/plain": [
       "age                 int64\n",
       "job                object\n",
       "marital            object\n",
       "education          object\n",
       "default            object\n",
       "housing            object\n",
       "loan               object\n",
       "contact            object\n",
       "month              object\n",
       "day_of_week        object\n",
       "duration            int64\n",
       "campaign            int64\n",
       "pdays               int64\n",
       "previous            int64\n",
       "poutcome           object\n",
       "emp.var.rate      float64\n",
       "cons.price.idx    float64\n",
       "cons.conf.idx     float64\n",
       "euribor3m         float64\n",
       "nr.employed       float64\n",
       "y                   int64\n",
       "dtype: object"
      ]
     },
     "execution_count": 44,
     "metadata": {},
     "output_type": "execute_result"
    }
   ],
   "source": [
    "df.dtypes"
   ]
  },
  {
   "cell_type": "markdown",
   "metadata": {},
   "source": [
    "Separating the Independent and Target Variables into X,y, respectively"
   ]
  },
  {
   "cell_type": "code",
   "execution_count": 45,
   "metadata": {},
   "outputs": [],
   "source": [
    "#Creating Target and Independent variables\n",
    "y=df['y']\n",
    "X=df.drop(['y'], axis=1)"
   ]
  },
  {
   "cell_type": "markdown",
   "metadata": {},
   "source": [
    "Segment of Try Code"
   ]
  },
  {
   "cell_type": "code",
   "execution_count": 46,
   "metadata": {},
   "outputs": [],
   "source": [
    "X_train, X_test, y_train, y_test = train_test_split(X, y, test_size=0.1, random_state=123)"
   ]
  },
  {
   "cell_type": "code",
   "execution_count": 47,
   "metadata": {},
   "outputs": [
    {
     "data": {
      "text/plain": [
       "0    0.886914\n",
       "1    0.113086\n",
       "Name: y, dtype: float64"
      ]
     },
     "execution_count": 47,
     "metadata": {},
     "output_type": "execute_result"
    }
   ],
   "source": [
    "y_train.value_counts(normalize=True)"
   ]
  },
  {
   "cell_type": "code",
   "execution_count": 48,
   "metadata": {},
   "outputs": [
    {
     "data": {
      "text/plain": [
       "0    0.891236\n",
       "1    0.108764\n",
       "Name: y, dtype: float64"
      ]
     },
     "execution_count": 48,
     "metadata": {},
     "output_type": "execute_result"
    }
   ],
   "source": [
    "y_test.value_counts(normalize=True)"
   ]
  },
  {
   "cell_type": "code",
   "execution_count": 49,
   "metadata": {},
   "outputs": [
    {
     "data": {
      "text/plain": [
       "((37069, 20), (37069,))"
      ]
     },
     "execution_count": 49,
     "metadata": {},
     "output_type": "execute_result"
    }
   ],
   "source": [
    "X_train.shape, y_train.shape"
   ]
  },
  {
   "cell_type": "code",
   "execution_count": 50,
   "metadata": {},
   "outputs": [
    {
     "data": {
      "text/plain": [
       "((4119, 20), (4119,))"
      ]
     },
     "execution_count": 50,
     "metadata": {},
     "output_type": "execute_result"
    }
   ],
   "source": [
    "X_test.shape, y_test.shape"
   ]
  },
  {
   "cell_type": "markdown",
   "metadata": {},
   "source": [
    "Encoding the categorical variables using n-1 Dummy Encoding"
   ]
  },
  {
   "cell_type": "code",
   "execution_count": 51,
   "metadata": {},
   "outputs": [],
   "source": [
    "X_encoded=pd.get_dummies(X,columns=['job','marital','education','default','housing','loan','contact','month','day_of_week','poutcome'])"
   ]
  },
  {
   "cell_type": "code",
   "execution_count": 52,
   "metadata": {},
   "outputs": [],
   "source": [
    "##Splitting the data into training and test data\n",
    "X_train, X_test, y_train, y_test = train_test_split(X_encoded, y, test_size=0.1, random_state=123)\n",
    "\n",
    "##Create a Decision Tree and fit it into training data\n",
    "#clf_df = DecisionTreeClassifier(random_state=123)\n",
    "#clf_df = clf_df.fit(X_train, y_train)"
   ]
  },
  {
   "cell_type": "markdown",
   "metadata": {},
   "source": [
    "Failed Attempt ! Work on the wrong code and come up with the correct syntax"
   ]
  },
  {
   "cell_type": "code",
   "execution_count": 54,
   "metadata": {},
   "outputs": [],
   "source": [
    "# logreg.fit(X_train, y_train)\n",
    "# proba = logreg.predict_proba(X_test)"
   ]
  },
  {
   "cell_type": "code",
   "execution_count": 55,
   "metadata": {
    "scrolled": false
   },
   "outputs": [
    {
     "name": "stdout",
     "output_type": "stream",
     "text": [
      "Warning: Maximum number of iterations has been exceeded.\n",
      "         Current function value: 0.208488\n",
      "         Iterations: 35\n"
     ]
    },
    {
     "name": "stderr",
     "output_type": "stream",
     "text": [
      "C:\\ProgramData\\Anaconda3\\lib\\site-packages\\statsmodels\\base\\model.py:567: ConvergenceWarning: Maximum Likelihood optimization failed to converge. Check mle_retvals\n",
      "  warn(\"Maximum Likelihood optimization failed to converge. \"\n"
     ]
    }
   ],
   "source": [
    "model = sm.Logit(y_train,X_train).fit()"
   ]
  },
  {
   "cell_type": "code",
   "execution_count": 56,
   "metadata": {
    "scrolled": true
   },
   "outputs": [
    {
     "name": "stderr",
     "output_type": "stream",
     "text": [
      "C:\\ProgramData\\Anaconda3\\lib\\site-packages\\statsmodels\\base\\model.py:1354: RuntimeWarning: invalid value encountered in sqrt\n",
      "  bse_ = np.sqrt(np.diag(self.cov_params()))\n",
      "C:\\ProgramData\\Anaconda3\\lib\\site-packages\\scipy\\stats\\_distn_infrastructure.py:1932: RuntimeWarning: invalid value encountered in less_equal\n",
      "  cond2 = cond0 & (x <= _a)\n"
     ]
    },
    {
     "data": {
      "text/html": [
       "<table class=\"simpletable\">\n",
       "<caption>Logit Regression Results</caption>\n",
       "<tr>\n",
       "  <th>Dep. Variable:</th>           <td>y</td>        <th>  No. Observations:  </th>  <td> 37069</td> \n",
       "</tr>\n",
       "<tr>\n",
       "  <th>Model:</th>                 <td>Logit</td>      <th>  Df Residuals:      </th>  <td> 37016</td> \n",
       "</tr>\n",
       "<tr>\n",
       "  <th>Method:</th>                 <td>MLE</td>       <th>  Df Model:          </th>  <td>    52</td> \n",
       "</tr>\n",
       "<tr>\n",
       "  <th>Date:</th>            <td>Sat, 27 Mar 2021</td> <th>  Pseudo R-squ.:     </th>  <td>0.4092</td> \n",
       "</tr>\n",
       "<tr>\n",
       "  <th>Time:</th>                <td>13:29:18</td>     <th>  Log-Likelihood:    </th> <td> -7728.4</td>\n",
       "</tr>\n",
       "<tr>\n",
       "  <th>converged:</th>             <td>False</td>      <th>  LL-Null:           </th> <td> -13082.</td>\n",
       "</tr>\n",
       "<tr>\n",
       "  <th>Covariance Type:</th>     <td>nonrobust</td>    <th>  LLR p-value:       </th>  <td> 0.000</td> \n",
       "</tr>\n",
       "</table>\n",
       "<table class=\"simpletable\">\n",
       "<tr>\n",
       "                <td></td>                   <th>coef</th>     <th>std err</th>      <th>z</th>      <th>P>|z|</th>  <th>[0.025</th>    <th>0.975]</th>  \n",
       "</tr>\n",
       "<tr>\n",
       "  <th>age</th>                           <td>    0.0005</td> <td>    0.003</td> <td>    0.191</td> <td> 0.848</td> <td>   -0.005</td> <td>    0.006</td>\n",
       "</tr>\n",
       "<tr>\n",
       "  <th>duration</th>                      <td>    0.0046</td> <td> 7.77e-05</td> <td>   59.727</td> <td> 0.000</td> <td>    0.004</td> <td>    0.005</td>\n",
       "</tr>\n",
       "<tr>\n",
       "  <th>campaign</th>                      <td>   -0.0391</td> <td>    0.012</td> <td>   -3.230</td> <td> 0.001</td> <td>   -0.063</td> <td>   -0.015</td>\n",
       "</tr>\n",
       "<tr>\n",
       "  <th>pdays</th>                         <td>   -0.0009</td> <td>    0.000</td> <td>   -4.055</td> <td> 0.000</td> <td>   -0.001</td> <td>   -0.000</td>\n",
       "</tr>\n",
       "<tr>\n",
       "  <th>previous</th>                      <td>   -0.0529</td> <td>    0.062</td> <td>   -0.857</td> <td> 0.391</td> <td>   -0.174</td> <td>    0.068</td>\n",
       "</tr>\n",
       "<tr>\n",
       "  <th>emp.var.rate</th>                  <td>   -1.8310</td> <td>    0.148</td> <td>  -12.330</td> <td> 0.000</td> <td>   -2.122</td> <td>   -1.540</td>\n",
       "</tr>\n",
       "<tr>\n",
       "  <th>cons.price.idx</th>                <td>    2.3467</td> <td>    0.263</td> <td>    8.917</td> <td> 0.000</td> <td>    1.831</td> <td>    2.862</td>\n",
       "</tr>\n",
       "<tr>\n",
       "  <th>cons.conf.idx</th>                 <td>    0.0234</td> <td>    0.008</td> <td>    2.866</td> <td> 0.004</td> <td>    0.007</td> <td>    0.039</td>\n",
       "</tr>\n",
       "<tr>\n",
       "  <th>euribor3m</th>                     <td>    0.2837</td> <td>    0.136</td> <td>    2.087</td> <td> 0.037</td> <td>    0.017</td> <td>    0.550</td>\n",
       "</tr>\n",
       "<tr>\n",
       "  <th>nr.employed</th>                   <td>    0.0073</td> <td>    0.003</td> <td>    2.255</td> <td> 0.024</td> <td>    0.001</td> <td>    0.014</td>\n",
       "</tr>\n",
       "<tr>\n",
       "  <th>job_admin.</th>                    <td>   -8.6381</td> <td> 4.79e+05</td> <td> -1.8e-05</td> <td> 1.000</td> <td> -9.4e+05</td> <td>  9.4e+05</td>\n",
       "</tr>\n",
       "<tr>\n",
       "  <th>job_blue-collar</th>               <td>   -8.9190</td> <td> 4.79e+05</td> <td>-1.86e-05</td> <td> 1.000</td> <td>-9.39e+05</td> <td> 9.39e+05</td>\n",
       "</tr>\n",
       "<tr>\n",
       "  <th>job_entrepreneur</th>              <td>   -8.8255</td> <td> 4.79e+05</td> <td>-1.84e-05</td> <td> 1.000</td> <td>-9.39e+05</td> <td> 9.39e+05</td>\n",
       "</tr>\n",
       "<tr>\n",
       "  <th>job_housemaid</th>                 <td>   -8.6887</td> <td> 4.82e+05</td> <td> -1.8e-05</td> <td> 1.000</td> <td>-9.44e+05</td> <td> 9.44e+05</td>\n",
       "</tr>\n",
       "<tr>\n",
       "  <th>job_management</th>                <td>   -8.7224</td> <td> 4.82e+05</td> <td>-1.81e-05</td> <td> 1.000</td> <td>-9.44e+05</td> <td> 9.44e+05</td>\n",
       "</tr>\n",
       "<tr>\n",
       "  <th>job_retired</th>                   <td>   -8.3627</td> <td>  4.8e+05</td> <td>-1.74e-05</td> <td> 1.000</td> <td>-9.41e+05</td> <td> 9.41e+05</td>\n",
       "</tr>\n",
       "<tr>\n",
       "  <th>job_self-employed</th>             <td>   -8.7732</td> <td> 4.79e+05</td> <td>-1.83e-05</td> <td> 1.000</td> <td>-9.38e+05</td> <td> 9.38e+05</td>\n",
       "</tr>\n",
       "<tr>\n",
       "  <th>job_services</th>                  <td>   -8.7983</td> <td> 4.78e+05</td> <td>-1.84e-05</td> <td> 1.000</td> <td>-9.36e+05</td> <td> 9.36e+05</td>\n",
       "</tr>\n",
       "<tr>\n",
       "  <th>job_student</th>                   <td>   -8.4210</td> <td> 4.81e+05</td> <td>-1.75e-05</td> <td> 1.000</td> <td>-9.43e+05</td> <td> 9.43e+05</td>\n",
       "</tr>\n",
       "<tr>\n",
       "  <th>job_technician</th>                <td>   -8.6364</td> <td> 4.78e+05</td> <td>-1.81e-05</td> <td> 1.000</td> <td>-9.37e+05</td> <td> 9.37e+05</td>\n",
       "</tr>\n",
       "<tr>\n",
       "  <th>job_unemployed</th>                <td>   -8.6364</td> <td>  4.8e+05</td> <td> -1.8e-05</td> <td> 1.000</td> <td> -9.4e+05</td> <td>  9.4e+05</td>\n",
       "</tr>\n",
       "<tr>\n",
       "  <th>job_unknown</th>                   <td>   -8.6596</td> <td>  4.8e+05</td> <td> -1.8e-05</td> <td> 1.000</td> <td>-9.42e+05</td> <td> 9.42e+05</td>\n",
       "</tr>\n",
       "<tr>\n",
       "  <th>marital_divorced</th>              <td>  -26.1115</td> <td>      nan</td> <td>      nan</td> <td>   nan</td> <td>      nan</td> <td>      nan</td>\n",
       "</tr>\n",
       "<tr>\n",
       "  <th>marital_married</th>               <td>  -26.0887</td> <td>      nan</td> <td>      nan</td> <td>   nan</td> <td>      nan</td> <td>      nan</td>\n",
       "</tr>\n",
       "<tr>\n",
       "  <th>marital_single</th>                <td>  -26.0021</td> <td>      nan</td> <td>      nan</td> <td>   nan</td> <td>      nan</td> <td>      nan</td>\n",
       "</tr>\n",
       "<tr>\n",
       "  <th>marital_unknown</th>               <td>  -26.0246</td> <td>      nan</td> <td>      nan</td> <td>   nan</td> <td>      nan</td> <td>      nan</td>\n",
       "</tr>\n",
       "<tr>\n",
       "  <th>education_basic.4y</th>            <td>  -13.2624</td> <td>      nan</td> <td>      nan</td> <td>   nan</td> <td>      nan</td> <td>      nan</td>\n",
       "</tr>\n",
       "<tr>\n",
       "  <th>education_basic.6y</th>            <td>  -13.0285</td> <td>      nan</td> <td>      nan</td> <td>   nan</td> <td>      nan</td> <td>      nan</td>\n",
       "</tr>\n",
       "<tr>\n",
       "  <th>education_basic.9y</th>            <td>  -13.2371</td> <td>      nan</td> <td>      nan</td> <td>   nan</td> <td>      nan</td> <td>      nan</td>\n",
       "</tr>\n",
       "<tr>\n",
       "  <th>education_high.school</th>         <td>  -13.1976</td> <td>      nan</td> <td>      nan</td> <td>   nan</td> <td>      nan</td> <td>      nan</td>\n",
       "</tr>\n",
       "<tr>\n",
       "  <th>education_illiterate</th>          <td>  -12.0587</td> <td>      nan</td> <td>      nan</td> <td>   nan</td> <td>      nan</td> <td>      nan</td>\n",
       "</tr>\n",
       "<tr>\n",
       "  <th>education_professional.course</th> <td>  -13.1145</td> <td>      nan</td> <td>      nan</td> <td>   nan</td> <td>      nan</td> <td>      nan</td>\n",
       "</tr>\n",
       "<tr>\n",
       "  <th>education_university.degree</th>   <td>  -13.0535</td> <td>      nan</td> <td>      nan</td> <td>   nan</td> <td>      nan</td> <td>      nan</td>\n",
       "</tr>\n",
       "<tr>\n",
       "  <th>education_unknown</th>             <td>  -13.1378</td> <td>      nan</td> <td>      nan</td> <td>   nan</td> <td>      nan</td> <td>      nan</td>\n",
       "</tr>\n",
       "<tr>\n",
       "  <th>default_no</th>                    <td>  -30.6745</td> <td>      nan</td> <td>      nan</td> <td>   nan</td> <td>      nan</td> <td>      nan</td>\n",
       "</tr>\n",
       "<tr>\n",
       "  <th>default_unknown</th>               <td>  -30.9682</td> <td>      nan</td> <td>      nan</td> <td>   nan</td> <td>      nan</td> <td>      nan</td>\n",
       "</tr>\n",
       "<tr>\n",
       "  <th>default_yes</th>                   <td>  -42.4128</td> <td>      nan</td> <td>      nan</td> <td>   nan</td> <td>      nan</td> <td>      nan</td>\n",
       "</tr>\n",
       "<tr>\n",
       "  <th>housing_no</th>                    <td>  -34.7080</td> <td>      nan</td> <td>      nan</td> <td>   nan</td> <td>      nan</td> <td>      nan</td>\n",
       "</tr>\n",
       "<tr>\n",
       "  <th>housing_unknown</th>               <td>  -34.7731</td> <td> 1.11e+07</td> <td>-3.12e-06</td> <td> 1.000</td> <td>-2.18e+07</td> <td> 2.18e+07</td>\n",
       "</tr>\n",
       "<tr>\n",
       "  <th>housing_yes</th>                   <td>  -34.7047</td> <td>      nan</td> <td>      nan</td> <td>   nan</td> <td>      nan</td> <td>      nan</td>\n",
       "</tr>\n",
       "<tr>\n",
       "  <th>loan_no</th>                       <td>  -34.6581</td> <td>      nan</td> <td>      nan</td> <td>   nan</td> <td>      nan</td> <td>      nan</td>\n",
       "</tr>\n",
       "<tr>\n",
       "  <th>loan_unknown</th>                  <td>  -34.7619</td> <td> 1.12e+07</td> <td>-3.12e-06</td> <td> 1.000</td> <td>-2.19e+07</td> <td> 2.19e+07</td>\n",
       "</tr>\n",
       "<tr>\n",
       "  <th>loan_yes</th>                      <td>  -34.6911</td> <td>      nan</td> <td>      nan</td> <td>   nan</td> <td>      nan</td> <td>      nan</td>\n",
       "</tr>\n",
       "<tr>\n",
       "  <th>contact_cellular</th>              <td>  -47.2399</td> <td>      nan</td> <td>      nan</td> <td>   nan</td> <td>      nan</td> <td>      nan</td>\n",
       "</tr>\n",
       "<tr>\n",
       "  <th>contact_telephone</th>             <td>  -47.8518</td> <td>      nan</td> <td>      nan</td> <td>   nan</td> <td>      nan</td> <td>      nan</td>\n",
       "</tr>\n",
       "<tr>\n",
       "  <th>month_apr</th>                     <td>  -10.7129</td> <td>      nan</td> <td>      nan</td> <td>   nan</td> <td>      nan</td> <td>      nan</td>\n",
       "</tr>\n",
       "<tr>\n",
       "  <th>month_aug</th>                     <td>   -9.8058</td> <td>      nan</td> <td>      nan</td> <td>   nan</td> <td>      nan</td> <td>      nan</td>\n",
       "</tr>\n",
       "<tr>\n",
       "  <th>month_dec</th>                     <td>  -10.3130</td> <td>      nan</td> <td>      nan</td> <td>   nan</td> <td>      nan</td> <td>      nan</td>\n",
       "</tr>\n",
       "<tr>\n",
       "  <th>month_jul</th>                     <td>  -10.5531</td> <td>      nan</td> <td>      nan</td> <td>   nan</td> <td>      nan</td> <td>      nan</td>\n",
       "</tr>\n",
       "<tr>\n",
       "  <th>month_jun</th>                     <td>  -11.2596</td> <td>      nan</td> <td>      nan</td> <td>   nan</td> <td>      nan</td> <td>      nan</td>\n",
       "</tr>\n",
       "<tr>\n",
       "  <th>month_mar</th>                     <td>   -8.7097</td> <td>      nan</td> <td>      nan</td> <td>   nan</td> <td>      nan</td> <td>      nan</td>\n",
       "</tr>\n",
       "<tr>\n",
       "  <th>month_may</th>                     <td>  -11.1208</td> <td>      nan</td> <td>      nan</td> <td>   nan</td> <td>      nan</td> <td>      nan</td>\n",
       "</tr>\n",
       "<tr>\n",
       "  <th>month_nov</th>                     <td>  -11.0874</td> <td>      nan</td> <td>      nan</td> <td>   nan</td> <td>      nan</td> <td>      nan</td>\n",
       "</tr>\n",
       "<tr>\n",
       "  <th>month_oct</th>                     <td>  -10.4556</td> <td>      nan</td> <td>      nan</td> <td>   nan</td> <td>      nan</td> <td>      nan</td>\n",
       "</tr>\n",
       "<tr>\n",
       "  <th>month_sep</th>                     <td>  -10.2595</td> <td>      nan</td> <td>      nan</td> <td>   nan</td> <td>      nan</td> <td>      nan</td>\n",
       "</tr>\n",
       "<tr>\n",
       "  <th>day_of_week_fri</th>               <td>  -20.4272</td> <td> 7.64e+05</td> <td>-2.67e-05</td> <td> 1.000</td> <td> -1.5e+06</td> <td>  1.5e+06</td>\n",
       "</tr>\n",
       "<tr>\n",
       "  <th>day_of_week_mon</th>               <td>  -20.5381</td> <td> 7.64e+05</td> <td>-2.69e-05</td> <td> 1.000</td> <td> -1.5e+06</td> <td>  1.5e+06</td>\n",
       "</tr>\n",
       "<tr>\n",
       "  <th>day_of_week_thu</th>               <td>  -20.3696</td> <td> 7.64e+05</td> <td>-2.67e-05</td> <td> 1.000</td> <td> -1.5e+06</td> <td>  1.5e+06</td>\n",
       "</tr>\n",
       "<tr>\n",
       "  <th>day_of_week_tue</th>               <td>  -20.3238</td> <td> 7.64e+05</td> <td>-2.66e-05</td> <td> 1.000</td> <td> -1.5e+06</td> <td>  1.5e+06</td>\n",
       "</tr>\n",
       "<tr>\n",
       "  <th>day_of_week_wed</th>               <td>  -20.2535</td> <td> 7.64e+05</td> <td>-2.65e-05</td> <td> 1.000</td> <td> -1.5e+06</td> <td>  1.5e+06</td>\n",
       "</tr>\n",
       "<tr>\n",
       "  <th>poutcome_failure</th>              <td>  -34.4382</td> <td>      nan</td> <td>      nan</td> <td>   nan</td> <td>      nan</td> <td>      nan</td>\n",
       "</tr>\n",
       "<tr>\n",
       "  <th>poutcome_nonexistent</th>          <td>  -34.0301</td> <td>      nan</td> <td>      nan</td> <td>   nan</td> <td>      nan</td> <td>      nan</td>\n",
       "</tr>\n",
       "<tr>\n",
       "  <th>poutcome_success</th>              <td>  -33.4797</td> <td>      nan</td> <td>      nan</td> <td>   nan</td> <td>      nan</td> <td>      nan</td>\n",
       "</tr>\n",
       "</table>"
      ],
      "text/plain": [
       "<class 'statsmodels.iolib.summary.Summary'>\n",
       "\"\"\"\n",
       "                           Logit Regression Results                           \n",
       "==============================================================================\n",
       "Dep. Variable:                      y   No. Observations:                37069\n",
       "Model:                          Logit   Df Residuals:                    37016\n",
       "Method:                           MLE   Df Model:                           52\n",
       "Date:                Sat, 27 Mar 2021   Pseudo R-squ.:                  0.4092\n",
       "Time:                        13:29:18   Log-Likelihood:                -7728.4\n",
       "converged:                      False   LL-Null:                       -13082.\n",
       "Covariance Type:            nonrobust   LLR p-value:                     0.000\n",
       "=================================================================================================\n",
       "                                    coef    std err          z      P>|z|      [0.025      0.975]\n",
       "-------------------------------------------------------------------------------------------------\n",
       "age                               0.0005      0.003      0.191      0.848      -0.005       0.006\n",
       "duration                          0.0046   7.77e-05     59.727      0.000       0.004       0.005\n",
       "campaign                         -0.0391      0.012     -3.230      0.001      -0.063      -0.015\n",
       "pdays                            -0.0009      0.000     -4.055      0.000      -0.001      -0.000\n",
       "previous                         -0.0529      0.062     -0.857      0.391      -0.174       0.068\n",
       "emp.var.rate                     -1.8310      0.148    -12.330      0.000      -2.122      -1.540\n",
       "cons.price.idx                    2.3467      0.263      8.917      0.000       1.831       2.862\n",
       "cons.conf.idx                     0.0234      0.008      2.866      0.004       0.007       0.039\n",
       "euribor3m                         0.2837      0.136      2.087      0.037       0.017       0.550\n",
       "nr.employed                       0.0073      0.003      2.255      0.024       0.001       0.014\n",
       "job_admin.                       -8.6381   4.79e+05   -1.8e-05      1.000    -9.4e+05     9.4e+05\n",
       "job_blue-collar                  -8.9190   4.79e+05  -1.86e-05      1.000   -9.39e+05    9.39e+05\n",
       "job_entrepreneur                 -8.8255   4.79e+05  -1.84e-05      1.000   -9.39e+05    9.39e+05\n",
       "job_housemaid                    -8.6887   4.82e+05   -1.8e-05      1.000   -9.44e+05    9.44e+05\n",
       "job_management                   -8.7224   4.82e+05  -1.81e-05      1.000   -9.44e+05    9.44e+05\n",
       "job_retired                      -8.3627    4.8e+05  -1.74e-05      1.000   -9.41e+05    9.41e+05\n",
       "job_self-employed                -8.7732   4.79e+05  -1.83e-05      1.000   -9.38e+05    9.38e+05\n",
       "job_services                     -8.7983   4.78e+05  -1.84e-05      1.000   -9.36e+05    9.36e+05\n",
       "job_student                      -8.4210   4.81e+05  -1.75e-05      1.000   -9.43e+05    9.43e+05\n",
       "job_technician                   -8.6364   4.78e+05  -1.81e-05      1.000   -9.37e+05    9.37e+05\n",
       "job_unemployed                   -8.6364    4.8e+05   -1.8e-05      1.000    -9.4e+05     9.4e+05\n",
       "job_unknown                      -8.6596    4.8e+05   -1.8e-05      1.000   -9.42e+05    9.42e+05\n",
       "marital_divorced                -26.1115        nan        nan        nan         nan         nan\n",
       "marital_married                 -26.0887        nan        nan        nan         nan         nan\n",
       "marital_single                  -26.0021        nan        nan        nan         nan         nan\n",
       "marital_unknown                 -26.0246        nan        nan        nan         nan         nan\n",
       "education_basic.4y              -13.2624        nan        nan        nan         nan         nan\n",
       "education_basic.6y              -13.0285        nan        nan        nan         nan         nan\n",
       "education_basic.9y              -13.2371        nan        nan        nan         nan         nan\n",
       "education_high.school           -13.1976        nan        nan        nan         nan         nan\n",
       "education_illiterate            -12.0587        nan        nan        nan         nan         nan\n",
       "education_professional.course   -13.1145        nan        nan        nan         nan         nan\n",
       "education_university.degree     -13.0535        nan        nan        nan         nan         nan\n",
       "education_unknown               -13.1378        nan        nan        nan         nan         nan\n",
       "default_no                      -30.6745        nan        nan        nan         nan         nan\n",
       "default_unknown                 -30.9682        nan        nan        nan         nan         nan\n",
       "default_yes                     -42.4128        nan        nan        nan         nan         nan\n",
       "housing_no                      -34.7080        nan        nan        nan         nan         nan\n",
       "housing_unknown                 -34.7731   1.11e+07  -3.12e-06      1.000   -2.18e+07    2.18e+07\n",
       "housing_yes                     -34.7047        nan        nan        nan         nan         nan\n",
       "loan_no                         -34.6581        nan        nan        nan         nan         nan\n",
       "loan_unknown                    -34.7619   1.12e+07  -3.12e-06      1.000   -2.19e+07    2.19e+07\n",
       "loan_yes                        -34.6911        nan        nan        nan         nan         nan\n",
       "contact_cellular                -47.2399        nan        nan        nan         nan         nan\n",
       "contact_telephone               -47.8518        nan        nan        nan         nan         nan\n",
       "month_apr                       -10.7129        nan        nan        nan         nan         nan\n",
       "month_aug                        -9.8058        nan        nan        nan         nan         nan\n",
       "month_dec                       -10.3130        nan        nan        nan         nan         nan\n",
       "month_jul                       -10.5531        nan        nan        nan         nan         nan\n",
       "month_jun                       -11.2596        nan        nan        nan         nan         nan\n",
       "month_mar                        -8.7097        nan        nan        nan         nan         nan\n",
       "month_may                       -11.1208        nan        nan        nan         nan         nan\n",
       "month_nov                       -11.0874        nan        nan        nan         nan         nan\n",
       "month_oct                       -10.4556        nan        nan        nan         nan         nan\n",
       "month_sep                       -10.2595        nan        nan        nan         nan         nan\n",
       "day_of_week_fri                 -20.4272   7.64e+05  -2.67e-05      1.000    -1.5e+06     1.5e+06\n",
       "day_of_week_mon                 -20.5381   7.64e+05  -2.69e-05      1.000    -1.5e+06     1.5e+06\n",
       "day_of_week_thu                 -20.3696   7.64e+05  -2.67e-05      1.000    -1.5e+06     1.5e+06\n",
       "day_of_week_tue                 -20.3238   7.64e+05  -2.66e-05      1.000    -1.5e+06     1.5e+06\n",
       "day_of_week_wed                 -20.2535   7.64e+05  -2.65e-05      1.000    -1.5e+06     1.5e+06\n",
       "poutcome_failure                -34.4382        nan        nan        nan         nan         nan\n",
       "poutcome_nonexistent            -34.0301        nan        nan        nan         nan         nan\n",
       "poutcome_success                -33.4797        nan        nan        nan         nan         nan\n",
       "=================================================================================================\n",
       "\"\"\""
      ]
     },
     "execution_count": 56,
     "metadata": {},
     "output_type": "execute_result"
    }
   ],
   "source": [
    "model.summary()"
   ]
  },
  {
   "cell_type": "code",
   "execution_count": 251,
   "metadata": {},
   "outputs": [],
   "source": [
    "train_predict = model.predict(X_train)\n",
    "test_predict=y_pred = model.predict(X_test)"
   ]
  },
  {
   "cell_type": "code",
   "execution_count": 252,
   "metadata": {},
   "outputs": [],
   "source": [
    "train_predict = [0 if x <.5 else 1 for x in train_predict]\n",
    "test_predict = [0 if x <.5 else 1 for x in test_predict]"
   ]
  },
  {
   "cell_type": "code",
   "execution_count": 253,
   "metadata": {
    "scrolled": true
   },
   "outputs": [
    {
     "name": "stdout",
     "output_type": "stream",
     "text": [
      "[31989  2412   888  1780]\n"
     ]
    }
   ],
   "source": [
    "cm1 = confusion_matrix(train_predict,y_train)\n",
    "print(cm1.ravel())"
   ]
  },
  {
   "cell_type": "code",
   "execution_count": 254,
   "metadata": {},
   "outputs": [
    {
     "name": "stdout",
     "output_type": "stream",
     "text": [
      "[3581  266   90  182]\n"
     ]
    }
   ],
   "source": [
    "cm2 = confusion_matrix(test_predict,y_test)\n",
    "print(cm2.ravel())"
   ]
  },
  {
   "cell_type": "code",
   "execution_count": 255,
   "metadata": {},
   "outputs": [],
   "source": [
    "new_df=pd.DataFrame(data = cm1, columns= ['Predicted : 0','Predicted : 1'], index =['Actual : 0','Actual : 1'] )"
   ]
  },
  {
   "cell_type": "code",
   "execution_count": 256,
   "metadata": {},
   "outputs": [
    {
     "data": {
      "text/plain": [
       "<matplotlib.axes._subplots.AxesSubplot at 0x258828502e0>"
      ]
     },
     "execution_count": 256,
     "metadata": {},
     "output_type": "execute_result"
    },
    {
     "data": {
      "image/png": "[encoded data removed]",
      "text/plain": [
       "<Figure size 1080x576 with 1 Axes>"
      ]
     },
     "metadata": {
      "needs_background": "light"
     },
     "output_type": "display_data"
    }
   ],
   "source": [
    "sns.heatmap(new_df,annot= True,linewidths =0.1,cbar=False)"
   ]
  },
  {
   "cell_type": "code",
   "execution_count": 257,
   "metadata": {},
   "outputs": [],
   "source": [
    "TN,FP,FN,TP= cm1.ravel()"
   ]
  },
  {
   "cell_type": "code",
   "execution_count": 258,
   "metadata": {},
   "outputs": [
    {
     "name": "stdout",
     "output_type": "stream",
     "text": [
      "0.6671664167916042\n"
     ]
    }
   ],
   "source": [
    "sensitivity = TP / (TP+FN)\n",
    "print(sensitivity)"
   ]
  },
  {
   "cell_type": "code",
   "execution_count": 259,
   "metadata": {},
   "outputs": [
    {
     "name": "stdout",
     "output_type": "stream",
     "text": [
      "0.9298857591349089\n"
     ]
    }
   ],
   "source": [
    "specificity = TN /(TN + FP)\n",
    "print(specificity)"
   ]
  },
  {
   "cell_type": "code",
   "execution_count": 260,
   "metadata": {},
   "outputs": [
    {
     "name": "stdout",
     "output_type": "stream",
     "text": [
      "0.42461832061068705\n"
     ]
    }
   ],
   "source": [
    "precision = TP / (TP+FP)\n",
    "print(precision)"
   ]
  },
  {
   "cell_type": "code",
   "execution_count": 261,
   "metadata": {},
   "outputs": [
    {
     "name": "stdout",
     "output_type": "stream",
     "text": [
      "0.5189504373177842\n"
     ]
    }
   ],
   "source": [
    "F1_score = (2 * precision * sensitivity)/(precision+sensitivity)\n",
    "print(F1_score)"
   ]
  },
  {
   "cell_type": "code",
   "execution_count": 262,
   "metadata": {},
   "outputs": [],
   "source": [
    "train_classification=classification_report(train_predict,y_train)\n"
   ]
  },
  {
   "cell_type": "code",
   "execution_count": 263,
   "metadata": {},
   "outputs": [
    {
     "name": "stdout",
     "output_type": "stream",
     "text": [
      "              precision    recall  f1-score   support\n",
      "\n",
      "           0       0.97      0.93      0.95     34401\n",
      "           1       0.42      0.67      0.52      2668\n",
      "\n",
      "    accuracy                           0.91     37069\n",
      "   macro avg       0.70      0.80      0.73     37069\n",
      "weighted avg       0.93      0.91      0.92     37069\n",
      "\n"
     ]
    }
   ],
   "source": [
    "print(train_classification)"
   ]
  },
  {
   "cell_type": "code",
   "execution_count": 264,
   "metadata": {},
   "outputs": [],
   "source": [
    "test_classification=classification_report(test_predict,y_test)"
   ]
  },
  {
   "cell_type": "code",
   "execution_count": 265,
   "metadata": {},
   "outputs": [
    {
     "name": "stdout",
     "output_type": "stream",
     "text": [
      "              precision    recall  f1-score   support\n",
      "\n",
      "           0       0.98      0.93      0.95      3847\n",
      "           1       0.41      0.67      0.51       272\n",
      "\n",
      "    accuracy                           0.91      4119\n",
      "   macro avg       0.69      0.80      0.73      4119\n",
      "weighted avg       0.94      0.91      0.92      4119\n",
      "\n"
     ]
    }
   ],
   "source": [
    "print(test_classification)"
   ]
  },
  {
   "cell_type": "code",
   "execution_count": 266,
   "metadata": {
    "scrolled": false
   },
   "outputs": [
    {
     "data": {
      "text/plain": [
       "Text(0.2, 0.95, '0.9402654006304239')"
      ]
     },
     "execution_count": 266,
     "metadata": {},
     "output_type": "execute_result"
    },
    {
     "data": {
      "image/png": "[encoded data removed]",
      "text/plain": [
       "<Figure size 1512x648 with 1 Axes>"
      ]
     },
     "metadata": {
      "needs_background": "light"
     },
     "output_type": "display_data"
    }
   ],
   "source": [
    "fig, ax = plt.subplots(figsize=(21,9))\n",
    "fpr,tpr,thresold = roc_curve(y_test,y_pred)\n",
    "auc = roc_auc_score(y_test,y_pred)\n",
    "plt.plot(fpr,tpr)\n",
    "plt.text(x=.2,y=.95,s=auc)"
   ]
  },
  {
   "cell_type": "markdown",
   "metadata": {},
   "source": [
    "Some Extra Codes! Overlook and focus on work on Hand"
   ]
  },
  {
   "cell_type": "code",
   "execution_count": 267,
   "metadata": {},
   "outputs": [],
   "source": [
    "#plt.figure(figsize=(15,7))\n",
    "#plt.figure(clf_df, filled=True, rounded=True, class_names=[\"No\",\"Yes\"], feature_names = X_encoded.columns)"
   ]
  },
  {
   "cell_type": "code",
   "execution_count": 1,
   "metadata": {
    "scrolled": true
   },
   "outputs": [],
   "source": [
    "# plt.rcParams['figure.figsize']=[15,8]\n",
    "# plot_confusion_matrix(clf_df,X_test,y_test,display_labels=[\"No\",\"Yes\"])"
   ]
  },
  {
   "cell_type": "markdown",
   "metadata": {},
   "source": [
    "All Codes trying for Displaying a Decision Tree  \n",
    "Trying but not having a proper Output, YET !!!!! No worries, You will get it, keep working !"
   ]
  },
  {
   "cell_type": "code",
   "execution_count": 269,
   "metadata": {},
   "outputs": [],
   "source": [
    "# path = clf_df.cost_complexity_pruning_path(X_train,y_train) \n",
    "# ccp_alphas = path.ccp_alphas\n",
    "# ccp_alphas = ccp_alphas[:-1]\n",
    "\n",
    "# clf_dfs = []\n",
    "\n",
    "# for ccp_alpha in ccp_alphas :\n",
    "#     clf_df = DecisionTreeClassifier(random_state=123, ccp_alpha=ccp_alpha)\n",
    "#     clf_df.fit(X_train,y_train)\n",
    "#     clf_dfs.append(clf_df)"
   ]
  },
  {
   "cell_type": "code",
   "execution_count": 270,
   "metadata": {},
   "outputs": [],
   "source": [
    "# train_scores = [clf_df.score(X_train, y_train) for clf_df in clf_dfs]\n",
    "# test_scores = [clf_df.score(X_test, y_test) for clf_df in clf_dfs]\n",
    "\n",
    "# fig, ax = plt.subplots()\n",
    "# ax.set_xlabel(\"alpha\")\n",
    "# ax.set_xlabel(\"accuracy\")\n",
    "# ax.set_title(\"Accuracy vs alpha for training and testing sets\")\n",
    "# ax.plot(ccp_alphas, train_scores, marker='o', label=\"train\", drawstyle=\"steps-post\")\n",
    "# ax.plot(ccp_alphas, test_scores, marker='o', label=\"test\", drawstyle=\"steps-post\")\n",
    "# ax.legend()\n",
    "# plt.show()"
   ]
  },
  {
   "cell_type": "code",
   "execution_count": 271,
   "metadata": {},
   "outputs": [],
   "source": [
    "# #Create the Treewith ccp_alpha value as 0.001\n",
    "# clf_df = DecisionTreeClassifier(random_state=123, ccp_alpha=0.001)\n",
    "\n",
    "# scores = cross_val_score(clf_df, X_train, y_train, cv=5)\n",
    "# df2 = pd.DataFrame(data={'tree':range(5),'accuracy':scores})\n",
    "\n",
    "# df2.plot(x='tree', y='accuracy', marker='o', linestyle='--')"
   ]
  },
  {
   "cell_type": "code",
   "execution_count": 272,
   "metadata": {
    "scrolled": false
   },
   "outputs": [],
   "source": [
    "# ##Create an array to store results of each values during cross validation\n",
    "# alpha_all_values=[]\n",
    "\n",
    "# ##For each candidate value for alpha, we will run 5-fold cross validation\n",
    "# ##We can then store Mean and Standard Deviation of scores(accuracy) for each call\n",
    "# ## to cross_val_score in alpha_all_values\n",
    "# for ccp_alpha in ccp_alphas:\n",
    "#     clf_df = DecisionTreeClassifier(random_state=123, ccp_alpha=ccp_alpha)\n",
    "#     scores = cross_val_score(clf_df, X_train, y_train, cv=5)\n",
    "#     alpha_all_values.append([ccp_alpha, np.mean(scores), np.std(scores)])\n",
    "\n",
    "# ##Now we can draw a graph of the means and Standard Deviation of the scores\n",
    "# ## for each candidate value for alpha\n",
    "# alpha_results = pd.DataFrame(alpha_all_values, columns=['alpha','mean_accuracy','std'])\n",
    "\n",
    "# alpha_results.plot(x='alpha',y='mean_accuracy',yerr='std',marker='o',linestyle='--')"
   ]
  },
  {
   "cell_type": "markdown",
   "metadata": {},
   "source": [
    "Dont forget to work on this code again!!! You are already 1-day short !!! "
   ]
  },
  {
   "cell_type": "markdown",
   "metadata": {},
   "source": [
    "# Logistic Regression (Classification) - Bank-additional-full.csv"
   ]
  },
  {
   "cell_type": "markdown",
   "metadata": {},
   "source": [
    "### Program"
   ]
  },
  {
   "cell_type": "markdown",
   "metadata": {},
   "source": [
    "The main code section starts from here"
   ]
  },
  {
   "cell_type": "code",
   "execution_count": 273,
   "metadata": {},
   "outputs": [],
   "source": [
    "##Reading the csv file\n",
    "df=pd.read_csv('bank-additional-full.csv',sep=\";\")\n",
    "pd.options.display.max_columns=10000"
   ]
  },
  {
   "cell_type": "code",
   "execution_count": 274,
   "metadata": {
    "scrolled": true
   },
   "outputs": [
    {
     "data": {
      "text/html": [
       "<div>\n",
       "<style scoped>\n",
       "    .dataframe tbody tr th:only-of-type {\n",
       "        vertical-align: middle;\n",
       "    }\n",
       "\n",
       "    .dataframe tbody tr th {\n",
       "        vertical-align: top;\n",
       "    }\n",
       "\n",
       "    .dataframe thead th {\n",
       "        text-align: right;\n",
       "    }\n",
       "</style>\n",
       "<table border=\"1\" class=\"dataframe\">\n",
       "  <thead>\n",
       "    <tr style=\"text-align: right;\">\n",
       "      <th></th>\n",
       "      <th>age</th>\n",
       "      <th>job</th>\n",
       "      <th>marital</th>\n",
       "      <th>education</th>\n",
       "      <th>default</th>\n",
       "      <th>housing</th>\n",
       "      <th>loan</th>\n",
       "      <th>contact</th>\n",
       "      <th>month</th>\n",
       "      <th>day_of_week</th>\n",
       "      <th>duration</th>\n",
       "      <th>campaign</th>\n",
       "      <th>pdays</th>\n",
       "      <th>previous</th>\n",
       "      <th>poutcome</th>\n",
       "      <th>emp.var.rate</th>\n",
       "      <th>cons.price.idx</th>\n",
       "      <th>cons.conf.idx</th>\n",
       "      <th>euribor3m</th>\n",
       "      <th>nr.employed</th>\n",
       "      <th>y</th>\n",
       "    </tr>\n",
       "  </thead>\n",
       "  <tbody>\n",
       "    <tr>\n",
       "      <th>0</th>\n",
       "      <td>56</td>\n",
       "      <td>housemaid</td>\n",
       "      <td>married</td>\n",
       "      <td>basic.4y</td>\n",
       "      <td>no</td>\n",
       "      <td>no</td>\n",
       "      <td>no</td>\n",
       "      <td>telephone</td>\n",
       "      <td>may</td>\n",
       "      <td>mon</td>\n",
       "      <td>261</td>\n",
       "      <td>1</td>\n",
       "      <td>999</td>\n",
       "      <td>0</td>\n",
       "      <td>nonexistent</td>\n",
       "      <td>1.1</td>\n",
       "      <td>93.994</td>\n",
       "      <td>-36.4</td>\n",
       "      <td>4.857</td>\n",
       "      <td>5191.0</td>\n",
       "      <td>no</td>\n",
       "    </tr>\n",
       "    <tr>\n",
       "      <th>1</th>\n",
       "      <td>57</td>\n",
       "      <td>services</td>\n",
       "      <td>married</td>\n",
       "      <td>high.school</td>\n",
       "      <td>unknown</td>\n",
       "      <td>no</td>\n",
       "      <td>no</td>\n",
       "      <td>telephone</td>\n",
       "      <td>may</td>\n",
       "      <td>mon</td>\n",
       "      <td>149</td>\n",
       "      <td>1</td>\n",
       "      <td>999</td>\n",
       "      <td>0</td>\n",
       "      <td>nonexistent</td>\n",
       "      <td>1.1</td>\n",
       "      <td>93.994</td>\n",
       "      <td>-36.4</td>\n",
       "      <td>4.857</td>\n",
       "      <td>5191.0</td>\n",
       "      <td>no</td>\n",
       "    </tr>\n",
       "    <tr>\n",
       "      <th>2</th>\n",
       "      <td>37</td>\n",
       "      <td>services</td>\n",
       "      <td>married</td>\n",
       "      <td>high.school</td>\n",
       "      <td>no</td>\n",
       "      <td>yes</td>\n",
       "      <td>no</td>\n",
       "      <td>telephone</td>\n",
       "      <td>may</td>\n",
       "      <td>mon</td>\n",
       "      <td>226</td>\n",
       "      <td>1</td>\n",
       "      <td>999</td>\n",
       "      <td>0</td>\n",
       "      <td>nonexistent</td>\n",
       "      <td>1.1</td>\n",
       "      <td>93.994</td>\n",
       "      <td>-36.4</td>\n",
       "      <td>4.857</td>\n",
       "      <td>5191.0</td>\n",
       "      <td>no</td>\n",
       "    </tr>\n",
       "    <tr>\n",
       "      <th>3</th>\n",
       "      <td>40</td>\n",
       "      <td>admin.</td>\n",
       "      <td>married</td>\n",
       "      <td>basic.6y</td>\n",
       "      <td>no</td>\n",
       "      <td>no</td>\n",
       "      <td>no</td>\n",
       "      <td>telephone</td>\n",
       "      <td>may</td>\n",
       "      <td>mon</td>\n",
       "      <td>151</td>\n",
       "      <td>1</td>\n",
       "      <td>999</td>\n",
       "      <td>0</td>\n",
       "      <td>nonexistent</td>\n",
       "      <td>1.1</td>\n",
       "      <td>93.994</td>\n",
       "      <td>-36.4</td>\n",
       "      <td>4.857</td>\n",
       "      <td>5191.0</td>\n",
       "      <td>no</td>\n",
       "    </tr>\n",
       "    <tr>\n",
       "      <th>4</th>\n",
       "      <td>56</td>\n",
       "      <td>services</td>\n",
       "      <td>married</td>\n",
       "      <td>high.school</td>\n",
       "      <td>no</td>\n",
       "      <td>no</td>\n",
       "      <td>yes</td>\n",
       "      <td>telephone</td>\n",
       "      <td>may</td>\n",
       "      <td>mon</td>\n",
       "      <td>307</td>\n",
       "      <td>1</td>\n",
       "      <td>999</td>\n",
       "      <td>0</td>\n",
       "      <td>nonexistent</td>\n",
       "      <td>1.1</td>\n",
       "      <td>93.994</td>\n",
       "      <td>-36.4</td>\n",
       "      <td>4.857</td>\n",
       "      <td>5191.0</td>\n",
       "      <td>no</td>\n",
       "    </tr>\n",
       "    <tr>\n",
       "      <th>5</th>\n",
       "      <td>45</td>\n",
       "      <td>services</td>\n",
       "      <td>married</td>\n",
       "      <td>basic.9y</td>\n",
       "      <td>unknown</td>\n",
       "      <td>no</td>\n",
       "      <td>no</td>\n",
       "      <td>telephone</td>\n",
       "      <td>may</td>\n",
       "      <td>mon</td>\n",
       "      <td>198</td>\n",
       "      <td>1</td>\n",
       "      <td>999</td>\n",
       "      <td>0</td>\n",
       "      <td>nonexistent</td>\n",
       "      <td>1.1</td>\n",
       "      <td>93.994</td>\n",
       "      <td>-36.4</td>\n",
       "      <td>4.857</td>\n",
       "      <td>5191.0</td>\n",
       "      <td>no</td>\n",
       "    </tr>\n",
       "    <tr>\n",
       "      <th>6</th>\n",
       "      <td>59</td>\n",
       "      <td>admin.</td>\n",
       "      <td>married</td>\n",
       "      <td>professional.course</td>\n",
       "      <td>no</td>\n",
       "      <td>no</td>\n",
       "      <td>no</td>\n",
       "      <td>telephone</td>\n",
       "      <td>may</td>\n",
       "      <td>mon</td>\n",
       "      <td>139</td>\n",
       "      <td>1</td>\n",
       "      <td>999</td>\n",
       "      <td>0</td>\n",
       "      <td>nonexistent</td>\n",
       "      <td>1.1</td>\n",
       "      <td>93.994</td>\n",
       "      <td>-36.4</td>\n",
       "      <td>4.857</td>\n",
       "      <td>5191.0</td>\n",
       "      <td>no</td>\n",
       "    </tr>\n",
       "    <tr>\n",
       "      <th>7</th>\n",
       "      <td>41</td>\n",
       "      <td>blue-collar</td>\n",
       "      <td>married</td>\n",
       "      <td>unknown</td>\n",
       "      <td>unknown</td>\n",
       "      <td>no</td>\n",
       "      <td>no</td>\n",
       "      <td>telephone</td>\n",
       "      <td>may</td>\n",
       "      <td>mon</td>\n",
       "      <td>217</td>\n",
       "      <td>1</td>\n",
       "      <td>999</td>\n",
       "      <td>0</td>\n",
       "      <td>nonexistent</td>\n",
       "      <td>1.1</td>\n",
       "      <td>93.994</td>\n",
       "      <td>-36.4</td>\n",
       "      <td>4.857</td>\n",
       "      <td>5191.0</td>\n",
       "      <td>no</td>\n",
       "    </tr>\n",
       "    <tr>\n",
       "      <th>8</th>\n",
       "      <td>24</td>\n",
       "      <td>technician</td>\n",
       "      <td>single</td>\n",
       "      <td>professional.course</td>\n",
       "      <td>no</td>\n",
       "      <td>yes</td>\n",
       "      <td>no</td>\n",
       "      <td>telephone</td>\n",
       "      <td>may</td>\n",
       "      <td>mon</td>\n",
       "      <td>380</td>\n",
       "      <td>1</td>\n",
       "      <td>999</td>\n",
       "      <td>0</td>\n",
       "      <td>nonexistent</td>\n",
       "      <td>1.1</td>\n",
       "      <td>93.994</td>\n",
       "      <td>-36.4</td>\n",
       "      <td>4.857</td>\n",
       "      <td>5191.0</td>\n",
       "      <td>no</td>\n",
       "    </tr>\n",
       "    <tr>\n",
       "      <th>9</th>\n",
       "      <td>25</td>\n",
       "      <td>services</td>\n",
       "      <td>single</td>\n",
       "      <td>high.school</td>\n",
       "      <td>no</td>\n",
       "      <td>yes</td>\n",
       "      <td>no</td>\n",
       "      <td>telephone</td>\n",
       "      <td>may</td>\n",
       "      <td>mon</td>\n",
       "      <td>50</td>\n",
       "      <td>1</td>\n",
       "      <td>999</td>\n",
       "      <td>0</td>\n",
       "      <td>nonexistent</td>\n",
       "      <td>1.1</td>\n",
       "      <td>93.994</td>\n",
       "      <td>-36.4</td>\n",
       "      <td>4.857</td>\n",
       "      <td>5191.0</td>\n",
       "      <td>no</td>\n",
       "    </tr>\n",
       "  </tbody>\n",
       "</table>\n",
       "</div>"
      ],
      "text/plain": [
       "   age          job  marital            education  default housing loan  \\\n",
       "0   56    housemaid  married             basic.4y       no      no   no   \n",
       "1   57     services  married          high.school  unknown      no   no   \n",
       "2   37     services  married          high.school       no     yes   no   \n",
       "3   40       admin.  married             basic.6y       no      no   no   \n",
       "4   56     services  married          high.school       no      no  yes   \n",
       "5   45     services  married             basic.9y  unknown      no   no   \n",
       "6   59       admin.  married  professional.course       no      no   no   \n",
       "7   41  blue-collar  married              unknown  unknown      no   no   \n",
       "8   24   technician   single  professional.course       no     yes   no   \n",
       "9   25     services   single          high.school       no     yes   no   \n",
       "\n",
       "     contact month day_of_week  duration  campaign  pdays  previous  \\\n",
       "0  telephone   may         mon       261         1    999         0   \n",
       "1  telephone   may         mon       149         1    999         0   \n",
       "2  telephone   may         mon       226         1    999         0   \n",
       "3  telephone   may         mon       151         1    999         0   \n",
       "4  telephone   may         mon       307         1    999         0   \n",
       "5  telephone   may         mon       198         1    999         0   \n",
       "6  telephone   may         mon       139         1    999         0   \n",
       "7  telephone   may         mon       217         1    999         0   \n",
       "8  telephone   may         mon       380         1    999         0   \n",
       "9  telephone   may         mon        50         1    999         0   \n",
       "\n",
       "      poutcome  emp.var.rate  cons.price.idx  cons.conf.idx  euribor3m  \\\n",
       "0  nonexistent           1.1          93.994          -36.4      4.857   \n",
       "1  nonexistent           1.1          93.994          -36.4      4.857   \n",
       "2  nonexistent           1.1          93.994          -36.4      4.857   \n",
       "3  nonexistent           1.1          93.994          -36.4      4.857   \n",
       "4  nonexistent           1.1          93.994          -36.4      4.857   \n",
       "5  nonexistent           1.1          93.994          -36.4      4.857   \n",
       "6  nonexistent           1.1          93.994          -36.4      4.857   \n",
       "7  nonexistent           1.1          93.994          -36.4      4.857   \n",
       "8  nonexistent           1.1          93.994          -36.4      4.857   \n",
       "9  nonexistent           1.1          93.994          -36.4      4.857   \n",
       "\n",
       "   nr.employed   y  \n",
       "0       5191.0  no  \n",
       "1       5191.0  no  \n",
       "2       5191.0  no  \n",
       "3       5191.0  no  \n",
       "4       5191.0  no  \n",
       "5       5191.0  no  \n",
       "6       5191.0  no  \n",
       "7       5191.0  no  \n",
       "8       5191.0  no  \n",
       "9       5191.0  no  "
      ]
     },
     "execution_count": 274,
     "metadata": {},
     "output_type": "execute_result"
    }
   ],
   "source": [
    "##Printing top 10 data from the csv\n",
    "df.head(10)"
   ]
  },
  {
   "cell_type": "markdown",
   "metadata": {},
   "source": [
    "Note: We can easily verify the data given in the dataframe above"
   ]
  },
  {
   "cell_type": "code",
   "execution_count": 275,
   "metadata": {},
   "outputs": [
    {
     "data": {
      "text/plain": [
       "age                 int64\n",
       "job                object\n",
       "marital            object\n",
       "education          object\n",
       "default            object\n",
       "housing            object\n",
       "loan               object\n",
       "contact            object\n",
       "month              object\n",
       "day_of_week        object\n",
       "duration            int64\n",
       "campaign            int64\n",
       "pdays               int64\n",
       "previous            int64\n",
       "poutcome           object\n",
       "emp.var.rate      float64\n",
       "cons.price.idx    float64\n",
       "cons.conf.idx     float64\n",
       "euribor3m         float64\n",
       "nr.employed       float64\n",
       "y                  object\n",
       "dtype: object"
      ]
     },
     "execution_count": 275,
     "metadata": {},
     "output_type": "execute_result"
    }
   ],
   "source": [
    "##Having a look at all the datatypes present in the DataFrame\n",
    "df.dtypes"
   ]
  },
  {
   "cell_type": "code",
   "execution_count": 276,
   "metadata": {},
   "outputs": [
    {
     "name": "stdout",
     "output_type": "stream",
     "text": [
      "['no' 'yes']\n"
     ]
    }
   ],
   "source": [
    "##Checking the unique values in the Dataframe present\n",
    "show_unique(df['y'])"
   ]
  },
  {
   "cell_type": "code",
   "execution_count": 277,
   "metadata": {
    "scrolled": false
   },
   "outputs": [
    {
     "data": {
      "image/png": "[encoded data removed]",
      "text/plain": [
       "<Figure size 1080x576 with 12 Axes>"
      ]
     },
     "metadata": {
      "needs_background": "light"
     },
     "output_type": "display_data"
    }
   ],
   "source": [
    "df.hist()\n",
    "plt.show()"
   ]
  },
  {
   "cell_type": "code",
   "execution_count": 278,
   "metadata": {
    "scrolled": true
   },
   "outputs": [
    {
     "data": {
      "text/plain": [
       "0    36548\n",
       "1     4640\n",
       "Name: y, dtype: int64"
      ]
     },
     "execution_count": 278,
     "metadata": {},
     "output_type": "execute_result"
    }
   ],
   "source": [
    "##Changing 'yes' to 1 and 'no' to 0, because target variable has to be a numerical variable\n",
    "df.loc[df['y'] == 'yes', 'y'] = 1\n",
    "df.loc[df['y'] == 'no', 'y'] = 0\n",
    "##Cast datas of 'y' columns into int64 datatype\n",
    "df['y']=df['y'].astype('int64')\n",
    "##Verifying the changes\n",
    "df['y'].value_counts()"
   ]
  },
  {
   "cell_type": "code",
   "execution_count": 279,
   "metadata": {},
   "outputs": [
    {
     "data": {
      "text/plain": [
       "dtype('int64')"
      ]
     },
     "execution_count": 279,
     "metadata": {},
     "output_type": "execute_result"
    }
   ],
   "source": [
    "df['y'].dtypes"
   ]
  },
  {
   "cell_type": "markdown",
   "metadata": {},
   "source": [
    "Separating the Independent and Target Variables into X,y, respectively"
   ]
  },
  {
   "cell_type": "code",
   "execution_count": 280,
   "metadata": {},
   "outputs": [],
   "source": [
    "#Creating Target and Independent variables\n",
    "X=df.drop('y', axis=1)\n",
    "y=df['y']"
   ]
  },
  {
   "cell_type": "code",
   "execution_count": 281,
   "metadata": {},
   "outputs": [],
   "source": [
    "df_cat = X.select_dtypes(include=['object','category'])\n",
    "df_num = X.select_dtypes(exclude=['object','category'])"
   ]
  },
  {
   "cell_type": "code",
   "execution_count": 282,
   "metadata": {},
   "outputs": [],
   "source": [
    "#Performing Normalisation on the data in df_num(numerical data)\n",
    "df_num = pd.DataFrame(MinMaxScaler().fit_transform(df_num.values), columns=df_num.columns, index=df_num.index)\n"
   ]
  },
  {
   "cell_type": "markdown",
   "metadata": {},
   "source": [
    "Encoding the categorical variables using n-1 Dummy Encoding"
   ]
  },
  {
   "cell_type": "code",
   "execution_count": 283,
   "metadata": {},
   "outputs": [],
   "source": [
    "X_encoded=pd.get_dummies(df_cat,drop_first=True)"
   ]
  },
  {
   "cell_type": "code",
   "execution_count": 284,
   "metadata": {},
   "outputs": [],
   "source": [
    "df_merged_y = pd.concat([df_num,X_encoded],axis=1)\n",
    "df_merged_y = sm.add_constant(df_merged_y)"
   ]
  },
  {
   "cell_type": "code",
   "execution_count": 285,
   "metadata": {},
   "outputs": [],
   "source": [
    "##Splitting the data into training and test data\n",
    "X_train, X_test, y_train, y_test=train_test_split(df_merged_y,y, test_size=0.10, random_state=123)\n",
    "\n",
    "##Create a Decision Tree and fit it into training data\n",
    "#clf_df = DecisionTreeClassifier(random_state=123)\n",
    "#clf_df = clf_df.fit(X_train, y_train)"
   ]
  },
  {
   "cell_type": "code",
   "execution_count": 286,
   "metadata": {},
   "outputs": [
    {
     "data": {
      "text/plain": [
       "(       const       age  duration  campaign  pdays  previous  emp.var.rate  \\\n",
       " 27567    1.0  0.444444  0.144571  0.018182    1.0  0.000000      0.687500   \n",
       " 17288    1.0  0.308642  0.025620  0.036364    1.0  0.000000      1.000000   \n",
       " 36426    1.0  0.370370  0.044937  0.000000    1.0  0.000000      0.104167   \n",
       " 4230     1.0  0.432099  0.028467  0.000000    1.0  0.000000      0.937500   \n",
       " 29659    1.0  0.432099  0.019317  0.018182    1.0  0.000000      0.333333   \n",
       " ...      ...       ...       ...       ...    ...       ...           ...   \n",
       " 7763     1.0  0.111111  0.014640  0.036364    1.0  0.000000      1.000000   \n",
       " 15377    1.0  0.320988  0.045954  0.000000    1.0  0.000000      1.000000   \n",
       " 17730    1.0  0.456790  0.044327  0.000000    1.0  0.000000      1.000000   \n",
       " 28030    1.0  0.271605  0.121594  0.018182    1.0  0.285714      0.333333   \n",
       " 15725    1.0  0.234568  0.173648  0.000000    1.0  0.000000      1.000000   \n",
       " \n",
       "        cons.price.idx  cons.conf.idx  euribor3m  nr.employed  job_blue-collar  \\\n",
       " 27567        0.389322       0.368201   0.767853     0.877883                0   \n",
       " 17288        0.669135       0.338912   0.981183     1.000000                0   \n",
       " 36426        0.296960       0.418410   0.142371     0.425709                0   \n",
       " 4230         0.698753       0.602510   0.957153     0.859735                0   \n",
       " 29659        0.340608       0.154812   0.174790     0.512287                0   \n",
       " ...               ...            ...        ...          ...              ...   \n",
       " 7763         0.882307       0.376569   0.959193     1.000000                0   \n",
       " 15377        0.669135       0.338912   0.980050     1.000000                1   \n",
       " 17730        0.669135       0.338912   0.980957     1.000000                0   \n",
       " 28030        0.340608       0.154812   0.192473     0.512287                0   \n",
       " 15725        0.669135       0.338912   0.980730     1.000000                0   \n",
       " \n",
       "        job_entrepreneur  job_housemaid  job_management  job_retired  \\\n",
       " 27567                 0              0               0            1   \n",
       " 17288                 0              0               0            0   \n",
       " 36426                 0              0               0            0   \n",
       " 4230                  0              0               0            0   \n",
       " 29659                 0              0               0            0   \n",
       " ...                 ...            ...             ...          ...   \n",
       " 7763                  0              0               1            0   \n",
       " 15377                 0              0               0            0   \n",
       " 17730                 0              0               1            0   \n",
       " 28030                 0              0               0            0   \n",
       " 15725                 0              0               0            0   \n",
       " \n",
       "        job_self-employed  job_services  job_student  job_technician  \\\n",
       " 27567                  0             0            0               0   \n",
       " 17288                  1             0            0               0   \n",
       " 36426                  0             0            0               1   \n",
       " 4230                   0             1            0               0   \n",
       " 29659                  0             0            0               0   \n",
       " ...                  ...           ...          ...             ...   \n",
       " 7763                   0             0            0               0   \n",
       " 15377                  0             0            0               0   \n",
       " 17730                  0             0            0               0   \n",
       " 28030                  0             1            0               0   \n",
       " 15725                  0             0            0               1   \n",
       " \n",
       "        job_unemployed  job_unknown  marital_married  marital_single  \\\n",
       " 27567               0            0                1               0   \n",
       " 17288               0            0                1               0   \n",
       " 36426               0            0                0               0   \n",
       " 4230                0            0                1               0   \n",
       " 29659               0            0                1               0   \n",
       " ...               ...          ...              ...             ...   \n",
       " 7763                0            0                0               1   \n",
       " 15377               0            0                1               0   \n",
       " 17730               0            0                1               0   \n",
       " 28030               0            0                1               0   \n",
       " 15725               0            0                1               0   \n",
       " \n",
       "        marital_unknown  education_basic.6y  education_basic.9y  \\\n",
       " 27567                0                   0                   0   \n",
       " 17288                0                   0                   0   \n",
       " 36426                0                   0                   0   \n",
       " 4230                 0                   0                   0   \n",
       " 29659                0                   0                   0   \n",
       " ...                ...                 ...                 ...   \n",
       " 7763                 0                   0                   0   \n",
       " 15377                0                   0                   1   \n",
       " 17730                0                   0                   0   \n",
       " 28030                0                   0                   0   \n",
       " 15725                0                   0                   0   \n",
       " \n",
       "        education_high.school  education_illiterate  \\\n",
       " 27567                      1                     0   \n",
       " 17288                      0                     0   \n",
       " 36426                      1                     0   \n",
       " 4230                       1                     0   \n",
       " 29659                      0                     0   \n",
       " ...                      ...                   ...   \n",
       " 7763                       0                     0   \n",
       " 15377                      0                     0   \n",
       " 17730                      0                     0   \n",
       " 28030                      1                     0   \n",
       " 15725                      0                     0   \n",
       " \n",
       "        education_professional.course  education_university.degree  \\\n",
       " 27567                              0                            0   \n",
       " 17288                              0                            0   \n",
       " 36426                              0                            0   \n",
       " 4230                               0                            0   \n",
       " 29659                              0                            1   \n",
       " ...                              ...                          ...   \n",
       " 7763                               0                            1   \n",
       " 15377                              0                            0   \n",
       " 17730                              0                            1   \n",
       " 28030                              0                            0   \n",
       " 15725                              0                            0   \n",
       " \n",
       "        education_unknown  default_unknown  default_yes  housing_unknown  \\\n",
       " 27567                  0                0            0                0   \n",
       " 17288                  0                1            0                0   \n",
       " 36426                  0                0            0                0   \n",
       " 4230                   0                1            0                0   \n",
       " 29659                  0                0            0                0   \n",
       " ...                  ...              ...          ...              ...   \n",
       " 7763                   0                0            0                0   \n",
       " 15377                  0                0            0                0   \n",
       " 17730                  0                0            0                0   \n",
       " 28030                  0                0            0                0   \n",
       " 15725                  0                0            0                0   \n",
       " \n",
       "        housing_yes  loan_unknown  loan_yes  contact_telephone  month_aug  \\\n",
       " 27567            1             0         0                  0          0   \n",
       " 17288            1             0         0                  0          0   \n",
       " 36426            1             0         0                  0          0   \n",
       " 4230             1             0         0                  1          0   \n",
       " 29659            1             0         0                  0          0   \n",
       " ...            ...           ...       ...                ...        ...   \n",
       " 7763             0             0         0                  1          0   \n",
       " 15377            1             0         0                  0          0   \n",
       " 17730            0             0         1                  0          0   \n",
       " 28030            0             0         0                  0          0   \n",
       " 15725            0             0         0                  0          0   \n",
       " \n",
       "        month_dec  month_jul  month_jun  month_mar  month_may  month_nov  \\\n",
       " 27567          0          0          0          0          0          1   \n",
       " 17288          0          1          0          0          0          0   \n",
       " 36426          0          0          1          0          0          0   \n",
       " 4230           0          0          0          0          1          0   \n",
       " 29659          0          0          0          0          0          0   \n",
       " ...          ...        ...        ...        ...        ...        ...   \n",
       " 7763           0          0          1          0          0          0   \n",
       " 15377          0          1          0          0          0          0   \n",
       " 17730          0          1          0          0          0          0   \n",
       " 28030          0          0          0          0          0          0   \n",
       " 15725          0          1          0          0          0          0   \n",
       " \n",
       "        month_oct  month_sep  day_of_week_mon  day_of_week_thu  \\\n",
       " 27567          0          0                0                0   \n",
       " 17288          0          0                0                0   \n",
       " 36426          0          0                0                0   \n",
       " 4230           0          0                0                0   \n",
       " 29659          0          0                1                0   \n",
       " ...          ...        ...              ...              ...   \n",
       " 7763           0          0                1                0   \n",
       " 15377          0          0                0                0   \n",
       " 17730          0          0                0                0   \n",
       " 28030          0          0                0                1   \n",
       " 15725          0          0                1                0   \n",
       " \n",
       "        day_of_week_tue  day_of_week_wed  poutcome_nonexistent  \\\n",
       " 27567                0                0                     1   \n",
       " 17288                0                0                     1   \n",
       " 36426                1                0                     1   \n",
       " 4230                 1                0                     1   \n",
       " 29659                0                0                     1   \n",
       " ...                ...              ...                   ...   \n",
       " 7763                 0                0                     1   \n",
       " 15377                0                0                     1   \n",
       " 17730                1                0                     1   \n",
       " 28030                0                0                     0   \n",
       " 15725                0                0                     1   \n",
       " \n",
       "        poutcome_success  \n",
       " 27567                 0  \n",
       " 17288                 0  \n",
       " 36426                 0  \n",
       " 4230                  0  \n",
       " 29659                 0  \n",
       " ...                 ...  \n",
       " 7763                  0  \n",
       " 15377                 0  \n",
       " 17730                 0  \n",
       " 28030                 0  \n",
       " 15725                 0  \n",
       " \n",
       " [37069 rows x 54 columns],\n",
       " 27567    0\n",
       " 17288    0\n",
       " 36426    0\n",
       " 4230     0\n",
       " 29659    0\n",
       "         ..\n",
       " 7763     0\n",
       " 15377    0\n",
       " 17730    0\n",
       " 28030    0\n",
       " 15725    1\n",
       " Name: y, Length: 37069, dtype: int64,\n",
       "        const       age  duration  campaign  pdays  previous  emp.var.rate  \\\n",
       " 8107     1.0  0.308642  0.044124  0.054545    1.0  0.000000      1.000000   \n",
       " 38463    1.0  0.246914  0.018910  0.000000    1.0  0.000000      0.000000   \n",
       " 1933     1.0  0.296296  0.082757  0.054545    1.0  0.000000      0.937500   \n",
       " 8352     1.0  0.308642  0.043717  0.036364    1.0  0.000000      1.000000   \n",
       " 37164    1.0  0.481481  0.026637  0.072727    1.0  0.142857      0.104167   \n",
       " ...      ...       ...       ...       ...    ...       ...           ...   \n",
       " 7893     1.0  0.271605  0.024807  0.000000    1.0  0.000000      1.000000   \n",
       " 16882    1.0  0.222222  0.024400  0.000000    1.0  0.000000      1.000000   \n",
       " 38129    1.0  0.654321  0.081131  0.018182    1.0  0.000000      0.000000   \n",
       " 3626     1.0  0.345679  0.023790  0.000000    1.0  0.000000      0.937500   \n",
       " 23636    1.0  0.172840  0.210858  0.054545    1.0  0.000000      1.000000   \n",
       " \n",
       "        cons.price.idx  cons.conf.idx  euribor3m  nr.employed  job_blue-collar  \\\n",
       " 8107         0.882307       0.376569   0.959193     1.000000                0   \n",
       " 38463        0.089634       1.000000   0.021764     0.203781                1   \n",
       " 1933         0.698753       0.602510   0.956926     0.859735                1   \n",
       " 8352         0.882307       0.376569   0.958966     1.000000                0   \n",
       " 37164        0.000000       0.811715   0.056676     0.425709                0   \n",
       " ...               ...            ...        ...          ...              ...   \n",
       " 7893         0.882307       0.376569   0.959193     1.000000                0   \n",
       " 16882        0.669135       0.338912   0.981183     1.000000                1   \n",
       " 38129        0.069369       0.878661   0.024258     0.203781                0   \n",
       " 3626         0.698753       0.602510   0.957833     0.859735                0   \n",
       " 23636        0.484412       0.615063   0.981183     1.000000                0   \n",
       " \n",
       "        job_entrepreneur  job_housemaid  job_management  job_retired  \\\n",
       " 8107                  0              0               0            0   \n",
       " 38463                 0              0               0            0   \n",
       " 1933                  0              0               0            0   \n",
       " 8352                  0              0               0            0   \n",
       " 37164                 1              0               0            0   \n",
       " ...                 ...            ...             ...          ...   \n",
       " 7893                  1              0               0            0   \n",
       " 16882                 0              0               0            0   \n",
       " 38129                 0              0               0            1   \n",
       " 3626                  0              0               0            0   \n",
       " 23636                 0              0               0            0   \n",
       " \n",
       "        job_self-employed  job_services  job_student  job_technician  \\\n",
       " 8107                   0             1            0               0   \n",
       " 38463                  0             0            0               0   \n",
       " 1933                   0             0            0               0   \n",
       " 8352                   0             0            0               0   \n",
       " 37164                  0             0            0               0   \n",
       " ...                  ...           ...          ...             ...   \n",
       " 7893                   0             0            0               0   \n",
       " 16882                  0             0            0               0   \n",
       " 38129                  0             0            0               0   \n",
       " 3626                   0             0            0               1   \n",
       " 23636                  0             0            0               0   \n",
       " \n",
       "        job_unemployed  job_unknown  marital_married  marital_single  \\\n",
       " 8107                0            0                1               0   \n",
       " 38463               0            0                1               0   \n",
       " 1933                0            0                1               0   \n",
       " 8352                0            0                1               0   \n",
       " 37164               0            0                1               0   \n",
       " ...               ...          ...              ...             ...   \n",
       " 7893                0            0                1               0   \n",
       " 16882               0            0                1               0   \n",
       " 38129               0            0                0               0   \n",
       " 3626                0            0                0               0   \n",
       " 23636               0            0                1               0   \n",
       " \n",
       "        marital_unknown  education_basic.6y  education_basic.9y  \\\n",
       " 8107                 0                   0                   0   \n",
       " 38463                0                   1                   0   \n",
       " 1933                 0                   1                   0   \n",
       " 8352                 0                   0                   0   \n",
       " 37164                0                   0                   0   \n",
       " ...                ...                 ...                 ...   \n",
       " 7893                 0                   0                   0   \n",
       " 16882                0                   0                   0   \n",
       " 38129                0                   0                   0   \n",
       " 3626                 0                   0                   0   \n",
       " 23636                0                   0                   0   \n",
       " \n",
       "        education_high.school  education_illiterate  \\\n",
       " 8107                       1                     0   \n",
       " 38463                      0                     0   \n",
       " 1933                       0                     0   \n",
       " 8352                       0                     0   \n",
       " 37164                      1                     0   \n",
       " ...                      ...                   ...   \n",
       " 7893                       1                     0   \n",
       " 16882                      0                     0   \n",
       " 38129                      0                     0   \n",
       " 3626                       0                     0   \n",
       " 23636                      0                     0   \n",
       " \n",
       "        education_professional.course  education_university.degree  \\\n",
       " 8107                               0                            0   \n",
       " 38463                              0                            0   \n",
       " 1933                               0                            0   \n",
       " 8352                               0                            1   \n",
       " 37164                              0                            0   \n",
       " ...                              ...                          ...   \n",
       " 7893                               0                            0   \n",
       " 16882                              0                            0   \n",
       " 38129                              0                            1   \n",
       " 3626                               1                            0   \n",
       " 23636                              0                            1   \n",
       " \n",
       "        education_unknown  default_unknown  default_yes  housing_unknown  \\\n",
       " 8107                   0                0            0                0   \n",
       " 38463                  0                0            0                1   \n",
       " 1933                   0                1            0                0   \n",
       " 8352                   0                1            0                0   \n",
       " 37164                  0                0            0                0   \n",
       " ...                  ...              ...          ...              ...   \n",
       " 7893                   0                0            0                1   \n",
       " 16882                  1                0            0                0   \n",
       " 38129                  0                0            0                0   \n",
       " 3626                   0                0            0                0   \n",
       " 23636                  0                0            0                0   \n",
       " \n",
       "        housing_yes  loan_unknown  loan_yes  contact_telephone  month_aug  \\\n",
       " 8107             0             0         0                  1          0   \n",
       " 38463            0             1         0                  0          0   \n",
       " 1933             0             0         0                  1          0   \n",
       " 8352             1             0         0                  1          0   \n",
       " 37164            1             0         0                  0          1   \n",
       " ...            ...           ...       ...                ...        ...   \n",
       " 7893             0             1         0                  1          0   \n",
       " 16882            1             0         0                  0          0   \n",
       " 38129            0             0         0                  0          0   \n",
       " 3626             1             0         0                  1          0   \n",
       " 23636            1             0         0                  0          1   \n",
       " \n",
       "        month_dec  month_jul  month_jun  month_mar  month_may  month_nov  \\\n",
       " 8107           0          0          1          0          0          0   \n",
       " 38463          0          0          0          0          0          0   \n",
       " 1933           0          0          0          0          1          0   \n",
       " 8352           0          0          1          0          0          0   \n",
       " 37164          0          0          0          0          0          0   \n",
       " ...          ...        ...        ...        ...        ...        ...   \n",
       " 7893           0          0          1          0          0          0   \n",
       " 16882          0          1          0          0          0          0   \n",
       " 38129          0          0          0          0          0          0   \n",
       " 3626           0          0          0          0          1          0   \n",
       " 23636          0          0          0          0          0          0   \n",
       " \n",
       "        month_oct  month_sep  day_of_week_mon  day_of_week_thu  \\\n",
       " 8107           0          0                1                0   \n",
       " 38463          1          0                0                0   \n",
       " 1933           0          0                0                0   \n",
       " 8352           0          0                0                0   \n",
       " 37164          0          0                0                0   \n",
       " ...          ...        ...              ...              ...   \n",
       " 7893           0          0                1                0   \n",
       " 16882          0          0                0                1   \n",
       " 38129          0          1                0                0   \n",
       " 3626           0          0                0                0   \n",
       " 23636          0          0                0                1   \n",
       " \n",
       "        day_of_week_tue  day_of_week_wed  poutcome_nonexistent  \\\n",
       " 8107                 0                0                     1   \n",
       " 38463                0                0                     1   \n",
       " 1933                 0                0                     1   \n",
       " 8352                 1                0                     1   \n",
       " 37164                0                1                     0   \n",
       " ...                ...              ...                   ...   \n",
       " 7893                 0                0                     1   \n",
       " 16882                0                0                     1   \n",
       " 38129                0                0                     1   \n",
       " 3626                 0                0                     1   \n",
       " 23636                0                0                     1   \n",
       " \n",
       "        poutcome_success  \n",
       " 8107                  0  \n",
       " 38463                 0  \n",
       " 1933                  0  \n",
       " 8352                  0  \n",
       " 37164                 0  \n",
       " ...                 ...  \n",
       " 7893                  0  \n",
       " 16882                 0  \n",
       " 38129                 0  \n",
       " 3626                  0  \n",
       " 23636                 0  \n",
       " \n",
       " [4119 rows x 54 columns],\n",
       " 8107     0\n",
       " 38463    0\n",
       " 1933     0\n",
       " 8352     0\n",
       " 37164    0\n",
       "         ..\n",
       " 7893     0\n",
       " 16882    0\n",
       " 38129    0\n",
       " 3626     0\n",
       " 23636    0\n",
       " Name: y, Length: 4119, dtype: int64)"
      ]
     },
     "execution_count": 286,
     "metadata": {},
     "output_type": "execute_result"
    }
   ],
   "source": [
    "X_train, y_train, X_test, y_test"
   ]
  },
  {
   "cell_type": "code",
   "execution_count": 287,
   "metadata": {},
   "outputs": [
    {
     "data": {
      "text/html": [
       "<div>\n",
       "<style scoped>\n",
       "    .dataframe tbody tr th:only-of-type {\n",
       "        vertical-align: middle;\n",
       "    }\n",
       "\n",
       "    .dataframe tbody tr th {\n",
       "        vertical-align: top;\n",
       "    }\n",
       "\n",
       "    .dataframe thead th {\n",
       "        text-align: right;\n",
       "    }\n",
       "</style>\n",
       "<table border=\"1\" class=\"dataframe\">\n",
       "  <thead>\n",
       "    <tr style=\"text-align: right;\">\n",
       "      <th></th>\n",
       "      <th>const</th>\n",
       "      <th>age</th>\n",
       "      <th>duration</th>\n",
       "      <th>campaign</th>\n",
       "      <th>pdays</th>\n",
       "      <th>previous</th>\n",
       "      <th>emp.var.rate</th>\n",
       "      <th>cons.price.idx</th>\n",
       "      <th>cons.conf.idx</th>\n",
       "      <th>euribor3m</th>\n",
       "      <th>nr.employed</th>\n",
       "      <th>job_blue-collar</th>\n",
       "      <th>job_entrepreneur</th>\n",
       "      <th>job_housemaid</th>\n",
       "      <th>job_management</th>\n",
       "      <th>job_retired</th>\n",
       "      <th>job_self-employed</th>\n",
       "      <th>job_services</th>\n",
       "      <th>job_student</th>\n",
       "      <th>job_technician</th>\n",
       "      <th>job_unemployed</th>\n",
       "      <th>job_unknown</th>\n",
       "      <th>marital_married</th>\n",
       "      <th>marital_single</th>\n",
       "      <th>marital_unknown</th>\n",
       "      <th>education_basic.6y</th>\n",
       "      <th>education_basic.9y</th>\n",
       "      <th>education_high.school</th>\n",
       "      <th>education_illiterate</th>\n",
       "      <th>education_professional.course</th>\n",
       "      <th>education_university.degree</th>\n",
       "      <th>education_unknown</th>\n",
       "      <th>default_unknown</th>\n",
       "      <th>default_yes</th>\n",
       "      <th>housing_unknown</th>\n",
       "      <th>housing_yes</th>\n",
       "      <th>loan_unknown</th>\n",
       "      <th>loan_yes</th>\n",
       "      <th>contact_telephone</th>\n",
       "      <th>month_aug</th>\n",
       "      <th>month_dec</th>\n",
       "      <th>month_jul</th>\n",
       "      <th>month_jun</th>\n",
       "      <th>month_mar</th>\n",
       "      <th>month_may</th>\n",
       "      <th>month_nov</th>\n",
       "      <th>month_oct</th>\n",
       "      <th>month_sep</th>\n",
       "      <th>day_of_week_mon</th>\n",
       "      <th>day_of_week_thu</th>\n",
       "      <th>day_of_week_tue</th>\n",
       "      <th>day_of_week_wed</th>\n",
       "      <th>poutcome_nonexistent</th>\n",
       "      <th>poutcome_success</th>\n",
       "    </tr>\n",
       "  </thead>\n",
       "  <tbody>\n",
       "    <tr>\n",
       "      <th>27567</th>\n",
       "      <td>1.0</td>\n",
       "      <td>0.444444</td>\n",
       "      <td>0.144571</td>\n",
       "      <td>0.018182</td>\n",
       "      <td>1.0</td>\n",
       "      <td>0.000000</td>\n",
       "      <td>0.687500</td>\n",
       "      <td>0.389322</td>\n",
       "      <td>0.368201</td>\n",
       "      <td>0.767853</td>\n",
       "      <td>0.877883</td>\n",
       "      <td>0</td>\n",
       "      <td>0</td>\n",
       "      <td>0</td>\n",
       "      <td>0</td>\n",
       "      <td>1</td>\n",
       "      <td>0</td>\n",
       "      <td>0</td>\n",
       "      <td>0</td>\n",
       "      <td>0</td>\n",
       "      <td>0</td>\n",
       "      <td>0</td>\n",
       "      <td>1</td>\n",
       "      <td>0</td>\n",
       "      <td>0</td>\n",
       "      <td>0</td>\n",
       "      <td>0</td>\n",
       "      <td>1</td>\n",
       "      <td>0</td>\n",
       "      <td>0</td>\n",
       "      <td>0</td>\n",
       "      <td>0</td>\n",
       "      <td>0</td>\n",
       "      <td>0</td>\n",
       "      <td>0</td>\n",
       "      <td>1</td>\n",
       "      <td>0</td>\n",
       "      <td>0</td>\n",
       "      <td>0</td>\n",
       "      <td>0</td>\n",
       "      <td>0</td>\n",
       "      <td>0</td>\n",
       "      <td>0</td>\n",
       "      <td>0</td>\n",
       "      <td>0</td>\n",
       "      <td>1</td>\n",
       "      <td>0</td>\n",
       "      <td>0</td>\n",
       "      <td>0</td>\n",
       "      <td>0</td>\n",
       "      <td>0</td>\n",
       "      <td>0</td>\n",
       "      <td>1</td>\n",
       "      <td>0</td>\n",
       "    </tr>\n",
       "    <tr>\n",
       "      <th>17288</th>\n",
       "      <td>1.0</td>\n",
       "      <td>0.308642</td>\n",
       "      <td>0.025620</td>\n",
       "      <td>0.036364</td>\n",
       "      <td>1.0</td>\n",
       "      <td>0.000000</td>\n",
       "      <td>1.000000</td>\n",
       "      <td>0.669135</td>\n",
       "      <td>0.338912</td>\n",
       "      <td>0.981183</td>\n",
       "      <td>1.000000</td>\n",
       "      <td>0</td>\n",
       "      <td>0</td>\n",
       "      <td>0</td>\n",
       "      <td>0</td>\n",
       "      <td>0</td>\n",
       "      <td>1</td>\n",
       "      <td>0</td>\n",
       "      <td>0</td>\n",
       "      <td>0</td>\n",
       "      <td>0</td>\n",
       "      <td>0</td>\n",
       "      <td>1</td>\n",
       "      <td>0</td>\n",
       "      <td>0</td>\n",
       "      <td>0</td>\n",
       "      <td>0</td>\n",
       "      <td>0</td>\n",
       "      <td>0</td>\n",
       "      <td>0</td>\n",
       "      <td>0</td>\n",
       "      <td>0</td>\n",
       "      <td>1</td>\n",
       "      <td>0</td>\n",
       "      <td>0</td>\n",
       "      <td>1</td>\n",
       "      <td>0</td>\n",
       "      <td>0</td>\n",
       "      <td>0</td>\n",
       "      <td>0</td>\n",
       "      <td>0</td>\n",
       "      <td>1</td>\n",
       "      <td>0</td>\n",
       "      <td>0</td>\n",
       "      <td>0</td>\n",
       "      <td>0</td>\n",
       "      <td>0</td>\n",
       "      <td>0</td>\n",
       "      <td>0</td>\n",
       "      <td>0</td>\n",
       "      <td>0</td>\n",
       "      <td>0</td>\n",
       "      <td>1</td>\n",
       "      <td>0</td>\n",
       "    </tr>\n",
       "    <tr>\n",
       "      <th>36426</th>\n",
       "      <td>1.0</td>\n",
       "      <td>0.370370</td>\n",
       "      <td>0.044937</td>\n",
       "      <td>0.000000</td>\n",
       "      <td>1.0</td>\n",
       "      <td>0.000000</td>\n",
       "      <td>0.104167</td>\n",
       "      <td>0.296960</td>\n",
       "      <td>0.418410</td>\n",
       "      <td>0.142371</td>\n",
       "      <td>0.425709</td>\n",
       "      <td>0</td>\n",
       "      <td>0</td>\n",
       "      <td>0</td>\n",
       "      <td>0</td>\n",
       "      <td>0</td>\n",
       "      <td>0</td>\n",
       "      <td>0</td>\n",
       "      <td>0</td>\n",
       "      <td>1</td>\n",
       "      <td>0</td>\n",
       "      <td>0</td>\n",
       "      <td>0</td>\n",
       "      <td>0</td>\n",
       "      <td>0</td>\n",
       "      <td>0</td>\n",
       "      <td>0</td>\n",
       "      <td>1</td>\n",
       "      <td>0</td>\n",
       "      <td>0</td>\n",
       "      <td>0</td>\n",
       "      <td>0</td>\n",
       "      <td>0</td>\n",
       "      <td>0</td>\n",
       "      <td>0</td>\n",
       "      <td>1</td>\n",
       "      <td>0</td>\n",
       "      <td>0</td>\n",
       "      <td>0</td>\n",
       "      <td>0</td>\n",
       "      <td>0</td>\n",
       "      <td>0</td>\n",
       "      <td>1</td>\n",
       "      <td>0</td>\n",
       "      <td>0</td>\n",
       "      <td>0</td>\n",
       "      <td>0</td>\n",
       "      <td>0</td>\n",
       "      <td>0</td>\n",
       "      <td>0</td>\n",
       "      <td>1</td>\n",
       "      <td>0</td>\n",
       "      <td>1</td>\n",
       "      <td>0</td>\n",
       "    </tr>\n",
       "    <tr>\n",
       "      <th>4230</th>\n",
       "      <td>1.0</td>\n",
       "      <td>0.432099</td>\n",
       "      <td>0.028467</td>\n",
       "      <td>0.000000</td>\n",
       "      <td>1.0</td>\n",
       "      <td>0.000000</td>\n",
       "      <td>0.937500</td>\n",
       "      <td>0.698753</td>\n",
       "      <td>0.602510</td>\n",
       "      <td>0.957153</td>\n",
       "      <td>0.859735</td>\n",
       "      <td>0</td>\n",
       "      <td>0</td>\n",
       "      <td>0</td>\n",
       "      <td>0</td>\n",
       "      <td>0</td>\n",
       "      <td>0</td>\n",
       "      <td>1</td>\n",
       "      <td>0</td>\n",
       "      <td>0</td>\n",
       "      <td>0</td>\n",
       "      <td>0</td>\n",
       "      <td>1</td>\n",
       "      <td>0</td>\n",
       "      <td>0</td>\n",
       "      <td>0</td>\n",
       "      <td>0</td>\n",
       "      <td>1</td>\n",
       "      <td>0</td>\n",
       "      <td>0</td>\n",
       "      <td>0</td>\n",
       "      <td>0</td>\n",
       "      <td>1</td>\n",
       "      <td>0</td>\n",
       "      <td>0</td>\n",
       "      <td>1</td>\n",
       "      <td>0</td>\n",
       "      <td>0</td>\n",
       "      <td>1</td>\n",
       "      <td>0</td>\n",
       "      <td>0</td>\n",
       "      <td>0</td>\n",
       "      <td>0</td>\n",
       "      <td>0</td>\n",
       "      <td>1</td>\n",
       "      <td>0</td>\n",
       "      <td>0</td>\n",
       "      <td>0</td>\n",
       "      <td>0</td>\n",
       "      <td>0</td>\n",
       "      <td>1</td>\n",
       "      <td>0</td>\n",
       "      <td>1</td>\n",
       "      <td>0</td>\n",
       "    </tr>\n",
       "    <tr>\n",
       "      <th>29659</th>\n",
       "      <td>1.0</td>\n",
       "      <td>0.432099</td>\n",
       "      <td>0.019317</td>\n",
       "      <td>0.018182</td>\n",
       "      <td>1.0</td>\n",
       "      <td>0.000000</td>\n",
       "      <td>0.333333</td>\n",
       "      <td>0.340608</td>\n",
       "      <td>0.154812</td>\n",
       "      <td>0.174790</td>\n",
       "      <td>0.512287</td>\n",
       "      <td>0</td>\n",
       "      <td>0</td>\n",
       "      <td>0</td>\n",
       "      <td>0</td>\n",
       "      <td>0</td>\n",
       "      <td>0</td>\n",
       "      <td>0</td>\n",
       "      <td>0</td>\n",
       "      <td>0</td>\n",
       "      <td>0</td>\n",
       "      <td>0</td>\n",
       "      <td>1</td>\n",
       "      <td>0</td>\n",
       "      <td>0</td>\n",
       "      <td>0</td>\n",
       "      <td>0</td>\n",
       "      <td>0</td>\n",
       "      <td>0</td>\n",
       "      <td>0</td>\n",
       "      <td>1</td>\n",
       "      <td>0</td>\n",
       "      <td>0</td>\n",
       "      <td>0</td>\n",
       "      <td>0</td>\n",
       "      <td>1</td>\n",
       "      <td>0</td>\n",
       "      <td>0</td>\n",
       "      <td>0</td>\n",
       "      <td>0</td>\n",
       "      <td>0</td>\n",
       "      <td>0</td>\n",
       "      <td>0</td>\n",
       "      <td>0</td>\n",
       "      <td>0</td>\n",
       "      <td>0</td>\n",
       "      <td>0</td>\n",
       "      <td>0</td>\n",
       "      <td>1</td>\n",
       "      <td>0</td>\n",
       "      <td>0</td>\n",
       "      <td>0</td>\n",
       "      <td>1</td>\n",
       "      <td>0</td>\n",
       "    </tr>\n",
       "    <tr>\n",
       "      <th>...</th>\n",
       "      <td>...</td>\n",
       "      <td>...</td>\n",
       "      <td>...</td>\n",
       "      <td>...</td>\n",
       "      <td>...</td>\n",
       "      <td>...</td>\n",
       "      <td>...</td>\n",
       "      <td>...</td>\n",
       "      <td>...</td>\n",
       "      <td>...</td>\n",
       "      <td>...</td>\n",
       "      <td>...</td>\n",
       "      <td>...</td>\n",
       "      <td>...</td>\n",
       "      <td>...</td>\n",
       "      <td>...</td>\n",
       "      <td>...</td>\n",
       "      <td>...</td>\n",
       "      <td>...</td>\n",
       "      <td>...</td>\n",
       "      <td>...</td>\n",
       "      <td>...</td>\n",
       "      <td>...</td>\n",
       "      <td>...</td>\n",
       "      <td>...</td>\n",
       "      <td>...</td>\n",
       "      <td>...</td>\n",
       "      <td>...</td>\n",
       "      <td>...</td>\n",
       "      <td>...</td>\n",
       "      <td>...</td>\n",
       "      <td>...</td>\n",
       "      <td>...</td>\n",
       "      <td>...</td>\n",
       "      <td>...</td>\n",
       "      <td>...</td>\n",
       "      <td>...</td>\n",
       "      <td>...</td>\n",
       "      <td>...</td>\n",
       "      <td>...</td>\n",
       "      <td>...</td>\n",
       "      <td>...</td>\n",
       "      <td>...</td>\n",
       "      <td>...</td>\n",
       "      <td>...</td>\n",
       "      <td>...</td>\n",
       "      <td>...</td>\n",
       "      <td>...</td>\n",
       "      <td>...</td>\n",
       "      <td>...</td>\n",
       "      <td>...</td>\n",
       "      <td>...</td>\n",
       "      <td>...</td>\n",
       "      <td>...</td>\n",
       "    </tr>\n",
       "    <tr>\n",
       "      <th>7763</th>\n",
       "      <td>1.0</td>\n",
       "      <td>0.111111</td>\n",
       "      <td>0.014640</td>\n",
       "      <td>0.036364</td>\n",
       "      <td>1.0</td>\n",
       "      <td>0.000000</td>\n",
       "      <td>1.000000</td>\n",
       "      <td>0.882307</td>\n",
       "      <td>0.376569</td>\n",
       "      <td>0.959193</td>\n",
       "      <td>1.000000</td>\n",
       "      <td>0</td>\n",
       "      <td>0</td>\n",
       "      <td>0</td>\n",
       "      <td>1</td>\n",
       "      <td>0</td>\n",
       "      <td>0</td>\n",
       "      <td>0</td>\n",
       "      <td>0</td>\n",
       "      <td>0</td>\n",
       "      <td>0</td>\n",
       "      <td>0</td>\n",
       "      <td>0</td>\n",
       "      <td>1</td>\n",
       "      <td>0</td>\n",
       "      <td>0</td>\n",
       "      <td>0</td>\n",
       "      <td>0</td>\n",
       "      <td>0</td>\n",
       "      <td>0</td>\n",
       "      <td>1</td>\n",
       "      <td>0</td>\n",
       "      <td>0</td>\n",
       "      <td>0</td>\n",
       "      <td>0</td>\n",
       "      <td>0</td>\n",
       "      <td>0</td>\n",
       "      <td>0</td>\n",
       "      <td>1</td>\n",
       "      <td>0</td>\n",
       "      <td>0</td>\n",
       "      <td>0</td>\n",
       "      <td>1</td>\n",
       "      <td>0</td>\n",
       "      <td>0</td>\n",
       "      <td>0</td>\n",
       "      <td>0</td>\n",
       "      <td>0</td>\n",
       "      <td>1</td>\n",
       "      <td>0</td>\n",
       "      <td>0</td>\n",
       "      <td>0</td>\n",
       "      <td>1</td>\n",
       "      <td>0</td>\n",
       "    </tr>\n",
       "    <tr>\n",
       "      <th>15377</th>\n",
       "      <td>1.0</td>\n",
       "      <td>0.320988</td>\n",
       "      <td>0.045954</td>\n",
       "      <td>0.000000</td>\n",
       "      <td>1.0</td>\n",
       "      <td>0.000000</td>\n",
       "      <td>1.000000</td>\n",
       "      <td>0.669135</td>\n",
       "      <td>0.338912</td>\n",
       "      <td>0.980050</td>\n",
       "      <td>1.000000</td>\n",
       "      <td>1</td>\n",
       "      <td>0</td>\n",
       "      <td>0</td>\n",
       "      <td>0</td>\n",
       "      <td>0</td>\n",
       "      <td>0</td>\n",
       "      <td>0</td>\n",
       "      <td>0</td>\n",
       "      <td>0</td>\n",
       "      <td>0</td>\n",
       "      <td>0</td>\n",
       "      <td>1</td>\n",
       "      <td>0</td>\n",
       "      <td>0</td>\n",
       "      <td>0</td>\n",
       "      <td>1</td>\n",
       "      <td>0</td>\n",
       "      <td>0</td>\n",
       "      <td>0</td>\n",
       "      <td>0</td>\n",
       "      <td>0</td>\n",
       "      <td>0</td>\n",
       "      <td>0</td>\n",
       "      <td>0</td>\n",
       "      <td>1</td>\n",
       "      <td>0</td>\n",
       "      <td>0</td>\n",
       "      <td>0</td>\n",
       "      <td>0</td>\n",
       "      <td>0</td>\n",
       "      <td>1</td>\n",
       "      <td>0</td>\n",
       "      <td>0</td>\n",
       "      <td>0</td>\n",
       "      <td>0</td>\n",
       "      <td>0</td>\n",
       "      <td>0</td>\n",
       "      <td>0</td>\n",
       "      <td>0</td>\n",
       "      <td>0</td>\n",
       "      <td>0</td>\n",
       "      <td>1</td>\n",
       "      <td>0</td>\n",
       "    </tr>\n",
       "    <tr>\n",
       "      <th>17730</th>\n",
       "      <td>1.0</td>\n",
       "      <td>0.456790</td>\n",
       "      <td>0.044327</td>\n",
       "      <td>0.000000</td>\n",
       "      <td>1.0</td>\n",
       "      <td>0.000000</td>\n",
       "      <td>1.000000</td>\n",
       "      <td>0.669135</td>\n",
       "      <td>0.338912</td>\n",
       "      <td>0.980957</td>\n",
       "      <td>1.000000</td>\n",
       "      <td>0</td>\n",
       "      <td>0</td>\n",
       "      <td>0</td>\n",
       "      <td>1</td>\n",
       "      <td>0</td>\n",
       "      <td>0</td>\n",
       "      <td>0</td>\n",
       "      <td>0</td>\n",
       "      <td>0</td>\n",
       "      <td>0</td>\n",
       "      <td>0</td>\n",
       "      <td>1</td>\n",
       "      <td>0</td>\n",
       "      <td>0</td>\n",
       "      <td>0</td>\n",
       "      <td>0</td>\n",
       "      <td>0</td>\n",
       "      <td>0</td>\n",
       "      <td>0</td>\n",
       "      <td>1</td>\n",
       "      <td>0</td>\n",
       "      <td>0</td>\n",
       "      <td>0</td>\n",
       "      <td>0</td>\n",
       "      <td>0</td>\n",
       "      <td>0</td>\n",
       "      <td>1</td>\n",
       "      <td>0</td>\n",
       "      <td>0</td>\n",
       "      <td>0</td>\n",
       "      <td>1</td>\n",
       "      <td>0</td>\n",
       "      <td>0</td>\n",
       "      <td>0</td>\n",
       "      <td>0</td>\n",
       "      <td>0</td>\n",
       "      <td>0</td>\n",
       "      <td>0</td>\n",
       "      <td>0</td>\n",
       "      <td>1</td>\n",
       "      <td>0</td>\n",
       "      <td>1</td>\n",
       "      <td>0</td>\n",
       "    </tr>\n",
       "    <tr>\n",
       "      <th>28030</th>\n",
       "      <td>1.0</td>\n",
       "      <td>0.271605</td>\n",
       "      <td>0.121594</td>\n",
       "      <td>0.018182</td>\n",
       "      <td>1.0</td>\n",
       "      <td>0.285714</td>\n",
       "      <td>0.333333</td>\n",
       "      <td>0.340608</td>\n",
       "      <td>0.154812</td>\n",
       "      <td>0.192473</td>\n",
       "      <td>0.512287</td>\n",
       "      <td>0</td>\n",
       "      <td>0</td>\n",
       "      <td>0</td>\n",
       "      <td>0</td>\n",
       "      <td>0</td>\n",
       "      <td>0</td>\n",
       "      <td>1</td>\n",
       "      <td>0</td>\n",
       "      <td>0</td>\n",
       "      <td>0</td>\n",
       "      <td>0</td>\n",
       "      <td>1</td>\n",
       "      <td>0</td>\n",
       "      <td>0</td>\n",
       "      <td>0</td>\n",
       "      <td>0</td>\n",
       "      <td>1</td>\n",
       "      <td>0</td>\n",
       "      <td>0</td>\n",
       "      <td>0</td>\n",
       "      <td>0</td>\n",
       "      <td>0</td>\n",
       "      <td>0</td>\n",
       "      <td>0</td>\n",
       "      <td>0</td>\n",
       "      <td>0</td>\n",
       "      <td>0</td>\n",
       "      <td>0</td>\n",
       "      <td>0</td>\n",
       "      <td>0</td>\n",
       "      <td>0</td>\n",
       "      <td>0</td>\n",
       "      <td>0</td>\n",
       "      <td>0</td>\n",
       "      <td>0</td>\n",
       "      <td>0</td>\n",
       "      <td>0</td>\n",
       "      <td>0</td>\n",
       "      <td>1</td>\n",
       "      <td>0</td>\n",
       "      <td>0</td>\n",
       "      <td>0</td>\n",
       "      <td>0</td>\n",
       "    </tr>\n",
       "    <tr>\n",
       "      <th>15725</th>\n",
       "      <td>1.0</td>\n",
       "      <td>0.234568</td>\n",
       "      <td>0.173648</td>\n",
       "      <td>0.000000</td>\n",
       "      <td>1.0</td>\n",
       "      <td>0.000000</td>\n",
       "      <td>1.000000</td>\n",
       "      <td>0.669135</td>\n",
       "      <td>0.338912</td>\n",
       "      <td>0.980730</td>\n",
       "      <td>1.000000</td>\n",
       "      <td>0</td>\n",
       "      <td>0</td>\n",
       "      <td>0</td>\n",
       "      <td>0</td>\n",
       "      <td>0</td>\n",
       "      <td>0</td>\n",
       "      <td>0</td>\n",
       "      <td>0</td>\n",
       "      <td>1</td>\n",
       "      <td>0</td>\n",
       "      <td>0</td>\n",
       "      <td>1</td>\n",
       "      <td>0</td>\n",
       "      <td>0</td>\n",
       "      <td>0</td>\n",
       "      <td>0</td>\n",
       "      <td>0</td>\n",
       "      <td>0</td>\n",
       "      <td>0</td>\n",
       "      <td>0</td>\n",
       "      <td>0</td>\n",
       "      <td>0</td>\n",
       "      <td>0</td>\n",
       "      <td>0</td>\n",
       "      <td>0</td>\n",
       "      <td>0</td>\n",
       "      <td>0</td>\n",
       "      <td>0</td>\n",
       "      <td>0</td>\n",
       "      <td>0</td>\n",
       "      <td>1</td>\n",
       "      <td>0</td>\n",
       "      <td>0</td>\n",
       "      <td>0</td>\n",
       "      <td>0</td>\n",
       "      <td>0</td>\n",
       "      <td>0</td>\n",
       "      <td>1</td>\n",
       "      <td>0</td>\n",
       "      <td>0</td>\n",
       "      <td>0</td>\n",
       "      <td>1</td>\n",
       "      <td>0</td>\n",
       "    </tr>\n",
       "  </tbody>\n",
       "</table>\n",
       "<p>37069 rows × 54 columns</p>\n",
       "</div>"
      ],
      "text/plain": [
       "       const       age  duration  campaign  pdays  previous  emp.var.rate  \\\n",
       "27567    1.0  0.444444  0.144571  0.018182    1.0  0.000000      0.687500   \n",
       "17288    1.0  0.308642  0.025620  0.036364    1.0  0.000000      1.000000   \n",
       "36426    1.0  0.370370  0.044937  0.000000    1.0  0.000000      0.104167   \n",
       "4230     1.0  0.432099  0.028467  0.000000    1.0  0.000000      0.937500   \n",
       "29659    1.0  0.432099  0.019317  0.018182    1.0  0.000000      0.333333   \n",
       "...      ...       ...       ...       ...    ...       ...           ...   \n",
       "7763     1.0  0.111111  0.014640  0.036364    1.0  0.000000      1.000000   \n",
       "15377    1.0  0.320988  0.045954  0.000000    1.0  0.000000      1.000000   \n",
       "17730    1.0  0.456790  0.044327  0.000000    1.0  0.000000      1.000000   \n",
       "28030    1.0  0.271605  0.121594  0.018182    1.0  0.285714      0.333333   \n",
       "15725    1.0  0.234568  0.173648  0.000000    1.0  0.000000      1.000000   \n",
       "\n",
       "       cons.price.idx  cons.conf.idx  euribor3m  nr.employed  job_blue-collar  \\\n",
       "27567        0.389322       0.368201   0.767853     0.877883                0   \n",
       "17288        0.669135       0.338912   0.981183     1.000000                0   \n",
       "36426        0.296960       0.418410   0.142371     0.425709                0   \n",
       "4230         0.698753       0.602510   0.957153     0.859735                0   \n",
       "29659        0.340608       0.154812   0.174790     0.512287                0   \n",
       "...               ...            ...        ...          ...              ...   \n",
       "7763         0.882307       0.376569   0.959193     1.000000                0   \n",
       "15377        0.669135       0.338912   0.980050     1.000000                1   \n",
       "17730        0.669135       0.338912   0.980957     1.000000                0   \n",
       "28030        0.340608       0.154812   0.192473     0.512287                0   \n",
       "15725        0.669135       0.338912   0.980730     1.000000                0   \n",
       "\n",
       "       job_entrepreneur  job_housemaid  job_management  job_retired  \\\n",
       "27567                 0              0               0            1   \n",
       "17288                 0              0               0            0   \n",
       "36426                 0              0               0            0   \n",
       "4230                  0              0               0            0   \n",
       "29659                 0              0               0            0   \n",
       "...                 ...            ...             ...          ...   \n",
       "7763                  0              0               1            0   \n",
       "15377                 0              0               0            0   \n",
       "17730                 0              0               1            0   \n",
       "28030                 0              0               0            0   \n",
       "15725                 0              0               0            0   \n",
       "\n",
       "       job_self-employed  job_services  job_student  job_technician  \\\n",
       "27567                  0             0            0               0   \n",
       "17288                  1             0            0               0   \n",
       "36426                  0             0            0               1   \n",
       "4230                   0             1            0               0   \n",
       "29659                  0             0            0               0   \n",
       "...                  ...           ...          ...             ...   \n",
       "7763                   0             0            0               0   \n",
       "15377                  0             0            0               0   \n",
       "17730                  0             0            0               0   \n",
       "28030                  0             1            0               0   \n",
       "15725                  0             0            0               1   \n",
       "\n",
       "       job_unemployed  job_unknown  marital_married  marital_single  \\\n",
       "27567               0            0                1               0   \n",
       "17288               0            0                1               0   \n",
       "36426               0            0                0               0   \n",
       "4230                0            0                1               0   \n",
       "29659               0            0                1               0   \n",
       "...               ...          ...              ...             ...   \n",
       "7763                0            0                0               1   \n",
       "15377               0            0                1               0   \n",
       "17730               0            0                1               0   \n",
       "28030               0            0                1               0   \n",
       "15725               0            0                1               0   \n",
       "\n",
       "       marital_unknown  education_basic.6y  education_basic.9y  \\\n",
       "27567                0                   0                   0   \n",
       "17288                0                   0                   0   \n",
       "36426                0                   0                   0   \n",
       "4230                 0                   0                   0   \n",
       "29659                0                   0                   0   \n",
       "...                ...                 ...                 ...   \n",
       "7763                 0                   0                   0   \n",
       "15377                0                   0                   1   \n",
       "17730                0                   0                   0   \n",
       "28030                0                   0                   0   \n",
       "15725                0                   0                   0   \n",
       "\n",
       "       education_high.school  education_illiterate  \\\n",
       "27567                      1                     0   \n",
       "17288                      0                     0   \n",
       "36426                      1                     0   \n",
       "4230                       1                     0   \n",
       "29659                      0                     0   \n",
       "...                      ...                   ...   \n",
       "7763                       0                     0   \n",
       "15377                      0                     0   \n",
       "17730                      0                     0   \n",
       "28030                      1                     0   \n",
       "15725                      0                     0   \n",
       "\n",
       "       education_professional.course  education_university.degree  \\\n",
       "27567                              0                            0   \n",
       "17288                              0                            0   \n",
       "36426                              0                            0   \n",
       "4230                               0                            0   \n",
       "29659                              0                            1   \n",
       "...                              ...                          ...   \n",
       "7763                               0                            1   \n",
       "15377                              0                            0   \n",
       "17730                              0                            1   \n",
       "28030                              0                            0   \n",
       "15725                              0                            0   \n",
       "\n",
       "       education_unknown  default_unknown  default_yes  housing_unknown  \\\n",
       "27567                  0                0            0                0   \n",
       "17288                  0                1            0                0   \n",
       "36426                  0                0            0                0   \n",
       "4230                   0                1            0                0   \n",
       "29659                  0                0            0                0   \n",
       "...                  ...              ...          ...              ...   \n",
       "7763                   0                0            0                0   \n",
       "15377                  0                0            0                0   \n",
       "17730                  0                0            0                0   \n",
       "28030                  0                0            0                0   \n",
       "15725                  0                0            0                0   \n",
       "\n",
       "       housing_yes  loan_unknown  loan_yes  contact_telephone  month_aug  \\\n",
       "27567            1             0         0                  0          0   \n",
       "17288            1             0         0                  0          0   \n",
       "36426            1             0         0                  0          0   \n",
       "4230             1             0         0                  1          0   \n",
       "29659            1             0         0                  0          0   \n",
       "...            ...           ...       ...                ...        ...   \n",
       "7763             0             0         0                  1          0   \n",
       "15377            1             0         0                  0          0   \n",
       "17730            0             0         1                  0          0   \n",
       "28030            0             0         0                  0          0   \n",
       "15725            0             0         0                  0          0   \n",
       "\n",
       "       month_dec  month_jul  month_jun  month_mar  month_may  month_nov  \\\n",
       "27567          0          0          0          0          0          1   \n",
       "17288          0          1          0          0          0          0   \n",
       "36426          0          0          1          0          0          0   \n",
       "4230           0          0          0          0          1          0   \n",
       "29659          0          0          0          0          0          0   \n",
       "...          ...        ...        ...        ...        ...        ...   \n",
       "7763           0          0          1          0          0          0   \n",
       "15377          0          1          0          0          0          0   \n",
       "17730          0          1          0          0          0          0   \n",
       "28030          0          0          0          0          0          0   \n",
       "15725          0          1          0          0          0          0   \n",
       "\n",
       "       month_oct  month_sep  day_of_week_mon  day_of_week_thu  \\\n",
       "27567          0          0                0                0   \n",
       "17288          0          0                0                0   \n",
       "36426          0          0                0                0   \n",
       "4230           0          0                0                0   \n",
       "29659          0          0                1                0   \n",
       "...          ...        ...              ...              ...   \n",
       "7763           0          0                1                0   \n",
       "15377          0          0                0                0   \n",
       "17730          0          0                0                0   \n",
       "28030          0          0                0                1   \n",
       "15725          0          0                1                0   \n",
       "\n",
       "       day_of_week_tue  day_of_week_wed  poutcome_nonexistent  \\\n",
       "27567                0                0                     1   \n",
       "17288                0                0                     1   \n",
       "36426                1                0                     1   \n",
       "4230                 1                0                     1   \n",
       "29659                0                0                     1   \n",
       "...                ...              ...                   ...   \n",
       "7763                 0                0                     1   \n",
       "15377                0                0                     1   \n",
       "17730                1                0                     1   \n",
       "28030                0                0                     0   \n",
       "15725                0                0                     1   \n",
       "\n",
       "       poutcome_success  \n",
       "27567                 0  \n",
       "17288                 0  \n",
       "36426                 0  \n",
       "4230                  0  \n",
       "29659                 0  \n",
       "...                 ...  \n",
       "7763                  0  \n",
       "15377                 0  \n",
       "17730                 0  \n",
       "28030                 0  \n",
       "15725                 0  \n",
       "\n",
       "[37069 rows x 54 columns]"
      ]
     },
     "execution_count": 287,
     "metadata": {},
     "output_type": "execute_result"
    }
   ],
   "source": [
    "X_train"
   ]
  },
  {
   "cell_type": "code",
   "execution_count": 288,
   "metadata": {},
   "outputs": [
    {
     "data": {
      "text/plain": [
       "27567    0\n",
       "17288    0\n",
       "36426    0\n",
       "4230     0\n",
       "29659    0\n",
       "        ..\n",
       "7763     0\n",
       "15377    0\n",
       "17730    0\n",
       "28030    0\n",
       "15725    1\n",
       "Name: y, Length: 37069, dtype: int64"
      ]
     },
     "execution_count": 288,
     "metadata": {},
     "output_type": "execute_result"
    }
   ],
   "source": [
    "y_train"
   ]
  },
  {
   "cell_type": "code",
   "execution_count": 289,
   "metadata": {
    "scrolled": true
   },
   "outputs": [
    {
     "name": "stdout",
     "output_type": "stream",
     "text": [
      "Warning: Maximum number of iterations has been exceeded.\n",
      "         Current function value: 0.208488\n",
      "         Iterations: 35\n"
     ]
    },
    {
     "name": "stderr",
     "output_type": "stream",
     "text": [
      "C:\\ProgramData\\Anaconda3\\lib\\site-packages\\statsmodels\\base\\model.py:567: ConvergenceWarning: Maximum Likelihood optimization failed to converge. Check mle_retvals\n",
      "  warn(\"Maximum Likelihood optimization failed to converge. \"\n"
     ]
    }
   ],
   "source": [
    "model = sm.Logit(y_train,X_train).fit()"
   ]
  },
  {
   "cell_type": "code",
   "execution_count": 290,
   "metadata": {},
   "outputs": [
    {
     "name": "stderr",
     "output_type": "stream",
     "text": [
      "C:\\ProgramData\\Anaconda3\\lib\\site-packages\\statsmodels\\base\\model.py:1354: RuntimeWarning: invalid value encountered in sqrt\n",
      "  bse_ = np.sqrt(np.diag(self.cov_params()))\n",
      "C:\\ProgramData\\Anaconda3\\lib\\site-packages\\scipy\\stats\\_distn_infrastructure.py:1932: RuntimeWarning: invalid value encountered in less_equal\n",
      "  cond2 = cond0 & (x <= _a)\n"
     ]
    },
    {
     "data": {
      "text/html": [
       "<table class=\"simpletable\">\n",
       "<caption>Logit Regression Results</caption>\n",
       "<tr>\n",
       "  <th>Dep. Variable:</th>           <td>y</td>        <th>  No. Observations:  </th>  <td> 37069</td> \n",
       "</tr>\n",
       "<tr>\n",
       "  <th>Model:</th>                 <td>Logit</td>      <th>  Df Residuals:      </th>  <td> 37016</td> \n",
       "</tr>\n",
       "<tr>\n",
       "  <th>Method:</th>                 <td>MLE</td>       <th>  Df Model:          </th>  <td>    52</td> \n",
       "</tr>\n",
       "<tr>\n",
       "  <th>Date:</th>            <td>Sun, 21 Feb 2021</td> <th>  Pseudo R-squ.:     </th>  <td>0.4092</td> \n",
       "</tr>\n",
       "<tr>\n",
       "  <th>Time:</th>                <td>22:28:20</td>     <th>  Log-Likelihood:    </th> <td> -7728.4</td>\n",
       "</tr>\n",
       "<tr>\n",
       "  <th>converged:</th>             <td>False</td>      <th>  LL-Null:           </th> <td> -13082.</td>\n",
       "</tr>\n",
       "<tr>\n",
       "  <th>Covariance Type:</th>     <td>nonrobust</td>    <th>  LLR p-value:       </th>  <td> 0.000</td> \n",
       "</tr>\n",
       "</table>\n",
       "<table class=\"simpletable\">\n",
       "<tr>\n",
       "                <td></td>                   <th>coef</th>     <th>std err</th>      <th>z</th>      <th>P>|z|</th>  <th>[0.025</th>    <th>0.975]</th>  \n",
       "</tr>\n",
       "<tr>\n",
       "  <th>const</th>                         <td>   -2.9844</td> <td>    0.558</td> <td>   -5.350</td> <td> 0.000</td> <td>   -4.078</td> <td>   -1.891</td>\n",
       "</tr>\n",
       "<tr>\n",
       "  <th>age</th>                           <td>    0.0397</td> <td>    0.189</td> <td>    0.210</td> <td> 0.833</td> <td>   -0.330</td> <td>    0.410</td>\n",
       "</tr>\n",
       "<tr>\n",
       "  <th>duration</th>                      <td>   22.8313</td> <td>    0.341</td> <td>   66.979</td> <td> 0.000</td> <td>   22.163</td> <td>   23.499</td>\n",
       "</tr>\n",
       "<tr>\n",
       "  <th>campaign</th>                      <td>   -2.1529</td> <td>    0.638</td> <td>   -3.375</td> <td> 0.001</td> <td>   -3.403</td> <td>   -0.903</td>\n",
       "</tr>\n",
       "<tr>\n",
       "  <th>pdays</th>                         <td>   -0.9125</td> <td>    0.220</td> <td>   -4.147</td> <td> 0.000</td> <td>   -1.344</td> <td>   -0.481</td>\n",
       "</tr>\n",
       "<tr>\n",
       "  <th>previous</th>                      <td>   -0.3705</td> <td>    0.427</td> <td>   -0.868</td> <td> 0.385</td> <td>   -1.207</td> <td>    0.466</td>\n",
       "</tr>\n",
       "<tr>\n",
       "  <th>emp.var.rate</th>                  <td>   -8.7887</td> <td>    0.848</td> <td>  -10.365</td> <td> 0.000</td> <td>  -10.451</td> <td>   -7.127</td>\n",
       "</tr>\n",
       "<tr>\n",
       "  <th>cons.price.idx</th>                <td>    6.0216</td> <td>    0.911</td> <td>    6.611</td> <td> 0.000</td> <td>    4.236</td> <td>    7.807</td>\n",
       "</tr>\n",
       "<tr>\n",
       "  <th>cons.conf.idx</th>                 <td>    0.5587</td> <td>    0.197</td> <td>    2.842</td> <td> 0.004</td> <td>    0.173</td> <td>    0.944</td>\n",
       "</tr>\n",
       "<tr>\n",
       "  <th>euribor3m</th>                     <td>    1.2512</td> <td>    0.624</td> <td>    2.006</td> <td> 0.045</td> <td>    0.028</td> <td>    2.474</td>\n",
       "</tr>\n",
       "<tr>\n",
       "  <th>nr.employed</th>                   <td>    1.9362</td> <td>    0.985</td> <td>    1.966</td> <td> 0.049</td> <td>    0.006</td> <td>    3.866</td>\n",
       "</tr>\n",
       "<tr>\n",
       "  <th>job_blue-collar</th>               <td>   -0.2809</td> <td>    0.082</td> <td>   -3.410</td> <td> 0.001</td> <td>   -0.442</td> <td>   -0.119</td>\n",
       "</tr>\n",
       "<tr>\n",
       "  <th>job_entrepreneur</th>              <td>   -0.1874</td> <td>    0.131</td> <td>   -1.426</td> <td> 0.154</td> <td>   -0.445</td> <td>    0.070</td>\n",
       "</tr>\n",
       "<tr>\n",
       "  <th>job_housemaid</th>                 <td>   -0.0506</td> <td>    0.157</td> <td>   -0.323</td> <td> 0.747</td> <td>   -0.358</td> <td>    0.257</td>\n",
       "</tr>\n",
       "<tr>\n",
       "  <th>job_management</th>                <td>   -0.0843</td> <td>    0.090</td> <td>   -0.932</td> <td> 0.351</td> <td>   -0.261</td> <td>    0.093</td>\n",
       "</tr>\n",
       "<tr>\n",
       "  <th>job_retired</th>                   <td>    0.2754</td> <td>    0.106</td> <td>    2.607</td> <td> 0.009</td> <td>    0.068</td> <td>    0.482</td>\n",
       "</tr>\n",
       "<tr>\n",
       "  <th>job_self-employed</th>             <td>   -0.1351</td> <td>    0.122</td> <td>   -1.109</td> <td> 0.268</td> <td>   -0.374</td> <td>    0.104</td>\n",
       "</tr>\n",
       "<tr>\n",
       "  <th>job_services</th>                  <td>   -0.1602</td> <td>    0.085</td> <td>   -1.890</td> <td> 0.059</td> <td>   -0.326</td> <td>    0.006</td>\n",
       "</tr>\n",
       "<tr>\n",
       "  <th>job_student</th>                   <td>    0.2171</td> <td>    0.111</td> <td>    1.951</td> <td> 0.051</td> <td>   -0.001</td> <td>    0.435</td>\n",
       "</tr>\n",
       "<tr>\n",
       "  <th>job_technician</th>                <td>    0.0017</td> <td>    0.074</td> <td>    0.023</td> <td> 0.982</td> <td>   -0.143</td> <td>    0.147</td>\n",
       "</tr>\n",
       "<tr>\n",
       "  <th>job_unemployed</th>                <td>    0.0017</td> <td>    0.134</td> <td>    0.013</td> <td> 0.990</td> <td>   -0.261</td> <td>    0.264</td>\n",
       "</tr>\n",
       "<tr>\n",
       "  <th>job_unknown</th>                   <td>   -0.0215</td> <td>    0.245</td> <td>   -0.088</td> <td> 0.930</td> <td>   -0.501</td> <td>    0.458</td>\n",
       "</tr>\n",
       "<tr>\n",
       "  <th>marital_married</th>               <td>    0.0228</td> <td>    0.073</td> <td>    0.313</td> <td> 0.754</td> <td>   -0.120</td> <td>    0.166</td>\n",
       "</tr>\n",
       "<tr>\n",
       "  <th>marital_single</th>                <td>    0.1094</td> <td>    0.073</td> <td>    1.499</td> <td> 0.134</td> <td>   -0.034</td> <td>    0.253</td>\n",
       "</tr>\n",
       "<tr>\n",
       "  <th>marital_unknown</th>               <td>    0.0869</td> <td>    0.418</td> <td>    0.208</td> <td> 0.835</td> <td>   -0.732</td> <td>    0.906</td>\n",
       "</tr>\n",
       "<tr>\n",
       "  <th>education_basic.6y</th>            <td>    0.2339</td> <td>    0.127</td> <td>    1.840</td> <td> 0.066</td> <td>   -0.015</td> <td>    0.483</td>\n",
       "</tr>\n",
       "<tr>\n",
       "  <th>education_basic.9y</th>            <td>    0.0252</td> <td>    0.108</td> <td>    0.234</td> <td> 0.815</td> <td>   -0.187</td> <td>    0.237</td>\n",
       "</tr>\n",
       "<tr>\n",
       "  <th>education_high.school</th>         <td>    0.0648</td> <td>    0.097</td> <td>    0.666</td> <td> 0.505</td> <td>   -0.126</td> <td>    0.255</td>\n",
       "</tr>\n",
       "<tr>\n",
       "  <th>education_illiterate</th>          <td>    1.2037</td> <td>    0.778</td> <td>    1.547</td> <td> 0.122</td> <td>   -0.321</td> <td>    2.729</td>\n",
       "</tr>\n",
       "<tr>\n",
       "  <th>education_professional.course</th> <td>    0.1478</td> <td>    0.107</td> <td>    1.381</td> <td> 0.167</td> <td>   -0.062</td> <td>    0.358</td>\n",
       "</tr>\n",
       "<tr>\n",
       "  <th>education_university.degree</th>   <td>    0.2088</td> <td>    0.097</td> <td>    2.142</td> <td> 0.032</td> <td>    0.018</td> <td>    0.400</td>\n",
       "</tr>\n",
       "<tr>\n",
       "  <th>education_unknown</th>             <td>    0.1245</td> <td>    0.128</td> <td>    0.976</td> <td> 0.329</td> <td>   -0.126</td> <td>    0.375</td>\n",
       "</tr>\n",
       "<tr>\n",
       "  <th>default_unknown</th>               <td>   -0.2937</td> <td>    0.073</td> <td>   -4.029</td> <td> 0.000</td> <td>   -0.436</td> <td>   -0.151</td>\n",
       "</tr>\n",
       "<tr>\n",
       "  <th>default_yes</th>                   <td>  -13.1381</td> <td> 3461.607</td> <td>   -0.004</td> <td> 0.997</td> <td>-6797.762</td> <td> 6771.486</td>\n",
       "</tr>\n",
       "<tr>\n",
       "  <th>housing_unknown</th>               <td>   -0.0844</td> <td>      nan</td> <td>      nan</td> <td>   nan</td> <td>      nan</td> <td>      nan</td>\n",
       "</tr>\n",
       "<tr>\n",
       "  <th>housing_yes</th>                   <td>    0.0032</td> <td>    0.043</td> <td>    0.075</td> <td> 0.941</td> <td>   -0.082</td> <td>    0.088</td>\n",
       "</tr>\n",
       "<tr>\n",
       "  <th>loan_unknown</th>                  <td>   -0.0844</td> <td>      nan</td> <td>      nan</td> <td>   nan</td> <td>      nan</td> <td>      nan</td>\n",
       "</tr>\n",
       "<tr>\n",
       "  <th>loan_yes</th>                      <td>   -0.0330</td> <td>    0.060</td> <td>   -0.547</td> <td> 0.584</td> <td>   -0.151</td> <td>    0.085</td>\n",
       "</tr>\n",
       "<tr>\n",
       "  <th>contact_telephone</th>             <td>   -0.6119</td> <td>    0.080</td> <td>   -7.634</td> <td> 0.000</td> <td>   -0.769</td> <td>   -0.455</td>\n",
       "</tr>\n",
       "<tr>\n",
       "  <th>month_aug</th>                     <td>    0.9070</td> <td>      nan</td> <td>      nan</td> <td>   nan</td> <td>      nan</td> <td>      nan</td>\n",
       "</tr>\n",
       "<tr>\n",
       "  <th>month_dec</th>                     <td>    0.3999</td> <td>    0.198</td> <td>    2.017</td> <td> 0.044</td> <td>    0.011</td> <td>    0.788</td>\n",
       "</tr>\n",
       "<tr>\n",
       "  <th>month_jul</th>                     <td>    0.1598</td> <td>      nan</td> <td>      nan</td> <td>   nan</td> <td>      nan</td> <td>      nan</td>\n",
       "</tr>\n",
       "<tr>\n",
       "  <th>month_jun</th>                     <td>   -0.5467</td> <td>    0.138</td> <td>   -3.948</td> <td> 0.000</td> <td>   -0.818</td> <td>   -0.275</td>\n",
       "</tr>\n",
       "<tr>\n",
       "  <th>month_mar</th>                     <td>    2.0032</td> <td>    0.170</td> <td>   11.770</td> <td> 0.000</td> <td>    1.670</td> <td>    2.337</td>\n",
       "</tr>\n",
       "<tr>\n",
       "  <th>month_may</th>                     <td>   -0.4079</td> <td>    0.048</td> <td>   -8.581</td> <td> 0.000</td> <td>   -0.501</td> <td>   -0.315</td>\n",
       "</tr>\n",
       "<tr>\n",
       "  <th>month_nov</th>                     <td>   -0.3745</td> <td>    0.075</td> <td>   -4.995</td> <td> 0.000</td> <td>   -0.521</td> <td>   -0.228</td>\n",
       "</tr>\n",
       "<tr>\n",
       "  <th>month_oct</th>                     <td>    0.2573</td> <td>    0.124</td> <td>    2.069</td> <td> 0.039</td> <td>    0.014</td> <td>    0.501</td>\n",
       "</tr>\n",
       "<tr>\n",
       "  <th>month_sep</th>                     <td>    0.4534</td> <td>    0.163</td> <td>    2.776</td> <td> 0.006</td> <td>    0.133</td> <td>    0.773</td>\n",
       "</tr>\n",
       "<tr>\n",
       "  <th>day_of_week_mon</th>               <td>   -0.1109</td> <td>    0.069</td> <td>   -1.595</td> <td> 0.111</td> <td>   -0.247</td> <td>    0.025</td>\n",
       "</tr>\n",
       "<tr>\n",
       "  <th>day_of_week_thu</th>               <td>    0.0576</td> <td>    0.067</td> <td>    0.855</td> <td> 0.393</td> <td>   -0.074</td> <td>    0.190</td>\n",
       "</tr>\n",
       "<tr>\n",
       "  <th>day_of_week_tue</th>               <td>    0.1034</td> <td>    0.069</td> <td>    1.495</td> <td> 0.135</td> <td>   -0.032</td> <td>    0.239</td>\n",
       "</tr>\n",
       "<tr>\n",
       "  <th>day_of_week_wed</th>               <td>    0.1737</td> <td>    0.069</td> <td>    2.521</td> <td> 0.012</td> <td>    0.039</td> <td>    0.309</td>\n",
       "</tr>\n",
       "<tr>\n",
       "  <th>poutcome_nonexistent</th>          <td>    0.4081</td> <td>    0.098</td> <td>    4.156</td> <td> 0.000</td> <td>    0.216</td> <td>    0.601</td>\n",
       "</tr>\n",
       "<tr>\n",
       "  <th>poutcome_success</th>              <td>    0.9585</td> <td>    0.220</td> <td>    4.356</td> <td> 0.000</td> <td>    0.527</td> <td>    1.390</td>\n",
       "</tr>\n",
       "</table>"
      ],
      "text/plain": [
       "<class 'statsmodels.iolib.summary.Summary'>\n",
       "\"\"\"\n",
       "                           Logit Regression Results                           \n",
       "==============================================================================\n",
       "Dep. Variable:                      y   No. Observations:                37069\n",
       "Model:                          Logit   Df Residuals:                    37016\n",
       "Method:                           MLE   Df Model:                           52\n",
       "Date:                Sun, 21 Feb 2021   Pseudo R-squ.:                  0.4092\n",
       "Time:                        22:28:20   Log-Likelihood:                -7728.4\n",
       "converged:                      False   LL-Null:                       -13082.\n",
       "Covariance Type:            nonrobust   LLR p-value:                     0.000\n",
       "=================================================================================================\n",
       "                                    coef    std err          z      P>|z|      [0.025      0.975]\n",
       "-------------------------------------------------------------------------------------------------\n",
       "const                            -2.9844      0.558     -5.350      0.000      -4.078      -1.891\n",
       "age                               0.0397      0.189      0.210      0.833      -0.330       0.410\n",
       "duration                         22.8313      0.341     66.979      0.000      22.163      23.499\n",
       "campaign                         -2.1529      0.638     -3.375      0.001      -3.403      -0.903\n",
       "pdays                            -0.9125      0.220     -4.147      0.000      -1.344      -0.481\n",
       "previous                         -0.3705      0.427     -0.868      0.385      -1.207       0.466\n",
       "emp.var.rate                     -8.7887      0.848    -10.365      0.000     -10.451      -7.127\n",
       "cons.price.idx                    6.0216      0.911      6.611      0.000       4.236       7.807\n",
       "cons.conf.idx                     0.5587      0.197      2.842      0.004       0.173       0.944\n",
       "euribor3m                         1.2512      0.624      2.006      0.045       0.028       2.474\n",
       "nr.employed                       1.9362      0.985      1.966      0.049       0.006       3.866\n",
       "job_blue-collar                  -0.2809      0.082     -3.410      0.001      -0.442      -0.119\n",
       "job_entrepreneur                 -0.1874      0.131     -1.426      0.154      -0.445       0.070\n",
       "job_housemaid                    -0.0506      0.157     -0.323      0.747      -0.358       0.257\n",
       "job_management                   -0.0843      0.090     -0.932      0.351      -0.261       0.093\n",
       "job_retired                       0.2754      0.106      2.607      0.009       0.068       0.482\n",
       "job_self-employed                -0.1351      0.122     -1.109      0.268      -0.374       0.104\n",
       "job_services                     -0.1602      0.085     -1.890      0.059      -0.326       0.006\n",
       "job_student                       0.2171      0.111      1.951      0.051      -0.001       0.435\n",
       "job_technician                    0.0017      0.074      0.023      0.982      -0.143       0.147\n",
       "job_unemployed                    0.0017      0.134      0.013      0.990      -0.261       0.264\n",
       "job_unknown                      -0.0215      0.245     -0.088      0.930      -0.501       0.458\n",
       "marital_married                   0.0228      0.073      0.313      0.754      -0.120       0.166\n",
       "marital_single                    0.1094      0.073      1.499      0.134      -0.034       0.253\n",
       "marital_unknown                   0.0869      0.418      0.208      0.835      -0.732       0.906\n",
       "education_basic.6y                0.2339      0.127      1.840      0.066      -0.015       0.483\n",
       "education_basic.9y                0.0252      0.108      0.234      0.815      -0.187       0.237\n",
       "education_high.school             0.0648      0.097      0.666      0.505      -0.126       0.255\n",
       "education_illiterate              1.2037      0.778      1.547      0.122      -0.321       2.729\n",
       "education_professional.course     0.1478      0.107      1.381      0.167      -0.062       0.358\n",
       "education_university.degree       0.2088      0.097      2.142      0.032       0.018       0.400\n",
       "education_unknown                 0.1245      0.128      0.976      0.329      -0.126       0.375\n",
       "default_unknown                  -0.2937      0.073     -4.029      0.000      -0.436      -0.151\n",
       "default_yes                     -13.1381   3461.607     -0.004      0.997   -6797.762    6771.486\n",
       "housing_unknown                  -0.0844        nan        nan        nan         nan         nan\n",
       "housing_yes                       0.0032      0.043      0.075      0.941      -0.082       0.088\n",
       "loan_unknown                     -0.0844        nan        nan        nan         nan         nan\n",
       "loan_yes                         -0.0330      0.060     -0.547      0.584      -0.151       0.085\n",
       "contact_telephone                -0.6119      0.080     -7.634      0.000      -0.769      -0.455\n",
       "month_aug                         0.9070        nan        nan        nan         nan         nan\n",
       "month_dec                         0.3999      0.198      2.017      0.044       0.011       0.788\n",
       "month_jul                         0.1598        nan        nan        nan         nan         nan\n",
       "month_jun                        -0.5467      0.138     -3.948      0.000      -0.818      -0.275\n",
       "month_mar                         2.0032      0.170     11.770      0.000       1.670       2.337\n",
       "month_may                        -0.4079      0.048     -8.581      0.000      -0.501      -0.315\n",
       "month_nov                        -0.3745      0.075     -4.995      0.000      -0.521      -0.228\n",
       "month_oct                         0.2573      0.124      2.069      0.039       0.014       0.501\n",
       "month_sep                         0.4534      0.163      2.776      0.006       0.133       0.773\n",
       "day_of_week_mon                  -0.1109      0.069     -1.595      0.111      -0.247       0.025\n",
       "day_of_week_thu                   0.0576      0.067      0.855      0.393      -0.074       0.190\n",
       "day_of_week_tue                   0.1034      0.069      1.495      0.135      -0.032       0.239\n",
       "day_of_week_wed                   0.1737      0.069      2.521      0.012       0.039       0.309\n",
       "poutcome_nonexistent              0.4081      0.098      4.156      0.000       0.216       0.601\n",
       "poutcome_success                  0.9585      0.220      4.356      0.000       0.527       1.390\n",
       "=================================================================================================\n",
       "\"\"\""
      ]
     },
     "execution_count": 290,
     "metadata": {},
     "output_type": "execute_result"
    }
   ],
   "source": [
    "model.summary()"
   ]
  },
  {
   "cell_type": "code",
   "execution_count": 291,
   "metadata": {},
   "outputs": [],
   "source": [
    "train_predict = model.predict(X_train)\n",
    "test_predict=y_pred = model.predict(X_test)"
   ]
  },
  {
   "cell_type": "code",
   "execution_count": 292,
   "metadata": {},
   "outputs": [],
   "source": [
    "train_predict = [0 if x <.5 else 1 for x in train_predict]\n",
    "test_predict = [0 if x <.5 else 1 for x in test_predict]"
   ]
  },
  {
   "cell_type": "code",
   "execution_count": 293,
   "metadata": {
    "scrolled": true
   },
   "outputs": [
    {
     "name": "stdout",
     "output_type": "stream",
     "text": [
      "[31989  2412   888  1780]\n"
     ]
    }
   ],
   "source": [
    "cm1 = confusion_matrix(train_predict,y_train)\n",
    "print(cm1.ravel())"
   ]
  },
  {
   "cell_type": "code",
   "execution_count": 294,
   "metadata": {},
   "outputs": [
    {
     "name": "stdout",
     "output_type": "stream",
     "text": [
      "[3581  266   90  182]\n"
     ]
    }
   ],
   "source": [
    "cm2 = confusion_matrix(test_predict,y_test)\n",
    "print(cm2.ravel())"
   ]
  },
  {
   "cell_type": "code",
   "execution_count": 295,
   "metadata": {},
   "outputs": [],
   "source": [
    "new_df=pd.DataFrame(data = cm1, columns= ['Predicted : 0','Predicted : 1'], index =['Actual : 0','Actual : 1'] )"
   ]
  },
  {
   "cell_type": "code",
   "execution_count": 296,
   "metadata": {},
   "outputs": [
    {
     "data": {
      "text/plain": [
       "<matplotlib.axes._subplots.AxesSubplot at 0x25882e170d0>"
      ]
     },
     "execution_count": 296,
     "metadata": {},
     "output_type": "execute_result"
    },
    {
     "data": {
      "image/png": "[encoded data removed]",
      "text/plain": [
       "<Figure size 1080x576 with 1 Axes>"
      ]
     },
     "metadata": {
      "needs_background": "light"
     },
     "output_type": "display_data"
    }
   ],
   "source": [
    "sns.heatmap(new_df,annot= True,linewidths =0.1,cbar=False)"
   ]
  },
  {
   "cell_type": "code",
   "execution_count": 297,
   "metadata": {},
   "outputs": [],
   "source": [
    "TN,FP,FN,TP= cm1.ravel()"
   ]
  },
  {
   "cell_type": "code",
   "execution_count": 298,
   "metadata": {},
   "outputs": [
    {
     "name": "stdout",
     "output_type": "stream",
     "text": [
      "0.6671664167916042\n"
     ]
    }
   ],
   "source": [
    "sensitivity = TP / (TP+FN)\n",
    "print(sensitivity)"
   ]
  },
  {
   "cell_type": "code",
   "execution_count": 299,
   "metadata": {},
   "outputs": [
    {
     "name": "stdout",
     "output_type": "stream",
     "text": [
      "0.9298857591349089\n"
     ]
    }
   ],
   "source": [
    "specificity = TN /(TN + FP)\n",
    "print(specificity)"
   ]
  },
  {
   "cell_type": "code",
   "execution_count": 300,
   "metadata": {},
   "outputs": [
    {
     "name": "stdout",
     "output_type": "stream",
     "text": [
      "0.42461832061068705\n"
     ]
    }
   ],
   "source": [
    "precision = TP / (TP+FP)\n",
    "print(precision)"
   ]
  },
  {
   "cell_type": "code",
   "execution_count": 301,
   "metadata": {},
   "outputs": [
    {
     "name": "stdout",
     "output_type": "stream",
     "text": [
      "0.5189504373177842\n"
     ]
    }
   ],
   "source": [
    "F1_score = (2 * precision * sensitivity)/(precision+sensitivity)\n",
    "print(F1_score)"
   ]
  },
  {
   "cell_type": "code",
   "execution_count": 302,
   "metadata": {},
   "outputs": [],
   "source": [
    "train_classification=classification_report(train_predict,y_train)\n"
   ]
  },
  {
   "cell_type": "code",
   "execution_count": 303,
   "metadata": {},
   "outputs": [
    {
     "name": "stdout",
     "output_type": "stream",
     "text": [
      "              precision    recall  f1-score   support\n",
      "\n",
      "           0       0.97      0.93      0.95     34401\n",
      "           1       0.42      0.67      0.52      2668\n",
      "\n",
      "    accuracy                           0.91     37069\n",
      "   macro avg       0.70      0.80      0.73     37069\n",
      "weighted avg       0.93      0.91      0.92     37069\n",
      "\n"
     ]
    }
   ],
   "source": [
    "print(train_classification)"
   ]
  },
  {
   "cell_type": "code",
   "execution_count": 304,
   "metadata": {},
   "outputs": [],
   "source": [
    "test_classification=classification_report(test_predict,y_test)"
   ]
  },
  {
   "cell_type": "code",
   "execution_count": 305,
   "metadata": {},
   "outputs": [
    {
     "name": "stdout",
     "output_type": "stream",
     "text": [
      "              precision    recall  f1-score   support\n",
      "\n",
      "           0       0.98      0.93      0.95      3847\n",
      "           1       0.41      0.67      0.51       272\n",
      "\n",
      "    accuracy                           0.91      4119\n",
      "   macro avg       0.69      0.80      0.73      4119\n",
      "weighted avg       0.94      0.91      0.92      4119\n",
      "\n"
     ]
    }
   ],
   "source": [
    "print(test_classification)"
   ]
  },
  {
   "cell_type": "code",
   "execution_count": 306,
   "metadata": {
    "scrolled": true
   },
   "outputs": [
    {
     "data": {
      "text/plain": [
       "Text(0.2, 0.95, '0.9402654006304239')"
      ]
     },
     "execution_count": 306,
     "metadata": {},
     "output_type": "execute_result"
    },
    {
     "data": {
      "image/png": "[encoded data removed]",
      "text/plain": [
       "<Figure size 1080x576 with 1 Axes>"
      ]
     },
     "metadata": {
      "needs_background": "light"
     },
     "output_type": "display_data"
    }
   ],
   "source": [
    "fpr,tpr,thresold = roc_curve(y_test,y_pred)\n",
    "auc = roc_auc_score(y_test,y_pred)\n",
    "plt.plot(fpr,tpr)\n",
    "plt.text(x=.2,y=.95,s=auc)"
   ]
  },
  {
   "cell_type": "markdown",
   "metadata": {},
   "source": [
    "# Some Other Methods to be implemented tomorrow :\n",
    "- SMOTE to create some more rows having less values\n",
    "- Try removing 'Unknown' with MV and then removing those MV which are effecting the Dataset\n",
    "- Try removing variables having High-correlation to ease the prediction\n",
    "- Try altering variables"
   ]
  },
  {
   "cell_type": "code",
   "execution_count": null,
   "metadata": {},
   "outputs": [],
   "source": []
  }
 ],
 "metadata": {
  "kernelspec": {
   "display_name": "Python 3",
   "language": "python",
   "name": "python3"
  },
  "language_info": {
   "codemirror_mode": {
    "name": "ipython",
    "version": 3
   },
   "file_extension": ".py",
   "mimetype": "text/x-python",
   "name": "python",
   "nbconvert_exporter": "python",
   "pygments_lexer": "ipython3",
   "version": "3.8.3"
  }
 },
 "nbformat": 4,
 "nbformat_minor": 4
}
